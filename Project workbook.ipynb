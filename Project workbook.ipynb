{
 "cells": [
  {
   "cell_type": "code",
   "execution_count": 2,
   "metadata": {
    "ExecuteTime": {
     "end_time": "2021-01-21T03:02:37.293359Z",
     "start_time": "2021-01-21T03:02:35.569679Z"
    }
   },
   "outputs": [],
   "source": [
    "import pandas as pd\n",
    "import numpy as np\n",
    "import seaborn as sns\n",
    "import matplotlib.pyplot as plt\n",
    "\n",
    "pd.set_option(\"display.max_columns\", 100)\n",
    "\n",
    "\n",
    "import pandas as pd\n",
    "import requests\n",
    "from xml.etree import ElementTree\n",
    "import numpy as np\n",
    "import folium\n",
    "\n",
    "import statsmodels.api as sm\n",
    "from statsmodels.formula.api import ols\n",
    "import statsmodels.formula as smf\n",
    "\n",
    "from sklearn.model_selection import train_test_split\n",
    "from sklearn.metrics import mean_squared_error\n",
    "import statsmodels\n",
    "from sklearn.metrics import r2_score\n",
    "from sklearn.linear_model import LinearRegression\n",
    "from sklearn.model_selection import cross_val_score\n",
    "from matplotlib.ticker import FuncFormatter"
   ]
  },
  {
   "cell_type": "code",
   "execution_count": 3,
   "metadata": {
    "ExecuteTime": {
     "end_time": "2021-01-21T03:02:37.404066Z",
     "start_time": "2021-01-21T03:02:37.316270Z"
    }
   },
   "outputs": [],
   "source": [
    "df = pd.read_csv('data/kc_house_data.csv')\n",
    "ogdf = pd.read_csv('data/kc_house_data.csv')"
   ]
  },
  {
   "cell_type": "markdown",
   "metadata": {
    "ExecuteTime": {
     "end_time": "2021-01-07T15:26:41.597965Z",
     "start_time": "2021-01-07T15:26:41.592972Z"
    }
   },
   "source": [
    "# Column Names and descriptions for Kings County Data Set\n",
    "* **id** - unique identified for a house\n",
    "* **dateDate** - house was sold\n",
    "* **pricePrice** -  is prediction target\n",
    "* **bedroomsNumber** -  of Bedrooms/House\n",
    "* **bathroomsNumber** -  of bathrooms/bedrooms\n",
    "* **sqft_livingsquare** -  footage of the home\n",
    "* **sqft_lotsquare** -  footage of the lot\n",
    "* **floorsTotal** -  floors (levels) in house\n",
    "* **waterfront** - House which has a view to a waterfront\n",
    "* **view** - Has been viewed\n",
    "* **condition** - How good the condition is ( Overall )\n",
    "* **grade** - overall grade given to the housing unit, based on King County grading system\n",
    "* **sqft_above** - square footage of house apart from basement\n",
    "* **sqft_basement** - square footage of the basement\n",
    "* **yr_built** - Built Year\n",
    "* **yr_renovated** - Year when house was renovated\n",
    "* **zipcode** - zip\n",
    "* **lat** - Latitude coordinate\n",
    "* **long** - Longitude coordinate\n",
    "* **sqft_living15** - The square footage of interior housing living space for the nearest 15 neighbors\n",
    "* **sqft_lot15** - The square footage of the land lots of the nearest 15 neighbors"
   ]
  },
  {
   "cell_type": "code",
   "execution_count": 4,
   "metadata": {
    "ExecuteTime": {
     "end_time": "2021-01-21T03:02:37.540694Z",
     "start_time": "2021-01-21T03:02:37.530697Z"
    }
   },
   "outputs": [
    {
     "name": "stdout",
     "output_type": "stream",
     "text": [
      "<class 'pandas.core.frame.DataFrame'>\n",
      "RangeIndex: 21597 entries, 0 to 21596\n",
      "Data columns (total 21 columns):\n",
      " #   Column         Non-Null Count  Dtype  \n",
      "---  ------         --------------  -----  \n",
      " 0   id             21597 non-null  int64  \n",
      " 1   date           21597 non-null  object \n",
      " 2   price          21597 non-null  float64\n",
      " 3   bedrooms       21597 non-null  int64  \n",
      " 4   bathrooms      21597 non-null  float64\n",
      " 5   sqft_living    21597 non-null  int64  \n",
      " 6   sqft_lot       21597 non-null  int64  \n",
      " 7   floors         21597 non-null  float64\n",
      " 8   waterfront     19221 non-null  float64\n",
      " 9   view           21534 non-null  float64\n",
      " 10  condition      21597 non-null  int64  \n",
      " 11  grade          21597 non-null  int64  \n",
      " 12  sqft_above     21597 non-null  int64  \n",
      " 13  sqft_basement  21597 non-null  object \n",
      " 14  yr_built       21597 non-null  int64  \n",
      " 15  yr_renovated   17755 non-null  float64\n",
      " 16  zipcode        21597 non-null  int64  \n",
      " 17  lat            21597 non-null  float64\n",
      " 18  long           21597 non-null  float64\n",
      " 19  sqft_living15  21597 non-null  int64  \n",
      " 20  sqft_lot15     21597 non-null  int64  \n",
      "dtypes: float64(8), int64(11), object(2)\n",
      "memory usage: 3.5+ MB\n"
     ]
    }
   ],
   "source": [
    "df.info()"
   ]
  },
  {
   "cell_type": "code",
   "execution_count": 5,
   "metadata": {
    "ExecuteTime": {
     "end_time": "2021-01-21T03:02:37.676307Z",
     "start_time": "2021-01-21T03:02:37.667331Z"
    }
   },
   "outputs": [
    {
     "data": {
      "text/plain": [
       "id                  0\n",
       "date                0\n",
       "price               0\n",
       "bedrooms            0\n",
       "bathrooms           0\n",
       "sqft_living         0\n",
       "sqft_lot            0\n",
       "floors              0\n",
       "waterfront       2376\n",
       "view               63\n",
       "condition           0\n",
       "grade               0\n",
       "sqft_above          0\n",
       "sqft_basement       0\n",
       "yr_built            0\n",
       "yr_renovated     3842\n",
       "zipcode             0\n",
       "lat                 0\n",
       "long                0\n",
       "sqft_living15       0\n",
       "sqft_lot15          0\n",
       "dtype: int64"
      ]
     },
     "execution_count": 5,
     "metadata": {},
     "output_type": "execute_result"
    }
   ],
   "source": [
    "df.isna().sum()"
   ]
  },
  {
   "cell_type": "markdown",
   "metadata": {},
   "source": [
    "Getting rid of correlated independent variables"
   ]
  },
  {
   "cell_type": "code",
   "execution_count": 6,
   "metadata": {
    "ExecuteTime": {
     "end_time": "2021-01-21T03:02:37.833920Z",
     "start_time": "2021-01-21T03:02:37.804964Z"
    }
   },
   "outputs": [],
   "source": [
    "test = df.corr().abs().stack().reset_index().sort_values(0,ascending=False)\n",
    "test['pairs'] = list(zip(test.level_0,test.level_1))\n",
    "test.set_index(['pairs'], inplace=True)\n",
    "test.drop(columns=['level_1','level_0'], inplace=True)\n",
    "test.columns = ['cc']\n",
    "test.drop_duplicates(inplace=True)"
   ]
  },
  {
   "cell_type": "code",
   "execution_count": 7,
   "metadata": {
    "ExecuteTime": {
     "end_time": "2021-01-21T03:02:37.987505Z",
     "start_time": "2021-01-21T03:02:37.973516Z"
    }
   },
   "outputs": [
    {
     "data": {
      "text/html": [
       "<div>\n",
       "<style scoped>\n",
       "    .dataframe tbody tr th:only-of-type {\n",
       "        vertical-align: middle;\n",
       "    }\n",
       "\n",
       "    .dataframe tbody tr th {\n",
       "        vertical-align: top;\n",
       "    }\n",
       "\n",
       "    .dataframe thead th {\n",
       "        text-align: right;\n",
       "    }\n",
       "</style>\n",
       "<table border=\"1\" class=\"dataframe\">\n",
       "  <thead>\n",
       "    <tr style=\"text-align: right;\">\n",
       "      <th></th>\n",
       "      <th>cc</th>\n",
       "    </tr>\n",
       "    <tr>\n",
       "      <th>pairs</th>\n",
       "      <th></th>\n",
       "    </tr>\n",
       "  </thead>\n",
       "  <tbody>\n",
       "    <tr>\n",
       "      <th>(id, id)</th>\n",
       "      <td>1.000000</td>\n",
       "    </tr>\n",
       "    <tr>\n",
       "      <th>(sqft_living, sqft_above)</th>\n",
       "      <td>0.876448</td>\n",
       "    </tr>\n",
       "    <tr>\n",
       "      <th>(grade, sqft_living)</th>\n",
       "      <td>0.762779</td>\n",
       "    </tr>\n",
       "    <tr>\n",
       "      <th>(sqft_living, sqft_living15)</th>\n",
       "      <td>0.756402</td>\n",
       "    </tr>\n",
       "    <tr>\n",
       "      <th>(sqft_above, grade)</th>\n",
       "      <td>0.756073</td>\n",
       "    </tr>\n",
       "    <tr>\n",
       "      <th>(sqft_living, bathrooms)</th>\n",
       "      <td>0.755758</td>\n",
       "    </tr>\n",
       "  </tbody>\n",
       "</table>\n",
       "</div>"
      ],
      "text/plain": [
       "                                    cc\n",
       "pairs                                 \n",
       "(id, id)                      1.000000\n",
       "(sqft_living, sqft_above)     0.876448\n",
       "(grade, sqft_living)          0.762779\n",
       "(sqft_living, sqft_living15)  0.756402\n",
       "(sqft_above, grade)           0.756073\n",
       "(sqft_living, bathrooms)      0.755758"
      ]
     },
     "execution_count": 7,
     "metadata": {},
     "output_type": "execute_result"
    }
   ],
   "source": [
    "test.sort_values('cc',ascending=False, inplace=True)\n",
    "test[test.cc >.75]"
   ]
  },
  {
   "cell_type": "code",
   "execution_count": 8,
   "metadata": {
    "ExecuteTime": {
     "end_time": "2021-01-21T03:02:38.135109Z",
     "start_time": "2021-01-21T03:02:38.126106Z"
    }
   },
   "outputs": [],
   "source": [
    "#dropping sqft above due to correlation with sqft living\n",
    "df.drop(columns=[\"sqft_above\"], inplace= True)\n",
    "ogdf.drop(columns=[\"sqft_above\"], inplace= True)"
   ]
  },
  {
   "cell_type": "code",
   "execution_count": 9,
   "metadata": {
    "ExecuteTime": {
     "end_time": "2021-01-21T03:02:38.275734Z",
     "start_time": "2021-01-21T03:02:38.271715Z"
    }
   },
   "outputs": [],
   "source": [
    "df.reset_index(inplace=True)"
   ]
  },
  {
   "cell_type": "code",
   "execution_count": 10,
   "metadata": {
    "ExecuteTime": {
     "end_time": "2021-01-21T03:02:38.426331Z",
     "start_time": "2021-01-21T03:02:38.417326Z"
    }
   },
   "outputs": [],
   "source": [
    "df.drop('index',axis=1,inplace=True)"
   ]
  },
  {
   "cell_type": "code",
   "execution_count": 11,
   "metadata": {
    "ExecuteTime": {
     "end_time": "2021-01-21T03:02:38.570949Z",
     "start_time": "2021-01-21T03:02:38.561940Z"
    }
   },
   "outputs": [
    {
     "name": "stdout",
     "output_type": "stream",
     "text": [
      "<class 'pandas.core.frame.DataFrame'>\n",
      "RangeIndex: 21597 entries, 0 to 21596\n",
      "Data columns (total 20 columns):\n",
      " #   Column         Non-Null Count  Dtype  \n",
      "---  ------         --------------  -----  \n",
      " 0   id             21597 non-null  int64  \n",
      " 1   date           21597 non-null  object \n",
      " 2   price          21597 non-null  float64\n",
      " 3   bedrooms       21597 non-null  int64  \n",
      " 4   bathrooms      21597 non-null  float64\n",
      " 5   sqft_living    21597 non-null  int64  \n",
      " 6   sqft_lot       21597 non-null  int64  \n",
      " 7   floors         21597 non-null  float64\n",
      " 8   waterfront     19221 non-null  float64\n",
      " 9   view           21534 non-null  float64\n",
      " 10  condition      21597 non-null  int64  \n",
      " 11  grade          21597 non-null  int64  \n",
      " 12  sqft_basement  21597 non-null  object \n",
      " 13  yr_built       21597 non-null  int64  \n",
      " 14  yr_renovated   17755 non-null  float64\n",
      " 15  zipcode        21597 non-null  int64  \n",
      " 16  lat            21597 non-null  float64\n",
      " 17  long           21597 non-null  float64\n",
      " 18  sqft_living15  21597 non-null  int64  \n",
      " 19  sqft_lot15     21597 non-null  int64  \n",
      "dtypes: float64(8), int64(10), object(2)\n",
      "memory usage: 3.3+ MB\n"
     ]
    }
   ],
   "source": [
    "df.info()"
   ]
  },
  {
   "cell_type": "code",
   "execution_count": 12,
   "metadata": {
    "ExecuteTime": {
     "end_time": "2021-01-21T03:02:38.714551Z",
     "start_time": "2021-01-21T03:02:38.706552Z"
    }
   },
   "outputs": [
    {
     "data": {
      "text/plain": [
       "0.0       12826\n",
       "?           454\n",
       "600.0       217\n",
       "500.0       209\n",
       "700.0       208\n",
       "          ...  \n",
       "2490.0        1\n",
       "1920.0        1\n",
       "784.0         1\n",
       "176.0         1\n",
       "1548.0        1\n",
       "Name: sqft_basement, Length: 304, dtype: int64"
      ]
     },
     "execution_count": 12,
     "metadata": {},
     "output_type": "execute_result"
    }
   ],
   "source": [
    "df.sqft_basement.value_counts()"
   ]
  },
  {
   "cell_type": "code",
   "execution_count": 13,
   "metadata": {
    "ExecuteTime": {
     "end_time": "2021-01-21T03:02:38.871156Z",
     "start_time": "2021-01-21T03:02:38.866126Z"
    }
   },
   "outputs": [],
   "source": [
    "#replacing ? with 0\n",
    "df['sqft_basement'] = df.sqft_basement.replace(to_replace= '?', value = '0')\n",
    "ogdf['sqft_basement'] = ogdf.sqft_basement.replace(to_replace= '?', value = '0')"
   ]
  },
  {
   "cell_type": "code",
   "execution_count": 14,
   "metadata": {
    "ExecuteTime": {
     "end_time": "2021-01-21T03:02:39.057614Z",
     "start_time": "2021-01-21T03:02:39.024703Z"
    }
   },
   "outputs": [],
   "source": [
    "df.sqft_basement = df.sqft_basement.map(lambda x: int(x.replace('.0','')) if type(x) != 'int' else x)\n",
    "ogdf.sqft_basement = ogdf.sqft_basement.map(lambda x: int(x.replace('.0','')) if type(x) != 'int' else x)"
   ]
  },
  {
   "cell_type": "code",
   "execution_count": 15,
   "metadata": {
    "ExecuteTime": {
     "end_time": "2021-01-21T03:02:39.228193Z",
     "start_time": "2021-01-21T03:02:39.198238Z"
    }
   },
   "outputs": [],
   "source": [
    "#making date datetime format\n",
    "df['date'] = pd.to_datetime(df['date'])"
   ]
  },
  {
   "cell_type": "code",
   "execution_count": 31,
   "metadata": {
    "ExecuteTime": {
     "end_time": "2021-01-21T03:03:13.887296Z",
     "start_time": "2021-01-21T03:03:13.882340Z"
    }
   },
   "outputs": [],
   "source": [
    "df['age'] = 2020 - df['yr_built']"
   ]
  },
  {
   "cell_type": "code",
   "execution_count": 16,
   "metadata": {
    "ExecuteTime": {
     "end_time": "2021-01-21T03:02:39.387735Z",
     "start_time": "2021-01-21T03:02:39.376762Z"
    }
   },
   "outputs": [
    {
     "name": "stdout",
     "output_type": "stream",
     "text": [
      "<class 'pandas.core.frame.DataFrame'>\n",
      "RangeIndex: 21597 entries, 0 to 21596\n",
      "Data columns (total 20 columns):\n",
      " #   Column         Non-Null Count  Dtype         \n",
      "---  ------         --------------  -----         \n",
      " 0   id             21597 non-null  int64         \n",
      " 1   date           21597 non-null  datetime64[ns]\n",
      " 2   price          21597 non-null  float64       \n",
      " 3   bedrooms       21597 non-null  int64         \n",
      " 4   bathrooms      21597 non-null  float64       \n",
      " 5   sqft_living    21597 non-null  int64         \n",
      " 6   sqft_lot       21597 non-null  int64         \n",
      " 7   floors         21597 non-null  float64       \n",
      " 8   waterfront     19221 non-null  float64       \n",
      " 9   view           21534 non-null  float64       \n",
      " 10  condition      21597 non-null  int64         \n",
      " 11  grade          21597 non-null  int64         \n",
      " 12  sqft_basement  21597 non-null  int64         \n",
      " 13  yr_built       21597 non-null  int64         \n",
      " 14  yr_renovated   17755 non-null  float64       \n",
      " 15  zipcode        21597 non-null  int64         \n",
      " 16  lat            21597 non-null  float64       \n",
      " 17  long           21597 non-null  float64       \n",
      " 18  sqft_living15  21597 non-null  int64         \n",
      " 19  sqft_lot15     21597 non-null  int64         \n",
      "dtypes: datetime64[ns](1), float64(8), int64(11)\n",
      "memory usage: 3.3 MB\n"
     ]
    }
   ],
   "source": [
    "df.info()"
   ]
  },
  {
   "cell_type": "code",
   "execution_count": 17,
   "metadata": {
    "ExecuteTime": {
     "end_time": "2021-01-21T03:02:39.529382Z",
     "start_time": "2021-01-21T03:02:39.521375Z"
    }
   },
   "outputs": [],
   "source": [
    "#adding column for month\n",
    "df['month'] = df.date.dt.month"
   ]
  },
  {
   "cell_type": "code",
   "execution_count": 18,
   "metadata": {
    "ExecuteTime": {
     "end_time": "2021-01-21T03:02:40.512416Z",
     "start_time": "2021-01-21T03:02:40.508421Z"
    }
   },
   "outputs": [],
   "source": [
    "conts = []\n",
    "cats = []"
   ]
  },
  {
   "cell_type": "code",
   "execution_count": 19,
   "metadata": {
    "ExecuteTime": {
     "end_time": "2021-01-21T03:02:40.696921Z",
     "start_time": "2021-01-21T03:02:40.687911Z"
    }
   },
   "outputs": [],
   "source": [
    "\n",
    "for col in df.columns:\n",
    "    if(df[col].nunique() < 25):\n",
    "        cats.append(col)\n",
    "    else:\n",
    "        conts.append(col)"
   ]
  },
  {
   "cell_type": "code",
   "execution_count": 20,
   "metadata": {
    "ExecuteTime": {
     "end_time": "2021-01-21T03:02:40.837545Z",
     "start_time": "2021-01-21T03:02:40.835518Z"
    }
   },
   "outputs": [],
   "source": [
    "conts.remove('zipcode')"
   ]
  },
  {
   "cell_type": "code",
   "execution_count": 21,
   "metadata": {
    "ExecuteTime": {
     "end_time": "2021-01-21T03:02:40.978174Z",
     "start_time": "2021-01-21T03:02:40.974147Z"
    }
   },
   "outputs": [
    {
     "data": {
      "text/plain": [
       "['id',\n",
       " 'date',\n",
       " 'price',\n",
       " 'bathrooms',\n",
       " 'sqft_living',\n",
       " 'sqft_lot',\n",
       " 'sqft_basement',\n",
       " 'yr_built',\n",
       " 'yr_renovated',\n",
       " 'lat',\n",
       " 'long',\n",
       " 'sqft_living15',\n",
       " 'sqft_lot15']"
      ]
     },
     "execution_count": 21,
     "metadata": {},
     "output_type": "execute_result"
    }
   ],
   "source": [
    "conts"
   ]
  },
  {
   "cell_type": "code",
   "execution_count": 22,
   "metadata": {
    "ExecuteTime": {
     "end_time": "2021-01-21T03:02:41.129730Z",
     "start_time": "2021-01-21T03:02:41.124745Z"
    }
   },
   "outputs": [],
   "source": [
    "cats.append('zipcode')"
   ]
  },
  {
   "cell_type": "code",
   "execution_count": 23,
   "metadata": {
    "ExecuteTime": {
     "end_time": "2021-01-21T03:02:41.273346Z",
     "start_time": "2021-01-21T03:02:41.269357Z"
    }
   },
   "outputs": [
    {
     "data": {
      "text/plain": [
       "['bedrooms',\n",
       " 'floors',\n",
       " 'waterfront',\n",
       " 'view',\n",
       " 'condition',\n",
       " 'grade',\n",
       " 'month',\n",
       " 'zipcode']"
      ]
     },
     "execution_count": 23,
     "metadata": {},
     "output_type": "execute_result"
    }
   ],
   "source": [
    "cats"
   ]
  },
  {
   "cell_type": "code",
   "execution_count": 24,
   "metadata": {
    "ExecuteTime": {
     "end_time": "2021-01-21T03:02:41.436944Z",
     "start_time": "2021-01-21T03:02:41.412974Z"
    }
   },
   "outputs": [
    {
     "data": {
      "text/html": [
       "<div>\n",
       "<style scoped>\n",
       "    .dataframe tbody tr th:only-of-type {\n",
       "        vertical-align: middle;\n",
       "    }\n",
       "\n",
       "    .dataframe tbody tr th {\n",
       "        vertical-align: top;\n",
       "    }\n",
       "\n",
       "    .dataframe thead th {\n",
       "        text-align: right;\n",
       "    }\n",
       "</style>\n",
       "<table border=\"1\" class=\"dataframe\">\n",
       "  <thead>\n",
       "    <tr style=\"text-align: right;\">\n",
       "      <th></th>\n",
       "      <th>id</th>\n",
       "      <th>date</th>\n",
       "      <th>price</th>\n",
       "      <th>bathrooms</th>\n",
       "      <th>sqft_living</th>\n",
       "      <th>sqft_lot</th>\n",
       "      <th>sqft_basement</th>\n",
       "      <th>yr_built</th>\n",
       "      <th>yr_renovated</th>\n",
       "      <th>lat</th>\n",
       "      <th>long</th>\n",
       "      <th>sqft_living15</th>\n",
       "      <th>sqft_lot15</th>\n",
       "    </tr>\n",
       "  </thead>\n",
       "  <tbody>\n",
       "    <tr>\n",
       "      <th>0</th>\n",
       "      <td>7129300520</td>\n",
       "      <td>2014-10-13</td>\n",
       "      <td>221900.0</td>\n",
       "      <td>1.00</td>\n",
       "      <td>1180</td>\n",
       "      <td>5650</td>\n",
       "      <td>0</td>\n",
       "      <td>1955</td>\n",
       "      <td>0.0</td>\n",
       "      <td>47.5112</td>\n",
       "      <td>-122.257</td>\n",
       "      <td>1340</td>\n",
       "      <td>5650</td>\n",
       "    </tr>\n",
       "    <tr>\n",
       "      <th>1</th>\n",
       "      <td>6414100192</td>\n",
       "      <td>2014-12-09</td>\n",
       "      <td>538000.0</td>\n",
       "      <td>2.25</td>\n",
       "      <td>2570</td>\n",
       "      <td>7242</td>\n",
       "      <td>400</td>\n",
       "      <td>1951</td>\n",
       "      <td>1991.0</td>\n",
       "      <td>47.7210</td>\n",
       "      <td>-122.319</td>\n",
       "      <td>1690</td>\n",
       "      <td>7639</td>\n",
       "    </tr>\n",
       "    <tr>\n",
       "      <th>2</th>\n",
       "      <td>5631500400</td>\n",
       "      <td>2015-02-25</td>\n",
       "      <td>180000.0</td>\n",
       "      <td>1.00</td>\n",
       "      <td>770</td>\n",
       "      <td>10000</td>\n",
       "      <td>0</td>\n",
       "      <td>1933</td>\n",
       "      <td>NaN</td>\n",
       "      <td>47.7379</td>\n",
       "      <td>-122.233</td>\n",
       "      <td>2720</td>\n",
       "      <td>8062</td>\n",
       "    </tr>\n",
       "    <tr>\n",
       "      <th>3</th>\n",
       "      <td>2487200875</td>\n",
       "      <td>2014-12-09</td>\n",
       "      <td>604000.0</td>\n",
       "      <td>3.00</td>\n",
       "      <td>1960</td>\n",
       "      <td>5000</td>\n",
       "      <td>910</td>\n",
       "      <td>1965</td>\n",
       "      <td>0.0</td>\n",
       "      <td>47.5208</td>\n",
       "      <td>-122.393</td>\n",
       "      <td>1360</td>\n",
       "      <td>5000</td>\n",
       "    </tr>\n",
       "    <tr>\n",
       "      <th>4</th>\n",
       "      <td>1954400510</td>\n",
       "      <td>2015-02-18</td>\n",
       "      <td>510000.0</td>\n",
       "      <td>2.00</td>\n",
       "      <td>1680</td>\n",
       "      <td>8080</td>\n",
       "      <td>0</td>\n",
       "      <td>1987</td>\n",
       "      <td>0.0</td>\n",
       "      <td>47.6168</td>\n",
       "      <td>-122.045</td>\n",
       "      <td>1800</td>\n",
       "      <td>7503</td>\n",
       "    </tr>\n",
       "    <tr>\n",
       "      <th>...</th>\n",
       "      <td>...</td>\n",
       "      <td>...</td>\n",
       "      <td>...</td>\n",
       "      <td>...</td>\n",
       "      <td>...</td>\n",
       "      <td>...</td>\n",
       "      <td>...</td>\n",
       "      <td>...</td>\n",
       "      <td>...</td>\n",
       "      <td>...</td>\n",
       "      <td>...</td>\n",
       "      <td>...</td>\n",
       "      <td>...</td>\n",
       "    </tr>\n",
       "    <tr>\n",
       "      <th>21592</th>\n",
       "      <td>263000018</td>\n",
       "      <td>2014-05-21</td>\n",
       "      <td>360000.0</td>\n",
       "      <td>2.50</td>\n",
       "      <td>1530</td>\n",
       "      <td>1131</td>\n",
       "      <td>0</td>\n",
       "      <td>2009</td>\n",
       "      <td>0.0</td>\n",
       "      <td>47.6993</td>\n",
       "      <td>-122.346</td>\n",
       "      <td>1530</td>\n",
       "      <td>1509</td>\n",
       "    </tr>\n",
       "    <tr>\n",
       "      <th>21593</th>\n",
       "      <td>6600060120</td>\n",
       "      <td>2015-02-23</td>\n",
       "      <td>400000.0</td>\n",
       "      <td>2.50</td>\n",
       "      <td>2310</td>\n",
       "      <td>5813</td>\n",
       "      <td>0</td>\n",
       "      <td>2014</td>\n",
       "      <td>0.0</td>\n",
       "      <td>47.5107</td>\n",
       "      <td>-122.362</td>\n",
       "      <td>1830</td>\n",
       "      <td>7200</td>\n",
       "    </tr>\n",
       "    <tr>\n",
       "      <th>21594</th>\n",
       "      <td>1523300141</td>\n",
       "      <td>2014-06-23</td>\n",
       "      <td>402101.0</td>\n",
       "      <td>0.75</td>\n",
       "      <td>1020</td>\n",
       "      <td>1350</td>\n",
       "      <td>0</td>\n",
       "      <td>2009</td>\n",
       "      <td>0.0</td>\n",
       "      <td>47.5944</td>\n",
       "      <td>-122.299</td>\n",
       "      <td>1020</td>\n",
       "      <td>2007</td>\n",
       "    </tr>\n",
       "    <tr>\n",
       "      <th>21595</th>\n",
       "      <td>291310100</td>\n",
       "      <td>2015-01-16</td>\n",
       "      <td>400000.0</td>\n",
       "      <td>2.50</td>\n",
       "      <td>1600</td>\n",
       "      <td>2388</td>\n",
       "      <td>0</td>\n",
       "      <td>2004</td>\n",
       "      <td>0.0</td>\n",
       "      <td>47.5345</td>\n",
       "      <td>-122.069</td>\n",
       "      <td>1410</td>\n",
       "      <td>1287</td>\n",
       "    </tr>\n",
       "    <tr>\n",
       "      <th>21596</th>\n",
       "      <td>1523300157</td>\n",
       "      <td>2014-10-15</td>\n",
       "      <td>325000.0</td>\n",
       "      <td>0.75</td>\n",
       "      <td>1020</td>\n",
       "      <td>1076</td>\n",
       "      <td>0</td>\n",
       "      <td>2008</td>\n",
       "      <td>0.0</td>\n",
       "      <td>47.5941</td>\n",
       "      <td>-122.299</td>\n",
       "      <td>1020</td>\n",
       "      <td>1357</td>\n",
       "    </tr>\n",
       "  </tbody>\n",
       "</table>\n",
       "<p>21597 rows × 13 columns</p>\n",
       "</div>"
      ],
      "text/plain": [
       "               id       date     price  bathrooms  sqft_living  sqft_lot  \\\n",
       "0      7129300520 2014-10-13  221900.0       1.00         1180      5650   \n",
       "1      6414100192 2014-12-09  538000.0       2.25         2570      7242   \n",
       "2      5631500400 2015-02-25  180000.0       1.00          770     10000   \n",
       "3      2487200875 2014-12-09  604000.0       3.00         1960      5000   \n",
       "4      1954400510 2015-02-18  510000.0       2.00         1680      8080   \n",
       "...           ...        ...       ...        ...          ...       ...   \n",
       "21592   263000018 2014-05-21  360000.0       2.50         1530      1131   \n",
       "21593  6600060120 2015-02-23  400000.0       2.50         2310      5813   \n",
       "21594  1523300141 2014-06-23  402101.0       0.75         1020      1350   \n",
       "21595   291310100 2015-01-16  400000.0       2.50         1600      2388   \n",
       "21596  1523300157 2014-10-15  325000.0       0.75         1020      1076   \n",
       "\n",
       "       sqft_basement  yr_built  yr_renovated      lat     long  sqft_living15  \\\n",
       "0                  0      1955           0.0  47.5112 -122.257           1340   \n",
       "1                400      1951        1991.0  47.7210 -122.319           1690   \n",
       "2                  0      1933           NaN  47.7379 -122.233           2720   \n",
       "3                910      1965           0.0  47.5208 -122.393           1360   \n",
       "4                  0      1987           0.0  47.6168 -122.045           1800   \n",
       "...              ...       ...           ...      ...      ...            ...   \n",
       "21592              0      2009           0.0  47.6993 -122.346           1530   \n",
       "21593              0      2014           0.0  47.5107 -122.362           1830   \n",
       "21594              0      2009           0.0  47.5944 -122.299           1020   \n",
       "21595              0      2004           0.0  47.5345 -122.069           1410   \n",
       "21596              0      2008           0.0  47.5941 -122.299           1020   \n",
       "\n",
       "       sqft_lot15  \n",
       "0            5650  \n",
       "1            7639  \n",
       "2            8062  \n",
       "3            5000  \n",
       "4            7503  \n",
       "...           ...  \n",
       "21592        1509  \n",
       "21593        7200  \n",
       "21594        2007  \n",
       "21595        1287  \n",
       "21596        1357  \n",
       "\n",
       "[21597 rows x 13 columns]"
      ]
     },
     "execution_count": 24,
     "metadata": {},
     "output_type": "execute_result"
    }
   ],
   "source": [
    "dfconts = df[conts]\n",
    "dfconts"
   ]
  },
  {
   "cell_type": "code",
   "execution_count": 25,
   "metadata": {
    "ExecuteTime": {
     "end_time": "2021-01-21T03:02:41.608453Z",
     "start_time": "2021-01-21T03:02:41.601469Z"
    }
   },
   "outputs": [],
   "source": [
    "dfcats = df[cats]"
   ]
  },
  {
   "cell_type": "code",
   "execution_count": 26,
   "metadata": {
    "ExecuteTime": {
     "end_time": "2021-01-21T03:02:42.710503Z",
     "start_time": "2021-01-21T03:02:41.796946Z"
    }
   },
   "outputs": [
    {
     "data": {
      "text/plain": [
       "array([[<AxesSubplot:title={'center':'bedrooms'}>,\n",
       "        <AxesSubplot:title={'center':'floors'}>,\n",
       "        <AxesSubplot:title={'center':'waterfront'}>],\n",
       "       [<AxesSubplot:title={'center':'view'}>,\n",
       "        <AxesSubplot:title={'center':'condition'}>,\n",
       "        <AxesSubplot:title={'center':'grade'}>],\n",
       "       [<AxesSubplot:title={'center':'month'}>,\n",
       "        <AxesSubplot:title={'center':'zipcode'}>, <AxesSubplot:>]],\n",
       "      dtype=object)"
      ]
     },
     "execution_count": 26,
     "metadata": {},
     "output_type": "execute_result"
    },
    {
     "data": {
      "image/png": "[encoded data removed]",
      "text/plain": [
       "<Figure size 864x720 with 9 Axes>"
      ]
     },
     "metadata": {
      "needs_background": "light"
     },
     "output_type": "display_data"
    }
   ],
   "source": [
    "dfcats.hist(figsize=(12,10))"
   ]
  },
  {
   "cell_type": "code",
   "execution_count": 27,
   "metadata": {
    "ExecuteTime": {
     "end_time": "2021-01-21T03:02:45.521679Z",
     "start_time": "2021-01-21T03:02:44.179822Z"
    }
   },
   "outputs": [
    {
     "data": {
      "text/plain": [
       "array([[<AxesSubplot:title={'center':'id'}>,\n",
       "        <AxesSubplot:title={'center':'price'}>,\n",
       "        <AxesSubplot:title={'center':'bathrooms'}>],\n",
       "       [<AxesSubplot:title={'center':'sqft_living'}>,\n",
       "        <AxesSubplot:title={'center':'sqft_lot'}>,\n",
       "        <AxesSubplot:title={'center':'sqft_basement'}>],\n",
       "       [<AxesSubplot:title={'center':'yr_built'}>,\n",
       "        <AxesSubplot:title={'center':'yr_renovated'}>,\n",
       "        <AxesSubplot:title={'center':'lat'}>],\n",
       "       [<AxesSubplot:title={'center':'long'}>,\n",
       "        <AxesSubplot:title={'center':'sqft_living15'}>,\n",
       "        <AxesSubplot:title={'center':'sqft_lot15'}>]], dtype=object)"
      ]
     },
     "execution_count": 27,
     "metadata": {},
     "output_type": "execute_result"
    },
    {
     "data": {
      "image/png": "[encoded data removed]",
      "text/plain": [
       "<Figure size 864x720 with 12 Axes>"
      ]
     },
     "metadata": {
      "needs_background": "light"
     },
     "output_type": "display_data"
    }
   ],
   "source": [
    "dfconts.hist(figsize=(12,10))"
   ]
  },
  {
   "cell_type": "code",
   "execution_count": 48,
   "metadata": {
    "ExecuteTime": {
     "end_time": "2021-01-22T02:37:34.177067Z",
     "start_time": "2021-01-22T02:37:33.989539Z"
    }
   },
   "outputs": [
    {
     "data": {
      "text/plain": [
       "<AxesSubplot:xlabel='sqft_living', ylabel='price'>"
      ]
     },
     "execution_count": 48,
     "metadata": {},
     "output_type": "execute_result"
    },
    {
     "data": {
      "image/png": "[encoded data removed]",
      "text/plain": [
       "<Figure size 864x648 with 1 Axes>"
      ]
     },
     "metadata": {
      "needs_background": "light"
     },
     "output_type": "display_data"
    }
   ],
   "source": [
    "plt.figure(figsize=(12,9))\n",
    "sns.scatterplot(x='sqft_living', y='price',data=df,ci='sd')"
   ]
  },
  {
   "cell_type": "code",
   "execution_count": 38,
   "metadata": {
    "ExecuteTime": {
     "end_time": "2021-01-22T02:33:31.958729Z",
     "start_time": "2021-01-22T02:33:31.759265Z"
    }
   },
   "outputs": [
    {
     "data": {
      "text/plain": [
       "<AxesSubplot:xlabel='bedrooms', ylabel='Count'>"
      ]
     },
     "execution_count": 38,
     "metadata": {},
     "output_type": "execute_result"
    },
    {
     "data": {
      "image/png": "[encoded data removed]",
      "text/plain": [
       "<Figure size 864x648 with 1 Axes>"
      ]
     },
     "metadata": {
      "needs_background": "light"
     },
     "output_type": "display_data"
    }
   ],
   "source": [
    "plt.figure(figsize=(12,9))\n",
    "sns.histplot(x='bedrooms',data=df, binwidth=.5)"
   ]
  },
  {
   "cell_type": "code",
   "execution_count": 28,
   "metadata": {
    "ExecuteTime": {
     "end_time": "2021-01-21T03:02:46.366486Z",
     "start_time": "2021-01-21T03:02:45.703280Z"
    }
   },
   "outputs": [
    {
     "data": {
      "image/png": "[encoded data removed]",
      "text/plain": [
       "<Figure size 864x1080 with 1 Axes>"
      ]
     },
     "metadata": {
      "needs_background": "light"
     },
     "output_type": "display_data"
    }
   ],
   "source": [
    "#looks like 90-99% of homes have 10 or less bedrooms\n",
    "plt.figure(figsize=(12,15))\n",
    "sns.histplot(x='price',data=df,bins='auto',kde=True,)\n",
    "plt.gca().xaxis.set_major_formatter(FuncFormatter(lambda x, _: int(x)))\n"
   ]
  },
  {
   "cell_type": "code",
   "execution_count": 32,
   "metadata": {
    "ExecuteTime": {
     "end_time": "2021-01-21T03:03:19.917379Z",
     "start_time": "2021-01-21T03:03:19.201289Z"
    }
   },
   "outputs": [
    {
     "data": {
      "text/plain": [
       "<AxesSubplot:xlabel='age', ylabel='price'>"
      ]
     },
     "execution_count": 32,
     "metadata": {},
     "output_type": "execute_result"
    },
    {
     "data": {
      "image/png": "[encoded data removed]",
      "text/plain": [
       "<Figure size 432x288 with 1 Axes>"
      ]
     },
     "metadata": {
      "needs_background": "light"
     },
     "output_type": "display_data"
    }
   ],
   "source": [
    "sns.regplot(x='age',y='price', data=df)"
   ]
  },
  {
   "cell_type": "code",
   "execution_count": 33,
   "metadata": {
    "ExecuteTime": {
     "end_time": "2021-01-21T03:03:21.864055Z",
     "start_time": "2021-01-21T03:03:21.830112Z"
    }
   },
   "outputs": [
    {
     "data": {
      "text/html": [
       "<div>\n",
       "<style scoped>\n",
       "    .dataframe tbody tr th:only-of-type {\n",
       "        vertical-align: middle;\n",
       "    }\n",
       "\n",
       "    .dataframe tbody tr th {\n",
       "        vertical-align: top;\n",
       "    }\n",
       "\n",
       "    .dataframe thead th {\n",
       "        text-align: right;\n",
       "    }\n",
       "</style>\n",
       "<table border=\"1\" class=\"dataframe\">\n",
       "  <thead>\n",
       "    <tr style=\"text-align: right;\">\n",
       "      <th></th>\n",
       "      <th>id</th>\n",
       "      <th>date</th>\n",
       "      <th>price</th>\n",
       "      <th>bedrooms</th>\n",
       "      <th>bathrooms</th>\n",
       "      <th>sqft_living</th>\n",
       "      <th>sqft_lot</th>\n",
       "      <th>floors</th>\n",
       "      <th>waterfront</th>\n",
       "      <th>view</th>\n",
       "      <th>condition</th>\n",
       "      <th>grade</th>\n",
       "      <th>sqft_basement</th>\n",
       "      <th>yr_built</th>\n",
       "      <th>yr_renovated</th>\n",
       "      <th>zipcode</th>\n",
       "      <th>lat</th>\n",
       "      <th>long</th>\n",
       "      <th>sqft_living15</th>\n",
       "      <th>sqft_lot15</th>\n",
       "      <th>month</th>\n",
       "      <th>age</th>\n",
       "    </tr>\n",
       "  </thead>\n",
       "  <tbody>\n",
       "    <tr>\n",
       "      <th>49</th>\n",
       "      <td>822039084</td>\n",
       "      <td>2015-03-11</td>\n",
       "      <td>1350000.0</td>\n",
       "      <td>3</td>\n",
       "      <td>2.50</td>\n",
       "      <td>2753</td>\n",
       "      <td>65005</td>\n",
       "      <td>1.0</td>\n",
       "      <td>1.0</td>\n",
       "      <td>2.0</td>\n",
       "      <td>5</td>\n",
       "      <td>9</td>\n",
       "      <td>588</td>\n",
       "      <td>1953</td>\n",
       "      <td>0.0</td>\n",
       "      <td>98070</td>\n",
       "      <td>47.4041</td>\n",
       "      <td>-122.451</td>\n",
       "      <td>2680</td>\n",
       "      <td>72513</td>\n",
       "      <td>3</td>\n",
       "      <td>67</td>\n",
       "    </tr>\n",
       "    <tr>\n",
       "      <th>230</th>\n",
       "      <td>8096000060</td>\n",
       "      <td>2015-04-13</td>\n",
       "      <td>655000.0</td>\n",
       "      <td>2</td>\n",
       "      <td>1.75</td>\n",
       "      <td>1450</td>\n",
       "      <td>15798</td>\n",
       "      <td>2.0</td>\n",
       "      <td>1.0</td>\n",
       "      <td>4.0</td>\n",
       "      <td>3</td>\n",
       "      <td>7</td>\n",
       "      <td>220</td>\n",
       "      <td>1915</td>\n",
       "      <td>1978.0</td>\n",
       "      <td>98166</td>\n",
       "      <td>47.4497</td>\n",
       "      <td>-122.375</td>\n",
       "      <td>2030</td>\n",
       "      <td>13193</td>\n",
       "      <td>4</td>\n",
       "      <td>105</td>\n",
       "    </tr>\n",
       "    <tr>\n",
       "      <th>246</th>\n",
       "      <td>2025069065</td>\n",
       "      <td>2014-09-29</td>\n",
       "      <td>2400000.0</td>\n",
       "      <td>4</td>\n",
       "      <td>2.50</td>\n",
       "      <td>3650</td>\n",
       "      <td>8354</td>\n",
       "      <td>1.0</td>\n",
       "      <td>1.0</td>\n",
       "      <td>4.0</td>\n",
       "      <td>3</td>\n",
       "      <td>9</td>\n",
       "      <td>1820</td>\n",
       "      <td>2000</td>\n",
       "      <td>0.0</td>\n",
       "      <td>98074</td>\n",
       "      <td>47.6338</td>\n",
       "      <td>-122.072</td>\n",
       "      <td>3120</td>\n",
       "      <td>18841</td>\n",
       "      <td>9</td>\n",
       "      <td>20</td>\n",
       "    </tr>\n",
       "    <tr>\n",
       "      <th>264</th>\n",
       "      <td>2123039032</td>\n",
       "      <td>2014-10-27</td>\n",
       "      <td>369900.0</td>\n",
       "      <td>1</td>\n",
       "      <td>0.75</td>\n",
       "      <td>760</td>\n",
       "      <td>10079</td>\n",
       "      <td>1.0</td>\n",
       "      <td>1.0</td>\n",
       "      <td>4.0</td>\n",
       "      <td>5</td>\n",
       "      <td>5</td>\n",
       "      <td>0</td>\n",
       "      <td>1936</td>\n",
       "      <td>0.0</td>\n",
       "      <td>98070</td>\n",
       "      <td>47.4683</td>\n",
       "      <td>-122.438</td>\n",
       "      <td>1230</td>\n",
       "      <td>14267</td>\n",
       "      <td>10</td>\n",
       "      <td>84</td>\n",
       "    </tr>\n",
       "    <tr>\n",
       "      <th>300</th>\n",
       "      <td>3225069065</td>\n",
       "      <td>2014-06-24</td>\n",
       "      <td>3080000.0</td>\n",
       "      <td>4</td>\n",
       "      <td>5.00</td>\n",
       "      <td>4550</td>\n",
       "      <td>18641</td>\n",
       "      <td>1.0</td>\n",
       "      <td>1.0</td>\n",
       "      <td>4.0</td>\n",
       "      <td>3</td>\n",
       "      <td>10</td>\n",
       "      <td>1950</td>\n",
       "      <td>2002</td>\n",
       "      <td>0.0</td>\n",
       "      <td>98074</td>\n",
       "      <td>47.6053</td>\n",
       "      <td>-122.077</td>\n",
       "      <td>4550</td>\n",
       "      <td>19508</td>\n",
       "      <td>6</td>\n",
       "      <td>18</td>\n",
       "    </tr>\n",
       "    <tr>\n",
       "      <th>...</th>\n",
       "      <td>...</td>\n",
       "      <td>...</td>\n",
       "      <td>...</td>\n",
       "      <td>...</td>\n",
       "      <td>...</td>\n",
       "      <td>...</td>\n",
       "      <td>...</td>\n",
       "      <td>...</td>\n",
       "      <td>...</td>\n",
       "      <td>...</td>\n",
       "      <td>...</td>\n",
       "      <td>...</td>\n",
       "      <td>...</td>\n",
       "      <td>...</td>\n",
       "      <td>...</td>\n",
       "      <td>...</td>\n",
       "      <td>...</td>\n",
       "      <td>...</td>\n",
       "      <td>...</td>\n",
       "      <td>...</td>\n",
       "      <td>...</td>\n",
       "      <td>...</td>\n",
       "    </tr>\n",
       "    <tr>\n",
       "      <th>19968</th>\n",
       "      <td>2025069140</td>\n",
       "      <td>2015-03-17</td>\n",
       "      <td>1900000.0</td>\n",
       "      <td>3</td>\n",
       "      <td>2.50</td>\n",
       "      <td>2830</td>\n",
       "      <td>4334</td>\n",
       "      <td>3.0</td>\n",
       "      <td>1.0</td>\n",
       "      <td>4.0</td>\n",
       "      <td>3</td>\n",
       "      <td>10</td>\n",
       "      <td>0</td>\n",
       "      <td>2006</td>\n",
       "      <td>0.0</td>\n",
       "      <td>98074</td>\n",
       "      <td>47.6318</td>\n",
       "      <td>-122.071</td>\n",
       "      <td>2830</td>\n",
       "      <td>38211</td>\n",
       "      <td>3</td>\n",
       "      <td>14</td>\n",
       "    </tr>\n",
       "    <tr>\n",
       "      <th>20309</th>\n",
       "      <td>518500480</td>\n",
       "      <td>2014-08-11</td>\n",
       "      <td>3000000.0</td>\n",
       "      <td>3</td>\n",
       "      <td>3.50</td>\n",
       "      <td>4410</td>\n",
       "      <td>10756</td>\n",
       "      <td>2.0</td>\n",
       "      <td>1.0</td>\n",
       "      <td>4.0</td>\n",
       "      <td>3</td>\n",
       "      <td>11</td>\n",
       "      <td>980</td>\n",
       "      <td>2014</td>\n",
       "      <td>0.0</td>\n",
       "      <td>98056</td>\n",
       "      <td>47.5283</td>\n",
       "      <td>-122.205</td>\n",
       "      <td>3550</td>\n",
       "      <td>5634</td>\n",
       "      <td>8</td>\n",
       "      <td>6</td>\n",
       "    </tr>\n",
       "    <tr>\n",
       "      <th>20751</th>\n",
       "      <td>8043700105</td>\n",
       "      <td>2015-04-17</td>\n",
       "      <td>2300000.0</td>\n",
       "      <td>4</td>\n",
       "      <td>4.00</td>\n",
       "      <td>4360</td>\n",
       "      <td>8175</td>\n",
       "      <td>2.5</td>\n",
       "      <td>1.0</td>\n",
       "      <td>4.0</td>\n",
       "      <td>3</td>\n",
       "      <td>10</td>\n",
       "      <td>420</td>\n",
       "      <td>2007</td>\n",
       "      <td>0.0</td>\n",
       "      <td>98008</td>\n",
       "      <td>47.5724</td>\n",
       "      <td>-122.104</td>\n",
       "      <td>2670</td>\n",
       "      <td>8525</td>\n",
       "      <td>4</td>\n",
       "      <td>13</td>\n",
       "    </tr>\n",
       "    <tr>\n",
       "      <th>21185</th>\n",
       "      <td>518500460</td>\n",
       "      <td>2014-10-08</td>\n",
       "      <td>2230000.0</td>\n",
       "      <td>3</td>\n",
       "      <td>3.50</td>\n",
       "      <td>3760</td>\n",
       "      <td>5634</td>\n",
       "      <td>2.0</td>\n",
       "      <td>1.0</td>\n",
       "      <td>4.0</td>\n",
       "      <td>3</td>\n",
       "      <td>11</td>\n",
       "      <td>930</td>\n",
       "      <td>2014</td>\n",
       "      <td>0.0</td>\n",
       "      <td>98056</td>\n",
       "      <td>47.5285</td>\n",
       "      <td>-122.205</td>\n",
       "      <td>3560</td>\n",
       "      <td>5762</td>\n",
       "      <td>10</td>\n",
       "      <td>6</td>\n",
       "    </tr>\n",
       "    <tr>\n",
       "      <th>21560</th>\n",
       "      <td>9253900271</td>\n",
       "      <td>2015-01-07</td>\n",
       "      <td>3570000.0</td>\n",
       "      <td>5</td>\n",
       "      <td>4.50</td>\n",
       "      <td>4850</td>\n",
       "      <td>10584</td>\n",
       "      <td>2.0</td>\n",
       "      <td>1.0</td>\n",
       "      <td>4.0</td>\n",
       "      <td>3</td>\n",
       "      <td>10</td>\n",
       "      <td>1310</td>\n",
       "      <td>2007</td>\n",
       "      <td>0.0</td>\n",
       "      <td>98008</td>\n",
       "      <td>47.5943</td>\n",
       "      <td>-122.110</td>\n",
       "      <td>3470</td>\n",
       "      <td>18270</td>\n",
       "      <td>1</td>\n",
       "      <td>13</td>\n",
       "    </tr>\n",
       "  </tbody>\n",
       "</table>\n",
       "<p>146 rows × 22 columns</p>\n",
       "</div>"
      ],
      "text/plain": [
       "               id       date      price  bedrooms  bathrooms  sqft_living  \\\n",
       "49      822039084 2015-03-11  1350000.0         3       2.50         2753   \n",
       "230    8096000060 2015-04-13   655000.0         2       1.75         1450   \n",
       "246    2025069065 2014-09-29  2400000.0         4       2.50         3650   \n",
       "264    2123039032 2014-10-27   369900.0         1       0.75          760   \n",
       "300    3225069065 2014-06-24  3080000.0         4       5.00         4550   \n",
       "...           ...        ...        ...       ...        ...          ...   \n",
       "19968  2025069140 2015-03-17  1900000.0         3       2.50         2830   \n",
       "20309   518500480 2014-08-11  3000000.0         3       3.50         4410   \n",
       "20751  8043700105 2015-04-17  2300000.0         4       4.00         4360   \n",
       "21185   518500460 2014-10-08  2230000.0         3       3.50         3760   \n",
       "21560  9253900271 2015-01-07  3570000.0         5       4.50         4850   \n",
       "\n",
       "       sqft_lot  floors  waterfront  view  condition  grade  sqft_basement  \\\n",
       "49        65005     1.0         1.0   2.0          5      9            588   \n",
       "230       15798     2.0         1.0   4.0          3      7            220   \n",
       "246        8354     1.0         1.0   4.0          3      9           1820   \n",
       "264       10079     1.0         1.0   4.0          5      5              0   \n",
       "300       18641     1.0         1.0   4.0          3     10           1950   \n",
       "...         ...     ...         ...   ...        ...    ...            ...   \n",
       "19968      4334     3.0         1.0   4.0          3     10              0   \n",
       "20309     10756     2.0         1.0   4.0          3     11            980   \n",
       "20751      8175     2.5         1.0   4.0          3     10            420   \n",
       "21185      5634     2.0         1.0   4.0          3     11            930   \n",
       "21560     10584     2.0         1.0   4.0          3     10           1310   \n",
       "\n",
       "       yr_built  yr_renovated  zipcode      lat     long  sqft_living15  \\\n",
       "49         1953           0.0    98070  47.4041 -122.451           2680   \n",
       "230        1915        1978.0    98166  47.4497 -122.375           2030   \n",
       "246        2000           0.0    98074  47.6338 -122.072           3120   \n",
       "264        1936           0.0    98070  47.4683 -122.438           1230   \n",
       "300        2002           0.0    98074  47.6053 -122.077           4550   \n",
       "...         ...           ...      ...      ...      ...            ...   \n",
       "19968      2006           0.0    98074  47.6318 -122.071           2830   \n",
       "20309      2014           0.0    98056  47.5283 -122.205           3550   \n",
       "20751      2007           0.0    98008  47.5724 -122.104           2670   \n",
       "21185      2014           0.0    98056  47.5285 -122.205           3560   \n",
       "21560      2007           0.0    98008  47.5943 -122.110           3470   \n",
       "\n",
       "       sqft_lot15  month  age  \n",
       "49          72513      3   67  \n",
       "230         13193      4  105  \n",
       "246         18841      9   20  \n",
       "264         14267     10   84  \n",
       "300         19508      6   18  \n",
       "...           ...    ...  ...  \n",
       "19968       38211      3   14  \n",
       "20309        5634      8    6  \n",
       "20751        8525      4   13  \n",
       "21185        5762     10    6  \n",
       "21560       18270      1   13  \n",
       "\n",
       "[146 rows x 22 columns]"
      ]
     },
     "execution_count": 33,
     "metadata": {},
     "output_type": "execute_result"
    }
   ],
   "source": [
    "df[df.waterfront ==1]"
   ]
  },
  {
   "cell_type": "code",
   "execution_count": 83,
   "metadata": {
    "ExecuteTime": {
     "end_time": "2021-01-21T02:23:23.862459Z",
     "start_time": "2021-01-21T02:23:23.777715Z"
    }
   },
   "outputs": [
    {
     "data": {
      "text/html": [
       "<div>\n",
       "<style scoped>\n",
       "    .dataframe tbody tr th:only-of-type {\n",
       "        vertical-align: middle;\n",
       "    }\n",
       "\n",
       "    .dataframe tbody tr th {\n",
       "        vertical-align: top;\n",
       "    }\n",
       "\n",
       "    .dataframe thead th {\n",
       "        text-align: right;\n",
       "    }\n",
       "</style>\n",
       "<table border=\"1\" class=\"dataframe\">\n",
       "  <thead>\n",
       "    <tr style=\"text-align: right;\">\n",
       "      <th></th>\n",
       "      <th>id</th>\n",
       "      <th>price</th>\n",
       "      <th>bedrooms</th>\n",
       "      <th>bathrooms</th>\n",
       "      <th>sqft_living</th>\n",
       "      <th>sqft_lot</th>\n",
       "      <th>floors</th>\n",
       "      <th>waterfront</th>\n",
       "      <th>view</th>\n",
       "      <th>condition</th>\n",
       "      <th>grade</th>\n",
       "      <th>sqft_basement</th>\n",
       "      <th>yr_built</th>\n",
       "      <th>yr_renovated</th>\n",
       "      <th>zipcode</th>\n",
       "      <th>lat</th>\n",
       "      <th>long</th>\n",
       "      <th>sqft_living15</th>\n",
       "      <th>sqft_lot15</th>\n",
       "      <th>month</th>\n",
       "      <th>been_renovated</th>\n",
       "      <th>age</th>\n",
       "    </tr>\n",
       "  </thead>\n",
       "  <tbody>\n",
       "    <tr>\n",
       "      <th>count</th>\n",
       "      <td>2.498000e+03</td>\n",
       "      <td>2.498000e+03</td>\n",
       "      <td>2498.000000</td>\n",
       "      <td>2498.000000</td>\n",
       "      <td>2498.000000</td>\n",
       "      <td>2.498000e+03</td>\n",
       "      <td>2498.000000</td>\n",
       "      <td>2498.0</td>\n",
       "      <td>2498.000000</td>\n",
       "      <td>2498.000000</td>\n",
       "      <td>2498.000000</td>\n",
       "      <td>2498.000000</td>\n",
       "      <td>2498.000000</td>\n",
       "      <td>2050.000000</td>\n",
       "      <td>2498.000000</td>\n",
       "      <td>2498.000000</td>\n",
       "      <td>2498.000000</td>\n",
       "      <td>2498.000000</td>\n",
       "      <td>2498.000000</td>\n",
       "      <td>2498.000000</td>\n",
       "      <td>2498.000000</td>\n",
       "      <td>2498.000000</td>\n",
       "    </tr>\n",
       "    <tr>\n",
       "      <th>mean</th>\n",
       "      <td>4.485358e+09</td>\n",
       "      <td>5.958819e+05</td>\n",
       "      <td>3.358687</td>\n",
       "      <td>2.138010</td>\n",
       "      <td>2127.872298</td>\n",
       "      <td>1.597082e+04</td>\n",
       "      <td>1.493395</td>\n",
       "      <td>1.0</td>\n",
       "      <td>0.460769</td>\n",
       "      <td>3.414331</td>\n",
       "      <td>7.698159</td>\n",
       "      <td>316.503203</td>\n",
       "      <td>1970.200961</td>\n",
       "      <td>115.752683</td>\n",
       "      <td>98080.608086</td>\n",
       "      <td>47.560295</td>\n",
       "      <td>-122.216966</td>\n",
       "      <td>2017.672538</td>\n",
       "      <td>12998.034027</td>\n",
       "      <td>6.534828</td>\n",
       "      <td>0.053243</td>\n",
       "      <td>49.799039</td>\n",
       "    </tr>\n",
       "    <tr>\n",
       "      <th>std</th>\n",
       "      <td>2.872122e+09</td>\n",
       "      <td>4.931427e+05</td>\n",
       "      <td>0.919381</td>\n",
       "      <td>0.799068</td>\n",
       "      <td>976.539577</td>\n",
       "      <td>4.614426e+04</td>\n",
       "      <td>0.537776</td>\n",
       "      <td>0.0</td>\n",
       "      <td>1.129333</td>\n",
       "      <td>0.659537</td>\n",
       "      <td>1.222275</td>\n",
       "      <td>477.419727</td>\n",
       "      <td>29.195508</td>\n",
       "      <td>466.408247</td>\n",
       "      <td>54.460316</td>\n",
       "      <td>0.136351</td>\n",
       "      <td>0.140787</td>\n",
       "      <td>711.262217</td>\n",
       "      <td>24833.152300</td>\n",
       "      <td>3.112847</td>\n",
       "      <td>0.224562</td>\n",
       "      <td>29.195508</td>\n",
       "    </tr>\n",
       "    <tr>\n",
       "      <th>min</th>\n",
       "      <td>1.000102e+06</td>\n",
       "      <td>8.000000e+04</td>\n",
       "      <td>1.000000</td>\n",
       "      <td>0.750000</td>\n",
       "      <td>430.000000</td>\n",
       "      <td>6.000000e+02</td>\n",
       "      <td>1.000000</td>\n",
       "      <td>1.0</td>\n",
       "      <td>0.000000</td>\n",
       "      <td>1.000000</td>\n",
       "      <td>4.000000</td>\n",
       "      <td>0.000000</td>\n",
       "      <td>1900.000000</td>\n",
       "      <td>0.000000</td>\n",
       "      <td>98001.000000</td>\n",
       "      <td>47.180800</td>\n",
       "      <td>-122.514000</td>\n",
       "      <td>750.000000</td>\n",
       "      <td>788.000000</td>\n",
       "      <td>1.000000</td>\n",
       "      <td>0.000000</td>\n",
       "      <td>5.000000</td>\n",
       "    </tr>\n",
       "    <tr>\n",
       "      <th>25%</th>\n",
       "      <td>2.065726e+09</td>\n",
       "      <td>3.270000e+05</td>\n",
       "      <td>3.000000</td>\n",
       "      <td>1.562500</td>\n",
       "      <td>1440.000000</td>\n",
       "      <td>5.138500e+03</td>\n",
       "      <td>1.000000</td>\n",
       "      <td>1.0</td>\n",
       "      <td>0.000000</td>\n",
       "      <td>3.000000</td>\n",
       "      <td>7.000000</td>\n",
       "      <td>0.000000</td>\n",
       "      <td>1951.000000</td>\n",
       "      <td>0.000000</td>\n",
       "      <td>98034.000000</td>\n",
       "      <td>47.470925</td>\n",
       "      <td>-122.330000</td>\n",
       "      <td>1480.000000</td>\n",
       "      <td>5250.000000</td>\n",
       "      <td>4.000000</td>\n",
       "      <td>0.000000</td>\n",
       "      <td>25.000000</td>\n",
       "    </tr>\n",
       "    <tr>\n",
       "      <th>50%</th>\n",
       "      <td>3.766400e+09</td>\n",
       "      <td>4.590000e+05</td>\n",
       "      <td>3.000000</td>\n",
       "      <td>2.250000</td>\n",
       "      <td>1940.000000</td>\n",
       "      <td>7.767500e+03</td>\n",
       "      <td>1.500000</td>\n",
       "      <td>1.0</td>\n",
       "      <td>0.000000</td>\n",
       "      <td>3.000000</td>\n",
       "      <td>7.000000</td>\n",
       "      <td>0.000000</td>\n",
       "      <td>1972.000000</td>\n",
       "      <td>0.000000</td>\n",
       "      <td>98072.000000</td>\n",
       "      <td>47.569400</td>\n",
       "      <td>-122.232000</td>\n",
       "      <td>1860.000000</td>\n",
       "      <td>7760.500000</td>\n",
       "      <td>6.000000</td>\n",
       "      <td>0.000000</td>\n",
       "      <td>48.000000</td>\n",
       "    </tr>\n",
       "    <tr>\n",
       "      <th>75%</th>\n",
       "      <td>7.230201e+09</td>\n",
       "      <td>6.796750e+05</td>\n",
       "      <td>4.000000</td>\n",
       "      <td>2.500000</td>\n",
       "      <td>2610.000000</td>\n",
       "      <td>1.128000e+04</td>\n",
       "      <td>2.000000</td>\n",
       "      <td>1.0</td>\n",
       "      <td>0.000000</td>\n",
       "      <td>4.000000</td>\n",
       "      <td>8.000000</td>\n",
       "      <td>610.000000</td>\n",
       "      <td>1995.000000</td>\n",
       "      <td>0.000000</td>\n",
       "      <td>98118.000000</td>\n",
       "      <td>47.676425</td>\n",
       "      <td>-122.126000</td>\n",
       "      <td>2420.000000</td>\n",
       "      <td>10530.000000</td>\n",
       "      <td>9.000000</td>\n",
       "      <td>0.000000</td>\n",
       "      <td>69.000000</td>\n",
       "    </tr>\n",
       "    <tr>\n",
       "      <th>max</th>\n",
       "      <td>9.839301e+09</td>\n",
       "      <td>7.060000e+06</td>\n",
       "      <td>8.000000</td>\n",
       "      <td>6.750000</td>\n",
       "      <td>10040.000000</td>\n",
       "      <td>1.074218e+06</td>\n",
       "      <td>3.500000</td>\n",
       "      <td>1.0</td>\n",
       "      <td>4.000000</td>\n",
       "      <td>5.000000</td>\n",
       "      <td>12.000000</td>\n",
       "      <td>4820.000000</td>\n",
       "      <td>2015.000000</td>\n",
       "      <td>2015.000000</td>\n",
       "      <td>98199.000000</td>\n",
       "      <td>47.777400</td>\n",
       "      <td>-121.319000</td>\n",
       "      <td>4940.000000</td>\n",
       "      <td>311610.000000</td>\n",
       "      <td>12.000000</td>\n",
       "      <td>1.000000</td>\n",
       "      <td>120.000000</td>\n",
       "    </tr>\n",
       "  </tbody>\n",
       "</table>\n",
       "</div>"
      ],
      "text/plain": [
       "                 id         price     bedrooms    bathrooms   sqft_living  \\\n",
       "count  2.498000e+03  2.498000e+03  2498.000000  2498.000000   2498.000000   \n",
       "mean   4.485358e+09  5.958819e+05     3.358687     2.138010   2127.872298   \n",
       "std    2.872122e+09  4.931427e+05     0.919381     0.799068    976.539577   \n",
       "min    1.000102e+06  8.000000e+04     1.000000     0.750000    430.000000   \n",
       "25%    2.065726e+09  3.270000e+05     3.000000     1.562500   1440.000000   \n",
       "50%    3.766400e+09  4.590000e+05     3.000000     2.250000   1940.000000   \n",
       "75%    7.230201e+09  6.796750e+05     4.000000     2.500000   2610.000000   \n",
       "max    9.839301e+09  7.060000e+06     8.000000     6.750000  10040.000000   \n",
       "\n",
       "           sqft_lot       floors  waterfront         view    condition  \\\n",
       "count  2.498000e+03  2498.000000      2498.0  2498.000000  2498.000000   \n",
       "mean   1.597082e+04     1.493395         1.0     0.460769     3.414331   \n",
       "std    4.614426e+04     0.537776         0.0     1.129333     0.659537   \n",
       "min    6.000000e+02     1.000000         1.0     0.000000     1.000000   \n",
       "25%    5.138500e+03     1.000000         1.0     0.000000     3.000000   \n",
       "50%    7.767500e+03     1.500000         1.0     0.000000     3.000000   \n",
       "75%    1.128000e+04     2.000000         1.0     0.000000     4.000000   \n",
       "max    1.074218e+06     3.500000         1.0     4.000000     5.000000   \n",
       "\n",
       "             grade  sqft_basement     yr_built  yr_renovated       zipcode  \\\n",
       "count  2498.000000    2498.000000  2498.000000   2050.000000   2498.000000   \n",
       "mean      7.698159     316.503203  1970.200961    115.752683  98080.608086   \n",
       "std       1.222275     477.419727    29.195508    466.408247     54.460316   \n",
       "min       4.000000       0.000000  1900.000000      0.000000  98001.000000   \n",
       "25%       7.000000       0.000000  1951.000000      0.000000  98034.000000   \n",
       "50%       7.000000       0.000000  1972.000000      0.000000  98072.000000   \n",
       "75%       8.000000     610.000000  1995.000000      0.000000  98118.000000   \n",
       "max      12.000000    4820.000000  2015.000000   2015.000000  98199.000000   \n",
       "\n",
       "               lat         long  sqft_living15     sqft_lot15        month  \\\n",
       "count  2498.000000  2498.000000    2498.000000    2498.000000  2498.000000   \n",
       "mean     47.560295  -122.216966    2017.672538   12998.034027     6.534828   \n",
       "std       0.136351     0.140787     711.262217   24833.152300     3.112847   \n",
       "min      47.180800  -122.514000     750.000000     788.000000     1.000000   \n",
       "25%      47.470925  -122.330000    1480.000000    5250.000000     4.000000   \n",
       "50%      47.569400  -122.232000    1860.000000    7760.500000     6.000000   \n",
       "75%      47.676425  -122.126000    2420.000000   10530.000000     9.000000   \n",
       "max      47.777400  -121.319000    4940.000000  311610.000000    12.000000   \n",
       "\n",
       "       been_renovated          age  \n",
       "count     2498.000000  2498.000000  \n",
       "mean         0.053243    49.799039  \n",
       "std          0.224562    29.195508  \n",
       "min          0.000000     5.000000  \n",
       "25%          0.000000    25.000000  \n",
       "50%          0.000000    48.000000  \n",
       "75%          0.000000    69.000000  \n",
       "max          1.000000   120.000000  "
      ]
     },
     "execution_count": 83,
     "metadata": {},
     "output_type": "execute_result"
    }
   ],
   "source": [
    "df[df.waterfront == 1].describe()"
   ]
  },
  {
   "cell_type": "code",
   "execution_count": 28,
   "metadata": {
    "ExecuteTime": {
     "end_time": "2021-01-20T21:20:05.267140Z",
     "start_time": "2021-01-20T21:20:05.261131Z"
    }
   },
   "outputs": [
    {
     "data": {
      "text/plain": [
       "id                  0\n",
       "date                0\n",
       "price               0\n",
       "bedrooms            0\n",
       "bathrooms           0\n",
       "sqft_living         0\n",
       "sqft_lot            0\n",
       "floors              0\n",
       "waterfront       2376\n",
       "view               63\n",
       "condition           0\n",
       "grade               0\n",
       "sqft_basement       0\n",
       "yr_built            0\n",
       "yr_renovated     3842\n",
       "zipcode             0\n",
       "lat                 0\n",
       "long                0\n",
       "sqft_living15       0\n",
       "sqft_lot15          0\n",
       "month               0\n",
       "dtype: int64"
      ]
     },
     "execution_count": 28,
     "metadata": {},
     "output_type": "execute_result"
    }
   ],
   "source": [
    "df.isna().sum()"
   ]
  },
  {
   "cell_type": "code",
   "execution_count": 29,
   "metadata": {
    "ExecuteTime": {
     "end_time": "2021-01-20T21:20:13.176880Z",
     "start_time": "2021-01-20T21:20:13.172848Z"
    }
   },
   "outputs": [],
   "source": [
    "t1 = ogdf"
   ]
  },
  {
   "cell_type": "code",
   "execution_count": 30,
   "metadata": {
    "ExecuteTime": {
     "end_time": "2021-01-20T21:20:14.376489Z",
     "start_time": "2021-01-20T21:20:14.368512Z"
    }
   },
   "outputs": [],
   "source": [
    "t1['yr_renovated'] = t1['yr_renovated'].apply(lambda x: 1 if (x >0) else x)"
   ]
  },
  {
   "cell_type": "code",
   "execution_count": 31,
   "metadata": {
    "ExecuteTime": {
     "end_time": "2021-01-20T21:20:15.043800Z",
     "start_time": "2021-01-20T21:20:15.039803Z"
    }
   },
   "outputs": [
    {
     "data": {
      "text/plain": [
       "array([ 0.,  1., nan])"
      ]
     },
     "execution_count": 31,
     "metadata": {},
     "output_type": "execute_result"
    }
   ],
   "source": [
    "t1.yr_renovated.unique()"
   ]
  },
  {
   "cell_type": "code",
   "execution_count": 32,
   "metadata": {
    "ExecuteTime": {
     "end_time": "2021-01-13T18:42:33.520918Z",
     "start_time": "2021-01-13T18:42:33.511910Z"
    }
   },
   "outputs": [],
   "source": [
    "not_renovated = len(t1[t1.yr_renovated == 0])"
   ]
  },
  {
   "cell_type": "code",
   "execution_count": 32,
   "metadata": {
    "ExecuteTime": {
     "end_time": "2021-01-20T22:21:55.028926Z",
     "start_time": "2021-01-20T22:21:55.020949Z"
    }
   },
   "outputs": [
    {
     "data": {
      "text/plain": [
       "744.0"
      ]
     },
     "execution_count": 32,
     "metadata": {},
     "output_type": "execute_result"
    }
   ],
   "source": [
    "num_renovated = t1.yr_renovated.sum()\n",
    "num_renovated"
   ]
  },
  {
   "cell_type": "code",
   "execution_count": 33,
   "metadata": {
    "ExecuteTime": {
     "end_time": "2021-01-20T22:22:01.621163Z",
     "start_time": "2021-01-20T22:22:01.611177Z"
    }
   },
   "outputs": [],
   "source": [
    "df['been_renovated'] = df['yr_renovated'].apply(lambda x: 1 if x>0 else x)"
   ]
  },
  {
   "cell_type": "code",
   "execution_count": 34,
   "metadata": {
    "ExecuteTime": {
     "end_time": "2021-01-20T22:22:04.399853Z",
     "start_time": "2021-01-20T22:22:04.395862Z"
    }
   },
   "outputs": [],
   "source": [
    "renovated_weights = list(df.been_renovated.value_counts(normalize=True))\n"
   ]
  },
  {
   "cell_type": "code",
   "execution_count": 35,
   "metadata": {
    "ExecuteTime": {
     "end_time": "2021-01-20T22:22:04.641526Z",
     "start_time": "2021-01-20T22:22:04.634578Z"
    }
   },
   "outputs": [
    {
     "data": {
      "text/plain": [
       "[0.9580963108983385, 0.041903689101661507]"
      ]
     },
     "execution_count": 35,
     "metadata": {},
     "output_type": "execute_result"
    }
   ],
   "source": [
    "renovated_weights"
   ]
  },
  {
   "cell_type": "code",
   "execution_count": 36,
   "metadata": {
    "ExecuteTime": {
     "end_time": "2021-01-20T22:22:29.095761Z",
     "start_time": "2021-01-20T22:22:28.992039Z"
    }
   },
   "outputs": [],
   "source": [
    "a = [0,1]\n",
    "df['been_renovated'] = df['been_renovated'].apply(lambda x: np.random.choice(a,p=renovated_weights) if np.isnan(x) else x)"
   ]
  },
  {
   "cell_type": "code",
   "execution_count": 37,
   "metadata": {
    "ExecuteTime": {
     "end_time": "2021-01-20T22:22:32.829400Z",
     "start_time": "2021-01-20T22:22:32.822419Z"
    }
   },
   "outputs": [
    {
     "data": {
      "text/plain": [
       "0.0    0.959948\n",
       "1.0    0.040052\n",
       "Name: been_renovated, dtype: float64"
      ]
     },
     "execution_count": 37,
     "metadata": {},
     "output_type": "execute_result"
    }
   ],
   "source": [
    "df.been_renovated.value_counts(normalize=True)"
   ]
  },
  {
   "cell_type": "code",
   "execution_count": 38,
   "metadata": {
    "ExecuteTime": {
     "end_time": "2021-01-20T22:22:33.821594Z",
     "start_time": "2021-01-20T22:22:33.815610Z"
    }
   },
   "outputs": [
    {
     "data": {
      "text/plain": [
       "0.0    0.959948\n",
       "1.0    0.040052\n",
       "Name: been_renovated, dtype: float64"
      ]
     },
     "execution_count": 38,
     "metadata": {},
     "output_type": "execute_result"
    }
   ],
   "source": [
    "df.been_renovated.value_counts(normalize=True)"
   ]
  },
  {
   "cell_type": "code",
   "execution_count": 40,
   "metadata": {
    "ExecuteTime": {
     "end_time": "2021-01-13T18:42:37.103090Z",
     "start_time": "2021-01-13T18:42:37.100098Z"
    }
   },
   "outputs": [],
   "source": [
    "### df.rename(columns={\"yr_renovated\": \"been_renovated\"},inplace=True)"
   ]
  },
  {
   "cell_type": "code",
   "execution_count": 39,
   "metadata": {
    "ExecuteTime": {
     "end_time": "2021-01-20T22:22:37.611698Z",
     "start_time": "2021-01-20T22:22:37.600732Z"
    }
   },
   "outputs": [],
   "source": [
    "df.dropna(subset=['view'],inplace=True)"
   ]
  },
  {
   "cell_type": "code",
   "execution_count": 40,
   "metadata": {
    "ExecuteTime": {
     "end_time": "2021-01-20T22:22:56.639561Z",
     "start_time": "2021-01-20T22:22:56.627604Z"
    }
   },
   "outputs": [],
   "source": [
    "ogdf.dropna(subset=['view'],inplace=True)"
   ]
  },
  {
   "cell_type": "code",
   "execution_count": 41,
   "metadata": {
    "ExecuteTime": {
     "end_time": "2021-01-20T22:22:57.748058Z",
     "start_time": "2021-01-20T22:22:57.744019Z"
    }
   },
   "outputs": [],
   "source": [
    "ogdf.fillna(0, inplace=True)"
   ]
  },
  {
   "cell_type": "code",
   "execution_count": 42,
   "metadata": {
    "ExecuteTime": {
     "end_time": "2021-01-20T22:22:58.374591Z",
     "start_time": "2021-01-20T22:22:58.367609Z"
    }
   },
   "outputs": [
    {
     "data": {
      "text/plain": [
       "id                   0\n",
       "date                 0\n",
       "price                0\n",
       "bedrooms             0\n",
       "bathrooms            0\n",
       "sqft_living          0\n",
       "sqft_lot             0\n",
       "floors               0\n",
       "waterfront        2370\n",
       "view                 0\n",
       "condition            0\n",
       "grade                0\n",
       "sqft_basement        0\n",
       "yr_built             0\n",
       "yr_renovated      3830\n",
       "zipcode              0\n",
       "lat                  0\n",
       "long                 0\n",
       "sqft_living15        0\n",
       "sqft_lot15           0\n",
       "month                0\n",
       "been_renovated       0\n",
       "dtype: int64"
      ]
     },
     "execution_count": 42,
     "metadata": {},
     "output_type": "execute_result"
    }
   ],
   "source": [
    "df.isna().sum()"
   ]
  },
  {
   "cell_type": "code",
   "execution_count": 43,
   "metadata": {
    "ExecuteTime": {
     "end_time": "2021-01-20T22:24:29.422608Z",
     "start_time": "2021-01-20T22:24:29.415630Z"
    }
   },
   "outputs": [],
   "source": [
    "total = 21534\n",
    "no_water = len(ogdf[ogdf.waterfront == 0])"
   ]
  },
  {
   "cell_type": "code",
   "execution_count": 46,
   "metadata": {
    "ExecuteTime": {
     "end_time": "2021-01-20T22:25:39.779174Z",
     "start_time": "2021-01-20T22:25:39.775183Z"
    }
   },
   "outputs": [],
   "source": [
    "waterfrontweights = [(1-no_water/total),no_water/total]"
   ]
  },
  {
   "cell_type": "code",
   "execution_count": 47,
   "metadata": {
    "ExecuteTime": {
     "end_time": "2021-01-20T22:25:44.982516Z",
     "start_time": "2021-01-20T22:25:44.974538Z"
    }
   },
   "outputs": [
    {
     "data": {
      "text/plain": [
       "[0.006733537661372746, 0.9932664623386273]"
      ]
     },
     "execution_count": 47,
     "metadata": {},
     "output_type": "execute_result"
    }
   ],
   "source": [
    "waterfrontweights"
   ]
  },
  {
   "cell_type": "code",
   "execution_count": 48,
   "metadata": {
    "ExecuteTime": {
     "end_time": "2021-01-20T22:35:31.104454Z",
     "start_time": "2021-01-20T22:35:31.009528Z"
    }
   },
   "outputs": [],
   "source": [
    "\n",
    "ogdf['waterfront'] = ogdf['waterfront'].apply(lambda x: np.random.choice(a,p=waterfrontweights) if np.isnan(x) else x)\n",
    "df['waterfront'] = df['waterfront'].apply(lambda x: np.random.choice(a,p=waterfrontweights) if np.isnan(x) else x)"
   ]
  },
  {
   "cell_type": "code",
   "execution_count": 47,
   "metadata": {
    "ExecuteTime": {
     "end_time": "2021-01-13T18:42:45.002797Z",
     "start_time": "2021-01-13T18:42:44.996815Z"
    }
   },
   "outputs": [],
   "source": [
    "#df.loc[(df.waterfront.isna()) & (df.price > 900000),'waterfront'] =1"
   ]
  },
  {
   "cell_type": "code",
   "execution_count": 50,
   "metadata": {
    "ExecuteTime": {
     "end_time": "2021-01-20T22:36:05.771996Z",
     "start_time": "2021-01-20T22:36:05.764016Z"
    }
   },
   "outputs": [],
   "source": [
    "#creating column for bedrooms in to categorical grouping\n",
    "df['num_bedrooms'] = df['bedrooms'].map(lambda x: '5+' if x >= 5 else x)"
   ]
  },
  {
   "cell_type": "markdown",
   "metadata": {},
   "source": [
    "## Base Model on Original DF"
   ]
  },
  {
   "cell_type": "code",
   "execution_count": 51,
   "metadata": {
    "ExecuteTime": {
     "end_time": "2021-01-20T22:36:10.671359Z",
     "start_time": "2021-01-20T22:36:10.663383Z"
    }
   },
   "outputs": [
    {
     "data": {
      "text/plain": [
       "id               0\n",
       "date             0\n",
       "price            0\n",
       "bedrooms         0\n",
       "bathrooms        0\n",
       "sqft_living      0\n",
       "sqft_lot         0\n",
       "floors           0\n",
       "waterfront       0\n",
       "view             0\n",
       "condition        0\n",
       "grade            0\n",
       "sqft_basement    0\n",
       "yr_built         0\n",
       "yr_renovated     0\n",
       "zipcode          0\n",
       "lat              0\n",
       "long             0\n",
       "sqft_living15    0\n",
       "sqft_lot15       0\n",
       "dtype: int64"
      ]
     },
     "execution_count": 51,
     "metadata": {},
     "output_type": "execute_result"
    }
   ],
   "source": [
    "ogdf.isna().sum()"
   ]
  },
  {
   "cell_type": "code",
   "execution_count": 52,
   "metadata": {
    "ExecuteTime": {
     "end_time": "2021-01-20T22:36:13.840040Z",
     "start_time": "2021-01-20T22:36:13.833090Z"
    }
   },
   "outputs": [
    {
     "data": {
      "text/plain": [
       "Index(['bedrooms', 'bathrooms', 'sqft_living', 'sqft_lot', 'floors',\n",
       "       'waterfront', 'view', 'condition', 'grade', 'sqft_basement', 'yr_built',\n",
       "       'yr_renovated', 'zipcode', 'lat', 'long', 'sqft_lot15'],\n",
       "      dtype='object')"
      ]
     },
     "execution_count": 52,
     "metadata": {},
     "output_type": "execute_result"
    }
   ],
   "source": [
    "outcome = 'price'\n",
    "x_cols = ogdf.drop(['price', 'id', 'date', 'sqft_living15',], axis = 1).columns\n",
    "\n",
    "x_cols"
   ]
  },
  {
   "cell_type": "code",
   "execution_count": 53,
   "metadata": {
    "ExecuteTime": {
     "end_time": "2021-01-20T22:36:14.076438Z",
     "start_time": "2021-01-20T22:36:13.998617Z"
    }
   },
   "outputs": [
    {
     "data": {
      "text/html": [
       "<table class=\"simpletable\">\n",
       "<caption>OLS Regression Results</caption>\n",
       "<tr>\n",
       "  <th>Dep. Variable:</th>          <td>price</td>      <th>  R-squared:         </th>  <td>   0.699</td>  \n",
       "</tr>\n",
       "<tr>\n",
       "  <th>Model:</th>                   <td>OLS</td>       <th>  Adj. R-squared:    </th>  <td>   0.699</td>  \n",
       "</tr>\n",
       "<tr>\n",
       "  <th>Method:</th>             <td>Least Squares</td>  <th>  F-statistic:       </th>  <td>   3127.</td>  \n",
       "</tr>\n",
       "<tr>\n",
       "  <th>Date:</th>             <td>Wed, 20 Jan 2021</td> <th>  Prob (F-statistic):</th>   <td>  0.00</td>   \n",
       "</tr>\n",
       "<tr>\n",
       "  <th>Time:</th>                 <td>17:36:14</td>     <th>  Log-Likelihood:    </th> <td>-2.9348e+05</td>\n",
       "</tr>\n",
       "<tr>\n",
       "  <th>No. Observations:</th>      <td> 21534</td>      <th>  AIC:               </th>  <td>5.870e+05</td> \n",
       "</tr>\n",
       "<tr>\n",
       "  <th>Df Residuals:</th>          <td> 21517</td>      <th>  BIC:               </th>  <td>5.871e+05</td> \n",
       "</tr>\n",
       "<tr>\n",
       "  <th>Df Model:</th>              <td>    16</td>      <th>                     </th>      <td> </td>     \n",
       "</tr>\n",
       "<tr>\n",
       "  <th>Covariance Type:</th>      <td>nonrobust</td>    <th>                     </th>      <td> </td>     \n",
       "</tr>\n",
       "</table>\n",
       "<table class=\"simpletable\">\n",
       "<tr>\n",
       "        <td></td>           <th>coef</th>     <th>std err</th>      <th>t</th>      <th>P>|t|</th>  <th>[0.025</th>    <th>0.975]</th>  \n",
       "</tr>\n",
       "<tr>\n",
       "  <th>Intercept</th>     <td> 1.073e+07</td> <td> 2.88e+06</td> <td>    3.729</td> <td> 0.000</td> <td> 5.09e+06</td> <td> 1.64e+07</td>\n",
       "</tr>\n",
       "<tr>\n",
       "  <th>bedrooms</th>      <td>-3.592e+04</td> <td> 1898.646</td> <td>  -18.918</td> <td> 0.000</td> <td>-3.96e+04</td> <td>-3.22e+04</td>\n",
       "</tr>\n",
       "<tr>\n",
       "  <th>bathrooms</th>     <td> 3.976e+04</td> <td> 3255.042</td> <td>   12.216</td> <td> 0.000</td> <td> 3.34e+04</td> <td> 4.61e+04</td>\n",
       "</tr>\n",
       "<tr>\n",
       "  <th>sqft_living</th>   <td>  188.1027</td> <td>    3.355</td> <td>   56.072</td> <td> 0.000</td> <td>  181.527</td> <td>  194.678</td>\n",
       "</tr>\n",
       "<tr>\n",
       "  <th>sqft_lot</th>      <td>    0.1107</td> <td>    0.048</td> <td>    2.318</td> <td> 0.020</td> <td>    0.017</td> <td>    0.204</td>\n",
       "</tr>\n",
       "<tr>\n",
       "  <th>floors</th>        <td> 6262.4862</td> <td> 3554.538</td> <td>    1.762</td> <td> 0.078</td> <td> -704.673</td> <td> 1.32e+04</td>\n",
       "</tr>\n",
       "<tr>\n",
       "  <th>waterfront</th>    <td> 5.929e+05</td> <td> 1.82e+04</td> <td>   32.650</td> <td> 0.000</td> <td> 5.57e+05</td> <td> 6.29e+05</td>\n",
       "</tr>\n",
       "<tr>\n",
       "  <th>view</th>          <td> 5.661e+04</td> <td> 2093.412</td> <td>   27.040</td> <td> 0.000</td> <td> 5.25e+04</td> <td> 6.07e+04</td>\n",
       "</tr>\n",
       "<tr>\n",
       "  <th>condition</th>     <td> 2.586e+04</td> <td> 2340.857</td> <td>   11.045</td> <td> 0.000</td> <td> 2.13e+04</td> <td> 3.04e+04</td>\n",
       "</tr>\n",
       "<tr>\n",
       "  <th>grade</th>         <td> 1.011e+05</td> <td> 2066.317</td> <td>   48.911</td> <td> 0.000</td> <td>  9.7e+04</td> <td> 1.05e+05</td>\n",
       "</tr>\n",
       "<tr>\n",
       "  <th>sqft_basement</th> <td>  -32.2018</td> <td>    4.279</td> <td>   -7.526</td> <td> 0.000</td> <td>  -40.588</td> <td>  -23.816</td>\n",
       "</tr>\n",
       "<tr>\n",
       "  <th>yr_built</th>      <td>-2636.4796</td> <td>   71.865</td> <td>  -36.687</td> <td> 0.000</td> <td>-2777.340</td> <td>-2495.619</td>\n",
       "</tr>\n",
       "<tr>\n",
       "  <th>yr_renovated</th>  <td> 4.505e+04</td> <td> 7917.964</td> <td>    5.690</td> <td> 0.000</td> <td> 2.95e+04</td> <td> 6.06e+04</td>\n",
       "</tr>\n",
       "<tr>\n",
       "  <th>zipcode</th>       <td> -609.2843</td> <td>   32.819</td> <td>  -18.565</td> <td> 0.000</td> <td> -673.612</td> <td> -544.956</td>\n",
       "</tr>\n",
       "<tr>\n",
       "  <th>lat</th>           <td> 6.044e+05</td> <td> 1.07e+04</td> <td>   56.407</td> <td> 0.000</td> <td> 5.83e+05</td> <td> 6.25e+05</td>\n",
       "</tr>\n",
       "<tr>\n",
       "  <th>long</th>          <td>-2.028e+05</td> <td>  1.3e+04</td> <td>  -15.628</td> <td> 0.000</td> <td>-2.28e+05</td> <td>-1.77e+05</td>\n",
       "</tr>\n",
       "<tr>\n",
       "  <th>sqft_lot15</th>    <td>   -0.3687</td> <td>    0.073</td> <td>   -5.041</td> <td> 0.000</td> <td>   -0.512</td> <td>   -0.225</td>\n",
       "</tr>\n",
       "</table>\n",
       "<table class=\"simpletable\">\n",
       "<tr>\n",
       "  <th>Omnibus:</th>       <td>17961.467</td> <th>  Durbin-Watson:     </th>  <td>   1.988</td>  \n",
       "</tr>\n",
       "<tr>\n",
       "  <th>Prob(Omnibus):</th>  <td> 0.000</td>   <th>  Jarque-Bera (JB):  </th> <td>1695602.014</td>\n",
       "</tr>\n",
       "<tr>\n",
       "  <th>Skew:</th>           <td> 3.475</td>   <th>  Prob(JB):          </th>  <td>    0.00</td>  \n",
       "</tr>\n",
       "<tr>\n",
       "  <th>Kurtosis:</th>       <td>45.912</td>   <th>  Cond. No.          </th>  <td>2.12e+08</td>  \n",
       "</tr>\n",
       "</table><br/><br/>Notes:<br/>[1] Standard Errors assume that the covariance matrix of the errors is correctly specified.<br/>[2] The condition number is large, 2.12e+08. This might indicate that there are<br/>strong multicollinearity or other numerical problems."
      ],
      "text/plain": [
       "<class 'statsmodels.iolib.summary.Summary'>\n",
       "\"\"\"\n",
       "                            OLS Regression Results                            \n",
       "==============================================================================\n",
       "Dep. Variable:                  price   R-squared:                       0.699\n",
       "Model:                            OLS   Adj. R-squared:                  0.699\n",
       "Method:                 Least Squares   F-statistic:                     3127.\n",
       "Date:                Wed, 20 Jan 2021   Prob (F-statistic):               0.00\n",
       "Time:                        17:36:14   Log-Likelihood:            -2.9348e+05\n",
       "No. Observations:               21534   AIC:                         5.870e+05\n",
       "Df Residuals:                   21517   BIC:                         5.871e+05\n",
       "Df Model:                          16                                         \n",
       "Covariance Type:            nonrobust                                         \n",
       "=================================================================================\n",
       "                    coef    std err          t      P>|t|      [0.025      0.975]\n",
       "---------------------------------------------------------------------------------\n",
       "Intercept      1.073e+07   2.88e+06      3.729      0.000    5.09e+06    1.64e+07\n",
       "bedrooms      -3.592e+04   1898.646    -18.918      0.000   -3.96e+04   -3.22e+04\n",
       "bathrooms      3.976e+04   3255.042     12.216      0.000    3.34e+04    4.61e+04\n",
       "sqft_living     188.1027      3.355     56.072      0.000     181.527     194.678\n",
       "sqft_lot          0.1107      0.048      2.318      0.020       0.017       0.204\n",
       "floors         6262.4862   3554.538      1.762      0.078    -704.673    1.32e+04\n",
       "waterfront     5.929e+05   1.82e+04     32.650      0.000    5.57e+05    6.29e+05\n",
       "view           5.661e+04   2093.412     27.040      0.000    5.25e+04    6.07e+04\n",
       "condition      2.586e+04   2340.857     11.045      0.000    2.13e+04    3.04e+04\n",
       "grade          1.011e+05   2066.317     48.911      0.000     9.7e+04    1.05e+05\n",
       "sqft_basement   -32.2018      4.279     -7.526      0.000     -40.588     -23.816\n",
       "yr_built      -2636.4796     71.865    -36.687      0.000   -2777.340   -2495.619\n",
       "yr_renovated   4.505e+04   7917.964      5.690      0.000    2.95e+04    6.06e+04\n",
       "zipcode        -609.2843     32.819    -18.565      0.000    -673.612    -544.956\n",
       "lat            6.044e+05   1.07e+04     56.407      0.000    5.83e+05    6.25e+05\n",
       "long          -2.028e+05    1.3e+04    -15.628      0.000   -2.28e+05   -1.77e+05\n",
       "sqft_lot15       -0.3687      0.073     -5.041      0.000      -0.512      -0.225\n",
       "==============================================================================\n",
       "Omnibus:                    17961.467   Durbin-Watson:                   1.988\n",
       "Prob(Omnibus):                  0.000   Jarque-Bera (JB):          1695602.014\n",
       "Skew:                           3.475   Prob(JB):                         0.00\n",
       "Kurtosis:                      45.912   Cond. No.                     2.12e+08\n",
       "==============================================================================\n",
       "\n",
       "Notes:\n",
       "[1] Standard Errors assume that the covariance matrix of the errors is correctly specified.\n",
       "[2] The condition number is large, 2.12e+08. This might indicate that there are\n",
       "strong multicollinearity or other numerical problems.\n",
       "\"\"\""
      ]
     },
     "execution_count": 53,
     "metadata": {},
     "output_type": "execute_result"
    }
   ],
   "source": [
    "predictors = '+'.join(x_cols)\n",
    "\n",
    "predictors\n",
    "\n",
    "f = outcome + '~' + predictors \n",
    "\n",
    "f\n",
    "\n",
    "model = ols(formula= f, data= ogdf).fit()\n",
    "model.summary()"
   ]
  },
  {
   "cell_type": "markdown",
   "metadata": {},
   "source": [
    "## DF model w/out sqft living or lot 15"
   ]
  },
  {
   "cell_type": "code",
   "execution_count": 56,
   "metadata": {
    "ExecuteTime": {
     "end_time": "2021-01-20T22:39:08.573883Z",
     "start_time": "2021-01-20T22:39:08.564913Z"
    }
   },
   "outputs": [
    {
     "data": {
      "text/plain": [
       "Index(['bedrooms', 'bathrooms', 'sqft_living', 'sqft_lot', 'floors',\n",
       "       'waterfront', 'view', 'condition', 'grade', 'sqft_basement', 'yr_built',\n",
       "       'yr_renovated', 'zipcode', 'lat', 'long', 'month', 'been_renovated',\n",
       "       'num_bedrooms'],\n",
       "      dtype='object')"
      ]
     },
     "execution_count": 56,
     "metadata": {},
     "output_type": "execute_result"
    }
   ],
   "source": [
    "outcome = 'price'\n",
    "x_cols = df.drop(['price', 'id', 'date', 'sqft_living15','sqft_lot15'], axis = 1).columns\n",
    "\n",
    "x_cols"
   ]
  },
  {
   "cell_type": "code",
   "execution_count": 57,
   "metadata": {
    "ExecuteTime": {
     "end_time": "2021-01-20T22:39:11.247089Z",
     "start_time": "2021-01-20T22:39:11.105649Z"
    }
   },
   "outputs": [
    {
     "data": {
      "text/html": [
       "<table class=\"simpletable\">\n",
       "<caption>OLS Regression Results</caption>\n",
       "<tr>\n",
       "  <th>Dep. Variable:</th>          <td>price</td>      <th>  R-squared:         </th>  <td>   0.688</td>  \n",
       "</tr>\n",
       "<tr>\n",
       "  <th>Model:</th>                   <td>OLS</td>       <th>  Adj. R-squared:    </th>  <td>   0.687</td>  \n",
       "</tr>\n",
       "<tr>\n",
       "  <th>Method:</th>             <td>Least Squares</td>  <th>  F-statistic:       </th>  <td>   1855.</td>  \n",
       "</tr>\n",
       "<tr>\n",
       "  <th>Date:</th>             <td>Wed, 20 Jan 2021</td> <th>  Prob (F-statistic):</th>   <td>  0.00</td>   \n",
       "</tr>\n",
       "<tr>\n",
       "  <th>Time:</th>                 <td>17:39:11</td>     <th>  Log-Likelihood:    </th> <td>-2.4169e+05</td>\n",
       "</tr>\n",
       "<tr>\n",
       "  <th>No. Observations:</th>      <td> 17704</td>      <th>  AIC:               </th>  <td>4.834e+05</td> \n",
       "</tr>\n",
       "<tr>\n",
       "  <th>Df Residuals:</th>          <td> 17682</td>      <th>  BIC:               </th>  <td>4.836e+05</td> \n",
       "</tr>\n",
       "<tr>\n",
       "  <th>Df Model:</th>              <td>    21</td>      <th>                     </th>      <td> </td>     \n",
       "</tr>\n",
       "<tr>\n",
       "  <th>Covariance Type:</th>      <td>nonrobust</td>    <th>                     </th>      <td> </td>     \n",
       "</tr>\n",
       "</table>\n",
       "<table class=\"simpletable\">\n",
       "<tr>\n",
       "           <td></td>             <th>coef</th>     <th>std err</th>      <th>t</th>      <th>P>|t|</th>  <th>[0.025</th>    <th>0.975]</th>  \n",
       "</tr>\n",
       "<tr>\n",
       "  <th>Intercept</th>          <td>  1.06e+07</td> <td> 3.26e+06</td> <td>    3.254</td> <td> 0.001</td> <td> 4.22e+06</td> <td>  1.7e+07</td>\n",
       "</tr>\n",
       "<tr>\n",
       "  <th>num_bedrooms[T.2]</th>  <td>-4.437e+04</td> <td> 1.78e+04</td> <td>   -2.491</td> <td> 0.013</td> <td>-7.93e+04</td> <td>-9453.454</td>\n",
       "</tr>\n",
       "<tr>\n",
       "  <th>num_bedrooms[T.3]</th>  <td>-1.081e+05</td> <td> 2.01e+04</td> <td>   -5.375</td> <td> 0.000</td> <td>-1.47e+05</td> <td>-6.87e+04</td>\n",
       "</tr>\n",
       "<tr>\n",
       "  <th>num_bedrooms[T.4]</th>  <td> -1.54e+05</td> <td> 2.39e+04</td> <td>   -6.435</td> <td> 0.000</td> <td>-2.01e+05</td> <td>-1.07e+05</td>\n",
       "</tr>\n",
       "<tr>\n",
       "  <th>num_bedrooms[T.5+]</th> <td>-1.514e+05</td> <td> 2.97e+04</td> <td>   -5.091</td> <td> 0.000</td> <td> -2.1e+05</td> <td>-9.31e+04</td>\n",
       "</tr>\n",
       "<tr>\n",
       "  <th>bedrooms</th>           <td>-6445.1958</td> <td> 5661.663</td> <td>   -1.138</td> <td> 0.255</td> <td>-1.75e+04</td> <td> 4652.219</td>\n",
       "</tr>\n",
       "<tr>\n",
       "  <th>bathrooms</th>          <td> 4.225e+04</td> <td> 3681.215</td> <td>   11.478</td> <td> 0.000</td> <td>  3.5e+04</td> <td> 4.95e+04</td>\n",
       "</tr>\n",
       "<tr>\n",
       "  <th>sqft_living</th>        <td>  199.1924</td> <td>    3.834</td> <td>   51.959</td> <td> 0.000</td> <td>  191.678</td> <td>  206.707</td>\n",
       "</tr>\n",
       "<tr>\n",
       "  <th>sqft_lot</th>           <td>   -0.0835</td> <td>    0.039</td> <td>   -2.161</td> <td> 0.031</td> <td>   -0.159</td> <td>   -0.008</td>\n",
       "</tr>\n",
       "<tr>\n",
       "  <th>floors</th>             <td> 3486.9468</td> <td> 4021.161</td> <td>    0.867</td> <td> 0.386</td> <td>-4394.924</td> <td> 1.14e+04</td>\n",
       "</tr>\n",
       "<tr>\n",
       "  <th>waterfront</th>         <td> 2.764e+04</td> <td> 4858.738</td> <td>    5.689</td> <td> 0.000</td> <td> 1.81e+04</td> <td> 3.72e+04</td>\n",
       "</tr>\n",
       "<tr>\n",
       "  <th>view</th>               <td> 7.978e+04</td> <td> 2232.625</td> <td>   35.732</td> <td> 0.000</td> <td> 7.54e+04</td> <td> 8.42e+04</td>\n",
       "</tr>\n",
       "<tr>\n",
       "  <th>condition</th>          <td> 2.905e+04</td> <td> 2657.393</td> <td>   10.931</td> <td> 0.000</td> <td> 2.38e+04</td> <td> 3.43e+04</td>\n",
       "</tr>\n",
       "<tr>\n",
       "  <th>grade</th>              <td> 9.708e+04</td> <td> 2354.388</td> <td>   41.234</td> <td> 0.000</td> <td> 9.25e+04</td> <td> 1.02e+05</td>\n",
       "</tr>\n",
       "<tr>\n",
       "  <th>sqft_basement</th>      <td>  -44.2077</td> <td>    4.823</td> <td>   -9.166</td> <td> 0.000</td> <td>  -53.662</td> <td>  -34.754</td>\n",
       "</tr>\n",
       "<tr>\n",
       "  <th>yr_built</th>           <td>-2554.5929</td> <td>   82.286</td> <td>  -31.045</td> <td> 0.000</td> <td>-2715.882</td> <td>-2393.304</td>\n",
       "</tr>\n",
       "<tr>\n",
       "  <th>yr_renovated</th>       <td> 3042.7815</td> <td>  486.848</td> <td>    6.250</td> <td> 0.000</td> <td> 2088.511</td> <td> 3997.052</td>\n",
       "</tr>\n",
       "<tr>\n",
       "  <th>zipcode</th>            <td> -621.6681</td> <td>   37.033</td> <td>  -16.787</td> <td> 0.000</td> <td> -694.256</td> <td> -549.080</td>\n",
       "</tr>\n",
       "<tr>\n",
       "  <th>lat</th>                <td> 5.972e+05</td> <td> 1.21e+04</td> <td>   49.331</td> <td> 0.000</td> <td> 5.74e+05</td> <td> 6.21e+05</td>\n",
       "</tr>\n",
       "<tr>\n",
       "  <th>long</th>               <td>-2.155e+05</td> <td> 1.46e+04</td> <td>  -14.786</td> <td> 0.000</td> <td>-2.44e+05</td> <td>-1.87e+05</td>\n",
       "</tr>\n",
       "<tr>\n",
       "  <th>month</th>              <td>-2907.6396</td> <td>  496.128</td> <td>   -5.861</td> <td> 0.000</td> <td>-3880.099</td> <td>-1935.180</td>\n",
       "</tr>\n",
       "<tr>\n",
       "  <th>been_renovated</th>     <td>-6.018e+06</td> <td> 9.72e+05</td> <td>   -6.193</td> <td> 0.000</td> <td>-7.92e+06</td> <td>-4.11e+06</td>\n",
       "</tr>\n",
       "</table>\n",
       "<table class=\"simpletable\">\n",
       "<tr>\n",
       "  <th>Omnibus:</th>       <td>15434.514</td> <th>  Durbin-Watson:     </th>  <td>   1.991</td>  \n",
       "</tr>\n",
       "<tr>\n",
       "  <th>Prob(Omnibus):</th>  <td> 0.000</td>   <th>  Jarque-Bera (JB):  </th> <td>1587107.466</td>\n",
       "</tr>\n",
       "<tr>\n",
       "  <th>Skew:</th>           <td> 3.712</td>   <th>  Prob(JB):          </th>  <td>    0.00</td>  \n",
       "</tr>\n",
       "<tr>\n",
       "  <th>Kurtosis:</th>       <td>48.787</td>   <th>  Cond. No.          </th>  <td>2.10e+08</td>  \n",
       "</tr>\n",
       "</table><br/><br/>Notes:<br/>[1] Standard Errors assume that the covariance matrix of the errors is correctly specified.<br/>[2] The condition number is large, 2.1e+08. This might indicate that there are<br/>strong multicollinearity or other numerical problems."
      ],
      "text/plain": [
       "<class 'statsmodels.iolib.summary.Summary'>\n",
       "\"\"\"\n",
       "                            OLS Regression Results                            \n",
       "==============================================================================\n",
       "Dep. Variable:                  price   R-squared:                       0.688\n",
       "Model:                            OLS   Adj. R-squared:                  0.687\n",
       "Method:                 Least Squares   F-statistic:                     1855.\n",
       "Date:                Wed, 20 Jan 2021   Prob (F-statistic):               0.00\n",
       "Time:                        17:39:11   Log-Likelihood:            -2.4169e+05\n",
       "No. Observations:               17704   AIC:                         4.834e+05\n",
       "Df Residuals:                   17682   BIC:                         4.836e+05\n",
       "Df Model:                          21                                         \n",
       "Covariance Type:            nonrobust                                         \n",
       "======================================================================================\n",
       "                         coef    std err          t      P>|t|      [0.025      0.975]\n",
       "--------------------------------------------------------------------------------------\n",
       "Intercept            1.06e+07   3.26e+06      3.254      0.001    4.22e+06     1.7e+07\n",
       "num_bedrooms[T.2]  -4.437e+04   1.78e+04     -2.491      0.013   -7.93e+04   -9453.454\n",
       "num_bedrooms[T.3]  -1.081e+05   2.01e+04     -5.375      0.000   -1.47e+05   -6.87e+04\n",
       "num_bedrooms[T.4]   -1.54e+05   2.39e+04     -6.435      0.000   -2.01e+05   -1.07e+05\n",
       "num_bedrooms[T.5+] -1.514e+05   2.97e+04     -5.091      0.000    -2.1e+05   -9.31e+04\n",
       "bedrooms           -6445.1958   5661.663     -1.138      0.255   -1.75e+04    4652.219\n",
       "bathrooms           4.225e+04   3681.215     11.478      0.000     3.5e+04    4.95e+04\n",
       "sqft_living          199.1924      3.834     51.959      0.000     191.678     206.707\n",
       "sqft_lot              -0.0835      0.039     -2.161      0.031      -0.159      -0.008\n",
       "floors              3486.9468   4021.161      0.867      0.386   -4394.924    1.14e+04\n",
       "waterfront          2.764e+04   4858.738      5.689      0.000    1.81e+04    3.72e+04\n",
       "view                7.978e+04   2232.625     35.732      0.000    7.54e+04    8.42e+04\n",
       "condition           2.905e+04   2657.393     10.931      0.000    2.38e+04    3.43e+04\n",
       "grade               9.708e+04   2354.388     41.234      0.000    9.25e+04    1.02e+05\n",
       "sqft_basement        -44.2077      4.823     -9.166      0.000     -53.662     -34.754\n",
       "yr_built           -2554.5929     82.286    -31.045      0.000   -2715.882   -2393.304\n",
       "yr_renovated        3042.7815    486.848      6.250      0.000    2088.511    3997.052\n",
       "zipcode             -621.6681     37.033    -16.787      0.000    -694.256    -549.080\n",
       "lat                 5.972e+05   1.21e+04     49.331      0.000    5.74e+05    6.21e+05\n",
       "long               -2.155e+05   1.46e+04    -14.786      0.000   -2.44e+05   -1.87e+05\n",
       "month              -2907.6396    496.128     -5.861      0.000   -3880.099   -1935.180\n",
       "been_renovated     -6.018e+06   9.72e+05     -6.193      0.000   -7.92e+06   -4.11e+06\n",
       "==============================================================================\n",
       "Omnibus:                    15434.514   Durbin-Watson:                   1.991\n",
       "Prob(Omnibus):                  0.000   Jarque-Bera (JB):          1587107.466\n",
       "Skew:                           3.712   Prob(JB):                         0.00\n",
       "Kurtosis:                      48.787   Cond. No.                     2.10e+08\n",
       "==============================================================================\n",
       "\n",
       "Notes:\n",
       "[1] Standard Errors assume that the covariance matrix of the errors is correctly specified.\n",
       "[2] The condition number is large, 2.1e+08. This might indicate that there are\n",
       "strong multicollinearity or other numerical problems.\n",
       "\"\"\""
      ]
     },
     "execution_count": 57,
     "metadata": {},
     "output_type": "execute_result"
    }
   ],
   "source": [
    "predictors = '+'.join(x_cols)\n",
    "\n",
    "predictors\n",
    "\n",
    "f = outcome + '~' + predictors \n",
    "\n",
    "f\n",
    "\n",
    "model = ols(formula= f, data= df).fit()\n",
    "model.summary()"
   ]
  },
  {
   "cell_type": "code",
   "execution_count": 62,
   "metadata": {
    "ExecuteTime": {
     "end_time": "2021-01-20T23:52:19.652271Z",
     "start_time": "2021-01-20T23:52:19.641302Z"
    }
   },
   "outputs": [
    {
     "data": {
      "text/plain": [
       "Index(['bathrooms', 'sqft_living', 'sqft_lot', 'floors', 'waterfront', 'view',\n",
       "       'condition', 'grade', 'sqft_basement', 'zipcode', 'lat', 'long',\n",
       "       'sqft_lot15', 'been_renovated', 'num_bedrooms', 'age'],\n",
       "      dtype='object')"
      ]
     },
     "execution_count": 62,
     "metadata": {},
     "output_type": "execute_result"
    }
   ],
   "source": [
    "outcome = 'price'\n",
    "x_cols = df.drop(['price', 'id', 'date', 'sqft_living15','month','yr_built','bedrooms','yr_renovated'], axis = 1).columns\n",
    "\n",
    "x_cols"
   ]
  },
  {
   "cell_type": "code",
   "execution_count": 63,
   "metadata": {
    "ExecuteTime": {
     "end_time": "2021-01-20T23:52:19.988202Z",
     "start_time": "2021-01-20T23:52:19.852740Z"
    }
   },
   "outputs": [
    {
     "data": {
      "text/html": [
       "<table class=\"simpletable\">\n",
       "<caption>OLS Regression Results</caption>\n",
       "<tr>\n",
       "  <th>Dep. Variable:</th>          <td>price</td>      <th>  R-squared:         </th>  <td>   0.687</td>  \n",
       "</tr>\n",
       "<tr>\n",
       "  <th>Model:</th>                   <td>OLS</td>       <th>  Adj. R-squared:    </th>  <td>   0.686</td>  \n",
       "</tr>\n",
       "<tr>\n",
       "  <th>Method:</th>             <td>Least Squares</td>  <th>  F-statistic:       </th>  <td>   2482.</td>  \n",
       "</tr>\n",
       "<tr>\n",
       "  <th>Date:</th>             <td>Wed, 20 Jan 2021</td> <th>  Prob (F-statistic):</th>   <td>  0.00</td>   \n",
       "</tr>\n",
       "<tr>\n",
       "  <th>Time:</th>                 <td>18:52:19</td>     <th>  Log-Likelihood:    </th> <td>-2.9392e+05</td>\n",
       "</tr>\n",
       "<tr>\n",
       "  <th>No. Observations:</th>      <td> 21534</td>      <th>  AIC:               </th>  <td>5.879e+05</td> \n",
       "</tr>\n",
       "<tr>\n",
       "  <th>Df Residuals:</th>          <td> 21514</td>      <th>  BIC:               </th>  <td>5.880e+05</td> \n",
       "</tr>\n",
       "<tr>\n",
       "  <th>Df Model:</th>              <td>    19</td>      <th>                     </th>      <td> </td>     \n",
       "</tr>\n",
       "<tr>\n",
       "  <th>Covariance Type:</th>      <td>nonrobust</td>    <th>                     </th>      <td> </td>     \n",
       "</tr>\n",
       "</table>\n",
       "<table class=\"simpletable\">\n",
       "<tr>\n",
       "           <td></td>             <th>coef</th>     <th>std err</th>      <th>t</th>      <th>P>|t|</th>  <th>[0.025</th>    <th>0.975]</th>  \n",
       "</tr>\n",
       "<tr>\n",
       "  <th>Intercept</th>          <td> 8.004e+06</td> <td>  2.9e+06</td> <td>    2.761</td> <td> 0.006</td> <td> 2.32e+06</td> <td> 1.37e+07</td>\n",
       "</tr>\n",
       "<tr>\n",
       "  <th>num_bedrooms[T.2]</th>  <td>-4.874e+04</td> <td> 1.52e+04</td> <td>   -3.204</td> <td> 0.001</td> <td>-7.86e+04</td> <td>-1.89e+04</td>\n",
       "</tr>\n",
       "<tr>\n",
       "  <th>num_bedrooms[T.3]</th>  <td>-1.152e+05</td> <td>  1.5e+04</td> <td>   -7.686</td> <td> 0.000</td> <td>-1.45e+05</td> <td>-8.58e+04</td>\n",
       "</tr>\n",
       "<tr>\n",
       "  <th>num_bedrooms[T.4]</th>  <td>-1.654e+05</td> <td> 1.53e+04</td> <td>  -10.808</td> <td> 0.000</td> <td>-1.95e+05</td> <td>-1.35e+05</td>\n",
       "</tr>\n",
       "<tr>\n",
       "  <th>num_bedrooms[T.5+]</th> <td>-1.692e+05</td> <td> 1.61e+04</td> <td>  -10.501</td> <td> 0.000</td> <td>-2.01e+05</td> <td>-1.38e+05</td>\n",
       "</tr>\n",
       "<tr>\n",
       "  <th>bathrooms</th>          <td> 3.892e+04</td> <td> 3319.847</td> <td>   11.723</td> <td> 0.000</td> <td> 3.24e+04</td> <td> 4.54e+04</td>\n",
       "</tr>\n",
       "<tr>\n",
       "  <th>sqft_living</th>        <td>  192.3576</td> <td>    3.459</td> <td>   55.615</td> <td> 0.000</td> <td>  185.578</td> <td>  199.137</td>\n",
       "</tr>\n",
       "<tr>\n",
       "  <th>sqft_lot</th>           <td>    0.0767</td> <td>    0.049</td> <td>    1.572</td> <td> 0.116</td> <td>   -0.019</td> <td>    0.172</td>\n",
       "</tr>\n",
       "<tr>\n",
       "  <th>floors</th>             <td> 6825.0936</td> <td> 3629.114</td> <td>    1.881</td> <td> 0.060</td> <td> -288.240</td> <td> 1.39e+04</td>\n",
       "</tr>\n",
       "<tr>\n",
       "  <th>waterfront</th>         <td> 2.479e+04</td> <td> 4389.177</td> <td>    5.647</td> <td> 0.000</td> <td> 1.62e+04</td> <td> 3.34e+04</td>\n",
       "</tr>\n",
       "<tr>\n",
       "  <th>view</th>               <td> 7.898e+04</td> <td> 2009.175</td> <td>   39.310</td> <td> 0.000</td> <td>  7.5e+04</td> <td> 8.29e+04</td>\n",
       "</tr>\n",
       "<tr>\n",
       "  <th>condition</th>          <td> 2.807e+04</td> <td> 2393.851</td> <td>   11.727</td> <td> 0.000</td> <td> 2.34e+04</td> <td> 3.28e+04</td>\n",
       "</tr>\n",
       "<tr>\n",
       "  <th>grade</th>              <td> 1.015e+05</td> <td> 2117.304</td> <td>   47.925</td> <td> 0.000</td> <td> 9.73e+04</td> <td> 1.06e+05</td>\n",
       "</tr>\n",
       "<tr>\n",
       "  <th>sqft_basement</th>      <td>  -37.0956</td> <td>    4.371</td> <td>   -8.487</td> <td> 0.000</td> <td>  -45.663</td> <td>  -28.528</td>\n",
       "</tr>\n",
       "<tr>\n",
       "  <th>zipcode</th>            <td> -631.5332</td> <td>   33.541</td> <td>  -18.829</td> <td> 0.000</td> <td> -697.276</td> <td> -565.790</td>\n",
       "</tr>\n",
       "<tr>\n",
       "  <th>lat</th>                <td> 5.933e+05</td> <td>  1.1e+04</td> <td>   54.147</td> <td> 0.000</td> <td> 5.72e+05</td> <td> 6.15e+05</td>\n",
       "</tr>\n",
       "<tr>\n",
       "  <th>long</th>               <td>-2.036e+05</td> <td> 1.33e+04</td> <td>  -15.361</td> <td> 0.000</td> <td> -2.3e+05</td> <td>-1.78e+05</td>\n",
       "</tr>\n",
       "<tr>\n",
       "  <th>sqft_lot15</th>         <td>   -0.3438</td> <td>    0.075</td> <td>   -4.604</td> <td> 0.000</td> <td>   -0.490</td> <td>   -0.197</td>\n",
       "</tr>\n",
       "<tr>\n",
       "  <th>been_renovated</th>     <td> 5.127e+04</td> <td> 7455.770</td> <td>    6.877</td> <td> 0.000</td> <td> 3.67e+04</td> <td> 6.59e+04</td>\n",
       "</tr>\n",
       "<tr>\n",
       "  <th>age</th>                <td> 2568.9302</td> <td>   73.151</td> <td>   35.118</td> <td> 0.000</td> <td> 2425.549</td> <td> 2712.311</td>\n",
       "</tr>\n",
       "</table>\n",
       "<table class=\"simpletable\">\n",
       "<tr>\n",
       "  <th>Omnibus:</th>       <td>18332.702</td> <th>  Durbin-Watson:     </th>  <td>   1.994</td>  \n",
       "</tr>\n",
       "<tr>\n",
       "  <th>Prob(Omnibus):</th>  <td> 0.000</td>   <th>  Jarque-Bera (JB):  </th> <td>1725864.157</td>\n",
       "</tr>\n",
       "<tr>\n",
       "  <th>Skew:</th>           <td> 3.599</td>   <th>  Prob(JB):          </th>  <td>    0.00</td>  \n",
       "</tr>\n",
       "<tr>\n",
       "  <th>Kurtosis:</th>       <td>46.263</td>   <th>  Cond. No.          </th>  <td>2.09e+08</td>  \n",
       "</tr>\n",
       "</table><br/><br/>Notes:<br/>[1] Standard Errors assume that the covariance matrix of the errors is correctly specified.<br/>[2] The condition number is large, 2.09e+08. This might indicate that there are<br/>strong multicollinearity or other numerical problems."
      ],
      "text/plain": [
       "<class 'statsmodels.iolib.summary.Summary'>\n",
       "\"\"\"\n",
       "                            OLS Regression Results                            \n",
       "==============================================================================\n",
       "Dep. Variable:                  price   R-squared:                       0.687\n",
       "Model:                            OLS   Adj. R-squared:                  0.686\n",
       "Method:                 Least Squares   F-statistic:                     2482.\n",
       "Date:                Wed, 20 Jan 2021   Prob (F-statistic):               0.00\n",
       "Time:                        18:52:19   Log-Likelihood:            -2.9392e+05\n",
       "No. Observations:               21534   AIC:                         5.879e+05\n",
       "Df Residuals:                   21514   BIC:                         5.880e+05\n",
       "Df Model:                          19                                         \n",
       "Covariance Type:            nonrobust                                         \n",
       "======================================================================================\n",
       "                         coef    std err          t      P>|t|      [0.025      0.975]\n",
       "--------------------------------------------------------------------------------------\n",
       "Intercept           8.004e+06    2.9e+06      2.761      0.006    2.32e+06    1.37e+07\n",
       "num_bedrooms[T.2]  -4.874e+04   1.52e+04     -3.204      0.001   -7.86e+04   -1.89e+04\n",
       "num_bedrooms[T.3]  -1.152e+05    1.5e+04     -7.686      0.000   -1.45e+05   -8.58e+04\n",
       "num_bedrooms[T.4]  -1.654e+05   1.53e+04    -10.808      0.000   -1.95e+05   -1.35e+05\n",
       "num_bedrooms[T.5+] -1.692e+05   1.61e+04    -10.501      0.000   -2.01e+05   -1.38e+05\n",
       "bathrooms           3.892e+04   3319.847     11.723      0.000    3.24e+04    4.54e+04\n",
       "sqft_living          192.3576      3.459     55.615      0.000     185.578     199.137\n",
       "sqft_lot               0.0767      0.049      1.572      0.116      -0.019       0.172\n",
       "floors              6825.0936   3629.114      1.881      0.060    -288.240    1.39e+04\n",
       "waterfront          2.479e+04   4389.177      5.647      0.000    1.62e+04    3.34e+04\n",
       "view                7.898e+04   2009.175     39.310      0.000     7.5e+04    8.29e+04\n",
       "condition           2.807e+04   2393.851     11.727      0.000    2.34e+04    3.28e+04\n",
       "grade               1.015e+05   2117.304     47.925      0.000    9.73e+04    1.06e+05\n",
       "sqft_basement        -37.0956      4.371     -8.487      0.000     -45.663     -28.528\n",
       "zipcode             -631.5332     33.541    -18.829      0.000    -697.276    -565.790\n",
       "lat                 5.933e+05    1.1e+04     54.147      0.000    5.72e+05    6.15e+05\n",
       "long               -2.036e+05   1.33e+04    -15.361      0.000    -2.3e+05   -1.78e+05\n",
       "sqft_lot15            -0.3438      0.075     -4.604      0.000      -0.490      -0.197\n",
       "been_renovated      5.127e+04   7455.770      6.877      0.000    3.67e+04    6.59e+04\n",
       "age                 2568.9302     73.151     35.118      0.000    2425.549    2712.311\n",
       "==============================================================================\n",
       "Omnibus:                    18332.702   Durbin-Watson:                   1.994\n",
       "Prob(Omnibus):                  0.000   Jarque-Bera (JB):          1725864.157\n",
       "Skew:                           3.599   Prob(JB):                         0.00\n",
       "Kurtosis:                      46.263   Cond. No.                     2.09e+08\n",
       "==============================================================================\n",
       "\n",
       "Notes:\n",
       "[1] Standard Errors assume that the covariance matrix of the errors is correctly specified.\n",
       "[2] The condition number is large, 2.09e+08. This might indicate that there are\n",
       "strong multicollinearity or other numerical problems.\n",
       "\"\"\""
      ]
     },
     "execution_count": 63,
     "metadata": {},
     "output_type": "execute_result"
    }
   ],
   "source": [
    "predictors = '+'.join(x_cols)\n",
    "\n",
    "predictors\n",
    "\n",
    "f = outcome + '~' + predictors \n",
    "\n",
    "f\n",
    "\n",
    "testb = ols(formula= f, data= df).fit()\n",
    "testb.summary()"
   ]
  },
  {
   "cell_type": "code",
   "execution_count": 57,
   "metadata": {
    "ExecuteTime": {
     "end_time": "2021-01-13T18:43:05.992680Z",
     "start_time": "2021-01-13T18:43:05.981713Z"
    }
   },
   "outputs": [],
   "source": [
    "df['has_basement'] = df['sqft_basement'].map(lambda x: 1 if x >0 else x)"
   ]
  },
  {
   "cell_type": "code",
   "execution_count": 58,
   "metadata": {
    "ExecuteTime": {
     "end_time": "2021-01-13T18:43:08.346609Z",
     "start_time": "2021-01-13T18:43:08.338635Z"
    }
   },
   "outputs": [
    {
     "data": {
      "text/plain": [
       "622264.59802028"
      ]
     },
     "execution_count": 58,
     "metadata": {},
     "output_type": "execute_result"
    }
   ],
   "source": [
    "df[df['has_basement']==1].price.mean()"
   ]
  },
  {
   "cell_type": "code",
   "execution_count": 59,
   "metadata": {
    "ExecuteTime": {
     "end_time": "2021-01-13T18:43:08.745183Z",
     "start_time": "2021-01-13T18:43:08.739227Z"
    }
   },
   "outputs": [
    {
     "data": {
      "text/plain": [
       "2312.6294060840173"
      ]
     },
     "execution_count": 59,
     "metadata": {},
     "output_type": "execute_result"
    }
   ],
   "source": [
    "df[df['has_basement']==1].sqft_living.mean()"
   ]
  },
  {
   "cell_type": "code",
   "execution_count": 60,
   "metadata": {
    "ExecuteTime": {
     "end_time": "2021-01-13T18:43:09.875590Z",
     "start_time": "2021-01-13T18:43:09.865625Z"
    }
   },
   "outputs": [
    {
     "data": {
      "text/plain": [
       "(488661.2681509434, 1934.2785660377358)"
      ]
     },
     "execution_count": 60,
     "metadata": {},
     "output_type": "execute_result"
    }
   ],
   "source": [
    "df[df['has_basement']==0].price.mean(), df[df['has_basement']==0].sqft_living.mean()"
   ]
  },
  {
   "cell_type": "markdown",
   "metadata": {},
   "source": [
    "## Testing sqft basement as has basement"
   ]
  },
  {
   "cell_type": "code",
   "execution_count": 60,
   "metadata": {
    "ExecuteTime": {
     "end_time": "2021-01-20T23:52:09.135343Z",
     "start_time": "2021-01-20T23:52:09.131349Z"
    }
   },
   "outputs": [],
   "source": []
  },
  {
   "cell_type": "code",
   "execution_count": 62,
   "metadata": {
    "ExecuteTime": {
     "end_time": "2021-01-13T22:23:36.711701Z",
     "start_time": "2021-01-13T22:23:36.682779Z"
    }
   },
   "outputs": [
    {
     "data": {
      "text/html": [
       "<div>\n",
       "<style scoped>\n",
       "    .dataframe tbody tr th:only-of-type {\n",
       "        vertical-align: middle;\n",
       "    }\n",
       "\n",
       "    .dataframe tbody tr th {\n",
       "        vertical-align: top;\n",
       "    }\n",
       "\n",
       "    .dataframe thead th {\n",
       "        text-align: right;\n",
       "    }\n",
       "</style>\n",
       "<table border=\"1\" class=\"dataframe\">\n",
       "  <thead>\n",
       "    <tr style=\"text-align: right;\">\n",
       "      <th></th>\n",
       "      <th>id</th>\n",
       "      <th>date</th>\n",
       "      <th>price</th>\n",
       "      <th>bedrooms</th>\n",
       "      <th>bathrooms</th>\n",
       "      <th>sqft_living</th>\n",
       "      <th>sqft_lot</th>\n",
       "      <th>floors</th>\n",
       "      <th>waterfront</th>\n",
       "      <th>view</th>\n",
       "      <th>condition</th>\n",
       "      <th>grade</th>\n",
       "      <th>sqft_basement</th>\n",
       "      <th>yr_built</th>\n",
       "      <th>yr_renovated</th>\n",
       "      <th>zipcode</th>\n",
       "      <th>lat</th>\n",
       "      <th>long</th>\n",
       "      <th>sqft_living15</th>\n",
       "      <th>sqft_lot15</th>\n",
       "      <th>month</th>\n",
       "      <th>been_renovated</th>\n",
       "      <th>num_bedrooms</th>\n",
       "      <th>has_basement</th>\n",
       "      <th>age</th>\n",
       "    </tr>\n",
       "  </thead>\n",
       "  <tbody>\n",
       "    <tr>\n",
       "      <th>0</th>\n",
       "      <td>7129300520</td>\n",
       "      <td>2014-10-13</td>\n",
       "      <td>221900.0</td>\n",
       "      <td>3</td>\n",
       "      <td>1.00</td>\n",
       "      <td>1180</td>\n",
       "      <td>5650</td>\n",
       "      <td>1.0</td>\n",
       "      <td>0.0</td>\n",
       "      <td>0.0</td>\n",
       "      <td>3</td>\n",
       "      <td>7</td>\n",
       "      <td>0</td>\n",
       "      <td>1955</td>\n",
       "      <td>0.0</td>\n",
       "      <td>98178</td>\n",
       "      <td>47.5112</td>\n",
       "      <td>-122.257</td>\n",
       "      <td>1340</td>\n",
       "      <td>5650</td>\n",
       "      <td>10</td>\n",
       "      <td>0.0</td>\n",
       "      <td>3</td>\n",
       "      <td>0</td>\n",
       "      <td>65</td>\n",
       "    </tr>\n",
       "    <tr>\n",
       "      <th>1</th>\n",
       "      <td>6414100192</td>\n",
       "      <td>2014-12-09</td>\n",
       "      <td>538000.0</td>\n",
       "      <td>3</td>\n",
       "      <td>2.25</td>\n",
       "      <td>2570</td>\n",
       "      <td>7242</td>\n",
       "      <td>2.0</td>\n",
       "      <td>0.0</td>\n",
       "      <td>0.0</td>\n",
       "      <td>3</td>\n",
       "      <td>7</td>\n",
       "      <td>400</td>\n",
       "      <td>1951</td>\n",
       "      <td>1991.0</td>\n",
       "      <td>98125</td>\n",
       "      <td>47.7210</td>\n",
       "      <td>-122.319</td>\n",
       "      <td>1690</td>\n",
       "      <td>7639</td>\n",
       "      <td>12</td>\n",
       "      <td>1.0</td>\n",
       "      <td>3</td>\n",
       "      <td>1</td>\n",
       "      <td>69</td>\n",
       "    </tr>\n",
       "    <tr>\n",
       "      <th>2</th>\n",
       "      <td>5631500400</td>\n",
       "      <td>2015-02-25</td>\n",
       "      <td>180000.0</td>\n",
       "      <td>2</td>\n",
       "      <td>1.00</td>\n",
       "      <td>770</td>\n",
       "      <td>10000</td>\n",
       "      <td>1.0</td>\n",
       "      <td>0.0</td>\n",
       "      <td>0.0</td>\n",
       "      <td>3</td>\n",
       "      <td>6</td>\n",
       "      <td>0</td>\n",
       "      <td>1933</td>\n",
       "      <td>NaN</td>\n",
       "      <td>98028</td>\n",
       "      <td>47.7379</td>\n",
       "      <td>-122.233</td>\n",
       "      <td>2720</td>\n",
       "      <td>8062</td>\n",
       "      <td>2</td>\n",
       "      <td>0.0</td>\n",
       "      <td>2</td>\n",
       "      <td>0</td>\n",
       "      <td>87</td>\n",
       "    </tr>\n",
       "    <tr>\n",
       "      <th>3</th>\n",
       "      <td>2487200875</td>\n",
       "      <td>2014-12-09</td>\n",
       "      <td>604000.0</td>\n",
       "      <td>4</td>\n",
       "      <td>3.00</td>\n",
       "      <td>1960</td>\n",
       "      <td>5000</td>\n",
       "      <td>1.0</td>\n",
       "      <td>0.0</td>\n",
       "      <td>0.0</td>\n",
       "      <td>5</td>\n",
       "      <td>7</td>\n",
       "      <td>910</td>\n",
       "      <td>1965</td>\n",
       "      <td>0.0</td>\n",
       "      <td>98136</td>\n",
       "      <td>47.5208</td>\n",
       "      <td>-122.393</td>\n",
       "      <td>1360</td>\n",
       "      <td>5000</td>\n",
       "      <td>12</td>\n",
       "      <td>0.0</td>\n",
       "      <td>4</td>\n",
       "      <td>1</td>\n",
       "      <td>55</td>\n",
       "    </tr>\n",
       "    <tr>\n",
       "      <th>4</th>\n",
       "      <td>1954400510</td>\n",
       "      <td>2015-02-18</td>\n",
       "      <td>510000.0</td>\n",
       "      <td>3</td>\n",
       "      <td>2.00</td>\n",
       "      <td>1680</td>\n",
       "      <td>8080</td>\n",
       "      <td>1.0</td>\n",
       "      <td>0.0</td>\n",
       "      <td>0.0</td>\n",
       "      <td>3</td>\n",
       "      <td>8</td>\n",
       "      <td>0</td>\n",
       "      <td>1987</td>\n",
       "      <td>0.0</td>\n",
       "      <td>98074</td>\n",
       "      <td>47.6168</td>\n",
       "      <td>-122.045</td>\n",
       "      <td>1800</td>\n",
       "      <td>7503</td>\n",
       "      <td>2</td>\n",
       "      <td>0.0</td>\n",
       "      <td>3</td>\n",
       "      <td>0</td>\n",
       "      <td>33</td>\n",
       "    </tr>\n",
       "    <tr>\n",
       "      <th>...</th>\n",
       "      <td>...</td>\n",
       "      <td>...</td>\n",
       "      <td>...</td>\n",
       "      <td>...</td>\n",
       "      <td>...</td>\n",
       "      <td>...</td>\n",
       "      <td>...</td>\n",
       "      <td>...</td>\n",
       "      <td>...</td>\n",
       "      <td>...</td>\n",
       "      <td>...</td>\n",
       "      <td>...</td>\n",
       "      <td>...</td>\n",
       "      <td>...</td>\n",
       "      <td>...</td>\n",
       "      <td>...</td>\n",
       "      <td>...</td>\n",
       "      <td>...</td>\n",
       "      <td>...</td>\n",
       "      <td>...</td>\n",
       "      <td>...</td>\n",
       "      <td>...</td>\n",
       "      <td>...</td>\n",
       "      <td>...</td>\n",
       "      <td>...</td>\n",
       "    </tr>\n",
       "    <tr>\n",
       "      <th>21592</th>\n",
       "      <td>263000018</td>\n",
       "      <td>2014-05-21</td>\n",
       "      <td>360000.0</td>\n",
       "      <td>3</td>\n",
       "      <td>2.50</td>\n",
       "      <td>1530</td>\n",
       "      <td>1131</td>\n",
       "      <td>3.0</td>\n",
       "      <td>0.0</td>\n",
       "      <td>0.0</td>\n",
       "      <td>3</td>\n",
       "      <td>8</td>\n",
       "      <td>0</td>\n",
       "      <td>2009</td>\n",
       "      <td>0.0</td>\n",
       "      <td>98103</td>\n",
       "      <td>47.6993</td>\n",
       "      <td>-122.346</td>\n",
       "      <td>1530</td>\n",
       "      <td>1509</td>\n",
       "      <td>5</td>\n",
       "      <td>0.0</td>\n",
       "      <td>3</td>\n",
       "      <td>0</td>\n",
       "      <td>11</td>\n",
       "    </tr>\n",
       "    <tr>\n",
       "      <th>21593</th>\n",
       "      <td>6600060120</td>\n",
       "      <td>2015-02-23</td>\n",
       "      <td>400000.0</td>\n",
       "      <td>4</td>\n",
       "      <td>2.50</td>\n",
       "      <td>2310</td>\n",
       "      <td>5813</td>\n",
       "      <td>2.0</td>\n",
       "      <td>0.0</td>\n",
       "      <td>0.0</td>\n",
       "      <td>3</td>\n",
       "      <td>8</td>\n",
       "      <td>0</td>\n",
       "      <td>2014</td>\n",
       "      <td>0.0</td>\n",
       "      <td>98146</td>\n",
       "      <td>47.5107</td>\n",
       "      <td>-122.362</td>\n",
       "      <td>1830</td>\n",
       "      <td>7200</td>\n",
       "      <td>2</td>\n",
       "      <td>0.0</td>\n",
       "      <td>4</td>\n",
       "      <td>0</td>\n",
       "      <td>6</td>\n",
       "    </tr>\n",
       "    <tr>\n",
       "      <th>21594</th>\n",
       "      <td>1523300141</td>\n",
       "      <td>2014-06-23</td>\n",
       "      <td>402101.0</td>\n",
       "      <td>2</td>\n",
       "      <td>0.75</td>\n",
       "      <td>1020</td>\n",
       "      <td>1350</td>\n",
       "      <td>2.0</td>\n",
       "      <td>0.0</td>\n",
       "      <td>0.0</td>\n",
       "      <td>3</td>\n",
       "      <td>7</td>\n",
       "      <td>0</td>\n",
       "      <td>2009</td>\n",
       "      <td>0.0</td>\n",
       "      <td>98144</td>\n",
       "      <td>47.5944</td>\n",
       "      <td>-122.299</td>\n",
       "      <td>1020</td>\n",
       "      <td>2007</td>\n",
       "      <td>6</td>\n",
       "      <td>0.0</td>\n",
       "      <td>2</td>\n",
       "      <td>0</td>\n",
       "      <td>11</td>\n",
       "    </tr>\n",
       "    <tr>\n",
       "      <th>21595</th>\n",
       "      <td>291310100</td>\n",
       "      <td>2015-01-16</td>\n",
       "      <td>400000.0</td>\n",
       "      <td>3</td>\n",
       "      <td>2.50</td>\n",
       "      <td>1600</td>\n",
       "      <td>2388</td>\n",
       "      <td>2.0</td>\n",
       "      <td>0.0</td>\n",
       "      <td>0.0</td>\n",
       "      <td>3</td>\n",
       "      <td>8</td>\n",
       "      <td>0</td>\n",
       "      <td>2004</td>\n",
       "      <td>0.0</td>\n",
       "      <td>98027</td>\n",
       "      <td>47.5345</td>\n",
       "      <td>-122.069</td>\n",
       "      <td>1410</td>\n",
       "      <td>1287</td>\n",
       "      <td>1</td>\n",
       "      <td>0.0</td>\n",
       "      <td>3</td>\n",
       "      <td>0</td>\n",
       "      <td>16</td>\n",
       "    </tr>\n",
       "    <tr>\n",
       "      <th>21596</th>\n",
       "      <td>1523300157</td>\n",
       "      <td>2014-10-15</td>\n",
       "      <td>325000.0</td>\n",
       "      <td>2</td>\n",
       "      <td>0.75</td>\n",
       "      <td>1020</td>\n",
       "      <td>1076</td>\n",
       "      <td>2.0</td>\n",
       "      <td>0.0</td>\n",
       "      <td>0.0</td>\n",
       "      <td>3</td>\n",
       "      <td>7</td>\n",
       "      <td>0</td>\n",
       "      <td>2008</td>\n",
       "      <td>0.0</td>\n",
       "      <td>98144</td>\n",
       "      <td>47.5941</td>\n",
       "      <td>-122.299</td>\n",
       "      <td>1020</td>\n",
       "      <td>1357</td>\n",
       "      <td>10</td>\n",
       "      <td>0.0</td>\n",
       "      <td>2</td>\n",
       "      <td>0</td>\n",
       "      <td>12</td>\n",
       "    </tr>\n",
       "  </tbody>\n",
       "</table>\n",
       "<p>21534 rows × 25 columns</p>\n",
       "</div>"
      ],
      "text/plain": [
       "               id       date     price  bedrooms  bathrooms  sqft_living  \\\n",
       "0      7129300520 2014-10-13  221900.0         3       1.00         1180   \n",
       "1      6414100192 2014-12-09  538000.0         3       2.25         2570   \n",
       "2      5631500400 2015-02-25  180000.0         2       1.00          770   \n",
       "3      2487200875 2014-12-09  604000.0         4       3.00         1960   \n",
       "4      1954400510 2015-02-18  510000.0         3       2.00         1680   \n",
       "...           ...        ...       ...       ...        ...          ...   \n",
       "21592   263000018 2014-05-21  360000.0         3       2.50         1530   \n",
       "21593  6600060120 2015-02-23  400000.0         4       2.50         2310   \n",
       "21594  1523300141 2014-06-23  402101.0         2       0.75         1020   \n",
       "21595   291310100 2015-01-16  400000.0         3       2.50         1600   \n",
       "21596  1523300157 2014-10-15  325000.0         2       0.75         1020   \n",
       "\n",
       "       sqft_lot  floors  waterfront  view  condition  grade  sqft_basement  \\\n",
       "0          5650     1.0         0.0   0.0          3      7              0   \n",
       "1          7242     2.0         0.0   0.0          3      7            400   \n",
       "2         10000     1.0         0.0   0.0          3      6              0   \n",
       "3          5000     1.0         0.0   0.0          5      7            910   \n",
       "4          8080     1.0         0.0   0.0          3      8              0   \n",
       "...         ...     ...         ...   ...        ...    ...            ...   \n",
       "21592      1131     3.0         0.0   0.0          3      8              0   \n",
       "21593      5813     2.0         0.0   0.0          3      8              0   \n",
       "21594      1350     2.0         0.0   0.0          3      7              0   \n",
       "21595      2388     2.0         0.0   0.0          3      8              0   \n",
       "21596      1076     2.0         0.0   0.0          3      7              0   \n",
       "\n",
       "       yr_built  yr_renovated  zipcode      lat     long  sqft_living15  \\\n",
       "0          1955           0.0    98178  47.5112 -122.257           1340   \n",
       "1          1951        1991.0    98125  47.7210 -122.319           1690   \n",
       "2          1933           NaN    98028  47.7379 -122.233           2720   \n",
       "3          1965           0.0    98136  47.5208 -122.393           1360   \n",
       "4          1987           0.0    98074  47.6168 -122.045           1800   \n",
       "...         ...           ...      ...      ...      ...            ...   \n",
       "21592      2009           0.0    98103  47.6993 -122.346           1530   \n",
       "21593      2014           0.0    98146  47.5107 -122.362           1830   \n",
       "21594      2009           0.0    98144  47.5944 -122.299           1020   \n",
       "21595      2004           0.0    98027  47.5345 -122.069           1410   \n",
       "21596      2008           0.0    98144  47.5941 -122.299           1020   \n",
       "\n",
       "       sqft_lot15  month  been_renovated num_bedrooms  has_basement  age  \n",
       "0            5650     10             0.0            3             0   65  \n",
       "1            7639     12             1.0            3             1   69  \n",
       "2            8062      2             0.0            2             0   87  \n",
       "3            5000     12             0.0            4             1   55  \n",
       "4            7503      2             0.0            3             0   33  \n",
       "...           ...    ...             ...          ...           ...  ...  \n",
       "21592        1509      5             0.0            3             0   11  \n",
       "21593        7200      2             0.0            4             0    6  \n",
       "21594        2007      6             0.0            2             0   11  \n",
       "21595        1287      1             0.0            3             0   16  \n",
       "21596        1357     10             0.0            2             0   12  \n",
       "\n",
       "[21534 rows x 25 columns]"
      ]
     },
     "execution_count": 62,
     "metadata": {},
     "output_type": "execute_result"
    }
   ],
   "source": [
    "df"
   ]
  },
  {
   "cell_type": "code",
   "execution_count": 64,
   "metadata": {
    "ExecuteTime": {
     "end_time": "2021-01-13T22:23:46.879245Z",
     "start_time": "2021-01-13T22:23:46.866274Z"
    }
   },
   "outputs": [
    {
     "name": "stdout",
     "output_type": "stream",
     "text": [
      "<class 'pandas.core.frame.DataFrame'>\n",
      "Int64Index: 21534 entries, 0 to 21596\n",
      "Data columns (total 25 columns):\n",
      " #   Column          Non-Null Count  Dtype         \n",
      "---  ------          --------------  -----         \n",
      " 0   id              21534 non-null  int64         \n",
      " 1   date            21534 non-null  datetime64[ns]\n",
      " 2   price           21534 non-null  float64       \n",
      " 3   bedrooms        21534 non-null  int64         \n",
      " 4   bathrooms       21534 non-null  float64       \n",
      " 5   sqft_living     21534 non-null  int64         \n",
      " 6   sqft_lot        21534 non-null  int64         \n",
      " 7   floors          21534 non-null  float64       \n",
      " 8   waterfront      21534 non-null  float64       \n",
      " 9   view            21534 non-null  float64       \n",
      " 10  condition       21534 non-null  int64         \n",
      " 11  grade           21534 non-null  int64         \n",
      " 12  sqft_basement   21534 non-null  int64         \n",
      " 13  yr_built        21534 non-null  int64         \n",
      " 14  yr_renovated    17704 non-null  float64       \n",
      " 15  zipcode         21534 non-null  int64         \n",
      " 16  lat             21534 non-null  float64       \n",
      " 17  long            21534 non-null  float64       \n",
      " 18  sqft_living15   21534 non-null  int64         \n",
      " 19  sqft_lot15      21534 non-null  int64         \n",
      " 20  month           21534 non-null  int64         \n",
      " 21  been_renovated  21534 non-null  float64       \n",
      " 22  num_bedrooms    21534 non-null  object        \n",
      " 23  has_basement    21534 non-null  int64         \n",
      " 24  age             21534 non-null  int64         \n",
      "dtypes: datetime64[ns](1), float64(9), int64(14), object(1)\n",
      "memory usage: 4.3+ MB\n"
     ]
    }
   ],
   "source": [
    "df.info()"
   ]
  },
  {
   "cell_type": "code",
   "execution_count": 65,
   "metadata": {
    "ExecuteTime": {
     "end_time": "2021-01-13T22:23:54.958813Z",
     "start_time": "2021-01-13T22:23:54.953855Z"
    }
   },
   "outputs": [
    {
     "data": {
      "text/plain": [
       "array([ 3,  2,  4,  5,  1,  6,  7,  8,  9, 11, 10, 33], dtype=int64)"
      ]
     },
     "execution_count": 65,
     "metadata": {},
     "output_type": "execute_result"
    }
   ],
   "source": [
    "df.bedrooms.unique()"
   ]
  },
  {
   "cell_type": "code",
   "execution_count": 66,
   "metadata": {
    "ExecuteTime": {
     "end_time": "2021-01-13T22:23:55.327533Z",
     "start_time": "2021-01-13T22:23:55.318526Z"
    }
   },
   "outputs": [],
   "source": [
    "t2 = df.apply(lambda x: x)"
   ]
  },
  {
   "cell_type": "code",
   "execution_count": 67,
   "metadata": {
    "ExecuteTime": {
     "end_time": "2021-01-13T22:24:00.180681Z",
     "start_time": "2021-01-13T22:24:00.169711Z"
    }
   },
   "outputs": [],
   "source": [
    "t2.sqft_basement = t2.sqft_basement.map(lambda x: 1 if x > 0 else x)"
   ]
  },
  {
   "cell_type": "code",
   "execution_count": 68,
   "metadata": {
    "ExecuteTime": {
     "end_time": "2021-01-13T22:24:00.663916Z",
     "start_time": "2021-01-13T22:24:00.657959Z"
    }
   },
   "outputs": [
    {
     "data": {
      "text/plain": [
       "366059.58123129635"
      ]
     },
     "execution_count": 68,
     "metadata": {},
     "output_type": "execute_result"
    }
   ],
   "source": [
    "t2.price.std()"
   ]
  },
  {
   "cell_type": "code",
   "execution_count": 70,
   "metadata": {
    "ExecuteTime": {
     "end_time": "2021-01-13T22:25:37.590592Z",
     "start_time": "2021-01-13T22:25:37.586602Z"
    }
   },
   "outputs": [],
   "source": [
    "basement = pd.get_dummies(t2.sqft_basement, prefix='has_basement', drop_first=True)"
   ]
  },
  {
   "cell_type": "code",
   "execution_count": 71,
   "metadata": {
    "ExecuteTime": {
     "end_time": "2021-01-13T22:25:39.338694Z",
     "start_time": "2021-01-13T22:25:39.329718Z"
    }
   },
   "outputs": [],
   "source": [
    "base = pd.concat([t2, basement], axis=1)"
   ]
  },
  {
   "cell_type": "code",
   "execution_count": 72,
   "metadata": {
    "ExecuteTime": {
     "end_time": "2021-01-13T22:25:41.156093Z",
     "start_time": "2021-01-13T22:25:41.146091Z"
    }
   },
   "outputs": [],
   "source": [
    "base.drop(columns='yr_renovated',inplace=True)"
   ]
  },
  {
   "cell_type": "code",
   "execution_count": 73,
   "metadata": {
    "ExecuteTime": {
     "end_time": "2021-01-13T22:25:44.479478Z",
     "start_time": "2021-01-13T22:25:44.474479Z"
    }
   },
   "outputs": [
    {
     "data": {
      "text/plain": [
       "622264.59802028"
      ]
     },
     "execution_count": 73,
     "metadata": {},
     "output_type": "execute_result"
    }
   ],
   "source": [
    "t2[t2.sqft_basement == 1].price.mean()"
   ]
  },
  {
   "cell_type": "code",
   "execution_count": null,
   "metadata": {
    "ExecuteTime": {
     "end_time": "2021-01-12T07:56:19.932465Z",
     "start_time": "2021-01-12T07:56:19.872597Z"
    }
   },
   "outputs": [],
   "source": []
  },
  {
   "cell_type": "code",
   "execution_count": 76,
   "metadata": {
    "ExecuteTime": {
     "end_time": "2021-01-13T22:26:19.882527Z",
     "start_time": "2021-01-13T22:26:19.874545Z"
    }
   },
   "outputs": [
    {
     "data": {
      "text/plain": [
       "Index(['bedrooms', 'bathrooms', 'sqft_living', 'sqft_lot', 'floors',\n",
       "       'waterfront', 'view', 'condition', 'grade', 'yr_built', 'zipcode',\n",
       "       'lat', 'long', 'sqft_lot15', 'been_renovated', 'num_bedrooms', 'age',\n",
       "       'has_basement_1'],\n",
       "      dtype='object')"
      ]
     },
     "execution_count": 76,
     "metadata": {},
     "output_type": "execute_result"
    }
   ],
   "source": [
    "outcome = 'price'\n",
    "x_cols = base.drop(['price', 'id', 'date', 'sqft_living15','month','sqft_basement','has_basement'], axis = 1).columns\n",
    "\n",
    "x_cols"
   ]
  },
  {
   "cell_type": "code",
   "execution_count": 77,
   "metadata": {
    "ExecuteTime": {
     "end_time": "2021-01-13T22:26:20.492722Z",
     "start_time": "2021-01-13T22:26:20.347248Z"
    }
   },
   "outputs": [
    {
     "data": {
      "text/html": [
       "<table class=\"simpletable\">\n",
       "<caption>OLS Regression Results</caption>\n",
       "<tr>\n",
       "  <th>Dep. Variable:</th>          <td>price</td>      <th>  R-squared:         </th>  <td>   0.701</td>  \n",
       "</tr>\n",
       "<tr>\n",
       "  <th>Model:</th>                   <td>OLS</td>       <th>  Adj. R-squared:    </th>  <td>   0.700</td>  \n",
       "</tr>\n",
       "<tr>\n",
       "  <th>Method:</th>             <td>Least Squares</td>  <th>  F-statistic:       </th>  <td>   2518.</td>  \n",
       "</tr>\n",
       "<tr>\n",
       "  <th>Date:</th>             <td>Wed, 13 Jan 2021</td> <th>  Prob (F-statistic):</th>   <td>  0.00</td>   \n",
       "</tr>\n",
       "<tr>\n",
       "  <th>Time:</th>                 <td>17:26:20</td>     <th>  Log-Likelihood:    </th> <td>-2.9343e+05</td>\n",
       "</tr>\n",
       "<tr>\n",
       "  <th>No. Observations:</th>      <td> 21534</td>      <th>  AIC:               </th>  <td>5.869e+05</td> \n",
       "</tr>\n",
       "<tr>\n",
       "  <th>Df Residuals:</th>          <td> 21513</td>      <th>  BIC:               </th>  <td>5.871e+05</td> \n",
       "</tr>\n",
       "<tr>\n",
       "  <th>Df Model:</th>              <td>    20</td>      <th>                     </th>      <td> </td>     \n",
       "</tr>\n",
       "<tr>\n",
       "  <th>Covariance Type:</th>      <td>nonrobust</td>    <th>                     </th>      <td> </td>     \n",
       "</tr>\n",
       "</table>\n",
       "<table class=\"simpletable\">\n",
       "<tr>\n",
       "           <td></td>             <th>coef</th>     <th>std err</th>      <th>t</th>      <th>P>|t|</th>  <th>[0.025</th>    <th>0.975]</th>  \n",
       "</tr>\n",
       "<tr>\n",
       "  <th>Intercept</th>          <td>    5.0300</td> <td>    1.409</td> <td>    3.571</td> <td> 0.000</td> <td>    2.269</td> <td>    7.791</td>\n",
       "</tr>\n",
       "<tr>\n",
       "  <th>num_bedrooms[T.2]</th>  <td>-3.146e+04</td> <td> 1.58e+04</td> <td>   -1.990</td> <td> 0.047</td> <td>-6.24e+04</td> <td> -474.624</td>\n",
       "</tr>\n",
       "<tr>\n",
       "  <th>num_bedrooms[T.3]</th>  <td> -8.18e+04</td> <td> 1.81e+04</td> <td>   -4.512</td> <td> 0.000</td> <td>-1.17e+05</td> <td>-4.63e+04</td>\n",
       "</tr>\n",
       "<tr>\n",
       "  <th>num_bedrooms[T.4]</th>  <td>-1.173e+05</td> <td> 2.19e+04</td> <td>   -5.366</td> <td> 0.000</td> <td> -1.6e+05</td> <td>-7.44e+04</td>\n",
       "</tr>\n",
       "<tr>\n",
       "  <th>num_bedrooms[T.5+]</th> <td> -1.08e+05</td> <td> 2.74e+04</td> <td>   -3.942</td> <td> 0.000</td> <td>-1.62e+05</td> <td>-5.43e+04</td>\n",
       "</tr>\n",
       "<tr>\n",
       "  <th>bedrooms</th>           <td> -1.18e+04</td> <td> 5342.308</td> <td>   -2.209</td> <td> 0.027</td> <td>-2.23e+04</td> <td>-1328.363</td>\n",
       "</tr>\n",
       "<tr>\n",
       "  <th>bathrooms</th>          <td> 4.016e+04</td> <td> 3276.933</td> <td>   12.255</td> <td> 0.000</td> <td> 3.37e+04</td> <td> 4.66e+04</td>\n",
       "</tr>\n",
       "<tr>\n",
       "  <th>sqft_living</th>        <td>  181.5813</td> <td>    3.168</td> <td>   57.311</td> <td> 0.000</td> <td>  175.371</td> <td>  187.791</td>\n",
       "</tr>\n",
       "<tr>\n",
       "  <th>sqft_lot</th>           <td>    0.1042</td> <td>    0.048</td> <td>    2.188</td> <td> 0.029</td> <td>    0.011</td> <td>    0.198</td>\n",
       "</tr>\n",
       "<tr>\n",
       "  <th>floors</th>             <td> 1.033e+04</td> <td> 3439.212</td> <td>    3.003</td> <td> 0.003</td> <td> 3586.689</td> <td> 1.71e+04</td>\n",
       "</tr>\n",
       "<tr>\n",
       "  <th>waterfront</th>         <td>   5.9e+05</td> <td> 1.81e+04</td> <td>   32.552</td> <td> 0.000</td> <td> 5.54e+05</td> <td> 6.25e+05</td>\n",
       "</tr>\n",
       "<tr>\n",
       "  <th>view</th>               <td> 5.474e+04</td> <td> 2076.546</td> <td>   26.363</td> <td> 0.000</td> <td> 5.07e+04</td> <td> 5.88e+04</td>\n",
       "</tr>\n",
       "<tr>\n",
       "  <th>condition</th>          <td> 2.613e+04</td> <td> 2331.736</td> <td>   11.207</td> <td> 0.000</td> <td> 2.16e+04</td> <td> 3.07e+04</td>\n",
       "</tr>\n",
       "<tr>\n",
       "  <th>grade</th>              <td> 1.049e+05</td> <td> 2045.756</td> <td>   51.266</td> <td> 0.000</td> <td> 1.01e+05</td> <td> 1.09e+05</td>\n",
       "</tr>\n",
       "<tr>\n",
       "  <th>yr_built</th>           <td> 3772.8784</td> <td> 1411.758</td> <td>    2.672</td> <td> 0.008</td> <td> 1005.727</td> <td> 6540.030</td>\n",
       "</tr>\n",
       "<tr>\n",
       "  <th>zipcode</th>            <td> -614.7224</td> <td>   32.831</td> <td>  -18.724</td> <td> 0.000</td> <td> -679.074</td> <td> -550.370</td>\n",
       "</tr>\n",
       "<tr>\n",
       "  <th>lat</th>                <td> 5.952e+05</td> <td> 1.07e+04</td> <td>   55.550</td> <td> 0.000</td> <td> 5.74e+05</td> <td> 6.16e+05</td>\n",
       "</tr>\n",
       "<tr>\n",
       "  <th>long</th>               <td>-1.925e+05</td> <td>  1.3e+04</td> <td>  -14.839</td> <td> 0.000</td> <td>-2.18e+05</td> <td>-1.67e+05</td>\n",
       "</tr>\n",
       "<tr>\n",
       "  <th>sqft_lot15</th>         <td>   -0.3650</td> <td>    0.073</td> <td>   -4.999</td> <td> 0.000</td> <td>   -0.508</td> <td>   -0.222</td>\n",
       "</tr>\n",
       "<tr>\n",
       "  <th>been_renovated</th>     <td>  3.73e+04</td> <td> 7195.686</td> <td>    5.183</td> <td> 0.000</td> <td> 2.32e+04</td> <td> 5.14e+04</td>\n",
       "</tr>\n",
       "<tr>\n",
       "  <th>age</th>                <td> 6387.7348</td> <td> 1434.416</td> <td>    4.453</td> <td> 0.000</td> <td> 3576.173</td> <td> 9199.296</td>\n",
       "</tr>\n",
       "<tr>\n",
       "  <th>has_basement_1</th>     <td>-2.072e+04</td> <td> 3340.014</td> <td>   -6.205</td> <td> 0.000</td> <td>-2.73e+04</td> <td>-1.42e+04</td>\n",
       "</tr>\n",
       "</table>\n",
       "<table class=\"simpletable\">\n",
       "<tr>\n",
       "  <th>Omnibus:</th>       <td>17643.251</td> <th>  Durbin-Watson:     </th>  <td>   1.988</td>  \n",
       "</tr>\n",
       "<tr>\n",
       "  <th>Prob(Omnibus):</th>  <td> 0.000</td>   <th>  Jarque-Bera (JB):  </th> <td>1601160.416</td>\n",
       "</tr>\n",
       "<tr>\n",
       "  <th>Skew:</th>           <td> 3.385</td>   <th>  Prob(JB):          </th>  <td>    0.00</td>  \n",
       "</tr>\n",
       "<tr>\n",
       "  <th>Kurtosis:</th>       <td>44.697</td>   <th>  Cond. No.          </th>  <td>7.94e+19</td>  \n",
       "</tr>\n",
       "</table><br/><br/>Notes:<br/>[1] Standard Errors assume that the covariance matrix of the errors is correctly specified.<br/>[2] The smallest eigenvalue is 3.46e-26. This might indicate that there are<br/>strong multicollinearity problems or that the design matrix is singular."
      ],
      "text/plain": [
       "<class 'statsmodels.iolib.summary.Summary'>\n",
       "\"\"\"\n",
       "                            OLS Regression Results                            \n",
       "==============================================================================\n",
       "Dep. Variable:                  price   R-squared:                       0.701\n",
       "Model:                            OLS   Adj. R-squared:                  0.700\n",
       "Method:                 Least Squares   F-statistic:                     2518.\n",
       "Date:                Wed, 13 Jan 2021   Prob (F-statistic):               0.00\n",
       "Time:                        17:26:20   Log-Likelihood:            -2.9343e+05\n",
       "No. Observations:               21534   AIC:                         5.869e+05\n",
       "Df Residuals:                   21513   BIC:                         5.871e+05\n",
       "Df Model:                          20                                         \n",
       "Covariance Type:            nonrobust                                         \n",
       "======================================================================================\n",
       "                         coef    std err          t      P>|t|      [0.025      0.975]\n",
       "--------------------------------------------------------------------------------------\n",
       "Intercept              5.0300      1.409      3.571      0.000       2.269       7.791\n",
       "num_bedrooms[T.2]  -3.146e+04   1.58e+04     -1.990      0.047   -6.24e+04    -474.624\n",
       "num_bedrooms[T.3]   -8.18e+04   1.81e+04     -4.512      0.000   -1.17e+05   -4.63e+04\n",
       "num_bedrooms[T.4]  -1.173e+05   2.19e+04     -5.366      0.000    -1.6e+05   -7.44e+04\n",
       "num_bedrooms[T.5+]  -1.08e+05   2.74e+04     -3.942      0.000   -1.62e+05   -5.43e+04\n",
       "bedrooms            -1.18e+04   5342.308     -2.209      0.027   -2.23e+04   -1328.363\n",
       "bathrooms           4.016e+04   3276.933     12.255      0.000    3.37e+04    4.66e+04\n",
       "sqft_living          181.5813      3.168     57.311      0.000     175.371     187.791\n",
       "sqft_lot               0.1042      0.048      2.188      0.029       0.011       0.198\n",
       "floors              1.033e+04   3439.212      3.003      0.003    3586.689    1.71e+04\n",
       "waterfront            5.9e+05   1.81e+04     32.552      0.000    5.54e+05    6.25e+05\n",
       "view                5.474e+04   2076.546     26.363      0.000    5.07e+04    5.88e+04\n",
       "condition           2.613e+04   2331.736     11.207      0.000    2.16e+04    3.07e+04\n",
       "grade               1.049e+05   2045.756     51.266      0.000    1.01e+05    1.09e+05\n",
       "yr_built            3772.8784   1411.758      2.672      0.008    1005.727    6540.030\n",
       "zipcode             -614.7224     32.831    -18.724      0.000    -679.074    -550.370\n",
       "lat                 5.952e+05   1.07e+04     55.550      0.000    5.74e+05    6.16e+05\n",
       "long               -1.925e+05    1.3e+04    -14.839      0.000   -2.18e+05   -1.67e+05\n",
       "sqft_lot15            -0.3650      0.073     -4.999      0.000      -0.508      -0.222\n",
       "been_renovated       3.73e+04   7195.686      5.183      0.000    2.32e+04    5.14e+04\n",
       "age                 6387.7348   1434.416      4.453      0.000    3576.173    9199.296\n",
       "has_basement_1     -2.072e+04   3340.014     -6.205      0.000   -2.73e+04   -1.42e+04\n",
       "==============================================================================\n",
       "Omnibus:                    17643.251   Durbin-Watson:                   1.988\n",
       "Prob(Omnibus):                  0.000   Jarque-Bera (JB):          1601160.416\n",
       "Skew:                           3.385   Prob(JB):                         0.00\n",
       "Kurtosis:                      44.697   Cond. No.                     7.94e+19\n",
       "==============================================================================\n",
       "\n",
       "Notes:\n",
       "[1] Standard Errors assume that the covariance matrix of the errors is correctly specified.\n",
       "[2] The smallest eigenvalue is 3.46e-26. This might indicate that there are\n",
       "strong multicollinearity problems or that the design matrix is singular.\n",
       "\"\"\""
      ]
     },
     "execution_count": 77,
     "metadata": {},
     "output_type": "execute_result"
    }
   ],
   "source": [
    "predictors = '+'.join(x_cols)\n",
    "\n",
    "predictors\n",
    "\n",
    "f = outcome + '~' + predictors \n",
    "\n",
    "f\n",
    "\n",
    "testb = ols(formula= f, data= base).fit()\n",
    "testb.summary()"
   ]
  },
  {
   "cell_type": "markdown",
   "metadata": {},
   "source": [
    "## Reg on cleaned DF with yr_renovated as binary"
   ]
  },
  {
   "cell_type": "code",
   "execution_count": 80,
   "metadata": {
    "ExecuteTime": {
     "end_time": "2021-01-13T22:27:22.166113Z",
     "start_time": "2021-01-13T22:27:22.161091Z"
    }
   },
   "outputs": [
    {
     "data": {
      "text/plain": [
       "array([1. , 2. , 1.5, 3. , 2.5, 3.5])"
      ]
     },
     "execution_count": 80,
     "metadata": {},
     "output_type": "execute_result"
    }
   ],
   "source": [
    "df.floors.unique()"
   ]
  },
  {
   "cell_type": "code",
   "execution_count": 84,
   "metadata": {
    "ExecuteTime": {
     "end_time": "2021-01-13T22:28:18.937092Z",
     "start_time": "2021-01-13T22:28:18.930083Z"
    }
   },
   "outputs": [
    {
     "data": {
      "text/plain": [
       "Index(['bathrooms', 'sqft_living', 'sqft_lot', 'floors', 'waterfront', 'view',\n",
       "       'condition', 'grade', 'sqft_basement', 'yr_built', 'zipcode', 'lat',\n",
       "       'long', 'sqft_lot15', 'been_renovated', 'num_bedrooms', 'age'],\n",
       "      dtype='object')"
      ]
     },
     "execution_count": 84,
     "metadata": {},
     "output_type": "execute_result"
    }
   ],
   "source": [
    "outcome = 'price'\n",
    "x_cols = df.drop(['price', 'id', 'date', 'sqft_living15','month','yr_renovated','bedrooms','has_basement'], axis = 1).columns\n",
    "\n",
    "x_cols"
   ]
  },
  {
   "cell_type": "code",
   "execution_count": 85,
   "metadata": {
    "ExecuteTime": {
     "end_time": "2021-01-13T22:28:19.544303Z",
     "start_time": "2021-01-13T22:28:19.408802Z"
    }
   },
   "outputs": [
    {
     "data": {
      "text/html": [
       "<table class=\"simpletable\">\n",
       "<caption>OLS Regression Results</caption>\n",
       "<tr>\n",
       "  <th>Dep. Variable:</th>          <td>price</td>      <th>  R-squared:         </th>  <td>   0.701</td>  \n",
       "</tr>\n",
       "<tr>\n",
       "  <th>Model:</th>                   <td>OLS</td>       <th>  Adj. R-squared:    </th>  <td>   0.701</td>  \n",
       "</tr>\n",
       "<tr>\n",
       "  <th>Method:</th>             <td>Least Squares</td>  <th>  F-statistic:       </th>  <td>   2654.</td>  \n",
       "</tr>\n",
       "<tr>\n",
       "  <th>Date:</th>             <td>Wed, 13 Jan 2021</td> <th>  Prob (F-statistic):</th>   <td>  0.00</td>   \n",
       "</tr>\n",
       "<tr>\n",
       "  <th>Time:</th>                 <td>17:28:19</td>     <th>  Log-Likelihood:    </th> <td>-2.9342e+05</td>\n",
       "</tr>\n",
       "<tr>\n",
       "  <th>No. Observations:</th>      <td> 21534</td>      <th>  AIC:               </th>  <td>5.869e+05</td> \n",
       "</tr>\n",
       "<tr>\n",
       "  <th>Df Residuals:</th>          <td> 21514</td>      <th>  BIC:               </th>  <td>5.870e+05</td> \n",
       "</tr>\n",
       "<tr>\n",
       "  <th>Df Model:</th>              <td>    19</td>      <th>                     </th>      <td> </td>     \n",
       "</tr>\n",
       "<tr>\n",
       "  <th>Covariance Type:</th>      <td>nonrobust</td>    <th>                     </th>      <td> </td>     \n",
       "</tr>\n",
       "</table>\n",
       "<table class=\"simpletable\">\n",
       "<tr>\n",
       "           <td></td>             <th>coef</th>     <th>std err</th>      <th>t</th>      <th>P>|t|</th>  <th>[0.025</th>    <th>0.975]</th>  \n",
       "</tr>\n",
       "<tr>\n",
       "  <th>Intercept</th>          <td>    4.9221</td> <td>    1.400</td> <td>    3.516</td> <td> 0.000</td> <td>    2.179</td> <td>    7.666</td>\n",
       "</tr>\n",
       "<tr>\n",
       "  <th>num_bedrooms[T.2]</th>  <td>-4.452e+04</td> <td> 1.49e+04</td> <td>   -2.995</td> <td> 0.003</td> <td>-7.36e+04</td> <td>-1.54e+04</td>\n",
       "</tr>\n",
       "<tr>\n",
       "  <th>num_bedrooms[T.3]</th>  <td>-1.073e+05</td> <td> 1.47e+04</td> <td>   -7.327</td> <td> 0.000</td> <td>-1.36e+05</td> <td>-7.86e+04</td>\n",
       "</tr>\n",
       "<tr>\n",
       "  <th>num_bedrooms[T.4]</th>  <td>-1.546e+05</td> <td>  1.5e+04</td> <td>  -10.333</td> <td> 0.000</td> <td>-1.84e+05</td> <td>-1.25e+05</td>\n",
       "</tr>\n",
       "<tr>\n",
       "  <th>num_bedrooms[T.5+]</th> <td>-1.577e+05</td> <td> 1.57e+04</td> <td>  -10.013</td> <td> 0.000</td> <td>-1.89e+05</td> <td>-1.27e+05</td>\n",
       "</tr>\n",
       "<tr>\n",
       "  <th>bathrooms</th>          <td> 3.966e+04</td> <td> 3243.593</td> <td>   12.228</td> <td> 0.000</td> <td> 3.33e+04</td> <td>  4.6e+04</td>\n",
       "</tr>\n",
       "<tr>\n",
       "  <th>sqft_living</th>        <td>  188.5541</td> <td>    3.382</td> <td>   55.759</td> <td> 0.000</td> <td>  181.926</td> <td>  195.182</td>\n",
       "</tr>\n",
       "<tr>\n",
       "  <th>sqft_lot</th>           <td>    0.0997</td> <td>    0.048</td> <td>    2.094</td> <td> 0.036</td> <td>    0.006</td> <td>    0.193</td>\n",
       "</tr>\n",
       "<tr>\n",
       "  <th>floors</th>             <td> 5972.7616</td> <td> 3546.377</td> <td>    1.684</td> <td> 0.092</td> <td> -978.400</td> <td> 1.29e+04</td>\n",
       "</tr>\n",
       "<tr>\n",
       "  <th>waterfront</th>         <td> 5.898e+05</td> <td> 1.81e+04</td> <td>   32.564</td> <td> 0.000</td> <td> 5.54e+05</td> <td> 6.25e+05</td>\n",
       "</tr>\n",
       "<tr>\n",
       "  <th>view</th>               <td> 5.603e+04</td> <td> 2088.783</td> <td>   26.825</td> <td> 0.000</td> <td> 5.19e+04</td> <td> 6.01e+04</td>\n",
       "</tr>\n",
       "<tr>\n",
       "  <th>condition</th>          <td> 2.721e+04</td> <td> 2337.257</td> <td>   11.643</td> <td> 0.000</td> <td> 2.26e+04</td> <td> 3.18e+04</td>\n",
       "</tr>\n",
       "<tr>\n",
       "  <th>grade</th>              <td> 1.032e+05</td> <td> 2069.176</td> <td>   49.895</td> <td> 0.000</td> <td> 9.92e+04</td> <td> 1.07e+05</td>\n",
       "</tr>\n",
       "<tr>\n",
       "  <th>sqft_basement</th>      <td>  -33.7778</td> <td>    4.273</td> <td>   -7.906</td> <td> 0.000</td> <td>  -42.153</td> <td>  -25.403</td>\n",
       "</tr>\n",
       "<tr>\n",
       "  <th>yr_built</th>           <td> 3674.0511</td> <td> 1402.605</td> <td>    2.619</td> <td> 0.009</td> <td>  924.841</td> <td> 6423.262</td>\n",
       "</tr>\n",
       "<tr>\n",
       "  <th>zipcode</th>            <td> -617.8670</td> <td>   32.773</td> <td>  -18.853</td> <td> 0.000</td> <td> -682.105</td> <td> -553.629</td>\n",
       "</tr>\n",
       "<tr>\n",
       "  <th>lat</th>                <td> 5.968e+05</td> <td> 1.07e+04</td> <td>   55.745</td> <td> 0.000</td> <td> 5.76e+05</td> <td> 6.18e+05</td>\n",
       "</tr>\n",
       "<tr>\n",
       "  <th>long</th>               <td> -1.96e+05</td> <td>  1.3e+04</td> <td>  -15.129</td> <td> 0.000</td> <td>-2.21e+05</td> <td>-1.71e+05</td>\n",
       "</tr>\n",
       "<tr>\n",
       "  <th>sqft_lot15</th>         <td>   -0.3699</td> <td>    0.073</td> <td>   -5.069</td> <td> 0.000</td> <td>   -0.513</td> <td>   -0.227</td>\n",
       "</tr>\n",
       "<tr>\n",
       "  <th>been_renovated</th>     <td> 3.846e+04</td> <td> 7193.471</td> <td>    5.347</td> <td> 0.000</td> <td> 2.44e+04</td> <td> 5.26e+04</td>\n",
       "</tr>\n",
       "<tr>\n",
       "  <th>age</th>                <td> 6268.6580</td> <td> 1425.689</td> <td>    4.397</td> <td> 0.000</td> <td> 3474.203</td> <td> 9063.113</td>\n",
       "</tr>\n",
       "</table>\n",
       "<table class=\"simpletable\">\n",
       "<tr>\n",
       "  <th>Omnibus:</th>       <td>17670.252</td> <th>  Durbin-Watson:     </th>  <td>   1.989</td>  \n",
       "</tr>\n",
       "<tr>\n",
       "  <th>Prob(Omnibus):</th>  <td> 0.000</td>   <th>  Jarque-Bera (JB):  </th> <td>1611277.511</td>\n",
       "</tr>\n",
       "<tr>\n",
       "  <th>Skew:</th>           <td> 3.393</td>   <th>  Prob(JB):          </th>  <td>    0.00</td>  \n",
       "</tr>\n",
       "<tr>\n",
       "  <th>Kurtosis:</th>       <td>44.830</td>   <th>  Cond. No.          </th>  <td>7.94e+19</td>  \n",
       "</tr>\n",
       "</table><br/><br/>Notes:<br/>[1] Standard Errors assume that the covariance matrix of the errors is correctly specified.<br/>[2] The smallest eigenvalue is 3.46e-26. This might indicate that there are<br/>strong multicollinearity problems or that the design matrix is singular."
      ],
      "text/plain": [
       "<class 'statsmodels.iolib.summary.Summary'>\n",
       "\"\"\"\n",
       "                            OLS Regression Results                            \n",
       "==============================================================================\n",
       "Dep. Variable:                  price   R-squared:                       0.701\n",
       "Model:                            OLS   Adj. R-squared:                  0.701\n",
       "Method:                 Least Squares   F-statistic:                     2654.\n",
       "Date:                Wed, 13 Jan 2021   Prob (F-statistic):               0.00\n",
       "Time:                        17:28:19   Log-Likelihood:            -2.9342e+05\n",
       "No. Observations:               21534   AIC:                         5.869e+05\n",
       "Df Residuals:                   21514   BIC:                         5.870e+05\n",
       "Df Model:                          19                                         \n",
       "Covariance Type:            nonrobust                                         \n",
       "======================================================================================\n",
       "                         coef    std err          t      P>|t|      [0.025      0.975]\n",
       "--------------------------------------------------------------------------------------\n",
       "Intercept              4.9221      1.400      3.516      0.000       2.179       7.666\n",
       "num_bedrooms[T.2]  -4.452e+04   1.49e+04     -2.995      0.003   -7.36e+04   -1.54e+04\n",
       "num_bedrooms[T.3]  -1.073e+05   1.47e+04     -7.327      0.000   -1.36e+05   -7.86e+04\n",
       "num_bedrooms[T.4]  -1.546e+05    1.5e+04    -10.333      0.000   -1.84e+05   -1.25e+05\n",
       "num_bedrooms[T.5+] -1.577e+05   1.57e+04    -10.013      0.000   -1.89e+05   -1.27e+05\n",
       "bathrooms           3.966e+04   3243.593     12.228      0.000    3.33e+04     4.6e+04\n",
       "sqft_living          188.5541      3.382     55.759      0.000     181.926     195.182\n",
       "sqft_lot               0.0997      0.048      2.094      0.036       0.006       0.193\n",
       "floors              5972.7616   3546.377      1.684      0.092    -978.400    1.29e+04\n",
       "waterfront          5.898e+05   1.81e+04     32.564      0.000    5.54e+05    6.25e+05\n",
       "view                5.603e+04   2088.783     26.825      0.000    5.19e+04    6.01e+04\n",
       "condition           2.721e+04   2337.257     11.643      0.000    2.26e+04    3.18e+04\n",
       "grade               1.032e+05   2069.176     49.895      0.000    9.92e+04    1.07e+05\n",
       "sqft_basement        -33.7778      4.273     -7.906      0.000     -42.153     -25.403\n",
       "yr_built            3674.0511   1402.605      2.619      0.009     924.841    6423.262\n",
       "zipcode             -617.8670     32.773    -18.853      0.000    -682.105    -553.629\n",
       "lat                 5.968e+05   1.07e+04     55.745      0.000    5.76e+05    6.18e+05\n",
       "long                -1.96e+05    1.3e+04    -15.129      0.000   -2.21e+05   -1.71e+05\n",
       "sqft_lot15            -0.3699      0.073     -5.069      0.000      -0.513      -0.227\n",
       "been_renovated      3.846e+04   7193.471      5.347      0.000    2.44e+04    5.26e+04\n",
       "age                 6268.6580   1425.689      4.397      0.000    3474.203    9063.113\n",
       "==============================================================================\n",
       "Omnibus:                    17670.252   Durbin-Watson:                   1.989\n",
       "Prob(Omnibus):                  0.000   Jarque-Bera (JB):          1611277.511\n",
       "Skew:                           3.393   Prob(JB):                         0.00\n",
       "Kurtosis:                      44.830   Cond. No.                     7.94e+19\n",
       "==============================================================================\n",
       "\n",
       "Notes:\n",
       "[1] Standard Errors assume that the covariance matrix of the errors is correctly specified.\n",
       "[2] The smallest eigenvalue is 3.46e-26. This might indicate that there are\n",
       "strong multicollinearity problems or that the design matrix is singular.\n",
       "\"\"\""
      ]
     },
     "execution_count": 85,
     "metadata": {},
     "output_type": "execute_result"
    }
   ],
   "source": [
    "predictors = '+'.join(x_cols)\n",
    "\n",
    "predictors\n",
    "\n",
    "f = outcome + '~' + predictors \n",
    "\n",
    "f\n",
    "\n",
    "model = ols(formula= f, data= df).fit()\n",
    "model.summary()"
   ]
  },
  {
   "cell_type": "markdown",
   "metadata": {},
   "source": [
    "## Model with grade dummies"
   ]
  },
  {
   "cell_type": "code",
   "execution_count": 86,
   "metadata": {
    "ExecuteTime": {
     "end_time": "2021-01-13T22:30:33.017009Z",
     "start_time": "2021-01-13T22:30:33.013025Z"
    }
   },
   "outputs": [],
   "source": [
    "grade = pd.get_dummies(df['grade'], prefix = 'grade',drop_first=True)"
   ]
  },
  {
   "cell_type": "code",
   "execution_count": 87,
   "metadata": {
    "ExecuteTime": {
     "end_time": "2021-01-13T22:30:36.436120Z",
     "start_time": "2021-01-13T22:30:36.429141Z"
    }
   },
   "outputs": [],
   "source": [
    "dfgrade = pd.concat([df, grade], axis = 1)"
   ]
  },
  {
   "cell_type": "code",
   "execution_count": 88,
   "metadata": {
    "ExecuteTime": {
     "end_time": "2021-01-13T22:30:36.989651Z",
     "start_time": "2021-01-13T22:30:36.979639Z"
    }
   },
   "outputs": [],
   "source": [
    "outcome = 'price'\n",
    "x_cols = dfgrade.drop(['price', 'id', 'date','month','grade','yr_renovated'], axis = 1).columns\n",
    "\n",
    "predictors = '+'.join(x_cols)\n",
    "\n",
    "f = outcome + '~' + predictors"
   ]
  },
  {
   "cell_type": "code",
   "execution_count": 78,
   "metadata": {
    "ExecuteTime": {
     "end_time": "2021-01-12T05:05:40.135360Z",
     "start_time": "2021-01-12T05:05:40.025764Z"
    }
   },
   "outputs": [
    {
     "data": {
      "text/html": [
       "<table class=\"simpletable\">\n",
       "<caption>OLS Regression Results</caption>\n",
       "<tr>\n",
       "  <th>Dep. Variable:</th>          <td>price</td>      <th>  R-squared:         </th>  <td>   0.720</td>  \n",
       "</tr>\n",
       "<tr>\n",
       "  <th>Model:</th>                   <td>OLS</td>       <th>  Adj. R-squared:    </th>  <td>   0.719</td>  \n",
       "</tr>\n",
       "<tr>\n",
       "  <th>Method:</th>             <td>Least Squares</td>  <th>  F-statistic:       </th>  <td>   2125.</td>  \n",
       "</tr>\n",
       "<tr>\n",
       "  <th>Date:</th>             <td>Tue, 12 Jan 2021</td> <th>  Prob (F-statistic):</th>   <td>  0.00</td>   \n",
       "</tr>\n",
       "<tr>\n",
       "  <th>Time:</th>                 <td>00:05:40</td>     <th>  Log-Likelihood:    </th> <td>-2.9272e+05</td>\n",
       "</tr>\n",
       "<tr>\n",
       "  <th>No. Observations:</th>      <td> 21534</td>      <th>  AIC:               </th>  <td>5.855e+05</td> \n",
       "</tr>\n",
       "<tr>\n",
       "  <th>Df Residuals:</th>          <td> 21507</td>      <th>  BIC:               </th>  <td>5.857e+05</td> \n",
       "</tr>\n",
       "<tr>\n",
       "  <th>Df Model:</th>              <td>    26</td>      <th>                     </th>      <td> </td>     \n",
       "</tr>\n",
       "<tr>\n",
       "  <th>Covariance Type:</th>      <td>nonrobust</td>    <th>                     </th>      <td> </td>     \n",
       "</tr>\n",
       "</table>\n",
       "<table class=\"simpletable\">\n",
       "<tr>\n",
       "         <td></td>           <th>coef</th>     <th>std err</th>      <th>t</th>      <th>P>|t|</th>  <th>[0.025</th>    <th>0.975]</th>  \n",
       "</tr>\n",
       "<tr>\n",
       "  <th>Intercept</th>      <td> 8.819e+06</td> <td> 2.59e+06</td> <td>    3.399</td> <td> 0.001</td> <td> 3.73e+06</td> <td> 1.39e+07</td>\n",
       "</tr>\n",
       "<tr>\n",
       "  <th>bedrooms</th>       <td>-2.204e+04</td> <td> 1871.700</td> <td>  -11.774</td> <td> 0.000</td> <td>-2.57e+04</td> <td>-1.84e+04</td>\n",
       "</tr>\n",
       "<tr>\n",
       "  <th>bathrooms</th>      <td> 4.306e+04</td> <td> 3156.072</td> <td>   13.644</td> <td> 0.000</td> <td> 3.69e+04</td> <td> 4.92e+04</td>\n",
       "</tr>\n",
       "<tr>\n",
       "  <th>sqft_living</th>    <td>  135.7875</td> <td>    3.675</td> <td>   36.949</td> <td> 0.000</td> <td>  128.584</td> <td>  142.991</td>\n",
       "</tr>\n",
       "<tr>\n",
       "  <th>sqft_lot</th>       <td>    0.1002</td> <td>    0.046</td> <td>    2.169</td> <td> 0.030</td> <td>    0.010</td> <td>    0.191</td>\n",
       "</tr>\n",
       "<tr>\n",
       "  <th>floors</th>         <td> 2.702e+04</td> <td> 3501.082</td> <td>    7.718</td> <td> 0.000</td> <td> 2.02e+04</td> <td> 3.39e+04</td>\n",
       "</tr>\n",
       "<tr>\n",
       "  <th>waterfront</th>     <td> 1.974e+05</td> <td> 1.01e+04</td> <td>   19.620</td> <td> 0.000</td> <td> 1.78e+05</td> <td> 2.17e+05</td>\n",
       "</tr>\n",
       "<tr>\n",
       "  <th>view</th>           <td> 6.669e+04</td> <td> 1961.046</td> <td>   34.009</td> <td> 0.000</td> <td> 6.29e+04</td> <td> 7.05e+04</td>\n",
       "</tr>\n",
       "<tr>\n",
       "  <th>condition</th>      <td> 3.258e+04</td> <td> 2261.579</td> <td>   14.407</td> <td> 0.000</td> <td> 2.81e+04</td> <td>  3.7e+04</td>\n",
       "</tr>\n",
       "<tr>\n",
       "  <th>sqft_basement</th>  <td>   -2.4669</td> <td>    4.235</td> <td>   -0.582</td> <td> 0.560</td> <td>  -10.768</td> <td>    5.834</td>\n",
       "</tr>\n",
       "<tr>\n",
       "  <th>yr_built</th>       <td>-2178.4511</td> <td>   69.932</td> <td>  -31.151</td> <td> 0.000</td> <td>-2315.523</td> <td>-2041.379</td>\n",
       "</tr>\n",
       "<tr>\n",
       "  <th>zipcode</th>        <td> -612.8704</td> <td>   31.892</td> <td>  -19.217</td> <td> 0.000</td> <td> -675.382</td> <td> -550.359</td>\n",
       "</tr>\n",
       "<tr>\n",
       "  <th>lat</th>            <td> 6.152e+05</td> <td> 1.04e+04</td> <td>   59.324</td> <td> 0.000</td> <td> 5.95e+05</td> <td> 6.36e+05</td>\n",
       "</tr>\n",
       "<tr>\n",
       "  <th>long</th>           <td>-2.117e+05</td> <td> 1.27e+04</td> <td>  -16.679</td> <td> 0.000</td> <td>-2.37e+05</td> <td>-1.87e+05</td>\n",
       "</tr>\n",
       "<tr>\n",
       "  <th>sqft_living15</th>  <td>   24.7757</td> <td>    3.351</td> <td>    7.393</td> <td> 0.000</td> <td>   18.207</td> <td>   31.344</td>\n",
       "</tr>\n",
       "<tr>\n",
       "  <th>sqft_lot15</th>     <td>   -0.3617</td> <td>    0.071</td> <td>   -5.116</td> <td> 0.000</td> <td>   -0.500</td> <td>   -0.223</td>\n",
       "</tr>\n",
       "<tr>\n",
       "  <th>been_renovated</th> <td> 6.051e+04</td> <td> 6879.807</td> <td>    8.795</td> <td> 0.000</td> <td>  4.7e+04</td> <td>  7.4e+04</td>\n",
       "</tr>\n",
       "<tr>\n",
       "  <th>grade_3</th>        <td> 5.265e+05</td> <td> 2.93e+05</td> <td>    1.794</td> <td> 0.073</td> <td>-4.87e+04</td> <td>  1.1e+06</td>\n",
       "</tr>\n",
       "<tr>\n",
       "  <th>grade_4</th>        <td> 3.554e+05</td> <td> 2.38e+05</td> <td>    1.495</td> <td> 0.135</td> <td>-1.11e+05</td> <td> 8.21e+05</td>\n",
       "</tr>\n",
       "<tr>\n",
       "  <th>grade_5</th>        <td> 3.434e+05</td> <td> 2.36e+05</td> <td>    1.454</td> <td> 0.146</td> <td>-1.19e+05</td> <td> 8.06e+05</td>\n",
       "</tr>\n",
       "<tr>\n",
       "  <th>grade_6</th>        <td> 3.643e+05</td> <td> 2.37e+05</td> <td>    1.539</td> <td> 0.124</td> <td>-9.95e+04</td> <td> 8.28e+05</td>\n",
       "</tr>\n",
       "<tr>\n",
       "  <th>grade_7</th>        <td> 4.019e+05</td> <td> 2.37e+05</td> <td>    1.698</td> <td> 0.089</td> <td>-6.19e+04</td> <td> 8.66e+05</td>\n",
       "</tr>\n",
       "<tr>\n",
       "  <th>grade_8</th>        <td> 4.605e+05</td> <td> 2.37e+05</td> <td>    1.945</td> <td> 0.052</td> <td>-3492.344</td> <td> 9.25e+05</td>\n",
       "</tr>\n",
       "<tr>\n",
       "  <th>grade_9</th>        <td> 5.796e+05</td> <td> 2.37e+05</td> <td>    2.445</td> <td> 0.014</td> <td> 1.15e+05</td> <td> 1.04e+06</td>\n",
       "</tr>\n",
       "<tr>\n",
       "  <th>grade_10</th>       <td> 7.448e+05</td> <td> 2.37e+05</td> <td>    3.140</td> <td> 0.002</td> <td>  2.8e+05</td> <td> 1.21e+06</td>\n",
       "</tr>\n",
       "<tr>\n",
       "  <th>grade_11</th>       <td> 9.914e+05</td> <td> 2.38e+05</td> <td>    4.174</td> <td> 0.000</td> <td> 5.26e+05</td> <td> 1.46e+06</td>\n",
       "</tr>\n",
       "<tr>\n",
       "  <th>grade_12</th>       <td> 1.438e+06</td> <td> 2.38e+05</td> <td>    6.038</td> <td> 0.000</td> <td> 9.71e+05</td> <td>  1.9e+06</td>\n",
       "</tr>\n",
       "<tr>\n",
       "  <th>grade_13</th>       <td> 2.614e+06</td> <td> 2.43e+05</td> <td>   10.737</td> <td> 0.000</td> <td> 2.14e+06</td> <td> 3.09e+06</td>\n",
       "</tr>\n",
       "</table>\n",
       "<table class=\"simpletable\">\n",
       "<tr>\n",
       "  <th>Omnibus:</th>       <td>15080.922</td> <th>  Durbin-Watson:     </th>  <td>   1.995</td> \n",
       "</tr>\n",
       "<tr>\n",
       "  <th>Prob(Omnibus):</th>  <td> 0.000</td>   <th>  Jarque-Bera (JB):  </th> <td>883752.091</td>\n",
       "</tr>\n",
       "<tr>\n",
       "  <th>Skew:</th>           <td> 2.751</td>   <th>  Prob(JB):          </th>  <td>    0.00</td> \n",
       "</tr>\n",
       "<tr>\n",
       "  <th>Kurtosis:</th>       <td>33.898</td>   <th>  Cond. No.          </th>  <td>2.35e+15</td> \n",
       "</tr>\n",
       "</table><br/><br/>Notes:<br/>[1] Standard Errors assume that the covariance matrix of the errors is correctly specified.<br/>[2] The smallest eigenvalue is 3.94e-17. This might indicate that there are<br/>strong multicollinearity problems or that the design matrix is singular."
      ],
      "text/plain": [
       "<class 'statsmodels.iolib.summary.Summary'>\n",
       "\"\"\"\n",
       "                            OLS Regression Results                            \n",
       "==============================================================================\n",
       "Dep. Variable:                  price   R-squared:                       0.720\n",
       "Model:                            OLS   Adj. R-squared:                  0.719\n",
       "Method:                 Least Squares   F-statistic:                     2125.\n",
       "Date:                Tue, 12 Jan 2021   Prob (F-statistic):               0.00\n",
       "Time:                        00:05:40   Log-Likelihood:            -2.9272e+05\n",
       "No. Observations:               21534   AIC:                         5.855e+05\n",
       "Df Residuals:                   21507   BIC:                         5.857e+05\n",
       "Df Model:                          26                                         \n",
       "Covariance Type:            nonrobust                                         \n",
       "==================================================================================\n",
       "                     coef    std err          t      P>|t|      [0.025      0.975]\n",
       "----------------------------------------------------------------------------------\n",
       "Intercept       8.819e+06   2.59e+06      3.399      0.001    3.73e+06    1.39e+07\n",
       "bedrooms       -2.204e+04   1871.700    -11.774      0.000   -2.57e+04   -1.84e+04\n",
       "bathrooms       4.306e+04   3156.072     13.644      0.000    3.69e+04    4.92e+04\n",
       "sqft_living      135.7875      3.675     36.949      0.000     128.584     142.991\n",
       "sqft_lot           0.1002      0.046      2.169      0.030       0.010       0.191\n",
       "floors          2.702e+04   3501.082      7.718      0.000    2.02e+04    3.39e+04\n",
       "waterfront      1.974e+05   1.01e+04     19.620      0.000    1.78e+05    2.17e+05\n",
       "view            6.669e+04   1961.046     34.009      0.000    6.29e+04    7.05e+04\n",
       "condition       3.258e+04   2261.579     14.407      0.000    2.81e+04     3.7e+04\n",
       "sqft_basement     -2.4669      4.235     -0.582      0.560     -10.768       5.834\n",
       "yr_built       -2178.4511     69.932    -31.151      0.000   -2315.523   -2041.379\n",
       "zipcode         -612.8704     31.892    -19.217      0.000    -675.382    -550.359\n",
       "lat             6.152e+05   1.04e+04     59.324      0.000    5.95e+05    6.36e+05\n",
       "long           -2.117e+05   1.27e+04    -16.679      0.000   -2.37e+05   -1.87e+05\n",
       "sqft_living15     24.7757      3.351      7.393      0.000      18.207      31.344\n",
       "sqft_lot15        -0.3617      0.071     -5.116      0.000      -0.500      -0.223\n",
       "been_renovated  6.051e+04   6879.807      8.795      0.000     4.7e+04     7.4e+04\n",
       "grade_3         5.265e+05   2.93e+05      1.794      0.073   -4.87e+04     1.1e+06\n",
       "grade_4         3.554e+05   2.38e+05      1.495      0.135   -1.11e+05    8.21e+05\n",
       "grade_5         3.434e+05   2.36e+05      1.454      0.146   -1.19e+05    8.06e+05\n",
       "grade_6         3.643e+05   2.37e+05      1.539      0.124   -9.95e+04    8.28e+05\n",
       "grade_7         4.019e+05   2.37e+05      1.698      0.089   -6.19e+04    8.66e+05\n",
       "grade_8         4.605e+05   2.37e+05      1.945      0.052   -3492.344    9.25e+05\n",
       "grade_9         5.796e+05   2.37e+05      2.445      0.014    1.15e+05    1.04e+06\n",
       "grade_10        7.448e+05   2.37e+05      3.140      0.002     2.8e+05    1.21e+06\n",
       "grade_11        9.914e+05   2.38e+05      4.174      0.000    5.26e+05    1.46e+06\n",
       "grade_12        1.438e+06   2.38e+05      6.038      0.000    9.71e+05     1.9e+06\n",
       "grade_13        2.614e+06   2.43e+05     10.737      0.000    2.14e+06    3.09e+06\n",
       "==============================================================================\n",
       "Omnibus:                    15080.922   Durbin-Watson:                   1.995\n",
       "Prob(Omnibus):                  0.000   Jarque-Bera (JB):           883752.091\n",
       "Skew:                           2.751   Prob(JB):                         0.00\n",
       "Kurtosis:                      33.898   Cond. No.                     2.35e+15\n",
       "==============================================================================\n",
       "\n",
       "Notes:\n",
       "[1] Standard Errors assume that the covariance matrix of the errors is correctly specified.\n",
       "[2] The smallest eigenvalue is 3.94e-17. This might indicate that there are\n",
       "strong multicollinearity problems or that the design matrix is singular.\n",
       "\"\"\""
      ]
     },
     "execution_count": 78,
     "metadata": {},
     "output_type": "execute_result"
    }
   ],
   "source": [
    "modelgrade = ols(formula=f,data = dfgrade).fit()\n",
    "modelgrade.summary()"
   ]
  },
  {
   "cell_type": "markdown",
   "metadata": {},
   "source": [
    "## Model with view dummies"
   ]
  },
  {
   "cell_type": "code",
   "execution_count": 89,
   "metadata": {
    "ExecuteTime": {
     "end_time": "2021-01-13T22:32:25.107190Z",
     "start_time": "2021-01-13T22:32:25.102203Z"
    }
   },
   "outputs": [],
   "source": [
    "view = pd.get_dummies(df['view'], prefix = 'v',drop_first=True)\n",
    "view.columns = view.columns.map(lambda x: x.replace('.0',''))\n",
    "dfview = pd.concat([df, view], axis = 1)"
   ]
  },
  {
   "cell_type": "code",
   "execution_count": 90,
   "metadata": {
    "ExecuteTime": {
     "end_time": "2021-01-13T22:32:25.713835Z",
     "start_time": "2021-01-13T22:32:25.707886Z"
    }
   },
   "outputs": [],
   "source": [
    "view.columns = view.columns.map(lambda x: x.replace('.0',''))\n"
   ]
  },
  {
   "cell_type": "code",
   "execution_count": 91,
   "metadata": {
    "ExecuteTime": {
     "end_time": "2021-01-13T22:32:28.399208Z",
     "start_time": "2021-01-13T22:32:28.391252Z"
    }
   },
   "outputs": [],
   "source": [
    "dfview = pd.concat([df, view], axis = 1)"
   ]
  },
  {
   "cell_type": "code",
   "execution_count": 92,
   "metadata": {
    "ExecuteTime": {
     "end_time": "2021-01-13T22:32:29.007615Z",
     "start_time": "2021-01-13T22:32:28.996605Z"
    }
   },
   "outputs": [],
   "source": [
    "outcome = 'price'\n",
    "x_cols = dfview.drop(['price', 'id', 'date','month','view','yr_renovated'], axis = 1).columns\n",
    "\n",
    "predictors = '+'.join(x_cols)\n",
    "\n",
    "f = outcome + '~' + predictors"
   ]
  },
  {
   "cell_type": "code",
   "execution_count": 93,
   "metadata": {
    "ExecuteTime": {
     "end_time": "2021-01-13T22:32:31.264476Z",
     "start_time": "2021-01-13T22:32:31.110134Z"
    }
   },
   "outputs": [
    {
     "data": {
      "text/html": [
       "<table class=\"simpletable\">\n",
       "<caption>OLS Regression Results</caption>\n",
       "<tr>\n",
       "  <th>Dep. Variable:</th>          <td>price</td>      <th>  R-squared:         </th>  <td>   0.703</td>  \n",
       "</tr>\n",
       "<tr>\n",
       "  <th>Model:</th>                   <td>OLS</td>       <th>  Adj. R-squared:    </th>  <td>   0.703</td>  \n",
       "</tr>\n",
       "<tr>\n",
       "  <th>Method:</th>             <td>Least Squares</td>  <th>  F-statistic:       </th>  <td>   2039.</td>  \n",
       "</tr>\n",
       "<tr>\n",
       "  <th>Date:</th>             <td>Wed, 13 Jan 2021</td> <th>  Prob (F-statistic):</th>   <td>  0.00</td>   \n",
       "</tr>\n",
       "<tr>\n",
       "  <th>Time:</th>                 <td>17:32:31</td>     <th>  Log-Likelihood:    </th> <td>-2.9334e+05</td>\n",
       "</tr>\n",
       "<tr>\n",
       "  <th>No. Observations:</th>      <td> 21534</td>      <th>  AIC:               </th>  <td>5.867e+05</td> \n",
       "</tr>\n",
       "<tr>\n",
       "  <th>Df Residuals:</th>          <td> 21508</td>      <th>  BIC:               </th>  <td>5.869e+05</td> \n",
       "</tr>\n",
       "<tr>\n",
       "  <th>Df Model:</th>              <td>    25</td>      <th>                     </th>      <td> </td>     \n",
       "</tr>\n",
       "<tr>\n",
       "  <th>Covariance Type:</th>      <td>nonrobust</td>    <th>                     </th>      <td> </td>     \n",
       "</tr>\n",
       "</table>\n",
       "<table class=\"simpletable\">\n",
       "<tr>\n",
       "           <td></td>             <th>coef</th>     <th>std err</th>      <th>t</th>      <th>P>|t|</th>  <th>[0.025</th>    <th>0.975]</th>  \n",
       "</tr>\n",
       "<tr>\n",
       "  <th>Intercept</th>          <td>    3.2702</td> <td>    1.428</td> <td>    2.291</td> <td> 0.022</td> <td>    0.472</td> <td>    6.069</td>\n",
       "</tr>\n",
       "<tr>\n",
       "  <th>num_bedrooms[T.2]</th>  <td>-2.953e+04</td> <td> 1.57e+04</td> <td>   -1.875</td> <td> 0.061</td> <td>-6.04e+04</td> <td> 1338.128</td>\n",
       "</tr>\n",
       "<tr>\n",
       "  <th>num_bedrooms[T.3]</th>  <td>-8.147e+04</td> <td> 1.81e+04</td> <td>   -4.510</td> <td> 0.000</td> <td>-1.17e+05</td> <td>-4.61e+04</td>\n",
       "</tr>\n",
       "<tr>\n",
       "  <th>num_bedrooms[T.4]</th>  <td>-1.201e+05</td> <td> 2.18e+04</td> <td>   -5.516</td> <td> 0.000</td> <td>-1.63e+05</td> <td>-7.74e+04</td>\n",
       "</tr>\n",
       "<tr>\n",
       "  <th>num_bedrooms[T.5+]</th> <td>-1.094e+05</td> <td> 2.73e+04</td> <td>   -4.010</td> <td> 0.000</td> <td>-1.63e+05</td> <td>-5.59e+04</td>\n",
       "</tr>\n",
       "<tr>\n",
       "  <th>bedrooms</th>           <td>-1.006e+04</td> <td> 5325.371</td> <td>   -1.889</td> <td> 0.059</td> <td>-2.05e+04</td> <td>  376.804</td>\n",
       "</tr>\n",
       "<tr>\n",
       "  <th>bathrooms</th>          <td> 4.122e+04</td> <td> 3265.452</td> <td>   12.624</td> <td> 0.000</td> <td> 3.48e+04</td> <td> 4.76e+04</td>\n",
       "</tr>\n",
       "<tr>\n",
       "  <th>sqft_living</th>        <td>  178.4195</td> <td>    3.752</td> <td>   47.552</td> <td> 0.000</td> <td>  171.065</td> <td>  185.774</td>\n",
       "</tr>\n",
       "<tr>\n",
       "  <th>sqft_lot</th>           <td>    0.1287</td> <td>    0.048</td> <td>    2.706</td> <td> 0.007</td> <td>    0.035</td> <td>    0.222</td>\n",
       "</tr>\n",
       "<tr>\n",
       "  <th>floors</th>             <td> 9191.4571</td> <td> 3556.310</td> <td>    2.585</td> <td> 0.010</td> <td> 2220.826</td> <td> 1.62e+04</td>\n",
       "</tr>\n",
       "<tr>\n",
       "  <th>waterfront</th>         <td> 5.157e+05</td> <td> 2.03e+04</td> <td>   25.366</td> <td> 0.000</td> <td> 4.76e+05</td> <td> 5.56e+05</td>\n",
       "</tr>\n",
       "<tr>\n",
       "  <th>condition</th>          <td> 2.746e+04</td> <td> 2333.231</td> <td>   11.769</td> <td> 0.000</td> <td> 2.29e+04</td> <td>  3.2e+04</td>\n",
       "</tr>\n",
       "<tr>\n",
       "  <th>grade</th>              <td> 9.883e+04</td> <td> 2161.330</td> <td>   45.725</td> <td> 0.000</td> <td> 9.46e+04</td> <td> 1.03e+05</td>\n",
       "</tr>\n",
       "<tr>\n",
       "  <th>sqft_basement</th>      <td>  -30.4347</td> <td>    6.804</td> <td>   -4.473</td> <td> 0.000</td> <td>  -43.771</td> <td>  -17.098</td>\n",
       "</tr>\n",
       "<tr>\n",
       "  <th>yr_built</th>           <td> 1997.0857</td> <td> 1431.167</td> <td>    1.395</td> <td> 0.163</td> <td> -808.109</td> <td> 4802.280</td>\n",
       "</tr>\n",
       "<tr>\n",
       "  <th>zipcode</th>            <td> -594.2939</td> <td>   32.856</td> <td>  -18.088</td> <td> 0.000</td> <td> -658.694</td> <td> -529.894</td>\n",
       "</tr>\n",
       "<tr>\n",
       "  <th>lat</th>                <td> 5.907e+05</td> <td> 1.07e+04</td> <td>   55.235</td> <td> 0.000</td> <td>  5.7e+05</td> <td> 6.12e+05</td>\n",
       "</tr>\n",
       "<tr>\n",
       "  <th>long</th>               <td>-2.072e+05</td> <td> 1.31e+04</td> <td>  -15.801</td> <td> 0.000</td> <td>-2.33e+05</td> <td>-1.81e+05</td>\n",
       "</tr>\n",
       "<tr>\n",
       "  <th>sqft_living15</th>      <td>   23.4392</td> <td>    3.440</td> <td>    6.813</td> <td> 0.000</td> <td>   16.696</td> <td>   30.183</td>\n",
       "</tr>\n",
       "<tr>\n",
       "  <th>sqft_lot15</th>         <td>   -0.3890</td> <td>    0.073</td> <td>   -5.344</td> <td> 0.000</td> <td>   -0.532</td> <td>   -0.246</td>\n",
       "</tr>\n",
       "<tr>\n",
       "  <th>been_renovated</th>     <td> 3.907e+04</td> <td> 7175.831</td> <td>    5.445</td> <td> 0.000</td> <td>  2.5e+04</td> <td> 5.31e+04</td>\n",
       "</tr>\n",
       "<tr>\n",
       "  <th>has_basement</th>       <td>  -80.9071</td> <td> 5292.019</td> <td>   -0.015</td> <td> 0.988</td> <td>-1.05e+04</td> <td> 1.03e+04</td>\n",
       "</tr>\n",
       "<tr>\n",
       "  <th>age</th>                <td> 4608.6957</td> <td> 1453.615</td> <td>    3.171</td> <td> 0.002</td> <td> 1759.502</td> <td> 7457.889</td>\n",
       "</tr>\n",
       "<tr>\n",
       "  <th>v_1</th>                <td> 1.107e+05</td> <td> 1.12e+04</td> <td>    9.847</td> <td> 0.000</td> <td> 8.87e+04</td> <td> 1.33e+05</td>\n",
       "</tr>\n",
       "<tr>\n",
       "  <th>v_2</th>                <td> 7.012e+04</td> <td> 6835.508</td> <td>   10.259</td> <td> 0.000</td> <td> 5.67e+04</td> <td> 8.35e+04</td>\n",
       "</tr>\n",
       "<tr>\n",
       "  <th>v_3</th>                <td> 1.445e+05</td> <td> 9376.890</td> <td>   15.408</td> <td> 0.000</td> <td> 1.26e+05</td> <td> 1.63e+05</td>\n",
       "</tr>\n",
       "<tr>\n",
       "  <th>v_4</th>                <td> 3.105e+05</td> <td> 1.42e+04</td> <td>   21.931</td> <td> 0.000</td> <td> 2.83e+05</td> <td> 3.38e+05</td>\n",
       "</tr>\n",
       "</table>\n",
       "<table class=\"simpletable\">\n",
       "<tr>\n",
       "  <th>Omnibus:</th>       <td>17921.137</td> <th>  Durbin-Watson:     </th>  <td>   1.987</td>  \n",
       "</tr>\n",
       "<tr>\n",
       "  <th>Prob(Omnibus):</th>  <td> 0.000</td>   <th>  Jarque-Bera (JB):  </th> <td>1750216.070</td>\n",
       "</tr>\n",
       "<tr>\n",
       "  <th>Skew:</th>           <td> 3.450</td>   <th>  Prob(JB):          </th>  <td>    0.00</td>  \n",
       "</tr>\n",
       "<tr>\n",
       "  <th>Kurtosis:</th>       <td>46.624</td>   <th>  Cond. No.          </th>  <td>7.94e+19</td>  \n",
       "</tr>\n",
       "</table><br/><br/>Notes:<br/>[1] Standard Errors assume that the covariance matrix of the errors is correctly specified.<br/>[2] The smallest eigenvalue is 3.46e-26. This might indicate that there are<br/>strong multicollinearity problems or that the design matrix is singular."
      ],
      "text/plain": [
       "<class 'statsmodels.iolib.summary.Summary'>\n",
       "\"\"\"\n",
       "                            OLS Regression Results                            \n",
       "==============================================================================\n",
       "Dep. Variable:                  price   R-squared:                       0.703\n",
       "Model:                            OLS   Adj. R-squared:                  0.703\n",
       "Method:                 Least Squares   F-statistic:                     2039.\n",
       "Date:                Wed, 13 Jan 2021   Prob (F-statistic):               0.00\n",
       "Time:                        17:32:31   Log-Likelihood:            -2.9334e+05\n",
       "No. Observations:               21534   AIC:                         5.867e+05\n",
       "Df Residuals:                   21508   BIC:                         5.869e+05\n",
       "Df Model:                          25                                         \n",
       "Covariance Type:            nonrobust                                         \n",
       "======================================================================================\n",
       "                         coef    std err          t      P>|t|      [0.025      0.975]\n",
       "--------------------------------------------------------------------------------------\n",
       "Intercept              3.2702      1.428      2.291      0.022       0.472       6.069\n",
       "num_bedrooms[T.2]  -2.953e+04   1.57e+04     -1.875      0.061   -6.04e+04    1338.128\n",
       "num_bedrooms[T.3]  -8.147e+04   1.81e+04     -4.510      0.000   -1.17e+05   -4.61e+04\n",
       "num_bedrooms[T.4]  -1.201e+05   2.18e+04     -5.516      0.000   -1.63e+05   -7.74e+04\n",
       "num_bedrooms[T.5+] -1.094e+05   2.73e+04     -4.010      0.000   -1.63e+05   -5.59e+04\n",
       "bedrooms           -1.006e+04   5325.371     -1.889      0.059   -2.05e+04     376.804\n",
       "bathrooms           4.122e+04   3265.452     12.624      0.000    3.48e+04    4.76e+04\n",
       "sqft_living          178.4195      3.752     47.552      0.000     171.065     185.774\n",
       "sqft_lot               0.1287      0.048      2.706      0.007       0.035       0.222\n",
       "floors              9191.4571   3556.310      2.585      0.010    2220.826    1.62e+04\n",
       "waterfront          5.157e+05   2.03e+04     25.366      0.000    4.76e+05    5.56e+05\n",
       "condition           2.746e+04   2333.231     11.769      0.000    2.29e+04     3.2e+04\n",
       "grade               9.883e+04   2161.330     45.725      0.000    9.46e+04    1.03e+05\n",
       "sqft_basement        -30.4347      6.804     -4.473      0.000     -43.771     -17.098\n",
       "yr_built            1997.0857   1431.167      1.395      0.163    -808.109    4802.280\n",
       "zipcode             -594.2939     32.856    -18.088      0.000    -658.694    -529.894\n",
       "lat                 5.907e+05   1.07e+04     55.235      0.000     5.7e+05    6.12e+05\n",
       "long               -2.072e+05   1.31e+04    -15.801      0.000   -2.33e+05   -1.81e+05\n",
       "sqft_living15         23.4392      3.440      6.813      0.000      16.696      30.183\n",
       "sqft_lot15            -0.3890      0.073     -5.344      0.000      -0.532      -0.246\n",
       "been_renovated      3.907e+04   7175.831      5.445      0.000     2.5e+04    5.31e+04\n",
       "has_basement         -80.9071   5292.019     -0.015      0.988   -1.05e+04    1.03e+04\n",
       "age                 4608.6957   1453.615      3.171      0.002    1759.502    7457.889\n",
       "v_1                 1.107e+05   1.12e+04      9.847      0.000    8.87e+04    1.33e+05\n",
       "v_2                 7.012e+04   6835.508     10.259      0.000    5.67e+04    8.35e+04\n",
       "v_3                 1.445e+05   9376.890     15.408      0.000    1.26e+05    1.63e+05\n",
       "v_4                 3.105e+05   1.42e+04     21.931      0.000    2.83e+05    3.38e+05\n",
       "==============================================================================\n",
       "Omnibus:                    17921.137   Durbin-Watson:                   1.987\n",
       "Prob(Omnibus):                  0.000   Jarque-Bera (JB):          1750216.070\n",
       "Skew:                           3.450   Prob(JB):                         0.00\n",
       "Kurtosis:                      46.624   Cond. No.                     7.94e+19\n",
       "==============================================================================\n",
       "\n",
       "Notes:\n",
       "[1] Standard Errors assume that the covariance matrix of the errors is correctly specified.\n",
       "[2] The smallest eigenvalue is 3.46e-26. This might indicate that there are\n",
       "strong multicollinearity problems or that the design matrix is singular.\n",
       "\"\"\""
      ]
     },
     "execution_count": 93,
     "metadata": {},
     "output_type": "execute_result"
    }
   ],
   "source": [
    "modelview = ols(formula=f, data = dfview ).fit()\n",
    "modelview.summary()"
   ]
  },
  {
   "cell_type": "markdown",
   "metadata": {},
   "source": [
    "View as dummy values reduces our R2 so will leave as original"
   ]
  },
  {
   "cell_type": "markdown",
   "metadata": {},
   "source": [
    "## Model with Beds as a categorical"
   ]
  },
  {
   "cell_type": "code",
   "execution_count": 94,
   "metadata": {
    "ExecuteTime": {
     "end_time": "2021-01-13T22:32:57.169646Z",
     "start_time": "2021-01-13T22:32:57.165656Z"
    }
   },
   "outputs": [
    {
     "data": {
      "text/plain": [
       "array([ 3,  2,  4,  5,  1,  6,  7,  8,  9, 11, 10, 33], dtype=int64)"
      ]
     },
     "execution_count": 94,
     "metadata": {},
     "output_type": "execute_result"
    }
   ],
   "source": [
    "df.bedrooms.unique()"
   ]
  },
  {
   "cell_type": "code",
   "execution_count": 96,
   "metadata": {
    "ExecuteTime": {
     "end_time": "2021-01-13T22:33:04.290412Z",
     "start_time": "2021-01-13T22:33:04.285423Z"
    }
   },
   "outputs": [],
   "source": [
    "beds = pd.get_dummies(df['bedrooms'], prefix = 'beds',drop_first=True)"
   ]
  },
  {
   "cell_type": "code",
   "execution_count": 97,
   "metadata": {
    "ExecuteTime": {
     "end_time": "2021-01-13T22:33:04.917333Z",
     "start_time": "2021-01-13T22:33:04.910327Z"
    }
   },
   "outputs": [],
   "source": [
    "dfbeds = pd.concat([df, beds], axis = 1)"
   ]
  },
  {
   "cell_type": "code",
   "execution_count": 100,
   "metadata": {
    "ExecuteTime": {
     "end_time": "2021-01-13T22:33:46.257155Z",
     "start_time": "2021-01-13T22:33:46.253167Z"
    }
   },
   "outputs": [
    {
     "data": {
      "text/plain": [
       "Index(['id', 'date', 'price', 'bedrooms', 'bathrooms', 'sqft_living',\n",
       "       'sqft_lot', 'floors', 'waterfront', 'view', 'condition', 'grade',\n",
       "       'sqft_basement', 'yr_built', 'yr_renovated', 'zipcode', 'lat', 'long',\n",
       "       'sqft_living15', 'sqft_lot15', 'month', 'been_renovated',\n",
       "       'num_bedrooms', 'has_basement', 'age', 'beds_2', 'beds_3', 'beds_4',\n",
       "       'beds_5', 'beds_6', 'beds_7', 'beds_8', 'beds_9', 'beds_10', 'beds_11',\n",
       "       'beds_33'],\n",
       "      dtype='object')"
      ]
     },
     "execution_count": 100,
     "metadata": {},
     "output_type": "execute_result"
    }
   ],
   "source": [
    "dfbeds.columns"
   ]
  },
  {
   "cell_type": "code",
   "execution_count": 101,
   "metadata": {
    "ExecuteTime": {
     "end_time": "2021-01-13T22:34:03.148605Z",
     "start_time": "2021-01-13T22:34:03.141656Z"
    }
   },
   "outputs": [],
   "source": [
    "outcome = 'price'\n",
    "x_cols = dfbeds.drop(['price', 'id', 'date','month','bedrooms','yr_renovated','num_bedrooms'], axis = 1).columns\n",
    "\n",
    "predictors = '+'.join(x_cols)\n",
    "\n",
    "f = outcome + '~' + predictors"
   ]
  },
  {
   "cell_type": "code",
   "execution_count": 102,
   "metadata": {
    "ExecuteTime": {
     "end_time": "2021-01-13T22:34:03.952273Z",
     "start_time": "2021-01-13T22:34:03.855641Z"
    }
   },
   "outputs": [
    {
     "data": {
      "text/html": [
       "<table class=\"simpletable\">\n",
       "<caption>OLS Regression Results</caption>\n",
       "<tr>\n",
       "  <th>Dep. Variable:</th>          <td>price</td>      <th>  R-squared:         </th>  <td>   0.702</td>  \n",
       "</tr>\n",
       "<tr>\n",
       "  <th>Model:</th>                   <td>OLS</td>       <th>  Adj. R-squared:    </th>  <td>   0.702</td>  \n",
       "</tr>\n",
       "<tr>\n",
       "  <th>Method:</th>             <td>Least Squares</td>  <th>  F-statistic:       </th>  <td>   1810.</td>  \n",
       "</tr>\n",
       "<tr>\n",
       "  <th>Date:</th>             <td>Wed, 13 Jan 2021</td> <th>  Prob (F-statistic):</th>   <td>  0.00</td>   \n",
       "</tr>\n",
       "<tr>\n",
       "  <th>Time:</th>                 <td>17:34:03</td>     <th>  Log-Likelihood:    </th> <td>-2.9338e+05</td>\n",
       "</tr>\n",
       "<tr>\n",
       "  <th>No. Observations:</th>      <td> 21534</td>      <th>  AIC:               </th>  <td>5.868e+05</td> \n",
       "</tr>\n",
       "<tr>\n",
       "  <th>Df Residuals:</th>          <td> 21505</td>      <th>  BIC:               </th>  <td>5.871e+05</td> \n",
       "</tr>\n",
       "<tr>\n",
       "  <th>Df Model:</th>              <td>    28</td>      <th>                     </th>      <td> </td>     \n",
       "</tr>\n",
       "<tr>\n",
       "  <th>Covariance Type:</th>      <td>nonrobust</td>    <th>                     </th>      <td> </td>     \n",
       "</tr>\n",
       "</table>\n",
       "<table class=\"simpletable\">\n",
       "<tr>\n",
       "         <td></td>           <th>coef</th>     <th>std err</th>      <th>t</th>      <th>P>|t|</th>  <th>[0.025</th>    <th>0.975]</th>  \n",
       "</tr>\n",
       "<tr>\n",
       "  <th>Intercept</th>      <td>    3.0965</td> <td>    1.430</td> <td>    2.166</td> <td> 0.030</td> <td>    0.294</td> <td>    5.899</td>\n",
       "</tr>\n",
       "<tr>\n",
       "  <th>bathrooms</th>      <td> 4.186e+04</td> <td> 3282.972</td> <td>   12.751</td> <td> 0.000</td> <td> 3.54e+04</td> <td> 4.83e+04</td>\n",
       "</tr>\n",
       "<tr>\n",
       "  <th>sqft_living</th>    <td>  179.5444</td> <td>    3.766</td> <td>   47.674</td> <td> 0.000</td> <td>  172.163</td> <td>  186.926</td>\n",
       "</tr>\n",
       "<tr>\n",
       "  <th>sqft_lot</th>       <td>    0.1198</td> <td>    0.048</td> <td>    2.514</td> <td> 0.012</td> <td>    0.026</td> <td>    0.213</td>\n",
       "</tr>\n",
       "<tr>\n",
       "  <th>floors</th>         <td> 8696.1787</td> <td> 3564.102</td> <td>    2.440</td> <td> 0.015</td> <td> 1710.273</td> <td> 1.57e+04</td>\n",
       "</tr>\n",
       "<tr>\n",
       "  <th>waterfront</th>     <td> 5.924e+05</td> <td> 1.81e+04</td> <td>   32.735</td> <td> 0.000</td> <td> 5.57e+05</td> <td> 6.28e+05</td>\n",
       "</tr>\n",
       "<tr>\n",
       "  <th>view</th>           <td> 5.371e+04</td> <td> 2115.461</td> <td>   25.388</td> <td> 0.000</td> <td> 4.96e+04</td> <td> 5.79e+04</td>\n",
       "</tr>\n",
       "<tr>\n",
       "  <th>condition</th>      <td> 2.746e+04</td> <td> 2339.354</td> <td>   11.739</td> <td> 0.000</td> <td> 2.29e+04</td> <td>  3.2e+04</td>\n",
       "</tr>\n",
       "<tr>\n",
       "  <th>grade</th>          <td> 9.837e+04</td> <td> 2167.935</td> <td>   45.375</td> <td> 0.000</td> <td> 9.41e+04</td> <td> 1.03e+05</td>\n",
       "</tr>\n",
       "<tr>\n",
       "  <th>sqft_basement</th>  <td>  -28.8111</td> <td>    6.816</td> <td>   -4.227</td> <td> 0.000</td> <td>  -42.171</td> <td>  -15.451</td>\n",
       "</tr>\n",
       "<tr>\n",
       "  <th>yr_built</th>       <td> 1823.2282</td> <td> 1433.350</td> <td>    1.272</td> <td> 0.203</td> <td> -986.244</td> <td> 4632.701</td>\n",
       "</tr>\n",
       "<tr>\n",
       "  <th>zipcode</th>        <td> -596.7209</td> <td>   32.924</td> <td>  -18.124</td> <td> 0.000</td> <td> -661.254</td> <td> -532.188</td>\n",
       "</tr>\n",
       "<tr>\n",
       "  <th>lat</th>            <td>  5.93e+05</td> <td> 1.07e+04</td> <td>   55.359</td> <td> 0.000</td> <td> 5.72e+05</td> <td> 6.14e+05</td>\n",
       "</tr>\n",
       "<tr>\n",
       "  <th>long</th>           <td> -2.11e+05</td> <td> 1.31e+04</td> <td>  -16.078</td> <td> 0.000</td> <td>-2.37e+05</td> <td>-1.85e+05</td>\n",
       "</tr>\n",
       "<tr>\n",
       "  <th>sqft_living15</th>  <td>   23.2979</td> <td>    3.446</td> <td>    6.760</td> <td> 0.000</td> <td>   16.543</td> <td>   30.053</td>\n",
       "</tr>\n",
       "<tr>\n",
       "  <th>sqft_lot15</th>     <td>   -0.3930</td> <td>    0.073</td> <td>   -5.387</td> <td> 0.000</td> <td>   -0.536</td> <td>   -0.250</td>\n",
       "</tr>\n",
       "<tr>\n",
       "  <th>been_renovated</th> <td> 4.054e+04</td> <td> 7193.082</td> <td>    5.636</td> <td> 0.000</td> <td> 2.64e+04</td> <td> 5.46e+04</td>\n",
       "</tr>\n",
       "<tr>\n",
       "  <th>has_basement</th>   <td>-1603.1438</td> <td> 5301.450</td> <td>   -0.302</td> <td> 0.762</td> <td> -1.2e+04</td> <td> 8788.092</td>\n",
       "</tr>\n",
       "<tr>\n",
       "  <th>age</th>            <td> 4431.6935</td> <td> 1455.886</td> <td>    3.044</td> <td> 0.002</td> <td> 1578.048</td> <td> 7285.339</td>\n",
       "</tr>\n",
       "<tr>\n",
       "  <th>beds_2</th>         <td> -4.03e+04</td> <td> 1.49e+04</td> <td>   -2.713</td> <td> 0.007</td> <td>-6.94e+04</td> <td>-1.12e+04</td>\n",
       "</tr>\n",
       "<tr>\n",
       "  <th>beds_3</th>         <td> -1.03e+05</td> <td> 1.47e+04</td> <td>   -7.031</td> <td> 0.000</td> <td>-1.32e+05</td> <td>-7.43e+04</td>\n",
       "</tr>\n",
       "<tr>\n",
       "  <th>beds_4</th>         <td>-1.523e+05</td> <td>  1.5e+04</td> <td>  -10.185</td> <td> 0.000</td> <td>-1.82e+05</td> <td>-1.23e+05</td>\n",
       "</tr>\n",
       "<tr>\n",
       "  <th>beds_5</th>         <td>-1.465e+05</td> <td> 1.58e+04</td> <td>   -9.253</td> <td> 0.000</td> <td>-1.78e+05</td> <td>-1.15e+05</td>\n",
       "</tr>\n",
       "<tr>\n",
       "  <th>beds_6</th>         <td>-1.911e+05</td> <td> 1.95e+04</td> <td>   -9.780</td> <td> 0.000</td> <td>-2.29e+05</td> <td>-1.53e+05</td>\n",
       "</tr>\n",
       "<tr>\n",
       "  <th>beds_7</th>         <td> -2.47e+05</td> <td> 3.62e+04</td> <td>   -6.823</td> <td> 0.000</td> <td>-3.18e+05</td> <td>-1.76e+05</td>\n",
       "</tr>\n",
       "<tr>\n",
       "  <th>beds_8</th>         <td>-3.082e+04</td> <td> 5.78e+04</td> <td>   -0.534</td> <td> 0.594</td> <td>-1.44e+05</td> <td> 8.24e+04</td>\n",
       "</tr>\n",
       "<tr>\n",
       "  <th>beds_9</th>         <td> -3.08e+05</td> <td> 8.34e+04</td> <td>   -3.692</td> <td> 0.000</td> <td>-4.72e+05</td> <td>-1.44e+05</td>\n",
       "</tr>\n",
       "<tr>\n",
       "  <th>beds_10</th>        <td>-2.634e+05</td> <td> 1.17e+05</td> <td>   -2.259</td> <td> 0.024</td> <td>-4.92e+05</td> <td>-3.49e+04</td>\n",
       "</tr>\n",
       "<tr>\n",
       "  <th>beds_11</th>        <td>-4.166e+05</td> <td> 2.01e+05</td> <td>   -2.076</td> <td> 0.038</td> <td> -8.1e+05</td> <td>-2.32e+04</td>\n",
       "</tr>\n",
       "<tr>\n",
       "  <th>beds_33</th>        <td> 1581.7857</td> <td> 2.01e+05</td> <td>    0.008</td> <td> 0.994</td> <td>-3.91e+05</td> <td> 3.95e+05</td>\n",
       "</tr>\n",
       "</table>\n",
       "<table class=\"simpletable\">\n",
       "<tr>\n",
       "  <th>Omnibus:</th>       <td>17978.796</td> <th>  Durbin-Watson:     </th>  <td>   1.988</td>  \n",
       "</tr>\n",
       "<tr>\n",
       "  <th>Prob(Omnibus):</th>  <td> 0.000</td>   <th>  Jarque-Bera (JB):  </th> <td>1749026.683</td>\n",
       "</tr>\n",
       "<tr>\n",
       "  <th>Skew:</th>           <td> 3.470</td>   <th>  Prob(JB):          </th>  <td>    0.00</td>  \n",
       "</tr>\n",
       "<tr>\n",
       "  <th>Kurtosis:</th>       <td>46.602</td>   <th>  Cond. No.          </th>  <td>7.94e+19</td>  \n",
       "</tr>\n",
       "</table><br/><br/>Notes:<br/>[1] Standard Errors assume that the covariance matrix of the errors is correctly specified.<br/>[2] The smallest eigenvalue is 3.46e-26. This might indicate that there are<br/>strong multicollinearity problems or that the design matrix is singular."
      ],
      "text/plain": [
       "<class 'statsmodels.iolib.summary.Summary'>\n",
       "\"\"\"\n",
       "                            OLS Regression Results                            \n",
       "==============================================================================\n",
       "Dep. Variable:                  price   R-squared:                       0.702\n",
       "Model:                            OLS   Adj. R-squared:                  0.702\n",
       "Method:                 Least Squares   F-statistic:                     1810.\n",
       "Date:                Wed, 13 Jan 2021   Prob (F-statistic):               0.00\n",
       "Time:                        17:34:03   Log-Likelihood:            -2.9338e+05\n",
       "No. Observations:               21534   AIC:                         5.868e+05\n",
       "Df Residuals:                   21505   BIC:                         5.871e+05\n",
       "Df Model:                          28                                         \n",
       "Covariance Type:            nonrobust                                         \n",
       "==================================================================================\n",
       "                     coef    std err          t      P>|t|      [0.025      0.975]\n",
       "----------------------------------------------------------------------------------\n",
       "Intercept          3.0965      1.430      2.166      0.030       0.294       5.899\n",
       "bathrooms       4.186e+04   3282.972     12.751      0.000    3.54e+04    4.83e+04\n",
       "sqft_living      179.5444      3.766     47.674      0.000     172.163     186.926\n",
       "sqft_lot           0.1198      0.048      2.514      0.012       0.026       0.213\n",
       "floors          8696.1787   3564.102      2.440      0.015    1710.273    1.57e+04\n",
       "waterfront      5.924e+05   1.81e+04     32.735      0.000    5.57e+05    6.28e+05\n",
       "view            5.371e+04   2115.461     25.388      0.000    4.96e+04    5.79e+04\n",
       "condition       2.746e+04   2339.354     11.739      0.000    2.29e+04     3.2e+04\n",
       "grade           9.837e+04   2167.935     45.375      0.000    9.41e+04    1.03e+05\n",
       "sqft_basement    -28.8111      6.816     -4.227      0.000     -42.171     -15.451\n",
       "yr_built        1823.2282   1433.350      1.272      0.203    -986.244    4632.701\n",
       "zipcode         -596.7209     32.924    -18.124      0.000    -661.254    -532.188\n",
       "lat              5.93e+05   1.07e+04     55.359      0.000    5.72e+05    6.14e+05\n",
       "long            -2.11e+05   1.31e+04    -16.078      0.000   -2.37e+05   -1.85e+05\n",
       "sqft_living15     23.2979      3.446      6.760      0.000      16.543      30.053\n",
       "sqft_lot15        -0.3930      0.073     -5.387      0.000      -0.536      -0.250\n",
       "been_renovated  4.054e+04   7193.082      5.636      0.000    2.64e+04    5.46e+04\n",
       "has_basement   -1603.1438   5301.450     -0.302      0.762    -1.2e+04    8788.092\n",
       "age             4431.6935   1455.886      3.044      0.002    1578.048    7285.339\n",
       "beds_2          -4.03e+04   1.49e+04     -2.713      0.007   -6.94e+04   -1.12e+04\n",
       "beds_3          -1.03e+05   1.47e+04     -7.031      0.000   -1.32e+05   -7.43e+04\n",
       "beds_4         -1.523e+05    1.5e+04    -10.185      0.000   -1.82e+05   -1.23e+05\n",
       "beds_5         -1.465e+05   1.58e+04     -9.253      0.000   -1.78e+05   -1.15e+05\n",
       "beds_6         -1.911e+05   1.95e+04     -9.780      0.000   -2.29e+05   -1.53e+05\n",
       "beds_7          -2.47e+05   3.62e+04     -6.823      0.000   -3.18e+05   -1.76e+05\n",
       "beds_8         -3.082e+04   5.78e+04     -0.534      0.594   -1.44e+05    8.24e+04\n",
       "beds_9          -3.08e+05   8.34e+04     -3.692      0.000   -4.72e+05   -1.44e+05\n",
       "beds_10        -2.634e+05   1.17e+05     -2.259      0.024   -4.92e+05   -3.49e+04\n",
       "beds_11        -4.166e+05   2.01e+05     -2.076      0.038    -8.1e+05   -2.32e+04\n",
       "beds_33         1581.7857   2.01e+05      0.008      0.994   -3.91e+05    3.95e+05\n",
       "==============================================================================\n",
       "Omnibus:                    17978.796   Durbin-Watson:                   1.988\n",
       "Prob(Omnibus):                  0.000   Jarque-Bera (JB):          1749026.683\n",
       "Skew:                           3.470   Prob(JB):                         0.00\n",
       "Kurtosis:                      46.602   Cond. No.                     7.94e+19\n",
       "==============================================================================\n",
       "\n",
       "Notes:\n",
       "[1] Standard Errors assume that the covariance matrix of the errors is correctly specified.\n",
       "[2] The smallest eigenvalue is 3.46e-26. This might indicate that there are\n",
       "strong multicollinearity problems or that the design matrix is singular.\n",
       "\"\"\""
      ]
     },
     "execution_count": 102,
     "metadata": {},
     "output_type": "execute_result"
    }
   ],
   "source": [
    "modelbeds = ols(formula=f, data= dfbeds).fit()\n",
    "modelbeds.summary()"
   ]
  },
  {
   "cell_type": "code",
   "execution_count": 72,
   "metadata": {
    "ExecuteTime": {
     "end_time": "2021-01-11T19:26:55.863612Z",
     "start_time": "2021-01-11T19:26:55.859623Z"
    }
   },
   "outputs": [],
   "source": [
    "#does imporve R2 slightly but I think grouping would be more productive and easier to understand"
   ]
  },
  {
   "cell_type": "markdown",
   "metadata": {},
   "source": [
    "## Zipcode dummies model"
   ]
  },
  {
   "cell_type": "code",
   "execution_count": 103,
   "metadata": {
    "ExecuteTime": {
     "end_time": "2021-01-13T22:34:28.153456Z",
     "start_time": "2021-01-13T22:34:28.142479Z"
    }
   },
   "outputs": [],
   "source": [
    "zipcode = pd.get_dummies(df['zipcode'], prefix = 'zip',drop_first=True)\n",
    "dfzip = pd.concat([df, zipcode], axis = 1)"
   ]
  },
  {
   "cell_type": "code",
   "execution_count": 114,
   "metadata": {
    "ExecuteTime": {
     "end_time": "2021-01-13T22:36:14.014239Z",
     "start_time": "2021-01-13T22:36:14.006233Z"
    }
   },
   "outputs": [],
   "source": [
    "outcome = 'price'\n",
    "x_cols = dfzip.drop(['price', 'id', 'date','month','zipcode','yr_renovated',\n",
    "                     'sqft_lot15','bedrooms','has_basement','sqft_living15','lat','long'], axis = 1).columns\n",
    "\n",
    "predictors = '+'.join(x_cols)\n",
    "\n",
    "f = outcome + '~' + predictors"
   ]
  },
  {
   "cell_type": "code",
   "execution_count": 115,
   "metadata": {
    "ExecuteTime": {
     "end_time": "2021-01-13T22:36:15.386521Z",
     "start_time": "2021-01-13T22:36:14.890869Z"
    }
   },
   "outputs": [
    {
     "data": {
      "text/html": [
       "<table class=\"simpletable\">\n",
       "<caption>OLS Regression Results</caption>\n",
       "<tr>\n",
       "  <th>Dep. Variable:</th>          <td>price</td>      <th>  R-squared:         </th>  <td>   0.808</td>  \n",
       "</tr>\n",
       "<tr>\n",
       "  <th>Model:</th>                   <td>OLS</td>       <th>  Adj. R-squared:    </th>  <td>   0.807</td>  \n",
       "</tr>\n",
       "<tr>\n",
       "  <th>Method:</th>             <td>Least Squares</td>  <th>  F-statistic:       </th>  <td>   1072.</td>  \n",
       "</tr>\n",
       "<tr>\n",
       "  <th>Date:</th>             <td>Wed, 13 Jan 2021</td> <th>  Prob (F-statistic):</th>   <td>  0.00</td>   \n",
       "</tr>\n",
       "<tr>\n",
       "  <th>Time:</th>                 <td>17:36:15</td>     <th>  Log-Likelihood:    </th> <td>-2.8867e+05</td>\n",
       "</tr>\n",
       "<tr>\n",
       "  <th>No. Observations:</th>      <td> 21534</td>      <th>  AIC:               </th>  <td>5.775e+05</td> \n",
       "</tr>\n",
       "<tr>\n",
       "  <th>Df Residuals:</th>          <td> 21449</td>      <th>  BIC:               </th>  <td>5.782e+05</td> \n",
       "</tr>\n",
       "<tr>\n",
       "  <th>Df Model:</th>              <td>    84</td>      <th>                     </th>      <td> </td>     \n",
       "</tr>\n",
       "<tr>\n",
       "  <th>Covariance Type:</th>      <td>nonrobust</td>    <th>                     </th>      <td> </td>     \n",
       "</tr>\n",
       "</table>\n",
       "<table class=\"simpletable\">\n",
       "<tr>\n",
       "           <td></td>             <th>coef</th>     <th>std err</th>      <th>t</th>      <th>P>|t|</th>  <th>[0.025</th>    <th>0.975]</th>  \n",
       "</tr>\n",
       "<tr>\n",
       "  <th>Intercept</th>          <td>    0.1008</td> <td>    0.030</td> <td>    3.362</td> <td> 0.001</td> <td>    0.042</td> <td>    0.160</td>\n",
       "</tr>\n",
       "<tr>\n",
       "  <th>num_bedrooms[T.2]</th>  <td>-4.176e+04</td> <td>  1.2e+04</td> <td>   -3.491</td> <td> 0.000</td> <td>-6.52e+04</td> <td>-1.83e+04</td>\n",
       "</tr>\n",
       "<tr>\n",
       "  <th>num_bedrooms[T.3]</th>  <td> -7.29e+04</td> <td> 1.18e+04</td> <td>   -6.171</td> <td> 0.000</td> <td>-9.61e+04</td> <td>-4.97e+04</td>\n",
       "</tr>\n",
       "<tr>\n",
       "  <th>num_bedrooms[T.4]</th>  <td>-1.082e+05</td> <td> 1.21e+04</td> <td>   -8.965</td> <td> 0.000</td> <td>-1.32e+05</td> <td>-8.46e+04</td>\n",
       "</tr>\n",
       "<tr>\n",
       "  <th>num_bedrooms[T.5+]</th> <td>-1.257e+05</td> <td> 1.27e+04</td> <td>   -9.890</td> <td> 0.000</td> <td>-1.51e+05</td> <td>-1.01e+05</td>\n",
       "</tr>\n",
       "<tr>\n",
       "  <th>bathrooms</th>          <td> 2.221e+04</td> <td> 2631.397</td> <td>    8.441</td> <td> 0.000</td> <td> 1.71e+04</td> <td> 2.74e+04</td>\n",
       "</tr>\n",
       "<tr>\n",
       "  <th>sqft_living</th>        <td>  208.9547</td> <td>    2.832</td> <td>   73.792</td> <td> 0.000</td> <td>  203.404</td> <td>  214.505</td>\n",
       "</tr>\n",
       "<tr>\n",
       "  <th>sqft_lot</th>           <td>    0.1741</td> <td>    0.029</td> <td>    5.955</td> <td> 0.000</td> <td>    0.117</td> <td>    0.231</td>\n",
       "</tr>\n",
       "<tr>\n",
       "  <th>floors</th>             <td>-4.125e+04</td> <td> 3137.219</td> <td>  -13.150</td> <td> 0.000</td> <td>-4.74e+04</td> <td>-3.51e+04</td>\n",
       "</tr>\n",
       "<tr>\n",
       "  <th>waterfront</th>         <td> 6.616e+05</td> <td> 1.48e+04</td> <td>   44.801</td> <td> 0.000</td> <td> 6.33e+05</td> <td> 6.91e+05</td>\n",
       "</tr>\n",
       "<tr>\n",
       "  <th>view</th>               <td> 5.839e+04</td> <td> 1717.640</td> <td>   33.993</td> <td> 0.000</td> <td>  5.5e+04</td> <td> 6.18e+04</td>\n",
       "</tr>\n",
       "<tr>\n",
       "  <th>condition</th>          <td>  2.44e+04</td> <td> 1921.216</td> <td>   12.700</td> <td> 0.000</td> <td> 2.06e+04</td> <td> 2.82e+04</td>\n",
       "</tr>\n",
       "<tr>\n",
       "  <th>grade</th>              <td> 6.156e+04</td> <td> 1775.830</td> <td>   34.668</td> <td> 0.000</td> <td> 5.81e+04</td> <td>  6.5e+04</td>\n",
       "</tr>\n",
       "<tr>\n",
       "  <th>sqft_basement</th>      <td>  -75.3862</td> <td>    3.583</td> <td>  -21.042</td> <td> 0.000</td> <td>  -82.408</td> <td>  -68.364</td>\n",
       "</tr>\n",
       "<tr>\n",
       "  <th>yr_built</th>           <td> -283.2465</td> <td>    9.517</td> <td>  -29.761</td> <td> 0.000</td> <td> -301.901</td> <td> -264.592</td>\n",
       "</tr>\n",
       "<tr>\n",
       "  <th>been_renovated</th>     <td> 3.102e+04</td> <td> 5813.754</td> <td>    5.335</td> <td> 0.000</td> <td> 1.96e+04</td> <td> 4.24e+04</td>\n",
       "</tr>\n",
       "<tr>\n",
       "  <th>age</th>                <td>  486.9223</td> <td>   61.568</td> <td>    7.909</td> <td> 0.000</td> <td>  366.244</td> <td>  607.600</td>\n",
       "</tr>\n",
       "<tr>\n",
       "  <th>zip_98002</th>          <td> 2.384e+04</td> <td> 1.43e+04</td> <td>    1.673</td> <td> 0.094</td> <td>-4090.765</td> <td> 5.18e+04</td>\n",
       "</tr>\n",
       "<tr>\n",
       "  <th>zip_98003</th>          <td>-1.898e+04</td> <td> 1.28e+04</td> <td>   -1.478</td> <td> 0.140</td> <td>-4.42e+04</td> <td> 6196.205</td>\n",
       "</tr>\n",
       "<tr>\n",
       "  <th>zip_98004</th>          <td> 7.765e+05</td> <td> 1.26e+04</td> <td>   61.685</td> <td> 0.000</td> <td> 7.52e+05</td> <td> 8.01e+05</td>\n",
       "</tr>\n",
       "<tr>\n",
       "  <th>zip_98005</th>          <td> 3.002e+05</td> <td> 1.52e+04</td> <td>   19.783</td> <td> 0.000</td> <td>  2.7e+05</td> <td>  3.3e+05</td>\n",
       "</tr>\n",
       "<tr>\n",
       "  <th>zip_98006</th>          <td> 2.649e+05</td> <td> 1.13e+04</td> <td>   23.360</td> <td> 0.000</td> <td> 2.43e+05</td> <td> 2.87e+05</td>\n",
       "</tr>\n",
       "<tr>\n",
       "  <th>zip_98007</th>          <td> 2.391e+05</td> <td> 1.61e+04</td> <td>   14.893</td> <td> 0.000</td> <td> 2.08e+05</td> <td> 2.71e+05</td>\n",
       "</tr>\n",
       "<tr>\n",
       "  <th>zip_98008</th>          <td> 2.472e+05</td> <td> 1.29e+04</td> <td>   19.219</td> <td> 0.000</td> <td> 2.22e+05</td> <td> 2.72e+05</td>\n",
       "</tr>\n",
       "<tr>\n",
       "  <th>zip_98010</th>          <td> 6.605e+04</td> <td> 1.82e+04</td> <td>    3.620</td> <td> 0.000</td> <td> 3.03e+04</td> <td> 1.02e+05</td>\n",
       "</tr>\n",
       "<tr>\n",
       "  <th>zip_98011</th>          <td> 1.222e+05</td> <td> 1.44e+04</td> <td>    8.509</td> <td> 0.000</td> <td>  9.4e+04</td> <td>  1.5e+05</td>\n",
       "</tr>\n",
       "<tr>\n",
       "  <th>zip_98014</th>          <td> 9.411e+04</td> <td> 1.69e+04</td> <td>    5.553</td> <td> 0.000</td> <td> 6.09e+04</td> <td> 1.27e+05</td>\n",
       "</tr>\n",
       "<tr>\n",
       "  <th>zip_98019</th>          <td> 8.995e+04</td> <td> 1.45e+04</td> <td>    6.214</td> <td> 0.000</td> <td> 6.16e+04</td> <td> 1.18e+05</td>\n",
       "</tr>\n",
       "<tr>\n",
       "  <th>zip_98022</th>          <td>-1.907e+04</td> <td> 1.37e+04</td> <td>   -1.391</td> <td> 0.164</td> <td> -4.6e+04</td> <td> 7807.228</td>\n",
       "</tr>\n",
       "<tr>\n",
       "  <th>zip_98023</th>          <td>-3.424e+04</td> <td> 1.12e+04</td> <td>   -3.066</td> <td> 0.002</td> <td>-5.61e+04</td> <td>-1.24e+04</td>\n",
       "</tr>\n",
       "<tr>\n",
       "  <th>zip_98024</th>          <td> 1.506e+05</td> <td> 2.02e+04</td> <td>    7.467</td> <td> 0.000</td> <td> 1.11e+05</td> <td>  1.9e+05</td>\n",
       "</tr>\n",
       "<tr>\n",
       "  <th>zip_98027</th>          <td> 1.649e+05</td> <td> 1.17e+04</td> <td>   14.081</td> <td> 0.000</td> <td> 1.42e+05</td> <td> 1.88e+05</td>\n",
       "</tr>\n",
       "<tr>\n",
       "  <th>zip_98028</th>          <td> 1.189e+05</td> <td> 1.28e+04</td> <td>    9.276</td> <td> 0.000</td> <td> 9.38e+04</td> <td> 1.44e+05</td>\n",
       "</tr>\n",
       "<tr>\n",
       "  <th>zip_98029</th>          <td>  2.09e+05</td> <td> 1.25e+04</td> <td>   16.774</td> <td> 0.000</td> <td> 1.85e+05</td> <td> 2.33e+05</td>\n",
       "</tr>\n",
       "<tr>\n",
       "  <th>zip_98030</th>          <td> 5284.8345</td> <td> 1.32e+04</td> <td>    0.402</td> <td> 0.688</td> <td>-2.05e+04</td> <td> 3.11e+04</td>\n",
       "</tr>\n",
       "<tr>\n",
       "  <th>zip_98031</th>          <td>   1.4e+04</td> <td> 1.29e+04</td> <td>    1.083</td> <td> 0.279</td> <td>-1.13e+04</td> <td> 3.93e+04</td>\n",
       "</tr>\n",
       "<tr>\n",
       "  <th>zip_98032</th>          <td> 2168.9369</td> <td> 1.68e+04</td> <td>    0.129</td> <td> 0.897</td> <td>-3.07e+04</td> <td> 3.51e+04</td>\n",
       "</tr>\n",
       "<tr>\n",
       "  <th>zip_98033</th>          <td> 3.627e+05</td> <td> 1.15e+04</td> <td>   31.426</td> <td> 0.000</td> <td>  3.4e+05</td> <td> 3.85e+05</td>\n",
       "</tr>\n",
       "<tr>\n",
       "  <th>zip_98034</th>          <td> 2.002e+05</td> <td>  1.1e+04</td> <td>   18.269</td> <td> 0.000</td> <td> 1.79e+05</td> <td> 2.22e+05</td>\n",
       "</tr>\n",
       "<tr>\n",
       "  <th>zip_98038</th>          <td> 3.285e+04</td> <td> 1.08e+04</td> <td>    3.035</td> <td> 0.002</td> <td> 1.16e+04</td> <td> 5.41e+04</td>\n",
       "</tr>\n",
       "<tr>\n",
       "  <th>zip_98039</th>          <td> 1.317e+06</td> <td> 2.45e+04</td> <td>   53.711</td> <td> 0.000</td> <td> 1.27e+06</td> <td> 1.37e+06</td>\n",
       "</tr>\n",
       "<tr>\n",
       "  <th>zip_98040</th>          <td> 5.039e+05</td> <td> 1.31e+04</td> <td>   38.499</td> <td> 0.000</td> <td> 4.78e+05</td> <td>  5.3e+05</td>\n",
       "</tr>\n",
       "<tr>\n",
       "  <th>zip_98042</th>          <td> 6375.4334</td> <td>  1.1e+04</td> <td>    0.582</td> <td> 0.560</td> <td>-1.51e+04</td> <td> 2.78e+04</td>\n",
       "</tr>\n",
       "<tr>\n",
       "  <th>zip_98045</th>          <td> 8.679e+04</td> <td> 1.38e+04</td> <td>    6.279</td> <td> 0.000</td> <td> 5.97e+04</td> <td> 1.14e+05</td>\n",
       "</tr>\n",
       "<tr>\n",
       "  <th>zip_98052</th>          <td> 2.259e+05</td> <td> 1.09e+04</td> <td>   20.753</td> <td> 0.000</td> <td> 2.05e+05</td> <td> 2.47e+05</td>\n",
       "</tr>\n",
       "<tr>\n",
       "  <th>zip_98053</th>          <td>   1.9e+05</td> <td> 1.18e+04</td> <td>   16.075</td> <td> 0.000</td> <td> 1.67e+05</td> <td> 2.13e+05</td>\n",
       "</tr>\n",
       "<tr>\n",
       "  <th>zip_98055</th>          <td>  4.37e+04</td> <td>  1.3e+04</td> <td>    3.359</td> <td> 0.001</td> <td> 1.82e+04</td> <td> 6.92e+04</td>\n",
       "</tr>\n",
       "<tr>\n",
       "  <th>zip_98056</th>          <td> 9.484e+04</td> <td> 1.17e+04</td> <td>    8.106</td> <td> 0.000</td> <td> 7.19e+04</td> <td> 1.18e+05</td>\n",
       "</tr>\n",
       "<tr>\n",
       "  <th>zip_98058</th>          <td> 2.692e+04</td> <td> 1.14e+04</td> <td>    2.367</td> <td> 0.018</td> <td> 4625.195</td> <td> 4.92e+04</td>\n",
       "</tr>\n",
       "<tr>\n",
       "  <th>zip_98059</th>          <td> 8.576e+04</td> <td> 1.13e+04</td> <td>    7.572</td> <td> 0.000</td> <td> 6.36e+04</td> <td> 1.08e+05</td>\n",
       "</tr>\n",
       "<tr>\n",
       "  <th>zip_98065</th>          <td> 8.548e+04</td> <td> 1.26e+04</td> <td>    6.794</td> <td> 0.000</td> <td> 6.08e+04</td> <td>  1.1e+05</td>\n",
       "</tr>\n",
       "<tr>\n",
       "  <th>zip_98070</th>          <td> -1.09e+04</td> <td> 1.75e+04</td> <td>   -0.623</td> <td> 0.533</td> <td>-4.52e+04</td> <td> 2.34e+04</td>\n",
       "</tr>\n",
       "<tr>\n",
       "  <th>zip_98072</th>          <td> 1.509e+05</td> <td>  1.3e+04</td> <td>   11.619</td> <td> 0.000</td> <td> 1.25e+05</td> <td> 1.76e+05</td>\n",
       "</tr>\n",
       "<tr>\n",
       "  <th>zip_98074</th>          <td> 1.702e+05</td> <td> 1.16e+04</td> <td>   14.728</td> <td> 0.000</td> <td> 1.48e+05</td> <td> 1.93e+05</td>\n",
       "</tr>\n",
       "<tr>\n",
       "  <th>zip_98075</th>          <td> 1.704e+05</td> <td> 1.22e+04</td> <td>   13.997</td> <td> 0.000</td> <td> 1.47e+05</td> <td> 1.94e+05</td>\n",
       "</tr>\n",
       "<tr>\n",
       "  <th>zip_98077</th>          <td> 1.177e+05</td> <td> 1.44e+04</td> <td>    8.174</td> <td> 0.000</td> <td> 8.95e+04</td> <td> 1.46e+05</td>\n",
       "</tr>\n",
       "<tr>\n",
       "  <th>zip_98092</th>          <td> -3.85e+04</td> <td> 1.21e+04</td> <td>   -3.177</td> <td> 0.001</td> <td>-6.23e+04</td> <td>-1.48e+04</td>\n",
       "</tr>\n",
       "<tr>\n",
       "  <th>zip_98102</th>          <td> 5.043e+05</td> <td> 1.83e+04</td> <td>   27.525</td> <td> 0.000</td> <td> 4.68e+05</td> <td>  5.4e+05</td>\n",
       "</tr>\n",
       "<tr>\n",
       "  <th>zip_98103</th>          <td>  3.32e+05</td> <td> 1.11e+04</td> <td>   29.817</td> <td> 0.000</td> <td>  3.1e+05</td> <td> 3.54e+05</td>\n",
       "</tr>\n",
       "<tr>\n",
       "  <th>zip_98105</th>          <td> 4.621e+05</td> <td>  1.4e+04</td> <td>   33.045</td> <td> 0.000</td> <td> 4.35e+05</td> <td> 4.89e+05</td>\n",
       "</tr>\n",
       "<tr>\n",
       "  <th>zip_98106</th>          <td> 1.438e+05</td> <td> 1.23e+04</td> <td>   11.673</td> <td> 0.000</td> <td>  1.2e+05</td> <td> 1.68e+05</td>\n",
       "</tr>\n",
       "<tr>\n",
       "  <th>zip_98107</th>          <td>  3.41e+05</td> <td> 1.33e+04</td> <td>   25.566</td> <td> 0.000</td> <td> 3.15e+05</td> <td> 3.67e+05</td>\n",
       "</tr>\n",
       "<tr>\n",
       "  <th>zip_98108</th>          <td> 1.242e+05</td> <td> 1.47e+04</td> <td>    8.479</td> <td> 0.000</td> <td> 9.55e+04</td> <td> 1.53e+05</td>\n",
       "</tr>\n",
       "<tr>\n",
       "  <th>zip_98109</th>          <td> 4.866e+05</td> <td> 1.79e+04</td> <td>   27.134</td> <td> 0.000</td> <td> 4.51e+05</td> <td> 5.22e+05</td>\n",
       "</tr>\n",
       "<tr>\n",
       "  <th>zip_98112</th>          <td>  6.15e+05</td> <td> 1.35e+04</td> <td>   45.525</td> <td> 0.000</td> <td> 5.89e+05</td> <td> 6.41e+05</td>\n",
       "</tr>\n",
       "<tr>\n",
       "  <th>zip_98115</th>          <td> 3.271e+05</td> <td> 1.11e+04</td> <td>   29.600</td> <td> 0.000</td> <td> 3.05e+05</td> <td> 3.49e+05</td>\n",
       "</tr>\n",
       "<tr>\n",
       "  <th>zip_98116</th>          <td> 2.841e+05</td> <td> 1.25e+04</td> <td>   22.655</td> <td> 0.000</td> <td>  2.6e+05</td> <td> 3.09e+05</td>\n",
       "</tr>\n",
       "<tr>\n",
       "  <th>zip_98117</th>          <td> 3.119e+05</td> <td> 1.12e+04</td> <td>   27.891</td> <td> 0.000</td> <td>  2.9e+05</td> <td> 3.34e+05</td>\n",
       "</tr>\n",
       "<tr>\n",
       "  <th>zip_98118</th>          <td> 1.692e+05</td> <td> 1.13e+04</td> <td>   14.981</td> <td> 0.000</td> <td> 1.47e+05</td> <td> 1.91e+05</td>\n",
       "</tr>\n",
       "<tr>\n",
       "  <th>zip_98119</th>          <td> 4.687e+05</td> <td>  1.5e+04</td> <td>   31.235</td> <td> 0.000</td> <td> 4.39e+05</td> <td> 4.98e+05</td>\n",
       "</tr>\n",
       "<tr>\n",
       "  <th>zip_98122</th>          <td> 3.315e+05</td> <td> 1.31e+04</td> <td>   25.274</td> <td> 0.000</td> <td> 3.06e+05</td> <td> 3.57e+05</td>\n",
       "</tr>\n",
       "<tr>\n",
       "  <th>zip_98125</th>          <td>  1.99e+05</td> <td> 1.17e+04</td> <td>   16.949</td> <td> 0.000</td> <td> 1.76e+05</td> <td> 2.22e+05</td>\n",
       "</tr>\n",
       "<tr>\n",
       "  <th>zip_98126</th>          <td> 1.876e+05</td> <td> 1.22e+04</td> <td>   15.331</td> <td> 0.000</td> <td> 1.64e+05</td> <td> 2.12e+05</td>\n",
       "</tr>\n",
       "<tr>\n",
       "  <th>zip_98133</th>          <td> 1.643e+05</td> <td> 1.12e+04</td> <td>   14.609</td> <td> 0.000</td> <td> 1.42e+05</td> <td> 1.86e+05</td>\n",
       "</tr>\n",
       "<tr>\n",
       "  <th>zip_98136</th>          <td>  2.41e+05</td> <td> 1.33e+04</td> <td>   18.125</td> <td> 0.000</td> <td> 2.15e+05</td> <td> 2.67e+05</td>\n",
       "</tr>\n",
       "<tr>\n",
       "  <th>zip_98144</th>          <td> 2.729e+05</td> <td> 1.24e+04</td> <td>   21.980</td> <td> 0.000</td> <td> 2.49e+05</td> <td> 2.97e+05</td>\n",
       "</tr>\n",
       "<tr>\n",
       "  <th>zip_98146</th>          <td> 1.101e+05</td> <td> 1.28e+04</td> <td>    8.589</td> <td> 0.000</td> <td>  8.5e+04</td> <td> 1.35e+05</td>\n",
       "</tr>\n",
       "<tr>\n",
       "  <th>zip_98148</th>          <td> 6.904e+04</td> <td>  2.3e+04</td> <td>    3.005</td> <td> 0.003</td> <td>  2.4e+04</td> <td> 1.14e+05</td>\n",
       "</tr>\n",
       "<tr>\n",
       "  <th>zip_98155</th>          <td> 1.458e+05</td> <td> 1.15e+04</td> <td>   12.716</td> <td> 0.000</td> <td> 1.23e+05</td> <td> 1.68e+05</td>\n",
       "</tr>\n",
       "<tr>\n",
       "  <th>zip_98166</th>          <td> 5.259e+04</td> <td> 1.33e+04</td> <td>    3.957</td> <td> 0.000</td> <td> 2.65e+04</td> <td> 7.86e+04</td>\n",
       "</tr>\n",
       "<tr>\n",
       "  <th>zip_98168</th>          <td> 7.613e+04</td> <td> 1.31e+04</td> <td>    5.815</td> <td> 0.000</td> <td> 5.05e+04</td> <td> 1.02e+05</td>\n",
       "</tr>\n",
       "<tr>\n",
       "  <th>zip_98177</th>          <td> 2.131e+05</td> <td> 1.33e+04</td> <td>   15.993</td> <td> 0.000</td> <td> 1.87e+05</td> <td> 2.39e+05</td>\n",
       "</tr>\n",
       "<tr>\n",
       "  <th>zip_98178</th>          <td> 3.669e+04</td> <td> 1.32e+04</td> <td>    2.785</td> <td> 0.005</td> <td> 1.09e+04</td> <td> 6.25e+04</td>\n",
       "</tr>\n",
       "<tr>\n",
       "  <th>zip_98188</th>          <td> 3.458e+04</td> <td> 1.62e+04</td> <td>    2.132</td> <td> 0.033</td> <td> 2782.078</td> <td> 6.64e+04</td>\n",
       "</tr>\n",
       "<tr>\n",
       "  <th>zip_98198</th>          <td>-1838.2929</td> <td> 1.29e+04</td> <td>   -0.143</td> <td> 0.887</td> <td>-2.71e+04</td> <td> 2.34e+04</td>\n",
       "</tr>\n",
       "<tr>\n",
       "  <th>zip_98199</th>          <td> 3.818e+05</td> <td> 1.27e+04</td> <td>   30.118</td> <td> 0.000</td> <td> 3.57e+05</td> <td> 4.07e+05</td>\n",
       "</tr>\n",
       "</table>\n",
       "<table class=\"simpletable\">\n",
       "<tr>\n",
       "  <th>Omnibus:</th>       <td>20390.321</td> <th>  Durbin-Watson:     </th>  <td>   1.991</td>  \n",
       "</tr>\n",
       "<tr>\n",
       "  <th>Prob(Omnibus):</th>  <td> 0.000</td>   <th>  Jarque-Bera (JB):  </th> <td>4011072.641</td>\n",
       "</tr>\n",
       "<tr>\n",
       "  <th>Skew:</th>           <td> 4.046</td>   <th>  Prob(JB):          </th>  <td>    0.00</td>  \n",
       "</tr>\n",
       "<tr>\n",
       "  <th>Kurtosis:</th>       <td>69.370</td>   <th>  Cond. No.          </th>  <td>3.85e+16</td>  \n",
       "</tr>\n",
       "</table><br/><br/>Notes:<br/>[1] Standard Errors assume that the covariance matrix of the errors is correctly specified.<br/>[2] The smallest eigenvalue is 2.82e-20. This might indicate that there are<br/>strong multicollinearity problems or that the design matrix is singular."
      ],
      "text/plain": [
       "<class 'statsmodels.iolib.summary.Summary'>\n",
       "\"\"\"\n",
       "                            OLS Regression Results                            \n",
       "==============================================================================\n",
       "Dep. Variable:                  price   R-squared:                       0.808\n",
       "Model:                            OLS   Adj. R-squared:                  0.807\n",
       "Method:                 Least Squares   F-statistic:                     1072.\n",
       "Date:                Wed, 13 Jan 2021   Prob (F-statistic):               0.00\n",
       "Time:                        17:36:15   Log-Likelihood:            -2.8867e+05\n",
       "No. Observations:               21534   AIC:                         5.775e+05\n",
       "Df Residuals:                   21449   BIC:                         5.782e+05\n",
       "Df Model:                          84                                         \n",
       "Covariance Type:            nonrobust                                         \n",
       "======================================================================================\n",
       "                         coef    std err          t      P>|t|      [0.025      0.975]\n",
       "--------------------------------------------------------------------------------------\n",
       "Intercept              0.1008      0.030      3.362      0.001       0.042       0.160\n",
       "num_bedrooms[T.2]  -4.176e+04    1.2e+04     -3.491      0.000   -6.52e+04   -1.83e+04\n",
       "num_bedrooms[T.3]   -7.29e+04   1.18e+04     -6.171      0.000   -9.61e+04   -4.97e+04\n",
       "num_bedrooms[T.4]  -1.082e+05   1.21e+04     -8.965      0.000   -1.32e+05   -8.46e+04\n",
       "num_bedrooms[T.5+] -1.257e+05   1.27e+04     -9.890      0.000   -1.51e+05   -1.01e+05\n",
       "bathrooms           2.221e+04   2631.397      8.441      0.000    1.71e+04    2.74e+04\n",
       "sqft_living          208.9547      2.832     73.792      0.000     203.404     214.505\n",
       "sqft_lot               0.1741      0.029      5.955      0.000       0.117       0.231\n",
       "floors             -4.125e+04   3137.219    -13.150      0.000   -4.74e+04   -3.51e+04\n",
       "waterfront          6.616e+05   1.48e+04     44.801      0.000    6.33e+05    6.91e+05\n",
       "view                5.839e+04   1717.640     33.993      0.000     5.5e+04    6.18e+04\n",
       "condition            2.44e+04   1921.216     12.700      0.000    2.06e+04    2.82e+04\n",
       "grade               6.156e+04   1775.830     34.668      0.000    5.81e+04     6.5e+04\n",
       "sqft_basement        -75.3862      3.583    -21.042      0.000     -82.408     -68.364\n",
       "yr_built            -283.2465      9.517    -29.761      0.000    -301.901    -264.592\n",
       "been_renovated      3.102e+04   5813.754      5.335      0.000    1.96e+04    4.24e+04\n",
       "age                  486.9223     61.568      7.909      0.000     366.244     607.600\n",
       "zip_98002           2.384e+04   1.43e+04      1.673      0.094   -4090.765    5.18e+04\n",
       "zip_98003          -1.898e+04   1.28e+04     -1.478      0.140   -4.42e+04    6196.205\n",
       "zip_98004           7.765e+05   1.26e+04     61.685      0.000    7.52e+05    8.01e+05\n",
       "zip_98005           3.002e+05   1.52e+04     19.783      0.000     2.7e+05     3.3e+05\n",
       "zip_98006           2.649e+05   1.13e+04     23.360      0.000    2.43e+05    2.87e+05\n",
       "zip_98007           2.391e+05   1.61e+04     14.893      0.000    2.08e+05    2.71e+05\n",
       "zip_98008           2.472e+05   1.29e+04     19.219      0.000    2.22e+05    2.72e+05\n",
       "zip_98010           6.605e+04   1.82e+04      3.620      0.000    3.03e+04    1.02e+05\n",
       "zip_98011           1.222e+05   1.44e+04      8.509      0.000     9.4e+04     1.5e+05\n",
       "zip_98014           9.411e+04   1.69e+04      5.553      0.000    6.09e+04    1.27e+05\n",
       "zip_98019           8.995e+04   1.45e+04      6.214      0.000    6.16e+04    1.18e+05\n",
       "zip_98022          -1.907e+04   1.37e+04     -1.391      0.164    -4.6e+04    7807.228\n",
       "zip_98023          -3.424e+04   1.12e+04     -3.066      0.002   -5.61e+04   -1.24e+04\n",
       "zip_98024           1.506e+05   2.02e+04      7.467      0.000    1.11e+05     1.9e+05\n",
       "zip_98027           1.649e+05   1.17e+04     14.081      0.000    1.42e+05    1.88e+05\n",
       "zip_98028           1.189e+05   1.28e+04      9.276      0.000    9.38e+04    1.44e+05\n",
       "zip_98029            2.09e+05   1.25e+04     16.774      0.000    1.85e+05    2.33e+05\n",
       "zip_98030           5284.8345   1.32e+04      0.402      0.688   -2.05e+04    3.11e+04\n",
       "zip_98031             1.4e+04   1.29e+04      1.083      0.279   -1.13e+04    3.93e+04\n",
       "zip_98032           2168.9369   1.68e+04      0.129      0.897   -3.07e+04    3.51e+04\n",
       "zip_98033           3.627e+05   1.15e+04     31.426      0.000     3.4e+05    3.85e+05\n",
       "zip_98034           2.002e+05    1.1e+04     18.269      0.000    1.79e+05    2.22e+05\n",
       "zip_98038           3.285e+04   1.08e+04      3.035      0.002    1.16e+04    5.41e+04\n",
       "zip_98039           1.317e+06   2.45e+04     53.711      0.000    1.27e+06    1.37e+06\n",
       "zip_98040           5.039e+05   1.31e+04     38.499      0.000    4.78e+05     5.3e+05\n",
       "zip_98042           6375.4334    1.1e+04      0.582      0.560   -1.51e+04    2.78e+04\n",
       "zip_98045           8.679e+04   1.38e+04      6.279      0.000    5.97e+04    1.14e+05\n",
       "zip_98052           2.259e+05   1.09e+04     20.753      0.000    2.05e+05    2.47e+05\n",
       "zip_98053             1.9e+05   1.18e+04     16.075      0.000    1.67e+05    2.13e+05\n",
       "zip_98055            4.37e+04    1.3e+04      3.359      0.001    1.82e+04    6.92e+04\n",
       "zip_98056           9.484e+04   1.17e+04      8.106      0.000    7.19e+04    1.18e+05\n",
       "zip_98058           2.692e+04   1.14e+04      2.367      0.018    4625.195    4.92e+04\n",
       "zip_98059           8.576e+04   1.13e+04      7.572      0.000    6.36e+04    1.08e+05\n",
       "zip_98065           8.548e+04   1.26e+04      6.794      0.000    6.08e+04     1.1e+05\n",
       "zip_98070           -1.09e+04   1.75e+04     -0.623      0.533   -4.52e+04    2.34e+04\n",
       "zip_98072           1.509e+05    1.3e+04     11.619      0.000    1.25e+05    1.76e+05\n",
       "zip_98074           1.702e+05   1.16e+04     14.728      0.000    1.48e+05    1.93e+05\n",
       "zip_98075           1.704e+05   1.22e+04     13.997      0.000    1.47e+05    1.94e+05\n",
       "zip_98077           1.177e+05   1.44e+04      8.174      0.000    8.95e+04    1.46e+05\n",
       "zip_98092           -3.85e+04   1.21e+04     -3.177      0.001   -6.23e+04   -1.48e+04\n",
       "zip_98102           5.043e+05   1.83e+04     27.525      0.000    4.68e+05     5.4e+05\n",
       "zip_98103            3.32e+05   1.11e+04     29.817      0.000     3.1e+05    3.54e+05\n",
       "zip_98105           4.621e+05    1.4e+04     33.045      0.000    4.35e+05    4.89e+05\n",
       "zip_98106           1.438e+05   1.23e+04     11.673      0.000     1.2e+05    1.68e+05\n",
       "zip_98107            3.41e+05   1.33e+04     25.566      0.000    3.15e+05    3.67e+05\n",
       "zip_98108           1.242e+05   1.47e+04      8.479      0.000    9.55e+04    1.53e+05\n",
       "zip_98109           4.866e+05   1.79e+04     27.134      0.000    4.51e+05    5.22e+05\n",
       "zip_98112            6.15e+05   1.35e+04     45.525      0.000    5.89e+05    6.41e+05\n",
       "zip_98115           3.271e+05   1.11e+04     29.600      0.000    3.05e+05    3.49e+05\n",
       "zip_98116           2.841e+05   1.25e+04     22.655      0.000     2.6e+05    3.09e+05\n",
       "zip_98117           3.119e+05   1.12e+04     27.891      0.000     2.9e+05    3.34e+05\n",
       "zip_98118           1.692e+05   1.13e+04     14.981      0.000    1.47e+05    1.91e+05\n",
       "zip_98119           4.687e+05    1.5e+04     31.235      0.000    4.39e+05    4.98e+05\n",
       "zip_98122           3.315e+05   1.31e+04     25.274      0.000    3.06e+05    3.57e+05\n",
       "zip_98125            1.99e+05   1.17e+04     16.949      0.000    1.76e+05    2.22e+05\n",
       "zip_98126           1.876e+05   1.22e+04     15.331      0.000    1.64e+05    2.12e+05\n",
       "zip_98133           1.643e+05   1.12e+04     14.609      0.000    1.42e+05    1.86e+05\n",
       "zip_98136            2.41e+05   1.33e+04     18.125      0.000    2.15e+05    2.67e+05\n",
       "zip_98144           2.729e+05   1.24e+04     21.980      0.000    2.49e+05    2.97e+05\n",
       "zip_98146           1.101e+05   1.28e+04      8.589      0.000     8.5e+04    1.35e+05\n",
       "zip_98148           6.904e+04    2.3e+04      3.005      0.003     2.4e+04    1.14e+05\n",
       "zip_98155           1.458e+05   1.15e+04     12.716      0.000    1.23e+05    1.68e+05\n",
       "zip_98166           5.259e+04   1.33e+04      3.957      0.000    2.65e+04    7.86e+04\n",
       "zip_98168           7.613e+04   1.31e+04      5.815      0.000    5.05e+04    1.02e+05\n",
       "zip_98177           2.131e+05   1.33e+04     15.993      0.000    1.87e+05    2.39e+05\n",
       "zip_98178           3.669e+04   1.32e+04      2.785      0.005    1.09e+04    6.25e+04\n",
       "zip_98188           3.458e+04   1.62e+04      2.132      0.033    2782.078    6.64e+04\n",
       "zip_98198          -1838.2929   1.29e+04     -0.143      0.887   -2.71e+04    2.34e+04\n",
       "zip_98199           3.818e+05   1.27e+04     30.118      0.000    3.57e+05    4.07e+05\n",
       "==============================================================================\n",
       "Omnibus:                    20390.321   Durbin-Watson:                   1.991\n",
       "Prob(Omnibus):                  0.000   Jarque-Bera (JB):          4011072.641\n",
       "Skew:                           4.046   Prob(JB):                         0.00\n",
       "Kurtosis:                      69.370   Cond. No.                     3.85e+16\n",
       "==============================================================================\n",
       "\n",
       "Notes:\n",
       "[1] Standard Errors assume that the covariance matrix of the errors is correctly specified.\n",
       "[2] The smallest eigenvalue is 2.82e-20. This might indicate that there are\n",
       "strong multicollinearity problems or that the design matrix is singular.\n",
       "\"\"\""
      ]
     },
     "execution_count": 115,
     "metadata": {},
     "output_type": "execute_result"
    }
   ],
   "source": [
    "modelzipcat = ols(formula=f,data = dfzip).fit()\n",
    "modelzipcat.summary()"
   ]
  },
  {
   "cell_type": "code",
   "execution_count": 119,
   "metadata": {
    "ExecuteTime": {
     "end_time": "2021-01-13T22:37:23.399590Z",
     "start_time": "2021-01-13T22:37:23.067470Z"
    }
   },
   "outputs": [
    {
     "name": "stdout",
     "output_type": "stream",
     "text": [
      "Train MSE: 26213953910.401505\n",
      "Test MSE: 26282950370.109894\n",
      "RMSE Train: 161907.23859791292\n",
      "RMSE Test: 162120.17261929464\n"
     ]
    },
    {
     "data": {
      "image/png": "[encoded data removed]",
      "text/plain": [
       "<Figure size 432x288 with 1 Axes>"
      ]
     },
     "execution_count": 119,
     "metadata": {},
     "output_type": "execute_result"
    },
    {
     "data": {
      "image/png": "[encoded data removed]",
      "text/plain": [
       "<Figure size 432x288 with 1 Axes>"
      ]
     },
     "metadata": {
      "needs_background": "light"
     },
     "output_type": "display_data"
    }
   ],
   "source": [
    "data = dfzip.copy()\n",
    "\n",
    "y = data['price']\n",
    "X = data.drop(['price', 'id', 'date','month','zipcode','yr_renovated',\n",
    "                     'sqft_lot15','bedrooms','has_basement','sqft_living15','lat','long','num_bedrooms'], axis = 1)\n",
    "\n",
    "X_train, X_test, y_train, y_test = train_test_split(X, y, test_size = 0.2)\n",
    "\n",
    "len(X_test)\n",
    "\n",
    "linreg = LinearRegression()\n",
    "linreg.fit(X_train, y_train)\n",
    "\n",
    "y_hat_train = linreg.predict(X_train)\n",
    "y_hat_test = linreg.predict(X_test)\n",
    "\n",
    "\n",
    "mse_train = mean_squared_error(y_train, y_hat_train)\n",
    "mse_test = mean_squared_error(y_test, y_hat_test)\n",
    "\n",
    "print('Train MSE:', mse_train)\n",
    "print('Test MSE:', mse_test)\n",
    "\n",
    "print('RMSE Train:', np.sqrt(mse_train))\n",
    "print('RMSE Test:', np.sqrt(mse_test))\n",
    "\n",
    "r2_score(y_test, y_hat_test)\n",
    "\n",
    "residuals = (y_test - y_hat_test)\n",
    "\n",
    "statsmodels.graphics.gofplots.qqplot(residuals, line = \"r\")"
   ]
  },
  {
   "cell_type": "code",
   "execution_count": 195,
   "metadata": {
    "ExecuteTime": {
     "end_time": "2021-01-09T22:33:14.264355Z",
     "start_time": "2021-01-09T22:33:14.261363Z"
    }
   },
   "outputs": [],
   "source": [
    "#.10 higher on R2 so thats good need to reduce zip to 4-10 sectors"
   ]
  },
  {
   "cell_type": "markdown",
   "metadata": {},
   "source": [
    "## Floors as dummy vars"
   ]
  },
  {
   "cell_type": "code",
   "execution_count": 120,
   "metadata": {
    "ExecuteTime": {
     "end_time": "2021-01-13T22:37:40.961479Z",
     "start_time": "2021-01-13T22:37:40.954532Z"
    }
   },
   "outputs": [
    {
     "data": {
      "text/plain": [
       "array([1. , 2. , 1.5, 3. , 2.5, 3.5])"
      ]
     },
     "execution_count": 120,
     "metadata": {},
     "output_type": "execute_result"
    }
   ],
   "source": [
    "df.floors.unique()"
   ]
  },
  {
   "cell_type": "code",
   "execution_count": 121,
   "metadata": {
    "ExecuteTime": {
     "end_time": "2021-01-13T22:38:08.091992Z",
     "start_time": "2021-01-13T22:38:08.078031Z"
    }
   },
   "outputs": [],
   "source": [
    "df.floors = df.floors.map(lambda x: round(x+.01))"
   ]
  },
  {
   "cell_type": "code",
   "execution_count": 127,
   "metadata": {
    "ExecuteTime": {
     "end_time": "2021-01-13T22:38:37.183408Z",
     "start_time": "2021-01-13T22:38:37.170411Z"
    }
   },
   "outputs": [],
   "source": [
    "floors = pd.get_dummies(df['floors'], prefix = 'floor',drop_first=True)\n",
    "dffloor = pd.concat([df, floors], axis = 1)"
   ]
  },
  {
   "cell_type": "code",
   "execution_count": 132,
   "metadata": {
    "ExecuteTime": {
     "end_time": "2021-01-13T22:39:41.453218Z",
     "start_time": "2021-01-13T22:39:41.446230Z"
    }
   },
   "outputs": [],
   "source": [
    "outcome = 'price'\n",
    "x_cols = dffloor.drop(['price', 'id', 'date','month','floors','yr_renovated','bedrooms','has_basement','yr_built','sqft_living15','sqft_lot15'], axis = 1).columns\n",
    "\n",
    "predictors = '+'.join(x_cols)\n",
    "\n",
    "f = outcome + '~' + predictors"
   ]
  },
  {
   "cell_type": "code",
   "execution_count": 133,
   "metadata": {
    "ExecuteTime": {
     "end_time": "2021-01-13T22:39:42.939935Z",
     "start_time": "2021-01-13T22:39:42.804607Z"
    }
   },
   "outputs": [
    {
     "data": {
      "text/html": [
       "<table class=\"simpletable\">\n",
       "<caption>OLS Regression Results</caption>\n",
       "<tr>\n",
       "  <th>Dep. Variable:</th>          <td>price</td>      <th>  R-squared:         </th>  <td>   0.702</td>  \n",
       "</tr>\n",
       "<tr>\n",
       "  <th>Model:</th>                   <td>OLS</td>       <th>  Adj. R-squared:    </th>  <td>   0.701</td>  \n",
       "</tr>\n",
       "<tr>\n",
       "  <th>Method:</th>             <td>Least Squares</td>  <th>  F-statistic:       </th>  <td>   2528.</td>  \n",
       "</tr>\n",
       "<tr>\n",
       "  <th>Date:</th>             <td>Wed, 13 Jan 2021</td> <th>  Prob (F-statistic):</th>   <td>  0.00</td>   \n",
       "</tr>\n",
       "<tr>\n",
       "  <th>Time:</th>                 <td>17:39:42</td>     <th>  Log-Likelihood:    </th> <td>-2.9340e+05</td>\n",
       "</tr>\n",
       "<tr>\n",
       "  <th>No. Observations:</th>      <td> 21534</td>      <th>  AIC:               </th>  <td>5.868e+05</td> \n",
       "</tr>\n",
       "<tr>\n",
       "  <th>Df Residuals:</th>          <td> 21513</td>      <th>  BIC:               </th>  <td>5.870e+05</td> \n",
       "</tr>\n",
       "<tr>\n",
       "  <th>Df Model:</th>              <td>    20</td>      <th>                     </th>      <td> </td>     \n",
       "</tr>\n",
       "<tr>\n",
       "  <th>Covariance Type:</th>      <td>nonrobust</td>    <th>                     </th>      <td> </td>     \n",
       "</tr>\n",
       "</table>\n",
       "<table class=\"simpletable\">\n",
       "<tr>\n",
       "           <td></td>             <th>coef</th>     <th>std err</th>      <th>t</th>      <th>P>|t|</th>  <th>[0.025</th>    <th>0.975]</th>  \n",
       "</tr>\n",
       "<tr>\n",
       "  <th>Intercept</th>          <td> 8.557e+06</td> <td> 2.83e+06</td> <td>    3.021</td> <td> 0.003</td> <td> 3.01e+06</td> <td> 1.41e+07</td>\n",
       "</tr>\n",
       "<tr>\n",
       "  <th>num_bedrooms[T.2]</th>  <td>-4.332e+04</td> <td> 1.48e+04</td> <td>   -2.918</td> <td> 0.004</td> <td>-7.24e+04</td> <td>-1.42e+04</td>\n",
       "</tr>\n",
       "<tr>\n",
       "  <th>num_bedrooms[T.3]</th>  <td> -1.06e+05</td> <td> 1.46e+04</td> <td>   -7.242</td> <td> 0.000</td> <td>-1.35e+05</td> <td>-7.73e+04</td>\n",
       "</tr>\n",
       "<tr>\n",
       "  <th>num_bedrooms[T.4]</th>  <td>-1.499e+05</td> <td> 1.49e+04</td> <td>  -10.030</td> <td> 0.000</td> <td>-1.79e+05</td> <td>-1.21e+05</td>\n",
       "</tr>\n",
       "<tr>\n",
       "  <th>num_bedrooms[T.5+]</th> <td>-1.542e+05</td> <td> 1.57e+04</td> <td>   -9.809</td> <td> 0.000</td> <td>-1.85e+05</td> <td>-1.23e+05</td>\n",
       "</tr>\n",
       "<tr>\n",
       "  <th>bathrooms</th>          <td> 4.106e+04</td> <td> 3222.694</td> <td>   12.741</td> <td> 0.000</td> <td> 3.47e+04</td> <td> 4.74e+04</td>\n",
       "</tr>\n",
       "<tr>\n",
       "  <th>sqft_living</th>        <td>  190.5373</td> <td>    3.398</td> <td>   56.069</td> <td> 0.000</td> <td>  183.877</td> <td>  197.198</td>\n",
       "</tr>\n",
       "<tr>\n",
       "  <th>sqft_lot</th>           <td>   -0.0775</td> <td>    0.035</td> <td>   -2.236</td> <td> 0.025</td> <td>   -0.145</td> <td>   -0.010</td>\n",
       "</tr>\n",
       "<tr>\n",
       "  <th>waterfront</th>         <td>   5.9e+05</td> <td> 1.81e+04</td> <td>   32.605</td> <td> 0.000</td> <td> 5.55e+05</td> <td> 6.25e+05</td>\n",
       "</tr>\n",
       "<tr>\n",
       "  <th>view</th>               <td> 5.542e+04</td> <td> 2087.653</td> <td>   26.547</td> <td> 0.000</td> <td> 5.13e+04</td> <td> 5.95e+04</td>\n",
       "</tr>\n",
       "<tr>\n",
       "  <th>condition</th>          <td> 2.619e+04</td> <td> 2336.788</td> <td>   11.210</td> <td> 0.000</td> <td> 2.16e+04</td> <td> 3.08e+04</td>\n",
       "</tr>\n",
       "<tr>\n",
       "  <th>grade</th>              <td>  1.03e+05</td> <td> 2066.561</td> <td>   49.839</td> <td> 0.000</td> <td> 9.89e+04</td> <td> 1.07e+05</td>\n",
       "</tr>\n",
       "<tr>\n",
       "  <th>sqft_basement</th>      <td>  -38.2275</td> <td>    4.312</td> <td>   -8.866</td> <td> 0.000</td> <td>  -46.679</td> <td>  -29.776</td>\n",
       "</tr>\n",
       "<tr>\n",
       "  <th>zipcode</th>            <td> -617.3671</td> <td>   32.750</td> <td>  -18.851</td> <td> 0.000</td> <td> -681.560</td> <td> -553.174</td>\n",
       "</tr>\n",
       "<tr>\n",
       "  <th>lat</th>                <td> 5.905e+05</td> <td> 1.07e+04</td> <td>   55.055</td> <td> 0.000</td> <td>  5.7e+05</td> <td> 6.12e+05</td>\n",
       "</tr>\n",
       "<tr>\n",
       "  <th>long</th>               <td>-1.887e+05</td> <td>  1.3e+04</td> <td>  -14.546</td> <td> 0.000</td> <td>-2.14e+05</td> <td>-1.63e+05</td>\n",
       "</tr>\n",
       "<tr>\n",
       "  <th>been_renovated</th>     <td>  3.79e+04</td> <td> 7182.534</td> <td>    5.276</td> <td> 0.000</td> <td> 2.38e+04</td> <td>  5.2e+04</td>\n",
       "</tr>\n",
       "<tr>\n",
       "  <th>age</th>                <td> 2653.6114</td> <td>   70.554</td> <td>   37.611</td> <td> 0.000</td> <td> 2515.320</td> <td> 2791.902</td>\n",
       "</tr>\n",
       "<tr>\n",
       "  <th>floor_2</th>            <td>-7216.5161</td> <td> 3622.222</td> <td>   -1.992</td> <td> 0.046</td> <td>-1.43e+04</td> <td> -116.691</td>\n",
       "</tr>\n",
       "<tr>\n",
       "  <th>floor_3</th>            <td> 5.633e+04</td> <td> 8244.771</td> <td>    6.833</td> <td> 0.000</td> <td> 4.02e+04</td> <td> 7.25e+04</td>\n",
       "</tr>\n",
       "<tr>\n",
       "  <th>floor_4</th>            <td> 1.574e+05</td> <td> 7.58e+04</td> <td>    2.078</td> <td> 0.038</td> <td> 8944.456</td> <td> 3.06e+05</td>\n",
       "</tr>\n",
       "</table>\n",
       "<table class=\"simpletable\">\n",
       "<tr>\n",
       "  <th>Omnibus:</th>       <td>17571.749</td> <th>  Durbin-Watson:     </th>  <td>   1.990</td>  \n",
       "</tr>\n",
       "<tr>\n",
       "  <th>Prob(Omnibus):</th>  <td> 0.000</td>   <th>  Jarque-Bera (JB):  </th> <td>1573364.052</td>\n",
       "</tr>\n",
       "<tr>\n",
       "  <th>Skew:</th>           <td> 3.367</td>   <th>  Prob(JB):          </th>  <td>    0.00</td>  \n",
       "</tr>\n",
       "<tr>\n",
       "  <th>Kurtosis:</th>       <td>44.330</td>   <th>  Cond. No.          </th>  <td>2.07e+08</td>  \n",
       "</tr>\n",
       "</table><br/><br/>Notes:<br/>[1] Standard Errors assume that the covariance matrix of the errors is correctly specified.<br/>[2] The condition number is large, 2.07e+08. This might indicate that there are<br/>strong multicollinearity or other numerical problems."
      ],
      "text/plain": [
       "<class 'statsmodels.iolib.summary.Summary'>\n",
       "\"\"\"\n",
       "                            OLS Regression Results                            \n",
       "==============================================================================\n",
       "Dep. Variable:                  price   R-squared:                       0.702\n",
       "Model:                            OLS   Adj. R-squared:                  0.701\n",
       "Method:                 Least Squares   F-statistic:                     2528.\n",
       "Date:                Wed, 13 Jan 2021   Prob (F-statistic):               0.00\n",
       "Time:                        17:39:42   Log-Likelihood:            -2.9340e+05\n",
       "No. Observations:               21534   AIC:                         5.868e+05\n",
       "Df Residuals:                   21513   BIC:                         5.870e+05\n",
       "Df Model:                          20                                         \n",
       "Covariance Type:            nonrobust                                         \n",
       "======================================================================================\n",
       "                         coef    std err          t      P>|t|      [0.025      0.975]\n",
       "--------------------------------------------------------------------------------------\n",
       "Intercept           8.557e+06   2.83e+06      3.021      0.003    3.01e+06    1.41e+07\n",
       "num_bedrooms[T.2]  -4.332e+04   1.48e+04     -2.918      0.004   -7.24e+04   -1.42e+04\n",
       "num_bedrooms[T.3]   -1.06e+05   1.46e+04     -7.242      0.000   -1.35e+05   -7.73e+04\n",
       "num_bedrooms[T.4]  -1.499e+05   1.49e+04    -10.030      0.000   -1.79e+05   -1.21e+05\n",
       "num_bedrooms[T.5+] -1.542e+05   1.57e+04     -9.809      0.000   -1.85e+05   -1.23e+05\n",
       "bathrooms           4.106e+04   3222.694     12.741      0.000    3.47e+04    4.74e+04\n",
       "sqft_living          190.5373      3.398     56.069      0.000     183.877     197.198\n",
       "sqft_lot              -0.0775      0.035     -2.236      0.025      -0.145      -0.010\n",
       "waterfront            5.9e+05   1.81e+04     32.605      0.000    5.55e+05    6.25e+05\n",
       "view                5.542e+04   2087.653     26.547      0.000    5.13e+04    5.95e+04\n",
       "condition           2.619e+04   2336.788     11.210      0.000    2.16e+04    3.08e+04\n",
       "grade                1.03e+05   2066.561     49.839      0.000    9.89e+04    1.07e+05\n",
       "sqft_basement        -38.2275      4.312     -8.866      0.000     -46.679     -29.776\n",
       "zipcode             -617.3671     32.750    -18.851      0.000    -681.560    -553.174\n",
       "lat                 5.905e+05   1.07e+04     55.055      0.000     5.7e+05    6.12e+05\n",
       "long               -1.887e+05    1.3e+04    -14.546      0.000   -2.14e+05   -1.63e+05\n",
       "been_renovated       3.79e+04   7182.534      5.276      0.000    2.38e+04     5.2e+04\n",
       "age                 2653.6114     70.554     37.611      0.000    2515.320    2791.902\n",
       "floor_2            -7216.5161   3622.222     -1.992      0.046   -1.43e+04    -116.691\n",
       "floor_3             5.633e+04   8244.771      6.833      0.000    4.02e+04    7.25e+04\n",
       "floor_4             1.574e+05   7.58e+04      2.078      0.038    8944.456    3.06e+05\n",
       "==============================================================================\n",
       "Omnibus:                    17571.749   Durbin-Watson:                   1.990\n",
       "Prob(Omnibus):                  0.000   Jarque-Bera (JB):          1573364.052\n",
       "Skew:                           3.367   Prob(JB):                         0.00\n",
       "Kurtosis:                      44.330   Cond. No.                     2.07e+08\n",
       "==============================================================================\n",
       "\n",
       "Notes:\n",
       "[1] Standard Errors assume that the covariance matrix of the errors is correctly specified.\n",
       "[2] The condition number is large, 2.07e+08. This might indicate that there are\n",
       "strong multicollinearity or other numerical problems.\n",
       "\"\"\""
      ]
     },
     "execution_count": 133,
     "metadata": {},
     "output_type": "execute_result"
    }
   ],
   "source": [
    "modelfloor = ols(formula=f,data = dffloor).fit()\n",
    "modelfloor.summary()"
   ]
  },
  {
   "cell_type": "markdown",
   "metadata": {},
   "source": [
    "No material change with floor as categorical or with dummy variables so will leave as original"
   ]
  },
  {
   "cell_type": "code",
   "execution_count": null,
   "metadata": {},
   "outputs": [],
   "source": []
  },
  {
   "cell_type": "markdown",
   "metadata": {},
   "source": [
    "## Model with outliers past 3std dropped"
   ]
  },
  {
   "cell_type": "code",
   "execution_count": 134,
   "metadata": {
    "ExecuteTime": {
     "end_time": "2021-01-13T22:39:52.563673Z",
     "start_time": "2021-01-13T22:39:52.558688Z"
    }
   },
   "outputs": [
    {
     "data": {
      "text/plain": [
       "0.0    20645\n",
       "1.0      889\n",
       "Name: been_renovated, dtype: int64"
      ]
     },
     "execution_count": 134,
     "metadata": {},
     "output_type": "execute_result"
    }
   ],
   "source": [
    "df.been_renovated.value_counts()"
   ]
  },
  {
   "cell_type": "code",
   "execution_count": 138,
   "metadata": {
    "ExecuteTime": {
     "end_time": "2021-01-13T22:43:43.841107Z",
     "start_time": "2021-01-13T22:43:43.831133Z"
    }
   },
   "outputs": [
    {
     "name": "stdout",
     "output_type": "stream",
     "text": [
      "<class 'pandas.core.frame.DataFrame'>\n",
      "Int64Index: 21534 entries, 0 to 21596\n",
      "Data columns (total 25 columns):\n",
      " #   Column          Non-Null Count  Dtype         \n",
      "---  ------          --------------  -----         \n",
      " 0   id              21534 non-null  int64         \n",
      " 1   date            21534 non-null  datetime64[ns]\n",
      " 2   price           21534 non-null  float64       \n",
      " 3   bedrooms        21534 non-null  int64         \n",
      " 4   bathrooms       21534 non-null  float64       \n",
      " 5   sqft_living     21534 non-null  int64         \n",
      " 6   sqft_lot        21534 non-null  int64         \n",
      " 7   floors          21534 non-null  int64         \n",
      " 8   waterfront      21534 non-null  float64       \n",
      " 9   view            21534 non-null  float64       \n",
      " 10  condition       21534 non-null  int64         \n",
      " 11  grade           21534 non-null  int64         \n",
      " 12  sqft_basement   21534 non-null  int64         \n",
      " 13  yr_built        21534 non-null  int64         \n",
      " 14  yr_renovated    17704 non-null  float64       \n",
      " 15  zipcode         21534 non-null  int64         \n",
      " 16  lat             21534 non-null  float64       \n",
      " 17  long            21534 non-null  float64       \n",
      " 18  sqft_living15   21534 non-null  int64         \n",
      " 19  sqft_lot15      21534 non-null  int64         \n",
      " 20  month           21534 non-null  int64         \n",
      " 21  been_renovated  21534 non-null  float64       \n",
      " 22  num_bedrooms    21534 non-null  object        \n",
      " 23  has_basement    21534 non-null  int64         \n",
      " 24  age             21534 non-null  int64         \n",
      "dtypes: datetime64[ns](1), float64(8), int64(15), object(1)\n",
      "memory usage: 4.3+ MB\n"
     ]
    }
   ],
   "source": [
    "df.info()"
   ]
  },
  {
   "cell_type": "code",
   "execution_count": 142,
   "metadata": {
    "ExecuteTime": {
     "end_time": "2021-01-14T03:02:03.759232Z",
     "start_time": "2021-01-14T03:02:03.737291Z"
    }
   },
   "outputs": [],
   "source": [
    "from scipy import stats\n",
    "df_zscore = df.drop(['date','num_bedrooms','yr_renovated'], axis=1)\n",
    "df_zscore = df[(np.abs(stats.zscore(df_zscore)) < 3).all(axis=1)]"
   ]
  },
  {
   "cell_type": "code",
   "execution_count": 143,
   "metadata": {
    "ExecuteTime": {
     "end_time": "2021-01-14T03:02:12.389053Z",
     "start_time": "2021-01-14T03:02:12.384067Z"
    }
   },
   "outputs": [
    {
     "data": {
      "text/plain": [
       "array([0.])"
      ]
     },
     "execution_count": 143,
     "metadata": {},
     "output_type": "execute_result"
    }
   ],
   "source": [
    "df_zscore.been_renovated.unique()"
   ]
  },
  {
   "cell_type": "code",
   "execution_count": 121,
   "metadata": {
    "ExecuteTime": {
     "end_time": "2021-01-12T05:14:08.623064Z",
     "start_time": "2021-01-12T05:14:08.617050Z"
    }
   },
   "outputs": [],
   "source": [
    "df_zscore = df.drop(['date','yr_renovated'], axis=1)"
   ]
  },
  {
   "cell_type": "code",
   "execution_count": 124,
   "metadata": {
    "ExecuteTime": {
     "end_time": "2021-01-12T05:14:28.209109Z",
     "start_time": "2021-01-12T05:14:28.203095Z"
    }
   },
   "outputs": [
    {
     "data": {
      "text/plain": [
       "0.20150026671603066"
      ]
     },
     "execution_count": 124,
     "metadata": {},
     "output_type": "execute_result"
    }
   ],
   "source": [
    "df_zscore.been_renovated.std()"
   ]
  },
  {
   "cell_type": "code",
   "execution_count": 117,
   "metadata": {
    "ExecuteTime": {
     "end_time": "2021-01-12T05:12:51.040515Z",
     "start_time": "2021-01-12T05:12:51.010559Z"
    }
   },
   "outputs": [],
   "source": [
    "df_zscore = df_zscore[(np.abs(stats.zscore(df_zscore)) < 3).all(axis=1)]"
   ]
  },
  {
   "cell_type": "code",
   "execution_count": 105,
   "metadata": {
    "ExecuteTime": {
     "end_time": "2021-01-12T05:10:31.467425Z",
     "start_time": "2021-01-12T05:10:29.256665Z"
    }
   },
   "outputs": [
    {
     "data": {
      "text/plain": [
       "array([[<AxesSubplot:title={'center':'id'}>,\n",
       "        <AxesSubplot:title={'center':'price'}>,\n",
       "        <AxesSubplot:title={'center':'bedrooms'}>,\n",
       "        <AxesSubplot:title={'center':'bathrooms'}>,\n",
       "        <AxesSubplot:title={'center':'sqft_living'}>],\n",
       "       [<AxesSubplot:title={'center':'sqft_lot'}>,\n",
       "        <AxesSubplot:title={'center':'floors'}>,\n",
       "        <AxesSubplot:title={'center':'waterfront'}>,\n",
       "        <AxesSubplot:title={'center':'view'}>,\n",
       "        <AxesSubplot:title={'center':'condition'}>],\n",
       "       [<AxesSubplot:title={'center':'grade'}>,\n",
       "        <AxesSubplot:title={'center':'sqft_basement'}>,\n",
       "        <AxesSubplot:title={'center':'yr_built'}>,\n",
       "        <AxesSubplot:title={'center':'yr_renovated'}>,\n",
       "        <AxesSubplot:title={'center':'zipcode'}>],\n",
       "       [<AxesSubplot:title={'center':'lat'}>,\n",
       "        <AxesSubplot:title={'center':'long'}>,\n",
       "        <AxesSubplot:title={'center':'sqft_living15'}>,\n",
       "        <AxesSubplot:title={'center':'sqft_lot15'}>,\n",
       "        <AxesSubplot:title={'center':'month'}>],\n",
       "       [<AxesSubplot:title={'center':'been_renovated'}>, <AxesSubplot:>,\n",
       "        <AxesSubplot:>, <AxesSubplot:>, <AxesSubplot:>]], dtype=object)"
      ]
     },
     "execution_count": 105,
     "metadata": {},
     "output_type": "execute_result"
    },
    {
     "data": {
      "image/png": "[encoded data removed]",
      "text/plain": [
       "<Figure size 1080x864 with 25 Axes>"
      ]
     },
     "metadata": {
      "needs_background": "light"
     },
     "output_type": "display_data"
    }
   ],
   "source": [
    "df.hist(figsize=(15,12))"
   ]
  },
  {
   "cell_type": "code",
   "execution_count": 118,
   "metadata": {
    "ExecuteTime": {
     "end_time": "2021-01-12T05:12:58.086053Z",
     "start_time": "2021-01-12T05:12:58.079076Z"
    }
   },
   "outputs": [
    {
     "data": {
      "text/plain": [
       "3097"
      ]
     },
     "execution_count": 118,
     "metadata": {},
     "output_type": "execute_result"
    }
   ],
   "source": [
    "len(df) -  len(df_zscore)"
   ]
  },
  {
   "cell_type": "code",
   "execution_count": 86,
   "metadata": {
    "ExecuteTime": {
     "end_time": "2021-01-11T19:27:45.041390Z",
     "start_time": "2021-01-11T19:27:45.038398Z"
    }
   },
   "outputs": [],
   "source": [
    "#dropping outliers via zscore removes some 3k rows of data"
   ]
  },
  {
   "cell_type": "code",
   "execution_count": 87,
   "metadata": {
    "ExecuteTime": {
     "end_time": "2021-01-11T19:27:46.691974Z",
     "start_time": "2021-01-11T19:27:46.687984Z"
    }
   },
   "outputs": [
    {
     "data": {
      "text/plain": [
       "Index(['id', 'date', 'price', 'bedrooms', 'bathrooms', 'sqft_living',\n",
       "       'sqft_lot', 'floors', 'waterfront', 'view', 'condition', 'grade',\n",
       "       'sqft_basement', 'yr_built', 'been_renovated', 'zipcode', 'lat', 'long',\n",
       "       'sqft_living15', 'sqft_lot15', 'month'],\n",
       "      dtype='object')"
      ]
     },
     "execution_count": 87,
     "metadata": {},
     "output_type": "execute_result"
    }
   ],
   "source": [
    "df_zscore.columns"
   ]
  },
  {
   "cell_type": "code",
   "execution_count": 138,
   "metadata": {
    "ExecuteTime": {
     "end_time": "2021-01-12T07:41:09.828964Z",
     "start_time": "2021-01-12T07:41:09.823019Z"
    }
   },
   "outputs": [],
   "source": [
    "outcome = 'price'\n",
    "x_cols = df_zscore.drop(['price', 'id','month','sqft_living15','sqft_lot15'], axis = 1).columns\n",
    "\n",
    "predictors = '+'.join(x_cols)\n",
    "\n",
    "f = outcome + '~' + predictors"
   ]
  },
  {
   "cell_type": "code",
   "execution_count": 139,
   "metadata": {
    "ExecuteTime": {
     "end_time": "2021-01-12T07:41:11.625296Z",
     "start_time": "2021-01-12T07:41:11.564447Z"
    }
   },
   "outputs": [
    {
     "data": {
      "text/html": [
       "<table class=\"simpletable\">\n",
       "<caption>OLS Regression Results</caption>\n",
       "<tr>\n",
       "  <th>Dep. Variable:</th>          <td>price</td>      <th>  R-squared:         </th>  <td>   0.689</td>  \n",
       "</tr>\n",
       "<tr>\n",
       "  <th>Model:</th>                   <td>OLS</td>       <th>  Adj. R-squared:    </th>  <td>   0.689</td>  \n",
       "</tr>\n",
       "<tr>\n",
       "  <th>Method:</th>             <td>Least Squares</td>  <th>  F-statistic:       </th>  <td>   3178.</td>  \n",
       "</tr>\n",
       "<tr>\n",
       "  <th>Date:</th>             <td>Tue, 12 Jan 2021</td> <th>  Prob (F-statistic):</th>   <td>  0.00</td>   \n",
       "</tr>\n",
       "<tr>\n",
       "  <th>Time:</th>                 <td>02:41:11</td>     <th>  Log-Likelihood:    </th> <td>-2.9384e+05</td>\n",
       "</tr>\n",
       "<tr>\n",
       "  <th>No. Observations:</th>      <td> 21534</td>      <th>  AIC:               </th>  <td>5.877e+05</td> \n",
       "</tr>\n",
       "<tr>\n",
       "  <th>Df Residuals:</th>          <td> 21518</td>      <th>  BIC:               </th>  <td>5.878e+05</td> \n",
       "</tr>\n",
       "<tr>\n",
       "  <th>Df Model:</th>              <td>    15</td>      <th>                     </th>      <td> </td>     \n",
       "</tr>\n",
       "<tr>\n",
       "  <th>Covariance Type:</th>      <td>nonrobust</td>    <th>                     </th>      <td> </td>     \n",
       "</tr>\n",
       "</table>\n",
       "<table class=\"simpletable\">\n",
       "<tr>\n",
       "         <td></td>           <th>coef</th>     <th>std err</th>      <th>t</th>      <th>P>|t|</th>  <th>[0.025</th>    <th>0.975]</th>  \n",
       "</tr>\n",
       "<tr>\n",
       "  <th>Intercept</th>      <td> 1.019e+07</td> <td> 2.91e+06</td> <td>    3.497</td> <td> 0.000</td> <td> 4.48e+06</td> <td> 1.59e+07</td>\n",
       "</tr>\n",
       "<tr>\n",
       "  <th>bedrooms</th>       <td>-3.746e+04</td> <td> 1927.067</td> <td>  -19.438</td> <td> 0.000</td> <td>-4.12e+04</td> <td>-3.37e+04</td>\n",
       "</tr>\n",
       "<tr>\n",
       "  <th>bathrooms</th>      <td> 4.006e+04</td> <td> 3286.251</td> <td>   12.191</td> <td> 0.000</td> <td> 3.36e+04</td> <td> 4.65e+04</td>\n",
       "</tr>\n",
       "<tr>\n",
       "  <th>sqft_living</th>    <td>  189.4562</td> <td>    3.399</td> <td>   55.747</td> <td> 0.000</td> <td>  182.795</td> <td>  196.118</td>\n",
       "</tr>\n",
       "<tr>\n",
       "  <th>sqft_lot</th>       <td>   -0.0670</td> <td>    0.035</td> <td>   -1.898</td> <td> 0.058</td> <td>   -0.136</td> <td>    0.002</td>\n",
       "</tr>\n",
       "<tr>\n",
       "  <th>floors</th>         <td> 7144.5380</td> <td> 3175.290</td> <td>    2.250</td> <td> 0.024</td> <td>  920.733</td> <td> 1.34e+04</td>\n",
       "</tr>\n",
       "<tr>\n",
       "  <th>waterfront</th>     <td> 1.985e+05</td> <td> 1.06e+04</td> <td>   18.737</td> <td> 0.000</td> <td> 1.78e+05</td> <td> 2.19e+05</td>\n",
       "</tr>\n",
       "<tr>\n",
       "  <th>view</th>           <td> 7.272e+04</td> <td> 2036.241</td> <td>   35.715</td> <td> 0.000</td> <td> 6.87e+04</td> <td> 7.67e+04</td>\n",
       "</tr>\n",
       "<tr>\n",
       "  <th>condition</th>      <td> 2.578e+04</td> <td> 2373.337</td> <td>   10.863</td> <td> 0.000</td> <td> 2.11e+04</td> <td> 3.04e+04</td>\n",
       "</tr>\n",
       "<tr>\n",
       "  <th>grade</th>          <td> 9.992e+04</td> <td> 2099.448</td> <td>   47.594</td> <td> 0.000</td> <td> 9.58e+04</td> <td> 1.04e+05</td>\n",
       "</tr>\n",
       "<tr>\n",
       "  <th>sqft_basement</th>  <td>  -33.7739</td> <td>    4.329</td> <td>   -7.802</td> <td> 0.000</td> <td>  -42.259</td> <td>  -25.288</td>\n",
       "</tr>\n",
       "<tr>\n",
       "  <th>yr_built</th>       <td>-2624.2975</td> <td>   71.149</td> <td>  -36.885</td> <td> 0.000</td> <td>-2763.755</td> <td>-2484.840</td>\n",
       "</tr>\n",
       "<tr>\n",
       "  <th>zipcode</th>        <td> -616.6049</td> <td>   33.376</td> <td>  -18.475</td> <td> 0.000</td> <td> -682.023</td> <td> -551.186</td>\n",
       "</tr>\n",
       "<tr>\n",
       "  <th>lat</th>            <td> 6.026e+05</td> <td> 1.09e+04</td> <td>   55.356</td> <td> 0.000</td> <td> 5.81e+05</td> <td> 6.24e+05</td>\n",
       "</tr>\n",
       "<tr>\n",
       "  <th>long</th>           <td>-2.136e+05</td> <td> 1.31e+04</td> <td>  -16.280</td> <td> 0.000</td> <td>-2.39e+05</td> <td>-1.88e+05</td>\n",
       "</tr>\n",
       "<tr>\n",
       "  <th>been_renovated</th> <td> 4.106e+04</td> <td> 7222.815</td> <td>    5.685</td> <td> 0.000</td> <td> 2.69e+04</td> <td> 5.52e+04</td>\n",
       "</tr>\n",
       "</table>\n",
       "<table class=\"simpletable\">\n",
       "<tr>\n",
       "  <th>Omnibus:</th>       <td>18314.720</td> <th>  Durbin-Watson:     </th>  <td>   1.996</td>  \n",
       "</tr>\n",
       "<tr>\n",
       "  <th>Prob(Omnibus):</th>  <td> 0.000</td>   <th>  Jarque-Bera (JB):  </th> <td>1743969.918</td>\n",
       "</tr>\n",
       "<tr>\n",
       "  <th>Skew:</th>           <td> 3.589</td>   <th>  Prob(JB):          </th>  <td>    0.00</td>  \n",
       "</tr>\n",
       "<tr>\n",
       "  <th>Kurtosis:</th>       <td>46.499</td>   <th>  Cond. No.          </th>  <td>2.08e+08</td>  \n",
       "</tr>\n",
       "</table><br/><br/>Notes:<br/>[1] Standard Errors assume that the covariance matrix of the errors is correctly specified.<br/>[2] The condition number is large, 2.08e+08. This might indicate that there are<br/>strong multicollinearity or other numerical problems."
      ],
      "text/plain": [
       "<class 'statsmodels.iolib.summary.Summary'>\n",
       "\"\"\"\n",
       "                            OLS Regression Results                            \n",
       "==============================================================================\n",
       "Dep. Variable:                  price   R-squared:                       0.689\n",
       "Model:                            OLS   Adj. R-squared:                  0.689\n",
       "Method:                 Least Squares   F-statistic:                     3178.\n",
       "Date:                Tue, 12 Jan 2021   Prob (F-statistic):               0.00\n",
       "Time:                        02:41:11   Log-Likelihood:            -2.9384e+05\n",
       "No. Observations:               21534   AIC:                         5.877e+05\n",
       "Df Residuals:                   21518   BIC:                         5.878e+05\n",
       "Df Model:                          15                                         \n",
       "Covariance Type:            nonrobust                                         \n",
       "==================================================================================\n",
       "                     coef    std err          t      P>|t|      [0.025      0.975]\n",
       "----------------------------------------------------------------------------------\n",
       "Intercept       1.019e+07   2.91e+06      3.497      0.000    4.48e+06    1.59e+07\n",
       "bedrooms       -3.746e+04   1927.067    -19.438      0.000   -4.12e+04   -3.37e+04\n",
       "bathrooms       4.006e+04   3286.251     12.191      0.000    3.36e+04    4.65e+04\n",
       "sqft_living      189.4562      3.399     55.747      0.000     182.795     196.118\n",
       "sqft_lot          -0.0670      0.035     -1.898      0.058      -0.136       0.002\n",
       "floors          7144.5380   3175.290      2.250      0.024     920.733    1.34e+04\n",
       "waterfront      1.985e+05   1.06e+04     18.737      0.000    1.78e+05    2.19e+05\n",
       "view            7.272e+04   2036.241     35.715      0.000    6.87e+04    7.67e+04\n",
       "condition       2.578e+04   2373.337     10.863      0.000    2.11e+04    3.04e+04\n",
       "grade           9.992e+04   2099.448     47.594      0.000    9.58e+04    1.04e+05\n",
       "sqft_basement    -33.7739      4.329     -7.802      0.000     -42.259     -25.288\n",
       "yr_built       -2624.2975     71.149    -36.885      0.000   -2763.755   -2484.840\n",
       "zipcode         -616.6049     33.376    -18.475      0.000    -682.023    -551.186\n",
       "lat             6.026e+05   1.09e+04     55.356      0.000    5.81e+05    6.24e+05\n",
       "long           -2.136e+05   1.31e+04    -16.280      0.000   -2.39e+05   -1.88e+05\n",
       "been_renovated  4.106e+04   7222.815      5.685      0.000    2.69e+04    5.52e+04\n",
       "==============================================================================\n",
       "Omnibus:                    18314.720   Durbin-Watson:                   1.996\n",
       "Prob(Omnibus):                  0.000   Jarque-Bera (JB):          1743969.918\n",
       "Skew:                           3.589   Prob(JB):                         0.00\n",
       "Kurtosis:                      46.499   Cond. No.                     2.08e+08\n",
       "==============================================================================\n",
       "\n",
       "Notes:\n",
       "[1] Standard Errors assume that the covariance matrix of the errors is correctly specified.\n",
       "[2] The condition number is large, 2.08e+08. This might indicate that there are\n",
       "strong multicollinearity or other numerical problems.\n",
       "\"\"\""
      ]
     },
     "execution_count": 139,
     "metadata": {},
     "output_type": "execute_result"
    }
   ],
   "source": [
    "modelz = ols(formula=f,data = df_zscore).fit()\n",
    "modelz.summary()"
   ]
  },
  {
   "cell_type": "code",
   "execution_count": 90,
   "metadata": {
    "ExecuteTime": {
     "end_time": "2021-01-11T20:11:53.811754Z",
     "start_time": "2021-01-11T20:11:53.784826Z"
    }
   },
   "outputs": [],
   "source": [
    "dfzip2 = pd.concat([df_zscore, zipcode], axis = 1)"
   ]
  },
  {
   "cell_type": "code",
   "execution_count": 91,
   "metadata": {
    "ExecuteTime": {
     "end_time": "2021-01-11T20:11:55.612698Z",
     "start_time": "2021-01-11T20:11:55.601566Z"
    }
   },
   "outputs": [],
   "source": [
    "outcome = 'price'\n",
    "x_cols = dfzip2.drop(['price', 'id','date','month','sqft_living15','sqft_lot15','zipcode'], axis = 1).columns\n",
    "\n",
    "predictors = '+'.join(x_cols)\n",
    "\n",
    "f = outcome + '~' + predictors"
   ]
  },
  {
   "cell_type": "code",
   "execution_count": 92,
   "metadata": {
    "ExecuteTime": {
     "end_time": "2021-01-11T20:11:57.686825Z",
     "start_time": "2021-01-11T20:11:57.420319Z"
    }
   },
   "outputs": [
    {
     "data": {
      "text/html": [
       "<table class=\"simpletable\">\n",
       "<caption>OLS Regression Results</caption>\n",
       "<tr>\n",
       "  <th>Dep. Variable:</th>          <td>price</td>      <th>  R-squared:         </th>  <td>   0.831</td>  \n",
       "</tr>\n",
       "<tr>\n",
       "  <th>Model:</th>                   <td>OLS</td>       <th>  Adj. R-squared:    </th>  <td>   0.830</td>  \n",
       "</tr>\n",
       "<tr>\n",
       "  <th>Method:</th>             <td>Least Squares</td>  <th>  F-statistic:       </th>  <td>   1112.</td>  \n",
       "</tr>\n",
       "<tr>\n",
       "  <th>Date:</th>             <td>Mon, 11 Jan 2021</td> <th>  Prob (F-statistic):</th>   <td>  0.00</td>   \n",
       "</tr>\n",
       "<tr>\n",
       "  <th>Time:</th>                 <td>15:11:57</td>     <th>  Log-Likelihood:    </th> <td>-2.3724e+05</td>\n",
       "</tr>\n",
       "<tr>\n",
       "  <th>No. Observations:</th>      <td> 18407</td>      <th>  AIC:               </th>  <td>4.746e+05</td> \n",
       "</tr>\n",
       "<tr>\n",
       "  <th>Df Residuals:</th>          <td> 18325</td>      <th>  BIC:               </th>  <td>4.753e+05</td> \n",
       "</tr>\n",
       "<tr>\n",
       "  <th>Df Model:</th>              <td>    81</td>      <th>                     </th>      <td> </td>     \n",
       "</tr>\n",
       "<tr>\n",
       "  <th>Covariance Type:</th>      <td>nonrobust</td>    <th>                     </th>      <td> </td>     \n",
       "</tr>\n",
       "</table>\n",
       "<table class=\"simpletable\">\n",
       "<tr>\n",
       "         <td></td>           <th>coef</th>     <th>std err</th>      <th>t</th>      <th>P>|t|</th>  <th>[0.025</th>    <th>0.975]</th>  \n",
       "</tr>\n",
       "<tr>\n",
       "  <th>Intercept</th>      <td>-1.773e+07</td> <td> 5.05e+06</td> <td>   -3.515</td> <td> 0.000</td> <td>-2.76e+07</td> <td>-7.84e+06</td>\n",
       "</tr>\n",
       "<tr>\n",
       "  <th>bedrooms</th>       <td>-5782.3364</td> <td> 1110.688</td> <td>   -5.206</td> <td> 0.000</td> <td>-7959.389</td> <td>-3605.284</td>\n",
       "</tr>\n",
       "<tr>\n",
       "  <th>bathrooms</th>      <td> 1.662e+04</td> <td> 1813.442</td> <td>    9.167</td> <td> 0.000</td> <td> 1.31e+04</td> <td> 2.02e+04</td>\n",
       "</tr>\n",
       "<tr>\n",
       "  <th>sqft_living</th>    <td>  145.3012</td> <td>    2.052</td> <td>   70.809</td> <td> 0.000</td> <td>  141.279</td> <td>  149.323</td>\n",
       "</tr>\n",
       "<tr>\n",
       "  <th>sqft_lot</th>       <td>    0.7772</td> <td>    0.073</td> <td>   10.686</td> <td> 0.000</td> <td>    0.635</td> <td>    0.920</td>\n",
       "</tr>\n",
       "<tr>\n",
       "  <th>floors</th>         <td> -1.75e+04</td> <td> 1834.901</td> <td>   -9.536</td> <td> 0.000</td> <td>-2.11e+04</td> <td>-1.39e+04</td>\n",
       "</tr>\n",
       "<tr>\n",
       "  <th>waterfront</th>     <td> -3.23e-06</td> <td> 9.19e-07</td> <td>   -3.514</td> <td> 0.000</td> <td>-5.03e-06</td> <td>-1.43e-06</td>\n",
       "</tr>\n",
       "<tr>\n",
       "  <th>view</th>           <td>  3.81e+04</td> <td> 1842.903</td> <td>   20.672</td> <td> 0.000</td> <td> 3.45e+04</td> <td> 4.17e+04</td>\n",
       "</tr>\n",
       "<tr>\n",
       "  <th>condition</th>      <td> 2.321e+04</td> <td> 1258.704</td> <td>   18.438</td> <td> 0.000</td> <td> 2.07e+04</td> <td> 2.57e+04</td>\n",
       "</tr>\n",
       "<tr>\n",
       "  <th>grade</th>          <td>   5.2e+04</td> <td> 1213.127</td> <td>   42.863</td> <td> 0.000</td> <td> 4.96e+04</td> <td> 5.44e+04</td>\n",
       "</tr>\n",
       "<tr>\n",
       "  <th>sqft_basement</th>  <td>  -59.2228</td> <td>    2.552</td> <td>  -23.207</td> <td> 0.000</td> <td>  -64.225</td> <td>  -54.221</td>\n",
       "</tr>\n",
       "<tr>\n",
       "  <th>yr_built</th>       <td> -635.8370</td> <td>   41.330</td> <td>  -15.384</td> <td> 0.000</td> <td> -716.847</td> <td> -554.827</td>\n",
       "</tr>\n",
       "<tr>\n",
       "  <th>been_renovated</th> <td>-5.581e-07</td> <td> 1.59e-07</td> <td>   -3.513</td> <td> 0.000</td> <td>-8.69e-07</td> <td>-2.47e-07</td>\n",
       "</tr>\n",
       "<tr>\n",
       "  <th>lat</th>            <td> 1.437e+05</td> <td> 4.29e+04</td> <td>    3.352</td> <td> 0.001</td> <td> 5.97e+04</td> <td> 2.28e+05</td>\n",
       "</tr>\n",
       "<tr>\n",
       "  <th>long</th>           <td> -9.95e+04</td> <td> 4.07e+04</td> <td>   -2.446</td> <td> 0.014</td> <td>-1.79e+05</td> <td>-1.98e+04</td>\n",
       "</tr>\n",
       "<tr>\n",
       "  <th>zip_98001</th>      <td>-4.155e+05</td> <td> 7.26e+04</td> <td>   -5.727</td> <td> 0.000</td> <td>-5.58e+05</td> <td>-2.73e+05</td>\n",
       "</tr>\n",
       "<tr>\n",
       "  <th>zip_98002</th>      <td>-3.962e+05</td> <td> 7.04e+04</td> <td>   -5.628</td> <td> 0.000</td> <td>-5.34e+05</td> <td>-2.58e+05</td>\n",
       "</tr>\n",
       "<tr>\n",
       "  <th>zip_98003</th>      <td> -4.23e+05</td> <td> 7.41e+04</td> <td>   -5.710</td> <td> 0.000</td> <td>-5.68e+05</td> <td>-2.78e+05</td>\n",
       "</tr>\n",
       "<tr>\n",
       "  <th>zip_98004</th>      <td> 1.613e+05</td> <td> 7.28e+04</td> <td>    2.216</td> <td> 0.027</td> <td> 1.86e+04</td> <td> 3.04e+05</td>\n",
       "</tr>\n",
       "<tr>\n",
       "  <th>zip_98005</th>      <td>-1.157e+05</td> <td> 7.16e+04</td> <td>   -1.616</td> <td> 0.106</td> <td>-2.56e+05</td> <td> 2.47e+04</td>\n",
       "</tr>\n",
       "<tr>\n",
       "  <th>zip_98006</th>      <td>-1.672e+05</td> <td>    7e+04</td> <td>   -2.390</td> <td> 0.017</td> <td>-3.04e+05</td> <td>-3.01e+04</td>\n",
       "</tr>\n",
       "<tr>\n",
       "  <th>zip_98007</th>      <td>  -1.9e+05</td> <td> 7.07e+04</td> <td>   -2.688</td> <td> 0.007</td> <td>-3.28e+05</td> <td>-5.15e+04</td>\n",
       "</tr>\n",
       "<tr>\n",
       "  <th>zip_98008</th>      <td>-2.077e+05</td> <td> 6.96e+04</td> <td>   -2.986</td> <td> 0.003</td> <td>-3.44e+05</td> <td>-7.14e+04</td>\n",
       "</tr>\n",
       "<tr>\n",
       "  <th>zip_98010</th>      <td>-3.096e+05</td> <td> 6.34e+04</td> <td>   -4.885</td> <td> 0.000</td> <td>-4.34e+05</td> <td>-1.85e+05</td>\n",
       "</tr>\n",
       "<tr>\n",
       "  <th>zip_98011</th>      <td>-3.234e+05</td> <td> 7.48e+04</td> <td>   -4.324</td> <td> 0.000</td> <td> -4.7e+05</td> <td>-1.77e+05</td>\n",
       "</tr>\n",
       "<tr>\n",
       "  <th>zip_98014</th>      <td>-3.141e+05</td> <td> 6.42e+04</td> <td>   -4.895</td> <td> 0.000</td> <td> -4.4e+05</td> <td>-1.88e+05</td>\n",
       "</tr>\n",
       "<tr>\n",
       "  <th>zip_98019</th>      <td>-3.495e+05</td> <td> 6.65e+04</td> <td>   -5.260</td> <td> 0.000</td> <td> -4.8e+05</td> <td>-2.19e+05</td>\n",
       "</tr>\n",
       "<tr>\n",
       "  <th>zip_98022</th>      <td>-3.727e+05</td> <td> 6.16e+04</td> <td>   -6.053</td> <td> 0.000</td> <td>-4.93e+05</td> <td>-2.52e+05</td>\n",
       "</tr>\n",
       "<tr>\n",
       "  <th>zip_98023</th>      <td>-4.438e+05</td> <td> 7.61e+04</td> <td>   -5.831</td> <td> 0.000</td> <td>-5.93e+05</td> <td>-2.95e+05</td>\n",
       "</tr>\n",
       "<tr>\n",
       "  <th>zip_98024</th>      <td> -2.72e+05</td> <td> 6.26e+04</td> <td>   -4.347</td> <td> 0.000</td> <td>-3.95e+05</td> <td>-1.49e+05</td>\n",
       "</tr>\n",
       "<tr>\n",
       "  <th>zip_98027</th>      <td>-2.265e+05</td> <td> 6.59e+04</td> <td>   -3.438</td> <td> 0.001</td> <td>-3.56e+05</td> <td>-9.73e+04</td>\n",
       "</tr>\n",
       "<tr>\n",
       "  <th>zip_98028</th>      <td>-3.416e+05</td> <td> 7.63e+04</td> <td>   -4.478</td> <td> 0.000</td> <td>-4.91e+05</td> <td>-1.92e+05</td>\n",
       "</tr>\n",
       "<tr>\n",
       "  <th>zip_98029</th>      <td>-1.999e+05</td> <td> 6.47e+04</td> <td>   -3.087</td> <td> 0.002</td> <td>-3.27e+05</td> <td> -7.3e+04</td>\n",
       "</tr>\n",
       "<tr>\n",
       "  <th>zip_98030</th>      <td>-4.095e+05</td> <td> 6.98e+04</td> <td>   -5.866</td> <td> 0.000</td> <td>-5.46e+05</td> <td>-2.73e+05</td>\n",
       "</tr>\n",
       "<tr>\n",
       "  <th>zip_98031</th>      <td>-4.072e+05</td> <td>    7e+04</td> <td>   -5.815</td> <td> 0.000</td> <td>-5.44e+05</td> <td> -2.7e+05</td>\n",
       "</tr>\n",
       "<tr>\n",
       "  <th>zip_98032</th>      <td>-4.254e+05</td> <td> 7.35e+04</td> <td>   -5.788</td> <td> 0.000</td> <td> -5.7e+05</td> <td>-2.81e+05</td>\n",
       "</tr>\n",
       "<tr>\n",
       "  <th>zip_98033</th>      <td>  -1.1e+05</td> <td>  7.3e+04</td> <td>   -1.507</td> <td> 0.132</td> <td>-2.53e+05</td> <td>  3.3e+04</td>\n",
       "</tr>\n",
       "<tr>\n",
       "  <th>zip_98034</th>      <td>-2.784e+05</td> <td> 7.42e+04</td> <td>   -3.750</td> <td> 0.000</td> <td>-4.24e+05</td> <td>-1.33e+05</td>\n",
       "</tr>\n",
       "<tr>\n",
       "  <th>zip_98038</th>      <td> -3.63e+05</td> <td> 6.36e+04</td> <td>   -5.704</td> <td> 0.000</td> <td>-4.88e+05</td> <td>-2.38e+05</td>\n",
       "</tr>\n",
       "<tr>\n",
       "  <th>zip_98039</th>      <td> 3.349e+05</td> <td>  7.8e+04</td> <td>    4.296</td> <td> 0.000</td> <td> 1.82e+05</td> <td> 4.88e+05</td>\n",
       "</tr>\n",
       "<tr>\n",
       "  <th>zip_98040</th>      <td> 3.964e+04</td> <td>  7.3e+04</td> <td>    0.543</td> <td> 0.587</td> <td>-1.03e+05</td> <td> 1.83e+05</td>\n",
       "</tr>\n",
       "<tr>\n",
       "  <th>zip_98042</th>      <td>-4.018e+05</td> <td> 6.68e+04</td> <td>   -6.012</td> <td> 0.000</td> <td>-5.33e+05</td> <td>-2.71e+05</td>\n",
       "</tr>\n",
       "<tr>\n",
       "  <th>zip_98045</th>      <td> -3.03e+05</td> <td> 6.36e+04</td> <td>   -4.767</td> <td> 0.000</td> <td>-4.28e+05</td> <td>-1.78e+05</td>\n",
       "</tr>\n",
       "<tr>\n",
       "  <th>zip_98052</th>      <td>-1.995e+05</td> <td> 7.05e+04</td> <td>   -2.828</td> <td> 0.005</td> <td>-3.38e+05</td> <td>-6.12e+04</td>\n",
       "</tr>\n",
       "<tr>\n",
       "  <th>zip_98053</th>      <td>-2.109e+05</td> <td> 6.74e+04</td> <td>   -3.128</td> <td> 0.002</td> <td>-3.43e+05</td> <td>-7.87e+04</td>\n",
       "</tr>\n",
       "<tr>\n",
       "  <th>zip_98055</th>      <td>-3.852e+05</td> <td>  7.1e+04</td> <td>   -5.428</td> <td> 0.000</td> <td>-5.24e+05</td> <td>-2.46e+05</td>\n",
       "</tr>\n",
       "<tr>\n",
       "  <th>zip_98056</th>      <td>-3.342e+05</td> <td> 7.07e+04</td> <td>   -4.731</td> <td> 0.000</td> <td>-4.73e+05</td> <td>-1.96e+05</td>\n",
       "</tr>\n",
       "<tr>\n",
       "  <th>zip_98058</th>      <td>-3.908e+05</td> <td> 6.88e+04</td> <td>   -5.683</td> <td> 0.000</td> <td>-5.26e+05</td> <td>-2.56e+05</td>\n",
       "</tr>\n",
       "<tr>\n",
       "  <th>zip_98059</th>      <td>-3.266e+05</td> <td> 6.89e+04</td> <td>   -4.738</td> <td> 0.000</td> <td>-4.62e+05</td> <td>-1.91e+05</td>\n",
       "</tr>\n",
       "<tr>\n",
       "  <th>zip_98065</th>      <td>-2.788e+05</td> <td> 5.95e+04</td> <td>   -4.686</td> <td> 0.000</td> <td>-3.95e+05</td> <td>-1.62e+05</td>\n",
       "</tr>\n",
       "<tr>\n",
       "  <th>zip_98070</th>      <td>-3.357e+05</td> <td> 8.18e+04</td> <td>   -4.105</td> <td> 0.000</td> <td>-4.96e+05</td> <td>-1.75e+05</td>\n",
       "</tr>\n",
       "<tr>\n",
       "  <th>zip_98072</th>      <td>-2.922e+05</td> <td> 7.24e+04</td> <td>   -4.034</td> <td> 0.000</td> <td>-4.34e+05</td> <td> -1.5e+05</td>\n",
       "</tr>\n",
       "<tr>\n",
       "  <th>zip_98074</th>      <td>-2.283e+05</td> <td> 6.71e+04</td> <td>   -3.405</td> <td> 0.001</td> <td> -3.6e+05</td> <td>-9.69e+04</td>\n",
       "</tr>\n",
       "<tr>\n",
       "  <th>zip_98075</th>      <td>-2.051e+05</td> <td> 6.58e+04</td> <td>   -3.116</td> <td> 0.002</td> <td>-3.34e+05</td> <td>-7.61e+04</td>\n",
       "</tr>\n",
       "<tr>\n",
       "  <th>zip_98077</th>      <td>-3.025e+05</td> <td> 7.02e+04</td> <td>   -4.308</td> <td> 0.000</td> <td> -4.4e+05</td> <td>-1.65e+05</td>\n",
       "</tr>\n",
       "<tr>\n",
       "  <th>zip_98092</th>      <td>-4.283e+05</td> <td> 6.88e+04</td> <td>   -6.221</td> <td> 0.000</td> <td>-5.63e+05</td> <td>-2.93e+05</td>\n",
       "</tr>\n",
       "<tr>\n",
       "  <th>zip_98102</th>      <td>-1.946e+04</td> <td> 7.76e+04</td> <td>   -0.251</td> <td> 0.802</td> <td>-1.72e+05</td> <td> 1.33e+05</td>\n",
       "</tr>\n",
       "<tr>\n",
       "  <th>zip_98103</th>      <td> -1.51e+05</td> <td> 7.84e+04</td> <td>   -1.924</td> <td> 0.054</td> <td>-3.05e+05</td> <td> 2802.980</td>\n",
       "</tr>\n",
       "<tr>\n",
       "  <th>zip_98105</th>      <td>-3.908e+04</td> <td> 7.68e+04</td> <td>   -0.509</td> <td> 0.611</td> <td> -1.9e+05</td> <td> 1.11e+05</td>\n",
       "</tr>\n",
       "<tr>\n",
       "  <th>zip_98106</th>      <td>-3.274e+05</td> <td> 7.75e+04</td> <td>   -4.226</td> <td> 0.000</td> <td>-4.79e+05</td> <td>-1.76e+05</td>\n",
       "</tr>\n",
       "<tr>\n",
       "  <th>zip_98107</th>      <td>-1.551e+05</td> <td> 7.97e+04</td> <td>   -1.948</td> <td> 0.051</td> <td>-3.11e+05</td> <td>  980.157</td>\n",
       "</tr>\n",
       "<tr>\n",
       "  <th>zip_98108</th>      <td>-3.304e+05</td> <td> 7.58e+04</td> <td>   -4.357</td> <td> 0.000</td> <td>-4.79e+05</td> <td>-1.82e+05</td>\n",
       "</tr>\n",
       "<tr>\n",
       "  <th>zip_98109</th>      <td>-6225.4009</td> <td> 7.86e+04</td> <td>   -0.079</td> <td> 0.937</td> <td> -1.6e+05</td> <td> 1.48e+05</td>\n",
       "</tr>\n",
       "<tr>\n",
       "  <th>zip_98112</th>      <td> 6.353e+04</td> <td> 7.64e+04</td> <td>    0.832</td> <td> 0.405</td> <td>-8.62e+04</td> <td> 2.13e+05</td>\n",
       "</tr>\n",
       "<tr>\n",
       "  <th>zip_98115</th>      <td>-1.414e+05</td> <td> 7.71e+04</td> <td>   -1.835</td> <td> 0.067</td> <td>-2.92e+05</td> <td> 9677.471</td>\n",
       "</tr>\n",
       "<tr>\n",
       "  <th>zip_98116</th>      <td>-1.735e+05</td> <td> 7.92e+04</td> <td>   -2.192</td> <td> 0.028</td> <td>-3.29e+05</td> <td>-1.83e+04</td>\n",
       "</tr>\n",
       "<tr>\n",
       "  <th>zip_98117</th>      <td>-1.668e+05</td> <td> 7.98e+04</td> <td>   -2.089</td> <td> 0.037</td> <td>-3.23e+05</td> <td>-1.03e+04</td>\n",
       "</tr>\n",
       "<tr>\n",
       "  <th>zip_98118</th>      <td>-2.807e+05</td> <td> 7.44e+04</td> <td>   -3.772</td> <td> 0.000</td> <td>-4.27e+05</td> <td>-1.35e+05</td>\n",
       "</tr>\n",
       "<tr>\n",
       "  <th>zip_98119</th>      <td>-4.159e+04</td> <td> 7.91e+04</td> <td>   -0.526</td> <td> 0.599</td> <td>-1.97e+05</td> <td> 1.13e+05</td>\n",
       "</tr>\n",
       "<tr>\n",
       "  <th>zip_98122</th>      <td>-1.406e+05</td> <td> 7.61e+04</td> <td>   -1.847</td> <td> 0.065</td> <td> -2.9e+05</td> <td> 8643.836</td>\n",
       "</tr>\n",
       "<tr>\n",
       "  <th>zip_98125</th>      <td>-2.762e+05</td> <td> 7.76e+04</td> <td>   -3.559</td> <td> 0.000</td> <td>-4.28e+05</td> <td>-1.24e+05</td>\n",
       "</tr>\n",
       "<tr>\n",
       "  <th>zip_98126</th>      <td>  -2.7e+05</td> <td> 7.82e+04</td> <td>   -3.454</td> <td> 0.001</td> <td>-4.23e+05</td> <td>-1.17e+05</td>\n",
       "</tr>\n",
       "<tr>\n",
       "  <th>zip_98133</th>      <td>-3.273e+05</td> <td> 7.93e+04</td> <td>   -4.125</td> <td> 0.000</td> <td>-4.83e+05</td> <td>-1.72e+05</td>\n",
       "</tr>\n",
       "<tr>\n",
       "  <th>zip_98136</th>      <td>-2.082e+05</td> <td> 7.87e+04</td> <td>   -2.646</td> <td> 0.008</td> <td>-3.62e+05</td> <td> -5.4e+04</td>\n",
       "</tr>\n",
       "<tr>\n",
       "  <th>zip_98144</th>      <td>-2.149e+05</td> <td> 7.58e+04</td> <td>   -2.835</td> <td> 0.005</td> <td>-3.63e+05</td> <td>-6.63e+04</td>\n",
       "</tr>\n",
       "<tr>\n",
       "  <th>zip_98146</th>      <td>-3.449e+05</td> <td> 7.72e+04</td> <td>   -4.467</td> <td> 0.000</td> <td>-4.96e+05</td> <td>-1.94e+05</td>\n",
       "</tr>\n",
       "<tr>\n",
       "  <th>zip_98148</th>      <td>-3.849e+05</td> <td> 7.65e+04</td> <td>   -5.029</td> <td> 0.000</td> <td>-5.35e+05</td> <td>-2.35e+05</td>\n",
       "</tr>\n",
       "<tr>\n",
       "  <th>zip_98155</th>      <td>-3.409e+05</td> <td> 7.83e+04</td> <td>   -4.356</td> <td> 0.000</td> <td>-4.94e+05</td> <td>-1.87e+05</td>\n",
       "</tr>\n",
       "<tr>\n",
       "  <th>zip_98166</th>      <td> -3.49e+05</td> <td> 7.66e+04</td> <td>   -4.556</td> <td> 0.000</td> <td>-4.99e+05</td> <td>-1.99e+05</td>\n",
       "</tr>\n",
       "<tr>\n",
       "  <th>zip_98168</th>      <td>-3.876e+05</td> <td> 7.53e+04</td> <td>   -5.150</td> <td> 0.000</td> <td>-5.35e+05</td> <td> -2.4e+05</td>\n",
       "</tr>\n",
       "<tr>\n",
       "  <th>zip_98177</th>      <td>-2.769e+05</td> <td> 8.05e+04</td> <td>   -3.442</td> <td> 0.001</td> <td>-4.35e+05</td> <td>-1.19e+05</td>\n",
       "</tr>\n",
       "<tr>\n",
       "  <th>zip_98178</th>      <td>-3.846e+05</td> <td>  7.3e+04</td> <td>   -5.266</td> <td> 0.000</td> <td>-5.28e+05</td> <td>-2.41e+05</td>\n",
       "</tr>\n",
       "<tr>\n",
       "  <th>zip_98188</th>      <td>-3.985e+05</td> <td> 7.41e+04</td> <td>   -5.377</td> <td> 0.000</td> <td>-5.44e+05</td> <td>-2.53e+05</td>\n",
       "</tr>\n",
       "<tr>\n",
       "  <th>zip_98198</th>      <td>-4.055e+05</td> <td> 7.48e+04</td> <td>   -5.424</td> <td> 0.000</td> <td>-5.52e+05</td> <td>-2.59e+05</td>\n",
       "</tr>\n",
       "<tr>\n",
       "  <th>zip_98199</th>      <td>-1.048e+05</td> <td> 8.02e+04</td> <td>   -1.307</td> <td> 0.191</td> <td>-2.62e+05</td> <td> 5.24e+04</td>\n",
       "</tr>\n",
       "</table>\n",
       "<table class=\"simpletable\">\n",
       "<tr>\n",
       "  <th>Omnibus:</th>       <td>4272.719</td> <th>  Durbin-Watson:     </th> <td>   1.981</td> \n",
       "</tr>\n",
       "<tr>\n",
       "  <th>Prob(Omnibus):</th>  <td> 0.000</td>  <th>  Jarque-Bera (JB):  </th> <td>26581.106</td>\n",
       "</tr>\n",
       "<tr>\n",
       "  <th>Skew:</th>           <td> 0.970</td>  <th>  Prob(JB):          </th> <td>    0.00</td> \n",
       "</tr>\n",
       "<tr>\n",
       "  <th>Kurtosis:</th>       <td> 8.558</td>  <th>  Cond. No.          </th> <td>1.23e+20</td> \n",
       "</tr>\n",
       "</table><br/><br/>Notes:<br/>[1] Standard Errors assume that the covariance matrix of the errors is correctly specified.<br/>[2] The smallest eigenvalue is 2.84e-28. This might indicate that there are<br/>strong multicollinearity problems or that the design matrix is singular."
      ],
      "text/plain": [
       "<class 'statsmodels.iolib.summary.Summary'>\n",
       "\"\"\"\n",
       "                            OLS Regression Results                            \n",
       "==============================================================================\n",
       "Dep. Variable:                  price   R-squared:                       0.831\n",
       "Model:                            OLS   Adj. R-squared:                  0.830\n",
       "Method:                 Least Squares   F-statistic:                     1112.\n",
       "Date:                Mon, 11 Jan 2021   Prob (F-statistic):               0.00\n",
       "Time:                        15:11:57   Log-Likelihood:            -2.3724e+05\n",
       "No. Observations:               18407   AIC:                         4.746e+05\n",
       "Df Residuals:                   18325   BIC:                         4.753e+05\n",
       "Df Model:                          81                                         \n",
       "Covariance Type:            nonrobust                                         \n",
       "==================================================================================\n",
       "                     coef    std err          t      P>|t|      [0.025      0.975]\n",
       "----------------------------------------------------------------------------------\n",
       "Intercept      -1.773e+07   5.05e+06     -3.515      0.000   -2.76e+07   -7.84e+06\n",
       "bedrooms       -5782.3364   1110.688     -5.206      0.000   -7959.389   -3605.284\n",
       "bathrooms       1.662e+04   1813.442      9.167      0.000    1.31e+04    2.02e+04\n",
       "sqft_living      145.3012      2.052     70.809      0.000     141.279     149.323\n",
       "sqft_lot           0.7772      0.073     10.686      0.000       0.635       0.920\n",
       "floors          -1.75e+04   1834.901     -9.536      0.000   -2.11e+04   -1.39e+04\n",
       "waterfront      -3.23e-06   9.19e-07     -3.514      0.000   -5.03e-06   -1.43e-06\n",
       "view             3.81e+04   1842.903     20.672      0.000    3.45e+04    4.17e+04\n",
       "condition       2.321e+04   1258.704     18.438      0.000    2.07e+04    2.57e+04\n",
       "grade             5.2e+04   1213.127     42.863      0.000    4.96e+04    5.44e+04\n",
       "sqft_basement    -59.2228      2.552    -23.207      0.000     -64.225     -54.221\n",
       "yr_built        -635.8370     41.330    -15.384      0.000    -716.847    -554.827\n",
       "been_renovated -5.581e-07   1.59e-07     -3.513      0.000   -8.69e-07   -2.47e-07\n",
       "lat             1.437e+05   4.29e+04      3.352      0.001    5.97e+04    2.28e+05\n",
       "long            -9.95e+04   4.07e+04     -2.446      0.014   -1.79e+05   -1.98e+04\n",
       "zip_98001      -4.155e+05   7.26e+04     -5.727      0.000   -5.58e+05   -2.73e+05\n",
       "zip_98002      -3.962e+05   7.04e+04     -5.628      0.000   -5.34e+05   -2.58e+05\n",
       "zip_98003       -4.23e+05   7.41e+04     -5.710      0.000   -5.68e+05   -2.78e+05\n",
       "zip_98004       1.613e+05   7.28e+04      2.216      0.027    1.86e+04    3.04e+05\n",
       "zip_98005      -1.157e+05   7.16e+04     -1.616      0.106   -2.56e+05    2.47e+04\n",
       "zip_98006      -1.672e+05      7e+04     -2.390      0.017   -3.04e+05   -3.01e+04\n",
       "zip_98007        -1.9e+05   7.07e+04     -2.688      0.007   -3.28e+05   -5.15e+04\n",
       "zip_98008      -2.077e+05   6.96e+04     -2.986      0.003   -3.44e+05   -7.14e+04\n",
       "zip_98010      -3.096e+05   6.34e+04     -4.885      0.000   -4.34e+05   -1.85e+05\n",
       "zip_98011      -3.234e+05   7.48e+04     -4.324      0.000    -4.7e+05   -1.77e+05\n",
       "zip_98014      -3.141e+05   6.42e+04     -4.895      0.000    -4.4e+05   -1.88e+05\n",
       "zip_98019      -3.495e+05   6.65e+04     -5.260      0.000    -4.8e+05   -2.19e+05\n",
       "zip_98022      -3.727e+05   6.16e+04     -6.053      0.000   -4.93e+05   -2.52e+05\n",
       "zip_98023      -4.438e+05   7.61e+04     -5.831      0.000   -5.93e+05   -2.95e+05\n",
       "zip_98024       -2.72e+05   6.26e+04     -4.347      0.000   -3.95e+05   -1.49e+05\n",
       "zip_98027      -2.265e+05   6.59e+04     -3.438      0.001   -3.56e+05   -9.73e+04\n",
       "zip_98028      -3.416e+05   7.63e+04     -4.478      0.000   -4.91e+05   -1.92e+05\n",
       "zip_98029      -1.999e+05   6.47e+04     -3.087      0.002   -3.27e+05    -7.3e+04\n",
       "zip_98030      -4.095e+05   6.98e+04     -5.866      0.000   -5.46e+05   -2.73e+05\n",
       "zip_98031      -4.072e+05      7e+04     -5.815      0.000   -5.44e+05    -2.7e+05\n",
       "zip_98032      -4.254e+05   7.35e+04     -5.788      0.000    -5.7e+05   -2.81e+05\n",
       "zip_98033        -1.1e+05    7.3e+04     -1.507      0.132   -2.53e+05     3.3e+04\n",
       "zip_98034      -2.784e+05   7.42e+04     -3.750      0.000   -4.24e+05   -1.33e+05\n",
       "zip_98038       -3.63e+05   6.36e+04     -5.704      0.000   -4.88e+05   -2.38e+05\n",
       "zip_98039       3.349e+05    7.8e+04      4.296      0.000    1.82e+05    4.88e+05\n",
       "zip_98040       3.964e+04    7.3e+04      0.543      0.587   -1.03e+05    1.83e+05\n",
       "zip_98042      -4.018e+05   6.68e+04     -6.012      0.000   -5.33e+05   -2.71e+05\n",
       "zip_98045       -3.03e+05   6.36e+04     -4.767      0.000   -4.28e+05   -1.78e+05\n",
       "zip_98052      -1.995e+05   7.05e+04     -2.828      0.005   -3.38e+05   -6.12e+04\n",
       "zip_98053      -2.109e+05   6.74e+04     -3.128      0.002   -3.43e+05   -7.87e+04\n",
       "zip_98055      -3.852e+05    7.1e+04     -5.428      0.000   -5.24e+05   -2.46e+05\n",
       "zip_98056      -3.342e+05   7.07e+04     -4.731      0.000   -4.73e+05   -1.96e+05\n",
       "zip_98058      -3.908e+05   6.88e+04     -5.683      0.000   -5.26e+05   -2.56e+05\n",
       "zip_98059      -3.266e+05   6.89e+04     -4.738      0.000   -4.62e+05   -1.91e+05\n",
       "zip_98065      -2.788e+05   5.95e+04     -4.686      0.000   -3.95e+05   -1.62e+05\n",
       "zip_98070      -3.357e+05   8.18e+04     -4.105      0.000   -4.96e+05   -1.75e+05\n",
       "zip_98072      -2.922e+05   7.24e+04     -4.034      0.000   -4.34e+05    -1.5e+05\n",
       "zip_98074      -2.283e+05   6.71e+04     -3.405      0.001    -3.6e+05   -9.69e+04\n",
       "zip_98075      -2.051e+05   6.58e+04     -3.116      0.002   -3.34e+05   -7.61e+04\n",
       "zip_98077      -3.025e+05   7.02e+04     -4.308      0.000    -4.4e+05   -1.65e+05\n",
       "zip_98092      -4.283e+05   6.88e+04     -6.221      0.000   -5.63e+05   -2.93e+05\n",
       "zip_98102      -1.946e+04   7.76e+04     -0.251      0.802   -1.72e+05    1.33e+05\n",
       "zip_98103       -1.51e+05   7.84e+04     -1.924      0.054   -3.05e+05    2802.980\n",
       "zip_98105      -3.908e+04   7.68e+04     -0.509      0.611    -1.9e+05    1.11e+05\n",
       "zip_98106      -3.274e+05   7.75e+04     -4.226      0.000   -4.79e+05   -1.76e+05\n",
       "zip_98107      -1.551e+05   7.97e+04     -1.948      0.051   -3.11e+05     980.157\n",
       "zip_98108      -3.304e+05   7.58e+04     -4.357      0.000   -4.79e+05   -1.82e+05\n",
       "zip_98109      -6225.4009   7.86e+04     -0.079      0.937    -1.6e+05    1.48e+05\n",
       "zip_98112       6.353e+04   7.64e+04      0.832      0.405   -8.62e+04    2.13e+05\n",
       "zip_98115      -1.414e+05   7.71e+04     -1.835      0.067   -2.92e+05    9677.471\n",
       "zip_98116      -1.735e+05   7.92e+04     -2.192      0.028   -3.29e+05   -1.83e+04\n",
       "zip_98117      -1.668e+05   7.98e+04     -2.089      0.037   -3.23e+05   -1.03e+04\n",
       "zip_98118      -2.807e+05   7.44e+04     -3.772      0.000   -4.27e+05   -1.35e+05\n",
       "zip_98119      -4.159e+04   7.91e+04     -0.526      0.599   -1.97e+05    1.13e+05\n",
       "zip_98122      -1.406e+05   7.61e+04     -1.847      0.065    -2.9e+05    8643.836\n",
       "zip_98125      -2.762e+05   7.76e+04     -3.559      0.000   -4.28e+05   -1.24e+05\n",
       "zip_98126        -2.7e+05   7.82e+04     -3.454      0.001   -4.23e+05   -1.17e+05\n",
       "zip_98133      -3.273e+05   7.93e+04     -4.125      0.000   -4.83e+05   -1.72e+05\n",
       "zip_98136      -2.082e+05   7.87e+04     -2.646      0.008   -3.62e+05    -5.4e+04\n",
       "zip_98144      -2.149e+05   7.58e+04     -2.835      0.005   -3.63e+05   -6.63e+04\n",
       "zip_98146      -3.449e+05   7.72e+04     -4.467      0.000   -4.96e+05   -1.94e+05\n",
       "zip_98148      -3.849e+05   7.65e+04     -5.029      0.000   -5.35e+05   -2.35e+05\n",
       "zip_98155      -3.409e+05   7.83e+04     -4.356      0.000   -4.94e+05   -1.87e+05\n",
       "zip_98166       -3.49e+05   7.66e+04     -4.556      0.000   -4.99e+05   -1.99e+05\n",
       "zip_98168      -3.876e+05   7.53e+04     -5.150      0.000   -5.35e+05    -2.4e+05\n",
       "zip_98177      -2.769e+05   8.05e+04     -3.442      0.001   -4.35e+05   -1.19e+05\n",
       "zip_98178      -3.846e+05    7.3e+04     -5.266      0.000   -5.28e+05   -2.41e+05\n",
       "zip_98188      -3.985e+05   7.41e+04     -5.377      0.000   -5.44e+05   -2.53e+05\n",
       "zip_98198      -4.055e+05   7.48e+04     -5.424      0.000   -5.52e+05   -2.59e+05\n",
       "zip_98199      -1.048e+05   8.02e+04     -1.307      0.191   -2.62e+05    5.24e+04\n",
       "==============================================================================\n",
       "Omnibus:                     4272.719   Durbin-Watson:                   1.981\n",
       "Prob(Omnibus):                  0.000   Jarque-Bera (JB):            26581.106\n",
       "Skew:                           0.970   Prob(JB):                         0.00\n",
       "Kurtosis:                       8.558   Cond. No.                     1.23e+20\n",
       "==============================================================================\n",
       "\n",
       "Notes:\n",
       "[1] Standard Errors assume that the covariance matrix of the errors is correctly specified.\n",
       "[2] The smallest eigenvalue is 2.84e-28. This might indicate that there are\n",
       "strong multicollinearity problems or that the design matrix is singular.\n",
       "\"\"\""
      ]
     },
     "execution_count": 92,
     "metadata": {},
     "output_type": "execute_result"
    }
   ],
   "source": [
    "modelz = ols(formula=f,data = dfzip2).fit()\n",
    "modelz.summary()"
   ]
  },
  {
   "cell_type": "markdown",
   "metadata": {},
   "source": [
    "From our original dataframe without dropping any rows:\n",
    "\n",
    "\n",
    "Mean Price of a home is $540,297\n",
    "\n",
    "Stan Dev of a home is $367,368"
   ]
  },
  {
   "cell_type": "markdown",
   "metadata": {},
   "source": [
    "## Model with log of continuous values "
   ]
  },
  {
   "cell_type": "code",
   "execution_count": 93,
   "metadata": {
    "ExecuteTime": {
     "end_time": "2021-01-11T20:12:06.083792Z",
     "start_time": "2021-01-11T20:12:06.079773Z"
    }
   },
   "outputs": [],
   "source": [
    "def normalize(x):\n",
    "    return(x - np.mean(x))/ (max(x) - min(x))"
   ]
  },
  {
   "cell_type": "code",
   "execution_count": 94,
   "metadata": {
    "ExecuteTime": {
     "end_time": "2021-01-11T20:12:07.890991Z",
     "start_time": "2021-01-11T20:12:07.887015Z"
    }
   },
   "outputs": [
    {
     "data": {
      "text/plain": [
       "Index(['id', 'date', 'price', 'bedrooms', 'bathrooms', 'sqft_living',\n",
       "       'sqft_lot', 'floors', 'waterfront', 'view', 'condition', 'grade',\n",
       "       'sqft_basement', 'yr_built', 'been_renovated', 'zipcode', 'lat', 'long',\n",
       "       'sqft_living15', 'sqft_lot15', 'month'],\n",
       "      dtype='object')"
      ]
     },
     "execution_count": 94,
     "metadata": {},
     "output_type": "execute_result"
    }
   ],
   "source": [
    "df_zscore.columns"
   ]
  },
  {
   "cell_type": "code",
   "execution_count": 95,
   "metadata": {
    "ExecuteTime": {
     "end_time": "2021-01-11T20:12:27.871527Z",
     "start_time": "2021-01-11T20:12:27.864577Z"
    }
   },
   "outputs": [],
   "source": [
    "dflog = df_zscore.drop('date',axis=1)\n",
    "dflog['log_sqft_living'] = np.log(dflog['sqft_living'])\n"
   ]
  },
  {
   "cell_type": "code",
   "execution_count": 100,
   "metadata": {
    "ExecuteTime": {
     "end_time": "2021-01-11T20:15:50.859453Z",
     "start_time": "2021-01-11T20:15:50.840503Z"
    }
   },
   "outputs": [
    {
     "data": {
      "text/html": [
       "<div>\n",
       "<style scoped>\n",
       "    .dataframe tbody tr th:only-of-type {\n",
       "        vertical-align: middle;\n",
       "    }\n",
       "\n",
       "    .dataframe tbody tr th {\n",
       "        vertical-align: top;\n",
       "    }\n",
       "\n",
       "    .dataframe thead th {\n",
       "        text-align: right;\n",
       "    }\n",
       "</style>\n",
       "<table border=\"1\" class=\"dataframe\">\n",
       "  <thead>\n",
       "    <tr style=\"text-align: right;\">\n",
       "      <th></th>\n",
       "      <th>id</th>\n",
       "      <th>price</th>\n",
       "      <th>bedrooms</th>\n",
       "      <th>bathrooms</th>\n",
       "      <th>sqft_living</th>\n",
       "      <th>sqft_lot</th>\n",
       "      <th>floors</th>\n",
       "      <th>waterfront</th>\n",
       "      <th>view</th>\n",
       "      <th>condition</th>\n",
       "      <th>grade</th>\n",
       "      <th>sqft_basement</th>\n",
       "      <th>yr_built</th>\n",
       "      <th>been_renovated</th>\n",
       "      <th>zipcode</th>\n",
       "      <th>lat</th>\n",
       "      <th>long</th>\n",
       "      <th>sqft_living15</th>\n",
       "      <th>sqft_lot15</th>\n",
       "      <th>month</th>\n",
       "      <th>log_sqft_living</th>\n",
       "      <th>log_sqft_basement</th>\n",
       "      <th>log_sqft_lot</th>\n",
       "      <th>log_sqft_lot15</th>\n",
       "      <th>log_sqft_living15</th>\n",
       "    </tr>\n",
       "  </thead>\n",
       "  <tbody>\n",
       "    <tr>\n",
       "      <th>0</th>\n",
       "      <td>7129300520</td>\n",
       "      <td>221900.0</td>\n",
       "      <td>3</td>\n",
       "      <td>1.00</td>\n",
       "      <td>1180</td>\n",
       "      <td>5650</td>\n",
       "      <td>1</td>\n",
       "      <td>0.0</td>\n",
       "      <td>0.0</td>\n",
       "      <td>3</td>\n",
       "      <td>7</td>\n",
       "      <td>0</td>\n",
       "      <td>1955</td>\n",
       "      <td>0.0</td>\n",
       "      <td>98178</td>\n",
       "      <td>47.5112</td>\n",
       "      <td>-122.257</td>\n",
       "      <td>1340</td>\n",
       "      <td>5650</td>\n",
       "      <td>10</td>\n",
       "      <td>7.073270</td>\n",
       "      <td>0.000000</td>\n",
       "      <td>8.639411</td>\n",
       "      <td>8.639411</td>\n",
       "      <td>7.200425</td>\n",
       "    </tr>\n",
       "    <tr>\n",
       "      <th>2</th>\n",
       "      <td>5631500400</td>\n",
       "      <td>180000.0</td>\n",
       "      <td>2</td>\n",
       "      <td>1.00</td>\n",
       "      <td>770</td>\n",
       "      <td>10000</td>\n",
       "      <td>1</td>\n",
       "      <td>0.0</td>\n",
       "      <td>0.0</td>\n",
       "      <td>3</td>\n",
       "      <td>6</td>\n",
       "      <td>0</td>\n",
       "      <td>1933</td>\n",
       "      <td>0.0</td>\n",
       "      <td>98028</td>\n",
       "      <td>47.7379</td>\n",
       "      <td>-122.233</td>\n",
       "      <td>2720</td>\n",
       "      <td>8062</td>\n",
       "      <td>2</td>\n",
       "      <td>6.646391</td>\n",
       "      <td>0.000000</td>\n",
       "      <td>9.210340</td>\n",
       "      <td>8.994917</td>\n",
       "      <td>7.908387</td>\n",
       "    </tr>\n",
       "    <tr>\n",
       "      <th>3</th>\n",
       "      <td>2487200875</td>\n",
       "      <td>604000.0</td>\n",
       "      <td>4</td>\n",
       "      <td>3.00</td>\n",
       "      <td>1960</td>\n",
       "      <td>5000</td>\n",
       "      <td>1</td>\n",
       "      <td>0.0</td>\n",
       "      <td>0.0</td>\n",
       "      <td>5</td>\n",
       "      <td>7</td>\n",
       "      <td>910</td>\n",
       "      <td>1965</td>\n",
       "      <td>0.0</td>\n",
       "      <td>98136</td>\n",
       "      <td>47.5208</td>\n",
       "      <td>-122.393</td>\n",
       "      <td>1360</td>\n",
       "      <td>5000</td>\n",
       "      <td>12</td>\n",
       "      <td>7.580700</td>\n",
       "      <td>6.813445</td>\n",
       "      <td>8.517193</td>\n",
       "      <td>8.517193</td>\n",
       "      <td>7.215240</td>\n",
       "    </tr>\n",
       "    <tr>\n",
       "      <th>4</th>\n",
       "      <td>1954400510</td>\n",
       "      <td>510000.0</td>\n",
       "      <td>3</td>\n",
       "      <td>2.00</td>\n",
       "      <td>1680</td>\n",
       "      <td>8080</td>\n",
       "      <td>1</td>\n",
       "      <td>0.0</td>\n",
       "      <td>0.0</td>\n",
       "      <td>3</td>\n",
       "      <td>8</td>\n",
       "      <td>0</td>\n",
       "      <td>1987</td>\n",
       "      <td>0.0</td>\n",
       "      <td>98074</td>\n",
       "      <td>47.6168</td>\n",
       "      <td>-122.045</td>\n",
       "      <td>1800</td>\n",
       "      <td>7503</td>\n",
       "      <td>2</td>\n",
       "      <td>7.426549</td>\n",
       "      <td>0.000000</td>\n",
       "      <td>8.997147</td>\n",
       "      <td>8.923058</td>\n",
       "      <td>7.495542</td>\n",
       "    </tr>\n",
       "    <tr>\n",
       "      <th>6</th>\n",
       "      <td>1321400060</td>\n",
       "      <td>257500.0</td>\n",
       "      <td>3</td>\n",
       "      <td>2.25</td>\n",
       "      <td>1715</td>\n",
       "      <td>6819</td>\n",
       "      <td>2</td>\n",
       "      <td>0.0</td>\n",
       "      <td>0.0</td>\n",
       "      <td>3</td>\n",
       "      <td>7</td>\n",
       "      <td>0</td>\n",
       "      <td>1995</td>\n",
       "      <td>0.0</td>\n",
       "      <td>98003</td>\n",
       "      <td>47.3097</td>\n",
       "      <td>-122.327</td>\n",
       "      <td>2238</td>\n",
       "      <td>6819</td>\n",
       "      <td>6</td>\n",
       "      <td>7.447168</td>\n",
       "      <td>0.000000</td>\n",
       "      <td>8.827468</td>\n",
       "      <td>8.827468</td>\n",
       "      <td>7.713338</td>\n",
       "    </tr>\n",
       "  </tbody>\n",
       "</table>\n",
       "</div>"
      ],
      "text/plain": [
       "           id     price  bedrooms  bathrooms  sqft_living  sqft_lot  floors  \\\n",
       "0  7129300520  221900.0         3       1.00         1180      5650       1   \n",
       "2  5631500400  180000.0         2       1.00          770     10000       1   \n",
       "3  2487200875  604000.0         4       3.00         1960      5000       1   \n",
       "4  1954400510  510000.0         3       2.00         1680      8080       1   \n",
       "6  1321400060  257500.0         3       2.25         1715      6819       2   \n",
       "\n",
       "   waterfront  view  condition  grade  sqft_basement  yr_built  \\\n",
       "0         0.0   0.0          3      7              0      1955   \n",
       "2         0.0   0.0          3      6              0      1933   \n",
       "3         0.0   0.0          5      7            910      1965   \n",
       "4         0.0   0.0          3      8              0      1987   \n",
       "6         0.0   0.0          3      7              0      1995   \n",
       "\n",
       "   been_renovated  zipcode      lat     long  sqft_living15  sqft_lot15  \\\n",
       "0             0.0    98178  47.5112 -122.257           1340        5650   \n",
       "2             0.0    98028  47.7379 -122.233           2720        8062   \n",
       "3             0.0    98136  47.5208 -122.393           1360        5000   \n",
       "4             0.0    98074  47.6168 -122.045           1800        7503   \n",
       "6             0.0    98003  47.3097 -122.327           2238        6819   \n",
       "\n",
       "   month  log_sqft_living  log_sqft_basement  log_sqft_lot  log_sqft_lot15  \\\n",
       "0     10         7.073270           0.000000      8.639411        8.639411   \n",
       "2      2         6.646391           0.000000      9.210340        8.994917   \n",
       "3     12         7.580700           6.813445      8.517193        8.517193   \n",
       "4      2         7.426549           0.000000      8.997147        8.923058   \n",
       "6      6         7.447168           0.000000      8.827468        8.827468   \n",
       "\n",
       "   log_sqft_living15  \n",
       "0           7.200425  \n",
       "2           7.908387  \n",
       "3           7.215240  \n",
       "4           7.495542  \n",
       "6           7.713338  "
      ]
     },
     "execution_count": 100,
     "metadata": {},
     "output_type": "execute_result"
    }
   ],
   "source": [
    "dflog.head()"
   ]
  },
  {
   "cell_type": "code",
   "execution_count": 99,
   "metadata": {
    "ExecuteTime": {
     "end_time": "2021-01-11T20:15:32.383296Z",
     "start_time": "2021-01-11T20:15:32.376313Z"
    }
   },
   "outputs": [],
   "source": [
    "dflog['log_sqft_living'] = np.log(dflog['sqft_living'])\n",
    "dflog['log_sqft_lot'] = np.log(dflog['sqft_lot'])\n",
    "dflog['log_sqft_lot15'] = np.log(dflog['sqft_lot15'])\n",
    "dflog['log_sqft_living15'] = np.log(dflog['sqft_living15'])\n",
    "dflog['log_sqft_basement'] = dflog['sqft_basement'].apply(lambda x: np.log(x) if x != 0 else x)\n"
   ]
  },
  {
   "cell_type": "code",
   "execution_count": 101,
   "metadata": {
    "ExecuteTime": {
     "end_time": "2021-01-11T20:16:06.714843Z",
     "start_time": "2021-01-11T20:16:06.704871Z"
    }
   },
   "outputs": [],
   "source": [
    "outcome = 'price'\n",
    "x_cols = dflog.drop(['price', 'id','month','sqft_living15','sqft_lot15','sqft_living','sqft_basement','sqft_lot'],\n",
    "                     axis = 1).columns\n",
    "\n",
    "predictors = '+'.join(x_cols)\n",
    "\n",
    "f = outcome + '~' + predictors"
   ]
  },
  {
   "cell_type": "code",
   "execution_count": 102,
   "metadata": {
    "ExecuteTime": {
     "end_time": "2021-01-11T20:16:08.649018Z",
     "start_time": "2021-01-11T20:16:08.587187Z"
    }
   },
   "outputs": [
    {
     "data": {
      "text/html": [
       "<table class=\"simpletable\">\n",
       "<caption>OLS Regression Results</caption>\n",
       "<tr>\n",
       "  <th>Dep. Variable:</th>          <td>price</td>      <th>  R-squared:         </th>  <td>   0.668</td>  \n",
       "</tr>\n",
       "<tr>\n",
       "  <th>Model:</th>                   <td>OLS</td>       <th>  Adj. R-squared:    </th>  <td>   0.668</td>  \n",
       "</tr>\n",
       "<tr>\n",
       "  <th>Method:</th>             <td>Least Squares</td>  <th>  F-statistic:       </th>  <td>   2469.</td>  \n",
       "</tr>\n",
       "<tr>\n",
       "  <th>Date:</th>             <td>Mon, 11 Jan 2021</td> <th>  Prob (F-statistic):</th>   <td>  0.00</td>   \n",
       "</tr>\n",
       "<tr>\n",
       "  <th>Time:</th>                 <td>15:16:08</td>     <th>  Log-Likelihood:    </th> <td>-2.4345e+05</td>\n",
       "</tr>\n",
       "<tr>\n",
       "  <th>No. Observations:</th>      <td> 18407</td>      <th>  AIC:               </th>  <td>4.869e+05</td> \n",
       "</tr>\n",
       "<tr>\n",
       "  <th>Df Residuals:</th>          <td> 18391</td>      <th>  BIC:               </th>  <td>4.871e+05</td> \n",
       "</tr>\n",
       "<tr>\n",
       "  <th>Df Model:</th>              <td>    15</td>      <th>                     </th>      <td> </td>     \n",
       "</tr>\n",
       "<tr>\n",
       "  <th>Covariance Type:</th>      <td>nonrobust</td>    <th>                     </th>      <td> </td>     \n",
       "</tr>\n",
       "</table>\n",
       "<table class=\"simpletable\">\n",
       "<tr>\n",
       "          <td></td>             <th>coef</th>     <th>std err</th>      <th>t</th>      <th>P>|t|</th>  <th>[0.025</th>    <th>0.975]</th>  \n",
       "</tr>\n",
       "<tr>\n",
       "  <th>Intercept</th>         <td> -6.85e+05</td> <td>  2.2e+06</td> <td>   -0.312</td> <td> 0.755</td> <td>-4.99e+06</td> <td> 3.62e+06</td>\n",
       "</tr>\n",
       "<tr>\n",
       "  <th>bedrooms</th>          <td>-9793.0964</td> <td> 1569.138</td> <td>   -6.241</td> <td> 0.000</td> <td>-1.29e+04</td> <td>-6717.440</td>\n",
       "</tr>\n",
       "<tr>\n",
       "  <th>bathrooms</th>         <td> 3.225e+04</td> <td> 2552.184</td> <td>   12.636</td> <td> 0.000</td> <td> 2.72e+04</td> <td> 3.73e+04</td>\n",
       "</tr>\n",
       "<tr>\n",
       "  <th>floors</th>            <td> 1.927e+04</td> <td> 2560.895</td> <td>    7.524</td> <td> 0.000</td> <td> 1.42e+04</td> <td> 2.43e+04</td>\n",
       "</tr>\n",
       "<tr>\n",
       "  <th>waterfront</th>        <td> 1.773e-08</td> <td> 5.72e-08</td> <td>    0.310</td> <td> 0.756</td> <td>-9.43e-08</td> <td>  1.3e-07</td>\n",
       "</tr>\n",
       "<tr>\n",
       "  <th>view</th>              <td> 3.965e+04</td> <td> 2550.388</td> <td>   15.546</td> <td> 0.000</td> <td> 3.46e+04</td> <td> 4.46e+04</td>\n",
       "</tr>\n",
       "<tr>\n",
       "  <th>condition</th>         <td> 2.643e+04</td> <td> 1717.082</td> <td>   15.395</td> <td> 0.000</td> <td> 2.31e+04</td> <td> 2.98e+04</td>\n",
       "</tr>\n",
       "<tr>\n",
       "  <th>grade</th>             <td> 9.725e+04</td> <td> 1587.358</td> <td>   61.266</td> <td> 0.000</td> <td> 9.41e+04</td> <td>    1e+05</td>\n",
       "</tr>\n",
       "<tr>\n",
       "  <th>yr_built</th>          <td>-2298.6638</td> <td>   53.024</td> <td>  -43.351</td> <td> 0.000</td> <td>-2402.596</td> <td>-2194.731</td>\n",
       "</tr>\n",
       "<tr>\n",
       "  <th>been_renovated</th>    <td> 5.039e-09</td> <td> 1.58e-08</td> <td>    0.320</td> <td> 0.749</td> <td>-2.59e-08</td> <td> 3.59e-08</td>\n",
       "</tr>\n",
       "<tr>\n",
       "  <th>zipcode</th>           <td> -310.6523</td> <td>   24.143</td> <td>  -12.867</td> <td> 0.000</td> <td> -357.975</td> <td> -263.329</td>\n",
       "</tr>\n",
       "<tr>\n",
       "  <th>lat</th>               <td> 5.573e+05</td> <td> 7718.504</td> <td>   72.209</td> <td> 0.000</td> <td> 5.42e+05</td> <td> 5.72e+05</td>\n",
       "</tr>\n",
       "<tr>\n",
       "  <th>long</th>              <td>-5.834e+04</td> <td> 1.08e+04</td> <td>   -5.403</td> <td> 0.000</td> <td>-7.95e+04</td> <td>-3.72e+04</td>\n",
       "</tr>\n",
       "<tr>\n",
       "  <th>log_sqft_living</th>   <td> 1.468e+05</td> <td> 5917.359</td> <td>   24.816</td> <td> 0.000</td> <td> 1.35e+05</td> <td> 1.58e+05</td>\n",
       "</tr>\n",
       "<tr>\n",
       "  <th>log_sqft_basement</th> <td> -644.6573</td> <td>  414.783</td> <td>   -1.554</td> <td> 0.120</td> <td>-1457.670</td> <td>  168.355</td>\n",
       "</tr>\n",
       "<tr>\n",
       "  <th>log_sqft_lot</th>      <td>-3031.9163</td> <td> 3372.198</td> <td>   -0.899</td> <td> 0.369</td> <td>-9641.738</td> <td> 3577.905</td>\n",
       "</tr>\n",
       "<tr>\n",
       "  <th>log_sqft_lot15</th>    <td>-1.928e+04</td> <td> 3631.567</td> <td>   -5.310</td> <td> 0.000</td> <td>-2.64e+04</td> <td>-1.22e+04</td>\n",
       "</tr>\n",
       "<tr>\n",
       "  <th>log_sqft_living15</th> <td> 9.807e+04</td> <td> 5415.940</td> <td>   18.107</td> <td> 0.000</td> <td> 8.75e+04</td> <td> 1.09e+05</td>\n",
       "</tr>\n",
       "</table>\n",
       "<table class=\"simpletable\">\n",
       "<tr>\n",
       "  <th>Omnibus:</th>       <td>5339.938</td> <th>  Durbin-Watson:     </th> <td>   1.968</td> \n",
       "</tr>\n",
       "<tr>\n",
       "  <th>Prob(Omnibus):</th>  <td> 0.000</td>  <th>  Jarque-Bera (JB):  </th> <td>24076.419</td>\n",
       "</tr>\n",
       "<tr>\n",
       "  <th>Skew:</th>           <td> 1.352</td>  <th>  Prob(JB):          </th> <td>    0.00</td> \n",
       "</tr>\n",
       "<tr>\n",
       "  <th>Kurtosis:</th>       <td> 7.907</td>  <th>  Cond. No.          </th> <td>5.07e+21</td> \n",
       "</tr>\n",
       "</table><br/><br/>Notes:<br/>[1] Standard Errors assume that the covariance matrix of the errors is correctly specified.<br/>[2] The smallest eigenvalue is 6.9e-30. This might indicate that there are<br/>strong multicollinearity problems or that the design matrix is singular."
      ],
      "text/plain": [
       "<class 'statsmodels.iolib.summary.Summary'>\n",
       "\"\"\"\n",
       "                            OLS Regression Results                            \n",
       "==============================================================================\n",
       "Dep. Variable:                  price   R-squared:                       0.668\n",
       "Model:                            OLS   Adj. R-squared:                  0.668\n",
       "Method:                 Least Squares   F-statistic:                     2469.\n",
       "Date:                Mon, 11 Jan 2021   Prob (F-statistic):               0.00\n",
       "Time:                        15:16:08   Log-Likelihood:            -2.4345e+05\n",
       "No. Observations:               18407   AIC:                         4.869e+05\n",
       "Df Residuals:                   18391   BIC:                         4.871e+05\n",
       "Df Model:                          15                                         \n",
       "Covariance Type:            nonrobust                                         \n",
       "=====================================================================================\n",
       "                        coef    std err          t      P>|t|      [0.025      0.975]\n",
       "-------------------------------------------------------------------------------------\n",
       "Intercept          -6.85e+05    2.2e+06     -0.312      0.755   -4.99e+06    3.62e+06\n",
       "bedrooms          -9793.0964   1569.138     -6.241      0.000   -1.29e+04   -6717.440\n",
       "bathrooms          3.225e+04   2552.184     12.636      0.000    2.72e+04    3.73e+04\n",
       "floors             1.927e+04   2560.895      7.524      0.000    1.42e+04    2.43e+04\n",
       "waterfront         1.773e-08   5.72e-08      0.310      0.756   -9.43e-08     1.3e-07\n",
       "view               3.965e+04   2550.388     15.546      0.000    3.46e+04    4.46e+04\n",
       "condition          2.643e+04   1717.082     15.395      0.000    2.31e+04    2.98e+04\n",
       "grade              9.725e+04   1587.358     61.266      0.000    9.41e+04       1e+05\n",
       "yr_built          -2298.6638     53.024    -43.351      0.000   -2402.596   -2194.731\n",
       "been_renovated     5.039e-09   1.58e-08      0.320      0.749   -2.59e-08    3.59e-08\n",
       "zipcode            -310.6523     24.143    -12.867      0.000    -357.975    -263.329\n",
       "lat                5.573e+05   7718.504     72.209      0.000    5.42e+05    5.72e+05\n",
       "long              -5.834e+04   1.08e+04     -5.403      0.000   -7.95e+04   -3.72e+04\n",
       "log_sqft_living    1.468e+05   5917.359     24.816      0.000    1.35e+05    1.58e+05\n",
       "log_sqft_basement  -644.6573    414.783     -1.554      0.120   -1457.670     168.355\n",
       "log_sqft_lot      -3031.9163   3372.198     -0.899      0.369   -9641.738    3577.905\n",
       "log_sqft_lot15    -1.928e+04   3631.567     -5.310      0.000   -2.64e+04   -1.22e+04\n",
       "log_sqft_living15  9.807e+04   5415.940     18.107      0.000    8.75e+04    1.09e+05\n",
       "==============================================================================\n",
       "Omnibus:                     5339.938   Durbin-Watson:                   1.968\n",
       "Prob(Omnibus):                  0.000   Jarque-Bera (JB):            24076.419\n",
       "Skew:                           1.352   Prob(JB):                         0.00\n",
       "Kurtosis:                       7.907   Cond. No.                     5.07e+21\n",
       "==============================================================================\n",
       "\n",
       "Notes:\n",
       "[1] Standard Errors assume that the covariance matrix of the errors is correctly specified.\n",
       "[2] The smallest eigenvalue is 6.9e-30. This might indicate that there are\n",
       "strong multicollinearity problems or that the design matrix is singular.\n",
       "\"\"\""
      ]
     },
     "execution_count": 102,
     "metadata": {},
     "output_type": "execute_result"
    }
   ],
   "source": [
    "modellogz = ols(formula=f , data = dflog).fit()\n",
    "modellogz.summary()"
   ]
  },
  {
   "cell_type": "code",
   "execution_count": 103,
   "metadata": {
    "ExecuteTime": {
     "end_time": "2021-01-11T20:17:24.871143Z",
     "start_time": "2021-01-11T20:17:24.590894Z"
    }
   },
   "outputs": [
    {
     "name": "stdout",
     "output_type": "stream",
     "text": [
      "Train MSE: 18152812939.53624\n",
      "Test MSE: 17413922136.693714\n",
      "RMSE Train: 134732.37524639815\n",
      "RMSE Test: 131961.82075393517\n"
     ]
    },
    {
     "data": {
      "image/png": "[encoded data removed]",
      "text/plain": [
       "<Figure size 432x288 with 1 Axes>"
      ]
     },
     "execution_count": 103,
     "metadata": {},
     "output_type": "execute_result"
    },
    {
     "data": {
      "image/png": "[encoded data removed]",
      "text/plain": [
       "<Figure size 432x288 with 1 Axes>"
      ]
     },
     "metadata": {
      "needs_background": "light"
     },
     "output_type": "display_data"
    }
   ],
   "source": [
    "data = dflog.copy()\n",
    "\n",
    "y = data['price']\n",
    "X = data.drop(['price', 'id','month','sqft_living15','sqft_lot15','sqft_living','sqft_basement','sqft_lot'], axis = 1)\n",
    "\n",
    "X_train, X_test, y_train, y_test = train_test_split(X, y, test_size = 0.2)\n",
    "\n",
    "len(X_test)\n",
    "\n",
    "linreg = LinearRegression()\n",
    "linreg.fit(X_train, y_train)\n",
    "\n",
    "y_hat_train = linreg.predict(X_train)\n",
    "y_hat_test = linreg.predict(X_test)\n",
    "\n",
    "\n",
    "mse_train = mean_squared_error(y_train, y_hat_train)\n",
    "mse_test = mean_squared_error(y_test, y_hat_test)\n",
    "\n",
    "print('Train MSE:', mse_train)\n",
    "print('Test MSE:', mse_test)\n",
    "\n",
    "print('RMSE Train:', np.sqrt(mse_train))\n",
    "print('RMSE Test:', np.sqrt(mse_test))\n",
    "\n",
    "r2_score(y_test, y_hat_test)\n",
    "\n",
    "residuals = (y_test - y_hat_test)\n",
    "\n",
    "statsmodels.graphics.gofplots.qqplot(residuals, line = \"r\")"
   ]
  },
  {
   "cell_type": "markdown",
   "metadata": {},
   "source": [
    "## Model of lognorm for cont values"
   ]
  },
  {
   "cell_type": "code",
   "execution_count": 104,
   "metadata": {
    "ExecuteTime": {
     "end_time": "2021-01-11T20:18:35.026185Z",
     "start_time": "2021-01-11T20:18:35.015187Z"
    }
   },
   "outputs": [],
   "source": [
    "dflognorm = dflog.apply(lambda x: x*(1))"
   ]
  },
  {
   "cell_type": "code",
   "execution_count": 107,
   "metadata": {
    "ExecuteTime": {
     "end_time": "2021-01-11T20:26:36.111407Z",
     "start_time": "2021-01-11T20:26:36.104427Z"
    }
   },
   "outputs": [],
   "source": [
    "dflognorm.drop(['sqft_living15','sqft_lot15','sqft_living','sqft_basement','sqft_lot'],axis=1,inplace=True)"
   ]
  },
  {
   "cell_type": "code",
   "execution_count": 144,
   "metadata": {
    "ExecuteTime": {
     "end_time": "2021-01-11T20:42:37.597692Z",
     "start_time": "2021-01-11T20:42:37.589716Z"
    }
   },
   "outputs": [],
   "source": [
    "dflognorm['lognorm_sqft_living'] = normalize(dflognorm['log_sqft_living'])"
   ]
  },
  {
   "cell_type": "code",
   "execution_count": 137,
   "metadata": {
    "ExecuteTime": {
     "end_time": "2021-01-11T20:39:32.825049Z",
     "start_time": "2021-01-11T20:39:32.799119Z"
    }
   },
   "outputs": [],
   "source": [
    "\n",
    "dflognorm['lognorm_sqft_lot'] = normalize(dflognorm['log_sqft_lot'])\n",
    "dflognorm['lognorm_sqft_lot15'] = normalize(dflognorm['log_sqft_lot15'])\n",
    "dflognorm['lognorm_sqft_living15'] = normalize(dflognorm['log_sqft_living15'])\n",
    "dflognorm['lognorm_sqft_basement'] = normalize(dflognorm['log_sqft_basement'])"
   ]
  },
  {
   "cell_type": "code",
   "execution_count": 138,
   "metadata": {
    "ExecuteTime": {
     "end_time": "2021-01-11T20:39:51.995071Z",
     "start_time": "2021-01-11T20:39:51.990084Z"
    }
   },
   "outputs": [
    {
     "data": {
      "text/plain": [
       "Index(['id', 'price', 'bedrooms', 'bathrooms', 'floors', 'waterfront', 'view',\n",
       "       'condition', 'grade', 'yr_built', 'been_renovated', 'zipcode', 'lat',\n",
       "       'long', 'month', 'log_sqft_living', 'log_sqft_basement', 'log_sqft_lot',\n",
       "       'log_sqft_lot15', 'log_sqft_living15', 'lognorm_sqft_lot',\n",
       "       'lognorm_sqft_lot15', 'lognorm_sqft_living15', 'lognorm_sqft_basement'],\n",
       "      dtype='object')"
      ]
     },
     "execution_count": 138,
     "metadata": {},
     "output_type": "execute_result"
    }
   ],
   "source": [
    "dflognorm.columns"
   ]
  },
  {
   "cell_type": "code",
   "execution_count": 145,
   "metadata": {
    "ExecuteTime": {
     "end_time": "2021-01-11T20:42:41.397545Z",
     "start_time": "2021-01-11T20:42:41.389561Z"
    }
   },
   "outputs": [],
   "source": [
    "outcome = 'price'\n",
    "x_cols = dflognorm.drop(['price', 'id','month','log_sqft_lot','log_sqft_lot15','log_sqft_living15','log_sqft_basement','log_sqft_living'],\n",
    "                     axis = 1).columns\n",
    "\n",
    "predictors = '+'.join(x_cols)\n",
    "\n",
    "f = outcome + '~' + predictors"
   ]
  },
  {
   "cell_type": "code",
   "execution_count": 146,
   "metadata": {
    "ExecuteTime": {
     "end_time": "2021-01-11T20:42:43.198263Z",
     "start_time": "2021-01-11T20:42:43.134864Z"
    }
   },
   "outputs": [
    {
     "data": {
      "text/html": [
       "<table class=\"simpletable\">\n",
       "<caption>OLS Regression Results</caption>\n",
       "<tr>\n",
       "  <th>Dep. Variable:</th>          <td>price</td>      <th>  R-squared:         </th>  <td>   0.668</td>  \n",
       "</tr>\n",
       "<tr>\n",
       "  <th>Model:</th>                   <td>OLS</td>       <th>  Adj. R-squared:    </th>  <td>   0.668</td>  \n",
       "</tr>\n",
       "<tr>\n",
       "  <th>Method:</th>             <td>Least Squares</td>  <th>  F-statistic:       </th>  <td>   2469.</td>  \n",
       "</tr>\n",
       "<tr>\n",
       "  <th>Date:</th>             <td>Mon, 11 Jan 2021</td> <th>  Prob (F-statistic):</th>   <td>  0.00</td>   \n",
       "</tr>\n",
       "<tr>\n",
       "  <th>Time:</th>                 <td>15:42:43</td>     <th>  Log-Likelihood:    </th> <td>-2.4345e+05</td>\n",
       "</tr>\n",
       "<tr>\n",
       "  <th>No. Observations:</th>      <td> 18407</td>      <th>  AIC:               </th>  <td>4.869e+05</td> \n",
       "</tr>\n",
       "<tr>\n",
       "  <th>Df Residuals:</th>          <td> 18391</td>      <th>  BIC:               </th>  <td>4.871e+05</td> \n",
       "</tr>\n",
       "<tr>\n",
       "  <th>Df Model:</th>              <td>    15</td>      <th>                     </th>      <td> </td>     \n",
       "</tr>\n",
       "<tr>\n",
       "  <th>Covariance Type:</th>      <td>nonrobust</td>    <th>                     </th>      <td> </td>     \n",
       "</tr>\n",
       "</table>\n",
       "<table class=\"simpletable\">\n",
       "<tr>\n",
       "            <td></td>               <th>coef</th>     <th>std err</th>      <th>t</th>      <th>P>|t|</th>  <th>[0.025</th>    <th>0.975]</th>  \n",
       "</tr>\n",
       "<tr>\n",
       "  <th>Intercept</th>             <td> 9.541e+05</td> <td> 2.19e+06</td> <td>    0.436</td> <td> 0.663</td> <td>-3.33e+06</td> <td> 5.24e+06</td>\n",
       "</tr>\n",
       "<tr>\n",
       "  <th>bedrooms</th>              <td>-9793.0964</td> <td> 1569.138</td> <td>   -6.241</td> <td> 0.000</td> <td>-1.29e+04</td> <td>-6717.440</td>\n",
       "</tr>\n",
       "<tr>\n",
       "  <th>bathrooms</th>             <td> 3.225e+04</td> <td> 2552.184</td> <td>   12.636</td> <td> 0.000</td> <td> 2.72e+04</td> <td> 3.73e+04</td>\n",
       "</tr>\n",
       "<tr>\n",
       "  <th>floors</th>                <td> 1.927e+04</td> <td> 2560.895</td> <td>    7.524</td> <td> 0.000</td> <td> 1.42e+04</td> <td> 2.43e+04</td>\n",
       "</tr>\n",
       "<tr>\n",
       "  <th>waterfront</th>            <td> 5.884e-08</td> <td> 1.35e-07</td> <td>    0.435</td> <td> 0.663</td> <td>-2.06e-07</td> <td> 3.24e-07</td>\n",
       "</tr>\n",
       "<tr>\n",
       "  <th>view</th>                  <td> 3.965e+04</td> <td> 2550.388</td> <td>   15.546</td> <td> 0.000</td> <td> 3.46e+04</td> <td> 4.46e+04</td>\n",
       "</tr>\n",
       "<tr>\n",
       "  <th>condition</th>             <td> 2.643e+04</td> <td> 1717.082</td> <td>   15.395</td> <td> 0.000</td> <td> 2.31e+04</td> <td> 2.98e+04</td>\n",
       "</tr>\n",
       "<tr>\n",
       "  <th>grade</th>                 <td> 9.725e+04</td> <td> 1587.358</td> <td>   61.266</td> <td> 0.000</td> <td> 9.41e+04</td> <td>    1e+05</td>\n",
       "</tr>\n",
       "<tr>\n",
       "  <th>yr_built</th>              <td>-2298.6638</td> <td>   53.024</td> <td>  -43.351</td> <td> 0.000</td> <td>-2402.596</td> <td>-2194.731</td>\n",
       "</tr>\n",
       "<tr>\n",
       "  <th>been_renovated</th>        <td>-7.684e-10</td> <td> 1.66e-09</td> <td>   -0.463</td> <td> 0.644</td> <td>-4.02e-09</td> <td> 2.49e-09</td>\n",
       "</tr>\n",
       "<tr>\n",
       "  <th>zipcode</th>               <td> -310.6523</td> <td>   24.143</td> <td>  -12.867</td> <td> 0.000</td> <td> -357.975</td> <td> -263.329</td>\n",
       "</tr>\n",
       "<tr>\n",
       "  <th>lat</th>                   <td> 5.573e+05</td> <td> 7718.504</td> <td>   72.209</td> <td> 0.000</td> <td> 5.42e+05</td> <td> 5.72e+05</td>\n",
       "</tr>\n",
       "<tr>\n",
       "  <th>long</th>                  <td>-5.834e+04</td> <td> 1.08e+04</td> <td>   -5.403</td> <td> 0.000</td> <td>-7.95e+04</td> <td>-3.72e+04</td>\n",
       "</tr>\n",
       "<tr>\n",
       "  <th>lognorm_sqft_lot</th>      <td> -1.69e+04</td> <td> 1.88e+04</td> <td>   -0.899</td> <td> 0.369</td> <td>-5.38e+04</td> <td> 1.99e+04</td>\n",
       "</tr>\n",
       "<tr>\n",
       "  <th>lognorm_sqft_lot15</th>    <td>-9.585e+04</td> <td> 1.81e+04</td> <td>   -5.310</td> <td> 0.000</td> <td>-1.31e+05</td> <td>-6.05e+04</td>\n",
       "</tr>\n",
       "<tr>\n",
       "  <th>lognorm_sqft_living15</th> <td> 2.131e+05</td> <td> 1.18e+04</td> <td>   18.107</td> <td> 0.000</td> <td>  1.9e+05</td> <td> 2.36e+05</td>\n",
       "</tr>\n",
       "<tr>\n",
       "  <th>lognorm_sqft_basement</th> <td>-4756.1262</td> <td> 3060.167</td> <td>   -1.554</td> <td> 0.120</td> <td>-1.08e+04</td> <td> 1242.085</td>\n",
       "</tr>\n",
       "<tr>\n",
       "  <th>lognorm_sqft_living</th>   <td> 3.748e+05</td> <td> 1.51e+04</td> <td>   24.816</td> <td> 0.000</td> <td> 3.45e+05</td> <td> 4.04e+05</td>\n",
       "</tr>\n",
       "</table>\n",
       "<table class=\"simpletable\">\n",
       "<tr>\n",
       "  <th>Omnibus:</th>       <td>5339.938</td> <th>  Durbin-Watson:     </th> <td>   1.968</td> \n",
       "</tr>\n",
       "<tr>\n",
       "  <th>Prob(Omnibus):</th>  <td> 0.000</td>  <th>  Jarque-Bera (JB):  </th> <td>24076.419</td>\n",
       "</tr>\n",
       "<tr>\n",
       "  <th>Skew:</th>           <td> 1.352</td>  <th>  Prob(JB):          </th> <td>    0.00</td> \n",
       "</tr>\n",
       "<tr>\n",
       "  <th>Kurtosis:</th>       <td> 7.907</td>  <th>  Cond. No.          </th> <td>9.22e+21</td> \n",
       "</tr>\n",
       "</table><br/><br/>Notes:<br/>[1] Standard Errors assume that the covariance matrix of the errors is correctly specified.<br/>[2] The smallest eigenvalue is 2.08e-30. This might indicate that there are<br/>strong multicollinearity problems or that the design matrix is singular."
      ],
      "text/plain": [
       "<class 'statsmodels.iolib.summary.Summary'>\n",
       "\"\"\"\n",
       "                            OLS Regression Results                            \n",
       "==============================================================================\n",
       "Dep. Variable:                  price   R-squared:                       0.668\n",
       "Model:                            OLS   Adj. R-squared:                  0.668\n",
       "Method:                 Least Squares   F-statistic:                     2469.\n",
       "Date:                Mon, 11 Jan 2021   Prob (F-statistic):               0.00\n",
       "Time:                        15:42:43   Log-Likelihood:            -2.4345e+05\n",
       "No. Observations:               18407   AIC:                         4.869e+05\n",
       "Df Residuals:                   18391   BIC:                         4.871e+05\n",
       "Df Model:                          15                                         \n",
       "Covariance Type:            nonrobust                                         \n",
       "=========================================================================================\n",
       "                            coef    std err          t      P>|t|      [0.025      0.975]\n",
       "-----------------------------------------------------------------------------------------\n",
       "Intercept              9.541e+05   2.19e+06      0.436      0.663   -3.33e+06    5.24e+06\n",
       "bedrooms              -9793.0964   1569.138     -6.241      0.000   -1.29e+04   -6717.440\n",
       "bathrooms              3.225e+04   2552.184     12.636      0.000    2.72e+04    3.73e+04\n",
       "floors                 1.927e+04   2560.895      7.524      0.000    1.42e+04    2.43e+04\n",
       "waterfront             5.884e-08   1.35e-07      0.435      0.663   -2.06e-07    3.24e-07\n",
       "view                   3.965e+04   2550.388     15.546      0.000    3.46e+04    4.46e+04\n",
       "condition              2.643e+04   1717.082     15.395      0.000    2.31e+04    2.98e+04\n",
       "grade                  9.725e+04   1587.358     61.266      0.000    9.41e+04       1e+05\n",
       "yr_built              -2298.6638     53.024    -43.351      0.000   -2402.596   -2194.731\n",
       "been_renovated        -7.684e-10   1.66e-09     -0.463      0.644   -4.02e-09    2.49e-09\n",
       "zipcode                -310.6523     24.143    -12.867      0.000    -357.975    -263.329\n",
       "lat                    5.573e+05   7718.504     72.209      0.000    5.42e+05    5.72e+05\n",
       "long                  -5.834e+04   1.08e+04     -5.403      0.000   -7.95e+04   -3.72e+04\n",
       "lognorm_sqft_lot       -1.69e+04   1.88e+04     -0.899      0.369   -5.38e+04    1.99e+04\n",
       "lognorm_sqft_lot15    -9.585e+04   1.81e+04     -5.310      0.000   -1.31e+05   -6.05e+04\n",
       "lognorm_sqft_living15  2.131e+05   1.18e+04     18.107      0.000     1.9e+05    2.36e+05\n",
       "lognorm_sqft_basement -4756.1262   3060.167     -1.554      0.120   -1.08e+04    1242.085\n",
       "lognorm_sqft_living    3.748e+05   1.51e+04     24.816      0.000    3.45e+05    4.04e+05\n",
       "==============================================================================\n",
       "Omnibus:                     5339.938   Durbin-Watson:                   1.968\n",
       "Prob(Omnibus):                  0.000   Jarque-Bera (JB):            24076.419\n",
       "Skew:                           1.352   Prob(JB):                         0.00\n",
       "Kurtosis:                       7.907   Cond. No.                     9.22e+21\n",
       "==============================================================================\n",
       "\n",
       "Notes:\n",
       "[1] Standard Errors assume that the covariance matrix of the errors is correctly specified.\n",
       "[2] The smallest eigenvalue is 2.08e-30. This might indicate that there are\n",
       "strong multicollinearity problems or that the design matrix is singular.\n",
       "\"\"\""
      ]
     },
     "execution_count": 146,
     "metadata": {},
     "output_type": "execute_result"
    }
   ],
   "source": [
    "modellognorm = ols(formula=f , data = dflognorm).fit()\n",
    "modellognorm.summary()"
   ]
  },
  {
   "cell_type": "markdown",
   "metadata": {},
   "source": [
    "## Lognorm + zip dummies "
   ]
  },
  {
   "cell_type": "code",
   "execution_count": 147,
   "metadata": {
    "ExecuteTime": {
     "end_time": "2021-01-11T20:45:22.671491Z",
     "start_time": "2021-01-11T20:45:22.644558Z"
    }
   },
   "outputs": [],
   "source": [
    "lognormzip = pd.concat([dflognorm, zipcode], axis = 1)"
   ]
  },
  {
   "cell_type": "code",
   "execution_count": 158,
   "metadata": {
    "ExecuteTime": {
     "end_time": "2021-01-11T20:50:34.092383Z",
     "start_time": "2021-01-11T20:50:34.076398Z"
    }
   },
   "outputs": [],
   "source": [
    "lognormzip.dropna(inplace=True)"
   ]
  },
  {
   "cell_type": "code",
   "execution_count": 159,
   "metadata": {
    "ExecuteTime": {
     "end_time": "2021-01-11T20:50:36.457911Z",
     "start_time": "2021-01-11T20:50:36.445941Z"
    }
   },
   "outputs": [],
   "source": [
    "outcome = 'price'\n",
    "x_cols = lognormzip.drop(['price', 'id','month','log_sqft_lot','log_sqft_lot15','log_sqft_living15','log_sqft_basement','log_sqft_living','zipcode'],\n",
    "                     axis = 1).columns\n",
    "\n",
    "predictors = '+'.join(x_cols)\n",
    "\n",
    "f = outcome + '~' + predictors"
   ]
  },
  {
   "cell_type": "code",
   "execution_count": 160,
   "metadata": {
    "ExecuteTime": {
     "end_time": "2021-01-11T20:50:38.981474Z",
     "start_time": "2021-01-11T20:50:38.660333Z"
    }
   },
   "outputs": [
    {
     "data": {
      "text/html": [
       "<table class=\"simpletable\">\n",
       "<caption>OLS Regression Results</caption>\n",
       "<tr>\n",
       "  <th>Dep. Variable:</th>          <td>price</td>      <th>  R-squared:         </th>  <td>   0.819</td>  \n",
       "</tr>\n",
       "<tr>\n",
       "  <th>Model:</th>                   <td>OLS</td>       <th>  Adj. R-squared:    </th>  <td>   0.818</td>  \n",
       "</tr>\n",
       "<tr>\n",
       "  <th>Method:</th>             <td>Least Squares</td>  <th>  F-statistic:       </th>  <td>   996.4</td>  \n",
       "</tr>\n",
       "<tr>\n",
       "  <th>Date:</th>             <td>Mon, 11 Jan 2021</td> <th>  Prob (F-statistic):</th>   <td>  0.00</td>   \n",
       "</tr>\n",
       "<tr>\n",
       "  <th>Time:</th>                 <td>15:50:38</td>     <th>  Log-Likelihood:    </th> <td>-2.3789e+05</td>\n",
       "</tr>\n",
       "<tr>\n",
       "  <th>No. Observations:</th>      <td> 18407</td>      <th>  AIC:               </th>  <td>4.759e+05</td> \n",
       "</tr>\n",
       "<tr>\n",
       "  <th>Df Residuals:</th>          <td> 18323</td>      <th>  BIC:               </th>  <td>4.766e+05</td> \n",
       "</tr>\n",
       "<tr>\n",
       "  <th>Df Model:</th>              <td>    83</td>      <th>                     </th>      <td> </td>     \n",
       "</tr>\n",
       "<tr>\n",
       "  <th>Covariance Type:</th>      <td>nonrobust</td>    <th>                     </th>      <td> </td>     \n",
       "</tr>\n",
       "</table>\n",
       "<table class=\"simpletable\">\n",
       "<tr>\n",
       "            <td></td>               <th>coef</th>     <th>std err</th>      <th>t</th>      <th>P>|t|</th>  <th>[0.025</th>    <th>0.975]</th>  \n",
       "</tr>\n",
       "<tr>\n",
       "  <th>Intercept</th>             <td>-1.832e+07</td> <td> 5.25e+06</td> <td>   -3.492</td> <td> 0.000</td> <td>-2.86e+07</td> <td>-8.04e+06</td>\n",
       "</tr>\n",
       "<tr>\n",
       "  <th>bedrooms</th>              <td>-4864.1957</td> <td> 1179.879</td> <td>   -4.123</td> <td> 0.000</td> <td>-7176.869</td> <td>-2551.523</td>\n",
       "</tr>\n",
       "<tr>\n",
       "  <th>bathrooms</th>             <td>  2.36e+04</td> <td> 1901.518</td> <td>   12.413</td> <td> 0.000</td> <td> 1.99e+04</td> <td> 2.73e+04</td>\n",
       "</tr>\n",
       "<tr>\n",
       "  <th>floors</th>                <td>-1154.2622</td> <td> 1980.329</td> <td>   -0.583</td> <td> 0.560</td> <td>-5035.892</td> <td> 2727.368</td>\n",
       "</tr>\n",
       "<tr>\n",
       "  <th>waterfront</th>            <td> 2.109e-06</td> <td> 6.04e-07</td> <td>    3.492</td> <td> 0.000</td> <td> 9.25e-07</td> <td> 3.29e-06</td>\n",
       "</tr>\n",
       "<tr>\n",
       "  <th>view</th>                  <td> 3.557e+04</td> <td> 1922.962</td> <td>   18.498</td> <td> 0.000</td> <td> 3.18e+04</td> <td> 3.93e+04</td>\n",
       "</tr>\n",
       "<tr>\n",
       "  <th>condition</th>             <td> 2.116e+04</td> <td> 1305.958</td> <td>   16.202</td> <td> 0.000</td> <td> 1.86e+04</td> <td> 2.37e+04</td>\n",
       "</tr>\n",
       "<tr>\n",
       "  <th>grade</th>                 <td> 6.034e+04</td> <td> 1254.420</td> <td>   48.103</td> <td> 0.000</td> <td> 5.79e+04</td> <td> 6.28e+04</td>\n",
       "</tr>\n",
       "<tr>\n",
       "  <th>yr_built</th>              <td> -542.0145</td> <td>   44.801</td> <td>  -12.098</td> <td> 0.000</td> <td> -629.829</td> <td> -454.200</td>\n",
       "</tr>\n",
       "<tr>\n",
       "  <th>been_renovated</th>        <td>-9.385e-07</td> <td> 2.69e-07</td> <td>   -3.490</td> <td> 0.000</td> <td>-1.47e-06</td> <td>-4.11e-07</td>\n",
       "</tr>\n",
       "<tr>\n",
       "  <th>lat</th>                   <td> 1.338e+05</td> <td> 4.44e+04</td> <td>    3.012</td> <td> 0.003</td> <td> 4.67e+04</td> <td> 2.21e+05</td>\n",
       "</tr>\n",
       "<tr>\n",
       "  <th>long</th>                  <td>-1.081e+05</td> <td> 4.23e+04</td> <td>   -2.559</td> <td> 0.010</td> <td>-1.91e+05</td> <td>-2.53e+04</td>\n",
       "</tr>\n",
       "<tr>\n",
       "  <th>lognorm_sqft_lot</th>      <td> 1.948e+05</td> <td> 1.42e+04</td> <td>   13.735</td> <td> 0.000</td> <td> 1.67e+05</td> <td> 2.23e+05</td>\n",
       "</tr>\n",
       "<tr>\n",
       "  <th>lognorm_sqft_lot15</th>    <td>-2.705e+04</td> <td> 1.37e+04</td> <td>   -1.970</td> <td> 0.049</td> <td> -5.4e+04</td> <td> -131.334</td>\n",
       "</tr>\n",
       "<tr>\n",
       "  <th>lognorm_sqft_living15</th> <td> 1.076e+05</td> <td> 9039.361</td> <td>   11.908</td> <td> 0.000</td> <td> 8.99e+04</td> <td> 1.25e+05</td>\n",
       "</tr>\n",
       "<tr>\n",
       "  <th>lognorm_sqft_basement</th> <td>-3.543e+04</td> <td> 2341.515</td> <td>  -15.129</td> <td> 0.000</td> <td>   -4e+04</td> <td>-3.08e+04</td>\n",
       "</tr>\n",
       "<tr>\n",
       "  <th>lognorm_sqft_living</th>   <td>   4.7e+05</td> <td> 1.13e+04</td> <td>   41.427</td> <td> 0.000</td> <td> 4.48e+05</td> <td> 4.92e+05</td>\n",
       "</tr>\n",
       "<tr>\n",
       "  <th>zip_98001</th>             <td> -4.37e+05</td> <td> 7.55e+04</td> <td>   -5.788</td> <td> 0.000</td> <td>-5.85e+05</td> <td>-2.89e+05</td>\n",
       "</tr>\n",
       "<tr>\n",
       "  <th>zip_98002</th>             <td>-3.985e+05</td> <td> 7.32e+04</td> <td>   -5.445</td> <td> 0.000</td> <td>-5.42e+05</td> <td>-2.55e+05</td>\n",
       "</tr>\n",
       "<tr>\n",
       "  <th>zip_98003</th>             <td>-4.453e+05</td> <td> 7.71e+04</td> <td>   -5.777</td> <td> 0.000</td> <td>-5.96e+05</td> <td>-2.94e+05</td>\n",
       "</tr>\n",
       "<tr>\n",
       "  <th>zip_98004</th>             <td> 1.425e+05</td> <td> 7.57e+04</td> <td>    1.883</td> <td> 0.060</td> <td>-5836.020</td> <td> 2.91e+05</td>\n",
       "</tr>\n",
       "<tr>\n",
       "  <th>zip_98005</th>             <td>-1.349e+05</td> <td> 7.45e+04</td> <td>   -1.812</td> <td> 0.070</td> <td>-2.81e+05</td> <td>  1.1e+04</td>\n",
       "</tr>\n",
       "<tr>\n",
       "  <th>zip_98006</th>             <td>-1.841e+05</td> <td> 7.28e+04</td> <td>   -2.529</td> <td> 0.011</td> <td>-3.27e+05</td> <td>-4.14e+04</td>\n",
       "</tr>\n",
       "<tr>\n",
       "  <th>zip_98007</th>             <td>-2.081e+05</td> <td> 7.35e+04</td> <td>   -2.831</td> <td> 0.005</td> <td>-3.52e+05</td> <td> -6.4e+04</td>\n",
       "</tr>\n",
       "<tr>\n",
       "  <th>zip_98008</th>             <td>-2.218e+05</td> <td> 7.23e+04</td> <td>   -3.066</td> <td> 0.002</td> <td>-3.64e+05</td> <td>   -8e+04</td>\n",
       "</tr>\n",
       "<tr>\n",
       "  <th>zip_98010</th>             <td>-3.233e+05</td> <td>  6.6e+04</td> <td>   -4.897</td> <td> 0.000</td> <td>-4.53e+05</td> <td>-1.94e+05</td>\n",
       "</tr>\n",
       "<tr>\n",
       "  <th>zip_98011</th>             <td>-3.406e+05</td> <td> 7.78e+04</td> <td>   -4.378</td> <td> 0.000</td> <td>-4.93e+05</td> <td>-1.88e+05</td>\n",
       "</tr>\n",
       "<tr>\n",
       "  <th>zip_98014</th>             <td>-3.278e+05</td> <td> 6.68e+04</td> <td>   -4.905</td> <td> 0.000</td> <td>-4.59e+05</td> <td>-1.97e+05</td>\n",
       "</tr>\n",
       "<tr>\n",
       "  <th>zip_98019</th>             <td>-3.676e+05</td> <td> 6.91e+04</td> <td>   -5.316</td> <td> 0.000</td> <td>-5.03e+05</td> <td>-2.32e+05</td>\n",
       "</tr>\n",
       "<tr>\n",
       "  <th>zip_98022</th>             <td>-3.884e+05</td> <td> 6.41e+04</td> <td>   -6.061</td> <td> 0.000</td> <td>-5.14e+05</td> <td>-2.63e+05</td>\n",
       "</tr>\n",
       "<tr>\n",
       "  <th>zip_98023</th>             <td>-4.636e+05</td> <td> 7.92e+04</td> <td>   -5.855</td> <td> 0.000</td> <td>-6.19e+05</td> <td>-3.08e+05</td>\n",
       "</tr>\n",
       "<tr>\n",
       "  <th>zip_98024</th>             <td>-2.831e+05</td> <td> 6.51e+04</td> <td>   -4.349</td> <td> 0.000</td> <td>-4.11e+05</td> <td>-1.56e+05</td>\n",
       "</tr>\n",
       "<tr>\n",
       "  <th>zip_98027</th>             <td>-2.364e+05</td> <td> 6.85e+04</td> <td>   -3.453</td> <td> 0.001</td> <td>-3.71e+05</td> <td>-1.02e+05</td>\n",
       "</tr>\n",
       "<tr>\n",
       "  <th>zip_98028</th>             <td>-3.586e+05</td> <td> 7.93e+04</td> <td>   -4.520</td> <td> 0.000</td> <td>-5.14e+05</td> <td>-2.03e+05</td>\n",
       "</tr>\n",
       "<tr>\n",
       "  <th>zip_98029</th>             <td>-2.137e+05</td> <td> 6.73e+04</td> <td>   -3.176</td> <td> 0.001</td> <td>-3.46e+05</td> <td>-8.18e+04</td>\n",
       "</tr>\n",
       "<tr>\n",
       "  <th>zip_98030</th>             <td>-4.308e+05</td> <td> 7.26e+04</td> <td>   -5.932</td> <td> 0.000</td> <td>-5.73e+05</td> <td>-2.88e+05</td>\n",
       "</tr>\n",
       "<tr>\n",
       "  <th>zip_98031</th>             <td>-4.302e+05</td> <td> 7.28e+04</td> <td>   -5.907</td> <td> 0.000</td> <td>-5.73e+05</td> <td>-2.87e+05</td>\n",
       "</tr>\n",
       "<tr>\n",
       "  <th>zip_98032</th>             <td>-4.405e+05</td> <td> 7.65e+04</td> <td>   -5.761</td> <td> 0.000</td> <td> -5.9e+05</td> <td>-2.91e+05</td>\n",
       "</tr>\n",
       "<tr>\n",
       "  <th>zip_98033</th>             <td>-1.178e+05</td> <td> 7.59e+04</td> <td>   -1.552</td> <td> 0.121</td> <td>-2.66e+05</td> <td>  3.1e+04</td>\n",
       "</tr>\n",
       "<tr>\n",
       "  <th>zip_98034</th>             <td>-2.919e+05</td> <td> 7.72e+04</td> <td>   -3.781</td> <td> 0.000</td> <td>-4.43e+05</td> <td>-1.41e+05</td>\n",
       "</tr>\n",
       "<tr>\n",
       "  <th>zip_98038</th>             <td>-3.807e+05</td> <td> 6.62e+04</td> <td>   -5.750</td> <td> 0.000</td> <td> -5.1e+05</td> <td>-2.51e+05</td>\n",
       "</tr>\n",
       "<tr>\n",
       "  <th>zip_98039</th>             <td> 3.112e+05</td> <td> 8.11e+04</td> <td>    3.839</td> <td> 0.000</td> <td> 1.52e+05</td> <td>  4.7e+05</td>\n",
       "</tr>\n",
       "<tr>\n",
       "  <th>zip_98040</th>             <td> 2.769e+04</td> <td> 7.59e+04</td> <td>    0.365</td> <td> 0.715</td> <td>-1.21e+05</td> <td> 1.76e+05</td>\n",
       "</tr>\n",
       "<tr>\n",
       "  <th>zip_98042</th>             <td>-4.178e+05</td> <td> 6.95e+04</td> <td>   -6.009</td> <td> 0.000</td> <td>-5.54e+05</td> <td>-2.81e+05</td>\n",
       "</tr>\n",
       "<tr>\n",
       "  <th>zip_98045</th>             <td> -3.35e+05</td> <td> 6.62e+04</td> <td>   -5.064</td> <td> 0.000</td> <td>-4.65e+05</td> <td>-2.05e+05</td>\n",
       "</tr>\n",
       "<tr>\n",
       "  <th>zip_98052</th>             <td>-2.129e+05</td> <td> 7.34e+04</td> <td>   -2.902</td> <td> 0.004</td> <td>-3.57e+05</td> <td>-6.91e+04</td>\n",
       "</tr>\n",
       "<tr>\n",
       "  <th>zip_98053</th>             <td>-2.134e+05</td> <td> 7.01e+04</td> <td>   -3.045</td> <td> 0.002</td> <td>-3.51e+05</td> <td> -7.6e+04</td>\n",
       "</tr>\n",
       "<tr>\n",
       "  <th>zip_98055</th>             <td>-3.958e+05</td> <td> 7.38e+04</td> <td>   -5.366</td> <td> 0.000</td> <td> -5.4e+05</td> <td>-2.51e+05</td>\n",
       "</tr>\n",
       "<tr>\n",
       "  <th>zip_98056</th>             <td>-3.385e+05</td> <td> 7.35e+04</td> <td>   -4.608</td> <td> 0.000</td> <td>-4.83e+05</td> <td>-1.95e+05</td>\n",
       "</tr>\n",
       "<tr>\n",
       "  <th>zip_98058</th>             <td>-4.079e+05</td> <td> 7.15e+04</td> <td>   -5.703</td> <td> 0.000</td> <td>-5.48e+05</td> <td>-2.68e+05</td>\n",
       "</tr>\n",
       "<tr>\n",
       "  <th>zip_98059</th>             <td> -3.38e+05</td> <td> 7.17e+04</td> <td>   -4.714</td> <td> 0.000</td> <td>-4.79e+05</td> <td>-1.97e+05</td>\n",
       "</tr>\n",
       "<tr>\n",
       "  <th>zip_98065</th>             <td>-2.793e+05</td> <td> 6.18e+04</td> <td>   -4.516</td> <td> 0.000</td> <td>   -4e+05</td> <td>-1.58e+05</td>\n",
       "</tr>\n",
       "<tr>\n",
       "  <th>zip_98070</th>             <td>-3.607e+05</td> <td> 8.51e+04</td> <td>   -4.239</td> <td> 0.000</td> <td>-5.27e+05</td> <td>-1.94e+05</td>\n",
       "</tr>\n",
       "<tr>\n",
       "  <th>zip_98072</th>             <td>-3.116e+05</td> <td> 7.53e+04</td> <td>   -4.136</td> <td> 0.000</td> <td>-4.59e+05</td> <td>-1.64e+05</td>\n",
       "</tr>\n",
       "<tr>\n",
       "  <th>zip_98074</th>             <td>-2.405e+05</td> <td> 6.98e+04</td> <td>   -3.446</td> <td> 0.001</td> <td>-3.77e+05</td> <td>-1.04e+05</td>\n",
       "</tr>\n",
       "<tr>\n",
       "  <th>zip_98075</th>             <td> -2.09e+05</td> <td> 6.84e+04</td> <td>   -3.054</td> <td> 0.002</td> <td>-3.43e+05</td> <td>-7.49e+04</td>\n",
       "</tr>\n",
       "<tr>\n",
       "  <th>zip_98077</th>             <td>-3.157e+05</td> <td> 7.31e+04</td> <td>   -4.321</td> <td> 0.000</td> <td>-4.59e+05</td> <td>-1.73e+05</td>\n",
       "</tr>\n",
       "<tr>\n",
       "  <th>zip_98092</th>             <td>-4.512e+05</td> <td> 7.16e+04</td> <td>   -6.299</td> <td> 0.000</td> <td>-5.92e+05</td> <td>-3.11e+05</td>\n",
       "</tr>\n",
       "<tr>\n",
       "  <th>zip_98102</th>             <td>-1.212e+04</td> <td> 8.05e+04</td> <td>   -0.151</td> <td> 0.880</td> <td> -1.7e+05</td> <td> 1.46e+05</td>\n",
       "</tr>\n",
       "<tr>\n",
       "  <th>zip_98103</th>             <td>-1.431e+05</td> <td> 8.14e+04</td> <td>   -1.757</td> <td> 0.079</td> <td>-3.03e+05</td> <td> 1.65e+04</td>\n",
       "</tr>\n",
       "<tr>\n",
       "  <th>zip_98105</th>             <td>-3.588e+04</td> <td> 7.97e+04</td> <td>   -0.450</td> <td> 0.653</td> <td>-1.92e+05</td> <td>  1.2e+05</td>\n",
       "</tr>\n",
       "<tr>\n",
       "  <th>zip_98106</th>             <td>-3.171e+05</td> <td> 8.05e+04</td> <td>   -3.940</td> <td> 0.000</td> <td>-4.75e+05</td> <td>-1.59e+05</td>\n",
       "</tr>\n",
       "<tr>\n",
       "  <th>zip_98107</th>             <td>-1.488e+05</td> <td> 8.27e+04</td> <td>   -1.800</td> <td> 0.072</td> <td>-3.11e+05</td> <td> 1.33e+04</td>\n",
       "</tr>\n",
       "<tr>\n",
       "  <th>zip_98108</th>             <td>-3.277e+05</td> <td> 7.88e+04</td> <td>   -4.160</td> <td> 0.000</td> <td>-4.82e+05</td> <td>-1.73e+05</td>\n",
       "</tr>\n",
       "<tr>\n",
       "  <th>zip_98109</th>             <td>  464.5828</td> <td> 8.16e+04</td> <td>    0.006</td> <td> 0.995</td> <td>-1.59e+05</td> <td>  1.6e+05</td>\n",
       "</tr>\n",
       "<tr>\n",
       "  <th>zip_98112</th>             <td> 6.692e+04</td> <td> 7.93e+04</td> <td>    0.844</td> <td> 0.399</td> <td>-8.85e+04</td> <td> 2.22e+05</td>\n",
       "</tr>\n",
       "<tr>\n",
       "  <th>zip_98115</th>             <td>-1.383e+05</td> <td>    8e+04</td> <td>   -1.728</td> <td> 0.084</td> <td>-2.95e+05</td> <td> 1.86e+04</td>\n",
       "</tr>\n",
       "<tr>\n",
       "  <th>zip_98116</th>             <td>-1.705e+05</td> <td> 8.22e+04</td> <td>   -2.073</td> <td> 0.038</td> <td>-3.32e+05</td> <td>-9310.301</td>\n",
       "</tr>\n",
       "<tr>\n",
       "  <th>zip_98117</th>             <td>-1.573e+05</td> <td> 8.29e+04</td> <td>   -1.897</td> <td> 0.058</td> <td> -3.2e+05</td> <td> 5245.563</td>\n",
       "</tr>\n",
       "<tr>\n",
       "  <th>zip_98118</th>             <td>-2.738e+05</td> <td> 7.73e+04</td> <td>   -3.542</td> <td> 0.000</td> <td>-4.25e+05</td> <td>-1.22e+05</td>\n",
       "</tr>\n",
       "<tr>\n",
       "  <th>zip_98119</th>             <td>-3.819e+04</td> <td> 8.21e+04</td> <td>   -0.465</td> <td> 0.642</td> <td>-1.99e+05</td> <td> 1.23e+05</td>\n",
       "</tr>\n",
       "<tr>\n",
       "  <th>zip_98122</th>             <td>-1.352e+05</td> <td>  7.9e+04</td> <td>   -1.711</td> <td> 0.087</td> <td> -2.9e+05</td> <td> 1.97e+04</td>\n",
       "</tr>\n",
       "<tr>\n",
       "  <th>zip_98125</th>             <td>-2.814e+05</td> <td> 8.07e+04</td> <td>   -3.487</td> <td> 0.000</td> <td> -4.4e+05</td> <td>-1.23e+05</td>\n",
       "</tr>\n",
       "<tr>\n",
       "  <th>zip_98126</th>             <td>-2.556e+05</td> <td> 8.12e+04</td> <td>   -3.147</td> <td> 0.002</td> <td>-4.15e+05</td> <td>-9.64e+04</td>\n",
       "</tr>\n",
       "<tr>\n",
       "  <th>zip_98133</th>             <td>-3.311e+05</td> <td> 8.25e+04</td> <td>   -4.015</td> <td> 0.000</td> <td>-4.93e+05</td> <td>-1.69e+05</td>\n",
       "</tr>\n",
       "<tr>\n",
       "  <th>zip_98136</th>             <td>-2.026e+05</td> <td> 8.17e+04</td> <td>   -2.479</td> <td> 0.013</td> <td>-3.63e+05</td> <td>-4.24e+04</td>\n",
       "</tr>\n",
       "<tr>\n",
       "  <th>zip_98144</th>             <td>-2.036e+05</td> <td> 7.87e+04</td> <td>   -2.587</td> <td> 0.010</td> <td>-3.58e+05</td> <td>-4.93e+04</td>\n",
       "</tr>\n",
       "<tr>\n",
       "  <th>zip_98146</th>             <td>-3.449e+05</td> <td> 8.03e+04</td> <td>   -4.295</td> <td> 0.000</td> <td>-5.02e+05</td> <td>-1.88e+05</td>\n",
       "</tr>\n",
       "<tr>\n",
       "  <th>zip_98148</th>             <td>-3.951e+05</td> <td> 7.96e+04</td> <td>   -4.963</td> <td> 0.000</td> <td>-5.51e+05</td> <td>-2.39e+05</td>\n",
       "</tr>\n",
       "<tr>\n",
       "  <th>zip_98155</th>             <td>-3.492e+05</td> <td> 8.14e+04</td> <td>   -4.289</td> <td> 0.000</td> <td>-5.09e+05</td> <td> -1.9e+05</td>\n",
       "</tr>\n",
       "<tr>\n",
       "  <th>zip_98166</th>             <td>-3.555e+05</td> <td> 7.97e+04</td> <td>   -4.461</td> <td> 0.000</td> <td>-5.12e+05</td> <td>-1.99e+05</td>\n",
       "</tr>\n",
       "<tr>\n",
       "  <th>zip_98168</th>             <td>-3.926e+05</td> <td> 7.83e+04</td> <td>   -5.014</td> <td> 0.000</td> <td>-5.46e+05</td> <td>-2.39e+05</td>\n",
       "</tr>\n",
       "<tr>\n",
       "  <th>zip_98177</th>             <td>-2.869e+05</td> <td> 8.36e+04</td> <td>   -3.430</td> <td> 0.001</td> <td>-4.51e+05</td> <td>-1.23e+05</td>\n",
       "</tr>\n",
       "<tr>\n",
       "  <th>zip_98178</th>             <td>-3.877e+05</td> <td>  7.6e+04</td> <td>   -5.104</td> <td> 0.000</td> <td>-5.37e+05</td> <td>-2.39e+05</td>\n",
       "</tr>\n",
       "<tr>\n",
       "  <th>zip_98188</th>             <td>-4.095e+05</td> <td> 7.71e+04</td> <td>   -5.311</td> <td> 0.000</td> <td>-5.61e+05</td> <td>-2.58e+05</td>\n",
       "</tr>\n",
       "<tr>\n",
       "  <th>zip_98198</th>             <td>-4.185e+05</td> <td> 7.78e+04</td> <td>   -5.382</td> <td> 0.000</td> <td>-5.71e+05</td> <td>-2.66e+05</td>\n",
       "</tr>\n",
       "<tr>\n",
       "  <th>zip_98199</th>             <td>-1.029e+05</td> <td> 8.33e+04</td> <td>   -1.235</td> <td> 0.217</td> <td>-2.66e+05</td> <td> 6.04e+04</td>\n",
       "</tr>\n",
       "</table>\n",
       "<table class=\"simpletable\">\n",
       "<tr>\n",
       "  <th>Omnibus:</th>       <td>4678.410</td> <th>  Durbin-Watson:     </th> <td>   1.968</td> \n",
       "</tr>\n",
       "<tr>\n",
       "  <th>Prob(Omnibus):</th>  <td> 0.000</td>  <th>  Jarque-Bera (JB):  </th> <td>26027.932</td>\n",
       "</tr>\n",
       "<tr>\n",
       "  <th>Skew:</th>           <td> 1.109</td>  <th>  Prob(JB):          </th> <td>    0.00</td> \n",
       "</tr>\n",
       "<tr>\n",
       "  <th>Kurtosis:</th>       <td> 8.387</td>  <th>  Cond. No.          </th> <td>1.56e+19</td> \n",
       "</tr>\n",
       "</table><br/><br/>Notes:<br/>[1] Standard Errors assume that the covariance matrix of the errors is correctly specified.<br/>[2] The smallest eigenvalue is 2.96e-28. This might indicate that there are<br/>strong multicollinearity problems or that the design matrix is singular."
      ],
      "text/plain": [
       "<class 'statsmodels.iolib.summary.Summary'>\n",
       "\"\"\"\n",
       "                            OLS Regression Results                            \n",
       "==============================================================================\n",
       "Dep. Variable:                  price   R-squared:                       0.819\n",
       "Model:                            OLS   Adj. R-squared:                  0.818\n",
       "Method:                 Least Squares   F-statistic:                     996.4\n",
       "Date:                Mon, 11 Jan 2021   Prob (F-statistic):               0.00\n",
       "Time:                        15:50:38   Log-Likelihood:            -2.3789e+05\n",
       "No. Observations:               18407   AIC:                         4.759e+05\n",
       "Df Residuals:                   18323   BIC:                         4.766e+05\n",
       "Df Model:                          83                                         \n",
       "Covariance Type:            nonrobust                                         \n",
       "=========================================================================================\n",
       "                            coef    std err          t      P>|t|      [0.025      0.975]\n",
       "-----------------------------------------------------------------------------------------\n",
       "Intercept             -1.832e+07   5.25e+06     -3.492      0.000   -2.86e+07   -8.04e+06\n",
       "bedrooms              -4864.1957   1179.879     -4.123      0.000   -7176.869   -2551.523\n",
       "bathrooms               2.36e+04   1901.518     12.413      0.000    1.99e+04    2.73e+04\n",
       "floors                -1154.2622   1980.329     -0.583      0.560   -5035.892    2727.368\n",
       "waterfront             2.109e-06   6.04e-07      3.492      0.000    9.25e-07    3.29e-06\n",
       "view                   3.557e+04   1922.962     18.498      0.000    3.18e+04    3.93e+04\n",
       "condition              2.116e+04   1305.958     16.202      0.000    1.86e+04    2.37e+04\n",
       "grade                  6.034e+04   1254.420     48.103      0.000    5.79e+04    6.28e+04\n",
       "yr_built               -542.0145     44.801    -12.098      0.000    -629.829    -454.200\n",
       "been_renovated        -9.385e-07   2.69e-07     -3.490      0.000   -1.47e-06   -4.11e-07\n",
       "lat                    1.338e+05   4.44e+04      3.012      0.003    4.67e+04    2.21e+05\n",
       "long                  -1.081e+05   4.23e+04     -2.559      0.010   -1.91e+05   -2.53e+04\n",
       "lognorm_sqft_lot       1.948e+05   1.42e+04     13.735      0.000    1.67e+05    2.23e+05\n",
       "lognorm_sqft_lot15    -2.705e+04   1.37e+04     -1.970      0.049    -5.4e+04    -131.334\n",
       "lognorm_sqft_living15  1.076e+05   9039.361     11.908      0.000    8.99e+04    1.25e+05\n",
       "lognorm_sqft_basement -3.543e+04   2341.515    -15.129      0.000      -4e+04   -3.08e+04\n",
       "lognorm_sqft_living      4.7e+05   1.13e+04     41.427      0.000    4.48e+05    4.92e+05\n",
       "zip_98001              -4.37e+05   7.55e+04     -5.788      0.000   -5.85e+05   -2.89e+05\n",
       "zip_98002             -3.985e+05   7.32e+04     -5.445      0.000   -5.42e+05   -2.55e+05\n",
       "zip_98003             -4.453e+05   7.71e+04     -5.777      0.000   -5.96e+05   -2.94e+05\n",
       "zip_98004              1.425e+05   7.57e+04      1.883      0.060   -5836.020    2.91e+05\n",
       "zip_98005             -1.349e+05   7.45e+04     -1.812      0.070   -2.81e+05     1.1e+04\n",
       "zip_98006             -1.841e+05   7.28e+04     -2.529      0.011   -3.27e+05   -4.14e+04\n",
       "zip_98007             -2.081e+05   7.35e+04     -2.831      0.005   -3.52e+05    -6.4e+04\n",
       "zip_98008             -2.218e+05   7.23e+04     -3.066      0.002   -3.64e+05      -8e+04\n",
       "zip_98010             -3.233e+05    6.6e+04     -4.897      0.000   -4.53e+05   -1.94e+05\n",
       "zip_98011             -3.406e+05   7.78e+04     -4.378      0.000   -4.93e+05   -1.88e+05\n",
       "zip_98014             -3.278e+05   6.68e+04     -4.905      0.000   -4.59e+05   -1.97e+05\n",
       "zip_98019             -3.676e+05   6.91e+04     -5.316      0.000   -5.03e+05   -2.32e+05\n",
       "zip_98022             -3.884e+05   6.41e+04     -6.061      0.000   -5.14e+05   -2.63e+05\n",
       "zip_98023             -4.636e+05   7.92e+04     -5.855      0.000   -6.19e+05   -3.08e+05\n",
       "zip_98024             -2.831e+05   6.51e+04     -4.349      0.000   -4.11e+05   -1.56e+05\n",
       "zip_98027             -2.364e+05   6.85e+04     -3.453      0.001   -3.71e+05   -1.02e+05\n",
       "zip_98028             -3.586e+05   7.93e+04     -4.520      0.000   -5.14e+05   -2.03e+05\n",
       "zip_98029             -2.137e+05   6.73e+04     -3.176      0.001   -3.46e+05   -8.18e+04\n",
       "zip_98030             -4.308e+05   7.26e+04     -5.932      0.000   -5.73e+05   -2.88e+05\n",
       "zip_98031             -4.302e+05   7.28e+04     -5.907      0.000   -5.73e+05   -2.87e+05\n",
       "zip_98032             -4.405e+05   7.65e+04     -5.761      0.000    -5.9e+05   -2.91e+05\n",
       "zip_98033             -1.178e+05   7.59e+04     -1.552      0.121   -2.66e+05     3.1e+04\n",
       "zip_98034             -2.919e+05   7.72e+04     -3.781      0.000   -4.43e+05   -1.41e+05\n",
       "zip_98038             -3.807e+05   6.62e+04     -5.750      0.000    -5.1e+05   -2.51e+05\n",
       "zip_98039              3.112e+05   8.11e+04      3.839      0.000    1.52e+05     4.7e+05\n",
       "zip_98040              2.769e+04   7.59e+04      0.365      0.715   -1.21e+05    1.76e+05\n",
       "zip_98042             -4.178e+05   6.95e+04     -6.009      0.000   -5.54e+05   -2.81e+05\n",
       "zip_98045              -3.35e+05   6.62e+04     -5.064      0.000   -4.65e+05   -2.05e+05\n",
       "zip_98052             -2.129e+05   7.34e+04     -2.902      0.004   -3.57e+05   -6.91e+04\n",
       "zip_98053             -2.134e+05   7.01e+04     -3.045      0.002   -3.51e+05    -7.6e+04\n",
       "zip_98055             -3.958e+05   7.38e+04     -5.366      0.000    -5.4e+05   -2.51e+05\n",
       "zip_98056             -3.385e+05   7.35e+04     -4.608      0.000   -4.83e+05   -1.95e+05\n",
       "zip_98058             -4.079e+05   7.15e+04     -5.703      0.000   -5.48e+05   -2.68e+05\n",
       "zip_98059              -3.38e+05   7.17e+04     -4.714      0.000   -4.79e+05   -1.97e+05\n",
       "zip_98065             -2.793e+05   6.18e+04     -4.516      0.000      -4e+05   -1.58e+05\n",
       "zip_98070             -3.607e+05   8.51e+04     -4.239      0.000   -5.27e+05   -1.94e+05\n",
       "zip_98072             -3.116e+05   7.53e+04     -4.136      0.000   -4.59e+05   -1.64e+05\n",
       "zip_98074             -2.405e+05   6.98e+04     -3.446      0.001   -3.77e+05   -1.04e+05\n",
       "zip_98075              -2.09e+05   6.84e+04     -3.054      0.002   -3.43e+05   -7.49e+04\n",
       "zip_98077             -3.157e+05   7.31e+04     -4.321      0.000   -4.59e+05   -1.73e+05\n",
       "zip_98092             -4.512e+05   7.16e+04     -6.299      0.000   -5.92e+05   -3.11e+05\n",
       "zip_98102             -1.212e+04   8.05e+04     -0.151      0.880    -1.7e+05    1.46e+05\n",
       "zip_98103             -1.431e+05   8.14e+04     -1.757      0.079   -3.03e+05    1.65e+04\n",
       "zip_98105             -3.588e+04   7.97e+04     -0.450      0.653   -1.92e+05     1.2e+05\n",
       "zip_98106             -3.171e+05   8.05e+04     -3.940      0.000   -4.75e+05   -1.59e+05\n",
       "zip_98107             -1.488e+05   8.27e+04     -1.800      0.072   -3.11e+05    1.33e+04\n",
       "zip_98108             -3.277e+05   7.88e+04     -4.160      0.000   -4.82e+05   -1.73e+05\n",
       "zip_98109               464.5828   8.16e+04      0.006      0.995   -1.59e+05     1.6e+05\n",
       "zip_98112              6.692e+04   7.93e+04      0.844      0.399   -8.85e+04    2.22e+05\n",
       "zip_98115             -1.383e+05      8e+04     -1.728      0.084   -2.95e+05    1.86e+04\n",
       "zip_98116             -1.705e+05   8.22e+04     -2.073      0.038   -3.32e+05   -9310.301\n",
       "zip_98117             -1.573e+05   8.29e+04     -1.897      0.058    -3.2e+05    5245.563\n",
       "zip_98118             -2.738e+05   7.73e+04     -3.542      0.000   -4.25e+05   -1.22e+05\n",
       "zip_98119             -3.819e+04   8.21e+04     -0.465      0.642   -1.99e+05    1.23e+05\n",
       "zip_98122             -1.352e+05    7.9e+04     -1.711      0.087    -2.9e+05    1.97e+04\n",
       "zip_98125             -2.814e+05   8.07e+04     -3.487      0.000    -4.4e+05   -1.23e+05\n",
       "zip_98126             -2.556e+05   8.12e+04     -3.147      0.002   -4.15e+05   -9.64e+04\n",
       "zip_98133             -3.311e+05   8.25e+04     -4.015      0.000   -4.93e+05   -1.69e+05\n",
       "zip_98136             -2.026e+05   8.17e+04     -2.479      0.013   -3.63e+05   -4.24e+04\n",
       "zip_98144             -2.036e+05   7.87e+04     -2.587      0.010   -3.58e+05   -4.93e+04\n",
       "zip_98146             -3.449e+05   8.03e+04     -4.295      0.000   -5.02e+05   -1.88e+05\n",
       "zip_98148             -3.951e+05   7.96e+04     -4.963      0.000   -5.51e+05   -2.39e+05\n",
       "zip_98155             -3.492e+05   8.14e+04     -4.289      0.000   -5.09e+05    -1.9e+05\n",
       "zip_98166             -3.555e+05   7.97e+04     -4.461      0.000   -5.12e+05   -1.99e+05\n",
       "zip_98168             -3.926e+05   7.83e+04     -5.014      0.000   -5.46e+05   -2.39e+05\n",
       "zip_98177             -2.869e+05   8.36e+04     -3.430      0.001   -4.51e+05   -1.23e+05\n",
       "zip_98178             -3.877e+05    7.6e+04     -5.104      0.000   -5.37e+05   -2.39e+05\n",
       "zip_98188             -4.095e+05   7.71e+04     -5.311      0.000   -5.61e+05   -2.58e+05\n",
       "zip_98198             -4.185e+05   7.78e+04     -5.382      0.000   -5.71e+05   -2.66e+05\n",
       "zip_98199             -1.029e+05   8.33e+04     -1.235      0.217   -2.66e+05    6.04e+04\n",
       "==============================================================================\n",
       "Omnibus:                     4678.410   Durbin-Watson:                   1.968\n",
       "Prob(Omnibus):                  0.000   Jarque-Bera (JB):            26027.932\n",
       "Skew:                           1.109   Prob(JB):                         0.00\n",
       "Kurtosis:                       8.387   Cond. No.                     1.56e+19\n",
       "==============================================================================\n",
       "\n",
       "Notes:\n",
       "[1] Standard Errors assume that the covariance matrix of the errors is correctly specified.\n",
       "[2] The smallest eigenvalue is 2.96e-28. This might indicate that there are\n",
       "strong multicollinearity problems or that the design matrix is singular.\n",
       "\"\"\""
      ]
     },
     "execution_count": 160,
     "metadata": {},
     "output_type": "execute_result"
    }
   ],
   "source": [
    "model8 = ols(formula=f , data = lognormzip).fit()\n",
    "model8.summary()"
   ]
  },
  {
   "cell_type": "code",
   "execution_count": 164,
   "metadata": {
    "ExecuteTime": {
     "end_time": "2021-01-11T20:52:18.223107Z",
     "start_time": "2021-01-11T20:52:17.885044Z"
    }
   },
   "outputs": [
    {
     "name": "stdout",
     "output_type": "stream",
     "text": [
      "Train MSE: 9852455954.933586\n",
      "Test MSE: 9825101683.23399\n",
      "RMSE Train: 99259.53835744747\n",
      "RMSE Test: 99121.65093073253\n"
     ]
    },
    {
     "data": {
      "image/png": "[encoded data removed]",
      "text/plain": [
       "<Figure size 432x288 with 1 Axes>"
      ]
     },
     "execution_count": 164,
     "metadata": {},
     "output_type": "execute_result"
    },
    {
     "data": {
      "image/png": "[encoded data removed]",
      "text/plain": [
       "<Figure size 432x288 with 1 Axes>"
      ]
     },
     "metadata": {
      "needs_background": "light"
     },
     "output_type": "display_data"
    }
   ],
   "source": [
    "data = lognormzip.copy()\n",
    "\n",
    "y = data['price']\n",
    "X = data.drop(['price', 'id','month','log_sqft_lot','log_sqft_lot15','log_sqft_living15','log_sqft_basement','log_sqft_living','zipcode'], axis = 1)\n",
    "\n",
    "X_train, X_test, y_train, y_test = train_test_split(X, y, test_size = 0.2)\n",
    "\n",
    "len(X_test)\n",
    "\n",
    "linreg = LinearRegression()\n",
    "linreg.fit(X_train, y_train)\n",
    "\n",
    "y_hat_train = linreg.predict(X_train)\n",
    "y_hat_test = linreg.predict(X_test)\n",
    "\n",
    "\n",
    "mse_train = mean_squared_error(y_train, y_hat_train)\n",
    "mse_test = mean_squared_error(y_test, y_hat_test)\n",
    "\n",
    "print('Train MSE:', mse_train)\n",
    "print('Test MSE:', mse_test)\n",
    "\n",
    "print('RMSE Train:', np.sqrt(mse_train))\n",
    "print('RMSE Test:', np.sqrt(mse_test))\n",
    "\n",
    "r2_score(y_test, y_hat_test)\n",
    "\n",
    "residuals = (y_test - y_hat_test)\n",
    "\n",
    "statsmodels.graphics.gofplots.qqplot(residuals, line = \"r\")"
   ]
  },
  {
   "cell_type": "code",
   "execution_count": 1,
   "metadata": {
    "ExecuteTime": {
     "end_time": "2021-01-12T04:19:36.793823Z",
     "start_time": "2021-01-12T04:19:36.594362Z"
    }
   },
   "outputs": [
    {
     "ename": "NameError",
     "evalue": "name 'plt' is not defined",
     "output_type": "error",
     "traceback": [
      "\u001b[1;31m---------------------------------------------------------------------------\u001b[0m",
      "\u001b[1;31mNameError\u001b[0m                                 Traceback (most recent call last)",
      "\u001b[1;32m<ipython-input-1-ac7e05b35af1>\u001b[0m in \u001b[0;36m<module>\u001b[1;34m\u001b[0m\n\u001b[1;32m----> 1\u001b[1;33m \u001b[0mplt\u001b[0m\u001b[1;33m.\u001b[0m\u001b[0mfigure\u001b[0m\u001b[1;33m(\u001b[0m\u001b[0mfigsize\u001b[0m\u001b[1;33m=\u001b[0m\u001b[1;33m(\u001b[0m\u001b[1;36m8\u001b[0m\u001b[1;33m,\u001b[0m\u001b[1;36m10\u001b[0m\u001b[1;33m)\u001b[0m\u001b[1;33m)\u001b[0m\u001b[1;33m\u001b[0m\u001b[1;33m\u001b[0m\u001b[0m\n\u001b[0m\u001b[0;32m      2\u001b[0m \u001b[0msns\u001b[0m\u001b[1;33m.\u001b[0m\u001b[0mscatterplot\u001b[0m\u001b[1;33m(\u001b[0m\u001b[0mx\u001b[0m\u001b[1;33m=\u001b[0m\u001b[1;34m'long'\u001b[0m\u001b[1;33m,\u001b[0m \u001b[0my\u001b[0m\u001b[1;33m=\u001b[0m\u001b[1;34m'lat'\u001b[0m\u001b[1;33m,\u001b[0m \u001b[0mhue\u001b[0m \u001b[1;33m=\u001b[0m \u001b[1;34m'zipcode'\u001b[0m\u001b[1;33m,\u001b[0m \u001b[0mdata\u001b[0m\u001b[1;33m=\u001b[0m\u001b[0mdf\u001b[0m\u001b[1;33m,\u001b[0m \u001b[0mpalette\u001b[0m\u001b[1;33m=\u001b[0m\u001b[1;34m'Paired'\u001b[0m\u001b[1;33m)\u001b[0m\u001b[1;33m\u001b[0m\u001b[1;33m\u001b[0m\u001b[0m\n",
      "\u001b[1;31mNameError\u001b[0m: name 'plt' is not defined"
     ]
    }
   ],
   "source": [
    "plt.figure(figsize=(8,10))\n",
    "sns.scatterplot(x='long', y='lat', hue = 'zipcode', data=df, palette='Paired')"
   ]
  },
  {
   "cell_type": "code",
   "execution_count": null,
   "metadata": {},
   "outputs": [],
   "source": []
  },
  {
   "cell_type": "code",
   "execution_count": null,
   "metadata": {},
   "outputs": [],
   "source": []
  },
  {
   "cell_type": "code",
   "execution_count": null,
   "metadata": {},
   "outputs": [],
   "source": []
  },
  {
   "cell_type": "code",
   "execution_count": null,
   "metadata": {},
   "outputs": [],
   "source": []
  },
  {
   "cell_type": "markdown",
   "metadata": {},
   "source": [
    "For Waterfront homes:\n",
    "\n",
    "Average price of a home is 1,717,215\n",
    "\n",
    "Std Dev of a house is 1,145,384\n",
    "\n"
   ]
  },
  {
   "cell_type": "code",
   "execution_count": 90,
   "metadata": {
    "ExecuteTime": {
     "end_time": "2021-01-08T18:26:22.332386Z",
     "start_time": "2021-01-08T18:26:22.319097Z"
    }
   },
   "outputs": [
    {
     "name": "stdout",
     "output_type": "stream",
     "text": [
      "<class 'pandas.core.frame.DataFrame'>\n",
      "Int64Index: 21534 entries, 0 to 21596\n",
      "Data columns (total 21 columns):\n",
      " #   Column         Non-Null Count  Dtype         \n",
      "---  ------         --------------  -----         \n",
      " 0   id             21534 non-null  int64         \n",
      " 1   date           21534 non-null  datetime64[ns]\n",
      " 2   price          21534 non-null  float64       \n",
      " 3   bedrooms       21534 non-null  int64         \n",
      " 4   bathrooms      21534 non-null  float64       \n",
      " 5   sqft_living    21534 non-null  int64         \n",
      " 6   sqft_lot       21534 non-null  int64         \n",
      " 7   floors         21534 non-null  float64       \n",
      " 8   waterfront     21534 non-null  float64       \n",
      " 9   view           21534 non-null  float64       \n",
      " 10  condition      21534 non-null  int64         \n",
      " 11  grade          21534 non-null  int64         \n",
      " 12  sqft_basement  21534 non-null  int64         \n",
      " 13  yr_built       21534 non-null  int64         \n",
      " 14  yr_renovated   21534 non-null  float64       \n",
      " 15  zipcode        21534 non-null  int64         \n",
      " 16  lat            21534 non-null  float64       \n",
      " 17  long           21534 non-null  float64       \n",
      " 18  sqft_living15  21534 non-null  int64         \n",
      " 19  sqft_lot15     21534 non-null  int64         \n",
      " 20  month          21534 non-null  int64         \n",
      "dtypes: datetime64[ns](1), float64(8), int64(12)\n",
      "memory usage: 3.6 MB\n"
     ]
    }
   ],
   "source": [
    "df.info()"
   ]
  },
  {
   "cell_type": "markdown",
   "metadata": {},
   "source": [
    "## Model With Z-Score outliers dropped"
   ]
  },
  {
   "cell_type": "code",
   "execution_count": 92,
   "metadata": {
    "ExecuteTime": {
     "end_time": "2021-01-08T18:27:42.756537Z",
     "start_time": "2021-01-08T18:27:42.746617Z"
    }
   },
   "outputs": [
    {
     "name": "stdout",
     "output_type": "stream",
     "text": [
      "<class 'pandas.core.frame.DataFrame'>\n",
      "Int64Index: 21534 entries, 0 to 21596\n",
      "Data columns (total 20 columns):\n",
      " #   Column         Non-Null Count  Dtype  \n",
      "---  ------         --------------  -----  \n",
      " 0   id             21534 non-null  int64  \n",
      " 1   price          21534 non-null  float64\n",
      " 2   bedrooms       21534 non-null  int64  \n",
      " 3   bathrooms      21534 non-null  float64\n",
      " 4   sqft_living    21534 non-null  int64  \n",
      " 5   sqft_lot       21534 non-null  int64  \n",
      " 6   floors         21534 non-null  float64\n",
      " 7   waterfront     21534 non-null  float64\n",
      " 8   view           21534 non-null  float64\n",
      " 9   condition      21534 non-null  int64  \n",
      " 10  grade          21534 non-null  int64  \n",
      " 11  sqft_basement  21534 non-null  int64  \n",
      " 12  yr_built       21534 non-null  int64  \n",
      " 13  yr_renovated   21534 non-null  float64\n",
      " 14  zipcode        21534 non-null  int64  \n",
      " 15  lat            21534 non-null  float64\n",
      " 16  long           21534 non-null  float64\n",
      " 17  sqft_living15  21534 non-null  int64  \n",
      " 18  sqft_lot15     21534 non-null  int64  \n",
      " 19  month          21534 non-null  int64  \n",
      "dtypes: float64(8), int64(12)\n",
      "memory usage: 3.5 MB\n"
     ]
    }
   ],
   "source": [
    "df_zscore.info()"
   ]
  },
  {
   "cell_type": "code",
   "execution_count": 93,
   "metadata": {
    "ExecuteTime": {
     "end_time": "2021-01-08T18:27:57.078750Z",
     "start_time": "2021-01-08T18:27:57.050825Z"
    }
   },
   "outputs": [],
   "source": []
  },
  {
   "cell_type": "code",
   "execution_count": null,
   "metadata": {},
   "outputs": [],
   "source": [
    "#group months into seasons or quarters to run together\n",
    "#could look into when in the month \n",
    "np"
   ]
  },
  {
   "cell_type": "code",
   "execution_count": null,
   "metadata": {},
   "outputs": [],
   "source": []
  },
  {
   "cell_type": "code",
   "execution_count": null,
   "metadata": {},
   "outputs": [],
   "source": []
  },
  {
   "cell_type": "code",
   "execution_count": null,
   "metadata": {},
   "outputs": [],
   "source": [
    "#repeat distribution for waterfront variable as well with random choice "
   ]
  },
  {
   "cell_type": "code",
   "execution_count": 94,
   "metadata": {
    "ExecuteTime": {
     "end_time": "2021-01-08T05:45:05.191424Z",
     "start_time": "2021-01-08T05:45:05.182447Z"
    }
   },
   "outputs": [
    {
     "data": {
      "text/html": [
       "<div>\n",
       "<style scoped>\n",
       "    .dataframe tbody tr th:only-of-type {\n",
       "        vertical-align: middle;\n",
       "    }\n",
       "\n",
       "    .dataframe tbody tr th {\n",
       "        vertical-align: top;\n",
       "    }\n",
       "\n",
       "    .dataframe thead th {\n",
       "        text-align: right;\n",
       "    }\n",
       "</style>\n",
       "<table border=\"1\" class=\"dataframe\">\n",
       "  <thead>\n",
       "    <tr style=\"text-align: right;\">\n",
       "      <th></th>\n",
       "      <th>lat</th>\n",
       "      <th>long</th>\n",
       "    </tr>\n",
       "  </thead>\n",
       "  <tbody>\n",
       "    <tr>\n",
       "      <th>0</th>\n",
       "      <td>47.5112</td>\n",
       "      <td>-122.257</td>\n",
       "    </tr>\n",
       "    <tr>\n",
       "      <th>10</th>\n",
       "      <td>47.6007</td>\n",
       "      <td>-122.145</td>\n",
       "    </tr>\n",
       "    <tr>\n",
       "      <th>23</th>\n",
       "      <td>47.3533</td>\n",
       "      <td>-122.166</td>\n",
       "    </tr>\n",
       "    <tr>\n",
       "      <th>40</th>\n",
       "      <td>47.6145</td>\n",
       "      <td>-122.027</td>\n",
       "    </tr>\n",
       "    <tr>\n",
       "      <th>55</th>\n",
       "      <td>47.6597</td>\n",
       "      <td>-122.290</td>\n",
       "    </tr>\n",
       "    <tr>\n",
       "      <th>...</th>\n",
       "      <td>...</td>\n",
       "      <td>...</td>\n",
       "    </tr>\n",
       "    <tr>\n",
       "      <th>21578</th>\n",
       "      <td>47.3749</td>\n",
       "      <td>-122.107</td>\n",
       "    </tr>\n",
       "    <tr>\n",
       "      <th>21582</th>\n",
       "      <td>47.2931</td>\n",
       "      <td>-122.264</td>\n",
       "    </tr>\n",
       "    <tr>\n",
       "      <th>21586</th>\n",
       "      <td>47.3095</td>\n",
       "      <td>-122.002</td>\n",
       "    </tr>\n",
       "    <tr>\n",
       "      <th>21587</th>\n",
       "      <td>47.5389</td>\n",
       "      <td>-121.881</td>\n",
       "    </tr>\n",
       "    <tr>\n",
       "      <th>21595</th>\n",
       "      <td>47.5345</td>\n",
       "      <td>-122.069</td>\n",
       "    </tr>\n",
       "  </tbody>\n",
       "</table>\n",
       "<p>2376 rows × 2 columns</p>\n",
       "</div>"
      ],
      "text/plain": [
       "           lat     long\n",
       "0      47.5112 -122.257\n",
       "10     47.6007 -122.145\n",
       "23     47.3533 -122.166\n",
       "40     47.6145 -122.027\n",
       "55     47.6597 -122.290\n",
       "...        ...      ...\n",
       "21578  47.3749 -122.107\n",
       "21582  47.2931 -122.264\n",
       "21586  47.3095 -122.002\n",
       "21587  47.5389 -121.881\n",
       "21595  47.5345 -122.069\n",
       "\n",
       "[2376 rows x 2 columns]"
      ]
     },
     "execution_count": 94,
     "metadata": {},
     "output_type": "execute_result"
    }
   ],
   "source": [
    "locations = nawater[['lat', 'long']]\n",
    "locationlist = locations.values.tolist()\n",
    "locations\n"
   ]
  },
  {
   "cell_type": "code",
   "execution_count": 95,
   "metadata": {
    "ExecuteTime": {
     "end_time": "2021-01-08T05:45:28.832828Z",
     "start_time": "2021-01-08T05:45:28.825847Z"
    }
   },
   "outputs": [
    {
     "data": {
      "text/plain": [
       "lat      47.561465\n",
       "long   -122.213497\n",
       "dtype: float64"
      ]
     },
     "execution_count": 95,
     "metadata": {},
     "output_type": "execute_result"
    }
   ],
   "source": [
    "locations.mean()"
   ]
  },
  {
   "cell_type": "markdown",
   "metadata": {},
   "source": [
    "#waterfront`"
   ]
  },
  {
   "cell_type": "code",
   "execution_count": 102,
   "metadata": {
    "ExecuteTime": {
     "end_time": "2021-01-08T05:58:12.923658Z",
     "start_time": "2021-01-08T05:58:11.695029Z"
    }
   },
   "outputs": [
    {
     "ename": "NameError",
     "evalue": "name 'dff' is not defined",
     "output_type": "error",
     "traceback": [
      "\u001b[1;31m---------------------------------------------------------------------------\u001b[0m",
      "\u001b[1;31mNameError\u001b[0m                                 Traceback (most recent call last)",
      "\u001b[1;32m<ipython-input-102-c5afc7d91912>\u001b[0m in \u001b[0;36m<module>\u001b[1;34m\u001b[0m\n\u001b[0;32m      3\u001b[0m     \u001b[0mfolium\u001b[0m\u001b[1;33m.\u001b[0m\u001b[0mMarker\u001b[0m\u001b[1;33m(\u001b[0m\u001b[0mlocationlist\u001b[0m\u001b[1;33m[\u001b[0m\u001b[0mpoint\u001b[0m\u001b[1;33m]\u001b[0m\u001b[1;33m,\u001b[0m \u001b[0mpopup\u001b[0m\u001b[1;33m=\u001b[0m\u001b[0mnawater\u001b[0m\u001b[1;33m[\u001b[0m\u001b[1;34m'id'\u001b[0m\u001b[1;33m]\u001b[0m\u001b[1;33m)\u001b[0m\u001b[1;33m.\u001b[0m\u001b[0madd_to\u001b[0m\u001b[1;33m(\u001b[0m\u001b[0mmap\u001b[0m\u001b[1;33m)\u001b[0m\u001b[1;33m\u001b[0m\u001b[1;33m\u001b[0m\u001b[0m\n\u001b[0;32m      4\u001b[0m \u001b[0mmap\u001b[0m\u001b[1;33m\u001b[0m\u001b[1;33m\u001b[0m\u001b[0m\n\u001b[1;32m----> 5\u001b[1;33m \u001b[0mdff\u001b[0m\u001b[1;33m\u001b[0m\u001b[1;33m\u001b[0m\u001b[0m\n\u001b[0m",
      "\u001b[1;31mNameError\u001b[0m: name 'dff' is not defined"
     ]
    }
   ],
   "source": [
    "map = folium.Map(location=[47.5614, -122.257], zoom_start=12)\n",
    "for point in range(0, len(locationlist)):\n",
    "    folium.Marker(locationlist[point], popup=nawater['id']).add_to(map)\n",
    "map\n",
    "dff\n"
   ]
  },
  {
   "cell_type": "code",
   "execution_count": 43,
   "metadata": {
    "ExecuteTime": {
     "end_time": "2021-01-07T19:06:02.945165Z",
     "start_time": "2021-01-07T19:06:02.938183Z"
    }
   },
   "outputs": [
    {
     "data": {
      "text/plain": [
       "177"
      ]
     },
     "execution_count": 43,
     "metadata": {},
     "output_type": "execute_result"
    }
   ],
   "source": [
    "df.id.duplicated().sum()"
   ]
  },
  {
   "cell_type": "code",
   "execution_count": 40,
   "metadata": {
    "ExecuteTime": {
     "end_time": "2021-01-07T18:52:05.702394Z",
     "start_time": "2021-01-07T18:52:05.697407Z"
    }
   },
   "outputs": [],
   "source": [
    "resold = df[df.id.duplicated(keep=False)].sort_values('id')"
   ]
  },
  {
   "cell_type": "code",
   "execution_count": null,
   "metadata": {},
   "outputs": [],
   "source": [
    "resold"
   ]
  },
  {
   "cell_type": "code",
   "execution_count": null,
   "metadata": {},
   "outputs": [],
   "source": []
  },
  {
   "cell_type": "code",
   "execution_count": 98,
   "metadata": {
    "ExecuteTime": {
     "end_time": "2021-01-08T19:46:55.892363Z",
     "start_time": "2021-01-08T19:46:55.645234Z"
    }
   },
   "outputs": [],
   "source": [
    "import plotly.express as px"
   ]
  },
  {
   "cell_type": "code",
   "execution_count": null,
   "metadata": {},
   "outputs": [],
   "source": [
    "px.bar(df, x)"
   ]
  }
 ],
 "metadata": {
  "kernelspec": {
   "display_name": "Python 3",
   "language": "python",
   "name": "python3"
  },
  "language_info": {
   "codemirror_mode": {
    "name": "ipython",
    "version": 3
   },
   "file_extension": ".py",
   "mimetype": "text/x-python",
   "name": "python",
   "nbconvert_exporter": "python",
   "pygments_lexer": "ipython3",
   "version": "3.8.5"
  },
  "latex_envs": {
   "LaTeX_envs_menu_present": true,
   "autoclose": false,
   "autocomplete": true,
   "bibliofile": "biblio.bib",
   "cite_by": "apalike",
   "current_citInitial": 1,
   "eqLabelWithNumbers": true,
   "eqNumInitial": 1,
   "hotkeys": {
    "equation": "Ctrl-E",
    "itemize": "Ctrl-I"
   },
   "labels_anchors": false,
   "latex_user_defs": false,
   "report_style_numbering": false,
   "user_envs_cfg": false
  },
  "toc": {
   "base_numbering": 1,
   "nav_menu": {},
   "number_sections": true,
   "sideBar": true,
   "skip_h1_title": false,
   "title_cell": "Table of Contents",
   "title_sidebar": "Contents",
   "toc_cell": false,
   "toc_position": {},
   "toc_section_display": true,
   "toc_window_display": false
  },
  "varInspector": {
   "cols": {
    "lenName": 16,
    "lenType": 16,
    "lenVar": 40
   },
   "kernels_config": {
    "python": {
     "delete_cmd_postfix": "",
     "delete_cmd_prefix": "del ",
     "library": "var_list.py",
     "varRefreshCmd": "print(var_dic_list())"
    },
    "r": {
     "delete_cmd_postfix": ") ",
     "delete_cmd_prefix": "rm(",
     "library": "var_list.r",
     "varRefreshCmd": "cat(var_dic_list()) "
    }
   },
   "types_to_exclude": [
    "module",
    "function",
    "builtin_function_or_method",
    "instance",
    "_Feature"
   ],
   "window_display": false
  }
 },
 "nbformat": 4,
 "nbformat_minor": 4
}
