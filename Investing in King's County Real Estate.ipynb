{
 "cells": [
  {
   "cell_type": "code",
   "execution_count": null,
   "metadata": {},
   "outputs": [],
   "source": []
  },
  {
   "cell_type": "code",
   "execution_count": 1,
   "metadata": {
    "ExecuteTime": {
     "end_time": "2021-01-12T04:24:29.768223Z",
     "start_time": "2021-01-12T04:24:28.086196Z"
    }
   },
   "outputs": [],
   "source": [
    "import pandas as pd\n",
    "import numpy as np\n",
    "import seaborn as sns\n",
    "import matplotlib.pyplot as plt\n",
    "\n",
    "pd.set_option(\"display.max_columns\", 100)\n",
    "\n",
    "\n",
    "import pandas as pd\n",
    "import requests\n",
    "from xml.etree import ElementTree\n",
    "import numpy as np\n",
    "import folium\n",
    "\n",
    "import statsmodels.api as sm\n",
    "from statsmodels.formula.api import ols\n",
    "import statsmodels.formula as smf\n",
    "\n",
    "from sklearn.model_selection import train_test_split\n",
    "from sklearn.metrics import mean_squared_error\n",
    "import statsmodels\n",
    "from sklearn.metrics import r2_score\n",
    "from sklearn.linear_model import LinearRegression\n",
    "from sklearn.model_selection import cross_val_score"
   ]
  },
  {
   "cell_type": "code",
   "execution_count": 2,
   "metadata": {
    "ExecuteTime": {
     "end_time": "2021-01-12T04:24:29.878842Z",
     "start_time": "2021-01-12T04:24:29.788056Z"
    }
   },
   "outputs": [],
   "source": [
    "df = pd.read_csv('data/kc_house_data.csv')\n",
    "ogdf = pd.read_csv('data/kc_house_data.csv')"
   ]
  },
  {
   "cell_type": "markdown",
   "metadata": {
    "ExecuteTime": {
     "end_time": "2021-01-07T15:26:41.597965Z",
     "start_time": "2021-01-07T15:26:41.592972Z"
    }
   },
   "source": [
    "# Column Names and descriptions for Kings County Data Set\n",
    "* **id** - unique identified for a house\n",
    "* **dateDate** - house was sold\n",
    "* **pricePrice** -  is prediction target\n",
    "* **bedroomsNumber** -  of Bedrooms/House\n",
    "* **bathroomsNumber** -  of bathrooms/bedrooms\n",
    "* **sqft_livingsquare** -  footage of the home\n",
    "* **sqft_lotsquare** -  footage of the lot\n",
    "* **floorsTotal** -  floors (levels) in house\n",
    "* **waterfront** - House which has a view to a waterfront\n",
    "* **view** - Has been viewed\n",
    "* **condition** - How good the condition is ( Overall )\n",
    "* **grade** - overall grade given to the housing unit, based on King County grading system\n",
    "* **sqft_above** - square footage of house apart from basement\n",
    "* **sqft_basement** - square footage of the basement\n",
    "* **yr_built** - Built Year\n",
    "* **yr_renovated** - Year when house was renovated\n",
    "* **zipcode** - zip\n",
    "* **lat** - Latitude coordinate\n",
    "* **long** - Longitude coordinate\n",
    "* **sqft_living15** - The square footage of interior housing living space for the nearest 15 neighbors\n",
    "* **sqft_lot15** - The square footage of the land lots of the nearest 15 neighbors"
   ]
  },
  {
   "cell_type": "code",
   "execution_count": 3,
   "metadata": {
    "ExecuteTime": {
     "end_time": "2021-01-12T04:24:31.837321Z",
     "start_time": "2021-01-12T04:24:31.826382Z"
    }
   },
   "outputs": [
    {
     "name": "stdout",
     "output_type": "stream",
     "text": [
      "<class 'pandas.core.frame.DataFrame'>\n",
      "RangeIndex: 21597 entries, 0 to 21596\n",
      "Data columns (total 21 columns):\n",
      " #   Column         Non-Null Count  Dtype  \n",
      "---  ------         --------------  -----  \n",
      " 0   id             21597 non-null  int64  \n",
      " 1   date           21597 non-null  object \n",
      " 2   price          21597 non-null  float64\n",
      " 3   bedrooms       21597 non-null  int64  \n",
      " 4   bathrooms      21597 non-null  float64\n",
      " 5   sqft_living    21597 non-null  int64  \n",
      " 6   sqft_lot       21597 non-null  int64  \n",
      " 7   floors         21597 non-null  float64\n",
      " 8   waterfront     19221 non-null  float64\n",
      " 9   view           21534 non-null  float64\n",
      " 10  condition      21597 non-null  int64  \n",
      " 11  grade          21597 non-null  int64  \n",
      " 12  sqft_above     21597 non-null  int64  \n",
      " 13  sqft_basement  21597 non-null  object \n",
      " 14  yr_built       21597 non-null  int64  \n",
      " 15  yr_renovated   17755 non-null  float64\n",
      " 16  zipcode        21597 non-null  int64  \n",
      " 17  lat            21597 non-null  float64\n",
      " 18  long           21597 non-null  float64\n",
      " 19  sqft_living15  21597 non-null  int64  \n",
      " 20  sqft_lot15     21597 non-null  int64  \n",
      "dtypes: float64(8), int64(11), object(2)\n",
      "memory usage: 3.5+ MB\n"
     ]
    }
   ],
   "source": [
    "df.info()"
   ]
  },
  {
   "cell_type": "code",
   "execution_count": 4,
   "metadata": {
    "ExecuteTime": {
     "end_time": "2021-01-12T04:24:33.549639Z",
     "start_time": "2021-01-12T04:24:33.534656Z"
    }
   },
   "outputs": [
    {
     "data": {
      "text/plain": [
       "id                  0\n",
       "date                0\n",
       "price               0\n",
       "bedrooms            0\n",
       "bathrooms           0\n",
       "sqft_living         0\n",
       "sqft_lot            0\n",
       "floors              0\n",
       "waterfront       2376\n",
       "view               63\n",
       "condition           0\n",
       "grade               0\n",
       "sqft_above          0\n",
       "sqft_basement       0\n",
       "yr_built            0\n",
       "yr_renovated     3842\n",
       "zipcode             0\n",
       "lat                 0\n",
       "long                0\n",
       "sqft_living15       0\n",
       "sqft_lot15          0\n",
       "dtype: int64"
      ]
     },
     "execution_count": 4,
     "metadata": {},
     "output_type": "execute_result"
    }
   ],
   "source": [
    "df.isna().sum()"
   ]
  },
  {
   "cell_type": "markdown",
   "metadata": {},
   "source": [
    "Getting rid of correlated independent variables"
   ]
  },
  {
   "cell_type": "code",
   "execution_count": 5,
   "metadata": {
    "ExecuteTime": {
     "end_time": "2021-01-12T04:24:36.314662Z",
     "start_time": "2021-01-12T04:24:36.284744Z"
    }
   },
   "outputs": [],
   "source": [
    "test = df.corr().abs().stack().reset_index().sort_values(0,ascending=False)\n",
    "test['pairs'] = list(zip(test.level_0,test.level_1))\n",
    "test.set_index(['pairs'], inplace=True)\n",
    "test.drop(columns=['level_1','level_0'], inplace=True)\n",
    "test.columns = ['cc']\n",
    "test.drop_duplicates(inplace=True)"
   ]
  },
  {
   "cell_type": "code",
   "execution_count": 6,
   "metadata": {
    "ExecuteTime": {
     "end_time": "2021-01-12T04:24:36.455285Z",
     "start_time": "2021-01-12T04:24:36.444316Z"
    }
   },
   "outputs": [
    {
     "data": {
      "text/html": [
       "<div>\n",
       "<style scoped>\n",
       "    .dataframe tbody tr th:only-of-type {\n",
       "        vertical-align: middle;\n",
       "    }\n",
       "\n",
       "    .dataframe tbody tr th {\n",
       "        vertical-align: top;\n",
       "    }\n",
       "\n",
       "    .dataframe thead th {\n",
       "        text-align: right;\n",
       "    }\n",
       "</style>\n",
       "<table border=\"1\" class=\"dataframe\">\n",
       "  <thead>\n",
       "    <tr style=\"text-align: right;\">\n",
       "      <th></th>\n",
       "      <th>cc</th>\n",
       "    </tr>\n",
       "    <tr>\n",
       "      <th>pairs</th>\n",
       "      <th></th>\n",
       "    </tr>\n",
       "  </thead>\n",
       "  <tbody>\n",
       "    <tr>\n",
       "      <th>(id, id)</th>\n",
       "      <td>1.000000</td>\n",
       "    </tr>\n",
       "    <tr>\n",
       "      <th>(sqft_living, sqft_above)</th>\n",
       "      <td>0.876448</td>\n",
       "    </tr>\n",
       "    <tr>\n",
       "      <th>(grade, sqft_living)</th>\n",
       "      <td>0.762779</td>\n",
       "    </tr>\n",
       "    <tr>\n",
       "      <th>(sqft_living, sqft_living15)</th>\n",
       "      <td>0.756402</td>\n",
       "    </tr>\n",
       "    <tr>\n",
       "      <th>(sqft_above, grade)</th>\n",
       "      <td>0.756073</td>\n",
       "    </tr>\n",
       "    <tr>\n",
       "      <th>(sqft_living, bathrooms)</th>\n",
       "      <td>0.755758</td>\n",
       "    </tr>\n",
       "  </tbody>\n",
       "</table>\n",
       "</div>"
      ],
      "text/plain": [
       "                                    cc\n",
       "pairs                                 \n",
       "(id, id)                      1.000000\n",
       "(sqft_living, sqft_above)     0.876448\n",
       "(grade, sqft_living)          0.762779\n",
       "(sqft_living, sqft_living15)  0.756402\n",
       "(sqft_above, grade)           0.756073\n",
       "(sqft_living, bathrooms)      0.755758"
      ]
     },
     "execution_count": 6,
     "metadata": {},
     "output_type": "execute_result"
    }
   ],
   "source": [
    "test.sort_values('cc',ascending=False, inplace=True)\n",
    "test[test.cc >.75]"
   ]
  },
  {
   "cell_type": "code",
   "execution_count": 7,
   "metadata": {
    "ExecuteTime": {
     "end_time": "2021-01-12T04:24:38.324621Z",
     "start_time": "2021-01-12T04:24:38.313696Z"
    }
   },
   "outputs": [],
   "source": [
    "#dropping sqft above due to correlation with sqft living\n",
    "df.drop(columns=[\"sqft_above\"], inplace= True)\n",
    "ogdf.drop(columns=[\"sqft_above\"], inplace= True)"
   ]
  },
  {
   "cell_type": "code",
   "execution_count": 8,
   "metadata": {
    "ExecuteTime": {
     "end_time": "2021-01-12T04:24:38.591974Z",
     "start_time": "2021-01-12T04:24:38.585991Z"
    }
   },
   "outputs": [],
   "source": [
    "df.reset_index(inplace=True)"
   ]
  },
  {
   "cell_type": "code",
   "execution_count": 9,
   "metadata": {
    "ExecuteTime": {
     "end_time": "2021-01-12T04:24:38.870106Z",
     "start_time": "2021-01-12T04:24:38.860128Z"
    }
   },
   "outputs": [],
   "source": [
    "df.drop('index',axis=1,inplace=True)"
   ]
  },
  {
   "cell_type": "code",
   "execution_count": 10,
   "metadata": {
    "ExecuteTime": {
     "end_time": "2021-01-12T04:24:39.105682Z",
     "start_time": "2021-01-12T04:24:39.094706Z"
    }
   },
   "outputs": [
    {
     "name": "stdout",
     "output_type": "stream",
     "text": [
      "<class 'pandas.core.frame.DataFrame'>\n",
      "RangeIndex: 21597 entries, 0 to 21596\n",
      "Data columns (total 20 columns):\n",
      " #   Column         Non-Null Count  Dtype  \n",
      "---  ------         --------------  -----  \n",
      " 0   id             21597 non-null  int64  \n",
      " 1   date           21597 non-null  object \n",
      " 2   price          21597 non-null  float64\n",
      " 3   bedrooms       21597 non-null  int64  \n",
      " 4   bathrooms      21597 non-null  float64\n",
      " 5   sqft_living    21597 non-null  int64  \n",
      " 6   sqft_lot       21597 non-null  int64  \n",
      " 7   floors         21597 non-null  float64\n",
      " 8   waterfront     19221 non-null  float64\n",
      " 9   view           21534 non-null  float64\n",
      " 10  condition      21597 non-null  int64  \n",
      " 11  grade          21597 non-null  int64  \n",
      " 12  sqft_basement  21597 non-null  object \n",
      " 13  yr_built       21597 non-null  int64  \n",
      " 14  yr_renovated   17755 non-null  float64\n",
      " 15  zipcode        21597 non-null  int64  \n",
      " 16  lat            21597 non-null  float64\n",
      " 17  long           21597 non-null  float64\n",
      " 18  sqft_living15  21597 non-null  int64  \n",
      " 19  sqft_lot15     21597 non-null  int64  \n",
      "dtypes: float64(8), int64(10), object(2)\n",
      "memory usage: 3.3+ MB\n"
     ]
    }
   ],
   "source": [
    "df.info()"
   ]
  },
  {
   "cell_type": "code",
   "execution_count": 11,
   "metadata": {
    "ExecuteTime": {
     "end_time": "2021-01-12T04:24:41.424810Z",
     "start_time": "2021-01-12T04:24:41.409851Z"
    }
   },
   "outputs": [
    {
     "data": {
      "text/plain": [
       "0.0       12826\n",
       "?           454\n",
       "600.0       217\n",
       "500.0       209\n",
       "700.0       208\n",
       "          ...  \n",
       "2810.0        1\n",
       "475.0         1\n",
       "704.0         1\n",
       "248.0         1\n",
       "295.0         1\n",
       "Name: sqft_basement, Length: 304, dtype: int64"
      ]
     },
     "execution_count": 11,
     "metadata": {},
     "output_type": "execute_result"
    }
   ],
   "source": [
    "df.sqft_basement.value_counts()"
   ]
  },
  {
   "cell_type": "code",
   "execution_count": 12,
   "metadata": {
    "ExecuteTime": {
     "end_time": "2021-01-12T04:24:41.600340Z",
     "start_time": "2021-01-12T04:24:41.595353Z"
    }
   },
   "outputs": [],
   "source": [
    "#replacing ? with 0\n",
    "df['sqft_basement'] = df.sqft_basement.replace(to_replace= '?', value = '0')\n",
    "ogdf['sqft_basement'] = ogdf.sqft_basement.replace(to_replace= '?', value = '0')"
   ]
  },
  {
   "cell_type": "code",
   "execution_count": 13,
   "metadata": {
    "ExecuteTime": {
     "end_time": "2021-01-12T04:24:43.388019Z",
     "start_time": "2021-01-12T04:24:43.345139Z"
    }
   },
   "outputs": [],
   "source": [
    "df.sqft_basement = df.sqft_basement.map(lambda x: int(x.replace('.0','')) if type(x) != 'int' else x)\n",
    "ogdf.sqft_basement = ogdf.sqft_basement.map(lambda x: int(x.replace('.0','')) if type(x) != 'int' else x)"
   ]
  },
  {
   "cell_type": "code",
   "execution_count": 14,
   "metadata": {
    "ExecuteTime": {
     "end_time": "2021-01-12T04:24:43.600588Z",
     "start_time": "2021-01-12T04:24:43.563719Z"
    }
   },
   "outputs": [],
   "source": [
    "#making date datetime format\n",
    "df['date'] = pd.to_datetime(df['date'])"
   ]
  },
  {
   "cell_type": "code",
   "execution_count": 15,
   "metadata": {
    "ExecuteTime": {
     "end_time": "2021-01-12T04:24:43.776180Z",
     "start_time": "2021-01-12T04:24:43.759227Z"
    }
   },
   "outputs": [
    {
     "name": "stdout",
     "output_type": "stream",
     "text": [
      "<class 'pandas.core.frame.DataFrame'>\n",
      "RangeIndex: 21597 entries, 0 to 21596\n",
      "Data columns (total 20 columns):\n",
      " #   Column         Non-Null Count  Dtype         \n",
      "---  ------         --------------  -----         \n",
      " 0   id             21597 non-null  int64         \n",
      " 1   date           21597 non-null  datetime64[ns]\n",
      " 2   price          21597 non-null  float64       \n",
      " 3   bedrooms       21597 non-null  int64         \n",
      " 4   bathrooms      21597 non-null  float64       \n",
      " 5   sqft_living    21597 non-null  int64         \n",
      " 6   sqft_lot       21597 non-null  int64         \n",
      " 7   floors         21597 non-null  float64       \n",
      " 8   waterfront     19221 non-null  float64       \n",
      " 9   view           21534 non-null  float64       \n",
      " 10  condition      21597 non-null  int64         \n",
      " 11  grade          21597 non-null  int64         \n",
      " 12  sqft_basement  21597 non-null  int64         \n",
      " 13  yr_built       21597 non-null  int64         \n",
      " 14  yr_renovated   17755 non-null  float64       \n",
      " 15  zipcode        21597 non-null  int64         \n",
      " 16  lat            21597 non-null  float64       \n",
      " 17  long           21597 non-null  float64       \n",
      " 18  sqft_living15  21597 non-null  int64         \n",
      " 19  sqft_lot15     21597 non-null  int64         \n",
      "dtypes: datetime64[ns](1), float64(8), int64(11)\n",
      "memory usage: 3.3 MB\n"
     ]
    }
   ],
   "source": [
    "df.info()"
   ]
  },
  {
   "cell_type": "code",
   "execution_count": 16,
   "metadata": {
    "ExecuteTime": {
     "end_time": "2021-01-12T04:24:45.314251Z",
     "start_time": "2021-01-12T04:24:45.305277Z"
    }
   },
   "outputs": [],
   "source": [
    "#adding column for month\n",
    "df['month'] = df.date.dt.month"
   ]
  },
  {
   "cell_type": "code",
   "execution_count": 17,
   "metadata": {
    "ExecuteTime": {
     "end_time": "2021-01-12T04:24:45.485489Z",
     "start_time": "2021-01-12T04:24:45.482498Z"
    }
   },
   "outputs": [],
   "source": [
    "conts = []\n",
    "cats = []"
   ]
  },
  {
   "cell_type": "code",
   "execution_count": 18,
   "metadata": {
    "ExecuteTime": {
     "end_time": "2021-01-12T04:24:45.658258Z",
     "start_time": "2021-01-12T04:24:45.648279Z"
    }
   },
   "outputs": [],
   "source": [
    "\n",
    "for col in df.columns:\n",
    "    if(df[col].nunique() < 25):\n",
    "        cats.append(col)\n",
    "    else:\n",
    "        conts.append(col)"
   ]
  },
  {
   "cell_type": "code",
   "execution_count": 19,
   "metadata": {
    "ExecuteTime": {
     "end_time": "2021-01-12T04:24:45.837297Z",
     "start_time": "2021-01-12T04:24:45.834334Z"
    }
   },
   "outputs": [],
   "source": [
    "conts.remove('zipcode')"
   ]
  },
  {
   "cell_type": "code",
   "execution_count": 20,
   "metadata": {
    "ExecuteTime": {
     "end_time": "2021-01-12T04:24:46.012348Z",
     "start_time": "2021-01-12T04:24:46.007365Z"
    }
   },
   "outputs": [
    {
     "data": {
      "text/plain": [
       "['id',\n",
       " 'date',\n",
       " 'price',\n",
       " 'bathrooms',\n",
       " 'sqft_living',\n",
       " 'sqft_lot',\n",
       " 'sqft_basement',\n",
       " 'yr_built',\n",
       " 'yr_renovated',\n",
       " 'lat',\n",
       " 'long',\n",
       " 'sqft_living15',\n",
       " 'sqft_lot15']"
      ]
     },
     "execution_count": 20,
     "metadata": {},
     "output_type": "execute_result"
    }
   ],
   "source": [
    "conts"
   ]
  },
  {
   "cell_type": "code",
   "execution_count": 21,
   "metadata": {
    "ExecuteTime": {
     "end_time": "2021-01-12T04:24:46.205932Z",
     "start_time": "2021-01-12T04:24:46.201944Z"
    }
   },
   "outputs": [],
   "source": [
    "cats.append('zipcode')"
   ]
  },
  {
   "cell_type": "code",
   "execution_count": 22,
   "metadata": {
    "ExecuteTime": {
     "end_time": "2021-01-12T04:24:46.390438Z",
     "start_time": "2021-01-12T04:24:46.385451Z"
    }
   },
   "outputs": [
    {
     "data": {
      "text/plain": [
       "['bedrooms',\n",
       " 'floors',\n",
       " 'waterfront',\n",
       " 'view',\n",
       " 'condition',\n",
       " 'grade',\n",
       " 'month',\n",
       " 'zipcode']"
      ]
     },
     "execution_count": 22,
     "metadata": {},
     "output_type": "execute_result"
    }
   ],
   "source": [
    "cats"
   ]
  },
  {
   "cell_type": "code",
   "execution_count": 23,
   "metadata": {
    "ExecuteTime": {
     "end_time": "2021-01-12T04:24:46.614989Z",
     "start_time": "2021-01-12T04:24:46.593048Z"
    }
   },
   "outputs": [
    {
     "data": {
      "text/html": [
       "<div>\n",
       "<style scoped>\n",
       "    .dataframe tbody tr th:only-of-type {\n",
       "        vertical-align: middle;\n",
       "    }\n",
       "\n",
       "    .dataframe tbody tr th {\n",
       "        vertical-align: top;\n",
       "    }\n",
       "\n",
       "    .dataframe thead th {\n",
       "        text-align: right;\n",
       "    }\n",
       "</style>\n",
       "<table border=\"1\" class=\"dataframe\">\n",
       "  <thead>\n",
       "    <tr style=\"text-align: right;\">\n",
       "      <th></th>\n",
       "      <th>id</th>\n",
       "      <th>date</th>\n",
       "      <th>price</th>\n",
       "      <th>bathrooms</th>\n",
       "      <th>sqft_living</th>\n",
       "      <th>sqft_lot</th>\n",
       "      <th>sqft_basement</th>\n",
       "      <th>yr_built</th>\n",
       "      <th>yr_renovated</th>\n",
       "      <th>lat</th>\n",
       "      <th>long</th>\n",
       "      <th>sqft_living15</th>\n",
       "      <th>sqft_lot15</th>\n",
       "    </tr>\n",
       "  </thead>\n",
       "  <tbody>\n",
       "    <tr>\n",
       "      <th>0</th>\n",
       "      <td>7129300520</td>\n",
       "      <td>2014-10-13</td>\n",
       "      <td>221900.0</td>\n",
       "      <td>1.00</td>\n",
       "      <td>1180</td>\n",
       "      <td>5650</td>\n",
       "      <td>0</td>\n",
       "      <td>1955</td>\n",
       "      <td>0.0</td>\n",
       "      <td>47.5112</td>\n",
       "      <td>-122.257</td>\n",
       "      <td>1340</td>\n",
       "      <td>5650</td>\n",
       "    </tr>\n",
       "    <tr>\n",
       "      <th>1</th>\n",
       "      <td>6414100192</td>\n",
       "      <td>2014-12-09</td>\n",
       "      <td>538000.0</td>\n",
       "      <td>2.25</td>\n",
       "      <td>2570</td>\n",
       "      <td>7242</td>\n",
       "      <td>400</td>\n",
       "      <td>1951</td>\n",
       "      <td>1991.0</td>\n",
       "      <td>47.7210</td>\n",
       "      <td>-122.319</td>\n",
       "      <td>1690</td>\n",
       "      <td>7639</td>\n",
       "    </tr>\n",
       "    <tr>\n",
       "      <th>2</th>\n",
       "      <td>5631500400</td>\n",
       "      <td>2015-02-25</td>\n",
       "      <td>180000.0</td>\n",
       "      <td>1.00</td>\n",
       "      <td>770</td>\n",
       "      <td>10000</td>\n",
       "      <td>0</td>\n",
       "      <td>1933</td>\n",
       "      <td>NaN</td>\n",
       "      <td>47.7379</td>\n",
       "      <td>-122.233</td>\n",
       "      <td>2720</td>\n",
       "      <td>8062</td>\n",
       "    </tr>\n",
       "    <tr>\n",
       "      <th>3</th>\n",
       "      <td>2487200875</td>\n",
       "      <td>2014-12-09</td>\n",
       "      <td>604000.0</td>\n",
       "      <td>3.00</td>\n",
       "      <td>1960</td>\n",
       "      <td>5000</td>\n",
       "      <td>910</td>\n",
       "      <td>1965</td>\n",
       "      <td>0.0</td>\n",
       "      <td>47.5208</td>\n",
       "      <td>-122.393</td>\n",
       "      <td>1360</td>\n",
       "      <td>5000</td>\n",
       "    </tr>\n",
       "    <tr>\n",
       "      <th>4</th>\n",
       "      <td>1954400510</td>\n",
       "      <td>2015-02-18</td>\n",
       "      <td>510000.0</td>\n",
       "      <td>2.00</td>\n",
       "      <td>1680</td>\n",
       "      <td>8080</td>\n",
       "      <td>0</td>\n",
       "      <td>1987</td>\n",
       "      <td>0.0</td>\n",
       "      <td>47.6168</td>\n",
       "      <td>-122.045</td>\n",
       "      <td>1800</td>\n",
       "      <td>7503</td>\n",
       "    </tr>\n",
       "    <tr>\n",
       "      <th>...</th>\n",
       "      <td>...</td>\n",
       "      <td>...</td>\n",
       "      <td>...</td>\n",
       "      <td>...</td>\n",
       "      <td>...</td>\n",
       "      <td>...</td>\n",
       "      <td>...</td>\n",
       "      <td>...</td>\n",
       "      <td>...</td>\n",
       "      <td>...</td>\n",
       "      <td>...</td>\n",
       "      <td>...</td>\n",
       "      <td>...</td>\n",
       "    </tr>\n",
       "    <tr>\n",
       "      <th>21592</th>\n",
       "      <td>263000018</td>\n",
       "      <td>2014-05-21</td>\n",
       "      <td>360000.0</td>\n",
       "      <td>2.50</td>\n",
       "      <td>1530</td>\n",
       "      <td>1131</td>\n",
       "      <td>0</td>\n",
       "      <td>2009</td>\n",
       "      <td>0.0</td>\n",
       "      <td>47.6993</td>\n",
       "      <td>-122.346</td>\n",
       "      <td>1530</td>\n",
       "      <td>1509</td>\n",
       "    </tr>\n",
       "    <tr>\n",
       "      <th>21593</th>\n",
       "      <td>6600060120</td>\n",
       "      <td>2015-02-23</td>\n",
       "      <td>400000.0</td>\n",
       "      <td>2.50</td>\n",
       "      <td>2310</td>\n",
       "      <td>5813</td>\n",
       "      <td>0</td>\n",
       "      <td>2014</td>\n",
       "      <td>0.0</td>\n",
       "      <td>47.5107</td>\n",
       "      <td>-122.362</td>\n",
       "      <td>1830</td>\n",
       "      <td>7200</td>\n",
       "    </tr>\n",
       "    <tr>\n",
       "      <th>21594</th>\n",
       "      <td>1523300141</td>\n",
       "      <td>2014-06-23</td>\n",
       "      <td>402101.0</td>\n",
       "      <td>0.75</td>\n",
       "      <td>1020</td>\n",
       "      <td>1350</td>\n",
       "      <td>0</td>\n",
       "      <td>2009</td>\n",
       "      <td>0.0</td>\n",
       "      <td>47.5944</td>\n",
       "      <td>-122.299</td>\n",
       "      <td>1020</td>\n",
       "      <td>2007</td>\n",
       "    </tr>\n",
       "    <tr>\n",
       "      <th>21595</th>\n",
       "      <td>291310100</td>\n",
       "      <td>2015-01-16</td>\n",
       "      <td>400000.0</td>\n",
       "      <td>2.50</td>\n",
       "      <td>1600</td>\n",
       "      <td>2388</td>\n",
       "      <td>0</td>\n",
       "      <td>2004</td>\n",
       "      <td>0.0</td>\n",
       "      <td>47.5345</td>\n",
       "      <td>-122.069</td>\n",
       "      <td>1410</td>\n",
       "      <td>1287</td>\n",
       "    </tr>\n",
       "    <tr>\n",
       "      <th>21596</th>\n",
       "      <td>1523300157</td>\n",
       "      <td>2014-10-15</td>\n",
       "      <td>325000.0</td>\n",
       "      <td>0.75</td>\n",
       "      <td>1020</td>\n",
       "      <td>1076</td>\n",
       "      <td>0</td>\n",
       "      <td>2008</td>\n",
       "      <td>0.0</td>\n",
       "      <td>47.5941</td>\n",
       "      <td>-122.299</td>\n",
       "      <td>1020</td>\n",
       "      <td>1357</td>\n",
       "    </tr>\n",
       "  </tbody>\n",
       "</table>\n",
       "<p>21597 rows × 13 columns</p>\n",
       "</div>"
      ],
      "text/plain": [
       "               id       date     price  bathrooms  sqft_living  sqft_lot  \\\n",
       "0      7129300520 2014-10-13  221900.0       1.00         1180      5650   \n",
       "1      6414100192 2014-12-09  538000.0       2.25         2570      7242   \n",
       "2      5631500400 2015-02-25  180000.0       1.00          770     10000   \n",
       "3      2487200875 2014-12-09  604000.0       3.00         1960      5000   \n",
       "4      1954400510 2015-02-18  510000.0       2.00         1680      8080   \n",
       "...           ...        ...       ...        ...          ...       ...   \n",
       "21592   263000018 2014-05-21  360000.0       2.50         1530      1131   \n",
       "21593  6600060120 2015-02-23  400000.0       2.50         2310      5813   \n",
       "21594  1523300141 2014-06-23  402101.0       0.75         1020      1350   \n",
       "21595   291310100 2015-01-16  400000.0       2.50         1600      2388   \n",
       "21596  1523300157 2014-10-15  325000.0       0.75         1020      1076   \n",
       "\n",
       "       sqft_basement  yr_built  yr_renovated      lat     long  sqft_living15  \\\n",
       "0                  0      1955           0.0  47.5112 -122.257           1340   \n",
       "1                400      1951        1991.0  47.7210 -122.319           1690   \n",
       "2                  0      1933           NaN  47.7379 -122.233           2720   \n",
       "3                910      1965           0.0  47.5208 -122.393           1360   \n",
       "4                  0      1987           0.0  47.6168 -122.045           1800   \n",
       "...              ...       ...           ...      ...      ...            ...   \n",
       "21592              0      2009           0.0  47.6993 -122.346           1530   \n",
       "21593              0      2014           0.0  47.5107 -122.362           1830   \n",
       "21594              0      2009           0.0  47.5944 -122.299           1020   \n",
       "21595              0      2004           0.0  47.5345 -122.069           1410   \n",
       "21596              0      2008           0.0  47.5941 -122.299           1020   \n",
       "\n",
       "       sqft_lot15  \n",
       "0            5650  \n",
       "1            7639  \n",
       "2            8062  \n",
       "3            5000  \n",
       "4            7503  \n",
       "...           ...  \n",
       "21592        1509  \n",
       "21593        7200  \n",
       "21594        2007  \n",
       "21595        1287  \n",
       "21596        1357  \n",
       "\n",
       "[21597 rows x 13 columns]"
      ]
     },
     "execution_count": 23,
     "metadata": {},
     "output_type": "execute_result"
    }
   ],
   "source": [
    "dfconts = df[conts]\n",
    "dfconts"
   ]
  },
  {
   "cell_type": "code",
   "execution_count": 24,
   "metadata": {
    "ExecuteTime": {
     "end_time": "2021-01-12T04:24:48.695590Z",
     "start_time": "2021-01-12T04:24:48.687647Z"
    }
   },
   "outputs": [],
   "source": [
    "dfcats = df[cats]"
   ]
  },
  {
   "cell_type": "code",
   "execution_count": 25,
   "metadata": {
    "ExecuteTime": {
     "end_time": "2021-01-12T04:24:49.891685Z",
     "start_time": "2021-01-12T04:24:48.933210Z"
    }
   },
   "outputs": [
    {
     "data": {
      "text/plain": [
       "array([[<AxesSubplot:title={'center':'bedrooms'}>,\n",
       "        <AxesSubplot:title={'center':'floors'}>,\n",
       "        <AxesSubplot:title={'center':'waterfront'}>],\n",
       "       [<AxesSubplot:title={'center':'view'}>,\n",
       "        <AxesSubplot:title={'center':'condition'}>,\n",
       "        <AxesSubplot:title={'center':'grade'}>],\n",
       "       [<AxesSubplot:title={'center':'month'}>,\n",
       "        <AxesSubplot:title={'center':'zipcode'}>, <AxesSubplot:>]],\n",
       "      dtype=object)"
      ]
     },
     "execution_count": 25,
     "metadata": {},
     "output_type": "execute_result"
    },
    {
     "data": {
      "image/png": "[encoded data removed]",
      "text/plain": [
       "<Figure size 864x720 with 9 Axes>"
      ]
     },
     "metadata": {
      "needs_background": "light"
     },
     "output_type": "display_data"
    }
   ],
   "source": [
    "dfcats.hist(figsize=(12,10))"
   ]
  },
  {
   "cell_type": "code",
   "execution_count": 26,
   "metadata": {
    "ExecuteTime": {
     "end_time": "2021-01-12T04:24:52.392430Z",
     "start_time": "2021-01-12T04:24:51.016344Z"
    }
   },
   "outputs": [
    {
     "data": {
      "text/plain": [
       "array([[<AxesSubplot:title={'center':'id'}>,\n",
       "        <AxesSubplot:title={'center':'price'}>,\n",
       "        <AxesSubplot:title={'center':'bathrooms'}>],\n",
       "       [<AxesSubplot:title={'center':'sqft_living'}>,\n",
       "        <AxesSubplot:title={'center':'sqft_lot'}>,\n",
       "        <AxesSubplot:title={'center':'sqft_basement'}>],\n",
       "       [<AxesSubplot:title={'center':'yr_built'}>,\n",
       "        <AxesSubplot:title={'center':'yr_renovated'}>,\n",
       "        <AxesSubplot:title={'center':'lat'}>],\n",
       "       [<AxesSubplot:title={'center':'long'}>,\n",
       "        <AxesSubplot:title={'center':'sqft_living15'}>,\n",
       "        <AxesSubplot:title={'center':'sqft_lot15'}>]], dtype=object)"
      ]
     },
     "execution_count": 26,
     "metadata": {},
     "output_type": "execute_result"
    },
    {
     "data": {
      "image/png": "[encoded data removed]",
      "text/plain": [
       "<Figure size 864x720 with 12 Axes>"
      ]
     },
     "metadata": {
      "needs_background": "light"
     },
     "output_type": "display_data"
    }
   ],
   "source": [
    "dfconts.hist(figsize=(12,10))"
   ]
  },
  {
   "cell_type": "code",
   "execution_count": 27,
   "metadata": {
    "ExecuteTime": {
     "end_time": "2021-01-12T04:24:53.366824Z",
     "start_time": "2021-01-12T04:24:52.553996Z"
    }
   },
   "outputs": [
    {
     "data": {
      "text/plain": [
       "<AxesSubplot:xlabel='bedrooms', ylabel='Density'>"
      ]
     },
     "execution_count": 27,
     "metadata": {},
     "output_type": "execute_result"
    },
    {
     "data": {
      "image/png": "[encoded data removed]",
      "text/plain": [
       "<Figure size 432x288 with 1 Axes>"
      ]
     },
     "metadata": {
      "needs_background": "light"
     },
     "output_type": "display_data"
    }
   ],
   "source": [
    "#looks like 90-99% of homes have 10 or less bedrooms\n",
    "sns.histplot(x='bedrooms',data=dfcats,bins='auto',cumulative=True,stat='density',kde=True)"
   ]
  },
  {
   "cell_type": "code",
   "execution_count": 28,
   "metadata": {
    "ExecuteTime": {
     "end_time": "2021-01-12T04:24:53.523431Z",
     "start_time": "2021-01-12T04:24:53.517420Z"
    }
   },
   "outputs": [
    {
     "data": {
      "text/plain": [
       "id                  0\n",
       "date                0\n",
       "price               0\n",
       "bedrooms            0\n",
       "bathrooms           0\n",
       "sqft_living         0\n",
       "sqft_lot            0\n",
       "floors              0\n",
       "waterfront       2376\n",
       "view               63\n",
       "condition           0\n",
       "grade               0\n",
       "sqft_basement       0\n",
       "yr_built            0\n",
       "yr_renovated     3842\n",
       "zipcode             0\n",
       "lat                 0\n",
       "long                0\n",
       "sqft_living15       0\n",
       "sqft_lot15          0\n",
       "month               0\n",
       "dtype: int64"
      ]
     },
     "execution_count": 28,
     "metadata": {},
     "output_type": "execute_result"
    }
   ],
   "source": [
    "df.isna().sum()"
   ]
  },
  {
   "cell_type": "code",
   "execution_count": 29,
   "metadata": {
    "ExecuteTime": {
     "end_time": "2021-01-12T04:24:57.313981Z",
     "start_time": "2021-01-12T04:24:57.308993Z"
    }
   },
   "outputs": [],
   "source": [
    "t1 = ogdf"
   ]
  },
  {
   "cell_type": "code",
   "execution_count": 30,
   "metadata": {
    "ExecuteTime": {
     "end_time": "2021-01-12T04:24:57.592398Z",
     "start_time": "2021-01-12T04:24:57.584416Z"
    }
   },
   "outputs": [],
   "source": [
    "t1['yr_renovated'] = t1['yr_renovated'].apply(lambda x: 1 if (x >0) else x)"
   ]
  },
  {
   "cell_type": "code",
   "execution_count": 31,
   "metadata": {
    "ExecuteTime": {
     "end_time": "2021-01-12T04:24:57.844829Z",
     "start_time": "2021-01-12T04:24:57.840840Z"
    }
   },
   "outputs": [
    {
     "data": {
      "text/plain": [
       "array([ 0.,  1., nan])"
      ]
     },
     "execution_count": 31,
     "metadata": {},
     "output_type": "execute_result"
    }
   ],
   "source": [
    "t1.yr_renovated.unique()"
   ]
  },
  {
   "cell_type": "code",
   "execution_count": 32,
   "metadata": {
    "ExecuteTime": {
     "end_time": "2021-01-12T04:24:59.132237Z",
     "start_time": "2021-01-12T04:24:59.114292Z"
    }
   },
   "outputs": [],
   "source": [
    "not_renovated = len(t1[t1.yr_renovated == 0])"
   ]
  },
  {
   "cell_type": "code",
   "execution_count": 33,
   "metadata": {
    "ExecuteTime": {
     "end_time": "2021-01-12T04:24:59.881469Z",
     "start_time": "2021-01-12T04:24:59.876483Z"
    }
   },
   "outputs": [
    {
     "data": {
      "text/plain": [
       "744.0"
      ]
     },
     "execution_count": 33,
     "metadata": {},
     "output_type": "execute_result"
    }
   ],
   "source": [
    "num_renovated = t1.yr_renovated.sum()\n",
    "num_renovated"
   ]
  },
  {
   "cell_type": "code",
   "execution_count": 34,
   "metadata": {
    "ExecuteTime": {
     "end_time": "2021-01-12T04:25:14.725680Z",
     "start_time": "2021-01-12T04:25:14.710722Z"
    }
   },
   "outputs": [],
   "source": [
    "df['been_renovated'] = df['yr_renovated'].apply(lambda x: 1 if x>0 else x)"
   ]
  },
  {
   "cell_type": "code",
   "execution_count": 35,
   "metadata": {
    "ExecuteTime": {
     "end_time": "2021-01-12T04:25:37.144085Z",
     "start_time": "2021-01-12T04:25:37.138106Z"
    }
   },
   "outputs": [],
   "source": [
    "renovated_weights = list(df.been_renovated.value_counts(normalize=True))\n"
   ]
  },
  {
   "cell_type": "code",
   "execution_count": 36,
   "metadata": {
    "ExecuteTime": {
     "end_time": "2021-01-12T04:25:37.729048Z",
     "start_time": "2021-01-12T04:25:37.721071Z"
    }
   },
   "outputs": [
    {
     "data": {
      "text/plain": [
       "[0.9580963108983385, 0.041903689101661507]"
      ]
     },
     "execution_count": 36,
     "metadata": {},
     "output_type": "execute_result"
    }
   ],
   "source": [
    "renovated_weights"
   ]
  },
  {
   "cell_type": "code",
   "execution_count": 37,
   "metadata": {
    "ExecuteTime": {
     "end_time": "2021-01-12T04:26:22.524509Z",
     "start_time": "2021-01-12T04:26:22.410669Z"
    }
   },
   "outputs": [],
   "source": [
    "a = [0,1]\n",
    "df['been_renovated'] = df['been_renovated'].apply(lambda x: np.random.choice(a,p=renovated_weights) if np.isnan(x) else x)"
   ]
  },
  {
   "cell_type": "code",
   "execution_count": 42,
   "metadata": {
    "ExecuteTime": {
     "end_time": "2021-01-12T04:28:35.144914Z",
     "start_time": "2021-01-12T04:28:35.134940Z"
    }
   },
   "outputs": [
    {
     "data": {
      "text/plain": [
       "0.0       0.958096\n",
       "2014.0    0.004112\n",
       "2003.0    0.001746\n",
       "2013.0    0.001746\n",
       "2007.0    0.001690\n",
       "            ...   \n",
       "1946.0    0.000056\n",
       "1959.0    0.000056\n",
       "1971.0    0.000056\n",
       "1951.0    0.000056\n",
       "1954.0    0.000056\n",
       "Name: yr_renovated, Length: 70, dtype: float64"
      ]
     },
     "execution_count": 42,
     "metadata": {},
     "output_type": "execute_result"
    }
   ],
   "source": [
    "df.yr_renovated.value_counts(normalize=True)"
   ]
  },
  {
   "cell_type": "code",
   "execution_count": 39,
   "metadata": {
    "ExecuteTime": {
     "end_time": "2021-01-12T04:26:56.991244Z",
     "start_time": "2021-01-12T04:26:56.984290Z"
    }
   },
   "outputs": [
    {
     "data": {
      "text/plain": [
       "0.0    0.957633\n",
       "1.0    0.042367\n",
       "Name: been_renovated, dtype: float64"
      ]
     },
     "execution_count": 39,
     "metadata": {},
     "output_type": "execute_result"
    }
   ],
   "source": [
    "df.been_renovated.value_counts(normalize=True)"
   ]
  },
  {
   "cell_type": "code",
   "execution_count": null,
   "metadata": {
    "ExecuteTime": {
     "end_time": "2021-01-11T05:08:47.593979Z",
     "start_time": "2021-01-11T05:08:47.589990Z"
    }
   },
   "outputs": [],
   "source": [
    "### df.rename(columns={\"yr_renovated\": \"been_renovated\"},inplace=True)"
   ]
  },
  {
   "cell_type": "code",
   "execution_count": 43,
   "metadata": {
    "ExecuteTime": {
     "end_time": "2021-01-12T04:30:02.962721Z",
     "start_time": "2021-01-12T04:30:02.950724Z"
    }
   },
   "outputs": [
    {
     "data": {
      "text/plain": [
       "id                   0\n",
       "date                 0\n",
       "price                0\n",
       "bedrooms             0\n",
       "bathrooms            0\n",
       "sqft_living          0\n",
       "sqft_lot             0\n",
       "floors               0\n",
       "waterfront        2376\n",
       "view                63\n",
       "condition            0\n",
       "grade                0\n",
       "sqft_basement        0\n",
       "yr_built             0\n",
       "yr_renovated      3842\n",
       "zipcode              0\n",
       "lat                  0\n",
       "long                 0\n",
       "sqft_living15        0\n",
       "sqft_lot15           0\n",
       "month                0\n",
       "been_renovated       0\n",
       "dtype: int64"
      ]
     },
     "execution_count": 43,
     "metadata": {},
     "output_type": "execute_result"
    }
   ],
   "source": [
    "df.yr_renovated.isna()"
   ]
  },
  {
   "cell_type": "code",
   "execution_count": 53,
   "metadata": {
    "ExecuteTime": {
     "end_time": "2021-01-12T04:40:54.852425Z",
     "start_time": "2021-01-12T04:40:54.842453Z"
    }
   },
   "outputs": [],
   "source": [
    "df.dropna(subset=['view'],inplace=True)"
   ]
  },
  {
   "cell_type": "code",
   "execution_count": 61,
   "metadata": {
    "ExecuteTime": {
     "end_time": "2021-01-12T04:41:48.361207Z",
     "start_time": "2021-01-12T04:41:48.349210Z"
    }
   },
   "outputs": [],
   "source": [
    "ogdf.dropna(subset=['view'],inplace=True)"
   ]
  },
  {
   "cell_type": "code",
   "execution_count": null,
   "metadata": {},
   "outputs": [],
   "source": []
  },
  {
   "cell_type": "code",
   "execution_count": 63,
   "metadata": {
    "ExecuteTime": {
     "end_time": "2021-01-12T04:42:55.044596Z",
     "start_time": "2021-01-12T04:42:55.039639Z"
    }
   },
   "outputs": [],
   "source": [
    "ogdf.fillna(0, inplace=True)"
   ]
  },
  {
   "cell_type": "code",
   "execution_count": 54,
   "metadata": {
    "ExecuteTime": {
     "end_time": "2021-01-12T04:40:55.785957Z",
     "start_time": "2021-01-12T04:40:55.773958Z"
    }
   },
   "outputs": [
    {
     "data": {
      "text/plain": [
       "id                   0\n",
       "date                 0\n",
       "price                0\n",
       "bedrooms             0\n",
       "bathrooms            0\n",
       "sqft_living          0\n",
       "sqft_lot             0\n",
       "floors               0\n",
       "waterfront        2370\n",
       "view                 0\n",
       "condition            0\n",
       "grade                0\n",
       "sqft_basement        0\n",
       "yr_built             0\n",
       "yr_renovated      3830\n",
       "zipcode              0\n",
       "lat                  0\n",
       "long                 0\n",
       "sqft_living15        0\n",
       "sqft_lot15           0\n",
       "month                0\n",
       "been_renovated       0\n",
       "dtype: int64"
      ]
     },
     "execution_count": 54,
     "metadata": {},
     "output_type": "execute_result"
    }
   ],
   "source": [
    "df.isna().sum()"
   ]
  },
  {
   "cell_type": "code",
   "execution_count": null,
   "metadata": {},
   "outputs": [],
   "source": [
    "#titanic.loc[(titanic.Pclass==3) & (titanic.Cabin.isna()), 'Cabin'] = 'B'  "
   ]
  },
  {
   "cell_type": "code",
   "execution_count": 55,
   "metadata": {
    "ExecuteTime": {
     "end_time": "2021-01-12T04:41:02.071766Z",
     "start_time": "2021-01-12T04:41:02.063759Z"
    }
   },
   "outputs": [],
   "source": [
    "total = 21534\n",
    "nan = len(ogdf[ogdf.waterfront.isna()])"
   ]
  },
  {
   "cell_type": "code",
   "execution_count": 56,
   "metadata": {
    "ExecuteTime": {
     "end_time": "2021-01-12T04:41:03.862596Z",
     "start_time": "2021-01-12T04:41:03.713964Z"
    }
   },
   "outputs": [],
   "source": [
    "\n",
    "waterfrontweights = [(1-nan/total),nan/total]\n",
    "ogdf['waterfront'] = ogdf['waterfront'].apply(lambda x: np.random.choice(a,p=waterfrontweights) if np.isnan(x) else x)\n",
    "df['waterfront'] = df['waterfront'].apply(lambda x: np.random.choice(a,p=waterfrontweights) if np.isnan(x) else x)"
   ]
  },
  {
   "cell_type": "code",
   "execution_count": 57,
   "metadata": {
    "ExecuteTime": {
     "end_time": "2021-01-12T04:41:04.902821Z",
     "start_time": "2021-01-12T04:41:04.895811Z"
    }
   },
   "outputs": [],
   "source": [
    "df.loc[(df.waterfront.isna()) & (df.price > 900000),'waterfront'] =1"
   ]
  },
  {
   "cell_type": "code",
   "execution_count": 58,
   "metadata": {
    "ExecuteTime": {
     "end_time": "2021-01-12T04:41:05.974409Z",
     "start_time": "2021-01-12T04:41:05.964440Z"
    }
   },
   "outputs": [
    {
     "data": {
      "text/plain": [
       "id                   0\n",
       "date                 0\n",
       "price                0\n",
       "bedrooms             0\n",
       "bathrooms            0\n",
       "sqft_living          0\n",
       "sqft_lot             0\n",
       "floors               0\n",
       "waterfront           0\n",
       "view                 0\n",
       "condition            0\n",
       "grade                0\n",
       "sqft_basement        0\n",
       "yr_built             0\n",
       "yr_renovated      3830\n",
       "zipcode              0\n",
       "lat                  0\n",
       "long                 0\n",
       "sqft_living15        0\n",
       "sqft_lot15           0\n",
       "month                0\n",
       "been_renovated       0\n",
       "dtype: int64"
      ]
     },
     "execution_count": 58,
     "metadata": {},
     "output_type": "execute_result"
    }
   ],
   "source": [
    "df.isna().sum()"
   ]
  },
  {
   "cell_type": "markdown",
   "metadata": {},
   "source": [
    "## Base Model on Original DF"
   ]
  },
  {
   "cell_type": "code",
   "execution_count": 64,
   "metadata": {
    "ExecuteTime": {
     "end_time": "2021-01-12T04:43:00.720713Z",
     "start_time": "2021-01-12T04:43:00.709754Z"
    }
   },
   "outputs": [
    {
     "data": {
      "text/plain": [
       "id               0\n",
       "date             0\n",
       "price            0\n",
       "bedrooms         0\n",
       "bathrooms        0\n",
       "sqft_living      0\n",
       "sqft_lot         0\n",
       "floors           0\n",
       "waterfront       0\n",
       "view             0\n",
       "condition        0\n",
       "grade            0\n",
       "sqft_above       0\n",
       "sqft_basement    0\n",
       "yr_built         0\n",
       "yr_renovated     0\n",
       "zipcode          0\n",
       "lat              0\n",
       "long             0\n",
       "sqft_living15    0\n",
       "sqft_lot15       0\n",
       "dtype: int64"
      ]
     },
     "execution_count": 64,
     "metadata": {},
     "output_type": "execute_result"
    }
   ],
   "source": [
    "ogdf.isna().sum()"
   ]
  },
  {
   "cell_type": "code",
   "execution_count": 67,
   "metadata": {
    "ExecuteTime": {
     "end_time": "2021-01-12T04:44:00.413381Z",
     "start_time": "2021-01-12T04:44:00.400418Z"
    }
   },
   "outputs": [
    {
     "data": {
      "text/plain": [
       "Index(['bedrooms', 'bathrooms', 'sqft_living', 'sqft_lot', 'floors',\n",
       "       'waterfront', 'view', 'condition', 'grade', 'sqft_basement', 'yr_built',\n",
       "       'yr_renovated', 'zipcode', 'lat', 'long', 'sqft_lot15'],\n",
       "      dtype='object')"
      ]
     },
     "execution_count": 67,
     "metadata": {},
     "output_type": "execute_result"
    }
   ],
   "source": [
    "outcome = 'price'\n",
    "x_cols = ogdf.drop(['price', 'id', 'date', 'sqft_living15',], axis = 1).columns\n",
    "\n",
    "x_cols"
   ]
  },
  {
   "cell_type": "code",
   "execution_count": 68,
   "metadata": {
    "ExecuteTime": {
     "end_time": "2021-01-12T04:44:06.067879Z",
     "start_time": "2021-01-12T04:44:05.983085Z"
    }
   },
   "outputs": [
    {
     "data": {
      "text/html": [
       "<table class=\"simpletable\">\n",
       "<caption>OLS Regression Results</caption>\n",
       "<tr>\n",
       "  <th>Dep. Variable:</th>          <td>price</td>      <th>  R-squared:         </th>  <td>   0.689</td>  \n",
       "</tr>\n",
       "<tr>\n",
       "  <th>Model:</th>                   <td>OLS</td>       <th>  Adj. R-squared:    </th>  <td>   0.689</td>  \n",
       "</tr>\n",
       "<tr>\n",
       "  <th>Method:</th>             <td>Least Squares</td>  <th>  F-statistic:       </th>  <td>   2984.</td>  \n",
       "</tr>\n",
       "<tr>\n",
       "  <th>Date:</th>             <td>Mon, 11 Jan 2021</td> <th>  Prob (F-statistic):</th>   <td>  0.00</td>   \n",
       "</tr>\n",
       "<tr>\n",
       "  <th>Time:</th>                 <td>23:44:06</td>     <th>  Log-Likelihood:    </th> <td>-2.9383e+05</td>\n",
       "</tr>\n",
       "<tr>\n",
       "  <th>No. Observations:</th>      <td> 21534</td>      <th>  AIC:               </th>  <td>5.877e+05</td> \n",
       "</tr>\n",
       "<tr>\n",
       "  <th>Df Residuals:</th>          <td> 21517</td>      <th>  BIC:               </th>  <td>5.878e+05</td> \n",
       "</tr>\n",
       "<tr>\n",
       "  <th>Df Model:</th>              <td>    16</td>      <th>                     </th>      <td> </td>     \n",
       "</tr>\n",
       "<tr>\n",
       "  <th>Covariance Type:</th>      <td>nonrobust</td>    <th>                     </th>      <td> </td>     \n",
       "</tr>\n",
       "</table>\n",
       "<table class=\"simpletable\">\n",
       "<tr>\n",
       "        <td></td>           <th>coef</th>     <th>std err</th>      <th>t</th>      <th>P>|t|</th>  <th>[0.025</th>    <th>0.975]</th>  \n",
       "</tr>\n",
       "<tr>\n",
       "  <th>Intercept</th>     <td>  1.11e+07</td> <td> 2.93e+06</td> <td>    3.796</td> <td> 0.000</td> <td> 5.37e+06</td> <td> 1.68e+07</td>\n",
       "</tr>\n",
       "<tr>\n",
       "  <th>bedrooms</th>      <td>-3.768e+04</td> <td> 1928.514</td> <td>  -19.536</td> <td> 0.000</td> <td>-4.15e+04</td> <td>-3.39e+04</td>\n",
       "</tr>\n",
       "<tr>\n",
       "  <th>bathrooms</th>     <td>  3.95e+04</td> <td> 3308.239</td> <td>   11.939</td> <td> 0.000</td> <td>  3.3e+04</td> <td>  4.6e+04</td>\n",
       "</tr>\n",
       "<tr>\n",
       "  <th>sqft_living</th>   <td>  191.0893</td> <td>    3.408</td> <td>   56.076</td> <td> 0.000</td> <td>  184.410</td> <td>  197.769</td>\n",
       "</tr>\n",
       "<tr>\n",
       "  <th>sqft_lot</th>      <td>    0.0960</td> <td>    0.049</td> <td>    1.978</td> <td> 0.048</td> <td>    0.001</td> <td>    0.191</td>\n",
       "</tr>\n",
       "<tr>\n",
       "  <th>floors</th>        <td> 7067.2040</td> <td> 3612.533</td> <td>    1.956</td> <td> 0.050</td> <td>  -13.629</td> <td> 1.41e+04</td>\n",
       "</tr>\n",
       "<tr>\n",
       "  <th>waterfront</th>    <td> 1.938e+05</td> <td> 1.04e+04</td> <td>   18.589</td> <td> 0.000</td> <td> 1.73e+05</td> <td> 2.14e+05</td>\n",
       "</tr>\n",
       "<tr>\n",
       "  <th>view</th>          <td>  7.29e+04</td> <td> 2034.704</td> <td>   35.830</td> <td> 0.000</td> <td> 6.89e+04</td> <td> 7.69e+04</td>\n",
       "</tr>\n",
       "<tr>\n",
       "  <th>condition</th>     <td>   2.6e+04</td> <td> 2379.172</td> <td>   10.928</td> <td> 0.000</td> <td> 2.13e+04</td> <td> 3.07e+04</td>\n",
       "</tr>\n",
       "<tr>\n",
       "  <th>grade</th>         <td> 9.968e+04</td> <td> 2099.432</td> <td>   47.482</td> <td> 0.000</td> <td> 9.56e+04</td> <td> 1.04e+05</td>\n",
       "</tr>\n",
       "<tr>\n",
       "  <th>sqft_basement</th> <td>  -34.9147</td> <td>    4.347</td> <td>   -8.031</td> <td> 0.000</td> <td>  -43.436</td> <td>  -26.394</td>\n",
       "</tr>\n",
       "<tr>\n",
       "  <th>yr_built</th>      <td>-2634.7761</td> <td>   73.044</td> <td>  -36.071</td> <td> 0.000</td> <td>-2777.947</td> <td>-2491.605</td>\n",
       "</tr>\n",
       "<tr>\n",
       "  <th>yr_renovated</th>  <td> 5.232e+04</td> <td> 8042.615</td> <td>    6.505</td> <td> 0.000</td> <td> 3.66e+04</td> <td> 6.81e+04</td>\n",
       "</tr>\n",
       "<tr>\n",
       "  <th>zipcode</th>       <td> -618.8512</td> <td>   33.354</td> <td>  -18.554</td> <td> 0.000</td> <td> -684.227</td> <td> -553.475</td>\n",
       "</tr>\n",
       "<tr>\n",
       "  <th>lat</th>           <td> 6.027e+05</td> <td> 1.09e+04</td> <td>   55.343</td> <td> 0.000</td> <td> 5.81e+05</td> <td> 6.24e+05</td>\n",
       "</tr>\n",
       "<tr>\n",
       "  <th>long</th>          <td>-2.081e+05</td> <td> 1.32e+04</td> <td>  -15.784</td> <td> 0.000</td> <td>-2.34e+05</td> <td>-1.82e+05</td>\n",
       "</tr>\n",
       "<tr>\n",
       "  <th>sqft_lot15</th>    <td>   -0.3535</td> <td>    0.074</td> <td>   -4.755</td> <td> 0.000</td> <td>   -0.499</td> <td>   -0.208</td>\n",
       "</tr>\n",
       "</table>\n",
       "<table class=\"simpletable\">\n",
       "<tr>\n",
       "  <th>Omnibus:</th>       <td>18294.138</td> <th>  Durbin-Watson:     </th>  <td>   1.990</td>  \n",
       "</tr>\n",
       "<tr>\n",
       "  <th>Prob(Omnibus):</th>  <td> 0.000</td>   <th>  Jarque-Bera (JB):  </th> <td>1726999.146</td>\n",
       "</tr>\n",
       "<tr>\n",
       "  <th>Skew:</th>           <td> 3.585</td>   <th>  Prob(JB):          </th>  <td>    0.00</td>  \n",
       "</tr>\n",
       "<tr>\n",
       "  <th>Kurtosis:</th>       <td>46.282</td>   <th>  Cond. No.          </th>  <td>2.12e+08</td>  \n",
       "</tr>\n",
       "</table><br/><br/>Notes:<br/>[1] Standard Errors assume that the covariance matrix of the errors is correctly specified.<br/>[2] The condition number is large, 2.12e+08. This might indicate that there are<br/>strong multicollinearity or other numerical problems."
      ],
      "text/plain": [
       "<class 'statsmodels.iolib.summary.Summary'>\n",
       "\"\"\"\n",
       "                            OLS Regression Results                            \n",
       "==============================================================================\n",
       "Dep. Variable:                  price   R-squared:                       0.689\n",
       "Model:                            OLS   Adj. R-squared:                  0.689\n",
       "Method:                 Least Squares   F-statistic:                     2984.\n",
       "Date:                Mon, 11 Jan 2021   Prob (F-statistic):               0.00\n",
       "Time:                        23:44:06   Log-Likelihood:            -2.9383e+05\n",
       "No. Observations:               21534   AIC:                         5.877e+05\n",
       "Df Residuals:                   21517   BIC:                         5.878e+05\n",
       "Df Model:                          16                                         \n",
       "Covariance Type:            nonrobust                                         \n",
       "=================================================================================\n",
       "                    coef    std err          t      P>|t|      [0.025      0.975]\n",
       "---------------------------------------------------------------------------------\n",
       "Intercept       1.11e+07   2.93e+06      3.796      0.000    5.37e+06    1.68e+07\n",
       "bedrooms      -3.768e+04   1928.514    -19.536      0.000   -4.15e+04   -3.39e+04\n",
       "bathrooms       3.95e+04   3308.239     11.939      0.000     3.3e+04     4.6e+04\n",
       "sqft_living     191.0893      3.408     56.076      0.000     184.410     197.769\n",
       "sqft_lot          0.0960      0.049      1.978      0.048       0.001       0.191\n",
       "floors         7067.2040   3612.533      1.956      0.050     -13.629    1.41e+04\n",
       "waterfront     1.938e+05   1.04e+04     18.589      0.000    1.73e+05    2.14e+05\n",
       "view            7.29e+04   2034.704     35.830      0.000    6.89e+04    7.69e+04\n",
       "condition        2.6e+04   2379.172     10.928      0.000    2.13e+04    3.07e+04\n",
       "grade          9.968e+04   2099.432     47.482      0.000    9.56e+04    1.04e+05\n",
       "sqft_basement   -34.9147      4.347     -8.031      0.000     -43.436     -26.394\n",
       "yr_built      -2634.7761     73.044    -36.071      0.000   -2777.947   -2491.605\n",
       "yr_renovated   5.232e+04   8042.615      6.505      0.000    3.66e+04    6.81e+04\n",
       "zipcode        -618.8512     33.354    -18.554      0.000    -684.227    -553.475\n",
       "lat            6.027e+05   1.09e+04     55.343      0.000    5.81e+05    6.24e+05\n",
       "long          -2.081e+05   1.32e+04    -15.784      0.000   -2.34e+05   -1.82e+05\n",
       "sqft_lot15       -0.3535      0.074     -4.755      0.000      -0.499      -0.208\n",
       "==============================================================================\n",
       "Omnibus:                    18294.138   Durbin-Watson:                   1.990\n",
       "Prob(Omnibus):                  0.000   Jarque-Bera (JB):          1726999.146\n",
       "Skew:                           3.585   Prob(JB):                         0.00\n",
       "Kurtosis:                      46.282   Cond. No.                     2.12e+08\n",
       "==============================================================================\n",
       "\n",
       "Notes:\n",
       "[1] Standard Errors assume that the covariance matrix of the errors is correctly specified.\n",
       "[2] The condition number is large, 2.12e+08. This might indicate that there are\n",
       "strong multicollinearity or other numerical problems.\n",
       "\"\"\""
      ]
     },
     "execution_count": 68,
     "metadata": {},
     "output_type": "execute_result"
    }
   ],
   "source": [
    "predictors = '+'.join(x_cols)\n",
    "\n",
    "predictors\n",
    "\n",
    "f = outcome + '~' + predictors \n",
    "\n",
    "f\n",
    "\n",
    "model = ols(formula= f, data= ogdf).fit()\n",
    "model.summary()"
   ]
  },
  {
   "cell_type": "markdown",
   "metadata": {},
   "source": [
    "## Testing sqft basement as has basement"
   ]
  },
  {
   "cell_type": "code",
   "execution_count": 141,
   "metadata": {
    "ExecuteTime": {
     "end_time": "2021-01-12T07:42:45.624997Z",
     "start_time": "2021-01-12T07:42:45.617031Z"
    }
   },
   "outputs": [],
   "source": [
    "t2 = df.apply(lambda x: x)"
   ]
  },
  {
   "cell_type": "code",
   "execution_count": 147,
   "metadata": {
    "ExecuteTime": {
     "end_time": "2021-01-12T07:44:45.348126Z",
     "start_time": "2021-01-12T07:44:45.336158Z"
    }
   },
   "outputs": [],
   "source": [
    "t2.sqft_basement = t2.sqft_basement.map(lambda x: 1 if x > 0 else x)"
   ]
  },
  {
   "cell_type": "code",
   "execution_count": 153,
   "metadata": {
    "ExecuteTime": {
     "end_time": "2021-01-12T07:49:32.526164Z",
     "start_time": "2021-01-12T07:49:32.521149Z"
    }
   },
   "outputs": [
    {
     "data": {
      "text/plain": [
       "366059.58123129635"
      ]
     },
     "execution_count": 153,
     "metadata": {},
     "output_type": "execute_result"
    }
   ],
   "source": [
    "t2.price.std()"
   ]
  },
  {
   "cell_type": "code",
   "execution_count": 181,
   "metadata": {
    "ExecuteTime": {
     "end_time": "2021-01-12T08:00:10.999197Z",
     "start_time": "2021-01-12T08:00:10.993213Z"
    }
   },
   "outputs": [],
   "source": [
    "basement = pd.get_dummies(t2.sqft_basement, prefix='has_basement')"
   ]
  },
  {
   "cell_type": "code",
   "execution_count": 182,
   "metadata": {
    "ExecuteTime": {
     "end_time": "2021-01-12T08:00:12.220096Z",
     "start_time": "2021-01-12T08:00:12.214112Z"
    }
   },
   "outputs": [],
   "source": [
    "base = pd.concat([t2, basement], axis=1)"
   ]
  },
  {
   "cell_type": "code",
   "execution_count": 183,
   "metadata": {
    "ExecuteTime": {
     "end_time": "2021-01-12T08:00:13.394415Z",
     "start_time": "2021-01-12T08:00:13.383444Z"
    }
   },
   "outputs": [],
   "source": [
    "base.drop(columns='yr_renovated',inplace=True)"
   ]
  },
  {
   "cell_type": "code",
   "execution_count": 184,
   "metadata": {
    "ExecuteTime": {
     "end_time": "2021-01-12T08:00:14.589315Z",
     "start_time": "2021-01-12T08:00:14.583305Z"
    }
   },
   "outputs": [
    {
     "data": {
      "text/plain": [
       "622264.59802028"
      ]
     },
     "execution_count": 184,
     "metadata": {},
     "output_type": "execute_result"
    }
   ],
   "source": [
    "t2[t2.sqft_basement == 1].price.mean()"
   ]
  },
  {
   "cell_type": "code",
   "execution_count": null,
   "metadata": {
    "ExecuteTime": {
     "end_time": "2021-01-12T07:56:19.932465Z",
     "start_time": "2021-01-12T07:56:19.872597Z"
    }
   },
   "outputs": [],
   "source": []
  },
  {
   "cell_type": "code",
   "execution_count": 185,
   "metadata": {
    "ExecuteTime": {
     "end_time": "2021-01-12T08:00:15.829002Z",
     "start_time": "2021-01-12T08:00:15.821993Z"
    }
   },
   "outputs": [
    {
     "data": {
      "text/plain": [
       "Index(['bedrooms', 'bathrooms', 'sqft_living', 'sqft_lot', 'floors',\n",
       "       'waterfront', 'view', 'condition', 'grade', 'yr_built', 'zipcode',\n",
       "       'lat', 'long', 'sqft_lot15', 'been_renovated', 'has_basement_0',\n",
       "       'has_basement_1'],\n",
       "      dtype='object')"
      ]
     },
     "execution_count": 185,
     "metadata": {},
     "output_type": "execute_result"
    }
   ],
   "source": [
    "outcome = 'price'\n",
    "x_cols = base.drop(['price', 'id', 'date', 'sqft_living15','month','sqft_basement'], axis = 1).columns\n",
    "\n",
    "x_cols"
   ]
  },
  {
   "cell_type": "code",
   "execution_count": 186,
   "metadata": {
    "ExecuteTime": {
     "end_time": "2021-01-12T08:00:17.109370Z",
     "start_time": "2021-01-12T08:00:17.039843Z"
    }
   },
   "outputs": [
    {
     "data": {
      "text/html": [
       "<table class=\"simpletable\">\n",
       "<caption>OLS Regression Results</caption>\n",
       "<tr>\n",
       "  <th>Dep. Variable:</th>          <td>price</td>      <th>  R-squared:         </th>  <td>   0.689</td>  \n",
       "</tr>\n",
       "<tr>\n",
       "  <th>Model:</th>                   <td>OLS</td>       <th>  Adj. R-squared:    </th>  <td>   0.689</td>  \n",
       "</tr>\n",
       "<tr>\n",
       "  <th>Method:</th>             <td>Least Squares</td>  <th>  F-statistic:       </th>  <td>   2981.</td>  \n",
       "</tr>\n",
       "<tr>\n",
       "  <th>Date:</th>             <td>Tue, 12 Jan 2021</td> <th>  Prob (F-statistic):</th>   <td>  0.00</td>   \n",
       "</tr>\n",
       "<tr>\n",
       "  <th>Time:</th>                 <td>03:00:17</td>     <th>  Log-Likelihood:    </th> <td>-2.9384e+05</td>\n",
       "</tr>\n",
       "<tr>\n",
       "  <th>No. Observations:</th>      <td> 21534</td>      <th>  AIC:               </th>  <td>5.877e+05</td> \n",
       "</tr>\n",
       "<tr>\n",
       "  <th>Df Residuals:</th>          <td> 21517</td>      <th>  BIC:               </th>  <td>5.878e+05</td> \n",
       "</tr>\n",
       "<tr>\n",
       "  <th>Df Model:</th>              <td>    16</td>      <th>                     </th>      <td> </td>     \n",
       "</tr>\n",
       "<tr>\n",
       "  <th>Covariance Type:</th>      <td>nonrobust</td>    <th>                     </th>      <td> </td>     \n",
       "</tr>\n",
       "</table>\n",
       "<table class=\"simpletable\">\n",
       "<tr>\n",
       "         <td></td>           <th>coef</th>     <th>std err</th>      <th>t</th>      <th>P>|t|</th>  <th>[0.025</th>    <th>0.975]</th>  \n",
       "</tr>\n",
       "<tr>\n",
       "  <th>Intercept</th>      <td> 7.165e+06</td> <td> 1.96e+06</td> <td>    3.664</td> <td> 0.000</td> <td> 3.33e+06</td> <td>  1.1e+07</td>\n",
       "</tr>\n",
       "<tr>\n",
       "  <th>bedrooms</th>       <td>-3.807e+04</td> <td> 1928.352</td> <td>  -19.740</td> <td> 0.000</td> <td>-4.18e+04</td> <td>-3.43e+04</td>\n",
       "</tr>\n",
       "<tr>\n",
       "  <th>bathrooms</th>      <td>  4.02e+04</td> <td> 3312.870</td> <td>   12.134</td> <td> 0.000</td> <td> 3.37e+04</td> <td> 4.67e+04</td>\n",
       "</tr>\n",
       "<tr>\n",
       "  <th>sqft_living</th>    <td>  183.7445</td> <td>    3.186</td> <td>   57.673</td> <td> 0.000</td> <td>  177.500</td> <td>  189.989</td>\n",
       "</tr>\n",
       "<tr>\n",
       "  <th>sqft_lot</th>       <td>    0.0922</td> <td>    0.049</td> <td>    1.900</td> <td> 0.057</td> <td>   -0.003</td> <td>    0.187</td>\n",
       "</tr>\n",
       "<tr>\n",
       "  <th>floors</th>         <td> 9746.8069</td> <td> 3077.144</td> <td>    3.167</td> <td> 0.002</td> <td> 3715.376</td> <td> 1.58e+04</td>\n",
       "</tr>\n",
       "<tr>\n",
       "  <th>waterfront</th>     <td> 1.985e+05</td> <td> 1.06e+04</td> <td>   18.745</td> <td> 0.000</td> <td> 1.78e+05</td> <td> 2.19e+05</td>\n",
       "</tr>\n",
       "<tr>\n",
       "  <th>view</th>           <td> 7.173e+04</td> <td> 2022.684</td> <td>   35.464</td> <td> 0.000</td> <td> 6.78e+04</td> <td> 7.57e+04</td>\n",
       "</tr>\n",
       "<tr>\n",
       "  <th>condition</th>      <td>   2.5e+04</td> <td> 2366.663</td> <td>   10.563</td> <td> 0.000</td> <td> 2.04e+04</td> <td> 2.96e+04</td>\n",
       "</tr>\n",
       "<tr>\n",
       "  <th>grade</th>          <td> 1.016e+05</td> <td> 2069.132</td> <td>   49.123</td> <td> 0.000</td> <td> 9.76e+04</td> <td> 1.06e+05</td>\n",
       "</tr>\n",
       "<tr>\n",
       "  <th>yr_built</th>       <td>-2624.9984</td> <td>   71.170</td> <td>  -36.884</td> <td> 0.000</td> <td>-2764.497</td> <td>-2485.500</td>\n",
       "</tr>\n",
       "<tr>\n",
       "  <th>zipcode</th>        <td> -611.5096</td> <td>   33.409</td> <td>  -18.304</td> <td> 0.000</td> <td> -676.993</td> <td> -546.026</td>\n",
       "</tr>\n",
       "<tr>\n",
       "  <th>lat</th>            <td> 6.004e+05</td> <td> 1.09e+04</td> <td>   55.148</td> <td> 0.000</td> <td> 5.79e+05</td> <td> 6.22e+05</td>\n",
       "</tr>\n",
       "<tr>\n",
       "  <th>long</th>           <td>-2.058e+05</td> <td> 1.32e+04</td> <td>  -15.611</td> <td> 0.000</td> <td>-2.32e+05</td> <td> -1.8e+05</td>\n",
       "</tr>\n",
       "<tr>\n",
       "  <th>sqft_lot15</th>     <td>   -0.3436</td> <td>    0.074</td> <td>   -4.622</td> <td> 0.000</td> <td>   -0.489</td> <td>   -0.198</td>\n",
       "</tr>\n",
       "<tr>\n",
       "  <th>been_renovated</th> <td> 4.046e+04</td> <td> 7222.942</td> <td>    5.602</td> <td> 0.000</td> <td> 2.63e+04</td> <td> 5.46e+04</td>\n",
       "</tr>\n",
       "<tr>\n",
       "  <th>has_basement_0</th> <td> 3.594e+06</td> <td> 9.77e+05</td> <td>    3.677</td> <td> 0.000</td> <td> 1.68e+06</td> <td> 5.51e+06</td>\n",
       "</tr>\n",
       "<tr>\n",
       "  <th>has_basement_1</th> <td> 3.571e+06</td> <td> 9.78e+05</td> <td>    3.651</td> <td> 0.000</td> <td> 1.65e+06</td> <td> 5.49e+06</td>\n",
       "</tr>\n",
       "</table>\n",
       "<table class=\"simpletable\">\n",
       "<tr>\n",
       "  <th>Omnibus:</th>       <td>18230.440</td> <th>  Durbin-Watson:     </th>  <td>   1.995</td>  \n",
       "</tr>\n",
       "<tr>\n",
       "  <th>Prob(Omnibus):</th>  <td> 0.000</td>   <th>  Jarque-Bera (JB):  </th> <td>1712836.891</td>\n",
       "</tr>\n",
       "<tr>\n",
       "  <th>Skew:</th>           <td> 3.565</td>   <th>  Prob(JB):          </th>  <td>    0.00</td>  \n",
       "</tr>\n",
       "<tr>\n",
       "  <th>Kurtosis:</th>       <td>46.106</td>   <th>  Cond. No.          </th>  <td>7.83e+20</td>  \n",
       "</tr>\n",
       "</table><br/><br/>Notes:<br/>[1] Standard Errors assume that the covariance matrix of the errors is correctly specified.<br/>[2] The smallest eigenvalue is 3.55e-28. This might indicate that there are<br/>strong multicollinearity problems or that the design matrix is singular."
      ],
      "text/plain": [
       "<class 'statsmodels.iolib.summary.Summary'>\n",
       "\"\"\"\n",
       "                            OLS Regression Results                            \n",
       "==============================================================================\n",
       "Dep. Variable:                  price   R-squared:                       0.689\n",
       "Model:                            OLS   Adj. R-squared:                  0.689\n",
       "Method:                 Least Squares   F-statistic:                     2981.\n",
       "Date:                Tue, 12 Jan 2021   Prob (F-statistic):               0.00\n",
       "Time:                        03:00:17   Log-Likelihood:            -2.9384e+05\n",
       "No. Observations:               21534   AIC:                         5.877e+05\n",
       "Df Residuals:                   21517   BIC:                         5.878e+05\n",
       "Df Model:                          16                                         \n",
       "Covariance Type:            nonrobust                                         \n",
       "==================================================================================\n",
       "                     coef    std err          t      P>|t|      [0.025      0.975]\n",
       "----------------------------------------------------------------------------------\n",
       "Intercept       7.165e+06   1.96e+06      3.664      0.000    3.33e+06     1.1e+07\n",
       "bedrooms       -3.807e+04   1928.352    -19.740      0.000   -4.18e+04   -3.43e+04\n",
       "bathrooms        4.02e+04   3312.870     12.134      0.000    3.37e+04    4.67e+04\n",
       "sqft_living      183.7445      3.186     57.673      0.000     177.500     189.989\n",
       "sqft_lot           0.0922      0.049      1.900      0.057      -0.003       0.187\n",
       "floors          9746.8069   3077.144      3.167      0.002    3715.376    1.58e+04\n",
       "waterfront      1.985e+05   1.06e+04     18.745      0.000    1.78e+05    2.19e+05\n",
       "view            7.173e+04   2022.684     35.464      0.000    6.78e+04    7.57e+04\n",
       "condition         2.5e+04   2366.663     10.563      0.000    2.04e+04    2.96e+04\n",
       "grade           1.016e+05   2069.132     49.123      0.000    9.76e+04    1.06e+05\n",
       "yr_built       -2624.9984     71.170    -36.884      0.000   -2764.497   -2485.500\n",
       "zipcode         -611.5096     33.409    -18.304      0.000    -676.993    -546.026\n",
       "lat             6.004e+05   1.09e+04     55.148      0.000    5.79e+05    6.22e+05\n",
       "long           -2.058e+05   1.32e+04    -15.611      0.000   -2.32e+05    -1.8e+05\n",
       "sqft_lot15        -0.3436      0.074     -4.622      0.000      -0.489      -0.198\n",
       "been_renovated  4.046e+04   7222.942      5.602      0.000    2.63e+04    5.46e+04\n",
       "has_basement_0  3.594e+06   9.77e+05      3.677      0.000    1.68e+06    5.51e+06\n",
       "has_basement_1  3.571e+06   9.78e+05      3.651      0.000    1.65e+06    5.49e+06\n",
       "==============================================================================\n",
       "Omnibus:                    18230.440   Durbin-Watson:                   1.995\n",
       "Prob(Omnibus):                  0.000   Jarque-Bera (JB):          1712836.891\n",
       "Skew:                           3.565   Prob(JB):                         0.00\n",
       "Kurtosis:                      46.106   Cond. No.                     7.83e+20\n",
       "==============================================================================\n",
       "\n",
       "Notes:\n",
       "[1] Standard Errors assume that the covariance matrix of the errors is correctly specified.\n",
       "[2] The smallest eigenvalue is 3.55e-28. This might indicate that there are\n",
       "strong multicollinearity problems or that the design matrix is singular.\n",
       "\"\"\""
      ]
     },
     "execution_count": 186,
     "metadata": {},
     "output_type": "execute_result"
    }
   ],
   "source": [
    "predictors = '+'.join(x_cols)\n",
    "\n",
    "predictors\n",
    "\n",
    "f = outcome + '~' + predictors \n",
    "\n",
    "f\n",
    "\n",
    "testb = ols(formula= f, data= base).fit()\n",
    "testb.summary()"
   ]
  },
  {
   "cell_type": "markdown",
   "metadata": {},
   "source": [
    "## Reg on cleaned DF with yr_renovated as binary"
   ]
  },
  {
   "cell_type": "code",
   "execution_count": 71,
   "metadata": {
    "ExecuteTime": {
     "end_time": "2021-01-12T05:03:35.884242Z",
     "start_time": "2021-01-12T05:03:35.876263Z"
    }
   },
   "outputs": [
    {
     "data": {
      "text/plain": [
       "Index(['bedrooms', 'bathrooms', 'sqft_living', 'sqft_lot', 'floors',\n",
       "       'waterfront', 'view', 'condition', 'grade', 'sqft_basement', 'yr_built',\n",
       "       'zipcode', 'lat', 'long', 'sqft_lot15', 'been_renovated'],\n",
       "      dtype='object')"
      ]
     },
     "execution_count": 71,
     "metadata": {},
     "output_type": "execute_result"
    }
   ],
   "source": [
    "outcome = 'price'\n",
    "x_cols = df.drop(['price', 'id', 'date', 'sqft_living15','month','yr_renovated'], axis = 1).columns\n",
    "\n",
    "x_cols"
   ]
  },
  {
   "cell_type": "code",
   "execution_count": 72,
   "metadata": {
    "ExecuteTime": {
     "end_time": "2021-01-12T05:03:36.196098Z",
     "start_time": "2021-01-12T05:03:36.124256Z"
    }
   },
   "outputs": [
    {
     "data": {
      "text/html": [
       "<table class=\"simpletable\">\n",
       "<caption>OLS Regression Results</caption>\n",
       "<tr>\n",
       "  <th>Dep. Variable:</th>          <td>price</td>      <th>  R-squared:         </th>  <td>   0.689</td>  \n",
       "</tr>\n",
       "<tr>\n",
       "  <th>Model:</th>                   <td>OLS</td>       <th>  Adj. R-squared:    </th>  <td>   0.689</td>  \n",
       "</tr>\n",
       "<tr>\n",
       "  <th>Method:</th>             <td>Least Squares</td>  <th>  F-statistic:       </th>  <td>   2983.</td>  \n",
       "</tr>\n",
       "<tr>\n",
       "  <th>Date:</th>             <td>Tue, 12 Jan 2021</td> <th>  Prob (F-statistic):</th>   <td>  0.00</td>   \n",
       "</tr>\n",
       "<tr>\n",
       "  <th>Time:</th>                 <td>00:03:36</td>     <th>  Log-Likelihood:    </th> <td>-2.9383e+05</td>\n",
       "</tr>\n",
       "<tr>\n",
       "  <th>No. Observations:</th>      <td> 21534</td>      <th>  AIC:               </th>  <td>5.877e+05</td> \n",
       "</tr>\n",
       "<tr>\n",
       "  <th>Df Residuals:</th>          <td> 21517</td>      <th>  BIC:               </th>  <td>5.878e+05</td> \n",
       "</tr>\n",
       "<tr>\n",
       "  <th>Df Model:</th>              <td>    16</td>      <th>                     </th>      <td> </td>     \n",
       "</tr>\n",
       "<tr>\n",
       "  <th>Covariance Type:</th>      <td>nonrobust</td>    <th>                     </th>      <td> </td>     \n",
       "</tr>\n",
       "</table>\n",
       "<table class=\"simpletable\">\n",
       "<tr>\n",
       "         <td></td>           <th>coef</th>     <th>std err</th>      <th>t</th>      <th>P>|t|</th>  <th>[0.025</th>    <th>0.975]</th>  \n",
       "</tr>\n",
       "<tr>\n",
       "  <th>Intercept</th>      <td> 1.084e+07</td> <td> 2.92e+06</td> <td>    3.706</td> <td> 0.000</td> <td> 5.11e+06</td> <td> 1.66e+07</td>\n",
       "</tr>\n",
       "<tr>\n",
       "  <th>bedrooms</th>       <td>-3.776e+04</td> <td> 1928.697</td> <td>  -19.576</td> <td> 0.000</td> <td>-4.15e+04</td> <td> -3.4e+04</td>\n",
       "</tr>\n",
       "<tr>\n",
       "  <th>bathrooms</th>      <td> 3.967e+04</td> <td> 3305.560</td> <td>   12.000</td> <td> 0.000</td> <td> 3.32e+04</td> <td> 4.61e+04</td>\n",
       "</tr>\n",
       "<tr>\n",
       "  <th>sqft_living</th>    <td>  190.8448</td> <td>    3.408</td> <td>   56.001</td> <td> 0.000</td> <td>  184.165</td> <td>  197.524</td>\n",
       "</tr>\n",
       "<tr>\n",
       "  <th>sqft_lot</th>       <td>    0.0886</td> <td>    0.049</td> <td>    1.825</td> <td> 0.068</td> <td>   -0.007</td> <td>    0.184</td>\n",
       "</tr>\n",
       "<tr>\n",
       "  <th>floors</th>         <td> 6672.2101</td> <td> 3612.380</td> <td>    1.847</td> <td> 0.065</td> <td> -408.323</td> <td> 1.38e+04</td>\n",
       "</tr>\n",
       "<tr>\n",
       "  <th>waterfront</th>     <td> 1.987e+05</td> <td> 1.06e+04</td> <td>   18.771</td> <td> 0.000</td> <td> 1.78e+05</td> <td> 2.19e+05</td>\n",
       "</tr>\n",
       "<tr>\n",
       "  <th>view</th>           <td> 7.286e+04</td> <td> 2035.628</td> <td>   35.792</td> <td> 0.000</td> <td> 6.89e+04</td> <td> 7.69e+04</td>\n",
       "</tr>\n",
       "<tr>\n",
       "  <th>condition</th>      <td> 2.595e+04</td> <td> 2373.508</td> <td>   10.931</td> <td> 0.000</td> <td> 2.13e+04</td> <td> 3.06e+04</td>\n",
       "</tr>\n",
       "<tr>\n",
       "  <th>grade</th>          <td>  9.98e+04</td> <td> 2099.519</td> <td>   47.535</td> <td> 0.000</td> <td> 9.57e+04</td> <td> 1.04e+05</td>\n",
       "</tr>\n",
       "<tr>\n",
       "  <th>sqft_basement</th>  <td>  -34.5941</td> <td>    4.348</td> <td>   -7.957</td> <td> 0.000</td> <td>  -43.116</td> <td>  -26.073</td>\n",
       "</tr>\n",
       "<tr>\n",
       "  <th>yr_built</th>       <td>-2638.5266</td> <td>   72.569</td> <td>  -36.359</td> <td> 0.000</td> <td>-2780.766</td> <td>-2496.287</td>\n",
       "</tr>\n",
       "<tr>\n",
       "  <th>zipcode</th>        <td> -615.2861</td> <td>   33.359</td> <td>  -18.444</td> <td> 0.000</td> <td> -680.672</td> <td> -549.900</td>\n",
       "</tr>\n",
       "<tr>\n",
       "  <th>lat</th>            <td> 6.015e+05</td> <td> 1.09e+04</td> <td>   55.236</td> <td> 0.000</td> <td>  5.8e+05</td> <td> 6.23e+05</td>\n",
       "</tr>\n",
       "<tr>\n",
       "  <th>long</th>           <td> -2.08e+05</td> <td> 1.32e+04</td> <td>  -15.770</td> <td> 0.000</td> <td>-2.34e+05</td> <td>-1.82e+05</td>\n",
       "</tr>\n",
       "<tr>\n",
       "  <th>sqft_lot15</th>     <td>   -0.3459</td> <td>    0.074</td> <td>   -4.653</td> <td> 0.000</td> <td>   -0.492</td> <td>   -0.200</td>\n",
       "</tr>\n",
       "<tr>\n",
       "  <th>been_renovated</th> <td> 4.096e+04</td> <td> 7224.172</td> <td>    5.670</td> <td> 0.000</td> <td> 2.68e+04</td> <td> 5.51e+04</td>\n",
       "</tr>\n",
       "</table>\n",
       "<table class=\"simpletable\">\n",
       "<tr>\n",
       "  <th>Omnibus:</th>       <td>18295.085</td> <th>  Durbin-Watson:     </th>  <td>   1.996</td>  \n",
       "</tr>\n",
       "<tr>\n",
       "  <th>Prob(Omnibus):</th>  <td> 0.000</td>   <th>  Jarque-Bera (JB):  </th> <td>1735594.987</td>\n",
       "</tr>\n",
       "<tr>\n",
       "  <th>Skew:</th>           <td> 3.583</td>   <th>  Prob(JB):          </th>  <td>    0.00</td>  \n",
       "</tr>\n",
       "<tr>\n",
       "  <th>Kurtosis:</th>       <td>46.393</td>   <th>  Cond. No.          </th>  <td>2.12e+08</td>  \n",
       "</tr>\n",
       "</table><br/><br/>Notes:<br/>[1] Standard Errors assume that the covariance matrix of the errors is correctly specified.<br/>[2] The condition number is large, 2.12e+08. This might indicate that there are<br/>strong multicollinearity or other numerical problems."
      ],
      "text/plain": [
       "<class 'statsmodels.iolib.summary.Summary'>\n",
       "\"\"\"\n",
       "                            OLS Regression Results                            \n",
       "==============================================================================\n",
       "Dep. Variable:                  price   R-squared:                       0.689\n",
       "Model:                            OLS   Adj. R-squared:                  0.689\n",
       "Method:                 Least Squares   F-statistic:                     2983.\n",
       "Date:                Tue, 12 Jan 2021   Prob (F-statistic):               0.00\n",
       "Time:                        00:03:36   Log-Likelihood:            -2.9383e+05\n",
       "No. Observations:               21534   AIC:                         5.877e+05\n",
       "Df Residuals:                   21517   BIC:                         5.878e+05\n",
       "Df Model:                          16                                         \n",
       "Covariance Type:            nonrobust                                         \n",
       "==================================================================================\n",
       "                     coef    std err          t      P>|t|      [0.025      0.975]\n",
       "----------------------------------------------------------------------------------\n",
       "Intercept       1.084e+07   2.92e+06      3.706      0.000    5.11e+06    1.66e+07\n",
       "bedrooms       -3.776e+04   1928.697    -19.576      0.000   -4.15e+04    -3.4e+04\n",
       "bathrooms       3.967e+04   3305.560     12.000      0.000    3.32e+04    4.61e+04\n",
       "sqft_living      190.8448      3.408     56.001      0.000     184.165     197.524\n",
       "sqft_lot           0.0886      0.049      1.825      0.068      -0.007       0.184\n",
       "floors          6672.2101   3612.380      1.847      0.065    -408.323    1.38e+04\n",
       "waterfront      1.987e+05   1.06e+04     18.771      0.000    1.78e+05    2.19e+05\n",
       "view            7.286e+04   2035.628     35.792      0.000    6.89e+04    7.69e+04\n",
       "condition       2.595e+04   2373.508     10.931      0.000    2.13e+04    3.06e+04\n",
       "grade            9.98e+04   2099.519     47.535      0.000    9.57e+04    1.04e+05\n",
       "sqft_basement    -34.5941      4.348     -7.957      0.000     -43.116     -26.073\n",
       "yr_built       -2638.5266     72.569    -36.359      0.000   -2780.766   -2496.287\n",
       "zipcode         -615.2861     33.359    -18.444      0.000    -680.672    -549.900\n",
       "lat             6.015e+05   1.09e+04     55.236      0.000     5.8e+05    6.23e+05\n",
       "long            -2.08e+05   1.32e+04    -15.770      0.000   -2.34e+05   -1.82e+05\n",
       "sqft_lot15        -0.3459      0.074     -4.653      0.000      -0.492      -0.200\n",
       "been_renovated  4.096e+04   7224.172      5.670      0.000    2.68e+04    5.51e+04\n",
       "==============================================================================\n",
       "Omnibus:                    18295.085   Durbin-Watson:                   1.996\n",
       "Prob(Omnibus):                  0.000   Jarque-Bera (JB):          1735594.987\n",
       "Skew:                           3.583   Prob(JB):                         0.00\n",
       "Kurtosis:                      46.393   Cond. No.                     2.12e+08\n",
       "==============================================================================\n",
       "\n",
       "Notes:\n",
       "[1] Standard Errors assume that the covariance matrix of the errors is correctly specified.\n",
       "[2] The condition number is large, 2.12e+08. This might indicate that there are\n",
       "strong multicollinearity or other numerical problems.\n",
       "\"\"\""
      ]
     },
     "execution_count": 72,
     "metadata": {},
     "output_type": "execute_result"
    }
   ],
   "source": [
    "predictors = '+'.join(x_cols)\n",
    "\n",
    "predictors\n",
    "\n",
    "f = outcome + '~' + predictors \n",
    "\n",
    "f\n",
    "\n",
    "model = ols(formula= f, data= df).fit()\n",
    "model.summary()"
   ]
  },
  {
   "cell_type": "markdown",
   "metadata": {},
   "source": [
    "## Model with grade dummies"
   ]
  },
  {
   "cell_type": "code",
   "execution_count": 73,
   "metadata": {
    "ExecuteTime": {
     "end_time": "2021-01-12T05:05:25.667979Z",
     "start_time": "2021-01-12T05:05:25.657013Z"
    }
   },
   "outputs": [],
   "source": [
    "grade = pd.get_dummies(df['grade'], prefix = 'grade')"
   ]
  },
  {
   "cell_type": "code",
   "execution_count": 74,
   "metadata": {
    "ExecuteTime": {
     "end_time": "2021-01-12T05:05:25.938254Z",
     "start_time": "2021-01-12T05:05:25.930277Z"
    }
   },
   "outputs": [],
   "source": [
    "dfgrade = pd.concat([df, grade], axis = 1)"
   ]
  },
  {
   "cell_type": "code",
   "execution_count": 77,
   "metadata": {
    "ExecuteTime": {
     "end_time": "2021-01-12T05:05:39.003987Z",
     "start_time": "2021-01-12T05:05:38.992986Z"
    }
   },
   "outputs": [],
   "source": [
    "outcome = 'price'\n",
    "x_cols = dfgrade.drop(['price', 'id', 'date','month','grade','yr_renovated'], axis = 1).columns\n",
    "\n",
    "predictors = '+'.join(x_cols)\n",
    "\n",
    "f = outcome + '~' + predictors"
   ]
  },
  {
   "cell_type": "code",
   "execution_count": 78,
   "metadata": {
    "ExecuteTime": {
     "end_time": "2021-01-12T05:05:40.135360Z",
     "start_time": "2021-01-12T05:05:40.025764Z"
    }
   },
   "outputs": [
    {
     "data": {
      "text/html": [
       "<table class=\"simpletable\">\n",
       "<caption>OLS Regression Results</caption>\n",
       "<tr>\n",
       "  <th>Dep. Variable:</th>          <td>price</td>      <th>  R-squared:         </th>  <td>   0.720</td>  \n",
       "</tr>\n",
       "<tr>\n",
       "  <th>Model:</th>                   <td>OLS</td>       <th>  Adj. R-squared:    </th>  <td>   0.719</td>  \n",
       "</tr>\n",
       "<tr>\n",
       "  <th>Method:</th>             <td>Least Squares</td>  <th>  F-statistic:       </th>  <td>   2125.</td>  \n",
       "</tr>\n",
       "<tr>\n",
       "  <th>Date:</th>             <td>Tue, 12 Jan 2021</td> <th>  Prob (F-statistic):</th>   <td>  0.00</td>   \n",
       "</tr>\n",
       "<tr>\n",
       "  <th>Time:</th>                 <td>00:05:40</td>     <th>  Log-Likelihood:    </th> <td>-2.9272e+05</td>\n",
       "</tr>\n",
       "<tr>\n",
       "  <th>No. Observations:</th>      <td> 21534</td>      <th>  AIC:               </th>  <td>5.855e+05</td> \n",
       "</tr>\n",
       "<tr>\n",
       "  <th>Df Residuals:</th>          <td> 21507</td>      <th>  BIC:               </th>  <td>5.857e+05</td> \n",
       "</tr>\n",
       "<tr>\n",
       "  <th>Df Model:</th>              <td>    26</td>      <th>                     </th>      <td> </td>     \n",
       "</tr>\n",
       "<tr>\n",
       "  <th>Covariance Type:</th>      <td>nonrobust</td>    <th>                     </th>      <td> </td>     \n",
       "</tr>\n",
       "</table>\n",
       "<table class=\"simpletable\">\n",
       "<tr>\n",
       "         <td></td>           <th>coef</th>     <th>std err</th>      <th>t</th>      <th>P>|t|</th>  <th>[0.025</th>    <th>0.975]</th>  \n",
       "</tr>\n",
       "<tr>\n",
       "  <th>Intercept</th>      <td> 8.819e+06</td> <td> 2.59e+06</td> <td>    3.399</td> <td> 0.001</td> <td> 3.73e+06</td> <td> 1.39e+07</td>\n",
       "</tr>\n",
       "<tr>\n",
       "  <th>bedrooms</th>       <td>-2.204e+04</td> <td> 1871.700</td> <td>  -11.774</td> <td> 0.000</td> <td>-2.57e+04</td> <td>-1.84e+04</td>\n",
       "</tr>\n",
       "<tr>\n",
       "  <th>bathrooms</th>      <td> 4.306e+04</td> <td> 3156.072</td> <td>   13.644</td> <td> 0.000</td> <td> 3.69e+04</td> <td> 4.92e+04</td>\n",
       "</tr>\n",
       "<tr>\n",
       "  <th>sqft_living</th>    <td>  135.7875</td> <td>    3.675</td> <td>   36.949</td> <td> 0.000</td> <td>  128.584</td> <td>  142.991</td>\n",
       "</tr>\n",
       "<tr>\n",
       "  <th>sqft_lot</th>       <td>    0.1002</td> <td>    0.046</td> <td>    2.169</td> <td> 0.030</td> <td>    0.010</td> <td>    0.191</td>\n",
       "</tr>\n",
       "<tr>\n",
       "  <th>floors</th>         <td> 2.702e+04</td> <td> 3501.082</td> <td>    7.718</td> <td> 0.000</td> <td> 2.02e+04</td> <td> 3.39e+04</td>\n",
       "</tr>\n",
       "<tr>\n",
       "  <th>waterfront</th>     <td> 1.974e+05</td> <td> 1.01e+04</td> <td>   19.620</td> <td> 0.000</td> <td> 1.78e+05</td> <td> 2.17e+05</td>\n",
       "</tr>\n",
       "<tr>\n",
       "  <th>view</th>           <td> 6.669e+04</td> <td> 1961.046</td> <td>   34.009</td> <td> 0.000</td> <td> 6.29e+04</td> <td> 7.05e+04</td>\n",
       "</tr>\n",
       "<tr>\n",
       "  <th>condition</th>      <td> 3.258e+04</td> <td> 2261.579</td> <td>   14.407</td> <td> 0.000</td> <td> 2.81e+04</td> <td>  3.7e+04</td>\n",
       "</tr>\n",
       "<tr>\n",
       "  <th>sqft_basement</th>  <td>   -2.4669</td> <td>    4.235</td> <td>   -0.582</td> <td> 0.560</td> <td>  -10.768</td> <td>    5.834</td>\n",
       "</tr>\n",
       "<tr>\n",
       "  <th>yr_built</th>       <td>-2178.4511</td> <td>   69.932</td> <td>  -31.151</td> <td> 0.000</td> <td>-2315.523</td> <td>-2041.379</td>\n",
       "</tr>\n",
       "<tr>\n",
       "  <th>zipcode</th>        <td> -612.8704</td> <td>   31.892</td> <td>  -19.217</td> <td> 0.000</td> <td> -675.382</td> <td> -550.359</td>\n",
       "</tr>\n",
       "<tr>\n",
       "  <th>lat</th>            <td> 6.152e+05</td> <td> 1.04e+04</td> <td>   59.324</td> <td> 0.000</td> <td> 5.95e+05</td> <td> 6.36e+05</td>\n",
       "</tr>\n",
       "<tr>\n",
       "  <th>long</th>           <td>-2.117e+05</td> <td> 1.27e+04</td> <td>  -16.679</td> <td> 0.000</td> <td>-2.37e+05</td> <td>-1.87e+05</td>\n",
       "</tr>\n",
       "<tr>\n",
       "  <th>sqft_living15</th>  <td>   24.7757</td> <td>    3.351</td> <td>    7.393</td> <td> 0.000</td> <td>   18.207</td> <td>   31.344</td>\n",
       "</tr>\n",
       "<tr>\n",
       "  <th>sqft_lot15</th>     <td>   -0.3617</td> <td>    0.071</td> <td>   -5.116</td> <td> 0.000</td> <td>   -0.500</td> <td>   -0.223</td>\n",
       "</tr>\n",
       "<tr>\n",
       "  <th>been_renovated</th> <td> 6.051e+04</td> <td> 6879.807</td> <td>    8.795</td> <td> 0.000</td> <td>  4.7e+04</td> <td>  7.4e+04</td>\n",
       "</tr>\n",
       "<tr>\n",
       "  <th>grade_3</th>        <td> 5.265e+05</td> <td> 2.93e+05</td> <td>    1.794</td> <td> 0.073</td> <td>-4.87e+04</td> <td>  1.1e+06</td>\n",
       "</tr>\n",
       "<tr>\n",
       "  <th>grade_4</th>        <td> 3.554e+05</td> <td> 2.38e+05</td> <td>    1.495</td> <td> 0.135</td> <td>-1.11e+05</td> <td> 8.21e+05</td>\n",
       "</tr>\n",
       "<tr>\n",
       "  <th>grade_5</th>        <td> 3.434e+05</td> <td> 2.36e+05</td> <td>    1.454</td> <td> 0.146</td> <td>-1.19e+05</td> <td> 8.06e+05</td>\n",
       "</tr>\n",
       "<tr>\n",
       "  <th>grade_6</th>        <td> 3.643e+05</td> <td> 2.37e+05</td> <td>    1.539</td> <td> 0.124</td> <td>-9.95e+04</td> <td> 8.28e+05</td>\n",
       "</tr>\n",
       "<tr>\n",
       "  <th>grade_7</th>        <td> 4.019e+05</td> <td> 2.37e+05</td> <td>    1.698</td> <td> 0.089</td> <td>-6.19e+04</td> <td> 8.66e+05</td>\n",
       "</tr>\n",
       "<tr>\n",
       "  <th>grade_8</th>        <td> 4.605e+05</td> <td> 2.37e+05</td> <td>    1.945</td> <td> 0.052</td> <td>-3492.344</td> <td> 9.25e+05</td>\n",
       "</tr>\n",
       "<tr>\n",
       "  <th>grade_9</th>        <td> 5.796e+05</td> <td> 2.37e+05</td> <td>    2.445</td> <td> 0.014</td> <td> 1.15e+05</td> <td> 1.04e+06</td>\n",
       "</tr>\n",
       "<tr>\n",
       "  <th>grade_10</th>       <td> 7.448e+05</td> <td> 2.37e+05</td> <td>    3.140</td> <td> 0.002</td> <td>  2.8e+05</td> <td> 1.21e+06</td>\n",
       "</tr>\n",
       "<tr>\n",
       "  <th>grade_11</th>       <td> 9.914e+05</td> <td> 2.38e+05</td> <td>    4.174</td> <td> 0.000</td> <td> 5.26e+05</td> <td> 1.46e+06</td>\n",
       "</tr>\n",
       "<tr>\n",
       "  <th>grade_12</th>       <td> 1.438e+06</td> <td> 2.38e+05</td> <td>    6.038</td> <td> 0.000</td> <td> 9.71e+05</td> <td>  1.9e+06</td>\n",
       "</tr>\n",
       "<tr>\n",
       "  <th>grade_13</th>       <td> 2.614e+06</td> <td> 2.43e+05</td> <td>   10.737</td> <td> 0.000</td> <td> 2.14e+06</td> <td> 3.09e+06</td>\n",
       "</tr>\n",
       "</table>\n",
       "<table class=\"simpletable\">\n",
       "<tr>\n",
       "  <th>Omnibus:</th>       <td>15080.922</td> <th>  Durbin-Watson:     </th>  <td>   1.995</td> \n",
       "</tr>\n",
       "<tr>\n",
       "  <th>Prob(Omnibus):</th>  <td> 0.000</td>   <th>  Jarque-Bera (JB):  </th> <td>883752.091</td>\n",
       "</tr>\n",
       "<tr>\n",
       "  <th>Skew:</th>           <td> 2.751</td>   <th>  Prob(JB):          </th>  <td>    0.00</td> \n",
       "</tr>\n",
       "<tr>\n",
       "  <th>Kurtosis:</th>       <td>33.898</td>   <th>  Cond. No.          </th>  <td>2.35e+15</td> \n",
       "</tr>\n",
       "</table><br/><br/>Notes:<br/>[1] Standard Errors assume that the covariance matrix of the errors is correctly specified.<br/>[2] The smallest eigenvalue is 3.94e-17. This might indicate that there are<br/>strong multicollinearity problems or that the design matrix is singular."
      ],
      "text/plain": [
       "<class 'statsmodels.iolib.summary.Summary'>\n",
       "\"\"\"\n",
       "                            OLS Regression Results                            \n",
       "==============================================================================\n",
       "Dep. Variable:                  price   R-squared:                       0.720\n",
       "Model:                            OLS   Adj. R-squared:                  0.719\n",
       "Method:                 Least Squares   F-statistic:                     2125.\n",
       "Date:                Tue, 12 Jan 2021   Prob (F-statistic):               0.00\n",
       "Time:                        00:05:40   Log-Likelihood:            -2.9272e+05\n",
       "No. Observations:               21534   AIC:                         5.855e+05\n",
       "Df Residuals:                   21507   BIC:                         5.857e+05\n",
       "Df Model:                          26                                         \n",
       "Covariance Type:            nonrobust                                         \n",
       "==================================================================================\n",
       "                     coef    std err          t      P>|t|      [0.025      0.975]\n",
       "----------------------------------------------------------------------------------\n",
       "Intercept       8.819e+06   2.59e+06      3.399      0.001    3.73e+06    1.39e+07\n",
       "bedrooms       -2.204e+04   1871.700    -11.774      0.000   -2.57e+04   -1.84e+04\n",
       "bathrooms       4.306e+04   3156.072     13.644      0.000    3.69e+04    4.92e+04\n",
       "sqft_living      135.7875      3.675     36.949      0.000     128.584     142.991\n",
       "sqft_lot           0.1002      0.046      2.169      0.030       0.010       0.191\n",
       "floors          2.702e+04   3501.082      7.718      0.000    2.02e+04    3.39e+04\n",
       "waterfront      1.974e+05   1.01e+04     19.620      0.000    1.78e+05    2.17e+05\n",
       "view            6.669e+04   1961.046     34.009      0.000    6.29e+04    7.05e+04\n",
       "condition       3.258e+04   2261.579     14.407      0.000    2.81e+04     3.7e+04\n",
       "sqft_basement     -2.4669      4.235     -0.582      0.560     -10.768       5.834\n",
       "yr_built       -2178.4511     69.932    -31.151      0.000   -2315.523   -2041.379\n",
       "zipcode         -612.8704     31.892    -19.217      0.000    -675.382    -550.359\n",
       "lat             6.152e+05   1.04e+04     59.324      0.000    5.95e+05    6.36e+05\n",
       "long           -2.117e+05   1.27e+04    -16.679      0.000   -2.37e+05   -1.87e+05\n",
       "sqft_living15     24.7757      3.351      7.393      0.000      18.207      31.344\n",
       "sqft_lot15        -0.3617      0.071     -5.116      0.000      -0.500      -0.223\n",
       "been_renovated  6.051e+04   6879.807      8.795      0.000     4.7e+04     7.4e+04\n",
       "grade_3         5.265e+05   2.93e+05      1.794      0.073   -4.87e+04     1.1e+06\n",
       "grade_4         3.554e+05   2.38e+05      1.495      0.135   -1.11e+05    8.21e+05\n",
       "grade_5         3.434e+05   2.36e+05      1.454      0.146   -1.19e+05    8.06e+05\n",
       "grade_6         3.643e+05   2.37e+05      1.539      0.124   -9.95e+04    8.28e+05\n",
       "grade_7         4.019e+05   2.37e+05      1.698      0.089   -6.19e+04    8.66e+05\n",
       "grade_8         4.605e+05   2.37e+05      1.945      0.052   -3492.344    9.25e+05\n",
       "grade_9         5.796e+05   2.37e+05      2.445      0.014    1.15e+05    1.04e+06\n",
       "grade_10        7.448e+05   2.37e+05      3.140      0.002     2.8e+05    1.21e+06\n",
       "grade_11        9.914e+05   2.38e+05      4.174      0.000    5.26e+05    1.46e+06\n",
       "grade_12        1.438e+06   2.38e+05      6.038      0.000    9.71e+05     1.9e+06\n",
       "grade_13        2.614e+06   2.43e+05     10.737      0.000    2.14e+06    3.09e+06\n",
       "==============================================================================\n",
       "Omnibus:                    15080.922   Durbin-Watson:                   1.995\n",
       "Prob(Omnibus):                  0.000   Jarque-Bera (JB):           883752.091\n",
       "Skew:                           2.751   Prob(JB):                         0.00\n",
       "Kurtosis:                      33.898   Cond. No.                     2.35e+15\n",
       "==============================================================================\n",
       "\n",
       "Notes:\n",
       "[1] Standard Errors assume that the covariance matrix of the errors is correctly specified.\n",
       "[2] The smallest eigenvalue is 3.94e-17. This might indicate that there are\n",
       "strong multicollinearity problems or that the design matrix is singular.\n",
       "\"\"\""
      ]
     },
     "execution_count": 78,
     "metadata": {},
     "output_type": "execute_result"
    }
   ],
   "source": [
    "modelgrade = ols(formula=f,data = dfgrade).fit()\n",
    "modelgrade.summary()"
   ]
  },
  {
   "cell_type": "markdown",
   "metadata": {},
   "source": [
    "## Model with view dummies"
   ]
  },
  {
   "cell_type": "code",
   "execution_count": 79,
   "metadata": {
    "ExecuteTime": {
     "end_time": "2021-01-12T05:05:52.215332Z",
     "start_time": "2021-01-12T05:05:52.207353Z"
    }
   },
   "outputs": [],
   "source": [
    "view = pd.get_dummies(df['view'], prefix = 'v')"
   ]
  },
  {
   "cell_type": "code",
   "execution_count": 80,
   "metadata": {
    "ExecuteTime": {
     "end_time": "2021-01-12T05:05:52.515609Z",
     "start_time": "2021-01-12T05:05:52.512630Z"
    }
   },
   "outputs": [],
   "source": [
    "view.columns = view.columns.map(lambda x: x.replace('.0',''))"
   ]
  },
  {
   "cell_type": "code",
   "execution_count": 81,
   "metadata": {
    "ExecuteTime": {
     "end_time": "2021-01-12T05:05:52.777912Z",
     "start_time": "2021-01-12T05:05:52.769908Z"
    }
   },
   "outputs": [],
   "source": [
    "dfview = pd.concat([df, view], axis = 1)"
   ]
  },
  {
   "cell_type": "code",
   "execution_count": 82,
   "metadata": {
    "ExecuteTime": {
     "end_time": "2021-01-12T05:06:01.052132Z",
     "start_time": "2021-01-12T05:06:01.034186Z"
    }
   },
   "outputs": [],
   "source": [
    "outcome = 'price'\n",
    "x_cols = dfview.drop(['price', 'id', 'date','month','view','yr_renovated'], axis = 1).columns\n",
    "\n",
    "predictors = '+'.join(x_cols)\n",
    "\n",
    "f = outcome + '~' + predictors"
   ]
  },
  {
   "cell_type": "code",
   "execution_count": 83,
   "metadata": {
    "ExecuteTime": {
     "end_time": "2021-01-12T05:06:01.484974Z",
     "start_time": "2021-01-12T05:06:01.403194Z"
    }
   },
   "outputs": [
    {
     "data": {
      "text/html": [
       "<table class=\"simpletable\">\n",
       "<caption>OLS Regression Results</caption>\n",
       "<tr>\n",
       "  <th>Dep. Variable:</th>          <td>price</td>      <th>  R-squared:         </th>  <td>   0.695</td>  \n",
       "</tr>\n",
       "<tr>\n",
       "  <th>Model:</th>                   <td>OLS</td>       <th>  Adj. R-squared:    </th>  <td>   0.695</td>  \n",
       "</tr>\n",
       "<tr>\n",
       "  <th>Method:</th>             <td>Least Squares</td>  <th>  F-statistic:       </th>  <td>   2451.</td>  \n",
       "</tr>\n",
       "<tr>\n",
       "  <th>Date:</th>             <td>Tue, 12 Jan 2021</td> <th>  Prob (F-statistic):</th>   <td>  0.00</td>   \n",
       "</tr>\n",
       "<tr>\n",
       "  <th>Time:</th>                 <td>00:06:01</td>     <th>  Log-Likelihood:    </th> <td>-2.9363e+05</td>\n",
       "</tr>\n",
       "<tr>\n",
       "  <th>No. Observations:</th>      <td> 21534</td>      <th>  AIC:               </th>  <td>5.873e+05</td> \n",
       "</tr>\n",
       "<tr>\n",
       "  <th>Df Residuals:</th>          <td> 21513</td>      <th>  BIC:               </th>  <td>5.875e+05</td> \n",
       "</tr>\n",
       "<tr>\n",
       "  <th>Df Model:</th>              <td>    20</td>      <th>                     </th>      <td> </td>     \n",
       "</tr>\n",
       "<tr>\n",
       "  <th>Covariance Type:</th>      <td>nonrobust</td>    <th>                     </th>      <td> </td>     \n",
       "</tr>\n",
       "</table>\n",
       "<table class=\"simpletable\">\n",
       "<tr>\n",
       "         <td></td>           <th>coef</th>     <th>std err</th>      <th>t</th>      <th>P>|t|</th>  <th>[0.025</th>    <th>0.975]</th>  \n",
       "</tr>\n",
       "<tr>\n",
       "  <th>Intercept</th>      <td> 6.667e+06</td> <td> 2.46e+06</td> <td>    2.713</td> <td> 0.007</td> <td> 1.85e+06</td> <td> 1.15e+07</td>\n",
       "</tr>\n",
       "<tr>\n",
       "  <th>bedrooms</th>       <td>  -3.7e+04</td> <td> 1911.637</td> <td>  -19.356</td> <td> 0.000</td> <td>-4.07e+04</td> <td>-3.33e+04</td>\n",
       "</tr>\n",
       "<tr>\n",
       "  <th>bathrooms</th>      <td> 4.137e+04</td> <td> 3278.085</td> <td>   12.622</td> <td> 0.000</td> <td> 3.49e+04</td> <td> 4.78e+04</td>\n",
       "</tr>\n",
       "<tr>\n",
       "  <th>sqft_living</th>    <td>  180.6434</td> <td>    3.680</td> <td>   49.082</td> <td> 0.000</td> <td>  173.430</td> <td>  187.857</td>\n",
       "</tr>\n",
       "<tr>\n",
       "  <th>sqft_lot</th>       <td>    0.1284</td> <td>    0.048</td> <td>    2.664</td> <td> 0.008</td> <td>    0.034</td> <td>    0.223</td>\n",
       "</tr>\n",
       "<tr>\n",
       "  <th>floors</th>         <td> 9392.5733</td> <td> 3601.566</td> <td>    2.608</td> <td> 0.009</td> <td> 2333.236</td> <td> 1.65e+04</td>\n",
       "</tr>\n",
       "<tr>\n",
       "  <th>waterfront</th>     <td> 1.481e+05</td> <td> 1.09e+04</td> <td>   13.629</td> <td> 0.000</td> <td> 1.27e+05</td> <td> 1.69e+05</td>\n",
       "</tr>\n",
       "<tr>\n",
       "  <th>condition</th>      <td> 2.571e+04</td> <td> 2353.686</td> <td>   10.923</td> <td> 0.000</td> <td> 2.11e+04</td> <td> 3.03e+04</td>\n",
       "</tr>\n",
       "<tr>\n",
       "  <th>grade</th>          <td> 9.674e+04</td> <td> 2172.926</td> <td>   44.518</td> <td> 0.000</td> <td> 9.25e+04</td> <td> 1.01e+05</td>\n",
       "</tr>\n",
       "<tr>\n",
       "  <th>sqft_basement</th>  <td>  -30.9020</td> <td>    4.351</td> <td>   -7.102</td> <td> 0.000</td> <td>  -39.431</td> <td>  -22.373</td>\n",
       "</tr>\n",
       "<tr>\n",
       "  <th>yr_built</th>       <td>-2672.2141</td> <td>   71.969</td> <td>  -37.130</td> <td> 0.000</td> <td>-2813.279</td> <td>-2531.150</td>\n",
       "</tr>\n",
       "<tr>\n",
       "  <th>zipcode</th>        <td> -589.9801</td> <td>   33.207</td> <td>  -17.767</td> <td> 0.000</td> <td> -655.069</td> <td> -524.891</td>\n",
       "</tr>\n",
       "<tr>\n",
       "  <th>lat</th>            <td> 5.938e+05</td> <td> 1.08e+04</td> <td>   54.945</td> <td> 0.000</td> <td> 5.73e+05</td> <td> 6.15e+05</td>\n",
       "</tr>\n",
       "<tr>\n",
       "  <th>long</th>           <td>-2.157e+05</td> <td> 1.32e+04</td> <td>  -16.293</td> <td> 0.000</td> <td>-2.42e+05</td> <td> -1.9e+05</td>\n",
       "</tr>\n",
       "<tr>\n",
       "  <th>sqft_living15</th>  <td>   20.0477</td> <td>    3.471</td> <td>    5.775</td> <td> 0.000</td> <td>   13.244</td> <td>   26.852</td>\n",
       "</tr>\n",
       "<tr>\n",
       "  <th>sqft_lot15</th>     <td>   -0.3632</td> <td>    0.074</td> <td>   -4.925</td> <td> 0.000</td> <td>   -0.508</td> <td>   -0.219</td>\n",
       "</tr>\n",
       "<tr>\n",
       "  <th>been_renovated</th> <td> 3.869e+04</td> <td> 7166.554</td> <td>    5.398</td> <td> 0.000</td> <td> 2.46e+04</td> <td> 5.27e+04</td>\n",
       "</tr>\n",
       "<tr>\n",
       "  <th>v_0</th>            <td> 1.173e+06</td> <td> 4.91e+05</td> <td>    2.388</td> <td> 0.017</td> <td>  2.1e+05</td> <td> 2.14e+06</td>\n",
       "</tr>\n",
       "<tr>\n",
       "  <th>v_1</th>            <td> 1.286e+06</td> <td> 4.92e+05</td> <td>    2.614</td> <td> 0.009</td> <td> 3.22e+05</td> <td> 2.25e+06</td>\n",
       "</tr>\n",
       "<tr>\n",
       "  <th>v_2</th>            <td> 1.248e+06</td> <td> 4.92e+05</td> <td>    2.539</td> <td> 0.011</td> <td> 2.85e+05</td> <td> 2.21e+06</td>\n",
       "</tr>\n",
       "<tr>\n",
       "  <th>v_3</th>            <td> 1.328e+06</td> <td> 4.92e+05</td> <td>    2.701</td> <td> 0.007</td> <td> 3.64e+05</td> <td> 2.29e+06</td>\n",
       "</tr>\n",
       "<tr>\n",
       "  <th>v_4</th>            <td> 1.632e+06</td> <td> 4.92e+05</td> <td>    3.318</td> <td> 0.001</td> <td> 6.68e+05</td> <td>  2.6e+06</td>\n",
       "</tr>\n",
       "</table>\n",
       "<table class=\"simpletable\">\n",
       "<tr>\n",
       "  <th>Omnibus:</th>       <td>18377.591</td> <th>  Durbin-Watson:     </th>  <td>   1.992</td>  \n",
       "</tr>\n",
       "<tr>\n",
       "  <th>Prob(Omnibus):</th>  <td> 0.000</td>   <th>  Jarque-Bera (JB):  </th> <td>1880800.191</td>\n",
       "</tr>\n",
       "<tr>\n",
       "  <th>Skew:</th>           <td> 3.584</td>   <th>  Prob(JB):          </th>  <td>    0.00</td>  \n",
       "</tr>\n",
       "<tr>\n",
       "  <th>Kurtosis:</th>       <td>48.220</td>   <th>  Cond. No.          </th>  <td>5.55e+20</td>  \n",
       "</tr>\n",
       "</table><br/><br/>Notes:<br/>[1] Standard Errors assume that the covariance matrix of the errors is correctly specified.<br/>[2] The smallest eigenvalue is 7.08e-28. This might indicate that there are<br/>strong multicollinearity problems or that the design matrix is singular."
      ],
      "text/plain": [
       "<class 'statsmodels.iolib.summary.Summary'>\n",
       "\"\"\"\n",
       "                            OLS Regression Results                            \n",
       "==============================================================================\n",
       "Dep. Variable:                  price   R-squared:                       0.695\n",
       "Model:                            OLS   Adj. R-squared:                  0.695\n",
       "Method:                 Least Squares   F-statistic:                     2451.\n",
       "Date:                Tue, 12 Jan 2021   Prob (F-statistic):               0.00\n",
       "Time:                        00:06:01   Log-Likelihood:            -2.9363e+05\n",
       "No. Observations:               21534   AIC:                         5.873e+05\n",
       "Df Residuals:                   21513   BIC:                         5.875e+05\n",
       "Df Model:                          20                                         \n",
       "Covariance Type:            nonrobust                                         \n",
       "==================================================================================\n",
       "                     coef    std err          t      P>|t|      [0.025      0.975]\n",
       "----------------------------------------------------------------------------------\n",
       "Intercept       6.667e+06   2.46e+06      2.713      0.007    1.85e+06    1.15e+07\n",
       "bedrooms         -3.7e+04   1911.637    -19.356      0.000   -4.07e+04   -3.33e+04\n",
       "bathrooms       4.137e+04   3278.085     12.622      0.000    3.49e+04    4.78e+04\n",
       "sqft_living      180.6434      3.680     49.082      0.000     173.430     187.857\n",
       "sqft_lot           0.1284      0.048      2.664      0.008       0.034       0.223\n",
       "floors          9392.5733   3601.566      2.608      0.009    2333.236    1.65e+04\n",
       "waterfront      1.481e+05   1.09e+04     13.629      0.000    1.27e+05    1.69e+05\n",
       "condition       2.571e+04   2353.686     10.923      0.000    2.11e+04    3.03e+04\n",
       "grade           9.674e+04   2172.926     44.518      0.000    9.25e+04    1.01e+05\n",
       "sqft_basement    -30.9020      4.351     -7.102      0.000     -39.431     -22.373\n",
       "yr_built       -2672.2141     71.969    -37.130      0.000   -2813.279   -2531.150\n",
       "zipcode         -589.9801     33.207    -17.767      0.000    -655.069    -524.891\n",
       "lat             5.938e+05   1.08e+04     54.945      0.000    5.73e+05    6.15e+05\n",
       "long           -2.157e+05   1.32e+04    -16.293      0.000   -2.42e+05    -1.9e+05\n",
       "sqft_living15     20.0477      3.471      5.775      0.000      13.244      26.852\n",
       "sqft_lot15        -0.3632      0.074     -4.925      0.000      -0.508      -0.219\n",
       "been_renovated  3.869e+04   7166.554      5.398      0.000    2.46e+04    5.27e+04\n",
       "v_0             1.173e+06   4.91e+05      2.388      0.017     2.1e+05    2.14e+06\n",
       "v_1             1.286e+06   4.92e+05      2.614      0.009    3.22e+05    2.25e+06\n",
       "v_2             1.248e+06   4.92e+05      2.539      0.011    2.85e+05    2.21e+06\n",
       "v_3             1.328e+06   4.92e+05      2.701      0.007    3.64e+05    2.29e+06\n",
       "v_4             1.632e+06   4.92e+05      3.318      0.001    6.68e+05     2.6e+06\n",
       "==============================================================================\n",
       "Omnibus:                    18377.591   Durbin-Watson:                   1.992\n",
       "Prob(Omnibus):                  0.000   Jarque-Bera (JB):          1880800.191\n",
       "Skew:                           3.584   Prob(JB):                         0.00\n",
       "Kurtosis:                      48.220   Cond. No.                     5.55e+20\n",
       "==============================================================================\n",
       "\n",
       "Notes:\n",
       "[1] Standard Errors assume that the covariance matrix of the errors is correctly specified.\n",
       "[2] The smallest eigenvalue is 7.08e-28. This might indicate that there are\n",
       "strong multicollinearity problems or that the design matrix is singular.\n",
       "\"\"\""
      ]
     },
     "execution_count": 83,
     "metadata": {},
     "output_type": "execute_result"
    }
   ],
   "source": [
    "modelview = ols(formula=f, data = dfview ).fit()\n",
    "modelview.summary()"
   ]
  },
  {
   "cell_type": "markdown",
   "metadata": {},
   "source": [
    "View as dummy values reduces our R2 so will leave as original"
   ]
  },
  {
   "cell_type": "markdown",
   "metadata": {},
   "source": [
    "## Model with Beds as a categorical"
   ]
  },
  {
   "cell_type": "code",
   "execution_count": 88,
   "metadata": {
    "ExecuteTime": {
     "end_time": "2021-01-12T05:07:13.226416Z",
     "start_time": "2021-01-12T05:07:13.220434Z"
    }
   },
   "outputs": [
    {
     "data": {
      "text/plain": [
       "array([1.  , 2.25, 3.  , 2.  , 4.5 , 2.5 , 1.75, 2.75, 1.5 , 3.25, 4.  ,\n",
       "       3.5 , 0.75, 4.75, 5.  , 4.25, 3.75, 1.25, 5.25, 0.5 , 5.5 , 6.75,\n",
       "       6.  , 5.75, 8.  , 7.5 , 7.75, 6.25, 6.5 ])"
      ]
     },
     "execution_count": 88,
     "metadata": {},
     "output_type": "execute_result"
    }
   ],
   "source": [
    "df.bedrooms.unique()"
   ]
  },
  {
   "cell_type": "code",
   "execution_count": 89,
   "metadata": {
    "ExecuteTime": {
     "end_time": "2021-01-12T05:07:44.108326Z",
     "start_time": "2021-01-12T05:07:44.101345Z"
    }
   },
   "outputs": [],
   "source": [
    "beds = pd.get_dummies(df['bedrooms'], prefix = 'beds')"
   ]
  },
  {
   "cell_type": "code",
   "execution_count": 90,
   "metadata": {
    "ExecuteTime": {
     "end_time": "2021-01-12T05:07:44.524319Z",
     "start_time": "2021-01-12T05:07:44.517299Z"
    }
   },
   "outputs": [],
   "source": [
    "dfbeds = pd.concat([df, beds], axis = 1)"
   ]
  },
  {
   "cell_type": "code",
   "execution_count": 91,
   "metadata": {
    "ExecuteTime": {
     "end_time": "2021-01-12T05:07:44.889987Z",
     "start_time": "2021-01-12T05:07:44.880310Z"
    }
   },
   "outputs": [],
   "source": [
    "outcome = 'price'\n",
    "x_cols = dfbeds.drop(['price', 'id', 'date','month','bedrooms','yr_renovated'], axis = 1).columns\n",
    "\n",
    "predictors = '+'.join(x_cols)\n",
    "\n",
    "f = outcome + '~' + predictors"
   ]
  },
  {
   "cell_type": "code",
   "execution_count": 71,
   "metadata": {
    "ExecuteTime": {
     "end_time": "2021-01-11T19:26:48.326675Z",
     "start_time": "2021-01-11T19:26:48.232336Z"
    }
   },
   "outputs": [
    {
     "data": {
      "text/html": [
       "<table class=\"simpletable\">\n",
       "<caption>OLS Regression Results</caption>\n",
       "<tr>\n",
       "  <th>Dep. Variable:</th>          <td>price</td>      <th>  R-squared:         </th>  <td>   0.692</td>  \n",
       "</tr>\n",
       "<tr>\n",
       "  <th>Model:</th>                   <td>OLS</td>       <th>  Adj. R-squared:    </th>  <td>   0.691</td>  \n",
       "</tr>\n",
       "<tr>\n",
       "  <th>Method:</th>             <td>Least Squares</td>  <th>  F-statistic:       </th>  <td>   1786.</td>  \n",
       "</tr>\n",
       "<tr>\n",
       "  <th>Date:</th>             <td>Mon, 11 Jan 2021</td> <th>  Prob (F-statistic):</th>   <td>  0.00</td>   \n",
       "</tr>\n",
       "<tr>\n",
       "  <th>Time:</th>                 <td>14:26:48</td>     <th>  Log-Likelihood:    </th> <td>-2.9375e+05</td>\n",
       "</tr>\n",
       "<tr>\n",
       "  <th>No. Observations:</th>      <td> 21534</td>      <th>  AIC:               </th>  <td>5.876e+05</td> \n",
       "</tr>\n",
       "<tr>\n",
       "  <th>Df Residuals:</th>          <td> 21506</td>      <th>  BIC:               </th>  <td>5.878e+05</td> \n",
       "</tr>\n",
       "<tr>\n",
       "  <th>Df Model:</th>              <td>    27</td>      <th>                     </th>      <td> </td>     \n",
       "</tr>\n",
       "<tr>\n",
       "  <th>Covariance Type:</th>      <td>nonrobust</td>    <th>                     </th>      <td> </td>     \n",
       "</tr>\n",
       "</table>\n",
       "<table class=\"simpletable\">\n",
       "<tr>\n",
       "         <td></td>           <th>coef</th>     <th>std err</th>      <th>t</th>      <th>P>|t|</th>  <th>[0.025</th>    <th>0.975]</th>  \n",
       "</tr>\n",
       "<tr>\n",
       "  <th>Intercept</th>      <td> 9.058e+06</td> <td> 2.74e+06</td> <td>    3.302</td> <td> 0.001</td> <td> 3.68e+06</td> <td> 1.44e+07</td>\n",
       "</tr>\n",
       "<tr>\n",
       "  <th>bathrooms</th>      <td> 4.165e+04</td> <td> 3310.798</td> <td>   12.581</td> <td> 0.000</td> <td> 3.52e+04</td> <td> 4.81e+04</td>\n",
       "</tr>\n",
       "<tr>\n",
       "  <th>sqft_living</th>    <td>  183.2498</td> <td>    3.731</td> <td>   49.114</td> <td> 0.000</td> <td>  175.937</td> <td>  190.563</td>\n",
       "</tr>\n",
       "<tr>\n",
       "  <th>sqft_lot</th>       <td>    0.0961</td> <td>    0.048</td> <td>    1.982</td> <td> 0.047</td> <td>    0.001</td> <td>    0.191</td>\n",
       "</tr>\n",
       "<tr>\n",
       "  <th>floors</th>         <td> 9477.8645</td> <td> 3624.396</td> <td>    2.615</td> <td> 0.009</td> <td> 2373.779</td> <td> 1.66e+04</td>\n",
       "</tr>\n",
       "<tr>\n",
       "  <th>waterfront</th>     <td> 1.781e+05</td> <td> 1.02e+04</td> <td>   17.387</td> <td> 0.000</td> <td> 1.58e+05</td> <td> 1.98e+05</td>\n",
       "</tr>\n",
       "<tr>\n",
       "  <th>view</th>           <td> 7.092e+04</td> <td> 2053.630</td> <td>   34.534</td> <td> 0.000</td> <td> 6.69e+04</td> <td> 7.49e+04</td>\n",
       "</tr>\n",
       "<tr>\n",
       "  <th>condition</th>      <td> 2.811e+04</td> <td> 2375.518</td> <td>   11.834</td> <td> 0.000</td> <td> 2.35e+04</td> <td> 3.28e+04</td>\n",
       "</tr>\n",
       "<tr>\n",
       "  <th>grade</th>          <td>  9.75e+04</td> <td> 2199.641</td> <td>   44.324</td> <td> 0.000</td> <td> 9.32e+04</td> <td> 1.02e+05</td>\n",
       "</tr>\n",
       "<tr>\n",
       "  <th>sqft_basement</th>  <td>  -33.6299</td> <td>    4.380</td> <td>   -7.679</td> <td> 0.000</td> <td>  -42.214</td> <td>  -25.046</td>\n",
       "</tr>\n",
       "<tr>\n",
       "  <th>yr_built</th>       <td>-2599.0629</td> <td>   72.596</td> <td>  -35.802</td> <td> 0.000</td> <td>-2741.356</td> <td>-2456.770</td>\n",
       "</tr>\n",
       "<tr>\n",
       "  <th>been_renovated</th> <td> 4.906e+04</td> <td> 7157.253</td> <td>    6.855</td> <td> 0.000</td> <td>  3.5e+04</td> <td> 6.31e+04</td>\n",
       "</tr>\n",
       "<tr>\n",
       "  <th>zipcode</th>        <td> -610.9233</td> <td>   33.437</td> <td>  -18.271</td> <td> 0.000</td> <td> -676.462</td> <td> -545.384</td>\n",
       "</tr>\n",
       "<tr>\n",
       "  <th>lat</th>            <td> 5.911e+05</td> <td> 1.09e+04</td> <td>   54.287</td> <td> 0.000</td> <td>  5.7e+05</td> <td> 6.12e+05</td>\n",
       "</tr>\n",
       "<tr>\n",
       "  <th>long</th>           <td>-2.146e+05</td> <td> 1.33e+04</td> <td>  -16.125</td> <td> 0.000</td> <td>-2.41e+05</td> <td>-1.89e+05</td>\n",
       "</tr>\n",
       "<tr>\n",
       "  <th>sqft_living15</th>  <td>   20.9788</td> <td>    3.505</td> <td>    5.985</td> <td> 0.000</td> <td>   14.109</td> <td>   27.849</td>\n",
       "</tr>\n",
       "<tr>\n",
       "  <th>sqft_lot15</th>     <td>   -0.3676</td> <td>    0.074</td> <td>   -4.953</td> <td> 0.000</td> <td>   -0.513</td> <td>   -0.222</td>\n",
       "</tr>\n",
       "<tr>\n",
       "  <th>beds_1</th>         <td> 9.248e+05</td> <td> 2.31e+05</td> <td>    4.006</td> <td> 0.000</td> <td> 4.72e+05</td> <td> 1.38e+06</td>\n",
       "</tr>\n",
       "<tr>\n",
       "  <th>beds_2</th>         <td> 8.795e+05</td> <td> 2.31e+05</td> <td>    3.813</td> <td> 0.000</td> <td> 4.27e+05</td> <td> 1.33e+06</td>\n",
       "</tr>\n",
       "<tr>\n",
       "  <th>beds_3</th>         <td> 8.133e+05</td> <td>  2.3e+05</td> <td>    3.533</td> <td> 0.000</td> <td> 3.62e+05</td> <td> 1.26e+06</td>\n",
       "</tr>\n",
       "<tr>\n",
       "  <th>beds_4</th>         <td>  7.62e+05</td> <td>  2.3e+05</td> <td>    3.310</td> <td> 0.001</td> <td> 3.11e+05</td> <td> 1.21e+06</td>\n",
       "</tr>\n",
       "<tr>\n",
       "  <th>beds_5</th>         <td>  7.69e+05</td> <td>  2.3e+05</td> <td>    3.340</td> <td> 0.001</td> <td> 3.18e+05</td> <td> 1.22e+06</td>\n",
       "</tr>\n",
       "<tr>\n",
       "  <th>beds_6</th>         <td> 7.172e+05</td> <td>  2.3e+05</td> <td>    3.114</td> <td> 0.002</td> <td> 2.66e+05</td> <td> 1.17e+06</td>\n",
       "</tr>\n",
       "<tr>\n",
       "  <th>beds_7</th>         <td> 6.602e+05</td> <td> 2.32e+05</td> <td>    2.842</td> <td> 0.004</td> <td> 2.05e+05</td> <td> 1.12e+06</td>\n",
       "</tr>\n",
       "<tr>\n",
       "  <th>beds_8</th>         <td> 8.697e+05</td> <td> 2.36e+05</td> <td>    3.691</td> <td> 0.000</td> <td> 4.08e+05</td> <td> 1.33e+06</td>\n",
       "</tr>\n",
       "<tr>\n",
       "  <th>beds_9</th>         <td> 6.075e+05</td> <td> 2.42e+05</td> <td>    2.508</td> <td> 0.012</td> <td> 1.33e+05</td> <td> 1.08e+06</td>\n",
       "</tr>\n",
       "<tr>\n",
       "  <th>beds_10</th>        <td> 6.429e+05</td> <td> 2.53e+05</td> <td>    2.543</td> <td> 0.011</td> <td> 1.47e+05</td> <td> 1.14e+06</td>\n",
       "</tr>\n",
       "<tr>\n",
       "  <th>beds_11</th>        <td> 4.905e+05</td> <td> 2.96e+05</td> <td>    1.656</td> <td> 0.098</td> <td>-9.01e+04</td> <td> 1.07e+06</td>\n",
       "</tr>\n",
       "<tr>\n",
       "  <th>beds_33</th>        <td> 9.213e+05</td> <td> 2.97e+05</td> <td>    3.101</td> <td> 0.002</td> <td> 3.39e+05</td> <td>  1.5e+06</td>\n",
       "</tr>\n",
       "</table>\n",
       "<table class=\"simpletable\">\n",
       "<tr>\n",
       "  <th>Omnibus:</th>       <td>18320.783</td> <th>  Durbin-Watson:     </th>  <td>   1.993</td>  \n",
       "</tr>\n",
       "<tr>\n",
       "  <th>Prob(Omnibus):</th>  <td> 0.000</td>   <th>  Jarque-Bera (JB):  </th> <td>1778588.586</td>\n",
       "</tr>\n",
       "<tr>\n",
       "  <th>Skew:</th>           <td> 3.584</td>   <th>  Prob(JB):          </th>  <td>    0.00</td>  \n",
       "</tr>\n",
       "<tr>\n",
       "  <th>Kurtosis:</th>       <td>46.942</td>   <th>  Cond. No.          </th>  <td>2.34e+15</td>  \n",
       "</tr>\n",
       "</table><br/><br/>Notes:<br/>[1] Standard Errors assume that the covariance matrix of the errors is correctly specified.<br/>[2] The smallest eigenvalue is 3.97e-17. This might indicate that there are<br/>strong multicollinearity problems or that the design matrix is singular."
      ],
      "text/plain": [
       "<class 'statsmodels.iolib.summary.Summary'>\n",
       "\"\"\"\n",
       "                            OLS Regression Results                            \n",
       "==============================================================================\n",
       "Dep. Variable:                  price   R-squared:                       0.692\n",
       "Model:                            OLS   Adj. R-squared:                  0.691\n",
       "Method:                 Least Squares   F-statistic:                     1786.\n",
       "Date:                Mon, 11 Jan 2021   Prob (F-statistic):               0.00\n",
       "Time:                        14:26:48   Log-Likelihood:            -2.9375e+05\n",
       "No. Observations:               21534   AIC:                         5.876e+05\n",
       "Df Residuals:                   21506   BIC:                         5.878e+05\n",
       "Df Model:                          27                                         \n",
       "Covariance Type:            nonrobust                                         \n",
       "==================================================================================\n",
       "                     coef    std err          t      P>|t|      [0.025      0.975]\n",
       "----------------------------------------------------------------------------------\n",
       "Intercept       9.058e+06   2.74e+06      3.302      0.001    3.68e+06    1.44e+07\n",
       "bathrooms       4.165e+04   3310.798     12.581      0.000    3.52e+04    4.81e+04\n",
       "sqft_living      183.2498      3.731     49.114      0.000     175.937     190.563\n",
       "sqft_lot           0.0961      0.048      1.982      0.047       0.001       0.191\n",
       "floors          9477.8645   3624.396      2.615      0.009    2373.779    1.66e+04\n",
       "waterfront      1.781e+05   1.02e+04     17.387      0.000    1.58e+05    1.98e+05\n",
       "view            7.092e+04   2053.630     34.534      0.000    6.69e+04    7.49e+04\n",
       "condition       2.811e+04   2375.518     11.834      0.000    2.35e+04    3.28e+04\n",
       "grade            9.75e+04   2199.641     44.324      0.000    9.32e+04    1.02e+05\n",
       "sqft_basement    -33.6299      4.380     -7.679      0.000     -42.214     -25.046\n",
       "yr_built       -2599.0629     72.596    -35.802      0.000   -2741.356   -2456.770\n",
       "been_renovated  4.906e+04   7157.253      6.855      0.000     3.5e+04    6.31e+04\n",
       "zipcode         -610.9233     33.437    -18.271      0.000    -676.462    -545.384\n",
       "lat             5.911e+05   1.09e+04     54.287      0.000     5.7e+05    6.12e+05\n",
       "long           -2.146e+05   1.33e+04    -16.125      0.000   -2.41e+05   -1.89e+05\n",
       "sqft_living15     20.9788      3.505      5.985      0.000      14.109      27.849\n",
       "sqft_lot15        -0.3676      0.074     -4.953      0.000      -0.513      -0.222\n",
       "beds_1          9.248e+05   2.31e+05      4.006      0.000    4.72e+05    1.38e+06\n",
       "beds_2          8.795e+05   2.31e+05      3.813      0.000    4.27e+05    1.33e+06\n",
       "beds_3          8.133e+05    2.3e+05      3.533      0.000    3.62e+05    1.26e+06\n",
       "beds_4           7.62e+05    2.3e+05      3.310      0.001    3.11e+05    1.21e+06\n",
       "beds_5           7.69e+05    2.3e+05      3.340      0.001    3.18e+05    1.22e+06\n",
       "beds_6          7.172e+05    2.3e+05      3.114      0.002    2.66e+05    1.17e+06\n",
       "beds_7          6.602e+05   2.32e+05      2.842      0.004    2.05e+05    1.12e+06\n",
       "beds_8          8.697e+05   2.36e+05      3.691      0.000    4.08e+05    1.33e+06\n",
       "beds_9          6.075e+05   2.42e+05      2.508      0.012    1.33e+05    1.08e+06\n",
       "beds_10         6.429e+05   2.53e+05      2.543      0.011    1.47e+05    1.14e+06\n",
       "beds_11         4.905e+05   2.96e+05      1.656      0.098   -9.01e+04    1.07e+06\n",
       "beds_33         9.213e+05   2.97e+05      3.101      0.002    3.39e+05     1.5e+06\n",
       "==============================================================================\n",
       "Omnibus:                    18320.783   Durbin-Watson:                   1.993\n",
       "Prob(Omnibus):                  0.000   Jarque-Bera (JB):          1778588.586\n",
       "Skew:                           3.584   Prob(JB):                         0.00\n",
       "Kurtosis:                      46.942   Cond. No.                     2.34e+15\n",
       "==============================================================================\n",
       "\n",
       "Notes:\n",
       "[1] Standard Errors assume that the covariance matrix of the errors is correctly specified.\n",
       "[2] The smallest eigenvalue is 3.97e-17. This might indicate that there are\n",
       "strong multicollinearity problems or that the design matrix is singular.\n",
       "\"\"\""
      ]
     },
     "execution_count": 71,
     "metadata": {},
     "output_type": "execute_result"
    }
   ],
   "source": [
    "modelbeds = ols(formula=f, data= dfbeds).fit()\n",
    "modelbeds.summary()"
   ]
  },
  {
   "cell_type": "code",
   "execution_count": 72,
   "metadata": {
    "ExecuteTime": {
     "end_time": "2021-01-11T19:26:55.863612Z",
     "start_time": "2021-01-11T19:26:55.859623Z"
    }
   },
   "outputs": [],
   "source": [
    "#does imporve R2 slightly but I think grouping would be more productive and easier to understand"
   ]
  },
  {
   "cell_type": "markdown",
   "metadata": {},
   "source": [
    "## Zipcode dummies model"
   ]
  },
  {
   "cell_type": "code",
   "execution_count": 93,
   "metadata": {
    "ExecuteTime": {
     "end_time": "2021-01-12T05:08:11.475696Z",
     "start_time": "2021-01-12T05:08:11.456747Z"
    }
   },
   "outputs": [],
   "source": [
    "zipcode = pd.get_dummies(df['zipcode'], prefix = 'zip')\n",
    "dfzip = pd.concat([df, zipcode], axis = 1)"
   ]
  },
  {
   "cell_type": "code",
   "execution_count": 94,
   "metadata": {
    "ExecuteTime": {
     "end_time": "2021-01-12T05:08:12.024384Z",
     "start_time": "2021-01-12T05:08:12.011226Z"
    }
   },
   "outputs": [],
   "source": [
    "outcome = 'price'\n",
    "x_cols = dfzip.drop(['price', 'id', 'date','month','zipcode','yr_renovated'], axis = 1).columns\n",
    "\n",
    "predictors = '+'.join(x_cols)\n",
    "\n",
    "f = outcome + '~' + predictors"
   ]
  },
  {
   "cell_type": "code",
   "execution_count": 95,
   "metadata": {
    "ExecuteTime": {
     "end_time": "2021-01-12T05:08:13.038067Z",
     "start_time": "2021-01-12T05:08:12.691511Z"
    }
   },
   "outputs": [
    {
     "data": {
      "text/html": [
       "<table class=\"simpletable\">\n",
       "<caption>OLS Regression Results</caption>\n",
       "<tr>\n",
       "  <th>Dep. Variable:</th>          <td>price</td>      <th>  R-squared:         </th>  <td>   0.796</td>  \n",
       "</tr>\n",
       "<tr>\n",
       "  <th>Model:</th>                   <td>OLS</td>       <th>  Adj. R-squared:    </th>  <td>   0.795</td>  \n",
       "</tr>\n",
       "<tr>\n",
       "  <th>Method:</th>             <td>Least Squares</td>  <th>  F-statistic:       </th>  <td>   982.7</td>  \n",
       "</tr>\n",
       "<tr>\n",
       "  <th>Date:</th>             <td>Tue, 12 Jan 2021</td> <th>  Prob (F-statistic):</th>   <td>  0.00</td>   \n",
       "</tr>\n",
       "<tr>\n",
       "  <th>Time:</th>                 <td>00:08:12</td>     <th>  Log-Likelihood:    </th> <td>-2.8932e+05</td>\n",
       "</tr>\n",
       "<tr>\n",
       "  <th>No. Observations:</th>      <td> 21534</td>      <th>  AIC:               </th>  <td>5.788e+05</td> \n",
       "</tr>\n",
       "<tr>\n",
       "  <th>Df Residuals:</th>          <td> 21448</td>      <th>  BIC:               </th>  <td>5.795e+05</td> \n",
       "</tr>\n",
       "<tr>\n",
       "  <th>Df Model:</th>              <td>    85</td>      <th>                     </th>      <td> </td>     \n",
       "</tr>\n",
       "<tr>\n",
       "  <th>Covariance Type:</th>      <td>nonrobust</td>    <th>                     </th>      <td> </td>     \n",
       "</tr>\n",
       "</table>\n",
       "<table class=\"simpletable\">\n",
       "<tr>\n",
       "         <td></td>           <th>coef</th>     <th>std err</th>      <th>t</th>      <th>P>|t|</th>  <th>[0.025</th>    <th>0.975]</th>  \n",
       "</tr>\n",
       "<tr>\n",
       "  <th>Intercept</th>      <td>-2.638e+07</td> <td> 6.26e+06</td> <td>   -4.214</td> <td> 0.000</td> <td>-3.86e+07</td> <td>-1.41e+07</td>\n",
       "</tr>\n",
       "<tr>\n",
       "  <th>bedrooms</th>       <td>-2.956e+04</td> <td> 1587.142</td> <td>  -18.627</td> <td> 0.000</td> <td>-3.27e+04</td> <td>-2.65e+04</td>\n",
       "</tr>\n",
       "<tr>\n",
       "  <th>bathrooms</th>      <td> 2.279e+04</td> <td> 2712.741</td> <td>    8.402</td> <td> 0.000</td> <td> 1.75e+04</td> <td> 2.81e+04</td>\n",
       "</tr>\n",
       "<tr>\n",
       "  <th>sqft_living</th>    <td>  208.5977</td> <td>    3.109</td> <td>   67.087</td> <td> 0.000</td> <td>  202.503</td> <td>  214.692</td>\n",
       "</tr>\n",
       "<tr>\n",
       "  <th>sqft_lot</th>       <td>    0.2167</td> <td>    0.040</td> <td>    5.464</td> <td> 0.000</td> <td>    0.139</td> <td>    0.294</td>\n",
       "</tr>\n",
       "<tr>\n",
       "  <th>floors</th>         <td>-3.937e+04</td> <td> 3238.536</td> <td>  -12.156</td> <td> 0.000</td> <td>-4.57e+04</td> <td> -3.3e+04</td>\n",
       "</tr>\n",
       "<tr>\n",
       "  <th>waterfront</th>     <td>  2.18e+05</td> <td> 8652.809</td> <td>   25.200</td> <td> 0.000</td> <td> 2.01e+05</td> <td> 2.35e+05</td>\n",
       "</tr>\n",
       "<tr>\n",
       "  <th>view</th>           <td> 7.595e+04</td> <td> 1722.284</td> <td>   44.100</td> <td> 0.000</td> <td> 7.26e+04</td> <td> 7.93e+04</td>\n",
       "</tr>\n",
       "<tr>\n",
       "  <th>condition</th>      <td> 2.453e+04</td> <td> 1977.737</td> <td>   12.403</td> <td> 0.000</td> <td> 2.07e+04</td> <td> 2.84e+04</td>\n",
       "</tr>\n",
       "<tr>\n",
       "  <th>grade</th>          <td> 5.842e+04</td> <td> 1881.973</td> <td>   31.042</td> <td> 0.000</td> <td> 5.47e+04</td> <td> 6.21e+04</td>\n",
       "</tr>\n",
       "<tr>\n",
       "  <th>sqft_basement</th>  <td>  -75.4123</td> <td>    3.711</td> <td>  -20.322</td> <td> 0.000</td> <td>  -82.686</td> <td>  -68.139</td>\n",
       "</tr>\n",
       "<tr>\n",
       "  <th>yr_built</th>       <td> -794.2312</td> <td>   65.934</td> <td>  -12.046</td> <td> 0.000</td> <td> -923.467</td> <td> -664.995</td>\n",
       "</tr>\n",
       "<tr>\n",
       "  <th>lat</th>            <td> 1.668e+05</td> <td> 6.55e+04</td> <td>    2.546</td> <td> 0.011</td> <td> 3.84e+04</td> <td> 2.95e+05</td>\n",
       "</tr>\n",
       "<tr>\n",
       "  <th>long</th>           <td>-1.642e+05</td> <td>  4.7e+04</td> <td>   -3.492</td> <td> 0.000</td> <td>-2.56e+05</td> <td> -7.2e+04</td>\n",
       "</tr>\n",
       "<tr>\n",
       "  <th>sqft_living15</th>  <td>    6.9112</td> <td>    2.978</td> <td>    2.320</td> <td> 0.020</td> <td>    1.073</td> <td>   12.749</td>\n",
       "</tr>\n",
       "<tr>\n",
       "  <th>sqft_lot15</th>     <td>   -0.1374</td> <td>    0.062</td> <td>   -2.200</td> <td> 0.028</td> <td>   -0.260</td> <td>   -0.015</td>\n",
       "</tr>\n",
       "<tr>\n",
       "  <th>been_renovated</th> <td>  3.69e+04</td> <td> 5912.318</td> <td>    6.241</td> <td> 0.000</td> <td> 2.53e+04</td> <td> 4.85e+04</td>\n",
       "</tr>\n",
       "<tr>\n",
       "  <th>zip_98001</th>      <td> -5.43e+05</td> <td>  8.7e+04</td> <td>   -6.243</td> <td> 0.000</td> <td>-7.13e+05</td> <td>-3.72e+05</td>\n",
       "</tr>\n",
       "<tr>\n",
       "  <th>zip_98002</th>      <td>-5.046e+05</td> <td> 8.48e+04</td> <td>   -5.951</td> <td> 0.000</td> <td>-6.71e+05</td> <td>-3.38e+05</td>\n",
       "</tr>\n",
       "<tr>\n",
       "  <th>zip_98003</th>      <td>-5.718e+05</td> <td> 8.89e+04</td> <td>   -6.432</td> <td> 0.000</td> <td>-7.46e+05</td> <td>-3.98e+05</td>\n",
       "</tr>\n",
       "<tr>\n",
       "  <th>zip_98004</th>      <td> 1.897e+05</td> <td> 9.15e+04</td> <td>    2.074</td> <td> 0.038</td> <td> 1.04e+04</td> <td> 3.69e+05</td>\n",
       "</tr>\n",
       "<tr>\n",
       "  <th>zip_98005</th>      <td>-2.743e+05</td> <td> 9.03e+04</td> <td>   -3.039</td> <td> 0.002</td> <td>-4.51e+05</td> <td>-9.74e+04</td>\n",
       "</tr>\n",
       "<tr>\n",
       "  <th>zip_98006</th>      <td> -3.08e+05</td> <td> 8.72e+04</td> <td>   -3.530</td> <td> 0.000</td> <td>-4.79e+05</td> <td>-1.37e+05</td>\n",
       "</tr>\n",
       "<tr>\n",
       "  <th>zip_98007</th>      <td>-3.313e+05</td> <td> 8.94e+04</td> <td>   -3.707</td> <td> 0.000</td> <td>-5.07e+05</td> <td>-1.56e+05</td>\n",
       "</tr>\n",
       "<tr>\n",
       "  <th>zip_98008</th>      <td>-3.129e+05</td> <td> 8.79e+04</td> <td>   -3.559</td> <td> 0.000</td> <td>-4.85e+05</td> <td>-1.41e+05</td>\n",
       "</tr>\n",
       "<tr>\n",
       "  <th>zip_98010</th>      <td>-4.425e+05</td> <td>  7.7e+04</td> <td>   -5.744</td> <td> 0.000</td> <td>-5.93e+05</td> <td>-2.91e+05</td>\n",
       "</tr>\n",
       "<tr>\n",
       "  <th>zip_98011</th>      <td>-4.865e+05</td> <td> 9.62e+04</td> <td>   -5.059</td> <td> 0.000</td> <td>-6.75e+05</td> <td>-2.98e+05</td>\n",
       "</tr>\n",
       "<tr>\n",
       "  <th>zip_98014</th>      <td>-4.365e+05</td> <td> 8.11e+04</td> <td>   -5.385</td> <td> 0.000</td> <td>-5.95e+05</td> <td>-2.78e+05</td>\n",
       "</tr>\n",
       "<tr>\n",
       "  <th>zip_98019</th>      <td>-4.706e+05</td> <td> 8.67e+04</td> <td>   -5.428</td> <td> 0.000</td> <td>-6.41e+05</td> <td>-3.01e+05</td>\n",
       "</tr>\n",
       "<tr>\n",
       "  <th>zip_98022</th>      <td>-5.063e+05</td> <td> 7.37e+04</td> <td>   -6.871</td> <td> 0.000</td> <td>-6.51e+05</td> <td>-3.62e+05</td>\n",
       "</tr>\n",
       "<tr>\n",
       "  <th>zip_98023</th>      <td>-5.897e+05</td> <td>  9.1e+04</td> <td>   -6.481</td> <td> 0.000</td> <td>-7.68e+05</td> <td>-4.11e+05</td>\n",
       "</tr>\n",
       "<tr>\n",
       "  <th>zip_98024</th>      <td>-3.742e+05</td> <td> 7.99e+04</td> <td>   -4.682</td> <td> 0.000</td> <td>-5.31e+05</td> <td>-2.18e+05</td>\n",
       "</tr>\n",
       "<tr>\n",
       "  <th>zip_98027</th>      <td>-3.721e+05</td> <td> 8.21e+04</td> <td>   -4.530</td> <td> 0.000</td> <td>-5.33e+05</td> <td>-2.11e+05</td>\n",
       "</tr>\n",
       "<tr>\n",
       "  <th>zip_98028</th>      <td>-4.951e+05</td> <td> 9.76e+04</td> <td>   -5.071</td> <td> 0.000</td> <td>-6.87e+05</td> <td>-3.04e+05</td>\n",
       "</tr>\n",
       "<tr>\n",
       "  <th>zip_98029</th>      <td>-3.346e+05</td> <td> 8.19e+04</td> <td>   -4.088</td> <td> 0.000</td> <td>-4.95e+05</td> <td>-1.74e+05</td>\n",
       "</tr>\n",
       "<tr>\n",
       "  <th>zip_98030</th>      <td>-5.359e+05</td> <td> 8.47e+04</td> <td>   -6.325</td> <td> 0.000</td> <td>-7.02e+05</td> <td> -3.7e+05</td>\n",
       "</tr>\n",
       "<tr>\n",
       "  <th>zip_98031</th>      <td>-5.338e+05</td> <td> 8.54e+04</td> <td>   -6.253</td> <td> 0.000</td> <td>-7.01e+05</td> <td>-3.66e+05</td>\n",
       "</tr>\n",
       "<tr>\n",
       "  <th>zip_98032</th>      <td> -5.53e+05</td> <td> 8.92e+04</td> <td>   -6.197</td> <td> 0.000</td> <td>-7.28e+05</td> <td>-3.78e+05</td>\n",
       "</tr>\n",
       "<tr>\n",
       "  <th>zip_98033</th>      <td>-2.304e+05</td> <td> 9.27e+04</td> <td>   -2.485</td> <td> 0.013</td> <td>-4.12e+05</td> <td>-4.87e+04</td>\n",
       "</tr>\n",
       "<tr>\n",
       "  <th>zip_98034</th>      <td>-3.972e+05</td> <td> 9.47e+04</td> <td>   -4.192</td> <td> 0.000</td> <td>-5.83e+05</td> <td>-2.11e+05</td>\n",
       "</tr>\n",
       "<tr>\n",
       "  <th>zip_98038</th>      <td>-4.811e+05</td> <td> 7.77e+04</td> <td>   -6.195</td> <td> 0.000</td> <td>-6.33e+05</td> <td>-3.29e+05</td>\n",
       "</tr>\n",
       "<tr>\n",
       "  <th>zip_98039</th>      <td>  7.27e+05</td> <td> 9.53e+04</td> <td>    7.626</td> <td> 0.000</td> <td>  5.4e+05</td> <td> 9.14e+05</td>\n",
       "</tr>\n",
       "<tr>\n",
       "  <th>zip_98040</th>      <td> -7.11e+04</td> <td> 9.07e+04</td> <td>   -0.784</td> <td> 0.433</td> <td>-2.49e+05</td> <td> 1.07e+05</td>\n",
       "</tr>\n",
       "<tr>\n",
       "  <th>zip_98042</th>      <td>-5.199e+05</td> <td> 8.11e+04</td> <td>   -6.408</td> <td> 0.000</td> <td>-6.79e+05</td> <td>-3.61e+05</td>\n",
       "</tr>\n",
       "<tr>\n",
       "  <th>zip_98045</th>      <td>-4.006e+05</td> <td> 6.99e+04</td> <td>   -5.731</td> <td> 0.000</td> <td>-5.38e+05</td> <td>-2.64e+05</td>\n",
       "</tr>\n",
       "<tr>\n",
       "  <th>zip_98052</th>      <td>-3.541e+05</td> <td>    9e+04</td> <td>   -3.934</td> <td> 0.000</td> <td> -5.3e+05</td> <td>-1.78e+05</td>\n",
       "</tr>\n",
       "<tr>\n",
       "  <th>zip_98053</th>      <td>-3.746e+05</td> <td> 8.66e+04</td> <td>   -4.325</td> <td> 0.000</td> <td>-5.44e+05</td> <td>-2.05e+05</td>\n",
       "</tr>\n",
       "<tr>\n",
       "  <th>zip_98055</th>      <td>-5.152e+05</td> <td> 8.72e+04</td> <td>   -5.910</td> <td> 0.000</td> <td>-6.86e+05</td> <td>-3.44e+05</td>\n",
       "</tr>\n",
       "<tr>\n",
       "  <th>zip_98056</th>      <td>-4.651e+05</td> <td> 8.75e+04</td> <td>   -5.317</td> <td> 0.000</td> <td>-6.37e+05</td> <td>-2.94e+05</td>\n",
       "</tr>\n",
       "<tr>\n",
       "  <th>zip_98058</th>      <td>-5.187e+05</td> <td> 8.43e+04</td> <td>   -6.153</td> <td> 0.000</td> <td>-6.84e+05</td> <td>-3.53e+05</td>\n",
       "</tr>\n",
       "<tr>\n",
       "  <th>zip_98059</th>      <td>-4.664e+05</td> <td> 8.52e+04</td> <td>   -5.473</td> <td> 0.000</td> <td>-6.33e+05</td> <td>-2.99e+05</td>\n",
       "</tr>\n",
       "<tr>\n",
       "  <th>zip_98065</th>      <td>-4.356e+05</td> <td> 7.55e+04</td> <td>   -5.770</td> <td> 0.000</td> <td>-5.84e+05</td> <td>-2.88e+05</td>\n",
       "</tr>\n",
       "<tr>\n",
       "  <th>zip_98070</th>      <td>-5.404e+05</td> <td> 9.85e+04</td> <td>   -5.486</td> <td> 0.000</td> <td>-7.33e+05</td> <td>-3.47e+05</td>\n",
       "</tr>\n",
       "<tr>\n",
       "  <th>zip_98072</th>      <td>-4.424e+05</td> <td> 9.33e+04</td> <td>   -4.742</td> <td> 0.000</td> <td>-6.25e+05</td> <td>-2.59e+05</td>\n",
       "</tr>\n",
       "<tr>\n",
       "  <th>zip_98074</th>      <td>-3.866e+05</td> <td> 8.53e+04</td> <td>   -4.530</td> <td> 0.000</td> <td>-5.54e+05</td> <td>-2.19e+05</td>\n",
       "</tr>\n",
       "<tr>\n",
       "  <th>zip_98075</th>      <td>-3.766e+05</td> <td> 8.34e+04</td> <td>   -4.515</td> <td> 0.000</td> <td> -5.4e+05</td> <td>-2.13e+05</td>\n",
       "</tr>\n",
       "<tr>\n",
       "  <th>zip_98077</th>      <td>-4.618e+05</td> <td> 9.08e+04</td> <td>   -5.085</td> <td> 0.000</td> <td> -6.4e+05</td> <td>-2.84e+05</td>\n",
       "</tr>\n",
       "<tr>\n",
       "  <th>zip_98092</th>      <td>-5.643e+05</td> <td> 8.24e+04</td> <td>   -6.847</td> <td> 0.000</td> <td>-7.26e+05</td> <td>-4.03e+05</td>\n",
       "</tr>\n",
       "<tr>\n",
       "  <th>zip_98102</th>      <td>-1.037e+05</td> <td> 9.75e+04</td> <td>   -1.064</td> <td> 0.287</td> <td>-2.95e+05</td> <td> 8.74e+04</td>\n",
       "</tr>\n",
       "<tr>\n",
       "  <th>zip_98103</th>      <td>-2.822e+05</td> <td> 9.86e+04</td> <td>   -2.863</td> <td> 0.004</td> <td>-4.75e+05</td> <td> -8.9e+04</td>\n",
       "</tr>\n",
       "<tr>\n",
       "  <th>zip_98105</th>      <td>-1.395e+05</td> <td> 9.66e+04</td> <td>   -1.444</td> <td> 0.149</td> <td>-3.29e+05</td> <td> 4.98e+04</td>\n",
       "</tr>\n",
       "<tr>\n",
       "  <th>zip_98106</th>      <td>-4.482e+05</td> <td> 9.54e+04</td> <td>   -4.697</td> <td> 0.000</td> <td>-6.35e+05</td> <td>-2.61e+05</td>\n",
       "</tr>\n",
       "<tr>\n",
       "  <th>zip_98107</th>      <td>-2.817e+05</td> <td> 9.99e+04</td> <td>   -2.819</td> <td> 0.005</td> <td>-4.78e+05</td> <td>-8.58e+04</td>\n",
       "</tr>\n",
       "<tr>\n",
       "  <th>zip_98108</th>      <td> -4.63e+05</td> <td>  9.4e+04</td> <td>   -4.926</td> <td> 0.000</td> <td>-6.47e+05</td> <td>-2.79e+05</td>\n",
       "</tr>\n",
       "<tr>\n",
       "  <th>zip_98109</th>      <td>-1.293e+05</td> <td> 9.86e+04</td> <td>   -1.312</td> <td> 0.190</td> <td>-3.23e+05</td> <td> 6.39e+04</td>\n",
       "</tr>\n",
       "<tr>\n",
       "  <th>zip_98112</th>      <td> 1.452e+04</td> <td> 9.56e+04</td> <td>    0.152</td> <td> 0.879</td> <td>-1.73e+05</td> <td> 2.02e+05</td>\n",
       "</tr>\n",
       "<tr>\n",
       "  <th>zip_98115</th>      <td>-2.843e+05</td> <td> 9.72e+04</td> <td>   -2.925</td> <td> 0.003</td> <td>-4.75e+05</td> <td>-9.38e+04</td>\n",
       "</tr>\n",
       "<tr>\n",
       "  <th>zip_98116</th>      <td>-3.311e+05</td> <td> 9.79e+04</td> <td>   -3.383</td> <td> 0.001</td> <td>-5.23e+05</td> <td>-1.39e+05</td>\n",
       "</tr>\n",
       "<tr>\n",
       "  <th>zip_98117</th>      <td>-3.116e+05</td> <td>    1e+05</td> <td>   -3.107</td> <td> 0.002</td> <td>-5.08e+05</td> <td>-1.15e+05</td>\n",
       "</tr>\n",
       "<tr>\n",
       "  <th>zip_98118</th>      <td>-4.138e+05</td> <td> 9.21e+04</td> <td>   -4.494</td> <td> 0.000</td> <td>-5.94e+05</td> <td>-2.33e+05</td>\n",
       "</tr>\n",
       "<tr>\n",
       "  <th>zip_98119</th>      <td>-1.526e+05</td> <td> 9.89e+04</td> <td>   -1.543</td> <td> 0.123</td> <td>-3.46e+05</td> <td> 4.12e+04</td>\n",
       "</tr>\n",
       "<tr>\n",
       "  <th>zip_98122</th>      <td>-2.662e+05</td> <td> 9.51e+04</td> <td>   -2.800</td> <td> 0.005</td> <td>-4.52e+05</td> <td>-7.98e+04</td>\n",
       "</tr>\n",
       "<tr>\n",
       "  <th>zip_98125</th>      <td> -4.12e+05</td> <td> 9.83e+04</td> <td>   -4.191</td> <td> 0.000</td> <td>-6.05e+05</td> <td>-2.19e+05</td>\n",
       "</tr>\n",
       "<tr>\n",
       "  <th>zip_98126</th>      <td> -4.16e+05</td> <td> 9.64e+04</td> <td>   -4.317</td> <td> 0.000</td> <td>-6.05e+05</td> <td>-2.27e+05</td>\n",
       "</tr>\n",
       "<tr>\n",
       "  <th>zip_98133</th>      <td>-4.582e+05</td> <td> 1.01e+05</td> <td>   -4.558</td> <td> 0.000</td> <td>-6.55e+05</td> <td>-2.61e+05</td>\n",
       "</tr>\n",
       "<tr>\n",
       "  <th>zip_98136</th>      <td>-3.589e+05</td> <td> 9.69e+04</td> <td>   -3.704</td> <td> 0.000</td> <td>-5.49e+05</td> <td>-1.69e+05</td>\n",
       "</tr>\n",
       "<tr>\n",
       "  <th>zip_98144</th>      <td>-3.222e+05</td> <td> 9.43e+04</td> <td>   -3.418</td> <td> 0.001</td> <td>-5.07e+05</td> <td>-1.37e+05</td>\n",
       "</tr>\n",
       "<tr>\n",
       "  <th>zip_98146</th>      <td>-4.734e+05</td> <td> 9.47e+04</td> <td>   -4.997</td> <td> 0.000</td> <td>-6.59e+05</td> <td>-2.88e+05</td>\n",
       "</tr>\n",
       "<tr>\n",
       "  <th>zip_98148</th>      <td>-5.008e+05</td> <td> 9.41e+04</td> <td>   -5.324</td> <td> 0.000</td> <td>-6.85e+05</td> <td>-3.16e+05</td>\n",
       "</tr>\n",
       "<tr>\n",
       "  <th>zip_98155</th>      <td>-4.734e+05</td> <td> 9.96e+04</td> <td>   -4.752</td> <td> 0.000</td> <td>-6.69e+05</td> <td>-2.78e+05</td>\n",
       "</tr>\n",
       "<tr>\n",
       "  <th>zip_98166</th>      <td>-5.115e+05</td> <td> 9.34e+04</td> <td>   -5.477</td> <td> 0.000</td> <td>-6.95e+05</td> <td>-3.28e+05</td>\n",
       "</tr>\n",
       "<tr>\n",
       "  <th>zip_98168</th>      <td>-5.017e+05</td> <td> 9.24e+04</td> <td>   -5.433</td> <td> 0.000</td> <td>-6.83e+05</td> <td>-3.21e+05</td>\n",
       "</tr>\n",
       "<tr>\n",
       "  <th>zip_98177</th>      <td>-4.279e+05</td> <td> 1.02e+05</td> <td>   -4.197</td> <td> 0.000</td> <td>-6.28e+05</td> <td>-2.28e+05</td>\n",
       "</tr>\n",
       "<tr>\n",
       "  <th>zip_98178</th>      <td>-5.259e+05</td> <td>    9e+04</td> <td>   -5.842</td> <td> 0.000</td> <td>-7.02e+05</td> <td>-3.49e+05</td>\n",
       "</tr>\n",
       "<tr>\n",
       "  <th>zip_98188</th>      <td>-5.333e+05</td> <td> 9.08e+04</td> <td>   -5.875</td> <td> 0.000</td> <td>-7.11e+05</td> <td>-3.55e+05</td>\n",
       "</tr>\n",
       "<tr>\n",
       "  <th>zip_98198</th>      <td>-5.613e+05</td> <td> 9.05e+04</td> <td>   -6.202</td> <td> 0.000</td> <td>-7.39e+05</td> <td>-3.84e+05</td>\n",
       "</tr>\n",
       "<tr>\n",
       "  <th>zip_98199</th>      <td>-2.459e+05</td> <td>    1e+05</td> <td>   -2.456</td> <td> 0.014</td> <td>-4.42e+05</td> <td>-4.97e+04</td>\n",
       "</tr>\n",
       "</table>\n",
       "<table class=\"simpletable\">\n",
       "<tr>\n",
       "  <th>Omnibus:</th>       <td>21216.976</td> <th>  Durbin-Watson:     </th>  <td>   1.998</td>  \n",
       "</tr>\n",
       "<tr>\n",
       "  <th>Prob(Omnibus):</th>  <td> 0.000</td>   <th>  Jarque-Bera (JB):  </th> <td>4223891.312</td>\n",
       "</tr>\n",
       "<tr>\n",
       "  <th>Skew:</th>           <td> 4.343</td>   <th>  Prob(JB):          </th>  <td>    0.00</td>  \n",
       "</tr>\n",
       "<tr>\n",
       "  <th>Kurtosis:</th>       <td>71.060</td>   <th>  Cond. No.          </th>  <td>3.85e+17</td>  \n",
       "</tr>\n",
       "</table><br/><br/>Notes:<br/>[1] Standard Errors assume that the covariance matrix of the errors is correctly specified.<br/>[2] The smallest eigenvalue is 3.7e-22. This might indicate that there are<br/>strong multicollinearity problems or that the design matrix is singular."
      ],
      "text/plain": [
       "<class 'statsmodels.iolib.summary.Summary'>\n",
       "\"\"\"\n",
       "                            OLS Regression Results                            \n",
       "==============================================================================\n",
       "Dep. Variable:                  price   R-squared:                       0.796\n",
       "Model:                            OLS   Adj. R-squared:                  0.795\n",
       "Method:                 Least Squares   F-statistic:                     982.7\n",
       "Date:                Tue, 12 Jan 2021   Prob (F-statistic):               0.00\n",
       "Time:                        00:08:12   Log-Likelihood:            -2.8932e+05\n",
       "No. Observations:               21534   AIC:                         5.788e+05\n",
       "Df Residuals:                   21448   BIC:                         5.795e+05\n",
       "Df Model:                          85                                         \n",
       "Covariance Type:            nonrobust                                         \n",
       "==================================================================================\n",
       "                     coef    std err          t      P>|t|      [0.025      0.975]\n",
       "----------------------------------------------------------------------------------\n",
       "Intercept      -2.638e+07   6.26e+06     -4.214      0.000   -3.86e+07   -1.41e+07\n",
       "bedrooms       -2.956e+04   1587.142    -18.627      0.000   -3.27e+04   -2.65e+04\n",
       "bathrooms       2.279e+04   2712.741      8.402      0.000    1.75e+04    2.81e+04\n",
       "sqft_living      208.5977      3.109     67.087      0.000     202.503     214.692\n",
       "sqft_lot           0.2167      0.040      5.464      0.000       0.139       0.294\n",
       "floors         -3.937e+04   3238.536    -12.156      0.000   -4.57e+04    -3.3e+04\n",
       "waterfront       2.18e+05   8652.809     25.200      0.000    2.01e+05    2.35e+05\n",
       "view            7.595e+04   1722.284     44.100      0.000    7.26e+04    7.93e+04\n",
       "condition       2.453e+04   1977.737     12.403      0.000    2.07e+04    2.84e+04\n",
       "grade           5.842e+04   1881.973     31.042      0.000    5.47e+04    6.21e+04\n",
       "sqft_basement    -75.4123      3.711    -20.322      0.000     -82.686     -68.139\n",
       "yr_built        -794.2312     65.934    -12.046      0.000    -923.467    -664.995\n",
       "lat             1.668e+05   6.55e+04      2.546      0.011    3.84e+04    2.95e+05\n",
       "long           -1.642e+05    4.7e+04     -3.492      0.000   -2.56e+05    -7.2e+04\n",
       "sqft_living15      6.9112      2.978      2.320      0.020       1.073      12.749\n",
       "sqft_lot15        -0.1374      0.062     -2.200      0.028      -0.260      -0.015\n",
       "been_renovated   3.69e+04   5912.318      6.241      0.000    2.53e+04    4.85e+04\n",
       "zip_98001       -5.43e+05    8.7e+04     -6.243      0.000   -7.13e+05   -3.72e+05\n",
       "zip_98002      -5.046e+05   8.48e+04     -5.951      0.000   -6.71e+05   -3.38e+05\n",
       "zip_98003      -5.718e+05   8.89e+04     -6.432      0.000   -7.46e+05   -3.98e+05\n",
       "zip_98004       1.897e+05   9.15e+04      2.074      0.038    1.04e+04    3.69e+05\n",
       "zip_98005      -2.743e+05   9.03e+04     -3.039      0.002   -4.51e+05   -9.74e+04\n",
       "zip_98006       -3.08e+05   8.72e+04     -3.530      0.000   -4.79e+05   -1.37e+05\n",
       "zip_98007      -3.313e+05   8.94e+04     -3.707      0.000   -5.07e+05   -1.56e+05\n",
       "zip_98008      -3.129e+05   8.79e+04     -3.559      0.000   -4.85e+05   -1.41e+05\n",
       "zip_98010      -4.425e+05    7.7e+04     -5.744      0.000   -5.93e+05   -2.91e+05\n",
       "zip_98011      -4.865e+05   9.62e+04     -5.059      0.000   -6.75e+05   -2.98e+05\n",
       "zip_98014      -4.365e+05   8.11e+04     -5.385      0.000   -5.95e+05   -2.78e+05\n",
       "zip_98019      -4.706e+05   8.67e+04     -5.428      0.000   -6.41e+05   -3.01e+05\n",
       "zip_98022      -5.063e+05   7.37e+04     -6.871      0.000   -6.51e+05   -3.62e+05\n",
       "zip_98023      -5.897e+05    9.1e+04     -6.481      0.000   -7.68e+05   -4.11e+05\n",
       "zip_98024      -3.742e+05   7.99e+04     -4.682      0.000   -5.31e+05   -2.18e+05\n",
       "zip_98027      -3.721e+05   8.21e+04     -4.530      0.000   -5.33e+05   -2.11e+05\n",
       "zip_98028      -4.951e+05   9.76e+04     -5.071      0.000   -6.87e+05   -3.04e+05\n",
       "zip_98029      -3.346e+05   8.19e+04     -4.088      0.000   -4.95e+05   -1.74e+05\n",
       "zip_98030      -5.359e+05   8.47e+04     -6.325      0.000   -7.02e+05    -3.7e+05\n",
       "zip_98031      -5.338e+05   8.54e+04     -6.253      0.000   -7.01e+05   -3.66e+05\n",
       "zip_98032       -5.53e+05   8.92e+04     -6.197      0.000   -7.28e+05   -3.78e+05\n",
       "zip_98033      -2.304e+05   9.27e+04     -2.485      0.013   -4.12e+05   -4.87e+04\n",
       "zip_98034      -3.972e+05   9.47e+04     -4.192      0.000   -5.83e+05   -2.11e+05\n",
       "zip_98038      -4.811e+05   7.77e+04     -6.195      0.000   -6.33e+05   -3.29e+05\n",
       "zip_98039        7.27e+05   9.53e+04      7.626      0.000     5.4e+05    9.14e+05\n",
       "zip_98040       -7.11e+04   9.07e+04     -0.784      0.433   -2.49e+05    1.07e+05\n",
       "zip_98042      -5.199e+05   8.11e+04     -6.408      0.000   -6.79e+05   -3.61e+05\n",
       "zip_98045      -4.006e+05   6.99e+04     -5.731      0.000   -5.38e+05   -2.64e+05\n",
       "zip_98052      -3.541e+05      9e+04     -3.934      0.000    -5.3e+05   -1.78e+05\n",
       "zip_98053      -3.746e+05   8.66e+04     -4.325      0.000   -5.44e+05   -2.05e+05\n",
       "zip_98055      -5.152e+05   8.72e+04     -5.910      0.000   -6.86e+05   -3.44e+05\n",
       "zip_98056      -4.651e+05   8.75e+04     -5.317      0.000   -6.37e+05   -2.94e+05\n",
       "zip_98058      -5.187e+05   8.43e+04     -6.153      0.000   -6.84e+05   -3.53e+05\n",
       "zip_98059      -4.664e+05   8.52e+04     -5.473      0.000   -6.33e+05   -2.99e+05\n",
       "zip_98065      -4.356e+05   7.55e+04     -5.770      0.000   -5.84e+05   -2.88e+05\n",
       "zip_98070      -5.404e+05   9.85e+04     -5.486      0.000   -7.33e+05   -3.47e+05\n",
       "zip_98072      -4.424e+05   9.33e+04     -4.742      0.000   -6.25e+05   -2.59e+05\n",
       "zip_98074      -3.866e+05   8.53e+04     -4.530      0.000   -5.54e+05   -2.19e+05\n",
       "zip_98075      -3.766e+05   8.34e+04     -4.515      0.000    -5.4e+05   -2.13e+05\n",
       "zip_98077      -4.618e+05   9.08e+04     -5.085      0.000    -6.4e+05   -2.84e+05\n",
       "zip_98092      -5.643e+05   8.24e+04     -6.847      0.000   -7.26e+05   -4.03e+05\n",
       "zip_98102      -1.037e+05   9.75e+04     -1.064      0.287   -2.95e+05    8.74e+04\n",
       "zip_98103      -2.822e+05   9.86e+04     -2.863      0.004   -4.75e+05    -8.9e+04\n",
       "zip_98105      -1.395e+05   9.66e+04     -1.444      0.149   -3.29e+05    4.98e+04\n",
       "zip_98106      -4.482e+05   9.54e+04     -4.697      0.000   -6.35e+05   -2.61e+05\n",
       "zip_98107      -2.817e+05   9.99e+04     -2.819      0.005   -4.78e+05   -8.58e+04\n",
       "zip_98108       -4.63e+05    9.4e+04     -4.926      0.000   -6.47e+05   -2.79e+05\n",
       "zip_98109      -1.293e+05   9.86e+04     -1.312      0.190   -3.23e+05    6.39e+04\n",
       "zip_98112       1.452e+04   9.56e+04      0.152      0.879   -1.73e+05    2.02e+05\n",
       "zip_98115      -2.843e+05   9.72e+04     -2.925      0.003   -4.75e+05   -9.38e+04\n",
       "zip_98116      -3.311e+05   9.79e+04     -3.383      0.001   -5.23e+05   -1.39e+05\n",
       "zip_98117      -3.116e+05      1e+05     -3.107      0.002   -5.08e+05   -1.15e+05\n",
       "zip_98118      -4.138e+05   9.21e+04     -4.494      0.000   -5.94e+05   -2.33e+05\n",
       "zip_98119      -1.526e+05   9.89e+04     -1.543      0.123   -3.46e+05    4.12e+04\n",
       "zip_98122      -2.662e+05   9.51e+04     -2.800      0.005   -4.52e+05   -7.98e+04\n",
       "zip_98125       -4.12e+05   9.83e+04     -4.191      0.000   -6.05e+05   -2.19e+05\n",
       "zip_98126       -4.16e+05   9.64e+04     -4.317      0.000   -6.05e+05   -2.27e+05\n",
       "zip_98133      -4.582e+05   1.01e+05     -4.558      0.000   -6.55e+05   -2.61e+05\n",
       "zip_98136      -3.589e+05   9.69e+04     -3.704      0.000   -5.49e+05   -1.69e+05\n",
       "zip_98144      -3.222e+05   9.43e+04     -3.418      0.001   -5.07e+05   -1.37e+05\n",
       "zip_98146      -4.734e+05   9.47e+04     -4.997      0.000   -6.59e+05   -2.88e+05\n",
       "zip_98148      -5.008e+05   9.41e+04     -5.324      0.000   -6.85e+05   -3.16e+05\n",
       "zip_98155      -4.734e+05   9.96e+04     -4.752      0.000   -6.69e+05   -2.78e+05\n",
       "zip_98166      -5.115e+05   9.34e+04     -5.477      0.000   -6.95e+05   -3.28e+05\n",
       "zip_98168      -5.017e+05   9.24e+04     -5.433      0.000   -6.83e+05   -3.21e+05\n",
       "zip_98177      -4.279e+05   1.02e+05     -4.197      0.000   -6.28e+05   -2.28e+05\n",
       "zip_98178      -5.259e+05      9e+04     -5.842      0.000   -7.02e+05   -3.49e+05\n",
       "zip_98188      -5.333e+05   9.08e+04     -5.875      0.000   -7.11e+05   -3.55e+05\n",
       "zip_98198      -5.613e+05   9.05e+04     -6.202      0.000   -7.39e+05   -3.84e+05\n",
       "zip_98199      -2.459e+05      1e+05     -2.456      0.014   -4.42e+05   -4.97e+04\n",
       "==============================================================================\n",
       "Omnibus:                    21216.976   Durbin-Watson:                   1.998\n",
       "Prob(Omnibus):                  0.000   Jarque-Bera (JB):          4223891.312\n",
       "Skew:                           4.343   Prob(JB):                         0.00\n",
       "Kurtosis:                      71.060   Cond. No.                     3.85e+17\n",
       "==============================================================================\n",
       "\n",
       "Notes:\n",
       "[1] Standard Errors assume that the covariance matrix of the errors is correctly specified.\n",
       "[2] The smallest eigenvalue is 3.7e-22. This might indicate that there are\n",
       "strong multicollinearity problems or that the design matrix is singular.\n",
       "\"\"\""
      ]
     },
     "execution_count": 95,
     "metadata": {},
     "output_type": "execute_result"
    }
   ],
   "source": [
    "modelzipcat = ols(formula=f,data = dfzip).fit()\n",
    "modelzipcat.summary()"
   ]
  },
  {
   "cell_type": "code",
   "execution_count": 97,
   "metadata": {
    "ExecuteTime": {
     "end_time": "2021-01-12T05:09:17.122848Z",
     "start_time": "2021-01-12T05:09:16.706189Z"
    }
   },
   "outputs": [
    {
     "name": "stdout",
     "output_type": "stream",
     "text": [
      "Train MSE: 27019643967.99005\n",
      "Test MSE: 28693615859.86552\n",
      "RMSE Train: 164376.53107420795\n",
      "RMSE Test: 169391.90021918263\n"
     ]
    },
    {
     "data": {
      "image/png": "[encoded data removed]",
      "text/plain": [
       "<Figure size 432x288 with 1 Axes>"
      ]
     },
     "execution_count": 97,
     "metadata": {},
     "output_type": "execute_result"
    },
    {
     "data": {
      "image/png": "[encoded data removed]",
      "text/plain": [
       "<Figure size 432x288 with 1 Axes>"
      ]
     },
     "metadata": {
      "needs_background": "light"
     },
     "output_type": "display_data"
    }
   ],
   "source": [
    "data = dfzip.copy()\n",
    "\n",
    "y = data['price']\n",
    "X = data.drop(['price', 'date', 'id', 'zipcode','yr_renovated' ], axis = 1)\n",
    "\n",
    "X_train, X_test, y_train, y_test = train_test_split(X, y, test_size = 0.2)\n",
    "\n",
    "len(X_test)\n",
    "\n",
    "linreg = LinearRegression()\n",
    "linreg.fit(X_train, y_train)\n",
    "\n",
    "y_hat_train = linreg.predict(X_train)\n",
    "y_hat_test = linreg.predict(X_test)\n",
    "\n",
    "\n",
    "mse_train = mean_squared_error(y_train, y_hat_train)\n",
    "mse_test = mean_squared_error(y_test, y_hat_test)\n",
    "\n",
    "print('Train MSE:', mse_train)\n",
    "print('Test MSE:', mse_test)\n",
    "\n",
    "print('RMSE Train:', np.sqrt(mse_train))\n",
    "print('RMSE Test:', np.sqrt(mse_test))\n",
    "\n",
    "r2_score(y_test, y_hat_test)\n",
    "\n",
    "residuals = (y_test - y_hat_test)\n",
    "\n",
    "statsmodels.graphics.gofplots.qqplot(residuals, line = \"r\")"
   ]
  },
  {
   "cell_type": "code",
   "execution_count": 195,
   "metadata": {
    "ExecuteTime": {
     "end_time": "2021-01-09T22:33:14.264355Z",
     "start_time": "2021-01-09T22:33:14.261363Z"
    }
   },
   "outputs": [],
   "source": [
    "#.10 higher on R2 so thats good need to reduce zip to 4-10 sectors"
   ]
  },
  {
   "cell_type": "markdown",
   "metadata": {},
   "source": [
    "## Floors as dummy vars"
   ]
  },
  {
   "cell_type": "code",
   "execution_count": 98,
   "metadata": {
    "ExecuteTime": {
     "end_time": "2021-01-12T05:09:25.939847Z",
     "start_time": "2021-01-12T05:09:25.934888Z"
    }
   },
   "outputs": [
    {
     "data": {
      "text/plain": [
       "array([1. , 2. , 1.5, 3. , 2.5, 3.5])"
      ]
     },
     "execution_count": 98,
     "metadata": {},
     "output_type": "execute_result"
    }
   ],
   "source": [
    "df.floors.unique()"
   ]
  },
  {
   "cell_type": "code",
   "execution_count": 99,
   "metadata": {
    "ExecuteTime": {
     "end_time": "2021-01-12T05:09:30.705415Z",
     "start_time": "2021-01-12T05:09:30.690427Z"
    }
   },
   "outputs": [],
   "source": [
    "df.floors = df.floors.map(lambda x: round(x+.01))"
   ]
  },
  {
   "cell_type": "code",
   "execution_count": 100,
   "metadata": {
    "ExecuteTime": {
     "end_time": "2021-01-12T05:09:31.528287Z",
     "start_time": "2021-01-12T05:09:31.516289Z"
    }
   },
   "outputs": [],
   "source": [
    "floors = pd.get_dummies(df['floors'], prefix = 'floor')\n",
    "dffloor = pd.concat([df, floors], axis = 1)"
   ]
  },
  {
   "cell_type": "code",
   "execution_count": 102,
   "metadata": {
    "ExecuteTime": {
     "end_time": "2021-01-12T05:09:40.655668Z",
     "start_time": "2021-01-12T05:09:40.648687Z"
    }
   },
   "outputs": [],
   "source": [
    "outcome = 'price'\n",
    "x_cols = dffloor.drop(['price', 'id', 'date','month','floors','yr_renovated'], axis = 1).columns\n",
    "\n",
    "predictors = '+'.join(x_cols)\n",
    "\n",
    "f = outcome + '~' + predictors"
   ]
  },
  {
   "cell_type": "code",
   "execution_count": 103,
   "metadata": {
    "ExecuteTime": {
     "end_time": "2021-01-12T05:09:41.743993Z",
     "start_time": "2021-01-12T05:09:41.664594Z"
    }
   },
   "outputs": [
    {
     "data": {
      "text/html": [
       "<table class=\"simpletable\">\n",
       "<caption>OLS Regression Results</caption>\n",
       "<tr>\n",
       "  <th>Dep. Variable:</th>          <td>price</td>      <th>  R-squared:         </th>  <td>   0.691</td>  \n",
       "</tr>\n",
       "<tr>\n",
       "  <th>Model:</th>                   <td>OLS</td>       <th>  Adj. R-squared:    </th>  <td>   0.691</td>  \n",
       "</tr>\n",
       "<tr>\n",
       "  <th>Method:</th>             <td>Least Squares</td>  <th>  F-statistic:       </th>  <td>   2531.</td>  \n",
       "</tr>\n",
       "<tr>\n",
       "  <th>Date:</th>             <td>Tue, 12 Jan 2021</td> <th>  Prob (F-statistic):</th>   <td>  0.00</td>   \n",
       "</tr>\n",
       "<tr>\n",
       "  <th>Time:</th>                 <td>00:09:41</td>     <th>  Log-Likelihood:    </th> <td>-2.9377e+05</td>\n",
       "</tr>\n",
       "<tr>\n",
       "  <th>No. Observations:</th>      <td> 21534</td>      <th>  AIC:               </th>  <td>5.876e+05</td> \n",
       "</tr>\n",
       "<tr>\n",
       "  <th>Df Residuals:</th>          <td> 21514</td>      <th>  BIC:               </th>  <td>5.877e+05</td> \n",
       "</tr>\n",
       "<tr>\n",
       "  <th>Df Model:</th>              <td>    19</td>      <th>                     </th>      <td> </td>     \n",
       "</tr>\n",
       "<tr>\n",
       "  <th>Covariance Type:</th>      <td>nonrobust</td>    <th>                     </th>      <td> </td>     \n",
       "</tr>\n",
       "</table>\n",
       "<table class=\"simpletable\">\n",
       "<tr>\n",
       "         <td></td>           <th>coef</th>     <th>std err</th>      <th>t</th>      <th>P>|t|</th>  <th>[0.025</th>    <th>0.975]</th>  \n",
       "</tr>\n",
       "<tr>\n",
       "  <th>Intercept</th>      <td> 7.723e+06</td> <td> 2.37e+06</td> <td>    3.255</td> <td> 0.001</td> <td> 3.07e+06</td> <td> 1.24e+07</td>\n",
       "</tr>\n",
       "<tr>\n",
       "  <th>bedrooms</th>       <td>-3.706e+04</td> <td> 1924.949</td> <td>  -19.254</td> <td> 0.000</td> <td>-4.08e+04</td> <td>-3.33e+04</td>\n",
       "</tr>\n",
       "<tr>\n",
       "  <th>bathrooms</th>      <td> 4.166e+04</td> <td> 3283.467</td> <td>   12.688</td> <td> 0.000</td> <td> 3.52e+04</td> <td> 4.81e+04</td>\n",
       "</tr>\n",
       "<tr>\n",
       "  <th>sqft_living</th>    <td>  186.0802</td> <td>    3.726</td> <td>   49.946</td> <td> 0.000</td> <td>  178.778</td> <td>  193.383</td>\n",
       "</tr>\n",
       "<tr>\n",
       "  <th>sqft_lot</th>       <td>    0.0983</td> <td>    0.049</td> <td>    2.027</td> <td> 0.043</td> <td>    0.003</td> <td>    0.193</td>\n",
       "</tr>\n",
       "<tr>\n",
       "  <th>waterfront</th>     <td> 2.002e+05</td> <td> 1.06e+04</td> <td>   18.959</td> <td> 0.000</td> <td>  1.8e+05</td> <td> 2.21e+05</td>\n",
       "</tr>\n",
       "<tr>\n",
       "  <th>view</th>           <td> 7.027e+04</td> <td> 2057.547</td> <td>   34.152</td> <td> 0.000</td> <td> 6.62e+04</td> <td> 7.43e+04</td>\n",
       "</tr>\n",
       "<tr>\n",
       "  <th>condition</th>      <td>  2.55e+04</td> <td> 2369.899</td> <td>   10.760</td> <td> 0.000</td> <td> 2.09e+04</td> <td> 3.01e+04</td>\n",
       "</tr>\n",
       "<tr>\n",
       "  <th>grade</th>          <td> 9.547e+04</td> <td> 2188.126</td> <td>   43.631</td> <td> 0.000</td> <td> 9.12e+04</td> <td> 9.98e+04</td>\n",
       "</tr>\n",
       "<tr>\n",
       "  <th>sqft_basement</th>  <td>  -37.4195</td> <td>    4.418</td> <td>   -8.470</td> <td> 0.000</td> <td>  -46.079</td> <td>  -28.760</td>\n",
       "</tr>\n",
       "<tr>\n",
       "  <th>yr_built</th>       <td>-2686.7918</td> <td>   71.512</td> <td>  -37.571</td> <td> 0.000</td> <td>-2826.960</td> <td>-2546.624</td>\n",
       "</tr>\n",
       "<tr>\n",
       "  <th>zipcode</th>        <td> -592.8359</td> <td>   33.424</td> <td>  -17.737</td> <td> 0.000</td> <td> -658.350</td> <td> -527.322</td>\n",
       "</tr>\n",
       "<tr>\n",
       "  <th>lat</th>            <td> 5.895e+05</td> <td> 1.09e+04</td> <td>   54.017</td> <td> 0.000</td> <td> 5.68e+05</td> <td> 6.11e+05</td>\n",
       "</tr>\n",
       "<tr>\n",
       "  <th>long</th>           <td>-2.056e+05</td> <td> 1.34e+04</td> <td>  -15.361</td> <td> 0.000</td> <td>-2.32e+05</td> <td>-1.79e+05</td>\n",
       "</tr>\n",
       "<tr>\n",
       "  <th>sqft_living15</th>  <td>   21.9158</td> <td>    3.502</td> <td>    6.259</td> <td> 0.000</td> <td>   15.052</td> <td>   28.779</td>\n",
       "</tr>\n",
       "<tr>\n",
       "  <th>sqft_lot15</th>     <td>   -0.3798</td> <td>    0.074</td> <td>   -5.117</td> <td> 0.000</td> <td>   -0.525</td> <td>   -0.234</td>\n",
       "</tr>\n",
       "<tr>\n",
       "  <th>been_renovated</th> <td> 4.269e+04</td> <td> 7205.475</td> <td>    5.925</td> <td> 0.000</td> <td> 2.86e+04</td> <td> 5.68e+04</td>\n",
       "</tr>\n",
       "<tr>\n",
       "  <th>floor_1</th>        <td>  1.87e+06</td> <td> 5.93e+05</td> <td>    3.155</td> <td> 0.002</td> <td> 7.08e+05</td> <td> 3.03e+06</td>\n",
       "</tr>\n",
       "<tr>\n",
       "  <th>floor_2</th>        <td> 1.862e+06</td> <td> 5.93e+05</td> <td>    3.139</td> <td> 0.002</td> <td> 6.99e+05</td> <td> 3.02e+06</td>\n",
       "</tr>\n",
       "<tr>\n",
       "  <th>floor_3</th>        <td> 1.935e+06</td> <td> 5.94e+05</td> <td>    3.258</td> <td> 0.001</td> <td> 7.71e+05</td> <td>  3.1e+06</td>\n",
       "</tr>\n",
       "<tr>\n",
       "  <th>floor_4</th>        <td> 2.057e+06</td> <td> 5.97e+05</td> <td>    3.445</td> <td> 0.001</td> <td> 8.87e+05</td> <td> 3.23e+06</td>\n",
       "</tr>\n",
       "</table>\n",
       "<table class=\"simpletable\">\n",
       "<tr>\n",
       "  <th>Omnibus:</th>       <td>18412.684</td> <th>  Durbin-Watson:     </th>  <td>   1.999</td>  \n",
       "</tr>\n",
       "<tr>\n",
       "  <th>Prob(Omnibus):</th>  <td> 0.000</td>   <th>  Jarque-Bera (JB):  </th> <td>1790289.872</td>\n",
       "</tr>\n",
       "<tr>\n",
       "  <th>Skew:</th>           <td> 3.614</td>   <th>  Prob(JB):          </th>  <td>    0.00</td>  \n",
       "</tr>\n",
       "<tr>\n",
       "  <th>Kurtosis:</th>       <td>47.080</td>   <th>  Cond. No.          </th>  <td>3.21e+20</td>  \n",
       "</tr>\n",
       "</table><br/><br/>Notes:<br/>[1] Standard Errors assume that the covariance matrix of the errors is correctly specified.<br/>[2] The smallest eigenvalue is 2.12e-27. This might indicate that there are<br/>strong multicollinearity problems or that the design matrix is singular."
      ],
      "text/plain": [
       "<class 'statsmodels.iolib.summary.Summary'>\n",
       "\"\"\"\n",
       "                            OLS Regression Results                            \n",
       "==============================================================================\n",
       "Dep. Variable:                  price   R-squared:                       0.691\n",
       "Model:                            OLS   Adj. R-squared:                  0.691\n",
       "Method:                 Least Squares   F-statistic:                     2531.\n",
       "Date:                Tue, 12 Jan 2021   Prob (F-statistic):               0.00\n",
       "Time:                        00:09:41   Log-Likelihood:            -2.9377e+05\n",
       "No. Observations:               21534   AIC:                         5.876e+05\n",
       "Df Residuals:                   21514   BIC:                         5.877e+05\n",
       "Df Model:                          19                                         \n",
       "Covariance Type:            nonrobust                                         \n",
       "==================================================================================\n",
       "                     coef    std err          t      P>|t|      [0.025      0.975]\n",
       "----------------------------------------------------------------------------------\n",
       "Intercept       7.723e+06   2.37e+06      3.255      0.001    3.07e+06    1.24e+07\n",
       "bedrooms       -3.706e+04   1924.949    -19.254      0.000   -4.08e+04   -3.33e+04\n",
       "bathrooms       4.166e+04   3283.467     12.688      0.000    3.52e+04    4.81e+04\n",
       "sqft_living      186.0802      3.726     49.946      0.000     178.778     193.383\n",
       "sqft_lot           0.0983      0.049      2.027      0.043       0.003       0.193\n",
       "waterfront      2.002e+05   1.06e+04     18.959      0.000     1.8e+05    2.21e+05\n",
       "view            7.027e+04   2057.547     34.152      0.000    6.62e+04    7.43e+04\n",
       "condition        2.55e+04   2369.899     10.760      0.000    2.09e+04    3.01e+04\n",
       "grade           9.547e+04   2188.126     43.631      0.000    9.12e+04    9.98e+04\n",
       "sqft_basement    -37.4195      4.418     -8.470      0.000     -46.079     -28.760\n",
       "yr_built       -2686.7918     71.512    -37.571      0.000   -2826.960   -2546.624\n",
       "zipcode         -592.8359     33.424    -17.737      0.000    -658.350    -527.322\n",
       "lat             5.895e+05   1.09e+04     54.017      0.000    5.68e+05    6.11e+05\n",
       "long           -2.056e+05   1.34e+04    -15.361      0.000   -2.32e+05   -1.79e+05\n",
       "sqft_living15     21.9158      3.502      6.259      0.000      15.052      28.779\n",
       "sqft_lot15        -0.3798      0.074     -5.117      0.000      -0.525      -0.234\n",
       "been_renovated  4.269e+04   7205.475      5.925      0.000    2.86e+04    5.68e+04\n",
       "floor_1          1.87e+06   5.93e+05      3.155      0.002    7.08e+05    3.03e+06\n",
       "floor_2         1.862e+06   5.93e+05      3.139      0.002    6.99e+05    3.02e+06\n",
       "floor_3         1.935e+06   5.94e+05      3.258      0.001    7.71e+05     3.1e+06\n",
       "floor_4         2.057e+06   5.97e+05      3.445      0.001    8.87e+05    3.23e+06\n",
       "==============================================================================\n",
       "Omnibus:                    18412.684   Durbin-Watson:                   1.999\n",
       "Prob(Omnibus):                  0.000   Jarque-Bera (JB):          1790289.872\n",
       "Skew:                           3.614   Prob(JB):                         0.00\n",
       "Kurtosis:                      47.080   Cond. No.                     3.21e+20\n",
       "==============================================================================\n",
       "\n",
       "Notes:\n",
       "[1] Standard Errors assume that the covariance matrix of the errors is correctly specified.\n",
       "[2] The smallest eigenvalue is 2.12e-27. This might indicate that there are\n",
       "strong multicollinearity problems or that the design matrix is singular.\n",
       "\"\"\""
      ]
     },
     "execution_count": 103,
     "metadata": {},
     "output_type": "execute_result"
    }
   ],
   "source": [
    "modelfloor = ols(formula=f,data = dffloor).fit()\n",
    "modelfloor.summary()"
   ]
  },
  {
   "cell_type": "markdown",
   "metadata": {},
   "source": [
    "No material change with floor as categorical or with dummy variables so will leave as original"
   ]
  },
  {
   "cell_type": "code",
   "execution_count": null,
   "metadata": {},
   "outputs": [],
   "source": []
  },
  {
   "cell_type": "markdown",
   "metadata": {},
   "source": [
    "## Model with outliers past 3std dropped"
   ]
  },
  {
   "cell_type": "code",
   "execution_count": 128,
   "metadata": {
    "ExecuteTime": {
     "end_time": "2021-01-12T05:21:45.687818Z",
     "start_time": "2021-01-12T05:21:45.682829Z"
    }
   },
   "outputs": [
    {
     "data": {
      "text/plain": [
       "0.0    20621\n",
       "1.0      913\n",
       "Name: been_renovated, dtype: int64"
      ]
     },
     "execution_count": 128,
     "metadata": {},
     "output_type": "execute_result"
    }
   ],
   "source": [
    "df.been_renovated.value_counts()"
   ]
  },
  {
   "cell_type": "code",
   "execution_count": 130,
   "metadata": {
    "ExecuteTime": {
     "end_time": "2021-01-12T05:28:13.571346Z",
     "start_time": "2021-01-12T05:28:13.566360Z"
    }
   },
   "outputs": [],
   "source": [
    "q,p = df.been_renovated.value_counts(normalize=True)"
   ]
  },
  {
   "cell_type": "code",
   "execution_count": 129,
   "metadata": {
    "ExecuteTime": {
     "end_time": "2021-01-12T05:27:47.373919Z",
     "start_time": "2021-01-12T05:27:47.367963Z"
    }
   },
   "outputs": [],
   "source": [
    "n = sum(df.been_renovated.value_counts())\n"
   ]
  },
  {
   "cell_type": "code",
   "execution_count": 133,
   "metadata": {
    "ExecuteTime": {
     "end_time": "2021-01-12T05:29:43.227307Z",
     "start_time": "2021-01-12T05:29:43.224320Z"
    }
   },
   "outputs": [
    {
     "data": {
      "text/plain": [
       "874.2905637596359"
      ]
     },
     "execution_count": 133,
     "metadata": {},
     "output_type": "execute_result"
    }
   ],
   "source": [
    "n*p*q"
   ]
  },
  {
   "cell_type": "code",
   "execution_count": 108,
   "metadata": {
    "ExecuteTime": {
     "end_time": "2021-01-12T05:10:52.331730Z",
     "start_time": "2021-01-12T05:10:52.304802Z"
    }
   },
   "outputs": [
    {
     "name": "stderr",
     "output_type": "stream",
     "text": [
      "<ipython-input-108-28965e779bd6>:3: RuntimeWarning: invalid value encountered in less\n",
      "  df_zscore = df[(np.abs(stats.zscore(df_zscore)) < 3).all(axis=1)]\n"
     ]
    }
   ],
   "source": [
    "from scipy import stats\n",
    "df_zscore = df.drop('date', axis=1)\n",
    "df_zscore = df[(np.abs(stats.zscore(df_zscore)) < 3).all(axis=1)]"
   ]
  },
  {
   "cell_type": "code",
   "execution_count": 121,
   "metadata": {
    "ExecuteTime": {
     "end_time": "2021-01-12T05:14:08.623064Z",
     "start_time": "2021-01-12T05:14:08.617050Z"
    }
   },
   "outputs": [],
   "source": [
    "df_zscore = df.drop(['date','yr_renovated'], axis=1)"
   ]
  },
  {
   "cell_type": "code",
   "execution_count": 124,
   "metadata": {
    "ExecuteTime": {
     "end_time": "2021-01-12T05:14:28.209109Z",
     "start_time": "2021-01-12T05:14:28.203095Z"
    }
   },
   "outputs": [
    {
     "data": {
      "text/plain": [
       "0.20150026671603066"
      ]
     },
     "execution_count": 124,
     "metadata": {},
     "output_type": "execute_result"
    }
   ],
   "source": [
    "df_zscore.been_renovated.std()"
   ]
  },
  {
   "cell_type": "code",
   "execution_count": 117,
   "metadata": {
    "ExecuteTime": {
     "end_time": "2021-01-12T05:12:51.040515Z",
     "start_time": "2021-01-12T05:12:51.010559Z"
    }
   },
   "outputs": [],
   "source": [
    "df_zscore = df_zscore[(np.abs(stats.zscore(df_zscore)) < 3).all(axis=1)]"
   ]
  },
  {
   "cell_type": "code",
   "execution_count": 105,
   "metadata": {
    "ExecuteTime": {
     "end_time": "2021-01-12T05:10:31.467425Z",
     "start_time": "2021-01-12T05:10:29.256665Z"
    }
   },
   "outputs": [
    {
     "data": {
      "text/plain": [
       "array([[<AxesSubplot:title={'center':'id'}>,\n",
       "        <AxesSubplot:title={'center':'price'}>,\n",
       "        <AxesSubplot:title={'center':'bedrooms'}>,\n",
       "        <AxesSubplot:title={'center':'bathrooms'}>,\n",
       "        <AxesSubplot:title={'center':'sqft_living'}>],\n",
       "       [<AxesSubplot:title={'center':'sqft_lot'}>,\n",
       "        <AxesSubplot:title={'center':'floors'}>,\n",
       "        <AxesSubplot:title={'center':'waterfront'}>,\n",
       "        <AxesSubplot:title={'center':'view'}>,\n",
       "        <AxesSubplot:title={'center':'condition'}>],\n",
       "       [<AxesSubplot:title={'center':'grade'}>,\n",
       "        <AxesSubplot:title={'center':'sqft_basement'}>,\n",
       "        <AxesSubplot:title={'center':'yr_built'}>,\n",
       "        <AxesSubplot:title={'center':'yr_renovated'}>,\n",
       "        <AxesSubplot:title={'center':'zipcode'}>],\n",
       "       [<AxesSubplot:title={'center':'lat'}>,\n",
       "        <AxesSubplot:title={'center':'long'}>,\n",
       "        <AxesSubplot:title={'center':'sqft_living15'}>,\n",
       "        <AxesSubplot:title={'center':'sqft_lot15'}>,\n",
       "        <AxesSubplot:title={'center':'month'}>],\n",
       "       [<AxesSubplot:title={'center':'been_renovated'}>, <AxesSubplot:>,\n",
       "        <AxesSubplot:>, <AxesSubplot:>, <AxesSubplot:>]], dtype=object)"
      ]
     },
     "execution_count": 105,
     "metadata": {},
     "output_type": "execute_result"
    },
    {
     "data": {
      "image/png": "[encoded data removed]",
      "text/plain": [
       "<Figure size 1080x864 with 25 Axes>"
      ]
     },
     "metadata": {
      "needs_background": "light"
     },
     "output_type": "display_data"
    }
   ],
   "source": [
    "df.hist(figsize=(15,12))"
   ]
  },
  {
   "cell_type": "code",
   "execution_count": 118,
   "metadata": {
    "ExecuteTime": {
     "end_time": "2021-01-12T05:12:58.086053Z",
     "start_time": "2021-01-12T05:12:58.079076Z"
    }
   },
   "outputs": [
    {
     "data": {
      "text/plain": [
       "3097"
      ]
     },
     "execution_count": 118,
     "metadata": {},
     "output_type": "execute_result"
    }
   ],
   "source": [
    "len(df) -  len(df_zscore)"
   ]
  },
  {
   "cell_type": "code",
   "execution_count": 86,
   "metadata": {
    "ExecuteTime": {
     "end_time": "2021-01-11T19:27:45.041390Z",
     "start_time": "2021-01-11T19:27:45.038398Z"
    }
   },
   "outputs": [],
   "source": [
    "#dropping outliers via zscore removes some 3k rows of data"
   ]
  },
  {
   "cell_type": "code",
   "execution_count": 87,
   "metadata": {
    "ExecuteTime": {
     "end_time": "2021-01-11T19:27:46.691974Z",
     "start_time": "2021-01-11T19:27:46.687984Z"
    }
   },
   "outputs": [
    {
     "data": {
      "text/plain": [
       "Index(['id', 'date', 'price', 'bedrooms', 'bathrooms', 'sqft_living',\n",
       "       'sqft_lot', 'floors', 'waterfront', 'view', 'condition', 'grade',\n",
       "       'sqft_basement', 'yr_built', 'been_renovated', 'zipcode', 'lat', 'long',\n",
       "       'sqft_living15', 'sqft_lot15', 'month'],\n",
       "      dtype='object')"
      ]
     },
     "execution_count": 87,
     "metadata": {},
     "output_type": "execute_result"
    }
   ],
   "source": [
    "df_zscore.columns"
   ]
  },
  {
   "cell_type": "code",
   "execution_count": 138,
   "metadata": {
    "ExecuteTime": {
     "end_time": "2021-01-12T07:41:09.828964Z",
     "start_time": "2021-01-12T07:41:09.823019Z"
    }
   },
   "outputs": [],
   "source": [
    "outcome = 'price'\n",
    "x_cols = df_zscore.drop(['price', 'id','month','sqft_living15','sqft_lot15'], axis = 1).columns\n",
    "\n",
    "predictors = '+'.join(x_cols)\n",
    "\n",
    "f = outcome + '~' + predictors"
   ]
  },
  {
   "cell_type": "code",
   "execution_count": 139,
   "metadata": {
    "ExecuteTime": {
     "end_time": "2021-01-12T07:41:11.625296Z",
     "start_time": "2021-01-12T07:41:11.564447Z"
    }
   },
   "outputs": [
    {
     "data": {
      "text/html": [
       "<table class=\"simpletable\">\n",
       "<caption>OLS Regression Results</caption>\n",
       "<tr>\n",
       "  <th>Dep. Variable:</th>          <td>price</td>      <th>  R-squared:         </th>  <td>   0.689</td>  \n",
       "</tr>\n",
       "<tr>\n",
       "  <th>Model:</th>                   <td>OLS</td>       <th>  Adj. R-squared:    </th>  <td>   0.689</td>  \n",
       "</tr>\n",
       "<tr>\n",
       "  <th>Method:</th>             <td>Least Squares</td>  <th>  F-statistic:       </th>  <td>   3178.</td>  \n",
       "</tr>\n",
       "<tr>\n",
       "  <th>Date:</th>             <td>Tue, 12 Jan 2021</td> <th>  Prob (F-statistic):</th>   <td>  0.00</td>   \n",
       "</tr>\n",
       "<tr>\n",
       "  <th>Time:</th>                 <td>02:41:11</td>     <th>  Log-Likelihood:    </th> <td>-2.9384e+05</td>\n",
       "</tr>\n",
       "<tr>\n",
       "  <th>No. Observations:</th>      <td> 21534</td>      <th>  AIC:               </th>  <td>5.877e+05</td> \n",
       "</tr>\n",
       "<tr>\n",
       "  <th>Df Residuals:</th>          <td> 21518</td>      <th>  BIC:               </th>  <td>5.878e+05</td> \n",
       "</tr>\n",
       "<tr>\n",
       "  <th>Df Model:</th>              <td>    15</td>      <th>                     </th>      <td> </td>     \n",
       "</tr>\n",
       "<tr>\n",
       "  <th>Covariance Type:</th>      <td>nonrobust</td>    <th>                     </th>      <td> </td>     \n",
       "</tr>\n",
       "</table>\n",
       "<table class=\"simpletable\">\n",
       "<tr>\n",
       "         <td></td>           <th>coef</th>     <th>std err</th>      <th>t</th>      <th>P>|t|</th>  <th>[0.025</th>    <th>0.975]</th>  \n",
       "</tr>\n",
       "<tr>\n",
       "  <th>Intercept</th>      <td> 1.019e+07</td> <td> 2.91e+06</td> <td>    3.497</td> <td> 0.000</td> <td> 4.48e+06</td> <td> 1.59e+07</td>\n",
       "</tr>\n",
       "<tr>\n",
       "  <th>bedrooms</th>       <td>-3.746e+04</td> <td> 1927.067</td> <td>  -19.438</td> <td> 0.000</td> <td>-4.12e+04</td> <td>-3.37e+04</td>\n",
       "</tr>\n",
       "<tr>\n",
       "  <th>bathrooms</th>      <td> 4.006e+04</td> <td> 3286.251</td> <td>   12.191</td> <td> 0.000</td> <td> 3.36e+04</td> <td> 4.65e+04</td>\n",
       "</tr>\n",
       "<tr>\n",
       "  <th>sqft_living</th>    <td>  189.4562</td> <td>    3.399</td> <td>   55.747</td> <td> 0.000</td> <td>  182.795</td> <td>  196.118</td>\n",
       "</tr>\n",
       "<tr>\n",
       "  <th>sqft_lot</th>       <td>   -0.0670</td> <td>    0.035</td> <td>   -1.898</td> <td> 0.058</td> <td>   -0.136</td> <td>    0.002</td>\n",
       "</tr>\n",
       "<tr>\n",
       "  <th>floors</th>         <td> 7144.5380</td> <td> 3175.290</td> <td>    2.250</td> <td> 0.024</td> <td>  920.733</td> <td> 1.34e+04</td>\n",
       "</tr>\n",
       "<tr>\n",
       "  <th>waterfront</th>     <td> 1.985e+05</td> <td> 1.06e+04</td> <td>   18.737</td> <td> 0.000</td> <td> 1.78e+05</td> <td> 2.19e+05</td>\n",
       "</tr>\n",
       "<tr>\n",
       "  <th>view</th>           <td> 7.272e+04</td> <td> 2036.241</td> <td>   35.715</td> <td> 0.000</td> <td> 6.87e+04</td> <td> 7.67e+04</td>\n",
       "</tr>\n",
       "<tr>\n",
       "  <th>condition</th>      <td> 2.578e+04</td> <td> 2373.337</td> <td>   10.863</td> <td> 0.000</td> <td> 2.11e+04</td> <td> 3.04e+04</td>\n",
       "</tr>\n",
       "<tr>\n",
       "  <th>grade</th>          <td> 9.992e+04</td> <td> 2099.448</td> <td>   47.594</td> <td> 0.000</td> <td> 9.58e+04</td> <td> 1.04e+05</td>\n",
       "</tr>\n",
       "<tr>\n",
       "  <th>sqft_basement</th>  <td>  -33.7739</td> <td>    4.329</td> <td>   -7.802</td> <td> 0.000</td> <td>  -42.259</td> <td>  -25.288</td>\n",
       "</tr>\n",
       "<tr>\n",
       "  <th>yr_built</th>       <td>-2624.2975</td> <td>   71.149</td> <td>  -36.885</td> <td> 0.000</td> <td>-2763.755</td> <td>-2484.840</td>\n",
       "</tr>\n",
       "<tr>\n",
       "  <th>zipcode</th>        <td> -616.6049</td> <td>   33.376</td> <td>  -18.475</td> <td> 0.000</td> <td> -682.023</td> <td> -551.186</td>\n",
       "</tr>\n",
       "<tr>\n",
       "  <th>lat</th>            <td> 6.026e+05</td> <td> 1.09e+04</td> <td>   55.356</td> <td> 0.000</td> <td> 5.81e+05</td> <td> 6.24e+05</td>\n",
       "</tr>\n",
       "<tr>\n",
       "  <th>long</th>           <td>-2.136e+05</td> <td> 1.31e+04</td> <td>  -16.280</td> <td> 0.000</td> <td>-2.39e+05</td> <td>-1.88e+05</td>\n",
       "</tr>\n",
       "<tr>\n",
       "  <th>been_renovated</th> <td> 4.106e+04</td> <td> 7222.815</td> <td>    5.685</td> <td> 0.000</td> <td> 2.69e+04</td> <td> 5.52e+04</td>\n",
       "</tr>\n",
       "</table>\n",
       "<table class=\"simpletable\">\n",
       "<tr>\n",
       "  <th>Omnibus:</th>       <td>18314.720</td> <th>  Durbin-Watson:     </th>  <td>   1.996</td>  \n",
       "</tr>\n",
       "<tr>\n",
       "  <th>Prob(Omnibus):</th>  <td> 0.000</td>   <th>  Jarque-Bera (JB):  </th> <td>1743969.918</td>\n",
       "</tr>\n",
       "<tr>\n",
       "  <th>Skew:</th>           <td> 3.589</td>   <th>  Prob(JB):          </th>  <td>    0.00</td>  \n",
       "</tr>\n",
       "<tr>\n",
       "  <th>Kurtosis:</th>       <td>46.499</td>   <th>  Cond. No.          </th>  <td>2.08e+08</td>  \n",
       "</tr>\n",
       "</table><br/><br/>Notes:<br/>[1] Standard Errors assume that the covariance matrix of the errors is correctly specified.<br/>[2] The condition number is large, 2.08e+08. This might indicate that there are<br/>strong multicollinearity or other numerical problems."
      ],
      "text/plain": [
       "<class 'statsmodels.iolib.summary.Summary'>\n",
       "\"\"\"\n",
       "                            OLS Regression Results                            \n",
       "==============================================================================\n",
       "Dep. Variable:                  price   R-squared:                       0.689\n",
       "Model:                            OLS   Adj. R-squared:                  0.689\n",
       "Method:                 Least Squares   F-statistic:                     3178.\n",
       "Date:                Tue, 12 Jan 2021   Prob (F-statistic):               0.00\n",
       "Time:                        02:41:11   Log-Likelihood:            -2.9384e+05\n",
       "No. Observations:               21534   AIC:                         5.877e+05\n",
       "Df Residuals:                   21518   BIC:                         5.878e+05\n",
       "Df Model:                          15                                         \n",
       "Covariance Type:            nonrobust                                         \n",
       "==================================================================================\n",
       "                     coef    std err          t      P>|t|      [0.025      0.975]\n",
       "----------------------------------------------------------------------------------\n",
       "Intercept       1.019e+07   2.91e+06      3.497      0.000    4.48e+06    1.59e+07\n",
       "bedrooms       -3.746e+04   1927.067    -19.438      0.000   -4.12e+04   -3.37e+04\n",
       "bathrooms       4.006e+04   3286.251     12.191      0.000    3.36e+04    4.65e+04\n",
       "sqft_living      189.4562      3.399     55.747      0.000     182.795     196.118\n",
       "sqft_lot          -0.0670      0.035     -1.898      0.058      -0.136       0.002\n",
       "floors          7144.5380   3175.290      2.250      0.024     920.733    1.34e+04\n",
       "waterfront      1.985e+05   1.06e+04     18.737      0.000    1.78e+05    2.19e+05\n",
       "view            7.272e+04   2036.241     35.715      0.000    6.87e+04    7.67e+04\n",
       "condition       2.578e+04   2373.337     10.863      0.000    2.11e+04    3.04e+04\n",
       "grade           9.992e+04   2099.448     47.594      0.000    9.58e+04    1.04e+05\n",
       "sqft_basement    -33.7739      4.329     -7.802      0.000     -42.259     -25.288\n",
       "yr_built       -2624.2975     71.149    -36.885      0.000   -2763.755   -2484.840\n",
       "zipcode         -616.6049     33.376    -18.475      0.000    -682.023    -551.186\n",
       "lat             6.026e+05   1.09e+04     55.356      0.000    5.81e+05    6.24e+05\n",
       "long           -2.136e+05   1.31e+04    -16.280      0.000   -2.39e+05   -1.88e+05\n",
       "been_renovated  4.106e+04   7222.815      5.685      0.000    2.69e+04    5.52e+04\n",
       "==============================================================================\n",
       "Omnibus:                    18314.720   Durbin-Watson:                   1.996\n",
       "Prob(Omnibus):                  0.000   Jarque-Bera (JB):          1743969.918\n",
       "Skew:                           3.589   Prob(JB):                         0.00\n",
       "Kurtosis:                      46.499   Cond. No.                     2.08e+08\n",
       "==============================================================================\n",
       "\n",
       "Notes:\n",
       "[1] Standard Errors assume that the covariance matrix of the errors is correctly specified.\n",
       "[2] The condition number is large, 2.08e+08. This might indicate that there are\n",
       "strong multicollinearity or other numerical problems.\n",
       "\"\"\""
      ]
     },
     "execution_count": 139,
     "metadata": {},
     "output_type": "execute_result"
    }
   ],
   "source": [
    "modelz = ols(formula=f,data = df_zscore).fit()\n",
    "modelz.summary()"
   ]
  },
  {
   "cell_type": "code",
   "execution_count": 90,
   "metadata": {
    "ExecuteTime": {
     "end_time": "2021-01-11T20:11:53.811754Z",
     "start_time": "2021-01-11T20:11:53.784826Z"
    }
   },
   "outputs": [],
   "source": [
    "dfzip2 = pd.concat([df_zscore, zipcode], axis = 1)"
   ]
  },
  {
   "cell_type": "code",
   "execution_count": 91,
   "metadata": {
    "ExecuteTime": {
     "end_time": "2021-01-11T20:11:55.612698Z",
     "start_time": "2021-01-11T20:11:55.601566Z"
    }
   },
   "outputs": [],
   "source": [
    "outcome = 'price'\n",
    "x_cols = dfzip2.drop(['price', 'id','date','month','sqft_living15','sqft_lot15','zipcode'], axis = 1).columns\n",
    "\n",
    "predictors = '+'.join(x_cols)\n",
    "\n",
    "f = outcome + '~' + predictors"
   ]
  },
  {
   "cell_type": "code",
   "execution_count": 92,
   "metadata": {
    "ExecuteTime": {
     "end_time": "2021-01-11T20:11:57.686825Z",
     "start_time": "2021-01-11T20:11:57.420319Z"
    }
   },
   "outputs": [
    {
     "data": {
      "text/html": [
       "<table class=\"simpletable\">\n",
       "<caption>OLS Regression Results</caption>\n",
       "<tr>\n",
       "  <th>Dep. Variable:</th>          <td>price</td>      <th>  R-squared:         </th>  <td>   0.831</td>  \n",
       "</tr>\n",
       "<tr>\n",
       "  <th>Model:</th>                   <td>OLS</td>       <th>  Adj. R-squared:    </th>  <td>   0.830</td>  \n",
       "</tr>\n",
       "<tr>\n",
       "  <th>Method:</th>             <td>Least Squares</td>  <th>  F-statistic:       </th>  <td>   1112.</td>  \n",
       "</tr>\n",
       "<tr>\n",
       "  <th>Date:</th>             <td>Mon, 11 Jan 2021</td> <th>  Prob (F-statistic):</th>   <td>  0.00</td>   \n",
       "</tr>\n",
       "<tr>\n",
       "  <th>Time:</th>                 <td>15:11:57</td>     <th>  Log-Likelihood:    </th> <td>-2.3724e+05</td>\n",
       "</tr>\n",
       "<tr>\n",
       "  <th>No. Observations:</th>      <td> 18407</td>      <th>  AIC:               </th>  <td>4.746e+05</td> \n",
       "</tr>\n",
       "<tr>\n",
       "  <th>Df Residuals:</th>          <td> 18325</td>      <th>  BIC:               </th>  <td>4.753e+05</td> \n",
       "</tr>\n",
       "<tr>\n",
       "  <th>Df Model:</th>              <td>    81</td>      <th>                     </th>      <td> </td>     \n",
       "</tr>\n",
       "<tr>\n",
       "  <th>Covariance Type:</th>      <td>nonrobust</td>    <th>                     </th>      <td> </td>     \n",
       "</tr>\n",
       "</table>\n",
       "<table class=\"simpletable\">\n",
       "<tr>\n",
       "         <td></td>           <th>coef</th>     <th>std err</th>      <th>t</th>      <th>P>|t|</th>  <th>[0.025</th>    <th>0.975]</th>  \n",
       "</tr>\n",
       "<tr>\n",
       "  <th>Intercept</th>      <td>-1.773e+07</td> <td> 5.05e+06</td> <td>   -3.515</td> <td> 0.000</td> <td>-2.76e+07</td> <td>-7.84e+06</td>\n",
       "</tr>\n",
       "<tr>\n",
       "  <th>bedrooms</th>       <td>-5782.3364</td> <td> 1110.688</td> <td>   -5.206</td> <td> 0.000</td> <td>-7959.389</td> <td>-3605.284</td>\n",
       "</tr>\n",
       "<tr>\n",
       "  <th>bathrooms</th>      <td> 1.662e+04</td> <td> 1813.442</td> <td>    9.167</td> <td> 0.000</td> <td> 1.31e+04</td> <td> 2.02e+04</td>\n",
       "</tr>\n",
       "<tr>\n",
       "  <th>sqft_living</th>    <td>  145.3012</td> <td>    2.052</td> <td>   70.809</td> <td> 0.000</td> <td>  141.279</td> <td>  149.323</td>\n",
       "</tr>\n",
       "<tr>\n",
       "  <th>sqft_lot</th>       <td>    0.7772</td> <td>    0.073</td> <td>   10.686</td> <td> 0.000</td> <td>    0.635</td> <td>    0.920</td>\n",
       "</tr>\n",
       "<tr>\n",
       "  <th>floors</th>         <td> -1.75e+04</td> <td> 1834.901</td> <td>   -9.536</td> <td> 0.000</td> <td>-2.11e+04</td> <td>-1.39e+04</td>\n",
       "</tr>\n",
       "<tr>\n",
       "  <th>waterfront</th>     <td> -3.23e-06</td> <td> 9.19e-07</td> <td>   -3.514</td> <td> 0.000</td> <td>-5.03e-06</td> <td>-1.43e-06</td>\n",
       "</tr>\n",
       "<tr>\n",
       "  <th>view</th>           <td>  3.81e+04</td> <td> 1842.903</td> <td>   20.672</td> <td> 0.000</td> <td> 3.45e+04</td> <td> 4.17e+04</td>\n",
       "</tr>\n",
       "<tr>\n",
       "  <th>condition</th>      <td> 2.321e+04</td> <td> 1258.704</td> <td>   18.438</td> <td> 0.000</td> <td> 2.07e+04</td> <td> 2.57e+04</td>\n",
       "</tr>\n",
       "<tr>\n",
       "  <th>grade</th>          <td>   5.2e+04</td> <td> 1213.127</td> <td>   42.863</td> <td> 0.000</td> <td> 4.96e+04</td> <td> 5.44e+04</td>\n",
       "</tr>\n",
       "<tr>\n",
       "  <th>sqft_basement</th>  <td>  -59.2228</td> <td>    2.552</td> <td>  -23.207</td> <td> 0.000</td> <td>  -64.225</td> <td>  -54.221</td>\n",
       "</tr>\n",
       "<tr>\n",
       "  <th>yr_built</th>       <td> -635.8370</td> <td>   41.330</td> <td>  -15.384</td> <td> 0.000</td> <td> -716.847</td> <td> -554.827</td>\n",
       "</tr>\n",
       "<tr>\n",
       "  <th>been_renovated</th> <td>-5.581e-07</td> <td> 1.59e-07</td> <td>   -3.513</td> <td> 0.000</td> <td>-8.69e-07</td> <td>-2.47e-07</td>\n",
       "</tr>\n",
       "<tr>\n",
       "  <th>lat</th>            <td> 1.437e+05</td> <td> 4.29e+04</td> <td>    3.352</td> <td> 0.001</td> <td> 5.97e+04</td> <td> 2.28e+05</td>\n",
       "</tr>\n",
       "<tr>\n",
       "  <th>long</th>           <td> -9.95e+04</td> <td> 4.07e+04</td> <td>   -2.446</td> <td> 0.014</td> <td>-1.79e+05</td> <td>-1.98e+04</td>\n",
       "</tr>\n",
       "<tr>\n",
       "  <th>zip_98001</th>      <td>-4.155e+05</td> <td> 7.26e+04</td> <td>   -5.727</td> <td> 0.000</td> <td>-5.58e+05</td> <td>-2.73e+05</td>\n",
       "</tr>\n",
       "<tr>\n",
       "  <th>zip_98002</th>      <td>-3.962e+05</td> <td> 7.04e+04</td> <td>   -5.628</td> <td> 0.000</td> <td>-5.34e+05</td> <td>-2.58e+05</td>\n",
       "</tr>\n",
       "<tr>\n",
       "  <th>zip_98003</th>      <td> -4.23e+05</td> <td> 7.41e+04</td> <td>   -5.710</td> <td> 0.000</td> <td>-5.68e+05</td> <td>-2.78e+05</td>\n",
       "</tr>\n",
       "<tr>\n",
       "  <th>zip_98004</th>      <td> 1.613e+05</td> <td> 7.28e+04</td> <td>    2.216</td> <td> 0.027</td> <td> 1.86e+04</td> <td> 3.04e+05</td>\n",
       "</tr>\n",
       "<tr>\n",
       "  <th>zip_98005</th>      <td>-1.157e+05</td> <td> 7.16e+04</td> <td>   -1.616</td> <td> 0.106</td> <td>-2.56e+05</td> <td> 2.47e+04</td>\n",
       "</tr>\n",
       "<tr>\n",
       "  <th>zip_98006</th>      <td>-1.672e+05</td> <td>    7e+04</td> <td>   -2.390</td> <td> 0.017</td> <td>-3.04e+05</td> <td>-3.01e+04</td>\n",
       "</tr>\n",
       "<tr>\n",
       "  <th>zip_98007</th>      <td>  -1.9e+05</td> <td> 7.07e+04</td> <td>   -2.688</td> <td> 0.007</td> <td>-3.28e+05</td> <td>-5.15e+04</td>\n",
       "</tr>\n",
       "<tr>\n",
       "  <th>zip_98008</th>      <td>-2.077e+05</td> <td> 6.96e+04</td> <td>   -2.986</td> <td> 0.003</td> <td>-3.44e+05</td> <td>-7.14e+04</td>\n",
       "</tr>\n",
       "<tr>\n",
       "  <th>zip_98010</th>      <td>-3.096e+05</td> <td> 6.34e+04</td> <td>   -4.885</td> <td> 0.000</td> <td>-4.34e+05</td> <td>-1.85e+05</td>\n",
       "</tr>\n",
       "<tr>\n",
       "  <th>zip_98011</th>      <td>-3.234e+05</td> <td> 7.48e+04</td> <td>   -4.324</td> <td> 0.000</td> <td> -4.7e+05</td> <td>-1.77e+05</td>\n",
       "</tr>\n",
       "<tr>\n",
       "  <th>zip_98014</th>      <td>-3.141e+05</td> <td> 6.42e+04</td> <td>   -4.895</td> <td> 0.000</td> <td> -4.4e+05</td> <td>-1.88e+05</td>\n",
       "</tr>\n",
       "<tr>\n",
       "  <th>zip_98019</th>      <td>-3.495e+05</td> <td> 6.65e+04</td> <td>   -5.260</td> <td> 0.000</td> <td> -4.8e+05</td> <td>-2.19e+05</td>\n",
       "</tr>\n",
       "<tr>\n",
       "  <th>zip_98022</th>      <td>-3.727e+05</td> <td> 6.16e+04</td> <td>   -6.053</td> <td> 0.000</td> <td>-4.93e+05</td> <td>-2.52e+05</td>\n",
       "</tr>\n",
       "<tr>\n",
       "  <th>zip_98023</th>      <td>-4.438e+05</td> <td> 7.61e+04</td> <td>   -5.831</td> <td> 0.000</td> <td>-5.93e+05</td> <td>-2.95e+05</td>\n",
       "</tr>\n",
       "<tr>\n",
       "  <th>zip_98024</th>      <td> -2.72e+05</td> <td> 6.26e+04</td> <td>   -4.347</td> <td> 0.000</td> <td>-3.95e+05</td> <td>-1.49e+05</td>\n",
       "</tr>\n",
       "<tr>\n",
       "  <th>zip_98027</th>      <td>-2.265e+05</td> <td> 6.59e+04</td> <td>   -3.438</td> <td> 0.001</td> <td>-3.56e+05</td> <td>-9.73e+04</td>\n",
       "</tr>\n",
       "<tr>\n",
       "  <th>zip_98028</th>      <td>-3.416e+05</td> <td> 7.63e+04</td> <td>   -4.478</td> <td> 0.000</td> <td>-4.91e+05</td> <td>-1.92e+05</td>\n",
       "</tr>\n",
       "<tr>\n",
       "  <th>zip_98029</th>      <td>-1.999e+05</td> <td> 6.47e+04</td> <td>   -3.087</td> <td> 0.002</td> <td>-3.27e+05</td> <td> -7.3e+04</td>\n",
       "</tr>\n",
       "<tr>\n",
       "  <th>zip_98030</th>      <td>-4.095e+05</td> <td> 6.98e+04</td> <td>   -5.866</td> <td> 0.000</td> <td>-5.46e+05</td> <td>-2.73e+05</td>\n",
       "</tr>\n",
       "<tr>\n",
       "  <th>zip_98031</th>      <td>-4.072e+05</td> <td>    7e+04</td> <td>   -5.815</td> <td> 0.000</td> <td>-5.44e+05</td> <td> -2.7e+05</td>\n",
       "</tr>\n",
       "<tr>\n",
       "  <th>zip_98032</th>      <td>-4.254e+05</td> <td> 7.35e+04</td> <td>   -5.788</td> <td> 0.000</td> <td> -5.7e+05</td> <td>-2.81e+05</td>\n",
       "</tr>\n",
       "<tr>\n",
       "  <th>zip_98033</th>      <td>  -1.1e+05</td> <td>  7.3e+04</td> <td>   -1.507</td> <td> 0.132</td> <td>-2.53e+05</td> <td>  3.3e+04</td>\n",
       "</tr>\n",
       "<tr>\n",
       "  <th>zip_98034</th>      <td>-2.784e+05</td> <td> 7.42e+04</td> <td>   -3.750</td> <td> 0.000</td> <td>-4.24e+05</td> <td>-1.33e+05</td>\n",
       "</tr>\n",
       "<tr>\n",
       "  <th>zip_98038</th>      <td> -3.63e+05</td> <td> 6.36e+04</td> <td>   -5.704</td> <td> 0.000</td> <td>-4.88e+05</td> <td>-2.38e+05</td>\n",
       "</tr>\n",
       "<tr>\n",
       "  <th>zip_98039</th>      <td> 3.349e+05</td> <td>  7.8e+04</td> <td>    4.296</td> <td> 0.000</td> <td> 1.82e+05</td> <td> 4.88e+05</td>\n",
       "</tr>\n",
       "<tr>\n",
       "  <th>zip_98040</th>      <td> 3.964e+04</td> <td>  7.3e+04</td> <td>    0.543</td> <td> 0.587</td> <td>-1.03e+05</td> <td> 1.83e+05</td>\n",
       "</tr>\n",
       "<tr>\n",
       "  <th>zip_98042</th>      <td>-4.018e+05</td> <td> 6.68e+04</td> <td>   -6.012</td> <td> 0.000</td> <td>-5.33e+05</td> <td>-2.71e+05</td>\n",
       "</tr>\n",
       "<tr>\n",
       "  <th>zip_98045</th>      <td> -3.03e+05</td> <td> 6.36e+04</td> <td>   -4.767</td> <td> 0.000</td> <td>-4.28e+05</td> <td>-1.78e+05</td>\n",
       "</tr>\n",
       "<tr>\n",
       "  <th>zip_98052</th>      <td>-1.995e+05</td> <td> 7.05e+04</td> <td>   -2.828</td> <td> 0.005</td> <td>-3.38e+05</td> <td>-6.12e+04</td>\n",
       "</tr>\n",
       "<tr>\n",
       "  <th>zip_98053</th>      <td>-2.109e+05</td> <td> 6.74e+04</td> <td>   -3.128</td> <td> 0.002</td> <td>-3.43e+05</td> <td>-7.87e+04</td>\n",
       "</tr>\n",
       "<tr>\n",
       "  <th>zip_98055</th>      <td>-3.852e+05</td> <td>  7.1e+04</td> <td>   -5.428</td> <td> 0.000</td> <td>-5.24e+05</td> <td>-2.46e+05</td>\n",
       "</tr>\n",
       "<tr>\n",
       "  <th>zip_98056</th>      <td>-3.342e+05</td> <td> 7.07e+04</td> <td>   -4.731</td> <td> 0.000</td> <td>-4.73e+05</td> <td>-1.96e+05</td>\n",
       "</tr>\n",
       "<tr>\n",
       "  <th>zip_98058</th>      <td>-3.908e+05</td> <td> 6.88e+04</td> <td>   -5.683</td> <td> 0.000</td> <td>-5.26e+05</td> <td>-2.56e+05</td>\n",
       "</tr>\n",
       "<tr>\n",
       "  <th>zip_98059</th>      <td>-3.266e+05</td> <td> 6.89e+04</td> <td>   -4.738</td> <td> 0.000</td> <td>-4.62e+05</td> <td>-1.91e+05</td>\n",
       "</tr>\n",
       "<tr>\n",
       "  <th>zip_98065</th>      <td>-2.788e+05</td> <td> 5.95e+04</td> <td>   -4.686</td> <td> 0.000</td> <td>-3.95e+05</td> <td>-1.62e+05</td>\n",
       "</tr>\n",
       "<tr>\n",
       "  <th>zip_98070</th>      <td>-3.357e+05</td> <td> 8.18e+04</td> <td>   -4.105</td> <td> 0.000</td> <td>-4.96e+05</td> <td>-1.75e+05</td>\n",
       "</tr>\n",
       "<tr>\n",
       "  <th>zip_98072</th>      <td>-2.922e+05</td> <td> 7.24e+04</td> <td>   -4.034</td> <td> 0.000</td> <td>-4.34e+05</td> <td> -1.5e+05</td>\n",
       "</tr>\n",
       "<tr>\n",
       "  <th>zip_98074</th>      <td>-2.283e+05</td> <td> 6.71e+04</td> <td>   -3.405</td> <td> 0.001</td> <td> -3.6e+05</td> <td>-9.69e+04</td>\n",
       "</tr>\n",
       "<tr>\n",
       "  <th>zip_98075</th>      <td>-2.051e+05</td> <td> 6.58e+04</td> <td>   -3.116</td> <td> 0.002</td> <td>-3.34e+05</td> <td>-7.61e+04</td>\n",
       "</tr>\n",
       "<tr>\n",
       "  <th>zip_98077</th>      <td>-3.025e+05</td> <td> 7.02e+04</td> <td>   -4.308</td> <td> 0.000</td> <td> -4.4e+05</td> <td>-1.65e+05</td>\n",
       "</tr>\n",
       "<tr>\n",
       "  <th>zip_98092</th>      <td>-4.283e+05</td> <td> 6.88e+04</td> <td>   -6.221</td> <td> 0.000</td> <td>-5.63e+05</td> <td>-2.93e+05</td>\n",
       "</tr>\n",
       "<tr>\n",
       "  <th>zip_98102</th>      <td>-1.946e+04</td> <td> 7.76e+04</td> <td>   -0.251</td> <td> 0.802</td> <td>-1.72e+05</td> <td> 1.33e+05</td>\n",
       "</tr>\n",
       "<tr>\n",
       "  <th>zip_98103</th>      <td> -1.51e+05</td> <td> 7.84e+04</td> <td>   -1.924</td> <td> 0.054</td> <td>-3.05e+05</td> <td> 2802.980</td>\n",
       "</tr>\n",
       "<tr>\n",
       "  <th>zip_98105</th>      <td>-3.908e+04</td> <td> 7.68e+04</td> <td>   -0.509</td> <td> 0.611</td> <td> -1.9e+05</td> <td> 1.11e+05</td>\n",
       "</tr>\n",
       "<tr>\n",
       "  <th>zip_98106</th>      <td>-3.274e+05</td> <td> 7.75e+04</td> <td>   -4.226</td> <td> 0.000</td> <td>-4.79e+05</td> <td>-1.76e+05</td>\n",
       "</tr>\n",
       "<tr>\n",
       "  <th>zip_98107</th>      <td>-1.551e+05</td> <td> 7.97e+04</td> <td>   -1.948</td> <td> 0.051</td> <td>-3.11e+05</td> <td>  980.157</td>\n",
       "</tr>\n",
       "<tr>\n",
       "  <th>zip_98108</th>      <td>-3.304e+05</td> <td> 7.58e+04</td> <td>   -4.357</td> <td> 0.000</td> <td>-4.79e+05</td> <td>-1.82e+05</td>\n",
       "</tr>\n",
       "<tr>\n",
       "  <th>zip_98109</th>      <td>-6225.4009</td> <td> 7.86e+04</td> <td>   -0.079</td> <td> 0.937</td> <td> -1.6e+05</td> <td> 1.48e+05</td>\n",
       "</tr>\n",
       "<tr>\n",
       "  <th>zip_98112</th>      <td> 6.353e+04</td> <td> 7.64e+04</td> <td>    0.832</td> <td> 0.405</td> <td>-8.62e+04</td> <td> 2.13e+05</td>\n",
       "</tr>\n",
       "<tr>\n",
       "  <th>zip_98115</th>      <td>-1.414e+05</td> <td> 7.71e+04</td> <td>   -1.835</td> <td> 0.067</td> <td>-2.92e+05</td> <td> 9677.471</td>\n",
       "</tr>\n",
       "<tr>\n",
       "  <th>zip_98116</th>      <td>-1.735e+05</td> <td> 7.92e+04</td> <td>   -2.192</td> <td> 0.028</td> <td>-3.29e+05</td> <td>-1.83e+04</td>\n",
       "</tr>\n",
       "<tr>\n",
       "  <th>zip_98117</th>      <td>-1.668e+05</td> <td> 7.98e+04</td> <td>   -2.089</td> <td> 0.037</td> <td>-3.23e+05</td> <td>-1.03e+04</td>\n",
       "</tr>\n",
       "<tr>\n",
       "  <th>zip_98118</th>      <td>-2.807e+05</td> <td> 7.44e+04</td> <td>   -3.772</td> <td> 0.000</td> <td>-4.27e+05</td> <td>-1.35e+05</td>\n",
       "</tr>\n",
       "<tr>\n",
       "  <th>zip_98119</th>      <td>-4.159e+04</td> <td> 7.91e+04</td> <td>   -0.526</td> <td> 0.599</td> <td>-1.97e+05</td> <td> 1.13e+05</td>\n",
       "</tr>\n",
       "<tr>\n",
       "  <th>zip_98122</th>      <td>-1.406e+05</td> <td> 7.61e+04</td> <td>   -1.847</td> <td> 0.065</td> <td> -2.9e+05</td> <td> 8643.836</td>\n",
       "</tr>\n",
       "<tr>\n",
       "  <th>zip_98125</th>      <td>-2.762e+05</td> <td> 7.76e+04</td> <td>   -3.559</td> <td> 0.000</td> <td>-4.28e+05</td> <td>-1.24e+05</td>\n",
       "</tr>\n",
       "<tr>\n",
       "  <th>zip_98126</th>      <td>  -2.7e+05</td> <td> 7.82e+04</td> <td>   -3.454</td> <td> 0.001</td> <td>-4.23e+05</td> <td>-1.17e+05</td>\n",
       "</tr>\n",
       "<tr>\n",
       "  <th>zip_98133</th>      <td>-3.273e+05</td> <td> 7.93e+04</td> <td>   -4.125</td> <td> 0.000</td> <td>-4.83e+05</td> <td>-1.72e+05</td>\n",
       "</tr>\n",
       "<tr>\n",
       "  <th>zip_98136</th>      <td>-2.082e+05</td> <td> 7.87e+04</td> <td>   -2.646</td> <td> 0.008</td> <td>-3.62e+05</td> <td> -5.4e+04</td>\n",
       "</tr>\n",
       "<tr>\n",
       "  <th>zip_98144</th>      <td>-2.149e+05</td> <td> 7.58e+04</td> <td>   -2.835</td> <td> 0.005</td> <td>-3.63e+05</td> <td>-6.63e+04</td>\n",
       "</tr>\n",
       "<tr>\n",
       "  <th>zip_98146</th>      <td>-3.449e+05</td> <td> 7.72e+04</td> <td>   -4.467</td> <td> 0.000</td> <td>-4.96e+05</td> <td>-1.94e+05</td>\n",
       "</tr>\n",
       "<tr>\n",
       "  <th>zip_98148</th>      <td>-3.849e+05</td> <td> 7.65e+04</td> <td>   -5.029</td> <td> 0.000</td> <td>-5.35e+05</td> <td>-2.35e+05</td>\n",
       "</tr>\n",
       "<tr>\n",
       "  <th>zip_98155</th>      <td>-3.409e+05</td> <td> 7.83e+04</td> <td>   -4.356</td> <td> 0.000</td> <td>-4.94e+05</td> <td>-1.87e+05</td>\n",
       "</tr>\n",
       "<tr>\n",
       "  <th>zip_98166</th>      <td> -3.49e+05</td> <td> 7.66e+04</td> <td>   -4.556</td> <td> 0.000</td> <td>-4.99e+05</td> <td>-1.99e+05</td>\n",
       "</tr>\n",
       "<tr>\n",
       "  <th>zip_98168</th>      <td>-3.876e+05</td> <td> 7.53e+04</td> <td>   -5.150</td> <td> 0.000</td> <td>-5.35e+05</td> <td> -2.4e+05</td>\n",
       "</tr>\n",
       "<tr>\n",
       "  <th>zip_98177</th>      <td>-2.769e+05</td> <td> 8.05e+04</td> <td>   -3.442</td> <td> 0.001</td> <td>-4.35e+05</td> <td>-1.19e+05</td>\n",
       "</tr>\n",
       "<tr>\n",
       "  <th>zip_98178</th>      <td>-3.846e+05</td> <td>  7.3e+04</td> <td>   -5.266</td> <td> 0.000</td> <td>-5.28e+05</td> <td>-2.41e+05</td>\n",
       "</tr>\n",
       "<tr>\n",
       "  <th>zip_98188</th>      <td>-3.985e+05</td> <td> 7.41e+04</td> <td>   -5.377</td> <td> 0.000</td> <td>-5.44e+05</td> <td>-2.53e+05</td>\n",
       "</tr>\n",
       "<tr>\n",
       "  <th>zip_98198</th>      <td>-4.055e+05</td> <td> 7.48e+04</td> <td>   -5.424</td> <td> 0.000</td> <td>-5.52e+05</td> <td>-2.59e+05</td>\n",
       "</tr>\n",
       "<tr>\n",
       "  <th>zip_98199</th>      <td>-1.048e+05</td> <td> 8.02e+04</td> <td>   -1.307</td> <td> 0.191</td> <td>-2.62e+05</td> <td> 5.24e+04</td>\n",
       "</tr>\n",
       "</table>\n",
       "<table class=\"simpletable\">\n",
       "<tr>\n",
       "  <th>Omnibus:</th>       <td>4272.719</td> <th>  Durbin-Watson:     </th> <td>   1.981</td> \n",
       "</tr>\n",
       "<tr>\n",
       "  <th>Prob(Omnibus):</th>  <td> 0.000</td>  <th>  Jarque-Bera (JB):  </th> <td>26581.106</td>\n",
       "</tr>\n",
       "<tr>\n",
       "  <th>Skew:</th>           <td> 0.970</td>  <th>  Prob(JB):          </th> <td>    0.00</td> \n",
       "</tr>\n",
       "<tr>\n",
       "  <th>Kurtosis:</th>       <td> 8.558</td>  <th>  Cond. No.          </th> <td>1.23e+20</td> \n",
       "</tr>\n",
       "</table><br/><br/>Notes:<br/>[1] Standard Errors assume that the covariance matrix of the errors is correctly specified.<br/>[2] The smallest eigenvalue is 2.84e-28. This might indicate that there are<br/>strong multicollinearity problems or that the design matrix is singular."
      ],
      "text/plain": [
       "<class 'statsmodels.iolib.summary.Summary'>\n",
       "\"\"\"\n",
       "                            OLS Regression Results                            \n",
       "==============================================================================\n",
       "Dep. Variable:                  price   R-squared:                       0.831\n",
       "Model:                            OLS   Adj. R-squared:                  0.830\n",
       "Method:                 Least Squares   F-statistic:                     1112.\n",
       "Date:                Mon, 11 Jan 2021   Prob (F-statistic):               0.00\n",
       "Time:                        15:11:57   Log-Likelihood:            -2.3724e+05\n",
       "No. Observations:               18407   AIC:                         4.746e+05\n",
       "Df Residuals:                   18325   BIC:                         4.753e+05\n",
       "Df Model:                          81                                         \n",
       "Covariance Type:            nonrobust                                         \n",
       "==================================================================================\n",
       "                     coef    std err          t      P>|t|      [0.025      0.975]\n",
       "----------------------------------------------------------------------------------\n",
       "Intercept      -1.773e+07   5.05e+06     -3.515      0.000   -2.76e+07   -7.84e+06\n",
       "bedrooms       -5782.3364   1110.688     -5.206      0.000   -7959.389   -3605.284\n",
       "bathrooms       1.662e+04   1813.442      9.167      0.000    1.31e+04    2.02e+04\n",
       "sqft_living      145.3012      2.052     70.809      0.000     141.279     149.323\n",
       "sqft_lot           0.7772      0.073     10.686      0.000       0.635       0.920\n",
       "floors          -1.75e+04   1834.901     -9.536      0.000   -2.11e+04   -1.39e+04\n",
       "waterfront      -3.23e-06   9.19e-07     -3.514      0.000   -5.03e-06   -1.43e-06\n",
       "view             3.81e+04   1842.903     20.672      0.000    3.45e+04    4.17e+04\n",
       "condition       2.321e+04   1258.704     18.438      0.000    2.07e+04    2.57e+04\n",
       "grade             5.2e+04   1213.127     42.863      0.000    4.96e+04    5.44e+04\n",
       "sqft_basement    -59.2228      2.552    -23.207      0.000     -64.225     -54.221\n",
       "yr_built        -635.8370     41.330    -15.384      0.000    -716.847    -554.827\n",
       "been_renovated -5.581e-07   1.59e-07     -3.513      0.000   -8.69e-07   -2.47e-07\n",
       "lat             1.437e+05   4.29e+04      3.352      0.001    5.97e+04    2.28e+05\n",
       "long            -9.95e+04   4.07e+04     -2.446      0.014   -1.79e+05   -1.98e+04\n",
       "zip_98001      -4.155e+05   7.26e+04     -5.727      0.000   -5.58e+05   -2.73e+05\n",
       "zip_98002      -3.962e+05   7.04e+04     -5.628      0.000   -5.34e+05   -2.58e+05\n",
       "zip_98003       -4.23e+05   7.41e+04     -5.710      0.000   -5.68e+05   -2.78e+05\n",
       "zip_98004       1.613e+05   7.28e+04      2.216      0.027    1.86e+04    3.04e+05\n",
       "zip_98005      -1.157e+05   7.16e+04     -1.616      0.106   -2.56e+05    2.47e+04\n",
       "zip_98006      -1.672e+05      7e+04     -2.390      0.017   -3.04e+05   -3.01e+04\n",
       "zip_98007        -1.9e+05   7.07e+04     -2.688      0.007   -3.28e+05   -5.15e+04\n",
       "zip_98008      -2.077e+05   6.96e+04     -2.986      0.003   -3.44e+05   -7.14e+04\n",
       "zip_98010      -3.096e+05   6.34e+04     -4.885      0.000   -4.34e+05   -1.85e+05\n",
       "zip_98011      -3.234e+05   7.48e+04     -4.324      0.000    -4.7e+05   -1.77e+05\n",
       "zip_98014      -3.141e+05   6.42e+04     -4.895      0.000    -4.4e+05   -1.88e+05\n",
       "zip_98019      -3.495e+05   6.65e+04     -5.260      0.000    -4.8e+05   -2.19e+05\n",
       "zip_98022      -3.727e+05   6.16e+04     -6.053      0.000   -4.93e+05   -2.52e+05\n",
       "zip_98023      -4.438e+05   7.61e+04     -5.831      0.000   -5.93e+05   -2.95e+05\n",
       "zip_98024       -2.72e+05   6.26e+04     -4.347      0.000   -3.95e+05   -1.49e+05\n",
       "zip_98027      -2.265e+05   6.59e+04     -3.438      0.001   -3.56e+05   -9.73e+04\n",
       "zip_98028      -3.416e+05   7.63e+04     -4.478      0.000   -4.91e+05   -1.92e+05\n",
       "zip_98029      -1.999e+05   6.47e+04     -3.087      0.002   -3.27e+05    -7.3e+04\n",
       "zip_98030      -4.095e+05   6.98e+04     -5.866      0.000   -5.46e+05   -2.73e+05\n",
       "zip_98031      -4.072e+05      7e+04     -5.815      0.000   -5.44e+05    -2.7e+05\n",
       "zip_98032      -4.254e+05   7.35e+04     -5.788      0.000    -5.7e+05   -2.81e+05\n",
       "zip_98033        -1.1e+05    7.3e+04     -1.507      0.132   -2.53e+05     3.3e+04\n",
       "zip_98034      -2.784e+05   7.42e+04     -3.750      0.000   -4.24e+05   -1.33e+05\n",
       "zip_98038       -3.63e+05   6.36e+04     -5.704      0.000   -4.88e+05   -2.38e+05\n",
       "zip_98039       3.349e+05    7.8e+04      4.296      0.000    1.82e+05    4.88e+05\n",
       "zip_98040       3.964e+04    7.3e+04      0.543      0.587   -1.03e+05    1.83e+05\n",
       "zip_98042      -4.018e+05   6.68e+04     -6.012      0.000   -5.33e+05   -2.71e+05\n",
       "zip_98045       -3.03e+05   6.36e+04     -4.767      0.000   -4.28e+05   -1.78e+05\n",
       "zip_98052      -1.995e+05   7.05e+04     -2.828      0.005   -3.38e+05   -6.12e+04\n",
       "zip_98053      -2.109e+05   6.74e+04     -3.128      0.002   -3.43e+05   -7.87e+04\n",
       "zip_98055      -3.852e+05    7.1e+04     -5.428      0.000   -5.24e+05   -2.46e+05\n",
       "zip_98056      -3.342e+05   7.07e+04     -4.731      0.000   -4.73e+05   -1.96e+05\n",
       "zip_98058      -3.908e+05   6.88e+04     -5.683      0.000   -5.26e+05   -2.56e+05\n",
       "zip_98059      -3.266e+05   6.89e+04     -4.738      0.000   -4.62e+05   -1.91e+05\n",
       "zip_98065      -2.788e+05   5.95e+04     -4.686      0.000   -3.95e+05   -1.62e+05\n",
       "zip_98070      -3.357e+05   8.18e+04     -4.105      0.000   -4.96e+05   -1.75e+05\n",
       "zip_98072      -2.922e+05   7.24e+04     -4.034      0.000   -4.34e+05    -1.5e+05\n",
       "zip_98074      -2.283e+05   6.71e+04     -3.405      0.001    -3.6e+05   -9.69e+04\n",
       "zip_98075      -2.051e+05   6.58e+04     -3.116      0.002   -3.34e+05   -7.61e+04\n",
       "zip_98077      -3.025e+05   7.02e+04     -4.308      0.000    -4.4e+05   -1.65e+05\n",
       "zip_98092      -4.283e+05   6.88e+04     -6.221      0.000   -5.63e+05   -2.93e+05\n",
       "zip_98102      -1.946e+04   7.76e+04     -0.251      0.802   -1.72e+05    1.33e+05\n",
       "zip_98103       -1.51e+05   7.84e+04     -1.924      0.054   -3.05e+05    2802.980\n",
       "zip_98105      -3.908e+04   7.68e+04     -0.509      0.611    -1.9e+05    1.11e+05\n",
       "zip_98106      -3.274e+05   7.75e+04     -4.226      0.000   -4.79e+05   -1.76e+05\n",
       "zip_98107      -1.551e+05   7.97e+04     -1.948      0.051   -3.11e+05     980.157\n",
       "zip_98108      -3.304e+05   7.58e+04     -4.357      0.000   -4.79e+05   -1.82e+05\n",
       "zip_98109      -6225.4009   7.86e+04     -0.079      0.937    -1.6e+05    1.48e+05\n",
       "zip_98112       6.353e+04   7.64e+04      0.832      0.405   -8.62e+04    2.13e+05\n",
       "zip_98115      -1.414e+05   7.71e+04     -1.835      0.067   -2.92e+05    9677.471\n",
       "zip_98116      -1.735e+05   7.92e+04     -2.192      0.028   -3.29e+05   -1.83e+04\n",
       "zip_98117      -1.668e+05   7.98e+04     -2.089      0.037   -3.23e+05   -1.03e+04\n",
       "zip_98118      -2.807e+05   7.44e+04     -3.772      0.000   -4.27e+05   -1.35e+05\n",
       "zip_98119      -4.159e+04   7.91e+04     -0.526      0.599   -1.97e+05    1.13e+05\n",
       "zip_98122      -1.406e+05   7.61e+04     -1.847      0.065    -2.9e+05    8643.836\n",
       "zip_98125      -2.762e+05   7.76e+04     -3.559      0.000   -4.28e+05   -1.24e+05\n",
       "zip_98126        -2.7e+05   7.82e+04     -3.454      0.001   -4.23e+05   -1.17e+05\n",
       "zip_98133      -3.273e+05   7.93e+04     -4.125      0.000   -4.83e+05   -1.72e+05\n",
       "zip_98136      -2.082e+05   7.87e+04     -2.646      0.008   -3.62e+05    -5.4e+04\n",
       "zip_98144      -2.149e+05   7.58e+04     -2.835      0.005   -3.63e+05   -6.63e+04\n",
       "zip_98146      -3.449e+05   7.72e+04     -4.467      0.000   -4.96e+05   -1.94e+05\n",
       "zip_98148      -3.849e+05   7.65e+04     -5.029      0.000   -5.35e+05   -2.35e+05\n",
       "zip_98155      -3.409e+05   7.83e+04     -4.356      0.000   -4.94e+05   -1.87e+05\n",
       "zip_98166       -3.49e+05   7.66e+04     -4.556      0.000   -4.99e+05   -1.99e+05\n",
       "zip_98168      -3.876e+05   7.53e+04     -5.150      0.000   -5.35e+05    -2.4e+05\n",
       "zip_98177      -2.769e+05   8.05e+04     -3.442      0.001   -4.35e+05   -1.19e+05\n",
       "zip_98178      -3.846e+05    7.3e+04     -5.266      0.000   -5.28e+05   -2.41e+05\n",
       "zip_98188      -3.985e+05   7.41e+04     -5.377      0.000   -5.44e+05   -2.53e+05\n",
       "zip_98198      -4.055e+05   7.48e+04     -5.424      0.000   -5.52e+05   -2.59e+05\n",
       "zip_98199      -1.048e+05   8.02e+04     -1.307      0.191   -2.62e+05    5.24e+04\n",
       "==============================================================================\n",
       "Omnibus:                     4272.719   Durbin-Watson:                   1.981\n",
       "Prob(Omnibus):                  0.000   Jarque-Bera (JB):            26581.106\n",
       "Skew:                           0.970   Prob(JB):                         0.00\n",
       "Kurtosis:                       8.558   Cond. No.                     1.23e+20\n",
       "==============================================================================\n",
       "\n",
       "Notes:\n",
       "[1] Standard Errors assume that the covariance matrix of the errors is correctly specified.\n",
       "[2] The smallest eigenvalue is 2.84e-28. This might indicate that there are\n",
       "strong multicollinearity problems or that the design matrix is singular.\n",
       "\"\"\""
      ]
     },
     "execution_count": 92,
     "metadata": {},
     "output_type": "execute_result"
    }
   ],
   "source": [
    "modelz = ols(formula=f,data = dfzip2).fit()\n",
    "modelz.summary()"
   ]
  },
  {
   "cell_type": "markdown",
   "metadata": {},
   "source": [
    "From our original dataframe without dropping any rows:\n",
    "\n",
    "\n",
    "Mean Price of a home is $540,297\n",
    "\n",
    "Stan Dev of a home is $367,368"
   ]
  },
  {
   "cell_type": "markdown",
   "metadata": {},
   "source": [
    "## Model with log of continuous values "
   ]
  },
  {
   "cell_type": "code",
   "execution_count": 93,
   "metadata": {
    "ExecuteTime": {
     "end_time": "2021-01-11T20:12:06.083792Z",
     "start_time": "2021-01-11T20:12:06.079773Z"
    }
   },
   "outputs": [],
   "source": [
    "def normalize(x):\n",
    "    return(x - np.mean(x))/ (max(x) - min(x))"
   ]
  },
  {
   "cell_type": "code",
   "execution_count": 94,
   "metadata": {
    "ExecuteTime": {
     "end_time": "2021-01-11T20:12:07.890991Z",
     "start_time": "2021-01-11T20:12:07.887015Z"
    }
   },
   "outputs": [
    {
     "data": {
      "text/plain": [
       "Index(['id', 'date', 'price', 'bedrooms', 'bathrooms', 'sqft_living',\n",
       "       'sqft_lot', 'floors', 'waterfront', 'view', 'condition', 'grade',\n",
       "       'sqft_basement', 'yr_built', 'been_renovated', 'zipcode', 'lat', 'long',\n",
       "       'sqft_living15', 'sqft_lot15', 'month'],\n",
       "      dtype='object')"
      ]
     },
     "execution_count": 94,
     "metadata": {},
     "output_type": "execute_result"
    }
   ],
   "source": [
    "df_zscore.columns"
   ]
  },
  {
   "cell_type": "code",
   "execution_count": 95,
   "metadata": {
    "ExecuteTime": {
     "end_time": "2021-01-11T20:12:27.871527Z",
     "start_time": "2021-01-11T20:12:27.864577Z"
    }
   },
   "outputs": [],
   "source": [
    "dflog = df_zscore.drop('date',axis=1)\n",
    "dflog['log_sqft_living'] = np.log(dflog['sqft_living'])\n"
   ]
  },
  {
   "cell_type": "code",
   "execution_count": 100,
   "metadata": {
    "ExecuteTime": {
     "end_time": "2021-01-11T20:15:50.859453Z",
     "start_time": "2021-01-11T20:15:50.840503Z"
    }
   },
   "outputs": [
    {
     "data": {
      "text/html": [
       "<div>\n",
       "<style scoped>\n",
       "    .dataframe tbody tr th:only-of-type {\n",
       "        vertical-align: middle;\n",
       "    }\n",
       "\n",
       "    .dataframe tbody tr th {\n",
       "        vertical-align: top;\n",
       "    }\n",
       "\n",
       "    .dataframe thead th {\n",
       "        text-align: right;\n",
       "    }\n",
       "</style>\n",
       "<table border=\"1\" class=\"dataframe\">\n",
       "  <thead>\n",
       "    <tr style=\"text-align: right;\">\n",
       "      <th></th>\n",
       "      <th>id</th>\n",
       "      <th>price</th>\n",
       "      <th>bedrooms</th>\n",
       "      <th>bathrooms</th>\n",
       "      <th>sqft_living</th>\n",
       "      <th>sqft_lot</th>\n",
       "      <th>floors</th>\n",
       "      <th>waterfront</th>\n",
       "      <th>view</th>\n",
       "      <th>condition</th>\n",
       "      <th>grade</th>\n",
       "      <th>sqft_basement</th>\n",
       "      <th>yr_built</th>\n",
       "      <th>been_renovated</th>\n",
       "      <th>zipcode</th>\n",
       "      <th>lat</th>\n",
       "      <th>long</th>\n",
       "      <th>sqft_living15</th>\n",
       "      <th>sqft_lot15</th>\n",
       "      <th>month</th>\n",
       "      <th>log_sqft_living</th>\n",
       "      <th>log_sqft_basement</th>\n",
       "      <th>log_sqft_lot</th>\n",
       "      <th>log_sqft_lot15</th>\n",
       "      <th>log_sqft_living15</th>\n",
       "    </tr>\n",
       "  </thead>\n",
       "  <tbody>\n",
       "    <tr>\n",
       "      <th>0</th>\n",
       "      <td>7129300520</td>\n",
       "      <td>221900.0</td>\n",
       "      <td>3</td>\n",
       "      <td>1.00</td>\n",
       "      <td>1180</td>\n",
       "      <td>5650</td>\n",
       "      <td>1</td>\n",
       "      <td>0.0</td>\n",
       "      <td>0.0</td>\n",
       "      <td>3</td>\n",
       "      <td>7</td>\n",
       "      <td>0</td>\n",
       "      <td>1955</td>\n",
       "      <td>0.0</td>\n",
       "      <td>98178</td>\n",
       "      <td>47.5112</td>\n",
       "      <td>-122.257</td>\n",
       "      <td>1340</td>\n",
       "      <td>5650</td>\n",
       "      <td>10</td>\n",
       "      <td>7.073270</td>\n",
       "      <td>0.000000</td>\n",
       "      <td>8.639411</td>\n",
       "      <td>8.639411</td>\n",
       "      <td>7.200425</td>\n",
       "    </tr>\n",
       "    <tr>\n",
       "      <th>2</th>\n",
       "      <td>5631500400</td>\n",
       "      <td>180000.0</td>\n",
       "      <td>2</td>\n",
       "      <td>1.00</td>\n",
       "      <td>770</td>\n",
       "      <td>10000</td>\n",
       "      <td>1</td>\n",
       "      <td>0.0</td>\n",
       "      <td>0.0</td>\n",
       "      <td>3</td>\n",
       "      <td>6</td>\n",
       "      <td>0</td>\n",
       "      <td>1933</td>\n",
       "      <td>0.0</td>\n",
       "      <td>98028</td>\n",
       "      <td>47.7379</td>\n",
       "      <td>-122.233</td>\n",
       "      <td>2720</td>\n",
       "      <td>8062</td>\n",
       "      <td>2</td>\n",
       "      <td>6.646391</td>\n",
       "      <td>0.000000</td>\n",
       "      <td>9.210340</td>\n",
       "      <td>8.994917</td>\n",
       "      <td>7.908387</td>\n",
       "    </tr>\n",
       "    <tr>\n",
       "      <th>3</th>\n",
       "      <td>2487200875</td>\n",
       "      <td>604000.0</td>\n",
       "      <td>4</td>\n",
       "      <td>3.00</td>\n",
       "      <td>1960</td>\n",
       "      <td>5000</td>\n",
       "      <td>1</td>\n",
       "      <td>0.0</td>\n",
       "      <td>0.0</td>\n",
       "      <td>5</td>\n",
       "      <td>7</td>\n",
       "      <td>910</td>\n",
       "      <td>1965</td>\n",
       "      <td>0.0</td>\n",
       "      <td>98136</td>\n",
       "      <td>47.5208</td>\n",
       "      <td>-122.393</td>\n",
       "      <td>1360</td>\n",
       "      <td>5000</td>\n",
       "      <td>12</td>\n",
       "      <td>7.580700</td>\n",
       "      <td>6.813445</td>\n",
       "      <td>8.517193</td>\n",
       "      <td>8.517193</td>\n",
       "      <td>7.215240</td>\n",
       "    </tr>\n",
       "    <tr>\n",
       "      <th>4</th>\n",
       "      <td>1954400510</td>\n",
       "      <td>510000.0</td>\n",
       "      <td>3</td>\n",
       "      <td>2.00</td>\n",
       "      <td>1680</td>\n",
       "      <td>8080</td>\n",
       "      <td>1</td>\n",
       "      <td>0.0</td>\n",
       "      <td>0.0</td>\n",
       "      <td>3</td>\n",
       "      <td>8</td>\n",
       "      <td>0</td>\n",
       "      <td>1987</td>\n",
       "      <td>0.0</td>\n",
       "      <td>98074</td>\n",
       "      <td>47.6168</td>\n",
       "      <td>-122.045</td>\n",
       "      <td>1800</td>\n",
       "      <td>7503</td>\n",
       "      <td>2</td>\n",
       "      <td>7.426549</td>\n",
       "      <td>0.000000</td>\n",
       "      <td>8.997147</td>\n",
       "      <td>8.923058</td>\n",
       "      <td>7.495542</td>\n",
       "    </tr>\n",
       "    <tr>\n",
       "      <th>6</th>\n",
       "      <td>1321400060</td>\n",
       "      <td>257500.0</td>\n",
       "      <td>3</td>\n",
       "      <td>2.25</td>\n",
       "      <td>1715</td>\n",
       "      <td>6819</td>\n",
       "      <td>2</td>\n",
       "      <td>0.0</td>\n",
       "      <td>0.0</td>\n",
       "      <td>3</td>\n",
       "      <td>7</td>\n",
       "      <td>0</td>\n",
       "      <td>1995</td>\n",
       "      <td>0.0</td>\n",
       "      <td>98003</td>\n",
       "      <td>47.3097</td>\n",
       "      <td>-122.327</td>\n",
       "      <td>2238</td>\n",
       "      <td>6819</td>\n",
       "      <td>6</td>\n",
       "      <td>7.447168</td>\n",
       "      <td>0.000000</td>\n",
       "      <td>8.827468</td>\n",
       "      <td>8.827468</td>\n",
       "      <td>7.713338</td>\n",
       "    </tr>\n",
       "  </tbody>\n",
       "</table>\n",
       "</div>"
      ],
      "text/plain": [
       "           id     price  bedrooms  bathrooms  sqft_living  sqft_lot  floors  \\\n",
       "0  7129300520  221900.0         3       1.00         1180      5650       1   \n",
       "2  5631500400  180000.0         2       1.00          770     10000       1   \n",
       "3  2487200875  604000.0         4       3.00         1960      5000       1   \n",
       "4  1954400510  510000.0         3       2.00         1680      8080       1   \n",
       "6  1321400060  257500.0         3       2.25         1715      6819       2   \n",
       "\n",
       "   waterfront  view  condition  grade  sqft_basement  yr_built  \\\n",
       "0         0.0   0.0          3      7              0      1955   \n",
       "2         0.0   0.0          3      6              0      1933   \n",
       "3         0.0   0.0          5      7            910      1965   \n",
       "4         0.0   0.0          3      8              0      1987   \n",
       "6         0.0   0.0          3      7              0      1995   \n",
       "\n",
       "   been_renovated  zipcode      lat     long  sqft_living15  sqft_lot15  \\\n",
       "0             0.0    98178  47.5112 -122.257           1340        5650   \n",
       "2             0.0    98028  47.7379 -122.233           2720        8062   \n",
       "3             0.0    98136  47.5208 -122.393           1360        5000   \n",
       "4             0.0    98074  47.6168 -122.045           1800        7503   \n",
       "6             0.0    98003  47.3097 -122.327           2238        6819   \n",
       "\n",
       "   month  log_sqft_living  log_sqft_basement  log_sqft_lot  log_sqft_lot15  \\\n",
       "0     10         7.073270           0.000000      8.639411        8.639411   \n",
       "2      2         6.646391           0.000000      9.210340        8.994917   \n",
       "3     12         7.580700           6.813445      8.517193        8.517193   \n",
       "4      2         7.426549           0.000000      8.997147        8.923058   \n",
       "6      6         7.447168           0.000000      8.827468        8.827468   \n",
       "\n",
       "   log_sqft_living15  \n",
       "0           7.200425  \n",
       "2           7.908387  \n",
       "3           7.215240  \n",
       "4           7.495542  \n",
       "6           7.713338  "
      ]
     },
     "execution_count": 100,
     "metadata": {},
     "output_type": "execute_result"
    }
   ],
   "source": [
    "dflog.head()"
   ]
  },
  {
   "cell_type": "code",
   "execution_count": 99,
   "metadata": {
    "ExecuteTime": {
     "end_time": "2021-01-11T20:15:32.383296Z",
     "start_time": "2021-01-11T20:15:32.376313Z"
    }
   },
   "outputs": [],
   "source": [
    "dflog['log_sqft_living'] = np.log(dflog['sqft_living'])\n",
    "dflog['log_sqft_lot'] = np.log(dflog['sqft_lot'])\n",
    "dflog['log_sqft_lot15'] = np.log(dflog['sqft_lot15'])\n",
    "dflog['log_sqft_living15'] = np.log(dflog['sqft_living15'])\n",
    "dflog['log_sqft_basement'] = dflog['sqft_basement'].apply(lambda x: np.log(x) if x != 0 else x)\n"
   ]
  },
  {
   "cell_type": "code",
   "execution_count": 101,
   "metadata": {
    "ExecuteTime": {
     "end_time": "2021-01-11T20:16:06.714843Z",
     "start_time": "2021-01-11T20:16:06.704871Z"
    }
   },
   "outputs": [],
   "source": [
    "outcome = 'price'\n",
    "x_cols = dflog.drop(['price', 'id','month','sqft_living15','sqft_lot15','sqft_living','sqft_basement','sqft_lot'],\n",
    "                     axis = 1).columns\n",
    "\n",
    "predictors = '+'.join(x_cols)\n",
    "\n",
    "f = outcome + '~' + predictors"
   ]
  },
  {
   "cell_type": "code",
   "execution_count": 102,
   "metadata": {
    "ExecuteTime": {
     "end_time": "2021-01-11T20:16:08.649018Z",
     "start_time": "2021-01-11T20:16:08.587187Z"
    }
   },
   "outputs": [
    {
     "data": {
      "text/html": [
       "<table class=\"simpletable\">\n",
       "<caption>OLS Regression Results</caption>\n",
       "<tr>\n",
       "  <th>Dep. Variable:</th>          <td>price</td>      <th>  R-squared:         </th>  <td>   0.668</td>  \n",
       "</tr>\n",
       "<tr>\n",
       "  <th>Model:</th>                   <td>OLS</td>       <th>  Adj. R-squared:    </th>  <td>   0.668</td>  \n",
       "</tr>\n",
       "<tr>\n",
       "  <th>Method:</th>             <td>Least Squares</td>  <th>  F-statistic:       </th>  <td>   2469.</td>  \n",
       "</tr>\n",
       "<tr>\n",
       "  <th>Date:</th>             <td>Mon, 11 Jan 2021</td> <th>  Prob (F-statistic):</th>   <td>  0.00</td>   \n",
       "</tr>\n",
       "<tr>\n",
       "  <th>Time:</th>                 <td>15:16:08</td>     <th>  Log-Likelihood:    </th> <td>-2.4345e+05</td>\n",
       "</tr>\n",
       "<tr>\n",
       "  <th>No. Observations:</th>      <td> 18407</td>      <th>  AIC:               </th>  <td>4.869e+05</td> \n",
       "</tr>\n",
       "<tr>\n",
       "  <th>Df Residuals:</th>          <td> 18391</td>      <th>  BIC:               </th>  <td>4.871e+05</td> \n",
       "</tr>\n",
       "<tr>\n",
       "  <th>Df Model:</th>              <td>    15</td>      <th>                     </th>      <td> </td>     \n",
       "</tr>\n",
       "<tr>\n",
       "  <th>Covariance Type:</th>      <td>nonrobust</td>    <th>                     </th>      <td> </td>     \n",
       "</tr>\n",
       "</table>\n",
       "<table class=\"simpletable\">\n",
       "<tr>\n",
       "          <td></td>             <th>coef</th>     <th>std err</th>      <th>t</th>      <th>P>|t|</th>  <th>[0.025</th>    <th>0.975]</th>  \n",
       "</tr>\n",
       "<tr>\n",
       "  <th>Intercept</th>         <td> -6.85e+05</td> <td>  2.2e+06</td> <td>   -0.312</td> <td> 0.755</td> <td>-4.99e+06</td> <td> 3.62e+06</td>\n",
       "</tr>\n",
       "<tr>\n",
       "  <th>bedrooms</th>          <td>-9793.0964</td> <td> 1569.138</td> <td>   -6.241</td> <td> 0.000</td> <td>-1.29e+04</td> <td>-6717.440</td>\n",
       "</tr>\n",
       "<tr>\n",
       "  <th>bathrooms</th>         <td> 3.225e+04</td> <td> 2552.184</td> <td>   12.636</td> <td> 0.000</td> <td> 2.72e+04</td> <td> 3.73e+04</td>\n",
       "</tr>\n",
       "<tr>\n",
       "  <th>floors</th>            <td> 1.927e+04</td> <td> 2560.895</td> <td>    7.524</td> <td> 0.000</td> <td> 1.42e+04</td> <td> 2.43e+04</td>\n",
       "</tr>\n",
       "<tr>\n",
       "  <th>waterfront</th>        <td> 1.773e-08</td> <td> 5.72e-08</td> <td>    0.310</td> <td> 0.756</td> <td>-9.43e-08</td> <td>  1.3e-07</td>\n",
       "</tr>\n",
       "<tr>\n",
       "  <th>view</th>              <td> 3.965e+04</td> <td> 2550.388</td> <td>   15.546</td> <td> 0.000</td> <td> 3.46e+04</td> <td> 4.46e+04</td>\n",
       "</tr>\n",
       "<tr>\n",
       "  <th>condition</th>         <td> 2.643e+04</td> <td> 1717.082</td> <td>   15.395</td> <td> 0.000</td> <td> 2.31e+04</td> <td> 2.98e+04</td>\n",
       "</tr>\n",
       "<tr>\n",
       "  <th>grade</th>             <td> 9.725e+04</td> <td> 1587.358</td> <td>   61.266</td> <td> 0.000</td> <td> 9.41e+04</td> <td>    1e+05</td>\n",
       "</tr>\n",
       "<tr>\n",
       "  <th>yr_built</th>          <td>-2298.6638</td> <td>   53.024</td> <td>  -43.351</td> <td> 0.000</td> <td>-2402.596</td> <td>-2194.731</td>\n",
       "</tr>\n",
       "<tr>\n",
       "  <th>been_renovated</th>    <td> 5.039e-09</td> <td> 1.58e-08</td> <td>    0.320</td> <td> 0.749</td> <td>-2.59e-08</td> <td> 3.59e-08</td>\n",
       "</tr>\n",
       "<tr>\n",
       "  <th>zipcode</th>           <td> -310.6523</td> <td>   24.143</td> <td>  -12.867</td> <td> 0.000</td> <td> -357.975</td> <td> -263.329</td>\n",
       "</tr>\n",
       "<tr>\n",
       "  <th>lat</th>               <td> 5.573e+05</td> <td> 7718.504</td> <td>   72.209</td> <td> 0.000</td> <td> 5.42e+05</td> <td> 5.72e+05</td>\n",
       "</tr>\n",
       "<tr>\n",
       "  <th>long</th>              <td>-5.834e+04</td> <td> 1.08e+04</td> <td>   -5.403</td> <td> 0.000</td> <td>-7.95e+04</td> <td>-3.72e+04</td>\n",
       "</tr>\n",
       "<tr>\n",
       "  <th>log_sqft_living</th>   <td> 1.468e+05</td> <td> 5917.359</td> <td>   24.816</td> <td> 0.000</td> <td> 1.35e+05</td> <td> 1.58e+05</td>\n",
       "</tr>\n",
       "<tr>\n",
       "  <th>log_sqft_basement</th> <td> -644.6573</td> <td>  414.783</td> <td>   -1.554</td> <td> 0.120</td> <td>-1457.670</td> <td>  168.355</td>\n",
       "</tr>\n",
       "<tr>\n",
       "  <th>log_sqft_lot</th>      <td>-3031.9163</td> <td> 3372.198</td> <td>   -0.899</td> <td> 0.369</td> <td>-9641.738</td> <td> 3577.905</td>\n",
       "</tr>\n",
       "<tr>\n",
       "  <th>log_sqft_lot15</th>    <td>-1.928e+04</td> <td> 3631.567</td> <td>   -5.310</td> <td> 0.000</td> <td>-2.64e+04</td> <td>-1.22e+04</td>\n",
       "</tr>\n",
       "<tr>\n",
       "  <th>log_sqft_living15</th> <td> 9.807e+04</td> <td> 5415.940</td> <td>   18.107</td> <td> 0.000</td> <td> 8.75e+04</td> <td> 1.09e+05</td>\n",
       "</tr>\n",
       "</table>\n",
       "<table class=\"simpletable\">\n",
       "<tr>\n",
       "  <th>Omnibus:</th>       <td>5339.938</td> <th>  Durbin-Watson:     </th> <td>   1.968</td> \n",
       "</tr>\n",
       "<tr>\n",
       "  <th>Prob(Omnibus):</th>  <td> 0.000</td>  <th>  Jarque-Bera (JB):  </th> <td>24076.419</td>\n",
       "</tr>\n",
       "<tr>\n",
       "  <th>Skew:</th>           <td> 1.352</td>  <th>  Prob(JB):          </th> <td>    0.00</td> \n",
       "</tr>\n",
       "<tr>\n",
       "  <th>Kurtosis:</th>       <td> 7.907</td>  <th>  Cond. No.          </th> <td>5.07e+21</td> \n",
       "</tr>\n",
       "</table><br/><br/>Notes:<br/>[1] Standard Errors assume that the covariance matrix of the errors is correctly specified.<br/>[2] The smallest eigenvalue is 6.9e-30. This might indicate that there are<br/>strong multicollinearity problems or that the design matrix is singular."
      ],
      "text/plain": [
       "<class 'statsmodels.iolib.summary.Summary'>\n",
       "\"\"\"\n",
       "                            OLS Regression Results                            \n",
       "==============================================================================\n",
       "Dep. Variable:                  price   R-squared:                       0.668\n",
       "Model:                            OLS   Adj. R-squared:                  0.668\n",
       "Method:                 Least Squares   F-statistic:                     2469.\n",
       "Date:                Mon, 11 Jan 2021   Prob (F-statistic):               0.00\n",
       "Time:                        15:16:08   Log-Likelihood:            -2.4345e+05\n",
       "No. Observations:               18407   AIC:                         4.869e+05\n",
       "Df Residuals:                   18391   BIC:                         4.871e+05\n",
       "Df Model:                          15                                         \n",
       "Covariance Type:            nonrobust                                         \n",
       "=====================================================================================\n",
       "                        coef    std err          t      P>|t|      [0.025      0.975]\n",
       "-------------------------------------------------------------------------------------\n",
       "Intercept          -6.85e+05    2.2e+06     -0.312      0.755   -4.99e+06    3.62e+06\n",
       "bedrooms          -9793.0964   1569.138     -6.241      0.000   -1.29e+04   -6717.440\n",
       "bathrooms          3.225e+04   2552.184     12.636      0.000    2.72e+04    3.73e+04\n",
       "floors             1.927e+04   2560.895      7.524      0.000    1.42e+04    2.43e+04\n",
       "waterfront         1.773e-08   5.72e-08      0.310      0.756   -9.43e-08     1.3e-07\n",
       "view               3.965e+04   2550.388     15.546      0.000    3.46e+04    4.46e+04\n",
       "condition          2.643e+04   1717.082     15.395      0.000    2.31e+04    2.98e+04\n",
       "grade              9.725e+04   1587.358     61.266      0.000    9.41e+04       1e+05\n",
       "yr_built          -2298.6638     53.024    -43.351      0.000   -2402.596   -2194.731\n",
       "been_renovated     5.039e-09   1.58e-08      0.320      0.749   -2.59e-08    3.59e-08\n",
       "zipcode            -310.6523     24.143    -12.867      0.000    -357.975    -263.329\n",
       "lat                5.573e+05   7718.504     72.209      0.000    5.42e+05    5.72e+05\n",
       "long              -5.834e+04   1.08e+04     -5.403      0.000   -7.95e+04   -3.72e+04\n",
       "log_sqft_living    1.468e+05   5917.359     24.816      0.000    1.35e+05    1.58e+05\n",
       "log_sqft_basement  -644.6573    414.783     -1.554      0.120   -1457.670     168.355\n",
       "log_sqft_lot      -3031.9163   3372.198     -0.899      0.369   -9641.738    3577.905\n",
       "log_sqft_lot15    -1.928e+04   3631.567     -5.310      0.000   -2.64e+04   -1.22e+04\n",
       "log_sqft_living15  9.807e+04   5415.940     18.107      0.000    8.75e+04    1.09e+05\n",
       "==============================================================================\n",
       "Omnibus:                     5339.938   Durbin-Watson:                   1.968\n",
       "Prob(Omnibus):                  0.000   Jarque-Bera (JB):            24076.419\n",
       "Skew:                           1.352   Prob(JB):                         0.00\n",
       "Kurtosis:                       7.907   Cond. No.                     5.07e+21\n",
       "==============================================================================\n",
       "\n",
       "Notes:\n",
       "[1] Standard Errors assume that the covariance matrix of the errors is correctly specified.\n",
       "[2] The smallest eigenvalue is 6.9e-30. This might indicate that there are\n",
       "strong multicollinearity problems or that the design matrix is singular.\n",
       "\"\"\""
      ]
     },
     "execution_count": 102,
     "metadata": {},
     "output_type": "execute_result"
    }
   ],
   "source": [
    "modellogz = ols(formula=f , data = dflog).fit()\n",
    "modellogz.summary()"
   ]
  },
  {
   "cell_type": "code",
   "execution_count": 103,
   "metadata": {
    "ExecuteTime": {
     "end_time": "2021-01-11T20:17:24.871143Z",
     "start_time": "2021-01-11T20:17:24.590894Z"
    }
   },
   "outputs": [
    {
     "name": "stdout",
     "output_type": "stream",
     "text": [
      "Train MSE: 18152812939.53624\n",
      "Test MSE: 17413922136.693714\n",
      "RMSE Train: 134732.37524639815\n",
      "RMSE Test: 131961.82075393517\n"
     ]
    },
    {
     "data": {
      "image/png": "[encoded data removed]",
      "text/plain": [
       "<Figure size 432x288 with 1 Axes>"
      ]
     },
     "execution_count": 103,
     "metadata": {},
     "output_type": "execute_result"
    },
    {
     "data": {
      "image/png": "[encoded data removed]",
      "text/plain": [
       "<Figure size 432x288 with 1 Axes>"
      ]
     },
     "metadata": {
      "needs_background": "light"
     },
     "output_type": "display_data"
    }
   ],
   "source": [
    "data = dflog.copy()\n",
    "\n",
    "y = data['price']\n",
    "X = data.drop(['price', 'id','month','sqft_living15','sqft_lot15','sqft_living','sqft_basement','sqft_lot'], axis = 1)\n",
    "\n",
    "X_train, X_test, y_train, y_test = train_test_split(X, y, test_size = 0.2)\n",
    "\n",
    "len(X_test)\n",
    "\n",
    "linreg = LinearRegression()\n",
    "linreg.fit(X_train, y_train)\n",
    "\n",
    "y_hat_train = linreg.predict(X_train)\n",
    "y_hat_test = linreg.predict(X_test)\n",
    "\n",
    "\n",
    "mse_train = mean_squared_error(y_train, y_hat_train)\n",
    "mse_test = mean_squared_error(y_test, y_hat_test)\n",
    "\n",
    "print('Train MSE:', mse_train)\n",
    "print('Test MSE:', mse_test)\n",
    "\n",
    "print('RMSE Train:', np.sqrt(mse_train))\n",
    "print('RMSE Test:', np.sqrt(mse_test))\n",
    "\n",
    "r2_score(y_test, y_hat_test)\n",
    "\n",
    "residuals = (y_test - y_hat_test)\n",
    "\n",
    "statsmodels.graphics.gofplots.qqplot(residuals, line = \"r\")"
   ]
  },
  {
   "cell_type": "markdown",
   "metadata": {},
   "source": [
    "## Model of lognorm for cont values"
   ]
  },
  {
   "cell_type": "code",
   "execution_count": 104,
   "metadata": {
    "ExecuteTime": {
     "end_time": "2021-01-11T20:18:35.026185Z",
     "start_time": "2021-01-11T20:18:35.015187Z"
    }
   },
   "outputs": [],
   "source": [
    "dflognorm = dflog.apply(lambda x: x*(1))"
   ]
  },
  {
   "cell_type": "code",
   "execution_count": 107,
   "metadata": {
    "ExecuteTime": {
     "end_time": "2021-01-11T20:26:36.111407Z",
     "start_time": "2021-01-11T20:26:36.104427Z"
    }
   },
   "outputs": [],
   "source": [
    "dflognorm.drop(['sqft_living15','sqft_lot15','sqft_living','sqft_basement','sqft_lot'],axis=1,inplace=True)"
   ]
  },
  {
   "cell_type": "code",
   "execution_count": 144,
   "metadata": {
    "ExecuteTime": {
     "end_time": "2021-01-11T20:42:37.597692Z",
     "start_time": "2021-01-11T20:42:37.589716Z"
    }
   },
   "outputs": [],
   "source": [
    "dflognorm['lognorm_sqft_living'] = normalize(dflognorm['log_sqft_living'])"
   ]
  },
  {
   "cell_type": "code",
   "execution_count": 137,
   "metadata": {
    "ExecuteTime": {
     "end_time": "2021-01-11T20:39:32.825049Z",
     "start_time": "2021-01-11T20:39:32.799119Z"
    }
   },
   "outputs": [],
   "source": [
    "\n",
    "dflognorm['lognorm_sqft_lot'] = normalize(dflognorm['log_sqft_lot'])\n",
    "dflognorm['lognorm_sqft_lot15'] = normalize(dflognorm['log_sqft_lot15'])\n",
    "dflognorm['lognorm_sqft_living15'] = normalize(dflognorm['log_sqft_living15'])\n",
    "dflognorm['lognorm_sqft_basement'] = normalize(dflognorm['log_sqft_basement'])"
   ]
  },
  {
   "cell_type": "code",
   "execution_count": 138,
   "metadata": {
    "ExecuteTime": {
     "end_time": "2021-01-11T20:39:51.995071Z",
     "start_time": "2021-01-11T20:39:51.990084Z"
    }
   },
   "outputs": [
    {
     "data": {
      "text/plain": [
       "Index(['id', 'price', 'bedrooms', 'bathrooms', 'floors', 'waterfront', 'view',\n",
       "       'condition', 'grade', 'yr_built', 'been_renovated', 'zipcode', 'lat',\n",
       "       'long', 'month', 'log_sqft_living', 'log_sqft_basement', 'log_sqft_lot',\n",
       "       'log_sqft_lot15', 'log_sqft_living15', 'lognorm_sqft_lot',\n",
       "       'lognorm_sqft_lot15', 'lognorm_sqft_living15', 'lognorm_sqft_basement'],\n",
       "      dtype='object')"
      ]
     },
     "execution_count": 138,
     "metadata": {},
     "output_type": "execute_result"
    }
   ],
   "source": [
    "dflognorm.columns"
   ]
  },
  {
   "cell_type": "code",
   "execution_count": 145,
   "metadata": {
    "ExecuteTime": {
     "end_time": "2021-01-11T20:42:41.397545Z",
     "start_time": "2021-01-11T20:42:41.389561Z"
    }
   },
   "outputs": [],
   "source": [
    "outcome = 'price'\n",
    "x_cols = dflognorm.drop(['price', 'id','month','log_sqft_lot','log_sqft_lot15','log_sqft_living15','log_sqft_basement','log_sqft_living'],\n",
    "                     axis = 1).columns\n",
    "\n",
    "predictors = '+'.join(x_cols)\n",
    "\n",
    "f = outcome + '~' + predictors"
   ]
  },
  {
   "cell_type": "code",
   "execution_count": 146,
   "metadata": {
    "ExecuteTime": {
     "end_time": "2021-01-11T20:42:43.198263Z",
     "start_time": "2021-01-11T20:42:43.134864Z"
    }
   },
   "outputs": [
    {
     "data": {
      "text/html": [
       "<table class=\"simpletable\">\n",
       "<caption>OLS Regression Results</caption>\n",
       "<tr>\n",
       "  <th>Dep. Variable:</th>          <td>price</td>      <th>  R-squared:         </th>  <td>   0.668</td>  \n",
       "</tr>\n",
       "<tr>\n",
       "  <th>Model:</th>                   <td>OLS</td>       <th>  Adj. R-squared:    </th>  <td>   0.668</td>  \n",
       "</tr>\n",
       "<tr>\n",
       "  <th>Method:</th>             <td>Least Squares</td>  <th>  F-statistic:       </th>  <td>   2469.</td>  \n",
       "</tr>\n",
       "<tr>\n",
       "  <th>Date:</th>             <td>Mon, 11 Jan 2021</td> <th>  Prob (F-statistic):</th>   <td>  0.00</td>   \n",
       "</tr>\n",
       "<tr>\n",
       "  <th>Time:</th>                 <td>15:42:43</td>     <th>  Log-Likelihood:    </th> <td>-2.4345e+05</td>\n",
       "</tr>\n",
       "<tr>\n",
       "  <th>No. Observations:</th>      <td> 18407</td>      <th>  AIC:               </th>  <td>4.869e+05</td> \n",
       "</tr>\n",
       "<tr>\n",
       "  <th>Df Residuals:</th>          <td> 18391</td>      <th>  BIC:               </th>  <td>4.871e+05</td> \n",
       "</tr>\n",
       "<tr>\n",
       "  <th>Df Model:</th>              <td>    15</td>      <th>                     </th>      <td> </td>     \n",
       "</tr>\n",
       "<tr>\n",
       "  <th>Covariance Type:</th>      <td>nonrobust</td>    <th>                     </th>      <td> </td>     \n",
       "</tr>\n",
       "</table>\n",
       "<table class=\"simpletable\">\n",
       "<tr>\n",
       "            <td></td>               <th>coef</th>     <th>std err</th>      <th>t</th>      <th>P>|t|</th>  <th>[0.025</th>    <th>0.975]</th>  \n",
       "</tr>\n",
       "<tr>\n",
       "  <th>Intercept</th>             <td> 9.541e+05</td> <td> 2.19e+06</td> <td>    0.436</td> <td> 0.663</td> <td>-3.33e+06</td> <td> 5.24e+06</td>\n",
       "</tr>\n",
       "<tr>\n",
       "  <th>bedrooms</th>              <td>-9793.0964</td> <td> 1569.138</td> <td>   -6.241</td> <td> 0.000</td> <td>-1.29e+04</td> <td>-6717.440</td>\n",
       "</tr>\n",
       "<tr>\n",
       "  <th>bathrooms</th>             <td> 3.225e+04</td> <td> 2552.184</td> <td>   12.636</td> <td> 0.000</td> <td> 2.72e+04</td> <td> 3.73e+04</td>\n",
       "</tr>\n",
       "<tr>\n",
       "  <th>floors</th>                <td> 1.927e+04</td> <td> 2560.895</td> <td>    7.524</td> <td> 0.000</td> <td> 1.42e+04</td> <td> 2.43e+04</td>\n",
       "</tr>\n",
       "<tr>\n",
       "  <th>waterfront</th>            <td> 5.884e-08</td> <td> 1.35e-07</td> <td>    0.435</td> <td> 0.663</td> <td>-2.06e-07</td> <td> 3.24e-07</td>\n",
       "</tr>\n",
       "<tr>\n",
       "  <th>view</th>                  <td> 3.965e+04</td> <td> 2550.388</td> <td>   15.546</td> <td> 0.000</td> <td> 3.46e+04</td> <td> 4.46e+04</td>\n",
       "</tr>\n",
       "<tr>\n",
       "  <th>condition</th>             <td> 2.643e+04</td> <td> 1717.082</td> <td>   15.395</td> <td> 0.000</td> <td> 2.31e+04</td> <td> 2.98e+04</td>\n",
       "</tr>\n",
       "<tr>\n",
       "  <th>grade</th>                 <td> 9.725e+04</td> <td> 1587.358</td> <td>   61.266</td> <td> 0.000</td> <td> 9.41e+04</td> <td>    1e+05</td>\n",
       "</tr>\n",
       "<tr>\n",
       "  <th>yr_built</th>              <td>-2298.6638</td> <td>   53.024</td> <td>  -43.351</td> <td> 0.000</td> <td>-2402.596</td> <td>-2194.731</td>\n",
       "</tr>\n",
       "<tr>\n",
       "  <th>been_renovated</th>        <td>-7.684e-10</td> <td> 1.66e-09</td> <td>   -0.463</td> <td> 0.644</td> <td>-4.02e-09</td> <td> 2.49e-09</td>\n",
       "</tr>\n",
       "<tr>\n",
       "  <th>zipcode</th>               <td> -310.6523</td> <td>   24.143</td> <td>  -12.867</td> <td> 0.000</td> <td> -357.975</td> <td> -263.329</td>\n",
       "</tr>\n",
       "<tr>\n",
       "  <th>lat</th>                   <td> 5.573e+05</td> <td> 7718.504</td> <td>   72.209</td> <td> 0.000</td> <td> 5.42e+05</td> <td> 5.72e+05</td>\n",
       "</tr>\n",
       "<tr>\n",
       "  <th>long</th>                  <td>-5.834e+04</td> <td> 1.08e+04</td> <td>   -5.403</td> <td> 0.000</td> <td>-7.95e+04</td> <td>-3.72e+04</td>\n",
       "</tr>\n",
       "<tr>\n",
       "  <th>lognorm_sqft_lot</th>      <td> -1.69e+04</td> <td> 1.88e+04</td> <td>   -0.899</td> <td> 0.369</td> <td>-5.38e+04</td> <td> 1.99e+04</td>\n",
       "</tr>\n",
       "<tr>\n",
       "  <th>lognorm_sqft_lot15</th>    <td>-9.585e+04</td> <td> 1.81e+04</td> <td>   -5.310</td> <td> 0.000</td> <td>-1.31e+05</td> <td>-6.05e+04</td>\n",
       "</tr>\n",
       "<tr>\n",
       "  <th>lognorm_sqft_living15</th> <td> 2.131e+05</td> <td> 1.18e+04</td> <td>   18.107</td> <td> 0.000</td> <td>  1.9e+05</td> <td> 2.36e+05</td>\n",
       "</tr>\n",
       "<tr>\n",
       "  <th>lognorm_sqft_basement</th> <td>-4756.1262</td> <td> 3060.167</td> <td>   -1.554</td> <td> 0.120</td> <td>-1.08e+04</td> <td> 1242.085</td>\n",
       "</tr>\n",
       "<tr>\n",
       "  <th>lognorm_sqft_living</th>   <td> 3.748e+05</td> <td> 1.51e+04</td> <td>   24.816</td> <td> 0.000</td> <td> 3.45e+05</td> <td> 4.04e+05</td>\n",
       "</tr>\n",
       "</table>\n",
       "<table class=\"simpletable\">\n",
       "<tr>\n",
       "  <th>Omnibus:</th>       <td>5339.938</td> <th>  Durbin-Watson:     </th> <td>   1.968</td> \n",
       "</tr>\n",
       "<tr>\n",
       "  <th>Prob(Omnibus):</th>  <td> 0.000</td>  <th>  Jarque-Bera (JB):  </th> <td>24076.419</td>\n",
       "</tr>\n",
       "<tr>\n",
       "  <th>Skew:</th>           <td> 1.352</td>  <th>  Prob(JB):          </th> <td>    0.00</td> \n",
       "</tr>\n",
       "<tr>\n",
       "  <th>Kurtosis:</th>       <td> 7.907</td>  <th>  Cond. No.          </th> <td>9.22e+21</td> \n",
       "</tr>\n",
       "</table><br/><br/>Notes:<br/>[1] Standard Errors assume that the covariance matrix of the errors is correctly specified.<br/>[2] The smallest eigenvalue is 2.08e-30. This might indicate that there are<br/>strong multicollinearity problems or that the design matrix is singular."
      ],
      "text/plain": [
       "<class 'statsmodels.iolib.summary.Summary'>\n",
       "\"\"\"\n",
       "                            OLS Regression Results                            \n",
       "==============================================================================\n",
       "Dep. Variable:                  price   R-squared:                       0.668\n",
       "Model:                            OLS   Adj. R-squared:                  0.668\n",
       "Method:                 Least Squares   F-statistic:                     2469.\n",
       "Date:                Mon, 11 Jan 2021   Prob (F-statistic):               0.00\n",
       "Time:                        15:42:43   Log-Likelihood:            -2.4345e+05\n",
       "No. Observations:               18407   AIC:                         4.869e+05\n",
       "Df Residuals:                   18391   BIC:                         4.871e+05\n",
       "Df Model:                          15                                         \n",
       "Covariance Type:            nonrobust                                         \n",
       "=========================================================================================\n",
       "                            coef    std err          t      P>|t|      [0.025      0.975]\n",
       "-----------------------------------------------------------------------------------------\n",
       "Intercept              9.541e+05   2.19e+06      0.436      0.663   -3.33e+06    5.24e+06\n",
       "bedrooms              -9793.0964   1569.138     -6.241      0.000   -1.29e+04   -6717.440\n",
       "bathrooms              3.225e+04   2552.184     12.636      0.000    2.72e+04    3.73e+04\n",
       "floors                 1.927e+04   2560.895      7.524      0.000    1.42e+04    2.43e+04\n",
       "waterfront             5.884e-08   1.35e-07      0.435      0.663   -2.06e-07    3.24e-07\n",
       "view                   3.965e+04   2550.388     15.546      0.000    3.46e+04    4.46e+04\n",
       "condition              2.643e+04   1717.082     15.395      0.000    2.31e+04    2.98e+04\n",
       "grade                  9.725e+04   1587.358     61.266      0.000    9.41e+04       1e+05\n",
       "yr_built              -2298.6638     53.024    -43.351      0.000   -2402.596   -2194.731\n",
       "been_renovated        -7.684e-10   1.66e-09     -0.463      0.644   -4.02e-09    2.49e-09\n",
       "zipcode                -310.6523     24.143    -12.867      0.000    -357.975    -263.329\n",
       "lat                    5.573e+05   7718.504     72.209      0.000    5.42e+05    5.72e+05\n",
       "long                  -5.834e+04   1.08e+04     -5.403      0.000   -7.95e+04   -3.72e+04\n",
       "lognorm_sqft_lot       -1.69e+04   1.88e+04     -0.899      0.369   -5.38e+04    1.99e+04\n",
       "lognorm_sqft_lot15    -9.585e+04   1.81e+04     -5.310      0.000   -1.31e+05   -6.05e+04\n",
       "lognorm_sqft_living15  2.131e+05   1.18e+04     18.107      0.000     1.9e+05    2.36e+05\n",
       "lognorm_sqft_basement -4756.1262   3060.167     -1.554      0.120   -1.08e+04    1242.085\n",
       "lognorm_sqft_living    3.748e+05   1.51e+04     24.816      0.000    3.45e+05    4.04e+05\n",
       "==============================================================================\n",
       "Omnibus:                     5339.938   Durbin-Watson:                   1.968\n",
       "Prob(Omnibus):                  0.000   Jarque-Bera (JB):            24076.419\n",
       "Skew:                           1.352   Prob(JB):                         0.00\n",
       "Kurtosis:                       7.907   Cond. No.                     9.22e+21\n",
       "==============================================================================\n",
       "\n",
       "Notes:\n",
       "[1] Standard Errors assume that the covariance matrix of the errors is correctly specified.\n",
       "[2] The smallest eigenvalue is 2.08e-30. This might indicate that there are\n",
       "strong multicollinearity problems or that the design matrix is singular.\n",
       "\"\"\""
      ]
     },
     "execution_count": 146,
     "metadata": {},
     "output_type": "execute_result"
    }
   ],
   "source": [
    "modellognorm = ols(formula=f , data = dflognorm).fit()\n",
    "modellognorm.summary()"
   ]
  },
  {
   "cell_type": "markdown",
   "metadata": {},
   "source": [
    "## Lognorm + zip dummies "
   ]
  },
  {
   "cell_type": "code",
   "execution_count": 147,
   "metadata": {
    "ExecuteTime": {
     "end_time": "2021-01-11T20:45:22.671491Z",
     "start_time": "2021-01-11T20:45:22.644558Z"
    }
   },
   "outputs": [],
   "source": [
    "lognormzip = pd.concat([dflognorm, zipcode], axis = 1)"
   ]
  },
  {
   "cell_type": "code",
   "execution_count": 158,
   "metadata": {
    "ExecuteTime": {
     "end_time": "2021-01-11T20:50:34.092383Z",
     "start_time": "2021-01-11T20:50:34.076398Z"
    }
   },
   "outputs": [],
   "source": [
    "lognormzip.dropna(inplace=True)"
   ]
  },
  {
   "cell_type": "code",
   "execution_count": 159,
   "metadata": {
    "ExecuteTime": {
     "end_time": "2021-01-11T20:50:36.457911Z",
     "start_time": "2021-01-11T20:50:36.445941Z"
    }
   },
   "outputs": [],
   "source": [
    "outcome = 'price'\n",
    "x_cols = lognormzip.drop(['price', 'id','month','log_sqft_lot','log_sqft_lot15','log_sqft_living15','log_sqft_basement','log_sqft_living','zipcode'],\n",
    "                     axis = 1).columns\n",
    "\n",
    "predictors = '+'.join(x_cols)\n",
    "\n",
    "f = outcome + '~' + predictors"
   ]
  },
  {
   "cell_type": "code",
   "execution_count": 160,
   "metadata": {
    "ExecuteTime": {
     "end_time": "2021-01-11T20:50:38.981474Z",
     "start_time": "2021-01-11T20:50:38.660333Z"
    }
   },
   "outputs": [
    {
     "data": {
      "text/html": [
       "<table class=\"simpletable\">\n",
       "<caption>OLS Regression Results</caption>\n",
       "<tr>\n",
       "  <th>Dep. Variable:</th>          <td>price</td>      <th>  R-squared:         </th>  <td>   0.819</td>  \n",
       "</tr>\n",
       "<tr>\n",
       "  <th>Model:</th>                   <td>OLS</td>       <th>  Adj. R-squared:    </th>  <td>   0.818</td>  \n",
       "</tr>\n",
       "<tr>\n",
       "  <th>Method:</th>             <td>Least Squares</td>  <th>  F-statistic:       </th>  <td>   996.4</td>  \n",
       "</tr>\n",
       "<tr>\n",
       "  <th>Date:</th>             <td>Mon, 11 Jan 2021</td> <th>  Prob (F-statistic):</th>   <td>  0.00</td>   \n",
       "</tr>\n",
       "<tr>\n",
       "  <th>Time:</th>                 <td>15:50:38</td>     <th>  Log-Likelihood:    </th> <td>-2.3789e+05</td>\n",
       "</tr>\n",
       "<tr>\n",
       "  <th>No. Observations:</th>      <td> 18407</td>      <th>  AIC:               </th>  <td>4.759e+05</td> \n",
       "</tr>\n",
       "<tr>\n",
       "  <th>Df Residuals:</th>          <td> 18323</td>      <th>  BIC:               </th>  <td>4.766e+05</td> \n",
       "</tr>\n",
       "<tr>\n",
       "  <th>Df Model:</th>              <td>    83</td>      <th>                     </th>      <td> </td>     \n",
       "</tr>\n",
       "<tr>\n",
       "  <th>Covariance Type:</th>      <td>nonrobust</td>    <th>                     </th>      <td> </td>     \n",
       "</tr>\n",
       "</table>\n",
       "<table class=\"simpletable\">\n",
       "<tr>\n",
       "            <td></td>               <th>coef</th>     <th>std err</th>      <th>t</th>      <th>P>|t|</th>  <th>[0.025</th>    <th>0.975]</th>  \n",
       "</tr>\n",
       "<tr>\n",
       "  <th>Intercept</th>             <td>-1.832e+07</td> <td> 5.25e+06</td> <td>   -3.492</td> <td> 0.000</td> <td>-2.86e+07</td> <td>-8.04e+06</td>\n",
       "</tr>\n",
       "<tr>\n",
       "  <th>bedrooms</th>              <td>-4864.1957</td> <td> 1179.879</td> <td>   -4.123</td> <td> 0.000</td> <td>-7176.869</td> <td>-2551.523</td>\n",
       "</tr>\n",
       "<tr>\n",
       "  <th>bathrooms</th>             <td>  2.36e+04</td> <td> 1901.518</td> <td>   12.413</td> <td> 0.000</td> <td> 1.99e+04</td> <td> 2.73e+04</td>\n",
       "</tr>\n",
       "<tr>\n",
       "  <th>floors</th>                <td>-1154.2622</td> <td> 1980.329</td> <td>   -0.583</td> <td> 0.560</td> <td>-5035.892</td> <td> 2727.368</td>\n",
       "</tr>\n",
       "<tr>\n",
       "  <th>waterfront</th>            <td> 2.109e-06</td> <td> 6.04e-07</td> <td>    3.492</td> <td> 0.000</td> <td> 9.25e-07</td> <td> 3.29e-06</td>\n",
       "</tr>\n",
       "<tr>\n",
       "  <th>view</th>                  <td> 3.557e+04</td> <td> 1922.962</td> <td>   18.498</td> <td> 0.000</td> <td> 3.18e+04</td> <td> 3.93e+04</td>\n",
       "</tr>\n",
       "<tr>\n",
       "  <th>condition</th>             <td> 2.116e+04</td> <td> 1305.958</td> <td>   16.202</td> <td> 0.000</td> <td> 1.86e+04</td> <td> 2.37e+04</td>\n",
       "</tr>\n",
       "<tr>\n",
       "  <th>grade</th>                 <td> 6.034e+04</td> <td> 1254.420</td> <td>   48.103</td> <td> 0.000</td> <td> 5.79e+04</td> <td> 6.28e+04</td>\n",
       "</tr>\n",
       "<tr>\n",
       "  <th>yr_built</th>              <td> -542.0145</td> <td>   44.801</td> <td>  -12.098</td> <td> 0.000</td> <td> -629.829</td> <td> -454.200</td>\n",
       "</tr>\n",
       "<tr>\n",
       "  <th>been_renovated</th>        <td>-9.385e-07</td> <td> 2.69e-07</td> <td>   -3.490</td> <td> 0.000</td> <td>-1.47e-06</td> <td>-4.11e-07</td>\n",
       "</tr>\n",
       "<tr>\n",
       "  <th>lat</th>                   <td> 1.338e+05</td> <td> 4.44e+04</td> <td>    3.012</td> <td> 0.003</td> <td> 4.67e+04</td> <td> 2.21e+05</td>\n",
       "</tr>\n",
       "<tr>\n",
       "  <th>long</th>                  <td>-1.081e+05</td> <td> 4.23e+04</td> <td>   -2.559</td> <td> 0.010</td> <td>-1.91e+05</td> <td>-2.53e+04</td>\n",
       "</tr>\n",
       "<tr>\n",
       "  <th>lognorm_sqft_lot</th>      <td> 1.948e+05</td> <td> 1.42e+04</td> <td>   13.735</td> <td> 0.000</td> <td> 1.67e+05</td> <td> 2.23e+05</td>\n",
       "</tr>\n",
       "<tr>\n",
       "  <th>lognorm_sqft_lot15</th>    <td>-2.705e+04</td> <td> 1.37e+04</td> <td>   -1.970</td> <td> 0.049</td> <td> -5.4e+04</td> <td> -131.334</td>\n",
       "</tr>\n",
       "<tr>\n",
       "  <th>lognorm_sqft_living15</th> <td> 1.076e+05</td> <td> 9039.361</td> <td>   11.908</td> <td> 0.000</td> <td> 8.99e+04</td> <td> 1.25e+05</td>\n",
       "</tr>\n",
       "<tr>\n",
       "  <th>lognorm_sqft_basement</th> <td>-3.543e+04</td> <td> 2341.515</td> <td>  -15.129</td> <td> 0.000</td> <td>   -4e+04</td> <td>-3.08e+04</td>\n",
       "</tr>\n",
       "<tr>\n",
       "  <th>lognorm_sqft_living</th>   <td>   4.7e+05</td> <td> 1.13e+04</td> <td>   41.427</td> <td> 0.000</td> <td> 4.48e+05</td> <td> 4.92e+05</td>\n",
       "</tr>\n",
       "<tr>\n",
       "  <th>zip_98001</th>             <td> -4.37e+05</td> <td> 7.55e+04</td> <td>   -5.788</td> <td> 0.000</td> <td>-5.85e+05</td> <td>-2.89e+05</td>\n",
       "</tr>\n",
       "<tr>\n",
       "  <th>zip_98002</th>             <td>-3.985e+05</td> <td> 7.32e+04</td> <td>   -5.445</td> <td> 0.000</td> <td>-5.42e+05</td> <td>-2.55e+05</td>\n",
       "</tr>\n",
       "<tr>\n",
       "  <th>zip_98003</th>             <td>-4.453e+05</td> <td> 7.71e+04</td> <td>   -5.777</td> <td> 0.000</td> <td>-5.96e+05</td> <td>-2.94e+05</td>\n",
       "</tr>\n",
       "<tr>\n",
       "  <th>zip_98004</th>             <td> 1.425e+05</td> <td> 7.57e+04</td> <td>    1.883</td> <td> 0.060</td> <td>-5836.020</td> <td> 2.91e+05</td>\n",
       "</tr>\n",
       "<tr>\n",
       "  <th>zip_98005</th>             <td>-1.349e+05</td> <td> 7.45e+04</td> <td>   -1.812</td> <td> 0.070</td> <td>-2.81e+05</td> <td>  1.1e+04</td>\n",
       "</tr>\n",
       "<tr>\n",
       "  <th>zip_98006</th>             <td>-1.841e+05</td> <td> 7.28e+04</td> <td>   -2.529</td> <td> 0.011</td> <td>-3.27e+05</td> <td>-4.14e+04</td>\n",
       "</tr>\n",
       "<tr>\n",
       "  <th>zip_98007</th>             <td>-2.081e+05</td> <td> 7.35e+04</td> <td>   -2.831</td> <td> 0.005</td> <td>-3.52e+05</td> <td> -6.4e+04</td>\n",
       "</tr>\n",
       "<tr>\n",
       "  <th>zip_98008</th>             <td>-2.218e+05</td> <td> 7.23e+04</td> <td>   -3.066</td> <td> 0.002</td> <td>-3.64e+05</td> <td>   -8e+04</td>\n",
       "</tr>\n",
       "<tr>\n",
       "  <th>zip_98010</th>             <td>-3.233e+05</td> <td>  6.6e+04</td> <td>   -4.897</td> <td> 0.000</td> <td>-4.53e+05</td> <td>-1.94e+05</td>\n",
       "</tr>\n",
       "<tr>\n",
       "  <th>zip_98011</th>             <td>-3.406e+05</td> <td> 7.78e+04</td> <td>   -4.378</td> <td> 0.000</td> <td>-4.93e+05</td> <td>-1.88e+05</td>\n",
       "</tr>\n",
       "<tr>\n",
       "  <th>zip_98014</th>             <td>-3.278e+05</td> <td> 6.68e+04</td> <td>   -4.905</td> <td> 0.000</td> <td>-4.59e+05</td> <td>-1.97e+05</td>\n",
       "</tr>\n",
       "<tr>\n",
       "  <th>zip_98019</th>             <td>-3.676e+05</td> <td> 6.91e+04</td> <td>   -5.316</td> <td> 0.000</td> <td>-5.03e+05</td> <td>-2.32e+05</td>\n",
       "</tr>\n",
       "<tr>\n",
       "  <th>zip_98022</th>             <td>-3.884e+05</td> <td> 6.41e+04</td> <td>   -6.061</td> <td> 0.000</td> <td>-5.14e+05</td> <td>-2.63e+05</td>\n",
       "</tr>\n",
       "<tr>\n",
       "  <th>zip_98023</th>             <td>-4.636e+05</td> <td> 7.92e+04</td> <td>   -5.855</td> <td> 0.000</td> <td>-6.19e+05</td> <td>-3.08e+05</td>\n",
       "</tr>\n",
       "<tr>\n",
       "  <th>zip_98024</th>             <td>-2.831e+05</td> <td> 6.51e+04</td> <td>   -4.349</td> <td> 0.000</td> <td>-4.11e+05</td> <td>-1.56e+05</td>\n",
       "</tr>\n",
       "<tr>\n",
       "  <th>zip_98027</th>             <td>-2.364e+05</td> <td> 6.85e+04</td> <td>   -3.453</td> <td> 0.001</td> <td>-3.71e+05</td> <td>-1.02e+05</td>\n",
       "</tr>\n",
       "<tr>\n",
       "  <th>zip_98028</th>             <td>-3.586e+05</td> <td> 7.93e+04</td> <td>   -4.520</td> <td> 0.000</td> <td>-5.14e+05</td> <td>-2.03e+05</td>\n",
       "</tr>\n",
       "<tr>\n",
       "  <th>zip_98029</th>             <td>-2.137e+05</td> <td> 6.73e+04</td> <td>   -3.176</td> <td> 0.001</td> <td>-3.46e+05</td> <td>-8.18e+04</td>\n",
       "</tr>\n",
       "<tr>\n",
       "  <th>zip_98030</th>             <td>-4.308e+05</td> <td> 7.26e+04</td> <td>   -5.932</td> <td> 0.000</td> <td>-5.73e+05</td> <td>-2.88e+05</td>\n",
       "</tr>\n",
       "<tr>\n",
       "  <th>zip_98031</th>             <td>-4.302e+05</td> <td> 7.28e+04</td> <td>   -5.907</td> <td> 0.000</td> <td>-5.73e+05</td> <td>-2.87e+05</td>\n",
       "</tr>\n",
       "<tr>\n",
       "  <th>zip_98032</th>             <td>-4.405e+05</td> <td> 7.65e+04</td> <td>   -5.761</td> <td> 0.000</td> <td> -5.9e+05</td> <td>-2.91e+05</td>\n",
       "</tr>\n",
       "<tr>\n",
       "  <th>zip_98033</th>             <td>-1.178e+05</td> <td> 7.59e+04</td> <td>   -1.552</td> <td> 0.121</td> <td>-2.66e+05</td> <td>  3.1e+04</td>\n",
       "</tr>\n",
       "<tr>\n",
       "  <th>zip_98034</th>             <td>-2.919e+05</td> <td> 7.72e+04</td> <td>   -3.781</td> <td> 0.000</td> <td>-4.43e+05</td> <td>-1.41e+05</td>\n",
       "</tr>\n",
       "<tr>\n",
       "  <th>zip_98038</th>             <td>-3.807e+05</td> <td> 6.62e+04</td> <td>   -5.750</td> <td> 0.000</td> <td> -5.1e+05</td> <td>-2.51e+05</td>\n",
       "</tr>\n",
       "<tr>\n",
       "  <th>zip_98039</th>             <td> 3.112e+05</td> <td> 8.11e+04</td> <td>    3.839</td> <td> 0.000</td> <td> 1.52e+05</td> <td>  4.7e+05</td>\n",
       "</tr>\n",
       "<tr>\n",
       "  <th>zip_98040</th>             <td> 2.769e+04</td> <td> 7.59e+04</td> <td>    0.365</td> <td> 0.715</td> <td>-1.21e+05</td> <td> 1.76e+05</td>\n",
       "</tr>\n",
       "<tr>\n",
       "  <th>zip_98042</th>             <td>-4.178e+05</td> <td> 6.95e+04</td> <td>   -6.009</td> <td> 0.000</td> <td>-5.54e+05</td> <td>-2.81e+05</td>\n",
       "</tr>\n",
       "<tr>\n",
       "  <th>zip_98045</th>             <td> -3.35e+05</td> <td> 6.62e+04</td> <td>   -5.064</td> <td> 0.000</td> <td>-4.65e+05</td> <td>-2.05e+05</td>\n",
       "</tr>\n",
       "<tr>\n",
       "  <th>zip_98052</th>             <td>-2.129e+05</td> <td> 7.34e+04</td> <td>   -2.902</td> <td> 0.004</td> <td>-3.57e+05</td> <td>-6.91e+04</td>\n",
       "</tr>\n",
       "<tr>\n",
       "  <th>zip_98053</th>             <td>-2.134e+05</td> <td> 7.01e+04</td> <td>   -3.045</td> <td> 0.002</td> <td>-3.51e+05</td> <td> -7.6e+04</td>\n",
       "</tr>\n",
       "<tr>\n",
       "  <th>zip_98055</th>             <td>-3.958e+05</td> <td> 7.38e+04</td> <td>   -5.366</td> <td> 0.000</td> <td> -5.4e+05</td> <td>-2.51e+05</td>\n",
       "</tr>\n",
       "<tr>\n",
       "  <th>zip_98056</th>             <td>-3.385e+05</td> <td> 7.35e+04</td> <td>   -4.608</td> <td> 0.000</td> <td>-4.83e+05</td> <td>-1.95e+05</td>\n",
       "</tr>\n",
       "<tr>\n",
       "  <th>zip_98058</th>             <td>-4.079e+05</td> <td> 7.15e+04</td> <td>   -5.703</td> <td> 0.000</td> <td>-5.48e+05</td> <td>-2.68e+05</td>\n",
       "</tr>\n",
       "<tr>\n",
       "  <th>zip_98059</th>             <td> -3.38e+05</td> <td> 7.17e+04</td> <td>   -4.714</td> <td> 0.000</td> <td>-4.79e+05</td> <td>-1.97e+05</td>\n",
       "</tr>\n",
       "<tr>\n",
       "  <th>zip_98065</th>             <td>-2.793e+05</td> <td> 6.18e+04</td> <td>   -4.516</td> <td> 0.000</td> <td>   -4e+05</td> <td>-1.58e+05</td>\n",
       "</tr>\n",
       "<tr>\n",
       "  <th>zip_98070</th>             <td>-3.607e+05</td> <td> 8.51e+04</td> <td>   -4.239</td> <td> 0.000</td> <td>-5.27e+05</td> <td>-1.94e+05</td>\n",
       "</tr>\n",
       "<tr>\n",
       "  <th>zip_98072</th>             <td>-3.116e+05</td> <td> 7.53e+04</td> <td>   -4.136</td> <td> 0.000</td> <td>-4.59e+05</td> <td>-1.64e+05</td>\n",
       "</tr>\n",
       "<tr>\n",
       "  <th>zip_98074</th>             <td>-2.405e+05</td> <td> 6.98e+04</td> <td>   -3.446</td> <td> 0.001</td> <td>-3.77e+05</td> <td>-1.04e+05</td>\n",
       "</tr>\n",
       "<tr>\n",
       "  <th>zip_98075</th>             <td> -2.09e+05</td> <td> 6.84e+04</td> <td>   -3.054</td> <td> 0.002</td> <td>-3.43e+05</td> <td>-7.49e+04</td>\n",
       "</tr>\n",
       "<tr>\n",
       "  <th>zip_98077</th>             <td>-3.157e+05</td> <td> 7.31e+04</td> <td>   -4.321</td> <td> 0.000</td> <td>-4.59e+05</td> <td>-1.73e+05</td>\n",
       "</tr>\n",
       "<tr>\n",
       "  <th>zip_98092</th>             <td>-4.512e+05</td> <td> 7.16e+04</td> <td>   -6.299</td> <td> 0.000</td> <td>-5.92e+05</td> <td>-3.11e+05</td>\n",
       "</tr>\n",
       "<tr>\n",
       "  <th>zip_98102</th>             <td>-1.212e+04</td> <td> 8.05e+04</td> <td>   -0.151</td> <td> 0.880</td> <td> -1.7e+05</td> <td> 1.46e+05</td>\n",
       "</tr>\n",
       "<tr>\n",
       "  <th>zip_98103</th>             <td>-1.431e+05</td> <td> 8.14e+04</td> <td>   -1.757</td> <td> 0.079</td> <td>-3.03e+05</td> <td> 1.65e+04</td>\n",
       "</tr>\n",
       "<tr>\n",
       "  <th>zip_98105</th>             <td>-3.588e+04</td> <td> 7.97e+04</td> <td>   -0.450</td> <td> 0.653</td> <td>-1.92e+05</td> <td>  1.2e+05</td>\n",
       "</tr>\n",
       "<tr>\n",
       "  <th>zip_98106</th>             <td>-3.171e+05</td> <td> 8.05e+04</td> <td>   -3.940</td> <td> 0.000</td> <td>-4.75e+05</td> <td>-1.59e+05</td>\n",
       "</tr>\n",
       "<tr>\n",
       "  <th>zip_98107</th>             <td>-1.488e+05</td> <td> 8.27e+04</td> <td>   -1.800</td> <td> 0.072</td> <td>-3.11e+05</td> <td> 1.33e+04</td>\n",
       "</tr>\n",
       "<tr>\n",
       "  <th>zip_98108</th>             <td>-3.277e+05</td> <td> 7.88e+04</td> <td>   -4.160</td> <td> 0.000</td> <td>-4.82e+05</td> <td>-1.73e+05</td>\n",
       "</tr>\n",
       "<tr>\n",
       "  <th>zip_98109</th>             <td>  464.5828</td> <td> 8.16e+04</td> <td>    0.006</td> <td> 0.995</td> <td>-1.59e+05</td> <td>  1.6e+05</td>\n",
       "</tr>\n",
       "<tr>\n",
       "  <th>zip_98112</th>             <td> 6.692e+04</td> <td> 7.93e+04</td> <td>    0.844</td> <td> 0.399</td> <td>-8.85e+04</td> <td> 2.22e+05</td>\n",
       "</tr>\n",
       "<tr>\n",
       "  <th>zip_98115</th>             <td>-1.383e+05</td> <td>    8e+04</td> <td>   -1.728</td> <td> 0.084</td> <td>-2.95e+05</td> <td> 1.86e+04</td>\n",
       "</tr>\n",
       "<tr>\n",
       "  <th>zip_98116</th>             <td>-1.705e+05</td> <td> 8.22e+04</td> <td>   -2.073</td> <td> 0.038</td> <td>-3.32e+05</td> <td>-9310.301</td>\n",
       "</tr>\n",
       "<tr>\n",
       "  <th>zip_98117</th>             <td>-1.573e+05</td> <td> 8.29e+04</td> <td>   -1.897</td> <td> 0.058</td> <td> -3.2e+05</td> <td> 5245.563</td>\n",
       "</tr>\n",
       "<tr>\n",
       "  <th>zip_98118</th>             <td>-2.738e+05</td> <td> 7.73e+04</td> <td>   -3.542</td> <td> 0.000</td> <td>-4.25e+05</td> <td>-1.22e+05</td>\n",
       "</tr>\n",
       "<tr>\n",
       "  <th>zip_98119</th>             <td>-3.819e+04</td> <td> 8.21e+04</td> <td>   -0.465</td> <td> 0.642</td> <td>-1.99e+05</td> <td> 1.23e+05</td>\n",
       "</tr>\n",
       "<tr>\n",
       "  <th>zip_98122</th>             <td>-1.352e+05</td> <td>  7.9e+04</td> <td>   -1.711</td> <td> 0.087</td> <td> -2.9e+05</td> <td> 1.97e+04</td>\n",
       "</tr>\n",
       "<tr>\n",
       "  <th>zip_98125</th>             <td>-2.814e+05</td> <td> 8.07e+04</td> <td>   -3.487</td> <td> 0.000</td> <td> -4.4e+05</td> <td>-1.23e+05</td>\n",
       "</tr>\n",
       "<tr>\n",
       "  <th>zip_98126</th>             <td>-2.556e+05</td> <td> 8.12e+04</td> <td>   -3.147</td> <td> 0.002</td> <td>-4.15e+05</td> <td>-9.64e+04</td>\n",
       "</tr>\n",
       "<tr>\n",
       "  <th>zip_98133</th>             <td>-3.311e+05</td> <td> 8.25e+04</td> <td>   -4.015</td> <td> 0.000</td> <td>-4.93e+05</td> <td>-1.69e+05</td>\n",
       "</tr>\n",
       "<tr>\n",
       "  <th>zip_98136</th>             <td>-2.026e+05</td> <td> 8.17e+04</td> <td>   -2.479</td> <td> 0.013</td> <td>-3.63e+05</td> <td>-4.24e+04</td>\n",
       "</tr>\n",
       "<tr>\n",
       "  <th>zip_98144</th>             <td>-2.036e+05</td> <td> 7.87e+04</td> <td>   -2.587</td> <td> 0.010</td> <td>-3.58e+05</td> <td>-4.93e+04</td>\n",
       "</tr>\n",
       "<tr>\n",
       "  <th>zip_98146</th>             <td>-3.449e+05</td> <td> 8.03e+04</td> <td>   -4.295</td> <td> 0.000</td> <td>-5.02e+05</td> <td>-1.88e+05</td>\n",
       "</tr>\n",
       "<tr>\n",
       "  <th>zip_98148</th>             <td>-3.951e+05</td> <td> 7.96e+04</td> <td>   -4.963</td> <td> 0.000</td> <td>-5.51e+05</td> <td>-2.39e+05</td>\n",
       "</tr>\n",
       "<tr>\n",
       "  <th>zip_98155</th>             <td>-3.492e+05</td> <td> 8.14e+04</td> <td>   -4.289</td> <td> 0.000</td> <td>-5.09e+05</td> <td> -1.9e+05</td>\n",
       "</tr>\n",
       "<tr>\n",
       "  <th>zip_98166</th>             <td>-3.555e+05</td> <td> 7.97e+04</td> <td>   -4.461</td> <td> 0.000</td> <td>-5.12e+05</td> <td>-1.99e+05</td>\n",
       "</tr>\n",
       "<tr>\n",
       "  <th>zip_98168</th>             <td>-3.926e+05</td> <td> 7.83e+04</td> <td>   -5.014</td> <td> 0.000</td> <td>-5.46e+05</td> <td>-2.39e+05</td>\n",
       "</tr>\n",
       "<tr>\n",
       "  <th>zip_98177</th>             <td>-2.869e+05</td> <td> 8.36e+04</td> <td>   -3.430</td> <td> 0.001</td> <td>-4.51e+05</td> <td>-1.23e+05</td>\n",
       "</tr>\n",
       "<tr>\n",
       "  <th>zip_98178</th>             <td>-3.877e+05</td> <td>  7.6e+04</td> <td>   -5.104</td> <td> 0.000</td> <td>-5.37e+05</td> <td>-2.39e+05</td>\n",
       "</tr>\n",
       "<tr>\n",
       "  <th>zip_98188</th>             <td>-4.095e+05</td> <td> 7.71e+04</td> <td>   -5.311</td> <td> 0.000</td> <td>-5.61e+05</td> <td>-2.58e+05</td>\n",
       "</tr>\n",
       "<tr>\n",
       "  <th>zip_98198</th>             <td>-4.185e+05</td> <td> 7.78e+04</td> <td>   -5.382</td> <td> 0.000</td> <td>-5.71e+05</td> <td>-2.66e+05</td>\n",
       "</tr>\n",
       "<tr>\n",
       "  <th>zip_98199</th>             <td>-1.029e+05</td> <td> 8.33e+04</td> <td>   -1.235</td> <td> 0.217</td> <td>-2.66e+05</td> <td> 6.04e+04</td>\n",
       "</tr>\n",
       "</table>\n",
       "<table class=\"simpletable\">\n",
       "<tr>\n",
       "  <th>Omnibus:</th>       <td>4678.410</td> <th>  Durbin-Watson:     </th> <td>   1.968</td> \n",
       "</tr>\n",
       "<tr>\n",
       "  <th>Prob(Omnibus):</th>  <td> 0.000</td>  <th>  Jarque-Bera (JB):  </th> <td>26027.932</td>\n",
       "</tr>\n",
       "<tr>\n",
       "  <th>Skew:</th>           <td> 1.109</td>  <th>  Prob(JB):          </th> <td>    0.00</td> \n",
       "</tr>\n",
       "<tr>\n",
       "  <th>Kurtosis:</th>       <td> 8.387</td>  <th>  Cond. No.          </th> <td>1.56e+19</td> \n",
       "</tr>\n",
       "</table><br/><br/>Notes:<br/>[1] Standard Errors assume that the covariance matrix of the errors is correctly specified.<br/>[2] The smallest eigenvalue is 2.96e-28. This might indicate that there are<br/>strong multicollinearity problems or that the design matrix is singular."
      ],
      "text/plain": [
       "<class 'statsmodels.iolib.summary.Summary'>\n",
       "\"\"\"\n",
       "                            OLS Regression Results                            \n",
       "==============================================================================\n",
       "Dep. Variable:                  price   R-squared:                       0.819\n",
       "Model:                            OLS   Adj. R-squared:                  0.818\n",
       "Method:                 Least Squares   F-statistic:                     996.4\n",
       "Date:                Mon, 11 Jan 2021   Prob (F-statistic):               0.00\n",
       "Time:                        15:50:38   Log-Likelihood:            -2.3789e+05\n",
       "No. Observations:               18407   AIC:                         4.759e+05\n",
       "Df Residuals:                   18323   BIC:                         4.766e+05\n",
       "Df Model:                          83                                         \n",
       "Covariance Type:            nonrobust                                         \n",
       "=========================================================================================\n",
       "                            coef    std err          t      P>|t|      [0.025      0.975]\n",
       "-----------------------------------------------------------------------------------------\n",
       "Intercept             -1.832e+07   5.25e+06     -3.492      0.000   -2.86e+07   -8.04e+06\n",
       "bedrooms              -4864.1957   1179.879     -4.123      0.000   -7176.869   -2551.523\n",
       "bathrooms               2.36e+04   1901.518     12.413      0.000    1.99e+04    2.73e+04\n",
       "floors                -1154.2622   1980.329     -0.583      0.560   -5035.892    2727.368\n",
       "waterfront             2.109e-06   6.04e-07      3.492      0.000    9.25e-07    3.29e-06\n",
       "view                   3.557e+04   1922.962     18.498      0.000    3.18e+04    3.93e+04\n",
       "condition              2.116e+04   1305.958     16.202      0.000    1.86e+04    2.37e+04\n",
       "grade                  6.034e+04   1254.420     48.103      0.000    5.79e+04    6.28e+04\n",
       "yr_built               -542.0145     44.801    -12.098      0.000    -629.829    -454.200\n",
       "been_renovated        -9.385e-07   2.69e-07     -3.490      0.000   -1.47e-06   -4.11e-07\n",
       "lat                    1.338e+05   4.44e+04      3.012      0.003    4.67e+04    2.21e+05\n",
       "long                  -1.081e+05   4.23e+04     -2.559      0.010   -1.91e+05   -2.53e+04\n",
       "lognorm_sqft_lot       1.948e+05   1.42e+04     13.735      0.000    1.67e+05    2.23e+05\n",
       "lognorm_sqft_lot15    -2.705e+04   1.37e+04     -1.970      0.049    -5.4e+04    -131.334\n",
       "lognorm_sqft_living15  1.076e+05   9039.361     11.908      0.000    8.99e+04    1.25e+05\n",
       "lognorm_sqft_basement -3.543e+04   2341.515    -15.129      0.000      -4e+04   -3.08e+04\n",
       "lognorm_sqft_living      4.7e+05   1.13e+04     41.427      0.000    4.48e+05    4.92e+05\n",
       "zip_98001              -4.37e+05   7.55e+04     -5.788      0.000   -5.85e+05   -2.89e+05\n",
       "zip_98002             -3.985e+05   7.32e+04     -5.445      0.000   -5.42e+05   -2.55e+05\n",
       "zip_98003             -4.453e+05   7.71e+04     -5.777      0.000   -5.96e+05   -2.94e+05\n",
       "zip_98004              1.425e+05   7.57e+04      1.883      0.060   -5836.020    2.91e+05\n",
       "zip_98005             -1.349e+05   7.45e+04     -1.812      0.070   -2.81e+05     1.1e+04\n",
       "zip_98006             -1.841e+05   7.28e+04     -2.529      0.011   -3.27e+05   -4.14e+04\n",
       "zip_98007             -2.081e+05   7.35e+04     -2.831      0.005   -3.52e+05    -6.4e+04\n",
       "zip_98008             -2.218e+05   7.23e+04     -3.066      0.002   -3.64e+05      -8e+04\n",
       "zip_98010             -3.233e+05    6.6e+04     -4.897      0.000   -4.53e+05   -1.94e+05\n",
       "zip_98011             -3.406e+05   7.78e+04     -4.378      0.000   -4.93e+05   -1.88e+05\n",
       "zip_98014             -3.278e+05   6.68e+04     -4.905      0.000   -4.59e+05   -1.97e+05\n",
       "zip_98019             -3.676e+05   6.91e+04     -5.316      0.000   -5.03e+05   -2.32e+05\n",
       "zip_98022             -3.884e+05   6.41e+04     -6.061      0.000   -5.14e+05   -2.63e+05\n",
       "zip_98023             -4.636e+05   7.92e+04     -5.855      0.000   -6.19e+05   -3.08e+05\n",
       "zip_98024             -2.831e+05   6.51e+04     -4.349      0.000   -4.11e+05   -1.56e+05\n",
       "zip_98027             -2.364e+05   6.85e+04     -3.453      0.001   -3.71e+05   -1.02e+05\n",
       "zip_98028             -3.586e+05   7.93e+04     -4.520      0.000   -5.14e+05   -2.03e+05\n",
       "zip_98029             -2.137e+05   6.73e+04     -3.176      0.001   -3.46e+05   -8.18e+04\n",
       "zip_98030             -4.308e+05   7.26e+04     -5.932      0.000   -5.73e+05   -2.88e+05\n",
       "zip_98031             -4.302e+05   7.28e+04     -5.907      0.000   -5.73e+05   -2.87e+05\n",
       "zip_98032             -4.405e+05   7.65e+04     -5.761      0.000    -5.9e+05   -2.91e+05\n",
       "zip_98033             -1.178e+05   7.59e+04     -1.552      0.121   -2.66e+05     3.1e+04\n",
       "zip_98034             -2.919e+05   7.72e+04     -3.781      0.000   -4.43e+05   -1.41e+05\n",
       "zip_98038             -3.807e+05   6.62e+04     -5.750      0.000    -5.1e+05   -2.51e+05\n",
       "zip_98039              3.112e+05   8.11e+04      3.839      0.000    1.52e+05     4.7e+05\n",
       "zip_98040              2.769e+04   7.59e+04      0.365      0.715   -1.21e+05    1.76e+05\n",
       "zip_98042             -4.178e+05   6.95e+04     -6.009      0.000   -5.54e+05   -2.81e+05\n",
       "zip_98045              -3.35e+05   6.62e+04     -5.064      0.000   -4.65e+05   -2.05e+05\n",
       "zip_98052             -2.129e+05   7.34e+04     -2.902      0.004   -3.57e+05   -6.91e+04\n",
       "zip_98053             -2.134e+05   7.01e+04     -3.045      0.002   -3.51e+05    -7.6e+04\n",
       "zip_98055             -3.958e+05   7.38e+04     -5.366      0.000    -5.4e+05   -2.51e+05\n",
       "zip_98056             -3.385e+05   7.35e+04     -4.608      0.000   -4.83e+05   -1.95e+05\n",
       "zip_98058             -4.079e+05   7.15e+04     -5.703      0.000   -5.48e+05   -2.68e+05\n",
       "zip_98059              -3.38e+05   7.17e+04     -4.714      0.000   -4.79e+05   -1.97e+05\n",
       "zip_98065             -2.793e+05   6.18e+04     -4.516      0.000      -4e+05   -1.58e+05\n",
       "zip_98070             -3.607e+05   8.51e+04     -4.239      0.000   -5.27e+05   -1.94e+05\n",
       "zip_98072             -3.116e+05   7.53e+04     -4.136      0.000   -4.59e+05   -1.64e+05\n",
       "zip_98074             -2.405e+05   6.98e+04     -3.446      0.001   -3.77e+05   -1.04e+05\n",
       "zip_98075              -2.09e+05   6.84e+04     -3.054      0.002   -3.43e+05   -7.49e+04\n",
       "zip_98077             -3.157e+05   7.31e+04     -4.321      0.000   -4.59e+05   -1.73e+05\n",
       "zip_98092             -4.512e+05   7.16e+04     -6.299      0.000   -5.92e+05   -3.11e+05\n",
       "zip_98102             -1.212e+04   8.05e+04     -0.151      0.880    -1.7e+05    1.46e+05\n",
       "zip_98103             -1.431e+05   8.14e+04     -1.757      0.079   -3.03e+05    1.65e+04\n",
       "zip_98105             -3.588e+04   7.97e+04     -0.450      0.653   -1.92e+05     1.2e+05\n",
       "zip_98106             -3.171e+05   8.05e+04     -3.940      0.000   -4.75e+05   -1.59e+05\n",
       "zip_98107             -1.488e+05   8.27e+04     -1.800      0.072   -3.11e+05    1.33e+04\n",
       "zip_98108             -3.277e+05   7.88e+04     -4.160      0.000   -4.82e+05   -1.73e+05\n",
       "zip_98109               464.5828   8.16e+04      0.006      0.995   -1.59e+05     1.6e+05\n",
       "zip_98112              6.692e+04   7.93e+04      0.844      0.399   -8.85e+04    2.22e+05\n",
       "zip_98115             -1.383e+05      8e+04     -1.728      0.084   -2.95e+05    1.86e+04\n",
       "zip_98116             -1.705e+05   8.22e+04     -2.073      0.038   -3.32e+05   -9310.301\n",
       "zip_98117             -1.573e+05   8.29e+04     -1.897      0.058    -3.2e+05    5245.563\n",
       "zip_98118             -2.738e+05   7.73e+04     -3.542      0.000   -4.25e+05   -1.22e+05\n",
       "zip_98119             -3.819e+04   8.21e+04     -0.465      0.642   -1.99e+05    1.23e+05\n",
       "zip_98122             -1.352e+05    7.9e+04     -1.711      0.087    -2.9e+05    1.97e+04\n",
       "zip_98125             -2.814e+05   8.07e+04     -3.487      0.000    -4.4e+05   -1.23e+05\n",
       "zip_98126             -2.556e+05   8.12e+04     -3.147      0.002   -4.15e+05   -9.64e+04\n",
       "zip_98133             -3.311e+05   8.25e+04     -4.015      0.000   -4.93e+05   -1.69e+05\n",
       "zip_98136             -2.026e+05   8.17e+04     -2.479      0.013   -3.63e+05   -4.24e+04\n",
       "zip_98144             -2.036e+05   7.87e+04     -2.587      0.010   -3.58e+05   -4.93e+04\n",
       "zip_98146             -3.449e+05   8.03e+04     -4.295      0.000   -5.02e+05   -1.88e+05\n",
       "zip_98148             -3.951e+05   7.96e+04     -4.963      0.000   -5.51e+05   -2.39e+05\n",
       "zip_98155             -3.492e+05   8.14e+04     -4.289      0.000   -5.09e+05    -1.9e+05\n",
       "zip_98166             -3.555e+05   7.97e+04     -4.461      0.000   -5.12e+05   -1.99e+05\n",
       "zip_98168             -3.926e+05   7.83e+04     -5.014      0.000   -5.46e+05   -2.39e+05\n",
       "zip_98177             -2.869e+05   8.36e+04     -3.430      0.001   -4.51e+05   -1.23e+05\n",
       "zip_98178             -3.877e+05    7.6e+04     -5.104      0.000   -5.37e+05   -2.39e+05\n",
       "zip_98188             -4.095e+05   7.71e+04     -5.311      0.000   -5.61e+05   -2.58e+05\n",
       "zip_98198             -4.185e+05   7.78e+04     -5.382      0.000   -5.71e+05   -2.66e+05\n",
       "zip_98199             -1.029e+05   8.33e+04     -1.235      0.217   -2.66e+05    6.04e+04\n",
       "==============================================================================\n",
       "Omnibus:                     4678.410   Durbin-Watson:                   1.968\n",
       "Prob(Omnibus):                  0.000   Jarque-Bera (JB):            26027.932\n",
       "Skew:                           1.109   Prob(JB):                         0.00\n",
       "Kurtosis:                       8.387   Cond. No.                     1.56e+19\n",
       "==============================================================================\n",
       "\n",
       "Notes:\n",
       "[1] Standard Errors assume that the covariance matrix of the errors is correctly specified.\n",
       "[2] The smallest eigenvalue is 2.96e-28. This might indicate that there are\n",
       "strong multicollinearity problems or that the design matrix is singular.\n",
       "\"\"\""
      ]
     },
     "execution_count": 160,
     "metadata": {},
     "output_type": "execute_result"
    }
   ],
   "source": [
    "model8 = ols(formula=f , data = lognormzip).fit()\n",
    "model8.summary()"
   ]
  },
  {
   "cell_type": "code",
   "execution_count": 164,
   "metadata": {
    "ExecuteTime": {
     "end_time": "2021-01-11T20:52:18.223107Z",
     "start_time": "2021-01-11T20:52:17.885044Z"
    }
   },
   "outputs": [
    {
     "name": "stdout",
     "output_type": "stream",
     "text": [
      "Train MSE: 9852455954.933586\n",
      "Test MSE: 9825101683.23399\n",
      "RMSE Train: 99259.53835744747\n",
      "RMSE Test: 99121.65093073253\n"
     ]
    },
    {
     "data": {
      "image/png": "[encoded data removed]",
      "text/plain": [
       "<Figure size 432x288 with 1 Axes>"
      ]
     },
     "execution_count": 164,
     "metadata": {},
     "output_type": "execute_result"
    },
    {
     "data": {
      "image/png": "[encoded data removed]",
      "text/plain": [
       "<Figure size 432x288 with 1 Axes>"
      ]
     },
     "metadata": {
      "needs_background": "light"
     },
     "output_type": "display_data"
    }
   ],
   "source": [
    "data = lognormzip.copy()\n",
    "\n",
    "y = data['price']\n",
    "X = data.drop(['price', 'id','month','log_sqft_lot','log_sqft_lot15','log_sqft_living15','log_sqft_basement','log_sqft_living','zipcode'], axis = 1)\n",
    "\n",
    "X_train, X_test, y_train, y_test = train_test_split(X, y, test_size = 0.2)\n",
    "\n",
    "len(X_test)\n",
    "\n",
    "linreg = LinearRegression()\n",
    "linreg.fit(X_train, y_train)\n",
    "\n",
    "y_hat_train = linreg.predict(X_train)\n",
    "y_hat_test = linreg.predict(X_test)\n",
    "\n",
    "\n",
    "mse_train = mean_squared_error(y_train, y_hat_train)\n",
    "mse_test = mean_squared_error(y_test, y_hat_test)\n",
    "\n",
    "print('Train MSE:', mse_train)\n",
    "print('Test MSE:', mse_test)\n",
    "\n",
    "print('RMSE Train:', np.sqrt(mse_train))\n",
    "print('RMSE Test:', np.sqrt(mse_test))\n",
    "\n",
    "r2_score(y_test, y_hat_test)\n",
    "\n",
    "residuals = (y_test - y_hat_test)\n",
    "\n",
    "statsmodels.graphics.gofplots.qqplot(residuals, line = \"r\")"
   ]
  },
  {
   "cell_type": "code",
   "execution_count": 1,
   "metadata": {
    "ExecuteTime": {
     "end_time": "2021-01-12T04:19:36.793823Z",
     "start_time": "2021-01-12T04:19:36.594362Z"
    }
   },
   "outputs": [
    {
     "ename": "NameError",
     "evalue": "name 'plt' is not defined",
     "output_type": "error",
     "traceback": [
      "\u001b[1;31m---------------------------------------------------------------------------\u001b[0m",
      "\u001b[1;31mNameError\u001b[0m                                 Traceback (most recent call last)",
      "\u001b[1;32m<ipython-input-1-ac7e05b35af1>\u001b[0m in \u001b[0;36m<module>\u001b[1;34m\u001b[0m\n\u001b[1;32m----> 1\u001b[1;33m \u001b[0mplt\u001b[0m\u001b[1;33m.\u001b[0m\u001b[0mfigure\u001b[0m\u001b[1;33m(\u001b[0m\u001b[0mfigsize\u001b[0m\u001b[1;33m=\u001b[0m\u001b[1;33m(\u001b[0m\u001b[1;36m8\u001b[0m\u001b[1;33m,\u001b[0m\u001b[1;36m10\u001b[0m\u001b[1;33m)\u001b[0m\u001b[1;33m)\u001b[0m\u001b[1;33m\u001b[0m\u001b[1;33m\u001b[0m\u001b[0m\n\u001b[0m\u001b[0;32m      2\u001b[0m \u001b[0msns\u001b[0m\u001b[1;33m.\u001b[0m\u001b[0mscatterplot\u001b[0m\u001b[1;33m(\u001b[0m\u001b[0mx\u001b[0m\u001b[1;33m=\u001b[0m\u001b[1;34m'long'\u001b[0m\u001b[1;33m,\u001b[0m \u001b[0my\u001b[0m\u001b[1;33m=\u001b[0m\u001b[1;34m'lat'\u001b[0m\u001b[1;33m,\u001b[0m \u001b[0mhue\u001b[0m \u001b[1;33m=\u001b[0m \u001b[1;34m'zipcode'\u001b[0m\u001b[1;33m,\u001b[0m \u001b[0mdata\u001b[0m\u001b[1;33m=\u001b[0m\u001b[0mdf\u001b[0m\u001b[1;33m,\u001b[0m \u001b[0mpalette\u001b[0m\u001b[1;33m=\u001b[0m\u001b[1;34m'Paired'\u001b[0m\u001b[1;33m)\u001b[0m\u001b[1;33m\u001b[0m\u001b[1;33m\u001b[0m\u001b[0m\n",
      "\u001b[1;31mNameError\u001b[0m: name 'plt' is not defined"
     ]
    }
   ],
   "source": [
    "plt.figure(figsize=(8,10))\n",
    "sns.scatterplot(x='long', y='lat', hue = 'zipcode', data=df, palette='Paired')"
   ]
  },
  {
   "cell_type": "code",
   "execution_count": null,
   "metadata": {},
   "outputs": [],
   "source": []
  },
  {
   "cell_type": "code",
   "execution_count": null,
   "metadata": {},
   "outputs": [],
   "source": []
  },
  {
   "cell_type": "code",
   "execution_count": null,
   "metadata": {},
   "outputs": [],
   "source": []
  },
  {
   "cell_type": "code",
   "execution_count": null,
   "metadata": {},
   "outputs": [],
   "source": []
  },
  {
   "cell_type": "markdown",
   "metadata": {},
   "source": [
    "For Waterfront homes:\n",
    "\n",
    "Average price of a home is 1,717,215\n",
    "\n",
    "Std Dev of a house is 1,145,384\n",
    "\n"
   ]
  },
  {
   "cell_type": "code",
   "execution_count": 90,
   "metadata": {
    "ExecuteTime": {
     "end_time": "2021-01-08T18:26:22.332386Z",
     "start_time": "2021-01-08T18:26:22.319097Z"
    }
   },
   "outputs": [
    {
     "name": "stdout",
     "output_type": "stream",
     "text": [
      "<class 'pandas.core.frame.DataFrame'>\n",
      "Int64Index: 21534 entries, 0 to 21596\n",
      "Data columns (total 21 columns):\n",
      " #   Column         Non-Null Count  Dtype         \n",
      "---  ------         --------------  -----         \n",
      " 0   id             21534 non-null  int64         \n",
      " 1   date           21534 non-null  datetime64[ns]\n",
      " 2   price          21534 non-null  float64       \n",
      " 3   bedrooms       21534 non-null  int64         \n",
      " 4   bathrooms      21534 non-null  float64       \n",
      " 5   sqft_living    21534 non-null  int64         \n",
      " 6   sqft_lot       21534 non-null  int64         \n",
      " 7   floors         21534 non-null  float64       \n",
      " 8   waterfront     21534 non-null  float64       \n",
      " 9   view           21534 non-null  float64       \n",
      " 10  condition      21534 non-null  int64         \n",
      " 11  grade          21534 non-null  int64         \n",
      " 12  sqft_basement  21534 non-null  int64         \n",
      " 13  yr_built       21534 non-null  int64         \n",
      " 14  yr_renovated   21534 non-null  float64       \n",
      " 15  zipcode        21534 non-null  int64         \n",
      " 16  lat            21534 non-null  float64       \n",
      " 17  long           21534 non-null  float64       \n",
      " 18  sqft_living15  21534 non-null  int64         \n",
      " 19  sqft_lot15     21534 non-null  int64         \n",
      " 20  month          21534 non-null  int64         \n",
      "dtypes: datetime64[ns](1), float64(8), int64(12)\n",
      "memory usage: 3.6 MB\n"
     ]
    }
   ],
   "source": [
    "df.info()"
   ]
  },
  {
   "cell_type": "markdown",
   "metadata": {},
   "source": [
    "## Model With Z-Score outliers dropped"
   ]
  },
  {
   "cell_type": "code",
   "execution_count": 92,
   "metadata": {
    "ExecuteTime": {
     "end_time": "2021-01-08T18:27:42.756537Z",
     "start_time": "2021-01-08T18:27:42.746617Z"
    }
   },
   "outputs": [
    {
     "name": "stdout",
     "output_type": "stream",
     "text": [
      "<class 'pandas.core.frame.DataFrame'>\n",
      "Int64Index: 21534 entries, 0 to 21596\n",
      "Data columns (total 20 columns):\n",
      " #   Column         Non-Null Count  Dtype  \n",
      "---  ------         --------------  -----  \n",
      " 0   id             21534 non-null  int64  \n",
      " 1   price          21534 non-null  float64\n",
      " 2   bedrooms       21534 non-null  int64  \n",
      " 3   bathrooms      21534 non-null  float64\n",
      " 4   sqft_living    21534 non-null  int64  \n",
      " 5   sqft_lot       21534 non-null  int64  \n",
      " 6   floors         21534 non-null  float64\n",
      " 7   waterfront     21534 non-null  float64\n",
      " 8   view           21534 non-null  float64\n",
      " 9   condition      21534 non-null  int64  \n",
      " 10  grade          21534 non-null  int64  \n",
      " 11  sqft_basement  21534 non-null  int64  \n",
      " 12  yr_built       21534 non-null  int64  \n",
      " 13  yr_renovated   21534 non-null  float64\n",
      " 14  zipcode        21534 non-null  int64  \n",
      " 15  lat            21534 non-null  float64\n",
      " 16  long           21534 non-null  float64\n",
      " 17  sqft_living15  21534 non-null  int64  \n",
      " 18  sqft_lot15     21534 non-null  int64  \n",
      " 19  month          21534 non-null  int64  \n",
      "dtypes: float64(8), int64(12)\n",
      "memory usage: 3.5 MB\n"
     ]
    }
   ],
   "source": [
    "df_zscore.info()"
   ]
  },
  {
   "cell_type": "code",
   "execution_count": 93,
   "metadata": {
    "ExecuteTime": {
     "end_time": "2021-01-08T18:27:57.078750Z",
     "start_time": "2021-01-08T18:27:57.050825Z"
    }
   },
   "outputs": [],
   "source": []
  },
  {
   "cell_type": "code",
   "execution_count": null,
   "metadata": {},
   "outputs": [],
   "source": [
    "#group months into seasons or quarters to run together\n",
    "#could look into when in the month \n",
    "np"
   ]
  },
  {
   "cell_type": "code",
   "execution_count": null,
   "metadata": {},
   "outputs": [],
   "source": []
  },
  {
   "cell_type": "code",
   "execution_count": null,
   "metadata": {},
   "outputs": [],
   "source": []
  },
  {
   "cell_type": "code",
   "execution_count": null,
   "metadata": {},
   "outputs": [],
   "source": [
    "#repeat distribution for waterfront variable as well with random choice "
   ]
  },
  {
   "cell_type": "code",
   "execution_count": 94,
   "metadata": {
    "ExecuteTime": {
     "end_time": "2021-01-08T05:45:05.191424Z",
     "start_time": "2021-01-08T05:45:05.182447Z"
    }
   },
   "outputs": [
    {
     "data": {
      "text/html": [
       "<div>\n",
       "<style scoped>\n",
       "    .dataframe tbody tr th:only-of-type {\n",
       "        vertical-align: middle;\n",
       "    }\n",
       "\n",
       "    .dataframe tbody tr th {\n",
       "        vertical-align: top;\n",
       "    }\n",
       "\n",
       "    .dataframe thead th {\n",
       "        text-align: right;\n",
       "    }\n",
       "</style>\n",
       "<table border=\"1\" class=\"dataframe\">\n",
       "  <thead>\n",
       "    <tr style=\"text-align: right;\">\n",
       "      <th></th>\n",
       "      <th>lat</th>\n",
       "      <th>long</th>\n",
       "    </tr>\n",
       "  </thead>\n",
       "  <tbody>\n",
       "    <tr>\n",
       "      <th>0</th>\n",
       "      <td>47.5112</td>\n",
       "      <td>-122.257</td>\n",
       "    </tr>\n",
       "    <tr>\n",
       "      <th>10</th>\n",
       "      <td>47.6007</td>\n",
       "      <td>-122.145</td>\n",
       "    </tr>\n",
       "    <tr>\n",
       "      <th>23</th>\n",
       "      <td>47.3533</td>\n",
       "      <td>-122.166</td>\n",
       "    </tr>\n",
       "    <tr>\n",
       "      <th>40</th>\n",
       "      <td>47.6145</td>\n",
       "      <td>-122.027</td>\n",
       "    </tr>\n",
       "    <tr>\n",
       "      <th>55</th>\n",
       "      <td>47.6597</td>\n",
       "      <td>-122.290</td>\n",
       "    </tr>\n",
       "    <tr>\n",
       "      <th>...</th>\n",
       "      <td>...</td>\n",
       "      <td>...</td>\n",
       "    </tr>\n",
       "    <tr>\n",
       "      <th>21578</th>\n",
       "      <td>47.3749</td>\n",
       "      <td>-122.107</td>\n",
       "    </tr>\n",
       "    <tr>\n",
       "      <th>21582</th>\n",
       "      <td>47.2931</td>\n",
       "      <td>-122.264</td>\n",
       "    </tr>\n",
       "    <tr>\n",
       "      <th>21586</th>\n",
       "      <td>47.3095</td>\n",
       "      <td>-122.002</td>\n",
       "    </tr>\n",
       "    <tr>\n",
       "      <th>21587</th>\n",
       "      <td>47.5389</td>\n",
       "      <td>-121.881</td>\n",
       "    </tr>\n",
       "    <tr>\n",
       "      <th>21595</th>\n",
       "      <td>47.5345</td>\n",
       "      <td>-122.069</td>\n",
       "    </tr>\n",
       "  </tbody>\n",
       "</table>\n",
       "<p>2376 rows × 2 columns</p>\n",
       "</div>"
      ],
      "text/plain": [
       "           lat     long\n",
       "0      47.5112 -122.257\n",
       "10     47.6007 -122.145\n",
       "23     47.3533 -122.166\n",
       "40     47.6145 -122.027\n",
       "55     47.6597 -122.290\n",
       "...        ...      ...\n",
       "21578  47.3749 -122.107\n",
       "21582  47.2931 -122.264\n",
       "21586  47.3095 -122.002\n",
       "21587  47.5389 -121.881\n",
       "21595  47.5345 -122.069\n",
       "\n",
       "[2376 rows x 2 columns]"
      ]
     },
     "execution_count": 94,
     "metadata": {},
     "output_type": "execute_result"
    }
   ],
   "source": [
    "locations = nawater[['lat', 'long']]\n",
    "locationlist = locations.values.tolist()\n",
    "locations\n"
   ]
  },
  {
   "cell_type": "code",
   "execution_count": 95,
   "metadata": {
    "ExecuteTime": {
     "end_time": "2021-01-08T05:45:28.832828Z",
     "start_time": "2021-01-08T05:45:28.825847Z"
    }
   },
   "outputs": [
    {
     "data": {
      "text/plain": [
       "lat      47.561465\n",
       "long   -122.213497\n",
       "dtype: float64"
      ]
     },
     "execution_count": 95,
     "metadata": {},
     "output_type": "execute_result"
    }
   ],
   "source": [
    "locations.mean()"
   ]
  },
  {
   "cell_type": "markdown",
   "metadata": {},
   "source": [
    "#waterfront`"
   ]
  },
  {
   "cell_type": "code",
   "execution_count": 102,
   "metadata": {
    "ExecuteTime": {
     "end_time": "2021-01-08T05:58:12.923658Z",
     "start_time": "2021-01-08T05:58:11.695029Z"
    }
   },
   "outputs": [
    {
     "ename": "NameError",
     "evalue": "name 'dff' is not defined",
     "output_type": "error",
     "traceback": [
      "\u001b[1;31m---------------------------------------------------------------------------\u001b[0m",
      "\u001b[1;31mNameError\u001b[0m                                 Traceback (most recent call last)",
      "\u001b[1;32m<ipython-input-102-c5afc7d91912>\u001b[0m in \u001b[0;36m<module>\u001b[1;34m\u001b[0m\n\u001b[0;32m      3\u001b[0m     \u001b[0mfolium\u001b[0m\u001b[1;33m.\u001b[0m\u001b[0mMarker\u001b[0m\u001b[1;33m(\u001b[0m\u001b[0mlocationlist\u001b[0m\u001b[1;33m[\u001b[0m\u001b[0mpoint\u001b[0m\u001b[1;33m]\u001b[0m\u001b[1;33m,\u001b[0m \u001b[0mpopup\u001b[0m\u001b[1;33m=\u001b[0m\u001b[0mnawater\u001b[0m\u001b[1;33m[\u001b[0m\u001b[1;34m'id'\u001b[0m\u001b[1;33m]\u001b[0m\u001b[1;33m)\u001b[0m\u001b[1;33m.\u001b[0m\u001b[0madd_to\u001b[0m\u001b[1;33m(\u001b[0m\u001b[0mmap\u001b[0m\u001b[1;33m)\u001b[0m\u001b[1;33m\u001b[0m\u001b[1;33m\u001b[0m\u001b[0m\n\u001b[0;32m      4\u001b[0m \u001b[0mmap\u001b[0m\u001b[1;33m\u001b[0m\u001b[1;33m\u001b[0m\u001b[0m\n\u001b[1;32m----> 5\u001b[1;33m \u001b[0mdff\u001b[0m\u001b[1;33m\u001b[0m\u001b[1;33m\u001b[0m\u001b[0m\n\u001b[0m",
      "\u001b[1;31mNameError\u001b[0m: name 'dff' is not defined"
     ]
    }
   ],
   "source": [
    "map = folium.Map(location=[47.5614, -122.257], zoom_start=12)\n",
    "for point in range(0, len(locationlist)):\n",
    "    folium.Marker(locationlist[point], popup=nawater['id']).add_to(map)\n",
    "map\n",
    "dff\n"
   ]
  },
  {
   "cell_type": "code",
   "execution_count": 43,
   "metadata": {
    "ExecuteTime": {
     "end_time": "2021-01-07T19:06:02.945165Z",
     "start_time": "2021-01-07T19:06:02.938183Z"
    }
   },
   "outputs": [
    {
     "data": {
      "text/plain": [
       "177"
      ]
     },
     "execution_count": 43,
     "metadata": {},
     "output_type": "execute_result"
    }
   ],
   "source": [
    "df.id.duplicated().sum()"
   ]
  },
  {
   "cell_type": "code",
   "execution_count": 40,
   "metadata": {
    "ExecuteTime": {
     "end_time": "2021-01-07T18:52:05.702394Z",
     "start_time": "2021-01-07T18:52:05.697407Z"
    }
   },
   "outputs": [],
   "source": [
    "resold = df[df.id.duplicated(keep=False)].sort_values('id')"
   ]
  },
  {
   "cell_type": "code",
   "execution_count": null,
   "metadata": {},
   "outputs": [],
   "source": [
    "resold"
   ]
  },
  {
   "cell_type": "code",
   "execution_count": null,
   "metadata": {},
   "outputs": [],
   "source": []
  },
  {
   "cell_type": "code",
   "execution_count": 98,
   "metadata": {
    "ExecuteTime": {
     "end_time": "2021-01-08T19:46:55.892363Z",
     "start_time": "2021-01-08T19:46:55.645234Z"
    }
   },
   "outputs": [],
   "source": [
    "import plotly.express as px"
   ]
  },
  {
   "cell_type": "code",
   "execution_count": null,
   "metadata": {},
   "outputs": [],
   "source": [
    "px.bar(df, x)"
   ]
  }
 ],
 "metadata": {
  "kernelspec": {
   "display_name": "Python 3",
   "language": "python",
   "name": "python3"
  },
  "language_info": {
   "codemirror_mode": {
    "name": "ipython",
    "version": 3
   },
   "file_extension": ".py",
   "mimetype": "text/x-python",
   "name": "python",
   "nbconvert_exporter": "python",
   "pygments_lexer": "ipython3",
   "version": "3.8.5"
  },
  "latex_envs": {
   "LaTeX_envs_menu_present": true,
   "autoclose": false,
   "autocomplete": true,
   "bibliofile": "biblio.bib",
   "cite_by": "apalike",
   "current_citInitial": 1,
   "eqLabelWithNumbers": true,
   "eqNumInitial": 1,
   "hotkeys": {
    "equation": "Ctrl-E",
    "itemize": "Ctrl-I"
   },
   "labels_anchors": false,
   "latex_user_defs": false,
   "report_style_numbering": false,
   "user_envs_cfg": false
  },
  "toc": {
   "base_numbering": 1,
   "nav_menu": {},
   "number_sections": true,
   "sideBar": true,
   "skip_h1_title": false,
   "title_cell": "Table of Contents",
   "title_sidebar": "Contents",
   "toc_cell": false,
   "toc_position": {},
   "toc_section_display": true,
   "toc_window_display": false
  },
  "varInspector": {
   "cols": {
    "lenName": 16,
    "lenType": 16,
    "lenVar": 40
   },
   "kernels_config": {
    "python": {
     "delete_cmd_postfix": "",
     "delete_cmd_prefix": "del ",
     "library": "var_list.py",
     "varRefreshCmd": "print(var_dic_list())"
    },
    "r": {
     "delete_cmd_postfix": ") ",
     "delete_cmd_prefix": "rm(",
     "library": "var_list.r",
     "varRefreshCmd": "cat(var_dic_list()) "
    }
   },
   "types_to_exclude": [
    "module",
    "function",
    "builtin_function_or_method",
    "instance",
    "_Feature"
   ],
   "window_display": false
  }
 },
 "nbformat": 4,
 "nbformat_minor": 4
}
